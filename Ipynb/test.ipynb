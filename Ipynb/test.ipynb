{
 "cells": [
  {
   "cell_type": "code",
   "execution_count": null,
   "id": "79da6396",
   "metadata": {},
   "outputs": [
    {
     "name": "stderr",
     "output_type": "stream",
     "text": [
      "c:\\Users\\ken05\\Documents\\others\\HORSE_RACING\\.env\\Lib\\site-packages\\tqdm\\auto.py:21: TqdmWarning: IProgress not found. Please update jupyter and ipywidgets. See https://ipywidgets.readthedocs.io/en/stable/user_install.html\n",
      "  from .autonotebook import tqdm as notebook_tqdm\n"
     ]
    }
   ],
   "source": [
    "import pandas as pd\n",
    "import numpy as np\n",
    "import my_modules"
   ]
  },
  {
   "cell_type": "code",
   "execution_count": 2,
   "id": "35496f85",
   "metadata": {},
   "outputs": [],
   "source": [
    "names = [\n",
    "    \"race_id\",\n",
    "    \"year\",\n",
    "    \"month\",\n",
    "    \"day\",\n",
    "    \"times\",\n",
    "    \"place\",\n",
    "    \"daily\",\n",
    "    \"race_num\",\n",
    "    \"horse\",\n",
    "    \"jockey_id\",\n",
    "    \"horse_N\",\n",
    "    \"waku_num\",\n",
    "    \"horse_num\",\n",
    "    \"class_code\",\n",
    "    \"track_code\",\n",
    "    \"corner_num\",\n",
    "    \"dist\",\n",
    "    \"state\",\n",
    "    \"weather\",\n",
    "    \"age_code\",\n",
    "    \"sex\",\n",
    "    \"age\",\n",
    "    \"basis_weight\",\n",
    "    \"blinker\",\n",
    "    \"weight\",\n",
    "    \"inc_dec\",\n",
    "    \"weight_code\",\n",
    "    \"win_odds\",\n",
    "    \"rank\",\n",
    "    \"time_diff\",\n",
    "    \"time\",\n",
    "    \"corner1_rank\",\n",
    "    \"corner2_rank\",\n",
    "    \"corner3_rank\",\n",
    "    \"corner4_rank\",\n",
    "    \"last_3F_time\",\n",
    "    \"last_3F_rank\",\n",
    "    \"Ave_3F\",\n",
    "    \"PCI\",\n",
    "    \"last_3F_time_diff\",\n",
    "    \"leg\",\n",
    "    \"pop\",\n",
    "    \"prize\",\n",
    "    \"error_code\",\n",
    "    \"father\",\n",
    "    \"mother\",\n",
    "    \"id\"\n",
    "]\n"
   ]
  },
  {
   "cell_type": "code",
   "execution_count": 3,
   "id": "b280fc01",
   "metadata": {},
   "outputs": [
    {
     "data": {
      "text/html": [
       "<div>\n",
       "<style scoped>\n",
       "    .dataframe tbody tr th:only-of-type {\n",
       "        vertical-align: middle;\n",
       "    }\n",
       "\n",
       "    .dataframe tbody tr th {\n",
       "        vertical-align: top;\n",
       "    }\n",
       "\n",
       "    .dataframe thead th {\n",
       "        text-align: right;\n",
       "    }\n",
       "</style>\n",
       "<table border=\"1\" class=\"dataframe\">\n",
       "  <thead>\n",
       "    <tr style=\"text-align: right;\">\n",
       "      <th></th>\n",
       "      <th>race_id</th>\n",
       "      <th>year</th>\n",
       "      <th>month</th>\n",
       "      <th>day</th>\n",
       "      <th>times</th>\n",
       "      <th>place</th>\n",
       "      <th>daily</th>\n",
       "      <th>race_num</th>\n",
       "      <th>horse</th>\n",
       "      <th>jockey_id</th>\n",
       "      <th>...</th>\n",
       "      <th>Ave_3F</th>\n",
       "      <th>PCI</th>\n",
       "      <th>last_3F_time_diff</th>\n",
       "      <th>leg</th>\n",
       "      <th>pop</th>\n",
       "      <th>prize</th>\n",
       "      <th>error_code</th>\n",
       "      <th>father</th>\n",
       "      <th>mother</th>\n",
       "      <th>id</th>\n",
       "    </tr>\n",
       "  </thead>\n",
       "  <tbody>\n",
       "    <tr>\n",
       "      <th>0</th>\n",
       "      <td>202307220101010101</td>\n",
       "      <td>23</td>\n",
       "      <td>7</td>\n",
       "      <td>22</td>\n",
       "      <td>1</td>\n",
       "      <td>札幌</td>\n",
       "      <td>1</td>\n",
       "      <td>1</td>\n",
       "      <td>ウィスピースノー</td>\n",
       "      <td>1095</td>\n",
       "      <td>...</td>\n",
       "      <td>35.8</td>\n",
       "      <td>53.8</td>\n",
       "      <td>0.8</td>\n",
       "      <td>後方</td>\n",
       "      <td>5.0</td>\n",
       "      <td>55</td>\n",
       "      <td>0</td>\n",
       "      <td>ワールドエース</td>\n",
       "      <td>ハイリマイリ</td>\n",
       "      <td>2021100648</td>\n",
       "    </tr>\n",
       "    <tr>\n",
       "      <th>1</th>\n",
       "      <td>202307220101010102</td>\n",
       "      <td>23</td>\n",
       "      <td>7</td>\n",
       "      <td>22</td>\n",
       "      <td>1</td>\n",
       "      <td>札幌</td>\n",
       "      <td>1</td>\n",
       "      <td>1</td>\n",
       "      <td>ロードスタウト</td>\n",
       "      <td>1157</td>\n",
       "      <td>...</td>\n",
       "      <td>35.6</td>\n",
       "      <td>51.4</td>\n",
       "      <td>0.6</td>\n",
       "      <td>中団</td>\n",
       "      <td>7.0</td>\n",
       "      <td>0</td>\n",
       "      <td>0</td>\n",
       "      <td>ロードカナロア</td>\n",
       "      <td>フィラデルフィア</td>\n",
       "      <td>2021100159</td>\n",
       "    </tr>\n",
       "    <tr>\n",
       "      <th>2</th>\n",
       "      <td>202307220101010103</td>\n",
       "      <td>23</td>\n",
       "      <td>7</td>\n",
       "      <td>22</td>\n",
       "      <td>1</td>\n",
       "      <td>札幌</td>\n",
       "      <td>1</td>\n",
       "      <td>1</td>\n",
       "      <td>コミックガール</td>\n",
       "      <td>1197</td>\n",
       "      <td>...</td>\n",
       "      <td>35.6</td>\n",
       "      <td>50.8</td>\n",
       "      <td>0.6</td>\n",
       "      <td>中団</td>\n",
       "      <td>4.0</td>\n",
       "      <td>0</td>\n",
       "      <td>0</td>\n",
       "      <td>シルバーステート</td>\n",
       "      <td>コイクレナイ</td>\n",
       "      <td>2021100265</td>\n",
       "    </tr>\n",
       "    <tr>\n",
       "      <th>3</th>\n",
       "      <td>202307220101010104</td>\n",
       "      <td>23</td>\n",
       "      <td>7</td>\n",
       "      <td>22</td>\n",
       "      <td>1</td>\n",
       "      <td>札幌</td>\n",
       "      <td>1</td>\n",
       "      <td>1</td>\n",
       "      <td>デビルシズカチャン</td>\n",
       "      <td>5339</td>\n",
       "      <td>...</td>\n",
       "      <td>35.3</td>\n",
       "      <td>51.1</td>\n",
       "      <td>0.3</td>\n",
       "      <td>先行</td>\n",
       "      <td>3.0</td>\n",
       "      <td>83</td>\n",
       "      <td>0</td>\n",
       "      <td>ベストウォーリア</td>\n",
       "      <td>シシリアンブリーズ</td>\n",
       "      <td>2021105553</td>\n",
       "    </tr>\n",
       "    <tr>\n",
       "      <th>4</th>\n",
       "      <td>202307220101010105</td>\n",
       "      <td>23</td>\n",
       "      <td>7</td>\n",
       "      <td>22</td>\n",
       "      <td>1</td>\n",
       "      <td>札幌</td>\n",
       "      <td>1</td>\n",
       "      <td>1</td>\n",
       "      <td>サトミノキラリ</td>\n",
       "      <td>1170</td>\n",
       "      <td>...</td>\n",
       "      <td>35.2</td>\n",
       "      <td>52.6</td>\n",
       "      <td>0.2</td>\n",
       "      <td>先行</td>\n",
       "      <td>1.0</td>\n",
       "      <td>550</td>\n",
       "      <td>0</td>\n",
       "      <td>ビッグアーサー</td>\n",
       "      <td>パレード</td>\n",
       "      <td>2021101429</td>\n",
       "    </tr>\n",
       "  </tbody>\n",
       "</table>\n",
       "<p>5 rows × 47 columns</p>\n",
       "</div>"
      ],
      "text/plain": [
       "              race_id  year  month  day  times place daily  race_num  \\\n",
       "0  202307220101010101    23      7   22      1    札幌     1         1   \n",
       "1  202307220101010102    23      7   22      1    札幌     1         1   \n",
       "2  202307220101010103    23      7   22      1    札幌     1         1   \n",
       "3  202307220101010104    23      7   22      1    札幌     1         1   \n",
       "4  202307220101010105    23      7   22      1    札幌     1         1   \n",
       "\n",
       "       horse  jockey_id  ...  Ave_3F   PCI  last_3F_time_diff  leg  pop  \\\n",
       "0   ウィスピースノー       1095  ...    35.8  53.8                0.8   後方  5.0   \n",
       "1    ロードスタウト       1157  ...    35.6  51.4                0.6   中団  7.0   \n",
       "2    コミックガール       1197  ...    35.6  50.8                0.6   中団  4.0   \n",
       "3  デビルシズカチャン       5339  ...    35.3  51.1                0.3   先行  3.0   \n",
       "4    サトミノキラリ       1170  ...    35.2  52.6                0.2   先行  1.0   \n",
       "\n",
       "   prize  error_code    father     mother          id  \n",
       "0     55           0   ワールドエース     ハイリマイリ  2021100648  \n",
       "1      0           0   ロードカナロア   フィラデルフィア  2021100159  \n",
       "2      0           0  シルバーステート     コイクレナイ  2021100265  \n",
       "3     83           0  ベストウォーリア  シシリアンブリーズ  2021105553  \n",
       "4    550           0   ビッグアーサー       パレード  2021101429  \n",
       "\n",
       "[5 rows x 47 columns]"
      ]
     },
     "execution_count": 3,
     "metadata": {},
     "output_type": "execute_result"
    }
   ],
   "source": [
    "df = pd.read_csv(\"record_data_2023.csv\", encoding=\"shift-jis\", header=None, names=names)\n",
    "df.head()"
   ]
  },
  {
   "cell_type": "code",
   "execution_count": 4,
   "id": "d3ecbca1",
   "metadata": {},
   "outputs": [
    {
     "name": "stderr",
     "output_type": "stream",
     "text": [
      "c:\\Users\\ken05\\Documents\\others\\HORSE_RACING\\my_modules.py:15: SettingWithCopyWarning: \n",
      "A value is trying to be set on a copy of a slice from a DataFrame.\n",
      "Try using .loc[row_indexer,col_indexer] = value instead\n",
      "\n",
      "See the caveats in the documentation: https://pandas.pydata.org/pandas-docs/stable/user_guide/indexing.html#returning-a-view-versus-a-copy\n",
      "  df[\"id_for_fold\"] = df[\"race_id\"] // 100 # 下二桁を捨てる\n",
      "c:\\Users\\ken05\\Documents\\others\\HORSE_RACING\\my_modules.py:16: SettingWithCopyWarning: \n",
      "A value is trying to be set on a copy of a slice from a DataFrame.\n",
      "Try using .loc[row_indexer,col_indexer] = value instead\n",
      "\n",
      "See the caveats in the documentation: https://pandas.pydata.org/pandas-docs/stable/user_guide/indexing.html#returning-a-view-versus-a-copy\n",
      "  df[\"id_for_fold\"] = df[\"id_for_fold\"].astype(\"category\")\n",
      "c:\\Users\\ken05\\Documents\\others\\HORSE_RACING\\my_modules.py:35: SettingWithCopyWarning: \n",
      "A value is trying to be set on a copy of a slice from a DataFrame.\n",
      "Try using .loc[row_indexer,col_indexer] = value instead\n",
      "\n",
      "See the caveats in the documentation: https://pandas.pydata.org/pandas-docs/stable/user_guide/indexing.html#returning-a-view-versus-a-copy\n",
      "  df[\"race_type\"] = df[\"track_code\"].replace(course_type_dict)\n",
      "c:\\Users\\ken05\\Documents\\others\\HORSE_RACING\\my_modules.py:50: SettingWithCopyWarning: \n",
      "A value is trying to be set on a copy of a slice from a DataFrame.\n",
      "Try using .loc[row_indexer,col_indexer] = value instead\n",
      "\n",
      "See the caveats in the documentation: https://pandas.pydata.org/pandas-docs/stable/user_guide/indexing.html#returning-a-view-versus-a-copy\n",
      "  df[\"year\"] += 2000\n",
      "c:\\Users\\ken05\\Documents\\others\\HORSE_RACING\\my_modules.py:51: FutureWarning: Downcasting behavior in `replace` is deprecated and will be removed in a future version. To retain the old behavior, explicitly call `result.infer_objects(copy=False)`. To opt-in to the future behavior, set `pd.set_option('future.no_silent_downcasting', True)`\n",
      "  df[\"place_num\"] = df[\"place\"].replace(place_dict)\n",
      "c:\\Users\\ken05\\Documents\\others\\HORSE_RACING\\my_modules.py:51: SettingWithCopyWarning: \n",
      "A value is trying to be set on a copy of a slice from a DataFrame.\n",
      "Try using .loc[row_indexer,col_indexer] = value instead\n",
      "\n",
      "See the caveats in the documentation: https://pandas.pydata.org/pandas-docs/stable/user_guide/indexing.html#returning-a-view-versus-a-copy\n",
      "  df[\"place_num\"] = df[\"place\"].replace(place_dict)\n",
      "c:\\Users\\ken05\\Documents\\others\\HORSE_RACING\\my_modules.py:52: SettingWithCopyWarning: \n",
      "A value is trying to be set on a copy of a slice from a DataFrame.\n",
      "Try using .loc[row_indexer,col_indexer] = value instead\n",
      "\n",
      "See the caveats in the documentation: https://pandas.pydata.org/pandas-docs/stable/user_guide/indexing.html#returning-a-view-versus-a-copy\n",
      "  df[\"datetime\"] = df[\"year\"].astype(str) + \\\n",
      "c:\\Users\\ken05\\Documents\\others\\HORSE_RACING\\my_modules.py:57: SettingWithCopyWarning: \n",
      "A value is trying to be set on a copy of a slice from a DataFrame.\n",
      "Try using .loc[row_indexer,col_indexer] = value instead\n",
      "\n",
      "See the caveats in the documentation: https://pandas.pydata.org/pandas-docs/stable/user_guide/indexing.html#returning-a-view-versus-a-copy\n",
      "  df[\"datetime\"] = pd.to_datetime(df[\"datetime\"], format=\"%Y%m%d%H%M\")\n"
     ]
    }
   ],
   "source": [
    "df = my_modules.common_process(df)"
   ]
  },
  {
   "cell_type": "code",
   "execution_count": null,
   "id": "d80ecbec",
   "metadata": {},
   "outputs": [],
   "source": [
    "import pandas as pd\n",
    "import numpy as np\n",
    "from my_modules import GroupTimeSeriesSplit\n",
    "import optuna\n",
    "from sklearn.metrics import log_loss\n",
    "import lightgbm as lgb\n",
    "from lightgbm import LGBMClassifier\n",
    "\n",
    "def simple_lightGBM(df):\n",
    "    splitter = GroupTimeSeriesSplit(n_splits=5)\n",
    "\n",
    "    # データの前処理\n",
    "    cat_col = df.select_dtypes(include=[\"object\"]).columns.tolist()\n",
    "    for col in cat_col:\n",
    "        df[col] = df[col].astype(\"category\")\n",
    "\n",
    "    # 訓練データ（パラメータチューニング用）とテストデータの分割\n",
    "    feature_col = [\"waku_num\", \"horse_num\", \"sex\", \"age\", \"basis_weight\", \"blinker\", \"weight\", \"inc_dec\", \"mother\", \"father\", \"id_for_fold\", \"horse_N\"]\n",
    "    X, y = df[feature_col], df[\"target\"]  # datetime は学習できないので消す。\n",
    "    X_train, X_test, y_train, y_test = train_test_group_split(X, y)\n",
    "\n",
    "    objective = create_objective(X_train, y_train, splitter=splitter)\n",
    "    study = optuna.create_study(\n",
    "        direction=\"minimize\",\n",
    "        sampler=optuna.samplers.RandomSampler()) # パラメータ探索範囲の確定のため、ランダムサンプラーにする。\n",
    "    study.optimize(objective, n_trials=100)\n",
    "\n",
    "    print(\"Best params : \", study.best_params)\n",
    "\n",
    "    # 可視化\n",
    "    optuna.visualization.plot_param_importances(study).show() # feature_importanceみたいなやつ\n",
    "    optuna.visualization.plot_slice(\n",
    "        study,\n",
    "        params=[\"num_leaves\"]\n",
    "    ).show()\n",
    "\n",
    "\n",
    "def create_objective(X, y, splitter):\n",
    "    def objective(trial):\n",
    "        params = {\n",
    "            \"objective\" : \"binary\",\n",
    "            \"metric\" : \"binary_logloss\",\n",
    "            \"n_estimators\": 1000,\n",
    "            \"n_jobs\" : -1,\n",
    "            \"verbose\" : -1,\n",
    "            # ここからが調整用パラメータ\n",
    "            \"num_leaves\": trial.suggest_int(\"num_leaves\", 2, 100)\n",
    "        }\n",
    "\n",
    "        oof_preds = np.zeros(len(X))\n",
    "\n",
    "        for tr_idx, val_idx in splitter.split(X, y, groups=X[\"id_for_fold\"]):\n",
    "\n",
    "            X_train, y_train = X.iloc[tr_idx, :], y.iloc[tr_idx]\n",
    "            X_test, y_test = X.iloc[val_idx, :], y.iloc[val_idx]\n",
    "\n",
    "            # 要らない列を削除\n",
    "            X_train, X_test = X_train.drop([\"id_for_fold\", \"horse_N\"], axis=1), X_test.drop([\"id_for_fold\", \"horse_N\"], axis=1)\n",
    "\n",
    "            model = LGBMClassifier(**params)\n",
    "            callbacks = [lgb.early_stopping(stopping_rounds=30, verbose=False)] # 30ラウンドで停止\n",
    "\n",
    "            model.fit(X_train, y_train, \n",
    "                      eval_set=[(X_test, y_test)], # 評価データセットを指定\n",
    "                      eval_metric=\"binary_logloss\",\n",
    "                      callbacks=callbacks)\n",
    "\n",
    "                        # 予測値の取得\n",
    "            oof_preds[val_idx] = model.predict_proba(X_test)[:, 1]\n",
    "        \n",
    "\n",
    "        # NaN ではない部分のインデックスを取得\n",
    "        not_nan_indices = ~np.isnan(oof_preds)\n",
    "        \n",
    "        # NaN ではない部分のみで log_loss を計算\n",
    "        # y も対応するインデックスでフィルタリングする\n",
    "        avg_logloss = log_loss(y[not_nan_indices], oof_preds[not_nan_indices])\n",
    "        \n",
    "        return avg_logloss\n",
    "\n",
    "    return objective\n",
    "\n",
    "\n",
    "\n",
    "# グループごとの訓練・テストデータの分割\n",
    "def train_test_group_split(X, y, test_size=0.2, groups=\"id_for_fold\"):\n",
    "    \n",
    "    unique_group = X[groups].unique()\n",
    "    n_groups = X[groups].nunique()\n",
    "    n_train = round(n_groups * (1-test_size))\n",
    "    s_groups = pd.Series(X[groups])\n",
    "\n",
    "    train_groups = unique_group[:n_train]\n",
    "    test_groups = unique_group[n_train:]\n",
    "\n",
    "    train_idx = np.where(s_groups.isin(train_groups))[0]\n",
    "    test_idx = np.where(s_groups.isin(test_groups))[0]\n",
    "\n",
    "    X_train, y_train = X.iloc[train_idx, :], y.iloc[train_idx]\n",
    "    X_test, y_test = X.iloc[test_idx, :], y.iloc[test_idx]\n",
    "\n",
    "    return X_train, X_test, y_train, y_test"
   ]
  },
  {
   "cell_type": "code",
   "execution_count": 7,
   "id": "d164cbbb",
   "metadata": {},
   "outputs": [
    {
     "name": "stderr",
     "output_type": "stream",
     "text": [
      "[I 2025-05-26 00:24:59,815] A new study created in memory with name: no-name-a599c467-ef3f-4a84-b282-18057bd4156c\n",
      "[I 2025-05-26 00:25:00,283] Trial 0 finished with value: 0.6456397694618582 and parameters: {'num_leaves': 55}. Best is trial 0 with value: 0.6456397694618582.\n",
      "[I 2025-05-26 00:25:00,582] Trial 1 finished with value: 0.645620030530373 and parameters: {'num_leaves': 11}. Best is trial 1 with value: 0.645620030530373.\n",
      "[I 2025-05-26 00:25:01,076] Trial 2 finished with value: 0.6459963709826954 and parameters: {'num_leaves': 69}. Best is trial 1 with value: 0.645620030530373.\n",
      "[I 2025-05-26 00:25:01,411] Trial 3 finished with value: 0.645328424581152 and parameters: {'num_leaves': 22}. Best is trial 3 with value: 0.645328424581152.\n",
      "[I 2025-05-26 00:25:01,932] Trial 4 finished with value: 0.6458682303463572 and parameters: {'num_leaves': 63}. Best is trial 3 with value: 0.645328424581152.\n",
      "[I 2025-05-26 00:25:02,328] Trial 5 finished with value: 0.645894755932762 and parameters: {'num_leaves': 37}. Best is trial 3 with value: 0.645328424581152.\n",
      "[I 2025-05-26 00:25:02,849] Trial 6 finished with value: 0.646330530507653 and parameters: {'num_leaves': 94}. Best is trial 3 with value: 0.645328424581152.\n",
      "[I 2025-05-26 00:25:03,289] Trial 7 finished with value: 0.6454750892977782 and parameters: {'num_leaves': 52}. Best is trial 3 with value: 0.645328424581152.\n",
      "[I 2025-05-26 00:25:03,829] Trial 8 finished with value: 0.6463270755006001 and parameters: {'num_leaves': 89}. Best is trial 3 with value: 0.645328424581152.\n",
      "[I 2025-05-26 00:25:04,394] Trial 9 finished with value: 0.6463614293628517 and parameters: {'num_leaves': 97}. Best is trial 3 with value: 0.645328424581152.\n",
      "[I 2025-05-26 00:25:04,724] Trial 10 finished with value: 0.645328424581152 and parameters: {'num_leaves': 22}. Best is trial 3 with value: 0.645328424581152.\n",
      "[I 2025-05-26 00:25:05,246] Trial 11 finished with value: 0.6461224033728117 and parameters: {'num_leaves': 92}. Best is trial 3 with value: 0.645328424581152.\n",
      "[I 2025-05-26 00:25:05,780] Trial 12 finished with value: 0.6460934676660458 and parameters: {'num_leaves': 85}. Best is trial 3 with value: 0.645328424581152.\n",
      "[I 2025-05-26 00:25:06,090] Trial 13 finished with value: 0.6455185576799821 and parameters: {'num_leaves': 10}. Best is trial 3 with value: 0.645328424581152.\n",
      "[I 2025-05-26 00:25:06,651] Trial 14 finished with value: 0.6464124354154646 and parameters: {'num_leaves': 99}. Best is trial 3 with value: 0.645328424581152.\n",
      "[I 2025-05-26 00:25:06,924] Trial 15 finished with value: 0.6455322546011212 and parameters: {'num_leaves': 4}. Best is trial 3 with value: 0.645328424581152.\n",
      "[I 2025-05-26 00:25:07,447] Trial 16 finished with value: 0.6461224033728117 and parameters: {'num_leaves': 92}. Best is trial 3 with value: 0.645328424581152.\n",
      "[I 2025-05-26 00:25:07,868] Trial 17 finished with value: 0.6456886674735618 and parameters: {'num_leaves': 48}. Best is trial 3 with value: 0.645328424581152.\n",
      "[I 2025-05-26 00:25:08,318] Trial 18 finished with value: 0.6455261557746106 and parameters: {'num_leaves': 46}. Best is trial 3 with value: 0.645328424581152.\n",
      "[I 2025-05-26 00:25:08,845] Trial 19 finished with value: 0.6457141691939253 and parameters: {'num_leaves': 38}. Best is trial 3 with value: 0.645328424581152.\n",
      "[I 2025-05-26 00:25:09,308] Trial 20 finished with value: 0.6457991293848038 and parameters: {'num_leaves': 57}. Best is trial 3 with value: 0.645328424581152.\n",
      "[I 2025-05-26 00:25:09,744] Trial 21 finished with value: 0.6455088104676384 and parameters: {'num_leaves': 51}. Best is trial 3 with value: 0.645328424581152.\n",
      "[I 2025-05-26 00:25:10,246] Trial 22 finished with value: 0.6457260885048465 and parameters: {'num_leaves': 62}. Best is trial 3 with value: 0.645328424581152.\n",
      "[I 2025-05-26 00:25:10,700] Trial 23 finished with value: 0.6458587041119156 and parameters: {'num_leaves': 66}. Best is trial 3 with value: 0.645328424581152.\n",
      "[I 2025-05-26 00:25:11,081] Trial 24 finished with value: 0.6454615067643469 and parameters: {'num_leaves': 27}. Best is trial 3 with value: 0.645328424581152.\n",
      "[I 2025-05-26 00:25:11,590] Trial 25 finished with value: 0.6460503928583703 and parameters: {'num_leaves': 83}. Best is trial 3 with value: 0.645328424581152.\n",
      "[I 2025-05-26 00:25:11,917] Trial 26 finished with value: 0.6452798211198618 and parameters: {'num_leaves': 18}. Best is trial 26 with value: 0.6452798211198618.\n",
      "[I 2025-05-26 00:25:12,301] Trial 27 finished with value: 0.6454615067643469 and parameters: {'num_leaves': 27}. Best is trial 26 with value: 0.6452798211198618.\n",
      "[I 2025-05-26 00:25:12,603] Trial 28 finished with value: 0.6454029438249707 and parameters: {'num_leaves': 12}. Best is trial 26 with value: 0.6452798211198618.\n",
      "[I 2025-05-26 00:25:13,142] Trial 29 finished with value: 0.6460910934513234 and parameters: {'num_leaves': 90}. Best is trial 26 with value: 0.6452798211198618.\n",
      "[I 2025-05-26 00:25:13,511] Trial 30 finished with value: 0.6454113239951735 and parameters: {'num_leaves': 30}. Best is trial 26 with value: 0.6452798211198618.\n",
      "[I 2025-05-26 00:25:13,896] Trial 31 finished with value: 0.645894755932762 and parameters: {'num_leaves': 37}. Best is trial 26 with value: 0.6452798211198618.\n",
      "[I 2025-05-26 00:25:14,190] Trial 32 finished with value: 0.6455452807218268 and parameters: {'num_leaves': 7}. Best is trial 26 with value: 0.6452798211198618.\n",
      "[I 2025-05-26 00:25:14,695] Trial 33 finished with value: 0.6460503928583703 and parameters: {'num_leaves': 83}. Best is trial 26 with value: 0.6452798211198618.\n",
      "[I 2025-05-26 00:25:15,121] Trial 34 finished with value: 0.6455261557746106 and parameters: {'num_leaves': 46}. Best is trial 26 with value: 0.6452798211198618.\n",
      "[I 2025-05-26 00:25:15,549] Trial 35 finished with value: 0.6456886674735618 and parameters: {'num_leaves': 48}. Best is trial 26 with value: 0.6452798211198618.\n",
      "[I 2025-05-26 00:25:15,854] Trial 36 finished with value: 0.6454161848644745 and parameters: {'num_leaves': 14}. Best is trial 26 with value: 0.6452798211198618.\n",
      "[I 2025-05-26 00:25:16,188] Trial 37 finished with value: 0.6452328591163791 and parameters: {'num_leaves': 20}. Best is trial 37 with value: 0.6452328591163791.\n",
      "[I 2025-05-26 00:25:16,523] Trial 38 finished with value: 0.6452328591163791 and parameters: {'num_leaves': 20}. Best is trial 37 with value: 0.6452328591163791.\n",
      "[I 2025-05-26 00:25:16,866] Trial 39 finished with value: 0.6453775784630463 and parameters: {'num_leaves': 23}. Best is trial 37 with value: 0.6452328591163791.\n",
      "[I 2025-05-26 00:25:17,324] Trial 40 finished with value: 0.6457609167872848 and parameters: {'num_leaves': 67}. Best is trial 37 with value: 0.6452328591163791.\n",
      "[I 2025-05-26 00:25:17,827] Trial 41 finished with value: 0.6458643614571503 and parameters: {'num_leaves': 79}. Best is trial 37 with value: 0.6452328591163791.\n",
      "[I 2025-05-26 00:25:18,276] Trial 42 finished with value: 0.6457584871643685 and parameters: {'num_leaves': 54}. Best is trial 37 with value: 0.6452328591163791.\n",
      "[I 2025-05-26 00:25:18,771] Trial 43 finished with value: 0.6461683192406282 and parameters: {'num_leaves': 78}. Best is trial 37 with value: 0.6452328591163791.\n",
      "[I 2025-05-26 00:25:19,312] Trial 44 finished with value: 0.6460671759591892 and parameters: {'num_leaves': 96}. Best is trial 37 with value: 0.6452328591163791.\n",
      "[I 2025-05-26 00:25:19,820] Trial 45 finished with value: 0.6463270755006001 and parameters: {'num_leaves': 89}. Best is trial 37 with value: 0.6452328591163791.\n",
      "[I 2025-05-26 00:25:20,360] Trial 46 finished with value: 0.6462715459999733 and parameters: {'num_leaves': 93}. Best is trial 37 with value: 0.6452328591163791.\n",
      "[I 2025-05-26 00:25:20,693] Trial 47 finished with value: 0.6452161566297635 and parameters: {'num_leaves': 21}. Best is trial 47 with value: 0.6452161566297635.\n",
      "[I 2025-05-26 00:25:21,220] Trial 48 finished with value: 0.646343460408161 and parameters: {'num_leaves': 87}. Best is trial 47 with value: 0.6452161566297635.\n",
      "[I 2025-05-26 00:25:21,619] Trial 49 finished with value: 0.6456422401756609 and parameters: {'num_leaves': 39}. Best is trial 47 with value: 0.6452161566297635.\n",
      "[I 2025-05-26 00:25:22,004] Trial 50 finished with value: 0.6457141691939253 and parameters: {'num_leaves': 38}. Best is trial 47 with value: 0.6452161566297635.\n",
      "[I 2025-05-26 00:25:22,390] Trial 51 finished with value: 0.645894755932762 and parameters: {'num_leaves': 37}. Best is trial 47 with value: 0.6452161566297635.\n",
      "[I 2025-05-26 00:25:22,834] Trial 52 finished with value: 0.6458657100228856 and parameters: {'num_leaves': 56}. Best is trial 47 with value: 0.6452161566297635.\n",
      "[I 2025-05-26 00:25:23,113] Trial 53 finished with value: 0.6456445432567579 and parameters: {'num_leaves': 5}. Best is trial 47 with value: 0.6452161566297635.\n",
      "[I 2025-05-26 00:25:23,553] Trial 54 finished with value: 0.6455088104676384 and parameters: {'num_leaves': 51}. Best is trial 47 with value: 0.6452161566297635.\n",
      "[I 2025-05-26 00:25:24,007] Trial 55 finished with value: 0.6458587041119156 and parameters: {'num_leaves': 66}. Best is trial 47 with value: 0.6452161566297635.\n",
      "[I 2025-05-26 00:25:24,302] Trial 56 finished with value: 0.645620030530373 and parameters: {'num_leaves': 11}. Best is trial 47 with value: 0.6452161566297635.\n",
      "[I 2025-05-26 00:25:24,657] Trial 57 finished with value: 0.6455327647396771 and parameters: {'num_leaves': 26}. Best is trial 47 with value: 0.6452161566297635.\n",
      "[I 2025-05-26 00:25:25,063] Trial 58 finished with value: 0.6458983026157763 and parameters: {'num_leaves': 47}. Best is trial 47 with value: 0.6452161566297635.\n",
      "[I 2025-05-26 00:25:25,343] Trial 59 finished with value: 0.6456445432567579 and parameters: {'num_leaves': 5}. Best is trial 47 with value: 0.6452161566297635.\n",
      "[I 2025-05-26 00:25:25,883] Trial 60 finished with value: 0.6460955178203981 and parameters: {'num_leaves': 88}. Best is trial 47 with value: 0.6452161566297635.\n",
      "[I 2025-05-26 00:25:26,284] Trial 61 finished with value: 0.6458765010948944 and parameters: {'num_leaves': 41}. Best is trial 47 with value: 0.6452161566297635.\n",
      "[I 2025-05-26 00:25:26,640] Trial 62 finished with value: 0.6453162349191996 and parameters: {'num_leaves': 24}. Best is trial 47 with value: 0.6452161566297635.\n",
      "[I 2025-05-26 00:25:27,140] Trial 63 finished with value: 0.6461024565871141 and parameters: {'num_leaves': 75}. Best is trial 47 with value: 0.6452161566297635.\n",
      "[I 2025-05-26 00:25:27,607] Trial 64 finished with value: 0.645727544433288 and parameters: {'num_leaves': 59}. Best is trial 47 with value: 0.6452161566297635.\n",
      "[I 2025-05-26 00:25:28,143] Trial 65 finished with value: 0.6460671759591892 and parameters: {'num_leaves': 96}. Best is trial 47 with value: 0.6452161566297635.\n",
      "[I 2025-05-26 00:25:28,660] Trial 66 finished with value: 0.6457317886561643 and parameters: {'num_leaves': 80}. Best is trial 47 with value: 0.6452161566297635.\n",
      "[I 2025-05-26 00:25:29,035] Trial 67 finished with value: 0.6454113239951735 and parameters: {'num_leaves': 30}. Best is trial 47 with value: 0.6452161566297635.\n",
      "[I 2025-05-26 00:25:29,568] Trial 68 finished with value: 0.646343460408161 and parameters: {'num_leaves': 87}. Best is trial 47 with value: 0.6452161566297635.\n",
      "[I 2025-05-26 00:25:29,919] Trial 69 finished with value: 0.6453162349191996 and parameters: {'num_leaves': 24}. Best is trial 47 with value: 0.6452161566297635.\n",
      "[I 2025-05-26 00:25:30,250] Trial 70 finished with value: 0.6452798211198618 and parameters: {'num_leaves': 18}. Best is trial 47 with value: 0.6452161566297635.\n",
      "[I 2025-05-26 00:25:30,633] Trial 71 finished with value: 0.6453976428836667 and parameters: {'num_leaves': 33}. Best is trial 47 with value: 0.6452161566297635.\n",
      "[I 2025-05-26 00:25:31,109] Trial 72 finished with value: 0.6460074819120522 and parameters: {'num_leaves': 70}. Best is trial 47 with value: 0.6452161566297635.\n",
      "[I 2025-05-26 00:25:31,392] Trial 73 finished with value: 0.6456445432567579 and parameters: {'num_leaves': 5}. Best is trial 47 with value: 0.6452161566297635.\n",
      "[I 2025-05-26 00:25:31,830] Trial 74 finished with value: 0.6457991293848038 and parameters: {'num_leaves': 57}. Best is trial 47 with value: 0.6452161566297635.\n",
      "[I 2025-05-26 00:25:32,239] Trial 75 finished with value: 0.6458765010948944 and parameters: {'num_leaves': 41}. Best is trial 47 with value: 0.6452161566297635.\n",
      "[I 2025-05-26 00:25:32,535] Trial 76 finished with value: 0.6455452807218268 and parameters: {'num_leaves': 7}. Best is trial 47 with value: 0.6452161566297635.\n",
      "[I 2025-05-26 00:25:32,853] Trial 77 finished with value: 0.6455185576799821 and parameters: {'num_leaves': 10}. Best is trial 47 with value: 0.6452161566297635.\n",
      "[I 2025-05-26 00:25:33,333] Trial 78 finished with value: 0.6458682303463572 and parameters: {'num_leaves': 63}. Best is trial 47 with value: 0.6452161566297635.\n",
      "[I 2025-05-26 00:25:33,814] Trial 79 finished with value: 0.6459711671797442 and parameters: {'num_leaves': 73}. Best is trial 47 with value: 0.6452161566297635.\n",
      "[I 2025-05-26 00:25:34,282] Trial 80 finished with value: 0.6459571905580159 and parameters: {'num_leaves': 68}. Best is trial 47 with value: 0.6452161566297635.\n",
      "[I 2025-05-26 00:25:34,581] Trial 81 finished with value: 0.6456189072799945 and parameters: {'num_leaves': 8}. Best is trial 47 with value: 0.6452161566297635.\n",
      "[I 2025-05-26 00:25:35,108] Trial 82 finished with value: 0.6458643614571503 and parameters: {'num_leaves': 79}. Best is trial 47 with value: 0.6452161566297635.\n",
      "[I 2025-05-26 00:25:35,677] Trial 83 finished with value: 0.6459745013298263 and parameters: {'num_leaves': 91}. Best is trial 47 with value: 0.6452161566297635.\n",
      "[I 2025-05-26 00:25:36,094] Trial 84 finished with value: 0.6458983026157763 and parameters: {'num_leaves': 47}. Best is trial 47 with value: 0.6452161566297635.\n",
      "[I 2025-05-26 00:25:36,585] Trial 85 finished with value: 0.6461987318495706 and parameters: {'num_leaves': 74}. Best is trial 47 with value: 0.6452161566297635.\n",
      "[I 2025-05-26 00:25:37,110] Trial 86 finished with value: 0.6460955178203981 and parameters: {'num_leaves': 88}. Best is trial 47 with value: 0.6452161566297635.\n",
      "[I 2025-05-26 00:25:37,501] Trial 87 finished with value: 0.6457141691939253 and parameters: {'num_leaves': 38}. Best is trial 47 with value: 0.6452161566297635.\n",
      "[I 2025-05-26 00:25:38,041] Trial 88 finished with value: 0.6461224033728117 and parameters: {'num_leaves': 92}. Best is trial 47 with value: 0.6452161566297635.\n",
      "[I 2025-05-26 00:25:38,429] Trial 89 finished with value: 0.6453976428836667 and parameters: {'num_leaves': 33}. Best is trial 47 with value: 0.6452161566297635.\n",
      "[I 2025-05-26 00:25:38,912] Trial 90 finished with value: 0.6461809045496321 and parameters: {'num_leaves': 72}. Best is trial 47 with value: 0.6452161566297635.\n",
      "[I 2025-05-26 00:25:39,346] Trial 91 finished with value: 0.6456752251093469 and parameters: {'num_leaves': 45}. Best is trial 47 with value: 0.6452161566297635.\n",
      "[I 2025-05-26 00:25:39,869] Trial 92 finished with value: 0.6457317886561643 and parameters: {'num_leaves': 80}. Best is trial 47 with value: 0.6452161566297635.\n",
      "[I 2025-05-26 00:25:40,454] Trial 93 finished with value: 0.6460425934270978 and parameters: {'num_leaves': 98}. Best is trial 47 with value: 0.6452161566297635.\n",
      "[I 2025-05-26 00:25:40,887] Trial 94 finished with value: 0.6459776042353901 and parameters: {'num_leaves': 53}. Best is trial 47 with value: 0.6452161566297635.\n",
      "[I 2025-05-26 00:25:41,404] Trial 95 finished with value: 0.6460503928583703 and parameters: {'num_leaves': 83}. Best is trial 47 with value: 0.6452161566297635.\n",
      "[I 2025-05-26 00:25:41,910] Trial 96 finished with value: 0.6457260885048465 and parameters: {'num_leaves': 62}. Best is trial 47 with value: 0.6452161566297635.\n",
      "[I 2025-05-26 00:25:42,369] Trial 97 finished with value: 0.645866910607837 and parameters: {'num_leaves': 58}. Best is trial 47 with value: 0.6452161566297635.\n",
      "[I 2025-05-26 00:25:42,857] Trial 98 finished with value: 0.6458765010948944 and parameters: {'num_leaves': 41}. Best is trial 47 with value: 0.6452161566297635.\n",
      "[I 2025-05-26 00:25:43,334] Trial 99 finished with value: 0.6460074819120522 and parameters: {'num_leaves': 70}. Best is trial 47 with value: 0.6452161566297635.\n"
     ]
    },
    {
     "name": "stdout",
     "output_type": "stream",
     "text": [
      "Best params :  {'num_leaves': 21}\n"
     ]
    },
    {
     "data": {
      "application/vnd.plotly.v1+json": {
       "config": {
        "plotlyServerURL": "https://plot.ly"
       },
       "data": [
        {
         "cliponaxis": false,
         "hovertemplate": [
          "num_leaves (IntDistribution): 1.0<extra></extra>"
         ],
         "name": "Objective Value",
         "orientation": "h",
         "text": [
          "1.00"
         ],
         "textposition": "outside",
         "type": "bar",
         "x": [
          1
         ],
         "y": [
          "num_leaves"
         ]
        }
       ],
       "layout": {
        "template": {
         "data": {
          "bar": [
           {
            "error_x": {
             "color": "#2a3f5f"
            },
            "error_y": {
             "color": "#2a3f5f"
            },
            "marker": {
             "line": {
              "color": "#E5ECF6",
              "width": 0.5
             },
             "pattern": {
              "fillmode": "overlay",
              "size": 10,
              "solidity": 0.2
             }
            },
            "type": "bar"
           }
          ],
          "barpolar": [
           {
            "marker": {
             "line": {
              "color": "#E5ECF6",
              "width": 0.5
             },
             "pattern": {
              "fillmode": "overlay",
              "size": 10,
              "solidity": 0.2
             }
            },
            "type": "barpolar"
           }
          ],
          "carpet": [
           {
            "aaxis": {
             "endlinecolor": "#2a3f5f",
             "gridcolor": "white",
             "linecolor": "white",
             "minorgridcolor": "white",
             "startlinecolor": "#2a3f5f"
            },
            "baxis": {
             "endlinecolor": "#2a3f5f",
             "gridcolor": "white",
             "linecolor": "white",
             "minorgridcolor": "white",
             "startlinecolor": "#2a3f5f"
            },
            "type": "carpet"
           }
          ],
          "choropleth": [
           {
            "colorbar": {
             "outlinewidth": 0,
             "ticks": ""
            },
            "type": "choropleth"
           }
          ],
          "contour": [
           {
            "colorbar": {
             "outlinewidth": 0,
             "ticks": ""
            },
            "colorscale": [
             [
              0,
              "#0d0887"
             ],
             [
              0.1111111111111111,
              "#46039f"
             ],
             [
              0.2222222222222222,
              "#7201a8"
             ],
             [
              0.3333333333333333,
              "#9c179e"
             ],
             [
              0.4444444444444444,
              "#bd3786"
             ],
             [
              0.5555555555555556,
              "#d8576b"
             ],
             [
              0.6666666666666666,
              "#ed7953"
             ],
             [
              0.7777777777777778,
              "#fb9f3a"
             ],
             [
              0.8888888888888888,
              "#fdca26"
             ],
             [
              1,
              "#f0f921"
             ]
            ],
            "type": "contour"
           }
          ],
          "contourcarpet": [
           {
            "colorbar": {
             "outlinewidth": 0,
             "ticks": ""
            },
            "type": "contourcarpet"
           }
          ],
          "heatmap": [
           {
            "colorbar": {
             "outlinewidth": 0,
             "ticks": ""
            },
            "colorscale": [
             [
              0,
              "#0d0887"
             ],
             [
              0.1111111111111111,
              "#46039f"
             ],
             [
              0.2222222222222222,
              "#7201a8"
             ],
             [
              0.3333333333333333,
              "#9c179e"
             ],
             [
              0.4444444444444444,
              "#bd3786"
             ],
             [
              0.5555555555555556,
              "#d8576b"
             ],
             [
              0.6666666666666666,
              "#ed7953"
             ],
             [
              0.7777777777777778,
              "#fb9f3a"
             ],
             [
              0.8888888888888888,
              "#fdca26"
             ],
             [
              1,
              "#f0f921"
             ]
            ],
            "type": "heatmap"
           }
          ],
          "histogram": [
           {
            "marker": {
             "pattern": {
              "fillmode": "overlay",
              "size": 10,
              "solidity": 0.2
             }
            },
            "type": "histogram"
           }
          ],
          "histogram2d": [
           {
            "colorbar": {
             "outlinewidth": 0,
             "ticks": ""
            },
            "colorscale": [
             [
              0,
              "#0d0887"
             ],
             [
              0.1111111111111111,
              "#46039f"
             ],
             [
              0.2222222222222222,
              "#7201a8"
             ],
             [
              0.3333333333333333,
              "#9c179e"
             ],
             [
              0.4444444444444444,
              "#bd3786"
             ],
             [
              0.5555555555555556,
              "#d8576b"
             ],
             [
              0.6666666666666666,
              "#ed7953"
             ],
             [
              0.7777777777777778,
              "#fb9f3a"
             ],
             [
              0.8888888888888888,
              "#fdca26"
             ],
             [
              1,
              "#f0f921"
             ]
            ],
            "type": "histogram2d"
           }
          ],
          "histogram2dcontour": [
           {
            "colorbar": {
             "outlinewidth": 0,
             "ticks": ""
            },
            "colorscale": [
             [
              0,
              "#0d0887"
             ],
             [
              0.1111111111111111,
              "#46039f"
             ],
             [
              0.2222222222222222,
              "#7201a8"
             ],
             [
              0.3333333333333333,
              "#9c179e"
             ],
             [
              0.4444444444444444,
              "#bd3786"
             ],
             [
              0.5555555555555556,
              "#d8576b"
             ],
             [
              0.6666666666666666,
              "#ed7953"
             ],
             [
              0.7777777777777778,
              "#fb9f3a"
             ],
             [
              0.8888888888888888,
              "#fdca26"
             ],
             [
              1,
              "#f0f921"
             ]
            ],
            "type": "histogram2dcontour"
           }
          ],
          "mesh3d": [
           {
            "colorbar": {
             "outlinewidth": 0,
             "ticks": ""
            },
            "type": "mesh3d"
           }
          ],
          "parcoords": [
           {
            "line": {
             "colorbar": {
              "outlinewidth": 0,
              "ticks": ""
             }
            },
            "type": "parcoords"
           }
          ],
          "pie": [
           {
            "automargin": true,
            "type": "pie"
           }
          ],
          "scatter": [
           {
            "fillpattern": {
             "fillmode": "overlay",
             "size": 10,
             "solidity": 0.2
            },
            "type": "scatter"
           }
          ],
          "scatter3d": [
           {
            "line": {
             "colorbar": {
              "outlinewidth": 0,
              "ticks": ""
             }
            },
            "marker": {
             "colorbar": {
              "outlinewidth": 0,
              "ticks": ""
             }
            },
            "type": "scatter3d"
           }
          ],
          "scattercarpet": [
           {
            "marker": {
             "colorbar": {
              "outlinewidth": 0,
              "ticks": ""
             }
            },
            "type": "scattercarpet"
           }
          ],
          "scattergeo": [
           {
            "marker": {
             "colorbar": {
              "outlinewidth": 0,
              "ticks": ""
             }
            },
            "type": "scattergeo"
           }
          ],
          "scattergl": [
           {
            "marker": {
             "colorbar": {
              "outlinewidth": 0,
              "ticks": ""
             }
            },
            "type": "scattergl"
           }
          ],
          "scattermap": [
           {
            "marker": {
             "colorbar": {
              "outlinewidth": 0,
              "ticks": ""
             }
            },
            "type": "scattermap"
           }
          ],
          "scattermapbox": [
           {
            "marker": {
             "colorbar": {
              "outlinewidth": 0,
              "ticks": ""
             }
            },
            "type": "scattermapbox"
           }
          ],
          "scatterpolar": [
           {
            "marker": {
             "colorbar": {
              "outlinewidth": 0,
              "ticks": ""
             }
            },
            "type": "scatterpolar"
           }
          ],
          "scatterpolargl": [
           {
            "marker": {
             "colorbar": {
              "outlinewidth": 0,
              "ticks": ""
             }
            },
            "type": "scatterpolargl"
           }
          ],
          "scatterternary": [
           {
            "marker": {
             "colorbar": {
              "outlinewidth": 0,
              "ticks": ""
             }
            },
            "type": "scatterternary"
           }
          ],
          "surface": [
           {
            "colorbar": {
             "outlinewidth": 0,
             "ticks": ""
            },
            "colorscale": [
             [
              0,
              "#0d0887"
             ],
             [
              0.1111111111111111,
              "#46039f"
             ],
             [
              0.2222222222222222,
              "#7201a8"
             ],
             [
              0.3333333333333333,
              "#9c179e"
             ],
             [
              0.4444444444444444,
              "#bd3786"
             ],
             [
              0.5555555555555556,
              "#d8576b"
             ],
             [
              0.6666666666666666,
              "#ed7953"
             ],
             [
              0.7777777777777778,
              "#fb9f3a"
             ],
             [
              0.8888888888888888,
              "#fdca26"
             ],
             [
              1,
              "#f0f921"
             ]
            ],
            "type": "surface"
           }
          ],
          "table": [
           {
            "cells": {
             "fill": {
              "color": "#EBF0F8"
             },
             "line": {
              "color": "white"
             }
            },
            "header": {
             "fill": {
              "color": "#C8D4E3"
             },
             "line": {
              "color": "white"
             }
            },
            "type": "table"
           }
          ]
         },
         "layout": {
          "annotationdefaults": {
           "arrowcolor": "#2a3f5f",
           "arrowhead": 0,
           "arrowwidth": 1
          },
          "autotypenumbers": "strict",
          "coloraxis": {
           "colorbar": {
            "outlinewidth": 0,
            "ticks": ""
           }
          },
          "colorscale": {
           "diverging": [
            [
             0,
             "#8e0152"
            ],
            [
             0.1,
             "#c51b7d"
            ],
            [
             0.2,
             "#de77ae"
            ],
            [
             0.3,
             "#f1b6da"
            ],
            [
             0.4,
             "#fde0ef"
            ],
            [
             0.5,
             "#f7f7f7"
            ],
            [
             0.6,
             "#e6f5d0"
            ],
            [
             0.7,
             "#b8e186"
            ],
            [
             0.8,
             "#7fbc41"
            ],
            [
             0.9,
             "#4d9221"
            ],
            [
             1,
             "#276419"
            ]
           ],
           "sequential": [
            [
             0,
             "#0d0887"
            ],
            [
             0.1111111111111111,
             "#46039f"
            ],
            [
             0.2222222222222222,
             "#7201a8"
            ],
            [
             0.3333333333333333,
             "#9c179e"
            ],
            [
             0.4444444444444444,
             "#bd3786"
            ],
            [
             0.5555555555555556,
             "#d8576b"
            ],
            [
             0.6666666666666666,
             "#ed7953"
            ],
            [
             0.7777777777777778,
             "#fb9f3a"
            ],
            [
             0.8888888888888888,
             "#fdca26"
            ],
            [
             1,
             "#f0f921"
            ]
           ],
           "sequentialminus": [
            [
             0,
             "#0d0887"
            ],
            [
             0.1111111111111111,
             "#46039f"
            ],
            [
             0.2222222222222222,
             "#7201a8"
            ],
            [
             0.3333333333333333,
             "#9c179e"
            ],
            [
             0.4444444444444444,
             "#bd3786"
            ],
            [
             0.5555555555555556,
             "#d8576b"
            ],
            [
             0.6666666666666666,
             "#ed7953"
            ],
            [
             0.7777777777777778,
             "#fb9f3a"
            ],
            [
             0.8888888888888888,
             "#fdca26"
            ],
            [
             1,
             "#f0f921"
            ]
           ]
          },
          "colorway": [
           "#636efa",
           "#EF553B",
           "#00cc96",
           "#ab63fa",
           "#FFA15A",
           "#19d3f3",
           "#FF6692",
           "#B6E880",
           "#FF97FF",
           "#FECB52"
          ],
          "font": {
           "color": "#2a3f5f"
          },
          "geo": {
           "bgcolor": "white",
           "lakecolor": "white",
           "landcolor": "#E5ECF6",
           "showlakes": true,
           "showland": true,
           "subunitcolor": "white"
          },
          "hoverlabel": {
           "align": "left"
          },
          "hovermode": "closest",
          "mapbox": {
           "style": "light"
          },
          "paper_bgcolor": "white",
          "plot_bgcolor": "#E5ECF6",
          "polar": {
           "angularaxis": {
            "gridcolor": "white",
            "linecolor": "white",
            "ticks": ""
           },
           "bgcolor": "#E5ECF6",
           "radialaxis": {
            "gridcolor": "white",
            "linecolor": "white",
            "ticks": ""
           }
          },
          "scene": {
           "xaxis": {
            "backgroundcolor": "#E5ECF6",
            "gridcolor": "white",
            "gridwidth": 2,
            "linecolor": "white",
            "showbackground": true,
            "ticks": "",
            "zerolinecolor": "white"
           },
           "yaxis": {
            "backgroundcolor": "#E5ECF6",
            "gridcolor": "white",
            "gridwidth": 2,
            "linecolor": "white",
            "showbackground": true,
            "ticks": "",
            "zerolinecolor": "white"
           },
           "zaxis": {
            "backgroundcolor": "#E5ECF6",
            "gridcolor": "white",
            "gridwidth": 2,
            "linecolor": "white",
            "showbackground": true,
            "ticks": "",
            "zerolinecolor": "white"
           }
          },
          "shapedefaults": {
           "line": {
            "color": "#2a3f5f"
           }
          },
          "ternary": {
           "aaxis": {
            "gridcolor": "white",
            "linecolor": "white",
            "ticks": ""
           },
           "baxis": {
            "gridcolor": "white",
            "linecolor": "white",
            "ticks": ""
           },
           "bgcolor": "#E5ECF6",
           "caxis": {
            "gridcolor": "white",
            "linecolor": "white",
            "ticks": ""
           }
          },
          "title": {
           "x": 0.05
          },
          "xaxis": {
           "automargin": true,
           "gridcolor": "white",
           "linecolor": "white",
           "ticks": "",
           "title": {
            "standoff": 15
           },
           "zerolinecolor": "white",
           "zerolinewidth": 2
          },
          "yaxis": {
           "automargin": true,
           "gridcolor": "white",
           "linecolor": "white",
           "ticks": "",
           "title": {
            "standoff": 15
           },
           "zerolinecolor": "white",
           "zerolinewidth": 2
          }
         }
        },
        "title": {
         "text": "Hyperparameter Importances"
        },
        "xaxis": {
         "title": {
          "text": "Hyperparameter Importance"
         }
        },
        "yaxis": {
         "title": {
          "text": "Hyperparameter"
         }
        }
       }
      }
     },
     "metadata": {},
     "output_type": "display_data"
    },
    {
     "data": {
      "application/vnd.plotly.v1+json": {
       "config": {
        "plotlyServerURL": "https://plot.ly"
       },
       "data": [
        {
         "marker": {
          "color": [
           0,
           1,
           2,
           3,
           4,
           5,
           6,
           7,
           8,
           9,
           10,
           11,
           12,
           13,
           14,
           15,
           16,
           17,
           18,
           19,
           20,
           21,
           22,
           23,
           24,
           25,
           26,
           27,
           28,
           29,
           30,
           31,
           32,
           33,
           34,
           35,
           36,
           37,
           38,
           39,
           40,
           41,
           42,
           43,
           44,
           45,
           46,
           47,
           48,
           49,
           50,
           51,
           52,
           53,
           54,
           55,
           56,
           57,
           58,
           59,
           60,
           61,
           62,
           63,
           64,
           65,
           66,
           67,
           68,
           69,
           70,
           71,
           72,
           73,
           74,
           75,
           76,
           77,
           78,
           79,
           80,
           81,
           82,
           83,
           84,
           85,
           86,
           87,
           88,
           89,
           90,
           91,
           92,
           93,
           94,
           95,
           96,
           97,
           98,
           99
          ],
          "colorbar": {
           "title": {
            "text": "Trial"
           },
           "x": 1,
           "xpad": 40
          },
          "colorscale": [
           [
            0,
            "rgb(247,251,255)"
           ],
           [
            0.125,
            "rgb(222,235,247)"
           ],
           [
            0.25,
            "rgb(198,219,239)"
           ],
           [
            0.375,
            "rgb(158,202,225)"
           ],
           [
            0.5,
            "rgb(107,174,214)"
           ],
           [
            0.625,
            "rgb(66,146,198)"
           ],
           [
            0.75,
            "rgb(33,113,181)"
           ],
           [
            0.875,
            "rgb(8,81,156)"
           ],
           [
            1,
            "rgb(8,48,107)"
           ]
          ],
          "line": {
           "color": "Grey",
           "width": 0.5
          }
         },
         "mode": "markers",
         "name": "Feasible Trial",
         "showlegend": false,
         "type": "scatter",
         "x": [
          55,
          11,
          69,
          22,
          63,
          37,
          94,
          52,
          89,
          97,
          22,
          92,
          85,
          10,
          99,
          4,
          92,
          48,
          46,
          38,
          57,
          51,
          62,
          66,
          27,
          83,
          18,
          27,
          12,
          90,
          30,
          37,
          7,
          83,
          46,
          48,
          14,
          20,
          20,
          23,
          67,
          79,
          54,
          78,
          96,
          89,
          93,
          21,
          87,
          39,
          38,
          37,
          56,
          5,
          51,
          66,
          11,
          26,
          47,
          5,
          88,
          41,
          24,
          75,
          59,
          96,
          80,
          30,
          87,
          24,
          18,
          33,
          70,
          5,
          57,
          41,
          7,
          10,
          63,
          73,
          68,
          8,
          79,
          91,
          47,
          74,
          88,
          38,
          92,
          33,
          72,
          45,
          80,
          98,
          53,
          83,
          62,
          58,
          41,
          70
         ],
         "y": [
          0.6456397694618582,
          0.645620030530373,
          0.6459963709826954,
          0.645328424581152,
          0.6458682303463572,
          0.645894755932762,
          0.646330530507653,
          0.6454750892977782,
          0.6463270755006001,
          0.6463614293628517,
          0.645328424581152,
          0.6461224033728117,
          0.6460934676660458,
          0.6455185576799821,
          0.6464124354154646,
          0.6455322546011212,
          0.6461224033728117,
          0.6456886674735618,
          0.6455261557746106,
          0.6457141691939253,
          0.6457991293848038,
          0.6455088104676384,
          0.6457260885048465,
          0.6458587041119156,
          0.6454615067643469,
          0.6460503928583703,
          0.6452798211198618,
          0.6454615067643469,
          0.6454029438249707,
          0.6460910934513234,
          0.6454113239951735,
          0.645894755932762,
          0.6455452807218268,
          0.6460503928583703,
          0.6455261557746106,
          0.6456886674735618,
          0.6454161848644745,
          0.6452328591163791,
          0.6452328591163791,
          0.6453775784630463,
          0.6457609167872848,
          0.6458643614571503,
          0.6457584871643685,
          0.6461683192406282,
          0.6460671759591892,
          0.6463270755006001,
          0.6462715459999733,
          0.6452161566297635,
          0.646343460408161,
          0.6456422401756609,
          0.6457141691939253,
          0.645894755932762,
          0.6458657100228856,
          0.6456445432567579,
          0.6455088104676384,
          0.6458587041119156,
          0.645620030530373,
          0.6455327647396771,
          0.6458983026157763,
          0.6456445432567579,
          0.6460955178203981,
          0.6458765010948944,
          0.6453162349191996,
          0.6461024565871141,
          0.645727544433288,
          0.6460671759591892,
          0.6457317886561643,
          0.6454113239951735,
          0.646343460408161,
          0.6453162349191996,
          0.6452798211198618,
          0.6453976428836667,
          0.6460074819120522,
          0.6456445432567579,
          0.6457991293848038,
          0.6458765010948944,
          0.6455452807218268,
          0.6455185576799821,
          0.6458682303463572,
          0.6459711671797442,
          0.6459571905580159,
          0.6456189072799945,
          0.6458643614571503,
          0.6459745013298263,
          0.6458983026157763,
          0.6461987318495706,
          0.6460955178203981,
          0.6457141691939253,
          0.6461224033728117,
          0.6453976428836667,
          0.6461809045496321,
          0.6456752251093469,
          0.6457317886561643,
          0.6460425934270978,
          0.6459776042353901,
          0.6460503928583703,
          0.6457260885048465,
          0.645866910607837,
          0.6458765010948944,
          0.6460074819120522
         ]
        }
       ],
       "layout": {
        "template": {
         "data": {
          "bar": [
           {
            "error_x": {
             "color": "#2a3f5f"
            },
            "error_y": {
             "color": "#2a3f5f"
            },
            "marker": {
             "line": {
              "color": "#E5ECF6",
              "width": 0.5
             },
             "pattern": {
              "fillmode": "overlay",
              "size": 10,
              "solidity": 0.2
             }
            },
            "type": "bar"
           }
          ],
          "barpolar": [
           {
            "marker": {
             "line": {
              "color": "#E5ECF6",
              "width": 0.5
             },
             "pattern": {
              "fillmode": "overlay",
              "size": 10,
              "solidity": 0.2
             }
            },
            "type": "barpolar"
           }
          ],
          "carpet": [
           {
            "aaxis": {
             "endlinecolor": "#2a3f5f",
             "gridcolor": "white",
             "linecolor": "white",
             "minorgridcolor": "white",
             "startlinecolor": "#2a3f5f"
            },
            "baxis": {
             "endlinecolor": "#2a3f5f",
             "gridcolor": "white",
             "linecolor": "white",
             "minorgridcolor": "white",
             "startlinecolor": "#2a3f5f"
            },
            "type": "carpet"
           }
          ],
          "choropleth": [
           {
            "colorbar": {
             "outlinewidth": 0,
             "ticks": ""
            },
            "type": "choropleth"
           }
          ],
          "contour": [
           {
            "colorbar": {
             "outlinewidth": 0,
             "ticks": ""
            },
            "colorscale": [
             [
              0,
              "#0d0887"
             ],
             [
              0.1111111111111111,
              "#46039f"
             ],
             [
              0.2222222222222222,
              "#7201a8"
             ],
             [
              0.3333333333333333,
              "#9c179e"
             ],
             [
              0.4444444444444444,
              "#bd3786"
             ],
             [
              0.5555555555555556,
              "#d8576b"
             ],
             [
              0.6666666666666666,
              "#ed7953"
             ],
             [
              0.7777777777777778,
              "#fb9f3a"
             ],
             [
              0.8888888888888888,
              "#fdca26"
             ],
             [
              1,
              "#f0f921"
             ]
            ],
            "type": "contour"
           }
          ],
          "contourcarpet": [
           {
            "colorbar": {
             "outlinewidth": 0,
             "ticks": ""
            },
            "type": "contourcarpet"
           }
          ],
          "heatmap": [
           {
            "colorbar": {
             "outlinewidth": 0,
             "ticks": ""
            },
            "colorscale": [
             [
              0,
              "#0d0887"
             ],
             [
              0.1111111111111111,
              "#46039f"
             ],
             [
              0.2222222222222222,
              "#7201a8"
             ],
             [
              0.3333333333333333,
              "#9c179e"
             ],
             [
              0.4444444444444444,
              "#bd3786"
             ],
             [
              0.5555555555555556,
              "#d8576b"
             ],
             [
              0.6666666666666666,
              "#ed7953"
             ],
             [
              0.7777777777777778,
              "#fb9f3a"
             ],
             [
              0.8888888888888888,
              "#fdca26"
             ],
             [
              1,
              "#f0f921"
             ]
            ],
            "type": "heatmap"
           }
          ],
          "histogram": [
           {
            "marker": {
             "pattern": {
              "fillmode": "overlay",
              "size": 10,
              "solidity": 0.2
             }
            },
            "type": "histogram"
           }
          ],
          "histogram2d": [
           {
            "colorbar": {
             "outlinewidth": 0,
             "ticks": ""
            },
            "colorscale": [
             [
              0,
              "#0d0887"
             ],
             [
              0.1111111111111111,
              "#46039f"
             ],
             [
              0.2222222222222222,
              "#7201a8"
             ],
             [
              0.3333333333333333,
              "#9c179e"
             ],
             [
              0.4444444444444444,
              "#bd3786"
             ],
             [
              0.5555555555555556,
              "#d8576b"
             ],
             [
              0.6666666666666666,
              "#ed7953"
             ],
             [
              0.7777777777777778,
              "#fb9f3a"
             ],
             [
              0.8888888888888888,
              "#fdca26"
             ],
             [
              1,
              "#f0f921"
             ]
            ],
            "type": "histogram2d"
           }
          ],
          "histogram2dcontour": [
           {
            "colorbar": {
             "outlinewidth": 0,
             "ticks": ""
            },
            "colorscale": [
             [
              0,
              "#0d0887"
             ],
             [
              0.1111111111111111,
              "#46039f"
             ],
             [
              0.2222222222222222,
              "#7201a8"
             ],
             [
              0.3333333333333333,
              "#9c179e"
             ],
             [
              0.4444444444444444,
              "#bd3786"
             ],
             [
              0.5555555555555556,
              "#d8576b"
             ],
             [
              0.6666666666666666,
              "#ed7953"
             ],
             [
              0.7777777777777778,
              "#fb9f3a"
             ],
             [
              0.8888888888888888,
              "#fdca26"
             ],
             [
              1,
              "#f0f921"
             ]
            ],
            "type": "histogram2dcontour"
           }
          ],
          "mesh3d": [
           {
            "colorbar": {
             "outlinewidth": 0,
             "ticks": ""
            },
            "type": "mesh3d"
           }
          ],
          "parcoords": [
           {
            "line": {
             "colorbar": {
              "outlinewidth": 0,
              "ticks": ""
             }
            },
            "type": "parcoords"
           }
          ],
          "pie": [
           {
            "automargin": true,
            "type": "pie"
           }
          ],
          "scatter": [
           {
            "fillpattern": {
             "fillmode": "overlay",
             "size": 10,
             "solidity": 0.2
            },
            "type": "scatter"
           }
          ],
          "scatter3d": [
           {
            "line": {
             "colorbar": {
              "outlinewidth": 0,
              "ticks": ""
             }
            },
            "marker": {
             "colorbar": {
              "outlinewidth": 0,
              "ticks": ""
             }
            },
            "type": "scatter3d"
           }
          ],
          "scattercarpet": [
           {
            "marker": {
             "colorbar": {
              "outlinewidth": 0,
              "ticks": ""
             }
            },
            "type": "scattercarpet"
           }
          ],
          "scattergeo": [
           {
            "marker": {
             "colorbar": {
              "outlinewidth": 0,
              "ticks": ""
             }
            },
            "type": "scattergeo"
           }
          ],
          "scattergl": [
           {
            "marker": {
             "colorbar": {
              "outlinewidth": 0,
              "ticks": ""
             }
            },
            "type": "scattergl"
           }
          ],
          "scattermap": [
           {
            "marker": {
             "colorbar": {
              "outlinewidth": 0,
              "ticks": ""
             }
            },
            "type": "scattermap"
           }
          ],
          "scattermapbox": [
           {
            "marker": {
             "colorbar": {
              "outlinewidth": 0,
              "ticks": ""
             }
            },
            "type": "scattermapbox"
           }
          ],
          "scatterpolar": [
           {
            "marker": {
             "colorbar": {
              "outlinewidth": 0,
              "ticks": ""
             }
            },
            "type": "scatterpolar"
           }
          ],
          "scatterpolargl": [
           {
            "marker": {
             "colorbar": {
              "outlinewidth": 0,
              "ticks": ""
             }
            },
            "type": "scatterpolargl"
           }
          ],
          "scatterternary": [
           {
            "marker": {
             "colorbar": {
              "outlinewidth": 0,
              "ticks": ""
             }
            },
            "type": "scatterternary"
           }
          ],
          "surface": [
           {
            "colorbar": {
             "outlinewidth": 0,
             "ticks": ""
            },
            "colorscale": [
             [
              0,
              "#0d0887"
             ],
             [
              0.1111111111111111,
              "#46039f"
             ],
             [
              0.2222222222222222,
              "#7201a8"
             ],
             [
              0.3333333333333333,
              "#9c179e"
             ],
             [
              0.4444444444444444,
              "#bd3786"
             ],
             [
              0.5555555555555556,
              "#d8576b"
             ],
             [
              0.6666666666666666,
              "#ed7953"
             ],
             [
              0.7777777777777778,
              "#fb9f3a"
             ],
             [
              0.8888888888888888,
              "#fdca26"
             ],
             [
              1,
              "#f0f921"
             ]
            ],
            "type": "surface"
           }
          ],
          "table": [
           {
            "cells": {
             "fill": {
              "color": "#EBF0F8"
             },
             "line": {
              "color": "white"
             }
            },
            "header": {
             "fill": {
              "color": "#C8D4E3"
             },
             "line": {
              "color": "white"
             }
            },
            "type": "table"
           }
          ]
         },
         "layout": {
          "annotationdefaults": {
           "arrowcolor": "#2a3f5f",
           "arrowhead": 0,
           "arrowwidth": 1
          },
          "autotypenumbers": "strict",
          "coloraxis": {
           "colorbar": {
            "outlinewidth": 0,
            "ticks": ""
           }
          },
          "colorscale": {
           "diverging": [
            [
             0,
             "#8e0152"
            ],
            [
             0.1,
             "#c51b7d"
            ],
            [
             0.2,
             "#de77ae"
            ],
            [
             0.3,
             "#f1b6da"
            ],
            [
             0.4,
             "#fde0ef"
            ],
            [
             0.5,
             "#f7f7f7"
            ],
            [
             0.6,
             "#e6f5d0"
            ],
            [
             0.7,
             "#b8e186"
            ],
            [
             0.8,
             "#7fbc41"
            ],
            [
             0.9,
             "#4d9221"
            ],
            [
             1,
             "#276419"
            ]
           ],
           "sequential": [
            [
             0,
             "#0d0887"
            ],
            [
             0.1111111111111111,
             "#46039f"
            ],
            [
             0.2222222222222222,
             "#7201a8"
            ],
            [
             0.3333333333333333,
             "#9c179e"
            ],
            [
             0.4444444444444444,
             "#bd3786"
            ],
            [
             0.5555555555555556,
             "#d8576b"
            ],
            [
             0.6666666666666666,
             "#ed7953"
            ],
            [
             0.7777777777777778,
             "#fb9f3a"
            ],
            [
             0.8888888888888888,
             "#fdca26"
            ],
            [
             1,
             "#f0f921"
            ]
           ],
           "sequentialminus": [
            [
             0,
             "#0d0887"
            ],
            [
             0.1111111111111111,
             "#46039f"
            ],
            [
             0.2222222222222222,
             "#7201a8"
            ],
            [
             0.3333333333333333,
             "#9c179e"
            ],
            [
             0.4444444444444444,
             "#bd3786"
            ],
            [
             0.5555555555555556,
             "#d8576b"
            ],
            [
             0.6666666666666666,
             "#ed7953"
            ],
            [
             0.7777777777777778,
             "#fb9f3a"
            ],
            [
             0.8888888888888888,
             "#fdca26"
            ],
            [
             1,
             "#f0f921"
            ]
           ]
          },
          "colorway": [
           "#636efa",
           "#EF553B",
           "#00cc96",
           "#ab63fa",
           "#FFA15A",
           "#19d3f3",
           "#FF6692",
           "#B6E880",
           "#FF97FF",
           "#FECB52"
          ],
          "font": {
           "color": "#2a3f5f"
          },
          "geo": {
           "bgcolor": "white",
           "lakecolor": "white",
           "landcolor": "#E5ECF6",
           "showlakes": true,
           "showland": true,
           "subunitcolor": "white"
          },
          "hoverlabel": {
           "align": "left"
          },
          "hovermode": "closest",
          "mapbox": {
           "style": "light"
          },
          "paper_bgcolor": "white",
          "plot_bgcolor": "#E5ECF6",
          "polar": {
           "angularaxis": {
            "gridcolor": "white",
            "linecolor": "white",
            "ticks": ""
           },
           "bgcolor": "#E5ECF6",
           "radialaxis": {
            "gridcolor": "white",
            "linecolor": "white",
            "ticks": ""
           }
          },
          "scene": {
           "xaxis": {
            "backgroundcolor": "#E5ECF6",
            "gridcolor": "white",
            "gridwidth": 2,
            "linecolor": "white",
            "showbackground": true,
            "ticks": "",
            "zerolinecolor": "white"
           },
           "yaxis": {
            "backgroundcolor": "#E5ECF6",
            "gridcolor": "white",
            "gridwidth": 2,
            "linecolor": "white",
            "showbackground": true,
            "ticks": "",
            "zerolinecolor": "white"
           },
           "zaxis": {
            "backgroundcolor": "#E5ECF6",
            "gridcolor": "white",
            "gridwidth": 2,
            "linecolor": "white",
            "showbackground": true,
            "ticks": "",
            "zerolinecolor": "white"
           }
          },
          "shapedefaults": {
           "line": {
            "color": "#2a3f5f"
           }
          },
          "ternary": {
           "aaxis": {
            "gridcolor": "white",
            "linecolor": "white",
            "ticks": ""
           },
           "baxis": {
            "gridcolor": "white",
            "linecolor": "white",
            "ticks": ""
           },
           "bgcolor": "#E5ECF6",
           "caxis": {
            "gridcolor": "white",
            "linecolor": "white",
            "ticks": ""
           }
          },
          "title": {
           "x": 0.05
          },
          "xaxis": {
           "automargin": true,
           "gridcolor": "white",
           "linecolor": "white",
           "ticks": "",
           "title": {
            "standoff": 15
           },
           "zerolinecolor": "white",
           "zerolinewidth": 2
          },
          "yaxis": {
           "automargin": true,
           "gridcolor": "white",
           "linecolor": "white",
           "ticks": "",
           "title": {
            "standoff": 15
           },
           "zerolinecolor": "white",
           "zerolinewidth": 2
          }
         }
        },
        "title": {
         "text": "Slice Plot"
        },
        "xaxis": {
         "title": {
          "text": "num_leaves"
         }
        },
        "yaxis": {
         "title": {
          "text": "Objective Value"
         }
        }
       }
      }
     },
     "metadata": {},
     "output_type": "display_data"
    }
   ],
   "source": [
    "simple_lightGBM(df)"
   ]
  },
  {
   "cell_type": "code",
   "execution_count": null,
   "id": "7b463425",
   "metadata": {},
   "outputs": [],
   "source": []
  }
 ],
 "metadata": {
  "kernelspec": {
   "display_name": ".env",
   "language": "python",
   "name": "python3"
  },
  "language_info": {
   "codemirror_mode": {
    "name": "ipython",
    "version": 3
   },
   "file_extension": ".py",
   "mimetype": "text/x-python",
   "name": "python",
   "nbconvert_exporter": "python",
   "pygments_lexer": "ipython3",
   "version": "3.12.5"
  }
 },
 "nbformat": 4,
 "nbformat_minor": 5
}
