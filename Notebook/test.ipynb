{
 "cells": [
  {
   "cell_type": "code",
   "execution_count": 1,
   "id": "aac744d1",
   "metadata": {},
   "outputs": [
    {
     "name": "stderr",
     "output_type": "stream",
     "text": [
      "c:\\Users\\ken20\\Documents\\workspaces\\HORSE_RACING\\.env\\Lib\\site-packages\\tqdm\\auto.py:21: TqdmWarning: IProgress not found. Please update jupyter and ipywidgets. See https://ipywidgets.readthedocs.io/en/stable/user_install.html\n",
      "  from .autonotebook import tqdm as notebook_tqdm\n"
     ]
    }
   ],
   "source": [
    "import pandas as pd\n",
    "import numpy as np\n",
    "from pathlib import Path\n",
    "import sys\n",
    "import matplotlib.pyplot as plt\n",
    "import seaborn as sns\n",
    "\n",
    "module_path = (Path().resolve().parent/ \"Modules\")\n",
    "sys.path.append(str(module_path))\n",
    "\n",
    "pd.set_option(\"display.max_columns\", None)\n",
    "plt.rcParams[\"font.family\"] = \"IPAexGothic\"\n",
    "\n",
    "import my_modules, model_tuner, features # 自作モジュール\n",
    "\n",
    "%load_ext autoreload\n",
    "%autoreload 2\n",
    "%reload_ext autoreload"
   ]
  },
  {
   "cell_type": "code",
   "execution_count": 2,
   "id": "6504a0a7",
   "metadata": {},
   "outputs": [
    {
     "data": {
      "text/html": [
       "<div>\n",
       "<style scoped>\n",
       "    .dataframe tbody tr th:only-of-type {\n",
       "        vertical-align: middle;\n",
       "    }\n",
       "\n",
       "    .dataframe tbody tr th {\n",
       "        vertical-align: top;\n",
       "    }\n",
       "\n",
       "    .dataframe thead th {\n",
       "        text-align: right;\n",
       "    }\n",
       "</style>\n",
       "<table border=\"1\" class=\"dataframe\">\n",
       "  <thead>\n",
       "    <tr style=\"text-align: right;\">\n",
       "      <th></th>\n",
       "      <th>year</th>\n",
       "      <th>month</th>\n",
       "      <th>day</th>\n",
       "      <th>horse</th>\n",
       "      <th>pred_class_1</th>\n",
       "      <th>pred_class_2</th>\n",
       "      <th>pred_class_3</th>\n",
       "      <th>target</th>\n",
       "      <th>race_id</th>\n",
       "      <th>waku_num</th>\n",
       "    </tr>\n",
       "  </thead>\n",
       "  <tbody>\n",
       "    <tr>\n",
       "      <th>0</th>\n",
       "      <td>2025</td>\n",
       "      <td>2</td>\n",
       "      <td>2</td>\n",
       "      <td>ラファールドール</td>\n",
       "      <td>0.033841</td>\n",
       "      <td>0.039362</td>\n",
       "      <td>0.041342</td>\n",
       "      <td>0</td>\n",
       "      <td>202502020501020205</td>\n",
       "      <td>4</td>\n",
       "    </tr>\n",
       "    <tr>\n",
       "      <th>1</th>\n",
       "      <td>2025</td>\n",
       "      <td>2</td>\n",
       "      <td>2</td>\n",
       "      <td>ロードインフェルノ</td>\n",
       "      <td>0.044336</td>\n",
       "      <td>0.060592</td>\n",
       "      <td>0.082243</td>\n",
       "      <td>0</td>\n",
       "      <td>202502020501020204</td>\n",
       "      <td>3</td>\n",
       "    </tr>\n",
       "    <tr>\n",
       "      <th>2</th>\n",
       "      <td>2025</td>\n",
       "      <td>2</td>\n",
       "      <td>2</td>\n",
       "      <td>タイセイアーサー</td>\n",
       "      <td>0.023447</td>\n",
       "      <td>0.035971</td>\n",
       "      <td>0.049787</td>\n",
       "      <td>0</td>\n",
       "      <td>202502020501020207</td>\n",
       "      <td>5</td>\n",
       "    </tr>\n",
       "    <tr>\n",
       "      <th>3</th>\n",
       "      <td>2025</td>\n",
       "      <td>2</td>\n",
       "      <td>2</td>\n",
       "      <td>ブリスキー</td>\n",
       "      <td>0.096036</td>\n",
       "      <td>0.068693</td>\n",
       "      <td>0.058486</td>\n",
       "      <td>0</td>\n",
       "      <td>202502020501020202</td>\n",
       "      <td>2</td>\n",
       "    </tr>\n",
       "    <tr>\n",
       "      <th>4</th>\n",
       "      <td>2025</td>\n",
       "      <td>2</td>\n",
       "      <td>2</td>\n",
       "      <td>マルチライセンス</td>\n",
       "      <td>0.018028</td>\n",
       "      <td>0.025876</td>\n",
       "      <td>0.034216</td>\n",
       "      <td>0</td>\n",
       "      <td>202502020501020203</td>\n",
       "      <td>3</td>\n",
       "    </tr>\n",
       "  </tbody>\n",
       "</table>\n",
       "</div>"
      ],
      "text/plain": [
       "   year  month  day      horse  pred_class_1  pred_class_2  pred_class_3  \\\n",
       "0  2025      2    2   ラファールドール      0.033841      0.039362      0.041342   \n",
       "1  2025      2    2  ロードインフェルノ      0.044336      0.060592      0.082243   \n",
       "2  2025      2    2   タイセイアーサー      0.023447      0.035971      0.049787   \n",
       "3  2025      2    2      ブリスキー      0.096036      0.068693      0.058486   \n",
       "4  2025      2    2   マルチライセンス      0.018028      0.025876      0.034216   \n",
       "\n",
       "   target             race_id  waku_num  \n",
       "0       0  202502020501020205         4  \n",
       "1       0  202502020501020204         3  \n",
       "2       0  202502020501020207         5  \n",
       "3       0  202502020501020202         2  \n",
       "4       0  202502020501020203         3  "
      ]
     },
     "execution_count": 2,
     "metadata": {},
     "output_type": "execute_result"
    }
   ],
   "source": [
    "df_pred = pd.read_csv(\"df_pred.csv\")\n",
    "df_pred.head()"
   ]
  },
  {
   "cell_type": "code",
   "execution_count": 3,
   "id": "f9c547f4",
   "metadata": {},
   "outputs": [],
   "source": [
    "df_pred[\"id_for_fold\"] = df_pred[\"race_id\"] // 100"
   ]
  },
  {
   "cell_type": "code",
   "execution_count": 4,
   "id": "a693ff19",
   "metadata": {},
   "outputs": [
    {
     "data": {
      "text/html": [
       "<div>\n",
       "<style scoped>\n",
       "    .dataframe tbody tr th:only-of-type {\n",
       "        vertical-align: middle;\n",
       "    }\n",
       "\n",
       "    .dataframe tbody tr th {\n",
       "        vertical-align: top;\n",
       "    }\n",
       "\n",
       "    .dataframe thead th {\n",
       "        text-align: right;\n",
       "    }\n",
       "</style>\n",
       "<table border=\"1\" class=\"dataframe\">\n",
       "  <thead>\n",
       "    <tr style=\"text-align: right;\">\n",
       "      <th></th>\n",
       "      <th>waku_pair</th>\n",
       "      <th>pred</th>\n",
       "      <th>wakuren_confirmed_odds</th>\n",
       "      <th>id_for_fold</th>\n",
       "      <th>target</th>\n",
       "    </tr>\n",
       "  </thead>\n",
       "  <tbody>\n",
       "    <tr>\n",
       "      <th>0</th>\n",
       "      <td>枠1-1</td>\n",
       "      <td>0.007419</td>\n",
       "      <td>0.0</td>\n",
       "      <td>2025020205010202</td>\n",
       "      <td>0</td>\n",
       "    </tr>\n",
       "    <tr>\n",
       "      <th>1</th>\n",
       "      <td>枠1-2</td>\n",
       "      <td>0.014231</td>\n",
       "      <td>21.6</td>\n",
       "      <td>2025020205010202</td>\n",
       "      <td>0</td>\n",
       "    </tr>\n",
       "    <tr>\n",
       "      <th>2</th>\n",
       "      <td>枠1-3</td>\n",
       "      <td>0.012786</td>\n",
       "      <td>46.3</td>\n",
       "      <td>2025020205010202</td>\n",
       "      <td>0</td>\n",
       "    </tr>\n",
       "  </tbody>\n",
       "</table>\n",
       "</div>"
      ],
      "text/plain": [
       "  waku_pair      pred  wakuren_confirmed_odds       id_for_fold  target\n",
       "0      枠1-1  0.007419                     0.0  2025020205010202       0\n",
       "1      枠1-2  0.014231                    21.6  2025020205010202       0\n",
       "2      枠1-3  0.012786                    46.3  2025020205010202       0"
      ]
     },
     "execution_count": 4,
     "metadata": {},
     "output_type": "execute_result"
    }
   ],
   "source": [
    "odds_df = pd.read_csv(\"wakuren_pred.csv\")\n",
    "odds_df.head(3)"
   ]
  },
  {
   "cell_type": "code",
   "execution_count": 8,
   "id": "63ede38d",
   "metadata": {},
   "outputs": [
    {
     "name": "stdout",
     "output_type": "stream",
     "text": [
      "ROI: 2.164 %\n"
     ]
    },
    {
     "data": {
      "image/png": "[encoded data removed]",
      "text/plain": [
       "<Figure size 640x480 with 1 Axes>"
      ]
     },
     "metadata": {},
     "output_type": "display_data"
    }
   ],
   "source": [
    "def kelly_calculation(df, prefix=None, kelly_frac=0.5, funds=1_000_000):\n",
    "    if prefix is None:\n",
    "        raise ValueError(\"prefix must be specified\")\n",
    "    df = df.copy()\n",
    "    # オッズ範囲を1に固定（0の場合を排除）\n",
    "    df[f\"{prefix}_confirmed_odds\"] = np.clip(df[f\"{prefix}_confirmed_odds\"].values, 1, None)\n",
    "    df[\"pred\"] = np.clip(df[\"pred\"].values, 0, 1)\n",
    "\n",
    "    b = df[f\"{prefix}_confirmed_odds\"] - 1\n",
    "    p = df[\"pred\"]\n",
    "    q = 1 - p\n",
    "    f = (b*p - q) / b\n",
    "    df[\"kelly_criterion\"] = f * kelly_frac\n",
    "    df[\"kelly_criterion\"] = np.clip(df[\"kelly_criterion\"].values, 0, None)\n",
    "    \n",
    "    funds_list = [funds]\n",
    "    for id, group in df.groupby(\"id_for_fold\", observed=True):\n",
    "        # 掛け金の計算（100円未満は切り捨て）\n",
    "        scale = max(1, group[\"kelly_criterion\"].sum())\n",
    "        group[\"kelly_criterion\"] /= scale\n",
    "        group[\"bet_amount\"] = funds * group[\"kelly_criterion\"] // 100 * 100\n",
    "        group[\"win_amount\"] = group[\"bet_amount\"] * group[\"target\"] * group[f\"{prefix}_confirmed_odds\"]\n",
    "\n",
    "        sum_bet_amount = group[\"bet_amount\"].sum()\n",
    "        sum_win_amount = group[\"win_amount\"].sum()\n",
    "\n",
    "        funds += sum_win_amount - sum_bet_amount\n",
    "        funds_list.append(funds)\n",
    "\n",
    "    print(f\"ROI: {funds_list[-1] / funds_list[0] * 100} %\")\n",
    "\n",
    "    plt.plot(funds_list)\n",
    "\n",
    "    return df, funds_list\n",
    "    \n",
    "\n",
    "df_calced, funds_list = kelly_calculation(odds_df, prefix=\"wakuren\", kelly_frac=0.1)"
   ]
  },
  {
   "cell_type": "code",
   "execution_count": 9,
   "id": "0a78f5c1",
   "metadata": {},
   "outputs": [
    {
     "data": {
      "text/plain": [
       "0.6364697883116768"
      ]
     },
     "execution_count": 9,
     "metadata": {},
     "output_type": "execute_result"
    }
   ],
   "source": [
    "from sklearn.metrics import log_loss\n",
    "df_pred[\"pred_class_0\"] = 1 - df_pred[[\"pred_class_1\", \"pred_class_2\", \"pred_class_3\"]].sum(axis=1)\n",
    "log_loss(df_pred[\"target\"], df_pred[[\"pred_class_0\", \"pred_class_1\", \"pred_class_2\", \"pred_class_3\"]], labels=[0, 1, 2, 3])"
   ]
  },
  {
   "cell_type": "code",
   "execution_count": 10,
   "id": "b7d66b73",
   "metadata": {},
   "outputs": [
    {
     "data": {
      "text/plain": [
       "0        0\n",
       "1        0\n",
       "2        0\n",
       "3        0\n",
       "4        0\n",
       "        ..\n",
       "19793    0\n",
       "19794    0\n",
       "19795    0\n",
       "19796    0\n",
       "19797    1\n",
       "Name: target, Length: 19798, dtype: int64"
      ]
     },
     "execution_count": 10,
     "metadata": {},
     "output_type": "execute_result"
    }
   ],
   "source": [
    "df_pred[\"target\"]"
   ]
  },
  {
   "cell_type": "code",
   "execution_count": null,
   "id": "b8ae9ab6",
   "metadata": {},
   "outputs": [],
   "source": []
  }
 ],
 "metadata": {
  "kernelspec": {
   "display_name": ".env",
   "language": "python",
   "name": "python3"
  },
  "language_info": {
   "codemirror_mode": {
    "name": "ipython",
    "version": 3
   },
   "file_extension": ".py",
   "mimetype": "text/x-python",
   "name": "python",
   "nbconvert_exporter": "python",
   "pygments_lexer": "ipython3",
   "version": "3.11.9"
  }
 },
 "nbformat": 4,
 "nbformat_minor": 5
}
