{
 "cells": [
  {
   "cell_type": "code",
   "execution_count": 1,
   "id": "aac744d1",
   "metadata": {},
   "outputs": [
    {
     "name": "stderr",
     "output_type": "stream",
     "text": [
      "c:\\Users\\ken20\\Documents\\workspaces\\HORSE_RACING\\.env\\Lib\\site-packages\\tqdm\\auto.py:21: TqdmWarning: IProgress not found. Please update jupyter and ipywidgets. See https://ipywidgets.readthedocs.io/en/stable/user_install.html\n",
      "  from .autonotebook import tqdm as notebook_tqdm\n"
     ]
    }
   ],
   "source": [
    "import pandas as pd\n",
    "import numpy as np\n",
    "from pathlib import Path\n",
    "import sys\n",
    "import matplotlib.pyplot as plt\n",
    "import seaborn as sns\n",
    "\n",
    "module_path = (Path().resolve().parent/ \"Modules\")\n",
    "sys.path.append(str(module_path))\n",
    "\n",
    "pd.set_option(\"display.max_columns\", None)\n",
    "plt.rcParams[\"font.family\"] = \"IPAexGothic\"\n",
    "\n",
    "import my_modules, model_tuner, features # 自作モジュール"
   ]
  },
  {
   "cell_type": "code",
   "execution_count": 2,
   "id": "d5d3ae22",
   "metadata": {},
   "outputs": [],
   "source": [
    "df = pd.read_csv(\"../Data/train_data_tmp.csv\", encoding=\"shift-jis\")\n",
    "odds_df = pd.read_csv(\"../Data/Time_Series_Odds_win_odds.csv\", encoding=\"shift-jis\")"
   ]
  },
  {
   "cell_type": "code",
   "execution_count": 3,
   "id": "5c8c8ef7",
   "metadata": {},
   "outputs": [
    {
     "name": "stderr",
     "output_type": "stream",
     "text": [
      "C:\\Users\\ken20\\Documents\\workspaces\\HORSE_RACING\\Modules\\my_modules.py:77: FutureWarning: Downcasting behavior in `replace` is deprecated and will be removed in a future version. To retain the old behavior, explicitly call `result.infer_objects(copy=False)`. To opt-in to the future behavior, set `pd.set_option('future.no_silent_downcasting', True)`\n",
      "  df[\"place_num\"] = df[\"place\"].replace(place_dict).astype(int)\n"
     ]
    }
   ],
   "source": [
    "df = my_modules.preprocessing(df)\n",
    "df = my_modules.common_process(df)"
   ]
  },
  {
   "cell_type": "code",
   "execution_count": 4,
   "id": "accbffb0",
   "metadata": {},
   "outputs": [
    {
     "name": "stdout",
     "output_type": "stream",
     "text": [
      "<class 'pandas.core.frame.DataFrame'>\n",
      "Index: 252411 entries, 252634 to 0\n",
      "Data columns (total 67 columns):\n",
      " #   Column               Non-Null Count   Dtype         \n",
      "---  ------               --------------   -----         \n",
      " 0   race_id              252411 non-null  int64         \n",
      " 1   year                 252411 non-null  int64         \n",
      " 2   month                252411 non-null  int64         \n",
      " 3   day                  252411 non-null  int64         \n",
      " 4   times                252411 non-null  int64         \n",
      " 5   place                252411 non-null  object        \n",
      " 6   daily                252411 non-null  object        \n",
      " 7   race_num             252411 non-null  int64         \n",
      " 8   horse                252411 non-null  object        \n",
      " 9   jockey_id            252411 non-null  object        \n",
      " 10  trainer_id           252411 non-null  int64         \n",
      " 11  horse_N              252411 non-null  object        \n",
      " 12  waku_num             252411 non-null  int64         \n",
      " 13  horse_num            252411 non-null  int64         \n",
      " 14  class_code           252411 non-null  object        \n",
      " 15  track_code           252411 non-null  object        \n",
      " 16  corner_num           252411 non-null  int64         \n",
      " 17  dist                 252411 non-null  int64         \n",
      " 18  state                252411 non-null  object        \n",
      " 19  weather              252411 non-null  object        \n",
      " 20  age_code             252411 non-null  object        \n",
      " 21  sex                  252411 non-null  object        \n",
      " 22  age                  252411 non-null  int64         \n",
      " 23  basis_weight         252411 non-null  float64       \n",
      " 24  blinker              29274 non-null   object        \n",
      " 25  weight               252406 non-null  float64       \n",
      " 26  inc_dec              227059 non-null  float64       \n",
      " 27  weight_code          252411 non-null  object        \n",
      " 28  win_odds             251912 non-null  float64       \n",
      " 29  win_mul_odds_Hi      251912 non-null  float64       \n",
      " 30  win_mul_odds_Lo      251912 non-null  float64       \n",
      " 31  rank                 252411 non-null  int64         \n",
      " 32  time_diff            251108 non-null  float32       \n",
      " 33  time                 251108 non-null  float32       \n",
      " 34  corner1_rank         105329 non-null  float64       \n",
      " 35  corner2_rank         121495 non-null  float64       \n",
      " 36  corner3_rank         249628 non-null  float64       \n",
      " 37  corner4_rank         251512 non-null  float64       \n",
      " 38  last_3F_time         251108 non-null  float64       \n",
      " 39  last_3F_rank         252411 non-null  int64         \n",
      " 40  Ave_3F               251108 non-null  float64       \n",
      " 41  PCI                  251103 non-null  float64       \n",
      " 42  PCI3                 252411 non-null  float64       \n",
      " 43  RPCI                 252411 non-null  float64       \n",
      " 44  last_3F_time_diff    251108 non-null  float64       \n",
      " 45  leg                  251108 non-null  object        \n",
      " 46  pop                  251912 non-null  float64       \n",
      " 47  prize                252411 non-null  int64         \n",
      " 48  error_code           252411 non-null  int64         \n",
      " 49  father               252411 non-null  object        \n",
      " 50  mother               252411 non-null  object        \n",
      " 51  broodmare_sire       252411 non-null  object        \n",
      " 52  broodmare_sire_type  244771 non-null  object        \n",
      " 53  horse_color          252411 non-null  object        \n",
      " 54  id                   252411 non-null  int64         \n",
      " 55  id_for_fold          252411 non-null  category      \n",
      " 56  field_type           252411 non-null  object        \n",
      " 57  flat_or_jump         252411 non-null  object        \n",
      " 58  turn_type            252411 non-null  object        \n",
      " 59  race_type            252411 non-null  object        \n",
      " 60  waku                 252411 non-null  object        \n",
      " 61  datetime             252411 non-null  datetime64[ns]\n",
      " 62  age_type             252411 non-null  object        \n",
      " 63  dist_type            252411 non-null  object        \n",
      " 64  is_1st_rank          252411 non-null  int64         \n",
      " 65  is_in_3rd_rank       252411 non-null  int64         \n",
      " 66  target               252411 non-null  int64         \n",
      "dtypes: category(1), datetime64[ns](1), float32(2), float64(17), int64(20), object(26)\n",
      "memory usage: 128.2+ MB\n"
     ]
    }
   ],
   "source": [
    "df.info()"
   ]
  },
  {
   "cell_type": "markdown",
   "id": "876fae1b",
   "metadata": {},
   "source": [
    "### nord2Vecを試してみる"
   ]
  },
  {
   "cell_type": "code",
   "execution_count": 57,
   "id": "3a010aff",
   "metadata": {},
   "outputs": [
    {
     "data": {
      "application/vnd.jupyter.widget-view+json": {
       "model_id": "bd5f2c7b08f14eaf842c7be468da6bea",
       "version_major": 2,
       "version_minor": 0
      },
      "text/plain": [
       "Computing transition probabilities:   0%|          | 0/46470 [00:00<?, ?it/s]"
      ]
     },
     "metadata": {},
     "output_type": "display_data"
    }
   ],
   "source": [
    "import networkx as nx\n",
    "from node2vec import Node2Vec      # pip install node2vec\n",
    "\n",
    "DIM = 32\n",
    "\n",
    "# --- 1)  血統グラフを作る  ------------------------------------\n",
    "def build_pedigree_graph(df):\n",
    "    df = df.copy()\n",
    "    df = df.drop_duplicates(subset=\"horse\")\n",
    "    g = nx.DiGraph() # 有向グラフ\n",
    "    for _, r in df.iterrows():\n",
    "        h = r[\"horse\"]\n",
    "        f = r[\"father\"]\n",
    "        m = r[\"mother\"]\n",
    "        bm = r[\"broodmare_sire\"]\n",
    "        g.add_node(h) #ノードを追加\n",
    "        if pd.notna(f):\n",
    "            g.add_node(f); g.add_edge(f, h, rel=\"father\") # ノードとエッジ（辺）を追加\n",
    "        if pd.notna(m):\n",
    "            g.add_node(m); g.add_edge(m, h, rel=\"mother\")\n",
    "        if pd.notna(bm):\n",
    "            g.add_node(bm); g.add_edge(bm, m, rel=\"bloodmare_sire\")\n",
    "    return g\n",
    "\n",
    "\n",
    "# --- 2)  Node2vec  -------------------------------------------\n",
    "#  * directed=True で親→子の有向ウォーク\n",
    "G = build_pedigree_graph(df)\n",
    "n2v = Node2Vec(G, dimensions=DIM, walk_length=30,\n",
    "               num_walks=30, workers=4,\n",
    "               p=1, q=0.5, weight_key=None)\n",
    "\n",
    "model = n2v.fit(window=5, min_count=1, batch_words=256)\n",
    "\n",
    "\n",
    "# --- 3)  DataFrame に埋め込む  -------------------------------\n",
    "def add_graph_embedding(df, model, horse_col=\"horse\", dim=32):\n",
    "    vec = np.array([model.wv[h] if h in model.wv\n",
    "                    else np.zeros(dim) for h in df[horse_col]])\n",
    "    new_cols = [f\"pedigree_g2v_{i}\" for i in range(dim)]\n",
    "    return pd.concat([df.reset_index(drop=True),\n",
    "                      pd.DataFrame(vec, columns=new_cols)], axis=1), new_cols\n",
    "\n",
    "df_emb, graph_cols = add_graph_embedding(df, model, dim=DIM)"
   ]
  },
  {
   "cell_type": "code",
   "execution_count": 58,
   "id": "93d5f264",
   "metadata": {},
   "outputs": [
    {
     "name": "stdout",
     "output_type": "stream",
     "text": [
      "0.1514917\n"
     ]
    }
   ],
   "source": [
    "horse1 = df_emb[df_emb.horse == \"ミスビアンカ\"].drop_duplicates(subset=\"horse\")[[col for col in df_emb.columns if col.startswith(\"pedigree_g2v\")]].values[0]\n",
    "horse2 = df_emb[df_emb.horse == \"イクイノックス\"].drop_duplicates(subset=\"horse\")[[col for col in df_emb.columns if col.startswith(\"pedigree_g2v\")]].values[0]\n",
    "print(np.dot(horse1, horse2) / (np.linalg.norm(horse1, ord=2) * np.linalg.norm(horse2, ord=2)))"
   ]
  },
  {
   "cell_type": "code",
   "execution_count": null,
   "id": "d012b8a5",
   "metadata": {},
   "outputs": [],
   "source": []
  }
 ],
 "metadata": {
  "kernelspec": {
   "display_name": ".env",
   "language": "python",
   "name": "python3"
  },
  "language_info": {
   "codemirror_mode": {
    "name": "ipython",
    "version": 3
   },
   "file_extension": ".py",
   "mimetype": "text/x-python",
   "name": "python",
   "nbconvert_exporter": "python",
   "pygments_lexer": "ipython3",
   "version": "3.11.9"
  }
 },
 "nbformat": 4,
 "nbformat_minor": 5
}
