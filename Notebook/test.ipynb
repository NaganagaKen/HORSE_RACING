{
 "cells": [
  {
   "cell_type": "code",
   "execution_count": 32,
   "id": "aac744d1",
   "metadata": {},
   "outputs": [],
   "source": [
    "import pandas as pd\n",
    "import numpy as np\n",
    "from pathlib import Path\n",
    "import sys\n",
    "import matplotlib.pyplot as plt\n",
    "import seaborn as sns\n",
    "\n",
    "module_path = (Path().resolve().parent/ \"Modules\")\n",
    "sys.path.append(str(module_path))\n",
    "\n",
    "pd.set_option(\"display.max_columns\", None)\n",
    "\n",
    "import my_modules, model_tuner, features # 自作モジュール"
   ]
  },
  {
   "cell_type": "code",
   "execution_count": 33,
   "id": "d5d3ae22",
   "metadata": {},
   "outputs": [],
   "source": [
    "df = pd.read_csv(\"../Data/train_data_tmp.csv\", encoding=\"shift-jis\")\n",
    "odds_df = pd.read_csv(\"../Data/Time_Series_Odds_win_odds.csv\", encoding=\"shift-jis\")"
   ]
  },
  {
   "cell_type": "code",
   "execution_count": 34,
   "id": "5c8c8ef7",
   "metadata": {},
   "outputs": [
    {
     "name": "stderr",
     "output_type": "stream",
     "text": [
      "C:\\Users\\ken05\\Documents\\others\\HORSE_RACING\\Modules\\my_modules.py:74: FutureWarning: Downcasting behavior in `replace` is deprecated and will be removed in a future version. To retain the old behavior, explicitly call `result.infer_objects(copy=False)`. To opt-in to the future behavior, set `pd.set_option('future.no_silent_downcasting', True)`\n",
      "  df[\"place_num\"] = df[\"place\"].replace(place_dict).astype(int)\n"
     ]
    }
   ],
   "source": [
    "df = my_modules.preprocessing(df)\n",
    "df = my_modules.common_process(df)"
   ]
  },
  {
   "cell_type": "code",
   "execution_count": 35,
   "id": "accbffb0",
   "metadata": {},
   "outputs": [
    {
     "name": "stdout",
     "output_type": "stream",
     "text": [
      "<class 'pandas.core.frame.DataFrame'>\n",
      "Index: 252411 entries, 252634 to 0\n",
      "Data columns (total 67 columns):\n",
      " #   Column               Non-Null Count   Dtype         \n",
      "---  ------               --------------   -----         \n",
      " 0   race_id              252411 non-null  int64         \n",
      " 1   year                 252411 non-null  int64         \n",
      " 2   month                252411 non-null  int64         \n",
      " 3   day                  252411 non-null  int64         \n",
      " 4   times                252411 non-null  int64         \n",
      " 5   place                252411 non-null  object        \n",
      " 6   daily                252411 non-null  object        \n",
      " 7   race_num             252411 non-null  int64         \n",
      " 8   horse                252411 non-null  object        \n",
      " 9   jockey_id            252411 non-null  object        \n",
      " 10  trainer_id           252411 non-null  int64         \n",
      " 11  horse_N              252411 non-null  object        \n",
      " 12  waku_num             252411 non-null  int64         \n",
      " 13  horse_num            252411 non-null  int64         \n",
      " 14  class_code           252411 non-null  object        \n",
      " 15  track_code           252411 non-null  object        \n",
      " 16  corner_num           252411 non-null  int64         \n",
      " 17  dist                 252411 non-null  int64         \n",
      " 18  state                252411 non-null  object        \n",
      " 19  weather              252411 non-null  object        \n",
      " 20  age_code             252411 non-null  object        \n",
      " 21  sex                  252411 non-null  object        \n",
      " 22  age                  252411 non-null  int64         \n",
      " 23  basis_weight         252411 non-null  float64       \n",
      " 24  blinker              29274 non-null   object        \n",
      " 25  weight               252406 non-null  float64       \n",
      " 26  inc_dec              227059 non-null  float64       \n",
      " 27  weight_code          252411 non-null  object        \n",
      " 28  win_odds             251912 non-null  float64       \n",
      " 29  win_mul_odds_Hi      251912 non-null  float64       \n",
      " 30  win_mul_odds_Lo      251912 non-null  float64       \n",
      " 31  rank                 252411 non-null  int64         \n",
      " 32  time_diff            252411 non-null  object        \n",
      " 33  time                 252411 non-null  object        \n",
      " 34  corner1_rank         105329 non-null  float64       \n",
      " 35  corner2_rank         121495 non-null  float64       \n",
      " 36  corner3_rank         249628 non-null  float64       \n",
      " 37  corner4_rank         251512 non-null  float64       \n",
      " 38  last_3F_time         251108 non-null  float64       \n",
      " 39  last_3F_rank         252411 non-null  int64         \n",
      " 40  Ave_3F               251108 non-null  float64       \n",
      " 41  PCI                  251103 non-null  float64       \n",
      " 42  PCI3                 252411 non-null  float64       \n",
      " 43  RPCI                 252411 non-null  float64       \n",
      " 44  last_3F_time_diff    251108 non-null  float64       \n",
      " 45  leg                  251108 non-null  object        \n",
      " 46  pop                  251912 non-null  float64       \n",
      " 47  prize                252411 non-null  int64         \n",
      " 48  error_code           252411 non-null  int64         \n",
      " 49  father               252411 non-null  object        \n",
      " 50  mother               252411 non-null  object        \n",
      " 51  broodmare_sire       252411 non-null  object        \n",
      " 52  broodmare_sire_type  244771 non-null  object        \n",
      " 53  horse_color          252411 non-null  object        \n",
      " 54  id                   252411 non-null  int64         \n",
      " 55  id_for_fold          252411 non-null  category      \n",
      " 56  field_type           252411 non-null  object        \n",
      " 57  flat_or_jump         252411 non-null  object        \n",
      " 58  turn_type            252411 non-null  object        \n",
      " 59  race_type            252411 non-null  object        \n",
      " 60  waku                 252411 non-null  object        \n",
      " 61  datetime             252411 non-null  datetime64[ns]\n",
      " 62  age_type             252411 non-null  object        \n",
      " 63  dist_type            252411 non-null  object        \n",
      " 64  sample_weight        252411 non-null  float64       \n",
      " 65  target               252411 non-null  int64         \n",
      " 66  target3              252411 non-null  int64         \n",
      "dtypes: category(1), datetime64[ns](1), float64(18), int64(19), object(28)\n",
      "memory usage: 130.1+ MB\n"
     ]
    }
   ],
   "source": [
    "df.info()"
   ]
  },
  {
   "cell_type": "markdown",
   "id": "876fae1b",
   "metadata": {},
   "source": [
    "### リークとなり得る情報から特徴量を作成"
   ]
  },
  {
   "cell_type": "code",
   "execution_count": 36,
   "id": "208bfaa6",
   "metadata": {},
   "outputs": [],
   "source": [
    "def calc_mean_race_development(df_to_copy, feature_col_to_copy, target_col=None, grouping_col=None, feature_name=None):\n",
    "    if (target_col is None) or (grouping_col is None) or (feature_name is None):\n",
    "        raise ValueError(\"target_col, grouping_col and prefix must be selected\")\n",
    "    \n",
    "    df = df_to_copy.copy()\n",
    "    feature_col = feature_col_to_copy.copy() \n",
    "\n",
    "    grouped1 = df.groupby(grouping_col, observed=True)\n",
    "    grouped2 = df.groupby([\"id_for_fold\", *grouping_col], observed=True)\n",
    "\n",
    "    # 同じ条件で1着になるの確率を計算\n",
    "    bunsi1 = grouped1[target_col].cumsum() - grouped2[target_col].cumsum()\n",
    "    bunbo1 = grouped1[target_col].cumcount() - grouped2[target_col].cumcount()\n",
    "\n",
    "    df[feature_name] = bunsi1 / bunbo1.replace(0, np.nan) \n",
    "    feature_col.append(feature_name)\n",
    "\n",
    "    return df, feature_col"
   ]
  },
  {
   "cell_type": "code",
   "execution_count": 37,
   "id": "8f0b03bb",
   "metadata": {},
   "outputs": [],
   "source": [
    "tmp, feature_col = calc_mean_race_development(df, [], target_col=\"rank\", grouping_col=[\"horse\", \"dist_type\"], feature_name=\"past_rank_mean\")"
   ]
  },
  {
   "cell_type": "code",
   "execution_count": 38,
   "id": "e05cb028",
   "metadata": {},
   "outputs": [
    {
     "data": {
      "text/plain": [
       "['past_rank_mean']"
      ]
     },
     "execution_count": 38,
     "metadata": {},
     "output_type": "execute_result"
    }
   ],
   "source": [
    "feature_col"
   ]
  },
  {
   "cell_type": "code",
   "execution_count": 39,
   "id": "e54d67d6",
   "metadata": {},
   "outputs": [
    {
     "data": {
      "text/html": [
       "<div>\n",
       "<style scoped>\n",
       "    .dataframe tbody tr th:only-of-type {\n",
       "        vertical-align: middle;\n",
       "    }\n",
       "\n",
       "    .dataframe tbody tr th {\n",
       "        vertical-align: top;\n",
       "    }\n",
       "\n",
       "    .dataframe thead th {\n",
       "        text-align: right;\n",
       "    }\n",
       "</style>\n",
       "<table border=\"1\" class=\"dataframe\">\n",
       "  <thead>\n",
       "    <tr style=\"text-align: right;\">\n",
       "      <th></th>\n",
       "      <th>year</th>\n",
       "      <th>month</th>\n",
       "      <th>day</th>\n",
       "      <th>horse</th>\n",
       "      <th>dist_type</th>\n",
       "      <th>rank</th>\n",
       "      <th>past_rank_mean</th>\n",
       "    </tr>\n",
       "  </thead>\n",
       "  <tbody>\n",
       "    <tr>\n",
       "      <th>175554</th>\n",
       "      <td>2021</td>\n",
       "      <td>8</td>\n",
       "      <td>28</td>\n",
       "      <td>イクイノックス</td>\n",
       "      <td>mile</td>\n",
       "      <td>1</td>\n",
       "      <td>NaN</td>\n",
       "    </tr>\n",
       "    <tr>\n",
       "      <th>165104</th>\n",
       "      <td>2021</td>\n",
       "      <td>11</td>\n",
       "      <td>20</td>\n",
       "      <td>イクイノックス</td>\n",
       "      <td>mile</td>\n",
       "      <td>1</td>\n",
       "      <td>1.000000</td>\n",
       "    </tr>\n",
       "    <tr>\n",
       "      <th>145885</th>\n",
       "      <td>2022</td>\n",
       "      <td>4</td>\n",
       "      <td>17</td>\n",
       "      <td>イクイノックス</td>\n",
       "      <td>intermediate</td>\n",
       "      <td>2</td>\n",
       "      <td>NaN</td>\n",
       "    </tr>\n",
       "    <tr>\n",
       "      <th>140241</th>\n",
       "      <td>2022</td>\n",
       "      <td>5</td>\n",
       "      <td>29</td>\n",
       "      <td>イクイノックス</td>\n",
       "      <td>long</td>\n",
       "      <td>2</td>\n",
       "      <td>NaN</td>\n",
       "    </tr>\n",
       "    <tr>\n",
       "      <th>121687</th>\n",
       "      <td>2022</td>\n",
       "      <td>10</td>\n",
       "      <td>30</td>\n",
       "      <td>イクイノックス</td>\n",
       "      <td>intermediate</td>\n",
       "      <td>1</td>\n",
       "      <td>2.000000</td>\n",
       "    </tr>\n",
       "    <tr>\n",
       "      <th>114337</th>\n",
       "      <td>2022</td>\n",
       "      <td>12</td>\n",
       "      <td>25</td>\n",
       "      <td>イクイノックス</td>\n",
       "      <td>long</td>\n",
       "      <td>1</td>\n",
       "      <td>2.000000</td>\n",
       "    </tr>\n",
       "    <tr>\n",
       "      <th>90733</th>\n",
       "      <td>2023</td>\n",
       "      <td>6</td>\n",
       "      <td>25</td>\n",
       "      <td>イクイノックス</td>\n",
       "      <td>long</td>\n",
       "      <td>1</td>\n",
       "      <td>1.500000</td>\n",
       "    </tr>\n",
       "    <tr>\n",
       "      <th>75446</th>\n",
       "      <td>2023</td>\n",
       "      <td>10</td>\n",
       "      <td>29</td>\n",
       "      <td>イクイノックス</td>\n",
       "      <td>intermediate</td>\n",
       "      <td>1</td>\n",
       "      <td>1.500000</td>\n",
       "    </tr>\n",
       "    <tr>\n",
       "      <th>71709</th>\n",
       "      <td>2023</td>\n",
       "      <td>11</td>\n",
       "      <td>26</td>\n",
       "      <td>イクイノックス</td>\n",
       "      <td>long</td>\n",
       "      <td>1</td>\n",
       "      <td>1.333333</td>\n",
       "    </tr>\n",
       "  </tbody>\n",
       "</table>\n",
       "</div>"
      ],
      "text/plain": [
       "        year  month  day    horse     dist_type  rank  past_rank_mean\n",
       "175554  2021      8   28  イクイノックス          mile     1             NaN\n",
       "165104  2021     11   20  イクイノックス          mile     1        1.000000\n",
       "145885  2022      4   17  イクイノックス  intermediate     2             NaN\n",
       "140241  2022      5   29  イクイノックス          long     2             NaN\n",
       "121687  2022     10   30  イクイノックス  intermediate     1        2.000000\n",
       "114337  2022     12   25  イクイノックス          long     1        2.000000\n",
       "90733   2023      6   25  イクイノックス          long     1        1.500000\n",
       "75446   2023     10   29  イクイノックス  intermediate     1        1.500000\n",
       "71709   2023     11   26  イクイノックス          long     1        1.333333"
      ]
     },
     "execution_count": 39,
     "metadata": {},
     "output_type": "execute_result"
    }
   ],
   "source": [
    "tmp[tmp.horse == \"イクイノックス\"][[\"year\", \"month\", \"day\", \"horse\", \"dist_type\", \"rank\", \"past_rank_mean\"]]"
   ]
  },
  {
   "cell_type": "code",
   "execution_count": 20,
   "id": "a7f7ef7a",
   "metadata": {},
   "outputs": [
    {
     "data": {
      "text/plain": [
       "252634    2.0\n",
       "252635    2.1\n",
       "252633    1.6\n",
       "252632    1.6\n",
       "252631    1.5\n",
       "         ... \n",
       "7         2.0\n",
       "9         3.4\n",
       "10        NaN\n",
       "5         1.6\n",
       "0        -0.2\n",
       "Name: time_diff, Length: 252411, dtype: float32"
      ]
     },
     "execution_count": 20,
     "metadata": {},
     "output_type": "execute_result"
    }
   ],
   "source": [
    "df_tmp = df.time_diff.replace(\"----\", np.nan)\n",
    "df_tmp.astype(np.float32)"
   ]
  },
  {
   "cell_type": "code",
   "execution_count": null,
   "id": "3a010aff",
   "metadata": {},
   "outputs": [],
   "source": []
  }
 ],
 "metadata": {
  "kernelspec": {
   "display_name": ".env",
   "language": "python",
   "name": "python3"
  },
  "language_info": {
   "codemirror_mode": {
    "name": "ipython",
    "version": 3
   },
   "file_extension": ".py",
   "mimetype": "text/x-python",
   "name": "python",
   "nbconvert_exporter": "python",
   "pygments_lexer": "ipython3",
   "version": "3.12.5"
  }
 },
 "nbformat": 4,
 "nbformat_minor": 5
}
