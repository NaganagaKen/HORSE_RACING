{
 "cells": [
  {
   "cell_type": "code",
   "execution_count": 1,
   "id": "aac744d1",
   "metadata": {},
   "outputs": [],
   "source": [
    "import pandas as pd\n",
    "import numpy as np\n",
    "from pathlib import Path\n",
    "import sys\n",
    "import matplotlib.pyplot as plt\n",
    "import seaborn as sns\n",
    "\n",
    "module_path = (Path().resolve().parent/ \"Modules\")\n",
    "sys.path.append(str(module_path))\n",
    "\n",
    "pd.set_option(\"display.max_columns\", None)\n",
    "plt.rcParams[\"font.family\"] = \"IPAexGothic\"\n",
    "\n",
    "import my_modules, model_tuner, features # 自作モジュール"
   ]
  },
  {
   "cell_type": "code",
   "execution_count": 2,
   "id": "d5d3ae22",
   "metadata": {},
   "outputs": [],
   "source": [
    "df = pd.read_csv(\"../Data/train_data_tmp.csv\", encoding=\"shift-jis\")"
   ]
  },
  {
   "cell_type": "code",
   "execution_count": 3,
   "id": "5c8c8ef7",
   "metadata": {},
   "outputs": [
    {
     "name": "stderr",
     "output_type": "stream",
     "text": [
      "C:\\Users\\ken20\\Documents\\workspaces\\HORSE_RACING\\Modules\\my_modules.py:77: FutureWarning: Downcasting behavior in `replace` is deprecated and will be removed in a future version. To retain the old behavior, explicitly call `result.infer_objects(copy=False)`. To opt-in to the future behavior, set `pd.set_option('future.no_silent_downcasting', True)`\n",
      "  df[\"place_num\"] = df[\"place\"].replace(place_dict).astype(int)\n"
     ]
    }
   ],
   "source": [
    "df = my_modules.preprocessing(df)\n",
    "df = my_modules.common_process(df)"
   ]
  }
 ],
 "metadata": {
  "kernelspec": {
   "display_name": ".env",
   "language": "python",
   "name": "python3"
  },
  "language_info": {
   "codemirror_mode": {
    "name": "ipython",
    "version": 3
   },
   "file_extension": ".py",
   "mimetype": "text/x-python",
   "name": "python",
   "nbconvert_exporter": "python",
   "pygments_lexer": "ipython3",
   "version": "3.12.5"
  }
 },
 "nbformat": 4,
 "nbformat_minor": 5
}
