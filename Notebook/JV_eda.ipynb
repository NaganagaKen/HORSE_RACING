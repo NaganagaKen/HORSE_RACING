{
 "cells": [
  {
   "cell_type": "code",
   "execution_count": 1,
   "id": "77a408e7",
   "metadata": {},
   "outputs": [],
   "source": [
    "import pandas as pd\n",
    "import numpy as np\n",
    "import matplotlib.pyplot as plt\n",
    "import seaborn as sns\n",
    "from pathlib import Path\n",
    "import sys\n",
    "\n",
    "module_path = (Path().resolve().parent/ \"Modules\")\n",
    "sys.path.append(str(module_path))\n",
    "\n",
    "import my_modules, model_tuner"
   ]
  },
  {
   "cell_type": "code",
   "execution_count": 2,
   "id": "12a1a79c",
   "metadata": {},
   "outputs": [
    {
     "data": {
      "text/html": [
       "<div>\n",
       "<style scoped>\n",
       "    .dataframe tbody tr th:only-of-type {\n",
       "        vertical-align: middle;\n",
       "    }\n",
       "\n",
       "    .dataframe tbody tr th {\n",
       "        vertical-align: top;\n",
       "    }\n",
       "\n",
       "    .dataframe thead th {\n",
       "        text-align: right;\n",
       "    }\n",
       "</style>\n",
       "<table border=\"1\" class=\"dataframe\">\n",
       "  <thead>\n",
       "    <tr style=\"text-align: right;\">\n",
       "      <th></th>\n",
       "      <th>レースID(新)</th>\n",
       "      <th>日付</th>\n",
       "      <th>開催</th>\n",
       "      <th>場所</th>\n",
       "      <th>Ｒ</th>\n",
       "      <th>馬名S</th>\n",
       "      <th>騎手コード</th>\n",
       "      <th>調教師コード</th>\n",
       "      <th>頭数</th>\n",
       "      <th>枠番</th>\n",
       "      <th>...</th>\n",
       "      <th>脚質</th>\n",
       "      <th>人気</th>\n",
       "      <th>賞金</th>\n",
       "      <th>異常コード</th>\n",
       "      <th>種牡馬</th>\n",
       "      <th>母馬</th>\n",
       "      <th>母父馬</th>\n",
       "      <th>母父タイプ名</th>\n",
       "      <th>毛色</th>\n",
       "      <th>血統登録番号</th>\n",
       "    </tr>\n",
       "  </thead>\n",
       "  <tbody>\n",
       "    <tr>\n",
       "      <th>0</th>\n",
       "      <td>202506080503021211</td>\n",
       "      <td>250608</td>\n",
       "      <td>3東2</td>\n",
       "      <td>東京</td>\n",
       "      <td>12</td>\n",
       "      <td>ゴールデンオスカー</td>\n",
       "      <td>1150</td>\n",
       "      <td>1189</td>\n",
       "      <td>14</td>\n",
       "      <td>7</td>\n",
       "      <td>...</td>\n",
       "      <td>中団</td>\n",
       "      <td>7.0</td>\n",
       "      <td>1550</td>\n",
       "      <td>0</td>\n",
       "      <td>スクリーンヒーロー</td>\n",
       "      <td>バラベルサイユ</td>\n",
       "      <td>アグネスデジタル</td>\n",
       "      <td>ネイティヴダンサー系</td>\n",
       "      <td>栗毛</td>\n",
       "      <td>2021101235</td>\n",
       "    </tr>\n",
       "    <tr>\n",
       "      <th>1</th>\n",
       "      <td>202506080503021212</td>\n",
       "      <td>250608</td>\n",
       "      <td>3東2</td>\n",
       "      <td>東京</td>\n",
       "      <td>12</td>\n",
       "      <td>サノノワンダー</td>\n",
       "      <td>1140</td>\n",
       "      <td>1127</td>\n",
       "      <td>14</td>\n",
       "      <td>7</td>\n",
       "      <td>...</td>\n",
       "      <td>後方</td>\n",
       "      <td>1.0</td>\n",
       "      <td>620</td>\n",
       "      <td>0</td>\n",
       "      <td>ヘニーヒューズ</td>\n",
       "      <td>プレトリアン</td>\n",
       "      <td>キングヘイロー</td>\n",
       "      <td>ニアークティック系</td>\n",
       "      <td>鹿毛</td>\n",
       "      <td>2022102039</td>\n",
       "    </tr>\n",
       "    <tr>\n",
       "      <th>2</th>\n",
       "      <td>202506080503021209</td>\n",
       "      <td>250608</td>\n",
       "      <td>3東2</td>\n",
       "      <td>東京</td>\n",
       "      <td>12</td>\n",
       "      <td>トーホウキザン</td>\n",
       "      <td>1215</td>\n",
       "      <td>1135</td>\n",
       "      <td>14</td>\n",
       "      <td>6</td>\n",
       "      <td>...</td>\n",
       "      <td>後方</td>\n",
       "      <td>13.0</td>\n",
       "      <td>390</td>\n",
       "      <td>0</td>\n",
       "      <td>トーホウジャッカル</td>\n",
       "      <td>トーホウドルチェ</td>\n",
       "      <td>サウスヴィグラス</td>\n",
       "      <td>ネイティヴダンサー系</td>\n",
       "      <td>栗毛</td>\n",
       "      <td>2020101764</td>\n",
       "    </tr>\n",
       "    <tr>\n",
       "      <th>3</th>\n",
       "      <td>202506080503021202</td>\n",
       "      <td>250608</td>\n",
       "      <td>3東2</td>\n",
       "      <td>東京</td>\n",
       "      <td>12</td>\n",
       "      <td>マンダリンボレロ</td>\n",
       "      <td>1085</td>\n",
       "      <td>1031</td>\n",
       "      <td>14</td>\n",
       "      <td>2</td>\n",
       "      <td>...</td>\n",
       "      <td>先行</td>\n",
       "      <td>3.0</td>\n",
       "      <td>230</td>\n",
       "      <td>0</td>\n",
       "      <td>スピルバーグ</td>\n",
       "      <td>ジャーメイン</td>\n",
       "      <td>アドマイヤムーン</td>\n",
       "      <td>ネイティヴダンサー系</td>\n",
       "      <td>栗毛</td>\n",
       "      <td>2020101655</td>\n",
       "    </tr>\n",
       "    <tr>\n",
       "      <th>4</th>\n",
       "      <td>202506080503021204</td>\n",
       "      <td>250608</td>\n",
       "      <td>3東2</td>\n",
       "      <td>東京</td>\n",
       "      <td>12</td>\n",
       "      <td>グラヴィス</td>\n",
       "      <td>1163</td>\n",
       "      <td>1075</td>\n",
       "      <td>14</td>\n",
       "      <td>3</td>\n",
       "      <td>...</td>\n",
       "      <td>先行</td>\n",
       "      <td>8.0</td>\n",
       "      <td>155</td>\n",
       "      <td>0</td>\n",
       "      <td>ハーツクライ</td>\n",
       "      <td>ラヴズオンリーミー</td>\n",
       "      <td>Storm Cat</td>\n",
       "      <td>ニアークティック系</td>\n",
       "      <td>鹿毛</td>\n",
       "      <td>2021105831</td>\n",
       "    </tr>\n",
       "  </tbody>\n",
       "</table>\n",
       "<p>5 rows × 63 columns</p>\n",
       "</div>"
      ],
      "text/plain": [
       "             レースID(新)      日付   開催  場所   Ｒ        馬名S  騎手コード  調教師コード  頭数  枠番  \\\n",
       "0  202506080503021211  250608  3東2  東京  12  ゴールデンオスカー   1150    1189  14   7   \n",
       "1  202506080503021212  250608  3東2  東京  12    サノノワンダー   1140    1127  14   7   \n",
       "2  202506080503021209  250608  3東2  東京  12    トーホウキザン   1215    1135  14   6   \n",
       "3  202506080503021202  250608  3東2  東京  12   マンダリンボレロ   1085    1031  14   2   \n",
       "4  202506080503021204  250608  3東2  東京  12      グラヴィス   1163    1075  14   3   \n",
       "\n",
       "   ...  脚質    人気    賞金  異常コード        種牡馬         母馬        母父馬      母父タイプ名  \\\n",
       "0  ...  中団   7.0  1550      0  スクリーンヒーロー    バラベルサイユ   アグネスデジタル  ネイティヴダンサー系   \n",
       "1  ...  後方   1.0   620      0    ヘニーヒューズ     プレトリアン    キングヘイロー   ニアークティック系   \n",
       "2  ...  後方  13.0   390      0  トーホウジャッカル   トーホウドルチェ   サウスヴィグラス  ネイティヴダンサー系   \n",
       "3  ...  先行   3.0   230      0     スピルバーグ     ジャーメイン   アドマイヤムーン  ネイティヴダンサー系   \n",
       "4  ...  先行   8.0   155      0     ハーツクライ  ラヴズオンリーミー  Storm Cat   ニアークティック系   \n",
       "\n",
       "   毛色      血統登録番号  \n",
       "0  栗毛  2021101235  \n",
       "1  鹿毛  2022102039  \n",
       "2  栗毛  2020101764  \n",
       "3  栗毛  2020101655  \n",
       "4  鹿毛  2021105831  \n",
       "\n",
       "[5 rows x 63 columns]"
      ]
     },
     "execution_count": 2,
     "metadata": {},
     "output_type": "execute_result"
    }
   ],
   "source": [
    "df = pd.read_csv(\"../Data/train_data_JV.csv\", encoding=\"shift-jis\")\n",
    "df.head()"
   ]
  },
  {
   "cell_type": "code",
   "execution_count": 3,
   "id": "f73f0dc0",
   "metadata": {},
   "outputs": [
    {
     "name": "stdout",
     "output_type": "stream",
     "text": [
      "<class 'pandas.core.frame.DataFrame'>\n",
      "RangeIndex: 66749 entries, 0 to 66748\n",
      "Data columns (total 63 columns):\n",
      " #   Column       Non-Null Count  Dtype  \n",
      "---  ------       --------------  -----  \n",
      " 0   レースID(新)     66749 non-null  int64  \n",
      " 1   日付           66749 non-null  int64  \n",
      " 2   開催           66749 non-null  object \n",
      " 3   場所           66749 non-null  object \n",
      " 4   Ｒ            66749 non-null  int64  \n",
      " 5   馬名S          66749 non-null  object \n",
      " 6   騎手コード        66749 non-null  int64  \n",
      " 7   調教師コード       66749 non-null  int64  \n",
      " 8   頭数           66749 non-null  int64  \n",
      " 9   枠番           66749 non-null  int64  \n",
      " 10  馬番           66749 non-null  int64  \n",
      " 11  クラスコード       66749 non-null  int64  \n",
      " 12  トラックコード(JV)  66749 non-null  int64  \n",
      " 13  ｺｰﾅｰ         66749 non-null  int64  \n",
      " 14  距離           66749 non-null  object \n",
      " 15  馬場状態         66749 non-null  object \n",
      " 16  天気           66749 non-null  object \n",
      " 17  競走種別         66749 non-null  int64  \n",
      " 18  性別           66749 non-null  object \n",
      " 19  年齢           66749 non-null  int64  \n",
      " 20  斤量           66749 non-null  object \n",
      " 21  ブリンカー        7963 non-null   object \n",
      " 22  馬体重          66640 non-null  float64\n",
      " 23  馬体重増減        60202 non-null  float64\n",
      " 24  重量コード        66749 non-null  int64  \n",
      " 25  単勝オッズ        66491 non-null  float64\n",
      " 26  指時系1・単勝      66749 non-null  float64\n",
      " 27  指時系1・人気      66749 non-null  int64  \n",
      " 28  指時系2・単勝      66749 non-null  float64\n",
      " 29  指時系2・人気      66749 non-null  int64  \n",
      " 30  複勝オッズ下限      66491 non-null  float64\n",
      " 31  複勝オッズ上限      66491 non-null  float64\n",
      " 32  指時系1・複下      66749 non-null  float64\n",
      " 33  複上1          66749 non-null  float64\n",
      " 34  複人気1         66749 non-null  int64  \n",
      " 35  指時系2・複下      66749 non-null  float64\n",
      " 36  複上2          66749 non-null  float64\n",
      " 37  複人気2         66749 non-null  int64  \n",
      " 38  確定着順         66749 non-null  int64  \n",
      " 39  着差           66749 non-null  object \n",
      " 40  走破タイム        66749 non-null  object \n",
      " 41  1角           28306 non-null  float64\n",
      " 42  2角           32529 non-null  float64\n",
      " 43  3角           65886 non-null  float64\n",
      " 44  4角           66368 non-null  float64\n",
      " 45  上り3F         66244 non-null  float64\n",
      " 46  上り3F順        66749 non-null  int64  \n",
      " 47  Ave-3F       66244 non-null  float64\n",
      " 48  PCI          66241 non-null  float64\n",
      " 49  好走           37773 non-null  object \n",
      " 50  PCI3         66749 non-null  float64\n",
      " 51  RPCI         66749 non-null  float64\n",
      " 52  上3F地点差       66244 non-null  float64\n",
      " 53  脚質           66244 non-null  object \n",
      " 54  人気           66491 non-null  float64\n",
      " 55  賞金           66749 non-null  int64  \n",
      " 56  異常コード        66749 non-null  int64  \n",
      " 57  種牡馬          66749 non-null  object \n",
      " 58  母馬           66749 non-null  object \n",
      " 59  母父馬          66749 non-null  object \n",
      " 60  母父タイプ名       62431 non-null  object \n",
      " 61  毛色           66749 non-null  object \n",
      " 62  血統登録番号       66749 non-null  int64  \n",
      "dtypes: float64(22), int64(23), object(18)\n",
      "memory usage: 32.1+ MB\n"
     ]
    }
   ],
   "source": [
    "df.info()"
   ]
  },
  {
   "cell_type": "code",
   "execution_count": 4,
   "id": "921c19aa",
   "metadata": {},
   "outputs": [],
   "source": [
    "def preprocessing(df_to_copy):\n",
    "    df = df_to_copy.copy()\n",
    "    original_col = df.columns.tolist()\n",
    "    df[\"race_id\"] = df[\"レースID(新)\"]\n",
    "    df[\"year\"] = df[\"日付\"] // 10000\n",
    "    df[\"month\"] = df[\"日付\"] // 100 % 100\n",
    "    df[\"day\"] = df[\"日付\"] % 100\n",
    "    df[\"times\"] = df[\"開催\"].str[0].astype(int)\n",
    "    df[\"place\"] = df[\"場所\"]\n",
    "    df[\"daily\"] = df[\"開催\"].str[2]\n",
    "    df[\"race_num\"] = df[\"Ｒ\"]\n",
    "    df[\"horse\"] = df[\"馬名S\"]\n",
    "    df[\"jockey_id\"] = df[\"騎手コード\"]\n",
    "    df[\"trainer_id\"] = df[\"調教師コード\"]\n",
    "    df[\"horse_N\"] = df[\"頭数\"]\n",
    "    df[\"waku_num\"] = df[\"枠番\"]\n",
    "    df[\"horse_num\"] = df[\"馬番\"]\n",
    "    df[\"class_code\"] = df[\"クラスコード\"]\n",
    "    df[\"track_code\"] = df[\"トラックコード(JV)\"]\n",
    "    df[\"corner_num\"] = df[\"ｺｰﾅｰ\"]\n",
    "    df[\"dist\"] = df[\"距離\"].str[1:].astype(int)\n",
    "    df[\"state\"] = df[\"馬場状態\"]\n",
    "    df[\"weather\"] = df[\"天気\"]\n",
    "    df[\"age_code\"] = df[\"競走種別\"]\n",
    "    df[\"sex\"] = df[\"性別\"]\n",
    "    df[\"age\"] = df[\"年齢\"]\n",
    "    df[\"basis_weight\"] = df[\"斤量\"].str.replace(r'[^0-9.]', '', regex=True).astype(float)\n",
    "    df[\"blinker\"] = df[\"ブリンカー\"]\n",
    "    df[\"weight\"] = df[\"馬体重\"]\n",
    "    df[\"inc_dec\"] = df[\"馬体重増減\"]\n",
    "    df[\"weight_code\"] = df[\"重量コード\"]\n",
    "    df[\"win_odds\"] = df[\"単勝オッズ\"]\n",
    "    df[\"win_odds_1\"] = df[\"指時系1・単勝\"]\n",
    "    df[\"win_odds_1_pop\"] = df[\"指時系1・人気\"]\n",
    "    df[\"win_odds_2\"] = df[\"指時系2・単勝\"]\n",
    "    df[\"win_odds_2_pop\"] = df[\"指時系2・人気\"]\n",
    "    df[\"win_mul_odds_Hi\"] = df[\"複勝オッズ上限\"]\n",
    "    df[\"win_mul_odds_Lo\"] = df[\"複勝オッズ下限\"]\n",
    "    df[\"win_mul_odds_1_Hi\"] = df[\"複上1\"]\n",
    "    df[\"win_mul_odds_1_Lo\"] = df[\"指時系1・複下\"]\n",
    "    df[\"win_mul_odds_1_pop\"] = df[\"複人気1\"]\n",
    "    df[\"win_mul_odds_2_Hi\"] = df[\"複上2\"]\n",
    "    df[\"win_mul_odds_2_Lo\"] = df[\"指時系2・複下\"]\n",
    "    df[\"win_mul_odds_2_pop\"] = df[\"複人気2\"]\n",
    "    df[\"rank\"] = df[\"確定着順\"] \n",
    "    df[\"time_diff\"] = df[\"着差\"]\n",
    "    df[\"time\"] = df[\"走破タイム\"]\n",
    "    df[\"corner1_rank\"] = df[\"1角\"]\n",
    "    df[\"corner2_rank\"] = df[\"2角\"]\n",
    "    df[\"corner3_rank\"] = df[\"3角\"]\n",
    "    df[\"corner4_rank\"] = df[\"4角\"]\n",
    "    df[\"last_3F_time\"] = df[\"上り3F\"]\n",
    "    df[\"last_3F_rank\"] = df[\"上り3F順\"]\n",
    "    df[\"Ave_3F\"]= df[\"Ave-3F\"]\n",
    "    original_col.remove(\"PCI\")\n",
    "    original_col.remove(\"PCI3\")\n",
    "    original_col.remove(\"RPCI\")\n",
    "    df[\"last_3F_time_diff\"] = df[\"上3F地点差\"]\n",
    "    df[\"leg\"] = df[\"脚質\"]\n",
    "    df[\"pop\"] = df[\"人気\"]\n",
    "    df[\"prize\"] = df[\"賞金\"]\n",
    "    df[\"error_code\"] = df[\"異常コード\"]\n",
    "    df[\"father\"] = df[\"種牡馬\"]\n",
    "    df[\"mother\"] = df[\"母馬\"]\n",
    "    df[\"broodmare_sire\"] = df[\"母父馬\"]\n",
    "    df[\"broodmare_sire_type\"] = df[\"母父タイプ名\"]\n",
    "    df[\"horse_color\"] = df[\"毛色\"]\n",
    "    df[\"id\"] = df[\"血統登録番号\"]\n",
    "\n",
    "    df = df.drop(original_col, axis=1)\n",
    "\n",
    "    df.info()\n",
    "\n",
    "\n",
    "    return df"
   ]
  },
  {
   "cell_type": "code",
   "execution_count": 5,
   "id": "9b6a339a",
   "metadata": {},
   "outputs": [
    {
     "name": "stdout",
     "output_type": "stream",
     "text": [
      "<class 'pandas.core.frame.DataFrame'>\n",
      "RangeIndex: 66749 entries, 0 to 66748\n",
      "Data columns (total 65 columns):\n",
      " #   Column               Non-Null Count  Dtype  \n",
      "---  ------               --------------  -----  \n",
      " 0   PCI                  66241 non-null  float64\n",
      " 1   PCI3                 66749 non-null  float64\n",
      " 2   RPCI                 66749 non-null  float64\n",
      " 3   race_id              66749 non-null  int64  \n",
      " 4   year                 66749 non-null  int64  \n",
      " 5   month                66749 non-null  int64  \n",
      " 6   day                  66749 non-null  int64  \n",
      " 7   times                66749 non-null  int64  \n",
      " 8   place                66749 non-null  object \n",
      " 9   daily                66749 non-null  object \n",
      " 10  race_num             66749 non-null  int64  \n",
      " 11  horse                66749 non-null  object \n",
      " 12  jockey_id            66749 non-null  int64  \n",
      " 13  trainer_id           66749 non-null  int64  \n",
      " 14  horse_N              66749 non-null  int64  \n",
      " 15  waku_num             66749 non-null  int64  \n",
      " 16  horse_num            66749 non-null  int64  \n",
      " 17  class_code           66749 non-null  int64  \n",
      " 18  track_code           66749 non-null  int64  \n",
      " 19  corner_num           66749 non-null  int64  \n",
      " 20  dist                 66749 non-null  int64  \n",
      " 21  state                66749 non-null  object \n",
      " 22  weather              66749 non-null  object \n",
      " 23  age_code             66749 non-null  int64  \n",
      " 24  sex                  66749 non-null  object \n",
      " 25  age                  66749 non-null  int64  \n",
      " 26  basis_weight         66749 non-null  float64\n",
      " 27  blinker              7963 non-null   object \n",
      " 28  weight               66640 non-null  float64\n",
      " 29  inc_dec              60202 non-null  float64\n",
      " 30  weight_code          66749 non-null  int64  \n",
      " 31  win_odds             66491 non-null  float64\n",
      " 32  win_odds_1           66749 non-null  float64\n",
      " 33  win_odds_1_pop       66749 non-null  int64  \n",
      " 34  win_odds_2           66749 non-null  float64\n",
      " 35  win_odds_2_pop       66749 non-null  int64  \n",
      " 36  win_mul_odds_Hi      66491 non-null  float64\n",
      " 37  win_mul_odds_Lo      66491 non-null  float64\n",
      " 38  win_mul_odds_1_Hi    66749 non-null  float64\n",
      " 39  win_mul_odds_1_Lo    66749 non-null  float64\n",
      " 40  win_mul_odds_1_pop   66749 non-null  int64  \n",
      " 41  win_mul_odds_2_Hi    66749 non-null  float64\n",
      " 42  win_mul_odds_2_Lo    66749 non-null  float64\n",
      " 43  win_mul_odds_2_pop   66749 non-null  int64  \n",
      " 44  rank                 66749 non-null  int64  \n",
      " 45  time_diff            66749 non-null  object \n",
      " 46  time                 66749 non-null  object \n",
      " 47  corner1_rank         28306 non-null  float64\n",
      " 48  corner2_rank         32529 non-null  float64\n",
      " 49  corner3_rank         65886 non-null  float64\n",
      " 50  corner4_rank         66368 non-null  float64\n",
      " 51  last_3F_time         66244 non-null  float64\n",
      " 52  last_3F_rank         66749 non-null  int64  \n",
      " 53  Ave_3F               66244 non-null  float64\n",
      " 54  last_3F_time_diff    66244 non-null  float64\n",
      " 55  leg                  66244 non-null  object \n",
      " 56  pop                  66491 non-null  float64\n",
      " 57  prize                66749 non-null  int64  \n",
      " 58  error_code           66749 non-null  int64  \n",
      " 59  father               66749 non-null  object \n",
      " 60  mother               66749 non-null  object \n",
      " 61  broodmare_sire       66749 non-null  object \n",
      " 62  broodmare_sire_type  62431 non-null  object \n",
      " 63  horse_color          66749 non-null  object \n",
      " 64  id                   66749 non-null  int64  \n",
      "dtypes: float64(23), int64(27), object(15)\n",
      "memory usage: 33.1+ MB\n"
     ]
    }
   ],
   "source": [
    "df2 = preprocessing(df)"
   ]
  },
  {
   "cell_type": "code",
   "execution_count": 6,
   "id": "812a567d",
   "metadata": {},
   "outputs": [
    {
     "name": "stderr",
     "output_type": "stream",
     "text": [
      "C:\\Users\\ken05\\Documents\\others\\HORSE_RACING\\Modules\\my_modules.py:71: FutureWarning: Downcasting behavior in `replace` is deprecated and will be removed in a future version. To retain the old behavior, explicitly call `result.infer_objects(copy=False)`. To opt-in to the future behavior, set `pd.set_option('future.no_silent_downcasting', True)`\n",
      "  df[\"place_num\"] = df[\"place\"].replace(place_dict).astype(int)\n"
     ]
    },
    {
     "data": {
      "text/html": [
       "<div>\n",
       "<style scoped>\n",
       "    .dataframe tbody tr th:only-of-type {\n",
       "        vertical-align: middle;\n",
       "    }\n",
       "\n",
       "    .dataframe tbody tr th {\n",
       "        vertical-align: top;\n",
       "    }\n",
       "\n",
       "    .dataframe thead th {\n",
       "        text-align: right;\n",
       "    }\n",
       "</style>\n",
       "<table border=\"1\" class=\"dataframe\">\n",
       "  <thead>\n",
       "    <tr style=\"text-align: right;\">\n",
       "      <th></th>\n",
       "      <th>PCI</th>\n",
       "      <th>PCI3</th>\n",
       "      <th>RPCI</th>\n",
       "      <th>year</th>\n",
       "      <th>month</th>\n",
       "      <th>day</th>\n",
       "      <th>times</th>\n",
       "      <th>place</th>\n",
       "      <th>daily</th>\n",
       "      <th>race_num</th>\n",
       "      <th>...</th>\n",
       "      <th>id</th>\n",
       "      <th>id_for_fold</th>\n",
       "      <th>field_type</th>\n",
       "      <th>flat_or_jump</th>\n",
       "      <th>turn_type</th>\n",
       "      <th>race_type</th>\n",
       "      <th>waku</th>\n",
       "      <th>datetime</th>\n",
       "      <th>target</th>\n",
       "      <th>target3</th>\n",
       "    </tr>\n",
       "  </thead>\n",
       "  <tbody>\n",
       "    <tr>\n",
       "      <th>66569</th>\n",
       "      <td>43.9</td>\n",
       "      <td>39.77</td>\n",
       "      <td>37.6</td>\n",
       "      <td>2024</td>\n",
       "      <td>1</td>\n",
       "      <td>6</td>\n",
       "      <td>1</td>\n",
       "      <td>中山</td>\n",
       "      <td>1</td>\n",
       "      <td>1</td>\n",
       "      <td>...</td>\n",
       "      <td>2021103189</td>\n",
       "      <td>2024010606010101</td>\n",
       "      <td>ダート</td>\n",
       "      <td>平地</td>\n",
       "      <td>R</td>\n",
       "      <td>中山ダート1200</td>\n",
       "      <td>inner</td>\n",
       "      <td>2024-01-06 01:02:00</td>\n",
       "      <td>0</td>\n",
       "      <td>0</td>\n",
       "    </tr>\n",
       "    <tr>\n",
       "      <th>66555</th>\n",
       "      <td>41.1</td>\n",
       "      <td>39.77</td>\n",
       "      <td>37.6</td>\n",
       "      <td>2024</td>\n",
       "      <td>1</td>\n",
       "      <td>6</td>\n",
       "      <td>1</td>\n",
       "      <td>中山</td>\n",
       "      <td>1</td>\n",
       "      <td>1</td>\n",
       "      <td>...</td>\n",
       "      <td>2021106805</td>\n",
       "      <td>2024010606010101</td>\n",
       "      <td>ダート</td>\n",
       "      <td>平地</td>\n",
       "      <td>R</td>\n",
       "      <td>中山ダート1200</td>\n",
       "      <td>inner</td>\n",
       "      <td>2024-01-06 01:02:00</td>\n",
       "      <td>0</td>\n",
       "      <td>1</td>\n",
       "    </tr>\n",
       "    <tr>\n",
       "      <th>66554</th>\n",
       "      <td>38.6</td>\n",
       "      <td>39.77</td>\n",
       "      <td>37.6</td>\n",
       "      <td>2024</td>\n",
       "      <td>1</td>\n",
       "      <td>6</td>\n",
       "      <td>1</td>\n",
       "      <td>中山</td>\n",
       "      <td>1</td>\n",
       "      <td>1</td>\n",
       "      <td>...</td>\n",
       "      <td>2021105821</td>\n",
       "      <td>2024010606010101</td>\n",
       "      <td>ダート</td>\n",
       "      <td>平地</td>\n",
       "      <td>R</td>\n",
       "      <td>中山ダート1200</td>\n",
       "      <td>outer</td>\n",
       "      <td>2024-01-06 01:02:00</td>\n",
       "      <td>1</td>\n",
       "      <td>1</td>\n",
       "    </tr>\n",
       "    <tr>\n",
       "      <th>66558</th>\n",
       "      <td>42.4</td>\n",
       "      <td>39.77</td>\n",
       "      <td>37.6</td>\n",
       "      <td>2024</td>\n",
       "      <td>1</td>\n",
       "      <td>6</td>\n",
       "      <td>1</td>\n",
       "      <td>中山</td>\n",
       "      <td>1</td>\n",
       "      <td>1</td>\n",
       "      <td>...</td>\n",
       "      <td>2021102752</td>\n",
       "      <td>2024010606010101</td>\n",
       "      <td>ダート</td>\n",
       "      <td>平地</td>\n",
       "      <td>R</td>\n",
       "      <td>中山ダート1200</td>\n",
       "      <td>outer</td>\n",
       "      <td>2024-01-06 01:02:00</td>\n",
       "      <td>0</td>\n",
       "      <td>0</td>\n",
       "    </tr>\n",
       "    <tr>\n",
       "      <th>66559</th>\n",
       "      <td>41.4</td>\n",
       "      <td>39.77</td>\n",
       "      <td>37.6</td>\n",
       "      <td>2024</td>\n",
       "      <td>1</td>\n",
       "      <td>6</td>\n",
       "      <td>1</td>\n",
       "      <td>中山</td>\n",
       "      <td>1</td>\n",
       "      <td>1</td>\n",
       "      <td>...</td>\n",
       "      <td>2021100402</td>\n",
       "      <td>2024010606010101</td>\n",
       "      <td>ダート</td>\n",
       "      <td>平地</td>\n",
       "      <td>R</td>\n",
       "      <td>中山ダート1200</td>\n",
       "      <td>outer</td>\n",
       "      <td>2024-01-06 01:02:00</td>\n",
       "      <td>0</td>\n",
       "      <td>0</td>\n",
       "    </tr>\n",
       "  </tbody>\n",
       "</table>\n",
       "<p>5 rows × 73 columns</p>\n",
       "</div>"
      ],
      "text/plain": [
       "        PCI   PCI3  RPCI  year  month  day  times place daily  race_num  ...  \\\n",
       "66569  43.9  39.77  37.6  2024      1    6      1    中山     1         1  ...   \n",
       "66555  41.1  39.77  37.6  2024      1    6      1    中山     1         1  ...   \n",
       "66554  38.6  39.77  37.6  2024      1    6      1    中山     1         1  ...   \n",
       "66558  42.4  39.77  37.6  2024      1    6      1    中山     1         1  ...   \n",
       "66559  41.4  39.77  37.6  2024      1    6      1    中山     1         1  ...   \n",
       "\n",
       "               id       id_for_fold  field_type flat_or_jump  turn_type  \\\n",
       "66569  2021103189  2024010606010101         ダート           平地          R   \n",
       "66555  2021106805  2024010606010101         ダート           平地          R   \n",
       "66554  2021105821  2024010606010101         ダート           平地          R   \n",
       "66558  2021102752  2024010606010101         ダート           平地          R   \n",
       "66559  2021100402  2024010606010101         ダート           平地          R   \n",
       "\n",
       "       race_type   waku            datetime  target  target3  \n",
       "66569  中山ダート1200  inner 2024-01-06 01:02:00       0        0  \n",
       "66555  中山ダート1200  inner 2024-01-06 01:02:00       0        1  \n",
       "66554  中山ダート1200  outer 2024-01-06 01:02:00       1        1  \n",
       "66558  中山ダート1200  outer 2024-01-06 01:02:00       0        0  \n",
       "66559  中山ダート1200  outer 2024-01-06 01:02:00       0        0  \n",
       "\n",
       "[5 rows x 73 columns]"
      ]
     },
     "execution_count": 6,
     "metadata": {},
     "output_type": "execute_result"
    }
   ],
   "source": [
    "df3 = my_modules.common_process(df2)\n",
    "df3.head()"
   ]
  },
  {
   "cell_type": "code",
   "execution_count": null,
   "id": "4857cf0e",
   "metadata": {},
   "outputs": [],
   "source": [
    "def feature_engineering(df_to_copy, feature_col_to_copy=None):\n",
    "    if feature_col_to_copy == None :\n",
    "        feature_col_to_copy = [\"waku_num\", \"horse_num\", \"sex\", \"age\", \"basis_weight\", \"blinker\", \"weight\", \"inc_dec\"]\n",
    "    feature_col = feature_col_to_copy.copy()\n",
    "    df = df_to_copy.copy()\n",
    "\n",
    "    # 直近3レースの結果とその平均, 過去全てのレースの記録の平均を追加\n",
    "    last_race_col = [\"weight\", \"inc_dec\", \"last_3F_time\", \"Ave_3F\", \"PCI\", \"RPCI\"]\n",
    "    for col in last_race_col:\n",
    "        grouped = df.groupby(\"horse\", observed=True)[col]\n",
    "        for i in range(1, 4):\n",
    "            # 過去1-3レースの結果を追加\n",
    "            colname = f\"{col}_last_{i}\"\n",
    "            df[colname] = grouped.shift(1)\n",
    "            feature_col.append(colname)\n",
    "        \n",
    "        # 過去3レース分の結果の平均を追加\n",
    "        df[f\"{col}_mean_last_1_to_3\"] = df[[f\"{col}_last_{i}\" for i in range(1, 4)]].mean(axis=1, skipna=True)\n",
    "        feature_col.append(f\"{col}_mean_last_1_to_3\")\n",
    "\n",
    "        # 過去全レース文の特徴量を追加\n",
    "        cumsum = grouped.cumsum()\n",
    "        count = grouped.cumcount()\n",
    "        df[f\"{col}_mean_all\"] = (cumsum - df[col]) / count.replace(0, np.nan)\n",
    "        feature_col.append(f\"{col}_mean_all\")\n",
    "\n",
    "\n",
    "    # 特徴量を入れておくための辞書(fragment防止)\n",
    "    dict_for_df = dict()\n",
    "\n",
    "    # 過去その馬の全てのレースの1着率\n",
    "    dict_for_df, feature_col = grouped_winning_rate(df, feature_col, dict_for_df,cols=[\"horse\"])\n",
    "\n",
    "    df, feature_col = grouped_horse_winning_rate(df, feature_col, cols=[\"dist\"])\n",
    "    df, feature_col = grouped_horse_winning_rate(df, feature_col, cols=[\"track_code\"])\n",
    "    df, feature_col = grouped_horse_winning_rate(df, feature_col, cols=[\"field_type\"])\n",
    "    df, feature_col = grouped_horse_winning_rate(df, feature_col, cols=[\"turn_type\"])\n",
    "    df, feature_col = grouped_horse_winning_rate(df, feature_col, cols=[\"weather\"])\n",
    "    df, feature_col = grouped_horse_winning_rate(df, feature_col, cols=[\"state\"])\n",
    "    df, feature_col = grouped_horse_winning_rate(df, feature_col, cols=[\"place\"])\n",
    "    df, feature_col = grouped_horse_winning_rate(df, feature_col, cols=[\"corner_num\"])\n",
    "    df, feature_col = grouped_horse_winning_rate(df, feature_col, cols=[\"class_code\"])\n",
    "    df, feature_col = grouped_horse_winning_rate(df, feature_col, cols=[\"basis_weight\"])\n",
    "    df, feature_col = grouped_horse_winning_rate(df, feature_col, cols=[\"age_code\"])\n",
    "    df, feature_col = grouped_horse_winning_rate(df, feature_col, cols=[\"weight_code\"])\n",
    "    df, feature_col = grouped_horse_winning_rate(df, feature_col, cols=[\"jockey_id\"])\n",
    "    df, feature_col = grouped_horse_winning_rate(df, feature_col, cols=[\"jockey_id\", \"class_code\"])\n",
    "    df, feature_col = grouped_horse_winning_rate(df, feature_col, cols=[\"jockey_id\", \"place\"])\n",
    "    df, feature_col = grouped_horse_winning_rate(df, feature_col, cols=[\"jockey_id\", \"dist\"])\n",
    "    df, feature_col = grouped_horse_winning_rate(df, feature_col, cols=[\"jockey_id\", \"field_type\"])\n",
    "    df, feature_col = grouped_horse_winning_rate(df, feature_col, cols=[\"jockey_id\", \"place\", \"dist\"])\n",
    "    df, feature_col = grouped_horse_winning_rate(df, feature_col, cols=[\"jockey_id\", \"place\", \"field_type\", \"dist\"])\n",
    "    df, feature_col = grouped_horse_winning_rate(df, feature_col, cols=[\"weather\", \"state\"])\n",
    "    df, feature_col = grouped_horse_winning_rate(df, feature_col, cols=[\"dist\", \"corner_num\"])\n",
    "    df, feature_col = grouped_horse_winning_rate(df, feature_col, cols=[\"dist\", \"track_code\"])\n",
    "    df, feature_col = grouped_horse_winning_rate(df, feature_col, cols=[\"dist\", \"class_code\"])\n",
    "    df, feature_col = grouped_horse_winning_rate(df, feature_col, cols=[\"place\", \"field_type\", \"dist\"])\n",
    "    df, feature_col = grouped_horse_winning_rate(df, feature_col, cols=[\"place\", \"field_type\", \"dist\", \"class_code\"])\n",
    "\n",
    "    # 過去他の馬も含む全レースで同条件でのレースの1着の確率\n",
    "    # dist, field_type, place, race_type, corner_num系\n",
    "    dict_for_df, feature_col = grouped_winning_rate(df, feature_col, dict_for_df, cols=[\"dist\", \"waku\"])\n",
    "    dict_for_df, feature_col = grouped_winning_rate(df, feature_col, dict_for_df, cols=[\"dist\", \"waku_num\"])\n",
    "    dict_for_df, feature_col = grouped_winning_rate(df, feature_col, dict_for_df, cols=[\"dist\", \"horse_num\"])\n",
    "    dict_for_df, feature_col = grouped_winning_rate(df, feature_col, dict_for_df, cols=[\"field_type\", \"waku\"])\n",
    "    dict_for_df, feature_col = grouped_winning_rate(df, feature_col, dict_for_df, cols=[\"field_type\", \"waku_num\"])\n",
    "    dict_for_df, feature_col = grouped_winning_rate(df, feature_col, dict_for_df, cols=[\"field_type\", \"horse_num\"])\n",
    "    dict_for_df, feature_col = grouped_winning_rate(df, feature_col, dict_for_df, cols=[\"place\", \"waku\"])\n",
    "    dict_for_df, feature_col = grouped_winning_rate(df, feature_col, dict_for_df, cols=[\"place\", \"waku_num\"])\n",
    "    dict_for_df, feature_col = grouped_winning_rate(df, feature_col, dict_for_df, cols=[\"place\", \"horse_num\"])\n",
    "\n",
    "    dict_for_df, feature_col = grouped_winning_rate(df, feature_col, dict_for_df, cols=[\"field_type\", \"dist\", \"waku\"])\n",
    "    dict_for_df, feature_col = grouped_winning_rate(df, feature_col, dict_for_df, cols=[\"field_type\", \"dist\", \"waku_num\"])\n",
    "    dict_for_df, feature_col = grouped_winning_rate(df, feature_col, dict_for_df, cols=[\"field_type\", \"dist\", \"horse_num\"])\n",
    "    dict_for_df, feature_col = grouped_winning_rate(df, feature_col, dict_for_df, cols=[\"dist\", \"place\", \"waku\"])\n",
    "    dict_for_df, feature_col = grouped_winning_rate(df, feature_col, dict_for_df, cols=[\"dist\", \"place\", \"waku_num\"])\n",
    "    dict_for_df, feature_col = grouped_winning_rate(df, feature_col, dict_for_df, cols=[\"dist\", \"place\", \"horse_num\"])\n",
    "    dict_for_df, feature_col = grouped_winning_rate(df, feature_col, dict_for_df, cols=[\"field_type\", \"place\", \"waku\"])\n",
    "    dict_for_df, feature_col = grouped_winning_rate(df, feature_col, dict_for_df, cols=[\"field_type\", \"place\", \"waku_num\"])\n",
    "    dict_for_df, feature_col = grouped_winning_rate(df, feature_col, dict_for_df, cols=[\"field_type\", \"place\", \"horse_num\"])\n",
    "\n",
    "    dict_for_df, feature_col = grouped_winning_rate(df, feature_col, dict_for_df, cols=[\"race_type\", \"waku\"])\n",
    "    dict_for_df, feature_col = grouped_winning_rate(df, feature_col, dict_for_df, cols=[\"race_type\", \"waku_num\"])\n",
    "    dict_for_df, feature_col = grouped_winning_rate(df, feature_col, dict_for_df, cols=[\"race_type\", \"horse_num\"])\n",
    "    \n",
    "    dict_for_df, feature_col = grouped_winning_rate(df, feature_col, dict_for_df, cols=[\"corner_num\", \"waku\"])\n",
    "    dict_for_df, feature_col = grouped_winning_rate(df, feature_col, dict_for_df, cols=[\"corner_num\", \"waku_num\"])\n",
    "    dict_for_df, feature_col = grouped_winning_rate(df, feature_col, dict_for_df, cols=[\"corner_num\", \"horse_num\"])\n",
    "    dict_for_df, feature_col = grouped_winning_rate(df, feature_col, dict_for_df, cols=[\"corner_num\", \"dist\", \"waku\"])\n",
    "    dict_for_df, feature_col = grouped_winning_rate(df, feature_col, dict_for_df, cols=[\"corner_num\", \"dist\", \"waku_num\"])\n",
    "    dict_for_df, feature_col = grouped_winning_rate(df, feature_col, dict_for_df, cols=[\"corner_num\", \"dist\", \"horse_num\"])\n",
    "    dict_for_df, feature_col = grouped_winning_rate(df, feature_col, dict_for_df, cols=[\"corner_num\", \"place\", \"waku\"])\n",
    "    dict_for_df, feature_col = grouped_winning_rate(df, feature_col, dict_for_df, cols=[\"corner_num\", \"place\", \"waku_num\"])\n",
    "    dict_for_df, feature_col = grouped_winning_rate(df, feature_col, dict_for_df, cols=[\"corner_num\", \"place\", \"horse_num\"])\n",
    "    dict_for_df, feature_col = grouped_winning_rate(df, feature_col, dict_for_df, cols=[\"corner_num\", \"field_type\", \"waku\"])\n",
    "    dict_for_df, feature_col = grouped_winning_rate(df, feature_col, dict_for_df, cols=[\"corner_num\", \"field_type\", \"waku_num\"])\n",
    "    dict_for_df, feature_col = grouped_winning_rate(df, feature_col, dict_for_df, cols=[\"corner_num\", \"field_type\", \"horse_num\"])\n",
    "\n",
    "\n",
    "\n",
    "    # leg系(リーク情報なので一旦停止)\n",
    "    '''\n",
    "    dict_for_df, feature_col = grouped_leg_winning_rate(df, feature_col, dict_for_df, cols=[\"leg\"])\n",
    "    dict_for_df, feature_col = grouped_leg_winning_rate(df, feature_col, dict_for_df, cols=[\"leg\", \"dist\"])\n",
    "    dict_for_df, feature_col = grouped_leg_winning_rate(df, feature_col, dict_for_df, cols=[\"leg\", \"place\"])\n",
    "    dict_for_df, feature_col = grouped_leg_winning_rate(df, feature_col, dict_for_df, cols=[\"leg\", \"field_type\"])\n",
    "    dict_for_df, feature_col = grouped_leg_winning_rate(df, feature_col, dict_for_df, cols=[\"leg\", \"place\", \"field_type\"])\n",
    "    dict_for_df, feature_col = grouped_leg_winning_rate(df, feature_col, dict_for_df, cols=[\"leg\", \"place\", \"dist\"])\n",
    "    dict_for_df, feature_col = grouped_leg_winning_rate(df, feature_col, dict_for_df, cols=[\"leg\", \"dist\", \"field_type\"])\n",
    "    dict_for_df, feature_col = grouped_leg_winning_rate(df, feature_col, dict_for_df, cols=[\"leg\", \"race_type\"])\n",
    "    dict_for_df, feature_col = grouped_leg_winning_rate(df, feature_col, dict_for_df, cols=[\"leg\", \"race_type\", \"waku\"])\n",
    "    dict_for_df, feature_col = grouped_leg_winning_rate(df, feature_col, dict_for_df, cols=[\"leg\", \"race_type\", \"waku_num\"])\n",
    "    dict_for_df, feature_col = grouped_leg_winning_rate(df, feature_col, dict_for_df, cols=[\"leg\", \"race_type\", \"horse_num\"])\n",
    "    '''\n",
    "\n",
    "    # jockey_id系\n",
    "    dict_for_df, feature_col = grouped_winning_rate(df, feature_col, dict_for_df, cols=[\"jockey_id\"])\n",
    "    dict_for_df, feature_col = grouped_winning_rate(df, feature_col, dict_for_df, cols=[\"jockey_id\", \"place\"])\n",
    "    dict_for_df, feature_col = grouped_winning_rate(df, feature_col, dict_for_df, cols=[\"jockey_id\", \"place\", \"dist\"])\n",
    "    dict_for_df, feature_col = grouped_winning_rate(df, feature_col, dict_for_df, cols=[\"jockey_id\", \"field_type\"])\n",
    "    dict_for_df, feature_col = grouped_winning_rate(df, feature_col, dict_for_df, cols=[\"jockey_id\", \"field_type\", \"dist\"])\n",
    "    dict_for_df, feature_col = grouped_winning_rate(df, feature_col, dict_for_df, cols=[\"jockey_id\", \"field_type\", \"place\"])\n",
    "    dict_for_df, feature_col = grouped_winning_rate(df, feature_col, dict_for_df, cols=[\"jockey_id\", \"dist\"])\n",
    "    dict_for_df, feature_col = grouped_winning_rate(df, feature_col, dict_for_df, cols=[\"jockey_id\", \"race_type\"])\n",
    "    dict_for_df, feature_col = grouped_winning_rate(df, feature_col, dict_for_df, cols=[\"jockey_id\", \"race_type\", \"waku\"])\n",
    "    dict_for_df, feature_col = grouped_winning_rate(df, feature_col, dict_for_df, cols=[\"jockey_id\", \"race_type\", \"waku_num\"])\n",
    "    dict_for_df, feature_col = grouped_winning_rate(df, feature_col, dict_for_df, cols=[\"jockey_id\", \"race_type\", \"horse_num\"])\n",
    "    dict_for_df, feature_col = grouped_winning_rate(df, feature_col, dict_for_df, cols=[\"jockey_id\", \"class_code\"])\n",
    "    dict_for_df, feature_col = grouped_winning_rate(df, feature_col, dict_for_df, cols=[\"jockey_id\", \"class_code\", \"place\"])\n",
    "    dict_for_df, feature_col = grouped_winning_rate(df, feature_col, dict_for_df, cols=[\"jockey_id\", \"class_code\", \"dist\"])\n",
    "    dict_for_df, feature_col = grouped_winning_rate(df, feature_col, dict_for_df, cols=[\"jockey_id\", \"class_code\", \"field_type\"])\n",
    "    dict_for_df, feature_col = grouped_winning_rate(df, feature_col, dict_for_df, cols=[\"jockey_id\", \"class_code\", \"race_type\"])\n",
    "    dict_for_df, feature_col = grouped_winning_rate(df, feature_col, dict_for_df, cols=[\"jockey_id\", \"class_code\", \"race_type\", \"waku\"])\n",
    "    dict_for_df, feature_col = grouped_winning_rate(df, feature_col, dict_for_df, cols=[\"jockey_id\", \"class_code\", \"race_type\", \"waku_num\"])\n",
    "    dict_for_df, feature_col = grouped_winning_rate(df, feature_col, dict_for_df, cols=[\"jockey_id\", \"class_code\", \"race_type\", \"horse_num\"])\n",
    "\n",
    "    # jockey_id-turn_type系\n",
    "    dict_for_df, feature_col = grouped_winning_rate(df, feature_col, dict_for_df, cols=[\"jockey_id\", \"turn_type\"])\n",
    "    dict_for_df, feature_col = grouped_winning_rate(df, feature_col, dict_for_df, cols=[\"jockey_id\", \"turn_type\", \"dist\"])\n",
    "    dict_for_df, feature_col = grouped_winning_rate(df, feature_col, dict_for_df, cols=[\"jockey_id\", \"turn_type\", \"place\"])\n",
    "    dict_for_df, feature_col = grouped_winning_rate(df, feature_col, dict_for_df, cols=[\"jockey_id\", \"turn_type\", \"field_type\"])\n",
    "    dict_for_df, feature_col = grouped_winning_rate(df, feature_col, dict_for_df, cols=[\"jockey_id\", \"turn_type\", \"dist\", \"place\"])\n",
    "    dict_for_df, feature_col = grouped_winning_rate(df, feature_col, dict_for_df, cols=[\"jockey_id\", \"turn_type\", \"dist\", \"field_type\"])\n",
    "    dict_for_df, feature_col = grouped_winning_rate(df, feature_col, dict_for_df, cols=[\"jockey_id\", \"turn_type\", \"place\", \"field_type\"])\n",
    "    dict_for_df, feature_col = grouped_winning_rate(df, feature_col, dict_for_df, cols=[\"jockey_id\", \"turn_type\", \"dist\", \"waku\"])\n",
    "    dict_for_df, feature_col = grouped_winning_rate(df, feature_col, dict_for_df, cols=[\"jockey_id\", \"turn_type\", \"dist\", \"waku_num\"])\n",
    "    dict_for_df, feature_col = grouped_winning_rate(df, feature_col, dict_for_df, cols=[\"jockey_id\", \"turn_type\", \"dist\", \"horse_num\"])\n",
    "    dict_for_df, feature_col = grouped_winning_rate(df, feature_col, dict_for_df, cols=[\"jockey_id\", \"turn_type\", \"place\", \"waku\"])\n",
    "    dict_for_df, feature_col = grouped_winning_rate(df, feature_col, dict_for_df, cols=[\"jockey_id\", \"turn_type\", \"place\", \"waku_num\"])\n",
    "    dict_for_df, feature_col = grouped_winning_rate(df, feature_col, dict_for_df, cols=[\"jockey_id\", \"turn_type\", \"place\", \"horse_num\"])\n",
    "    dict_for_df, feature_col = grouped_winning_rate(df, feature_col, dict_for_df, cols=[\"jockey_id\", \"turn_type\", \"field_type\", \"waku\"])\n",
    "    dict_for_df, feature_col = grouped_winning_rate(df, feature_col, dict_for_df, cols=[\"jockey_id\", \"turn_type\", \"field_type\", \"waku_num\"])\n",
    "    dict_for_df, feature_col = grouped_winning_rate(df, feature_col, dict_for_df, cols=[\"jockey_id\", \"turn_type\", \"field_type\", \"horse_num\"])\n",
    "    dict_for_df, feature_col = grouped_winning_rate(df, feature_col, dict_for_df, cols=[\"jockey_id\", \"turn_type\", \"dist\", \"place\", \"waku\"])\n",
    "    dict_for_df, feature_col = grouped_winning_rate(df, feature_col, dict_for_df, cols=[\"jockey_id\", \"turn_type\", \"dist\", \"place\", \"waku_num\"])\n",
    "    dict_for_df, feature_col = grouped_winning_rate(df, feature_col, dict_for_df, cols=[\"jockey_id\", \"turn_type\", \"dist\", \"place\", \"horse_num\"])\n",
    "    dict_for_df, feature_col = grouped_winning_rate(df, feature_col, dict_for_df, cols=[\"jockey_id\", \"turn_type\", \"dist\", \"field_type\", \"waku\"])\n",
    "    dict_for_df, feature_col = grouped_winning_rate(df, feature_col, dict_for_df, cols=[\"jockey_id\", \"turn_type\", \"dist\", \"field_type\", \"waku_num\"])\n",
    "    dict_for_df, feature_col = grouped_winning_rate(df, feature_col, dict_for_df, cols=[\"jockey_id\", \"turn_type\", \"dist\", \"field_type\", \"horse_num\"])\n",
    "    dict_for_df, feature_col = grouped_winning_rate(df, feature_col, dict_for_df, cols=[\"jockey_id\", \"turn_type\", \"place\", \"field_type\", \"waku\"])\n",
    "    dict_for_df, feature_col = grouped_winning_rate(df, feature_col, dict_for_df, cols=[\"jockey_id\", \"turn_type\", \"place\", \"field_type\", \"waku_num\"])\n",
    "    dict_for_df, feature_col = grouped_winning_rate(df, feature_col, dict_for_df, cols=[\"jockey_id\", \"turn_type\", \"place\", \"field_type\", \"horse_num\"])\n",
    "\n",
    "\n",
    "    # trainer_id系\n",
    "    dict_for_df, feature_col = grouped_winning_rate(df, feature_col, dict_for_df, cols=[\"trainer_id\"])\n",
    "    dict_for_df, feature_col = grouped_winning_rate(df, feature_col, dict_for_df, cols=[\"trainer_id\", \"place\"])\n",
    "    dict_for_df, feature_col = grouped_winning_rate(df, feature_col, dict_for_df, cols=[\"trainer_id\", \"place\", \"dist\"])\n",
    "    dict_for_df, feature_col = grouped_winning_rate(df, feature_col, dict_for_df, cols=[\"trainer_id\", \"field_type\"])\n",
    "    dict_for_df, feature_col = grouped_winning_rate(df, feature_col, dict_for_df, cols=[\"trainer_id\", \"field_type\", \"dist\"])\n",
    "    dict_for_df, feature_col = grouped_winning_rate(df, feature_col, dict_for_df, cols=[\"trainer_id\", \"field_type\", \"place\"])\n",
    "    dict_for_df, feature_col = grouped_winning_rate(df, feature_col, dict_for_df, cols=[\"trainer_id\", \"dist\"])\n",
    "    dict_for_df, feature_col = grouped_winning_rate(df, feature_col, dict_for_df, cols=[\"trainer_id\", \"race_type\"])\n",
    "    dict_for_df, feature_col = grouped_winning_rate(df, feature_col, dict_for_df, cols=[\"trainer_id\", \"race_type\", \"waku\"])\n",
    "    dict_for_df, feature_col = grouped_winning_rate(df, feature_col, dict_for_df, cols=[\"trainer_id\", \"race_type\", \"waku_num\"])\n",
    "    dict_for_df, feature_col = grouped_winning_rate(df, feature_col, dict_for_df, cols=[\"trainer_id\", \"race_type\", \"horse_num\"])\n",
    "    dict_for_df, feature_col = grouped_winning_rate(df, feature_col, dict_for_df, cols=[\"trainer_id\", \"class_code\"])\n",
    "    dict_for_df, feature_col = grouped_winning_rate(df, feature_col, dict_for_df, cols=[\"trainer_id\", \"class_code\", \"place\"])\n",
    "    dict_for_df, feature_col = grouped_winning_rate(df, feature_col, dict_for_df, cols=[\"trainer_id\", \"class_code\", \"dist\"])\n",
    "    dict_for_df, feature_col = grouped_winning_rate(df, feature_col, dict_for_df, cols=[\"trainer_id\", \"class_code\", \"field_type\"])\n",
    "    dict_for_df, feature_col = grouped_winning_rate(df, feature_col, dict_for_df, cols=[\"trainer_id\", \"class_code\", \"race_type\"])\n",
    "    dict_for_df, feature_col = grouped_winning_rate(df, feature_col, dict_for_df, cols=[\"trainer_id\", \"class_code\", \"race_type\", \"waku\"])\n",
    "    dict_for_df, feature_col = grouped_winning_rate(df, feature_col, dict_for_df, cols=[\"trainer_id\", \"class_code\", \"race_type\", \"waku_num\"])\n",
    "    dict_for_df, feature_col = grouped_winning_rate(df, feature_col, dict_for_df, cols=[\"trainer_id\", \"class_code\", \"race_type\", \"horse_num\"])\n",
    "\n",
    "    # trainer_id-turn_type系\n",
    "    dict_for_df, feature_col = grouped_winning_rate(df, feature_col, dict_for_df, cols=[\"trainer_id\", \"turn_type\"])\n",
    "    dict_for_df, feature_col = grouped_winning_rate(df, feature_col, dict_for_df, cols=[\"trainer_id\", \"turn_type\", \"dist\"])\n",
    "    dict_for_df, feature_col = grouped_winning_rate(df, feature_col, dict_for_df, cols=[\"trainer_id\", \"turn_type\", \"place\"])\n",
    "    dict_for_df, feature_col = grouped_winning_rate(df, feature_col, dict_for_df, cols=[\"trainer_id\", \"turn_type\", \"field_type\"])\n",
    "    dict_for_df, feature_col = grouped_winning_rate(df, feature_col, dict_for_df, cols=[\"trainer_id\", \"turn_type\", \"dist\", \"place\"])\n",
    "    dict_for_df, feature_col = grouped_winning_rate(df, feature_col, dict_for_df, cols=[\"trainer_id\", \"turn_type\", \"dist\", \"field_type\"])\n",
    "    dict_for_df, feature_col = grouped_winning_rate(df, feature_col, dict_for_df, cols=[\"trainer_id\", \"turn_type\", \"place\", \"field_type\"])\n",
    "    dict_for_df, feature_col = grouped_winning_rate(df, feature_col, dict_for_df, cols=[\"trainer_id\", \"turn_type\", \"dist\", \"waku\"])\n",
    "    dict_for_df, feature_col = grouped_winning_rate(df, feature_col, dict_for_df, cols=[\"trainer_id\", \"turn_type\", \"dist\", \"waku_num\"])\n",
    "    dict_for_df, feature_col = grouped_winning_rate(df, feature_col, dict_for_df, cols=[\"trainer_id\", \"turn_type\", \"dist\", \"horse_num\"])\n",
    "    dict_for_df, feature_col = grouped_winning_rate(df, feature_col, dict_for_df, cols=[\"trainer_id\", \"turn_type\", \"place\", \"waku\"])\n",
    "    dict_for_df, feature_col = grouped_winning_rate(df, feature_col, dict_for_df, cols=[\"trainer_id\", \"turn_type\", \"place\", \"waku_num\"])\n",
    "    dict_for_df, feature_col = grouped_winning_rate(df, feature_col, dict_for_df, cols=[\"trainer_id\", \"turn_type\", \"place\", \"horse_num\"])\n",
    "    dict_for_df, feature_col = grouped_winning_rate(df, feature_col, dict_for_df, cols=[\"trainer_id\", \"turn_type\", \"field_type\", \"waku\"])\n",
    "    dict_for_df, feature_col = grouped_winning_rate(df, feature_col, dict_for_df, cols=[\"trainer_id\", \"turn_type\", \"field_type\", \"waku_num\"])\n",
    "    dict_for_df, feature_col = grouped_winning_rate(df, feature_col, dict_for_df, cols=[\"trainer_id\", \"turn_type\", \"field_type\", \"horse_num\"])\n",
    "    dict_for_df, feature_col = grouped_winning_rate(df, feature_col, dict_for_df, cols=[\"trainer_id\", \"turn_type\", \"dist\", \"place\", \"waku\"])\n",
    "    dict_for_df, feature_col = grouped_winning_rate(df, feature_col, dict_for_df, cols=[\"trainer_id\", \"turn_type\", \"dist\", \"place\", \"waku_num\"])\n",
    "    dict_for_df, feature_col = grouped_winning_rate(df, feature_col, dict_for_df, cols=[\"trainer_id\", \"turn_type\", \"dist\", \"place\", \"horse_num\"])\n",
    "    dict_for_df, feature_col = grouped_winning_rate(df, feature_col, dict_for_df, cols=[\"trainer_id\", \"turn_type\", \"dist\", \"field_type\", \"waku\"])\n",
    "    dict_for_df, feature_col = grouped_winning_rate(df, feature_col, dict_for_df, cols=[\"trainer_id\", \"turn_type\", \"dist\", \"field_type\", \"waku_num\"])\n",
    "    dict_for_df, feature_col = grouped_winning_rate(df, feature_col, dict_for_df, cols=[\"trainer_id\", \"turn_type\", \"dist\", \"field_type\", \"horse_num\"])\n",
    "    dict_for_df, feature_col = grouped_winning_rate(df, feature_col, dict_for_df, cols=[\"trainer_id\", \"turn_type\", \"place\", \"field_type\", \"waku\"])\n",
    "    dict_for_df, feature_col = grouped_winning_rate(df, feature_col, dict_for_df, cols=[\"trainer_id\", \"turn_type\", \"place\", \"field_type\", \"waku_num\"])\n",
    "    dict_for_df, feature_col = grouped_winning_rate(df, feature_col, dict_for_df, cols=[\"trainer_id\", \"turn_type\", \"place\", \"field_type\", \"horse_num\"])\n",
    "\n",
    "\n",
    "    #jokey_id & trainer_id系\n",
    "\n",
    "\n",
    "    # mother系\n",
    "    dict_for_df, feature_col = grouped_winning_rate(df, feature_col, dict_for_df, cols=[\"mother\"])\n",
    "    dict_for_df, feature_col = grouped_winning_rate(df, feature_col, dict_for_df, cols=[\"mother\", \"place\"])\n",
    "    dict_for_df, feature_col = grouped_winning_rate(df, feature_col, dict_for_df, cols=[\"mother\", \"dist\"])\n",
    "    dict_for_df, feature_col = grouped_winning_rate(df, feature_col, dict_for_df, cols=[\"mother\", \"field_type\"])\n",
    "    dict_for_df, feature_col = grouped_winning_rate(df, feature_col, dict_for_df, cols=[\"mother\", \"turn_type\"])\n",
    "    dict_for_df, feature_col = grouped_winning_rate(df, feature_col, dict_for_df, cols=[\"mother\", \"race_type\"])\n",
    "    dict_for_df, feature_col = grouped_winning_rate(df, feature_col, dict_for_df, cols=[\"mother\", \"track_code\"])\n",
    "    dict_for_df, feature_col = grouped_winning_rate(df, feature_col, dict_for_df, cols=[\"mother\", \"class_code\"])\n",
    "    dict_for_df, feature_col = grouped_winning_rate(df, feature_col, dict_for_df, cols=[\"mother\", \"corner_num\"])\n",
    "    dict_for_df, feature_col = grouped_winning_rate(df, feature_col, dict_for_df, cols=[\"mother\", \"waku\"])\n",
    "    dict_for_df, feature_col = grouped_winning_rate(df, feature_col, dict_for_df, cols=[\"mother\", \"waku_num\"])\n",
    "    dict_for_df, feature_col = grouped_winning_rate(df, feature_col, dict_for_df, cols=[\"mother\", \"horse_num\"])\n",
    "\n",
    "    dict_for_df, feature_col = grouped_winning_rate(df, feature_col, dict_for_df, cols=[\"mother\", \"place\", \"dist\"])\n",
    "    dict_for_df, feature_col = grouped_winning_rate(df, feature_col, dict_for_df, cols=[\"mother\", \"place\", \"field_type\"])\n",
    "    dict_for_df, feature_col = grouped_winning_rate(df, feature_col, dict_for_df, cols=[\"mother\", \"dist\", \"field_type\"])\n",
    "\n",
    "    dict_for_df, feature_col = grouped_winning_rate(df, feature_col, dict_for_df, cols=[\"mother\", \"place\", \"dist\", \"waku\"])\n",
    "    dict_for_df, feature_col = grouped_winning_rate(df, feature_col, dict_for_df, cols=[\"mother\", \"place\", \"dist\", \"waku_num\"])\n",
    "    dict_for_df, feature_col = grouped_winning_rate(df, feature_col, dict_for_df, cols=[\"mother\", \"place\", \"dist\", \"horse_num\"])\n",
    "    dict_for_df, feature_col = grouped_winning_rate(df, feature_col, dict_for_df, cols=[\"mother\", \"dist\", \"field_type\", \"waku\"])\n",
    "    dict_for_df, feature_col = grouped_winning_rate(df, feature_col, dict_for_df, cols=[\"mother\", \"dist\", \"field_type\", \"waku_num\"])\n",
    "    dict_for_df, feature_col = grouped_winning_rate(df, feature_col, dict_for_df, cols=[\"mother\", \"dist\", \"field_type\", \"horse_num\"])\n",
    "    dict_for_df, feature_col = grouped_winning_rate(df, feature_col, dict_for_df, cols=[\"mother\", \"field_type\", \"place\", \"waku\"])\n",
    "    dict_for_df, feature_col = grouped_winning_rate(df, feature_col, dict_for_df, cols=[\"mother\", \"field_type\", \"place\", \"waku_num\"])\n",
    "    dict_for_df, feature_col = grouped_winning_rate(df, feature_col, dict_for_df, cols=[\"mother\", \"field_type\", \"place\", \"horse_num\"])\n",
    "\n",
    "    dict_for_df, feature_col = grouped_winning_rate(df, feature_col, dict_for_df, cols=[\"mother\", \"race_type\", \"waku\"])\n",
    "    dict_for_df, feature_col = grouped_winning_rate(df, feature_col, dict_for_df, cols=[\"mother\", \"race_type\", \"waku_num\"])\n",
    "    dict_for_df, feature_col = grouped_winning_rate(df, feature_col, dict_for_df, cols=[\"mother\", \"race_type\", \"horse_num\"])\n",
    "        \n",
    "\n",
    "    # father系\n",
    "    dict_for_df, feature_col = grouped_winning_rate(df, feature_col, dict_for_df, cols=[\"father\"])\n",
    "    dict_for_df, feature_col = grouped_winning_rate(df, feature_col, dict_for_df, cols=[\"father\", \"place\"])\n",
    "    dict_for_df, feature_col = grouped_winning_rate(df, feature_col, dict_for_df, cols=[\"father\", \"dist\"])\n",
    "    dict_for_df, feature_col = grouped_winning_rate(df, feature_col, dict_for_df, cols=[\"father\", \"field_type\"])\n",
    "    dict_for_df, feature_col = grouped_winning_rate(df, feature_col, dict_for_df, cols=[\"father\", \"turn_type\"])\n",
    "    dict_for_df, feature_col = grouped_winning_rate(df, feature_col, dict_for_df, cols=[\"father\", \"race_type\"])\n",
    "    dict_for_df, feature_col = grouped_winning_rate(df, feature_col, dict_for_df, cols=[\"father\", \"track_code\"])\n",
    "    dict_for_df, feature_col = grouped_winning_rate(df, feature_col, dict_for_df, cols=[\"father\", \"class_code\"])\n",
    "    dict_for_df, feature_col = grouped_winning_rate(df, feature_col, dict_for_df, cols=[\"father\", \"corner_num\"])\n",
    "    dict_for_df, feature_col = grouped_winning_rate(df, feature_col, dict_for_df, cols=[\"father\", \"waku\"])\n",
    "    dict_for_df, feature_col = grouped_winning_rate(df, feature_col, dict_for_df, cols=[\"father\", \"waku_num\"])\n",
    "    dict_for_df, feature_col = grouped_winning_rate(df, feature_col, dict_for_df, cols=[\"father\", \"horse_num\"])\n",
    "\n",
    "    dict_for_df, feature_col = grouped_winning_rate(df, feature_col, dict_for_df, cols=[\"father\", \"place\", \"dist\"])\n",
    "    dict_for_df, feature_col = grouped_winning_rate(df, feature_col, dict_for_df, cols=[\"father\", \"place\", \"field_type\"])\n",
    "    dict_for_df, feature_col = grouped_winning_rate(df, feature_col, dict_for_df, cols=[\"father\", \"dist\", \"field_type\"])\n",
    "\n",
    "    dict_for_df, feature_col = grouped_winning_rate(df, feature_col, dict_for_df, cols=[\"father\", \"place\", \"dist\", \"waku\"])\n",
    "    dict_for_df, feature_col = grouped_winning_rate(df, feature_col, dict_for_df, cols=[\"father\", \"place\", \"dist\", \"waku_num\"])\n",
    "    dict_for_df, feature_col = grouped_winning_rate(df, feature_col, dict_for_df, cols=[\"father\", \"place\", \"dist\", \"horse_num\"])\n",
    "    dict_for_df, feature_col = grouped_winning_rate(df, feature_col, dict_for_df, cols=[\"father\", \"dist\", \"field_type\", \"waku\"])\n",
    "    dict_for_df, feature_col = grouped_winning_rate(df, feature_col, dict_for_df, cols=[\"father\", \"dist\", \"field_type\", \"waku_num\"])\n",
    "    dict_for_df, feature_col = grouped_winning_rate(df, feature_col, dict_for_df, cols=[\"father\", \"dist\", \"field_type\", \"horse_num\"])\n",
    "    dict_for_df, feature_col = grouped_winning_rate(df, feature_col, dict_for_df, cols=[\"father\", \"field_type\", \"place\", \"waku\"])\n",
    "    dict_for_df, feature_col = grouped_winning_rate(df, feature_col, dict_for_df, cols=[\"father\", \"field_type\", \"place\", \"waku_num\"])\n",
    "    dict_for_df, feature_col = grouped_winning_rate(df, feature_col, dict_for_df, cols=[\"father\", \"field_type\", \"place\", \"horse_num\"])\n",
    "\n",
    "    dict_for_df, feature_col = grouped_winning_rate(df, feature_col, dict_for_df, cols=[\"father\", \"race_type\", \"waku\"])\n",
    "    dict_for_df, feature_col = grouped_winning_rate(df, feature_col, dict_for_df, cols=[\"father\", \"race_type\", \"waku_num\"])\n",
    "    dict_for_df, feature_col = grouped_winning_rate(df, feature_col, dict_for_df, cols=[\"father\", \"race_type\", \"horse_num\"])\n",
    "    \n",
    "    # broodmare_sire系\n",
    "\n",
    "    # broodmare_sire_type系\n",
    "\n",
    "    # horse_color系\n",
    "\n",
    "\n",
    "\n",
    "    # 最後にまとめてdict_for_dfをdfにくっつける\n",
    "    processed_df = pd.DataFrame(dict_for_df)\n",
    "    df = pd.concat([df, processed_df], axis=1)\n",
    "\n",
    "\n",
    "    # その他特徴量を追加\n",
    "    # weightに関する特徴量\n",
    "    # weightは300kg以下の馬がいないことからこのようにした。\n",
    "    df[\"basis_weight_per_weight\"] = df[\"basis_weight\"] / df[\"weight\"].clip(lower=300) * 100 # 斤量/馬体重（％）\n",
    "    feature_col.append(\"basis_weight_per_weight\")\n",
    "    df[\"basis_weight_plus_weight\"] = df[\"basis_weight\"] + df[\"weight\"] # 斤量＋馬体重\n",
    "    feature_col.append(\"basis_weight_plus_weight\")\n",
    "    df[\"inc_dec_rate\"] = df[\"inc_dec\"] / df[\"weight\"].clip(lower=300) * 100 # 増減/馬体重（％）\n",
    "    feature_col.append(\"inc_dec_rate\")\n",
    "\n",
    "    # 生涯獲得賞金\n",
    "    df[\"lifetime_prize\"] = df.groupby(\"horse\", observed=True)[\"prize\"].cumsum() - df[\"prize\"]\n",
    "    feature_col.append(\"lifetime_prize\")\n",
    "\n",
    "    # 生涯獲得賞金 / 今まで出走したレース\n",
    "    df[\"lifetime_prize_per_race\"] = df[\"lifetime_prize\"] / df.groupby(\"horse\", observed=True)[\"prize\"].cumcount().replace(np.nan, 0)\n",
    "    feature_col.append(\"lifetime_prize_per_race\")\n",
    "    \n",
    "    # 前回と同じfield_typeかどうか\n",
    "    df[\"last_field_type\"] = df.groupby([\"horse\"], observed=True)[\"field_type\"].shift(1)\n",
    "    feature_name = \"is_same_field_type_as_last\"\n",
    "    df[feature_name] =  df[\"field_type\"] == df[\"last_field_type\"]\n",
    "    df[feature_name] = df[feature_name].astype(\"category\")\n",
    "    df = df.drop([\"last_field_type\"], axis=1)\n",
    "    feature_col.append(feature_name)\n",
    "\n",
    "    # 前回と同じクラスか\n",
    "    df[\"last_class_code\"] = df.groupby([\"horse\"], observed=True)[\"class_code\"].shift(1)\n",
    "    feature_name = \"is_same_class_code_as_last\"\n",
    "    df[feature_name] = df[\"class_code\"] == df[\"last_class_code\"]\n",
    "    df[feature_name] = df[feature_name].astype(\"category\")\n",
    "    df = df.drop([\"last_class_code\"], axis=1)\n",
    "    feature_col.append(feature_name)\n",
    "\n",
    "    # 前回と同じジョッキーか\n",
    "    df[\"last_jockey\"] = df.groupby([\"horse\"], observed=True)[\"jockey_id\"].shift(1)\n",
    "    feature_name = \"is_same_jockey_as_last\"\n",
    "    df[feature_name] = df[\"jockey_id\"] == df[\"last_jockey\"]\n",
    "    df[feature_name] = df[feature_name].astype(\"category\")\n",
    "    df = df.drop([\"last_jockey\"], axis=1)\n",
    "    feature_col.append(feature_name)\n",
    "\n",
    "    # 中何日か\n",
    "    df[\"last_race_date\"] = df.groupby(\"horse\", observed=True)[\"datetime\"].shift(1)\n",
    "    df[\"interval\"] = df[\"datetime\"] - df[\"last_race_date\"]\n",
    "    df[\"interval_day\"] = df[\"interval\"].dt.days\n",
    "    df[\"interval_week\"] = df[\"interval_day\"] // 7\n",
    "    df = df.drop([\"last_race_date\", \"interval\"], axis=1)\n",
    "    feature_col.append(\"interval_day\")\n",
    "    feature_col.append(\"interval_week\")\n",
    "\n",
    "\n",
    "    # 最後に全体を正規化（std=1とする)\n",
    "    num_col = df[feature_col].select_dtypes(include=[\"number\"]).columns.tolist()\n",
    "    grouped_mean = df.groupby(\"id_for_fold\", observed=True)[num_col].transform(\"mean\")\n",
    "    grouped_std = df.groupby(\"id_for_fold\", observed=True)[num_col].transform(\"std\")\n",
    "    df[num_col] = (df[num_col] - grouped_mean) / grouped_std\n",
    "\n",
    "    # 後でランキング化とかも付ける予定\n",
    "\n",
    "    # dfを表示\n",
    "    print(feature_col)\n",
    "    display(df.tail())\n",
    "\n",
    "    return df, feature_col\n",
    "\n",
    "\n",
    "# 馬でグループ化したtarget-encodingをする関数\n",
    "def grouped_horse_winning_rate(df_to_copy, feature_col_to_copy, cols=None):\n",
    "    df = df_to_copy.copy()\n",
    "    feature_col = feature_col_to_copy.copy()\n",
    "\n",
    "    if cols == None :\n",
    "        print(\"Error: please select cols\")\n",
    "        return\n",
    "    \n",
    "    # 1着の確率で計算\n",
    "    grouped = df.groupby([\"horse\", *cols], observed=True)[\"target\"]\n",
    "    cumsum = grouped.cumsum()\n",
    "    count = grouped.cumcount()\n",
    "    feature_name = \"horse_win_rate_\" + \"_\".join(cols)\n",
    "    df[feature_name] = (cumsum-df[\"target\"]) / count.replace(0, np.nan)\n",
    "\n",
    "    feature_col.append(feature_name)\n",
    "\n",
    "    # 1-3着の確率で計算\n",
    "    grouped = df.groupby([\"horse\", *cols], observed=True)[\"target3\"]\n",
    "    cumsum = grouped.cumsum()\n",
    "    count = grouped.cumcount()\n",
    "    feature_name = \"horse_win_rate3_\" + \"_\".join(cols)\n",
    "    df[feature_name] = (cumsum-df[\"target3\"]) / count.replace(0, np.nan)\n",
    "\n",
    "    feature_col.append(feature_name)\n",
    "\n",
    "    return df, feature_col\n",
    "\n",
    "\n",
    "# 過去全てのレースでグループ化したtarget-encodingをする関数\n",
    "def grouped_winning_rate(df_to_copy, feature_col_to_copy, dict_for_df, cols):\n",
    "    df = df_to_copy.copy()\n",
    "    feature_col = feature_col_to_copy.copy()\n",
    "    grouped1 = df.groupby(cols, observed=True)\n",
    "    grouped2 = df.groupby([\"id_for_fold\", *cols], observed=True)\n",
    "\n",
    "    # 同じ条件で1着になるの確率を計算\n",
    "    bunsi1 = grouped1[\"target\"].cumsum() - grouped2[\"target\"].cumsum()\n",
    "    bunbo1 = grouped1[\"target\"].cumcount() - grouped2[\"target\"].cumcount()\n",
    "\n",
    "    feature_name = \"all_win_rate_\" + \"_\".join(cols)\n",
    "    feature_col.append(feature_name)\n",
    "    dict_for_df[feature_name] = bunsi1 / bunbo1.replace(0, np.nan)\n",
    "\n",
    "    # 同じ条件で1-3着になるの確率を計算\n",
    "    bunsi3 = grouped1[\"target3\"].cumsum() - grouped2[\"target3\"].cumsum()\n",
    "    bunbo3 = grouped1[\"target3\"].cumcount() - grouped2[\"target3\"].cumcount()\n",
    "\n",
    "    feature_name3 = \"all_win_rate3_\" + \"_\".join(cols)\n",
    "    feature_col.append(feature_name3)\n",
    "    dict_for_df[feature_name3] = bunsi3 / bunbo3.replace(0, np.nan)\n",
    "\n",
    "\n",
    "    return dict_for_df, feature_col"
   ]
  },
  {
   "cell_type": "code",
   "execution_count": 8,
   "id": "631ca4ea",
   "metadata": {},
   "outputs": [
    {
     "name": "stdout",
     "output_type": "stream",
     "text": [
      "['waku_num', 'horse_num', 'sex', 'age', 'basis_weight', 'blinker', 'weight', 'inc_dec', 'weight_last_1', 'weight_last_2', 'weight_last_3', 'weight_mean_last_1_to_3', 'weight_mean_all', 'inc_dec_last_1', 'inc_dec_last_2', 'inc_dec_last_3', 'inc_dec_mean_last_1_to_3', 'inc_dec_mean_all', 'last_3F_time_last_1', 'last_3F_time_last_2', 'last_3F_time_last_3', 'last_3F_time_mean_last_1_to_3', 'last_3F_time_mean_all', 'Ave_3F_last_1', 'Ave_3F_last_2', 'Ave_3F_last_3', 'Ave_3F_mean_last_1_to_3', 'Ave_3F_mean_all', 'PCI_last_1', 'PCI_last_2', 'PCI_last_3', 'PCI_mean_last_1_to_3', 'PCI_mean_all', 'RPCI_last_1', 'RPCI_last_2', 'RPCI_last_3', 'RPCI_mean_last_1_to_3', 'RPCI_mean_all', 'all_win_rate_horse', 'all_win_rate3_horse', 'horse_win_rate_dist', 'horse_win_rate3_dist', 'horse_win_rate_track_code', 'horse_win_rate3_track_code', 'horse_win_rate_field_type', 'horse_win_rate3_field_type', 'horse_win_rate_turn_type', 'horse_win_rate3_turn_type', 'horse_win_rate_weather', 'horse_win_rate3_weather', 'horse_win_rate_state', 'horse_win_rate3_state', 'horse_win_rate_place', 'horse_win_rate3_place', 'horse_win_rate_corner_num', 'horse_win_rate3_corner_num', 'horse_win_rate_class_code', 'horse_win_rate3_class_code', 'horse_win_rate_basis_weight', 'horse_win_rate3_basis_weight', 'horse_win_rate_age_code', 'horse_win_rate3_age_code', 'horse_win_rate_weight_code', 'horse_win_rate3_weight_code', 'horse_win_rate_jockey_id', 'horse_win_rate3_jockey_id', 'horse_win_rate_jockey_id_class_code', 'horse_win_rate3_jockey_id_class_code', 'horse_win_rate_jockey_id_place', 'horse_win_rate3_jockey_id_place', 'horse_win_rate_jockey_id_dist', 'horse_win_rate3_jockey_id_dist', 'horse_win_rate_jockey_id_field_type', 'horse_win_rate3_jockey_id_field_type', 'horse_win_rate_jockey_id_place_dist', 'horse_win_rate3_jockey_id_place_dist', 'horse_win_rate_jockey_id_place_field_type_dist', 'horse_win_rate3_jockey_id_place_field_type_dist', 'horse_win_rate_weather_state', 'horse_win_rate3_weather_state', 'horse_win_rate_dist_corner_num', 'horse_win_rate3_dist_corner_num', 'horse_win_rate_dist_track_code', 'horse_win_rate3_dist_track_code', 'horse_win_rate_dist_class_code', 'horse_win_rate3_dist_class_code', 'horse_win_rate_place_field_type_dist', 'horse_win_rate3_place_field_type_dist', 'horse_win_rate_place_field_type_dist_class_code', 'horse_win_rate3_place_field_type_dist_class_code', 'all_win_rate_dist_waku', 'all_win_rate3_dist_waku', 'all_win_rate_dist_waku_num', 'all_win_rate3_dist_waku_num', 'all_win_rate_dist_horse_num', 'all_win_rate3_dist_horse_num', 'all_win_rate_field_type_waku', 'all_win_rate3_field_type_waku', 'all_win_rate_field_type_waku_num', 'all_win_rate3_field_type_waku_num', 'all_win_rate_field_type_horse_num', 'all_win_rate3_field_type_horse_num', 'all_win_rate_place_waku', 'all_win_rate3_place_waku', 'all_win_rate_place_waku_num', 'all_win_rate3_place_waku_num', 'all_win_rate_place_horse_num', 'all_win_rate3_place_horse_num', 'all_win_rate_field_type_dist_waku', 'all_win_rate3_field_type_dist_waku', 'all_win_rate_field_type_dist_waku_num', 'all_win_rate3_field_type_dist_waku_num', 'all_win_rate_field_type_dist_horse_num', 'all_win_rate3_field_type_dist_horse_num', 'all_win_rate_dist_place_waku', 'all_win_rate3_dist_place_waku', 'all_win_rate_dist_place_waku_num', 'all_win_rate3_dist_place_waku_num', 'all_win_rate_dist_place_horse_num', 'all_win_rate3_dist_place_horse_num', 'all_win_rate_field_type_place_waku', 'all_win_rate3_field_type_place_waku', 'all_win_rate_field_type_place_waku_num', 'all_win_rate3_field_type_place_waku_num', 'all_win_rate_field_type_place_horse_num', 'all_win_rate3_field_type_place_horse_num', 'all_win_rate_race_type_waku', 'all_win_rate3_race_type_waku', 'all_win_rate_race_type_waku_num', 'all_win_rate3_race_type_waku_num', 'all_win_rate_race_type_horse_num', 'all_win_rate3_race_type_horse_num', 'all_win_rate_jockey_id', 'all_win_rate3_jockey_id', 'all_win_rate_jockey_id_place', 'all_win_rate3_jockey_id_place', 'all_win_rate_jockey_id_place_dist', 'all_win_rate3_jockey_id_place_dist', 'all_win_rate_jockey_id_field_type', 'all_win_rate3_jockey_id_field_type', 'all_win_rate_jockey_id_field_type_dist', 'all_win_rate3_jockey_id_field_type_dist', 'all_win_rate_jockey_id_field_type_place', 'all_win_rate3_jockey_id_field_type_place', 'all_win_rate_jockey_id_dist', 'all_win_rate3_jockey_id_dist', 'all_win_rate_jockey_id_race_type', 'all_win_rate3_jockey_id_race_type', 'all_win_rate_jockey_id_race_type_waku', 'all_win_rate3_jockey_id_race_type_waku', 'all_win_rate_jockey_id_race_type_waku_num', 'all_win_rate3_jockey_id_race_type_waku_num', 'all_win_rate_jockey_id_race_type_horse_num', 'all_win_rate3_jockey_id_race_type_horse_num', 'all_win_rate_jockey_id_class_code', 'all_win_rate3_jockey_id_class_code', 'all_win_rate_jockey_id_class_code_place', 'all_win_rate3_jockey_id_class_code_place', 'all_win_rate_jockey_id_class_code_dist', 'all_win_rate3_jockey_id_class_code_dist', 'all_win_rate_jockey_id_class_code_field_type', 'all_win_rate3_jockey_id_class_code_field_type', 'all_win_rate_jockey_id_class_code_race_type', 'all_win_rate3_jockey_id_class_code_race_type', 'all_win_rate_jockey_id_class_code_race_type_waku', 'all_win_rate3_jockey_id_class_code_race_type_waku', 'all_win_rate_jockey_id_class_code_race_type_waku_num', 'all_win_rate3_jockey_id_class_code_race_type_waku_num', 'all_win_rate_jockey_id_class_code_race_type_horse_num', 'all_win_rate3_jockey_id_class_code_race_type_horse_num', 'all_win_rate_jockey_id_turn_type', 'all_win_rate3_jockey_id_turn_type', 'all_win_rate_jockey_id_turn_type_dist', 'all_win_rate3_jockey_id_turn_type_dist', 'all_win_rate_jockey_id_turn_type_place', 'all_win_rate3_jockey_id_turn_type_place', 'all_win_rate_jockey_id_turn_type_field_type', 'all_win_rate3_jockey_id_turn_type_field_type', 'all_win_rate_jockey_id_turn_type_dist_place', 'all_win_rate3_jockey_id_turn_type_dist_place', 'all_win_rate_jockey_id_turn_type_dist_field_type', 'all_win_rate3_jockey_id_turn_type_dist_field_type', 'all_win_rate_jockey_id_turn_type_place_field_type', 'all_win_rate3_jockey_id_turn_type_place_field_type', 'all_win_rate_jockey_id_turn_type_dist_waku', 'all_win_rate3_jockey_id_turn_type_dist_waku', 'all_win_rate_jockey_id_turn_type_dist_waku_num', 'all_win_rate3_jockey_id_turn_type_dist_waku_num', 'all_win_rate_jockey_id_turn_type_dist_horse_num', 'all_win_rate3_jockey_id_turn_type_dist_horse_num', 'all_win_rate_jockey_id_turn_type_place_waku', 'all_win_rate3_jockey_id_turn_type_place_waku', 'all_win_rate_jockey_id_turn_type_place_waku_num', 'all_win_rate3_jockey_id_turn_type_place_waku_num', 'all_win_rate_jockey_id_turn_type_place_horse_num', 'all_win_rate3_jockey_id_turn_type_place_horse_num', 'all_win_rate_jockey_id_turn_type_field_type_waku', 'all_win_rate3_jockey_id_turn_type_field_type_waku', 'all_win_rate_jockey_id_turn_type_field_type_waku_num', 'all_win_rate3_jockey_id_turn_type_field_type_waku_num', 'all_win_rate_jockey_id_turn_type_field_type_horse_num', 'all_win_rate3_jockey_id_turn_type_field_type_horse_num', 'all_win_rate_jockey_id_turn_type_dist_place_waku', 'all_win_rate3_jockey_id_turn_type_dist_place_waku', 'all_win_rate_jockey_id_turn_type_dist_place_waku_num', 'all_win_rate3_jockey_id_turn_type_dist_place_waku_num', 'all_win_rate_jockey_id_turn_type_dist_place_horse_num', 'all_win_rate3_jockey_id_turn_type_dist_place_horse_num', 'all_win_rate_jockey_id_turn_type_dist_field_type_waku', 'all_win_rate3_jockey_id_turn_type_dist_field_type_waku', 'all_win_rate_jockey_id_turn_type_dist_field_type_waku_num', 'all_win_rate3_jockey_id_turn_type_dist_field_type_waku_num', 'all_win_rate_jockey_id_turn_type_dist_field_type_horse_num', 'all_win_rate3_jockey_id_turn_type_dist_field_type_horse_num', 'all_win_rate_jockey_id_turn_type_place_field_type_waku', 'all_win_rate3_jockey_id_turn_type_place_field_type_waku', 'all_win_rate_jockey_id_turn_type_place_field_type_waku_num', 'all_win_rate3_jockey_id_turn_type_place_field_type_waku_num', 'all_win_rate_jockey_id_turn_type_place_field_type_horse_num', 'all_win_rate3_jockey_id_turn_type_place_field_type_horse_num', 'all_win_rate_trainer_id', 'all_win_rate3_trainer_id', 'all_win_rate_trainer_id_place', 'all_win_rate3_trainer_id_place', 'all_win_rate_trainer_id_place_dist', 'all_win_rate3_trainer_id_place_dist', 'all_win_rate_trainer_id_field_type', 'all_win_rate3_trainer_id_field_type', 'all_win_rate_trainer_id_field_type_dist', 'all_win_rate3_trainer_id_field_type_dist', 'all_win_rate_trainer_id_field_type_place', 'all_win_rate3_trainer_id_field_type_place', 'all_win_rate_trainer_id_dist', 'all_win_rate3_trainer_id_dist', 'all_win_rate_trainer_id_race_type', 'all_win_rate3_trainer_id_race_type', 'all_win_rate_trainer_id_race_type_waku', 'all_win_rate3_trainer_id_race_type_waku', 'all_win_rate_trainer_id_race_type_waku_num', 'all_win_rate3_trainer_id_race_type_waku_num', 'all_win_rate_trainer_id_race_type_horse_num', 'all_win_rate3_trainer_id_race_type_horse_num', 'all_win_rate_trainer_id_class_code', 'all_win_rate3_trainer_id_class_code', 'all_win_rate_trainer_id_class_code_place', 'all_win_rate3_trainer_id_class_code_place', 'all_win_rate_trainer_id_class_code_dist', 'all_win_rate3_trainer_id_class_code_dist', 'all_win_rate_trainer_id_class_code_field_type', 'all_win_rate3_trainer_id_class_code_field_type', 'all_win_rate_trainer_id_class_code_race_type', 'all_win_rate3_trainer_id_class_code_race_type', 'all_win_rate_trainer_id_class_code_race_type_waku', 'all_win_rate3_trainer_id_class_code_race_type_waku', 'all_win_rate_trainer_id_class_code_race_type_waku_num', 'all_win_rate3_trainer_id_class_code_race_type_waku_num', 'all_win_rate_trainer_id_class_code_race_type_horse_num', 'all_win_rate3_trainer_id_class_code_race_type_horse_num', 'all_win_rate_trainer_id_turn_type', 'all_win_rate3_trainer_id_turn_type', 'all_win_rate_trainer_id_turn_type_dist', 'all_win_rate3_trainer_id_turn_type_dist', 'all_win_rate_trainer_id_turn_type_place', 'all_win_rate3_trainer_id_turn_type_place', 'all_win_rate_trainer_id_turn_type_field_type', 'all_win_rate3_trainer_id_turn_type_field_type', 'all_win_rate_trainer_id_turn_type_dist_place', 'all_win_rate3_trainer_id_turn_type_dist_place', 'all_win_rate_trainer_id_turn_type_dist_field_type', 'all_win_rate3_trainer_id_turn_type_dist_field_type', 'all_win_rate_trainer_id_turn_type_place_field_type', 'all_win_rate3_trainer_id_turn_type_place_field_type', 'all_win_rate_trainer_id_turn_type_dist_waku', 'all_win_rate3_trainer_id_turn_type_dist_waku', 'all_win_rate_trainer_id_turn_type_dist_waku_num', 'all_win_rate3_trainer_id_turn_type_dist_waku_num', 'all_win_rate_trainer_id_turn_type_dist_horse_num', 'all_win_rate3_trainer_id_turn_type_dist_horse_num', 'all_win_rate_trainer_id_turn_type_place_waku', 'all_win_rate3_trainer_id_turn_type_place_waku', 'all_win_rate_trainer_id_turn_type_place_waku_num', 'all_win_rate3_trainer_id_turn_type_place_waku_num', 'all_win_rate_trainer_id_turn_type_place_horse_num', 'all_win_rate3_trainer_id_turn_type_place_horse_num', 'all_win_rate_trainer_id_turn_type_field_type_waku', 'all_win_rate3_trainer_id_turn_type_field_type_waku', 'all_win_rate_trainer_id_turn_type_field_type_waku_num', 'all_win_rate3_trainer_id_turn_type_field_type_waku_num', 'all_win_rate_trainer_id_turn_type_field_type_horse_num', 'all_win_rate3_trainer_id_turn_type_field_type_horse_num', 'all_win_rate_trainer_id_turn_type_dist_place_waku', 'all_win_rate3_trainer_id_turn_type_dist_place_waku', 'all_win_rate_trainer_id_turn_type_dist_place_waku_num', 'all_win_rate3_trainer_id_turn_type_dist_place_waku_num', 'all_win_rate_trainer_id_turn_type_dist_place_horse_num', 'all_win_rate3_trainer_id_turn_type_dist_place_horse_num', 'all_win_rate_trainer_id_turn_type_dist_field_type_waku', 'all_win_rate3_trainer_id_turn_type_dist_field_type_waku', 'all_win_rate_trainer_id_turn_type_dist_field_type_waku_num', 'all_win_rate3_trainer_id_turn_type_dist_field_type_waku_num', 'all_win_rate_trainer_id_turn_type_dist_field_type_horse_num', 'all_win_rate3_trainer_id_turn_type_dist_field_type_horse_num', 'all_win_rate_trainer_id_turn_type_place_field_type_waku', 'all_win_rate3_trainer_id_turn_type_place_field_type_waku', 'all_win_rate_trainer_id_turn_type_place_field_type_waku_num', 'all_win_rate3_trainer_id_turn_type_place_field_type_waku_num', 'all_win_rate_trainer_id_turn_type_place_field_type_horse_num', 'all_win_rate3_trainer_id_turn_type_place_field_type_horse_num', 'all_win_rate_mother', 'all_win_rate3_mother', 'all_win_rate_mother_place', 'all_win_rate3_mother_place', 'all_win_rate_mother_dist', 'all_win_rate3_mother_dist', 'all_win_rate_mother_field_type', 'all_win_rate3_mother_field_type', 'all_win_rate_mother_turn_type', 'all_win_rate3_mother_turn_type', 'all_win_rate_mother_race_type', 'all_win_rate3_mother_race_type', 'all_win_rate_mother_track_code', 'all_win_rate3_mother_track_code', 'all_win_rate_mother_class_code', 'all_win_rate3_mother_class_code', 'all_win_rate_mother_corner_num', 'all_win_rate3_mother_corner_num', 'all_win_rate_mother_waku', 'all_win_rate3_mother_waku', 'all_win_rate_mother_waku_num', 'all_win_rate3_mother_waku_num', 'all_win_rate_mother_horse_num', 'all_win_rate3_mother_horse_num', 'all_win_rate_mother_place_dist', 'all_win_rate3_mother_place_dist', 'all_win_rate_mother_place_field_type', 'all_win_rate3_mother_place_field_type', 'all_win_rate_mother_dist_field_type', 'all_win_rate3_mother_dist_field_type', 'all_win_rate_mother_place_dist_waku', 'all_win_rate3_mother_place_dist_waku', 'all_win_rate_mother_place_dist_waku_num', 'all_win_rate3_mother_place_dist_waku_num', 'all_win_rate_mother_place_dist_horse_num', 'all_win_rate3_mother_place_dist_horse_num', 'all_win_rate_mother_dist_field_type_waku', 'all_win_rate3_mother_dist_field_type_waku', 'all_win_rate_mother_dist_field_type_waku_num', 'all_win_rate3_mother_dist_field_type_waku_num', 'all_win_rate_mother_dist_field_type_horse_num', 'all_win_rate3_mother_dist_field_type_horse_num', 'all_win_rate_mother_field_type_place_waku', 'all_win_rate3_mother_field_type_place_waku', 'all_win_rate_mother_field_type_place_waku_num', 'all_win_rate3_mother_field_type_place_waku_num', 'all_win_rate_mother_field_type_place_horse_num', 'all_win_rate3_mother_field_type_place_horse_num', 'all_win_rate_mother_race_type_waku', 'all_win_rate3_mother_race_type_waku', 'all_win_rate_mother_race_type_waku_num', 'all_win_rate3_mother_race_type_waku_num', 'all_win_rate_mother_race_type_horse_num', 'all_win_rate3_mother_race_type_horse_num', 'all_win_rate_father', 'all_win_rate3_father', 'all_win_rate_father_place', 'all_win_rate3_father_place', 'all_win_rate_father_dist', 'all_win_rate3_father_dist', 'all_win_rate_father_field_type', 'all_win_rate3_father_field_type', 'all_win_rate_father_turn_type', 'all_win_rate3_father_turn_type', 'all_win_rate_father_race_type', 'all_win_rate3_father_race_type', 'all_win_rate_father_track_code', 'all_win_rate3_father_track_code', 'all_win_rate_father_class_code', 'all_win_rate3_father_class_code', 'all_win_rate_father_corner_num', 'all_win_rate3_father_corner_num', 'all_win_rate_father_waku', 'all_win_rate3_father_waku', 'all_win_rate_father_waku_num', 'all_win_rate3_father_waku_num', 'all_win_rate_father_horse_num', 'all_win_rate3_father_horse_num', 'all_win_rate_father_place_dist', 'all_win_rate3_father_place_dist', 'all_win_rate_father_place_field_type', 'all_win_rate3_father_place_field_type', 'all_win_rate_father_dist_field_type', 'all_win_rate3_father_dist_field_type', 'all_win_rate_father_place_dist_waku', 'all_win_rate3_father_place_dist_waku', 'all_win_rate_father_place_dist_waku_num', 'all_win_rate3_father_place_dist_waku_num', 'all_win_rate_father_place_dist_horse_num', 'all_win_rate3_father_place_dist_horse_num', 'all_win_rate_father_dist_field_type_waku', 'all_win_rate3_father_dist_field_type_waku', 'all_win_rate_father_dist_field_type_waku_num', 'all_win_rate3_father_dist_field_type_waku_num', 'all_win_rate_father_dist_field_type_horse_num', 'all_win_rate3_father_dist_field_type_horse_num', 'all_win_rate_father_field_type_place_waku', 'all_win_rate3_father_field_type_place_waku', 'all_win_rate_father_field_type_place_waku_num', 'all_win_rate3_father_field_type_place_waku_num', 'all_win_rate_father_field_type_place_horse_num', 'all_win_rate3_father_field_type_place_horse_num', 'all_win_rate_father_race_type_waku', 'all_win_rate3_father_race_type_waku', 'all_win_rate_father_race_type_waku_num', 'all_win_rate3_father_race_type_waku_num', 'all_win_rate_father_race_type_horse_num', 'all_win_rate3_father_race_type_horse_num', 'basis_weight_per_weight', 'basis_weight_plus_weight', 'inc_dec_rate', 'lifetime_prize', 'lifetime_prize_per_race', 'is_same_field_type_as_last', 'is_same_class_code_as_last', 'is_same_jockey_as_last', 'interval_day', 'interval_week']\n"
     ]
    },
    {
     "data": {
      "text/html": [
       "<div>\n",
       "<style scoped>\n",
       "    .dataframe tbody tr th:only-of-type {\n",
       "        vertical-align: middle;\n",
       "    }\n",
       "\n",
       "    .dataframe tbody tr th {\n",
       "        vertical-align: top;\n",
       "    }\n",
       "\n",
       "    .dataframe thead th {\n",
       "        text-align: right;\n",
       "    }\n",
       "</style>\n",
       "<table border=\"1\" class=\"dataframe\">\n",
       "  <thead>\n",
       "    <tr style=\"text-align: right;\">\n",
       "      <th></th>\n",
       "      <th>PCI</th>\n",
       "      <th>PCI3</th>\n",
       "      <th>RPCI</th>\n",
       "      <th>year</th>\n",
       "      <th>month</th>\n",
       "      <th>day</th>\n",
       "      <th>times</th>\n",
       "      <th>place</th>\n",
       "      <th>daily</th>\n",
       "      <th>race_num</th>\n",
       "      <th>...</th>\n",
       "      <th>basis_weight_per_weight</th>\n",
       "      <th>basis_weight_plus_weight</th>\n",
       "      <th>inc_dec_rate</th>\n",
       "      <th>lifetime_prize</th>\n",
       "      <th>lifetime_prize_per_race</th>\n",
       "      <th>is_same_field_type_as_last</th>\n",
       "      <th>is_same_class_code_as_last</th>\n",
       "      <th>is_same_jockey_as_last</th>\n",
       "      <th>interval_day</th>\n",
       "      <th>interval_week</th>\n",
       "    </tr>\n",
       "  </thead>\n",
       "  <tbody>\n",
       "    <tr>\n",
       "      <th>201</th>\n",
       "      <td>36.5</td>\n",
       "      <td>46.23</td>\n",
       "      <td>43.7</td>\n",
       "      <td>2025</td>\n",
       "      <td>6</td>\n",
       "      <td>8</td>\n",
       "      <td>3</td>\n",
       "      <td>阪神</td>\n",
       "      <td>2</td>\n",
       "      <td>12</td>\n",
       "      <td>...</td>\n",
       "      <td>0.365615</td>\n",
       "      <td>0.939438</td>\n",
       "      <td>-0.946829</td>\n",
       "      <td>0.512951</td>\n",
       "      <td>-0.423445</td>\n",
       "      <td>True</td>\n",
       "      <td>True</td>\n",
       "      <td>False</td>\n",
       "      <td>-0.890251</td>\n",
       "      <td>-0.895977</td>\n",
       "    </tr>\n",
       "    <tr>\n",
       "      <th>202</th>\n",
       "      <td>37.1</td>\n",
       "      <td>46.23</td>\n",
       "      <td>43.7</td>\n",
       "      <td>2025</td>\n",
       "      <td>6</td>\n",
       "      <td>8</td>\n",
       "      <td>3</td>\n",
       "      <td>阪神</td>\n",
       "      <td>2</td>\n",
       "      <td>12</td>\n",
       "      <td>...</td>\n",
       "      <td>-0.100380</td>\n",
       "      <td>-0.427017</td>\n",
       "      <td>0.146273</td>\n",
       "      <td>-1.006264</td>\n",
       "      <td>-0.776873</td>\n",
       "      <td>True</td>\n",
       "      <td>True</td>\n",
       "      <td>False</td>\n",
       "      <td>0.893848</td>\n",
       "      <td>0.921216</td>\n",
       "    </tr>\n",
       "    <tr>\n",
       "      <th>203</th>\n",
       "      <td>34.7</td>\n",
       "      <td>46.23</td>\n",
       "      <td>43.7</td>\n",
       "      <td>2025</td>\n",
       "      <td>6</td>\n",
       "      <td>8</td>\n",
       "      <td>3</td>\n",
       "      <td>阪神</td>\n",
       "      <td>2</td>\n",
       "      <td>12</td>\n",
       "      <td>...</td>\n",
       "      <td>0.121683</td>\n",
       "      <td>-0.661267</td>\n",
       "      <td>0.150041</td>\n",
       "      <td>-0.496015</td>\n",
       "      <td>3.031210</td>\n",
       "      <td>True</td>\n",
       "      <td>False</td>\n",
       "      <td>True</td>\n",
       "      <td>2.102431</td>\n",
       "      <td>2.132678</td>\n",
       "    </tr>\n",
       "    <tr>\n",
       "      <th>189</th>\n",
       "      <td>42.7</td>\n",
       "      <td>46.23</td>\n",
       "      <td>43.7</td>\n",
       "      <td>2025</td>\n",
       "      <td>6</td>\n",
       "      <td>8</td>\n",
       "      <td>3</td>\n",
       "      <td>阪神</td>\n",
       "      <td>2</td>\n",
       "      <td>12</td>\n",
       "      <td>...</td>\n",
       "      <td>-0.596756</td>\n",
       "      <td>0.119565</td>\n",
       "      <td>-0.140099</td>\n",
       "      <td>0.714744</td>\n",
       "      <td>1.187728</td>\n",
       "      <td>True</td>\n",
       "      <td>True</td>\n",
       "      <td>True</td>\n",
       "      <td>0.519763</td>\n",
       "      <td>0.517395</td>\n",
       "    </tr>\n",
       "    <tr>\n",
       "      <th>194</th>\n",
       "      <td>47.3</td>\n",
       "      <td>46.23</td>\n",
       "      <td>43.7</td>\n",
       "      <td>2025</td>\n",
       "      <td>6</td>\n",
       "      <td>8</td>\n",
       "      <td>3</td>\n",
       "      <td>阪神</td>\n",
       "      <td>2</td>\n",
       "      <td>12</td>\n",
       "      <td>...</td>\n",
       "      <td>0.311946</td>\n",
       "      <td>-0.114685</td>\n",
       "      <td>-0.140099</td>\n",
       "      <td>-0.190442</td>\n",
       "      <td>-0.334268</td>\n",
       "      <td>False</td>\n",
       "      <td>True</td>\n",
       "      <td>False</td>\n",
       "      <td>0.088126</td>\n",
       "      <td>0.113575</td>\n",
       "    </tr>\n",
       "  </tbody>\n",
       "</table>\n",
       "<p>5 rows × 491 columns</p>\n",
       "</div>"
      ],
      "text/plain": [
       "      PCI   PCI3  RPCI  year  month  day  times place daily  race_num  ...  \\\n",
       "201  36.5  46.23  43.7  2025      6    8      3    阪神     2        12  ...   \n",
       "202  37.1  46.23  43.7  2025      6    8      3    阪神     2        12  ...   \n",
       "203  34.7  46.23  43.7  2025      6    8      3    阪神     2        12  ...   \n",
       "189  42.7  46.23  43.7  2025      6    8      3    阪神     2        12  ...   \n",
       "194  47.3  46.23  43.7  2025      6    8      3    阪神     2        12  ...   \n",
       "\n",
       "    basis_weight_per_weight basis_weight_plus_weight  inc_dec_rate  \\\n",
       "201                0.365615                 0.939438     -0.946829   \n",
       "202               -0.100380                -0.427017      0.146273   \n",
       "203                0.121683                -0.661267      0.150041   \n",
       "189               -0.596756                 0.119565     -0.140099   \n",
       "194                0.311946                -0.114685     -0.140099   \n",
       "\n",
       "    lifetime_prize  lifetime_prize_per_race  is_same_field_type_as_last  \\\n",
       "201       0.512951                -0.423445                        True   \n",
       "202      -1.006264                -0.776873                        True   \n",
       "203      -0.496015                 3.031210                        True   \n",
       "189       0.714744                 1.187728                        True   \n",
       "194      -0.190442                -0.334268                       False   \n",
       "\n",
       "    is_same_class_code_as_last is_same_jockey_as_last  interval_day  \\\n",
       "201                       True                  False     -0.890251   \n",
       "202                       True                  False      0.893848   \n",
       "203                      False                   True      2.102431   \n",
       "189                       True                   True      0.519763   \n",
       "194                       True                  False      0.088126   \n",
       "\n",
       "     interval_week  \n",
       "201      -0.895977  \n",
       "202       0.921216  \n",
       "203       2.132678  \n",
       "189       0.517395  \n",
       "194       0.113575  \n",
       "\n",
       "[5 rows x 491 columns]"
      ]
     },
     "metadata": {},
     "output_type": "display_data"
    }
   ],
   "source": [
    "feature_col = [\"waku_num\", \"horse_num\", \"sex\", \"age\", \"basis_weight\", \"blinker\", \"weight\", \"inc_dec\"]\n",
    "df4, feature_col2 = feature_engineering(df3, feature_col)"
   ]
  },
  {
   "cell_type": "code",
   "execution_count": 9,
   "id": "eb7500aa",
   "metadata": {},
   "outputs": [
    {
     "name": "stderr",
     "output_type": "stream",
     "text": [
      "[I 2025-06-12 22:42:22,095] A new study created in memory with name: no-name-0a5cfade-4e11-422a-8232-5257275e72e9\n",
      "[I 2025-06-12 22:42:25,946] Trial 0 finished with value: 0.23962575078000017 and parameters: {'max_bin': 102, 'num_leaves': 96, 'min_data_in_leaf': 37, 'min_sum_hessian_in_leaf': 5.9865848459837805, 'bagging_fraction': 0.3248149123539492, 'bagging_freq': 16, 'feature_fraction': 0.15227525095137953, 'lambda_l1': 0.6245760287469893, 'lambda_l2': 0.002570603566117598, 'min_gain_to_split': 7.080725777960454, 'max_depth': 4, 'learning_rate': 0.7579479953348001, 'path_smooth': 8.324426408004218}. Best is trial 0 with value: 0.23962575078000017.\n",
      "[I 2025-06-12 22:42:36,452] Trial 1 finished with value: 0.22815152529676272 and parameters: {'max_bin': 62, 'num_leaves': 20, 'min_data_in_leaf': 10, 'min_sum_hessian_in_leaf': 3.0424224365529544, 'bagging_fraction': 0.6198051453057902, 'bagging_freq': 44, 'feature_fraction': 0.36210622617823773, 'lambda_l1': 0.0032112643094417484, 'lambda_l2': 1.8007140198129195e-07, 'min_gain_to_split': 2.9214464853521815, 'max_depth': 38, 'learning_rate': 0.006672367170464205, 'path_smooth': 7.851759613930136}. Best is trial 1 with value: 0.22815152529676272.\n",
      "[I 2025-06-12 22:42:45,732] Trial 2 finished with value: 0.25107041411806963 and parameters: {'max_bin': 59, 'num_leaves': 52, 'min_data_in_leaf': 30, 'min_sum_hessian_in_leaf': 0.4645041367354731, 'bagging_fraction': 0.6860358815211507, 'bagging_freq': 18, 'feature_fraction': 0.1585464336867516, 'lambda_l1': 3.4671276804481113, 'lambda_l2': 4.905556676028774, 'min_gain_to_split': 8.08397348116461, 'max_depth': 32, 'learning_rate': 0.00024586032763280086, 'path_smooth': 6.842330265121569}. Best is trial 1 with value: 0.22815152529676272.\n",
      "[I 2025-06-12 22:42:49,615] Trial 3 finished with value: 0.24194482276077434 and parameters: {'max_bin': 118, 'num_leaves': 14, 'min_data_in_leaf': 25, 'min_sum_hessian_in_leaf': 0.3438852208082987, 'bagging_fraction': 0.9274563216630256, 'bagging_freq': 26, 'feature_fraction': 0.6962700559185838, 'lambda_l1': 6.388511557344611e-06, 'lambda_l2': 0.0004793052550782129, 'min_gain_to_split': 5.4671027934327965, 'max_depth': 20, 'learning_rate': 0.755681014127442, 'path_smooth': 7.7513282336111455}. Best is trial 1 with value: 0.22815152529676272.\n",
      "[I 2025-06-12 22:43:03,793] Trial 4 finished with value: 0.22972019577486624 and parameters: {'max_bin': 241, 'num_leaves': 90, 'min_data_in_leaf': 30, 'min_sum_hessian_in_leaf': 9.218742351012425, 'bagging_fraction': 0.2707940016415356, 'bagging_freq': 20, 'feature_fraction': 0.14070456001948428, 'lambda_l1': 8.471746987003668e-06, 'lambda_l2': 3.148441347423712e-05, 'min_gain_to_split': 2.713490317738959, 'max_depth': 84, 'learning_rate': 0.0026730883107816713, 'path_smooth': 2.8093450968738076}. Best is trial 1 with value: 0.22815152529676272.\n",
      "[I 2025-06-12 22:43:07,824] Trial 5 finished with value: 0.2293152471751466 and parameters: {'max_bin': 143, 'num_leaves': 15, 'min_data_in_leaf': 41, 'min_sum_hessian_in_leaf': 0.7455064460522017, 'bagging_fraction': 0.9895095492804138, 'bagging_freq': 78, 'feature_fraction': 0.2788441133807552, 'lambda_l1': 1.1212412169964432e-08, 'lambda_l2': 0.2183498289760726, 'min_gain_to_split': 7.068573438476172, 'max_depth': 74, 'learning_rate': 0.12164139351417062, 'path_smooth': 0.7404465173409036}. Best is trial 1 with value: 0.22815152529676272.\n",
      "[I 2025-06-12 22:43:15,709] Trial 6 finished with value: 0.2274600334798052 and parameters: {'max_bin': 98, 'num_leaves': 13, 'min_data_in_leaf': 44, 'min_sum_hessian_in_leaf': 6.232981272042597, 'bagging_fraction': 0.46471841988211937, 'bagging_freq': 7, 'feature_fraction': 0.379884089544096, 'lambda_l1': 8.445977074223802e-06, 'lambda_l2': 0.036851536911881845, 'min_gain_to_split': 6.3755747135521315, 'max_depth': 89, 'learning_rate': 0.007742116473996248, 'path_smooth': 1.195942459383017}. Best is trial 6 with value: 0.2274600334798052.\n",
      "[I 2025-06-12 22:44:28,720] Trial 7 finished with value: 0.23018752466914977 and parameters: {'max_bin': 185, 'num_leaves': 77, 'min_data_in_leaf': 29, 'min_sum_hessian_in_leaf': 7.709671801835937, 'bagging_fraction': 0.5950364770915126, 'bagging_freq': 53, 'feature_fraction': 0.4847869165226947, 'lambda_l1': 1.6934490731313353e-08, 'lambda_l2': 9.354548757337708e-08, 'min_gain_to_split': 0.3142918568673425, 'max_depth': 65, 'learning_rate': 0.0018089390092767149, 'path_smooth': 5.085706911647028}. Best is trial 6 with value: 0.2274600334798052.\n",
      "[I 2025-06-12 22:44:32,529] Trial 8 finished with value: 0.2321604069944158 and parameters: {'max_bin': 233, 'num_leaves': 26, 'min_data_in_leaf': 21, 'min_sum_hessian_in_leaf': 7.555511387874975, 'bagging_fraction': 0.383038532393298, 'bagging_freq': 8, 'feature_fraction': 0.3607763076223912, 'lambda_l1': 2.824825241715838e-07, 'lambda_l2': 2.3295866619309256, 'min_gain_to_split': 8.08120379564417, 'max_depth': 64, 'learning_rate': 0.3060852210672247, 'path_smooth': 8.036720768991145}. Best is trial 6 with value: 0.2274600334798052.\n",
      "[I 2025-06-12 22:44:47,003] Trial 9 finished with value: 0.25400562708375746 and parameters: {'max_bin': 55, 'num_leaves': 90, 'min_data_in_leaf': 27, 'min_sum_hessian_in_leaf': 8.074401553566224, 'bagging_fraction': 0.9168730399387945, 'bagging_freq': 32, 'feature_fraction': 0.19904673207490908, 'lambda_l1': 1.1256839212661599e-06, 'lambda_l2': 6.98184330520185e-05, 'min_gain_to_split': 8.18014765922493, 'max_depth': 87, 'learning_rate': 0.00010661259689433907, 'path_smooth': 5.107473025775658}. Best is trial 6 with value: 0.2274600334798052.\n",
      "[I 2025-06-12 22:44:51,381] Trial 10 finished with value: 0.23144731034599125 and parameters: {'max_bin': 19, 'num_leaves': 41, 'min_data_in_leaf': 49, 'min_sum_hessian_in_leaf': 3.9576415542055066, 'bagging_fraction': 0.46529401155806127, 'bagging_freq': 91, 'feature_fraction': 0.9637936713508777, 'lambda_l1': 0.00413763088103686, 'lambda_l2': 0.05034404362321341, 'min_gain_to_split': 9.923626654603375, 'max_depth': 100, 'learning_rate': 0.029499719873019907, 'path_smooth': 0.2392315348138746}. Best is trial 6 with value: 0.2274600334798052.\n",
      "[I 2025-06-12 22:44:59,599] Trial 11 finished with value: 0.22774738205244988 and parameters: {'max_bin': 72, 'num_leaves': 4, 'min_data_in_leaf': 5, 'min_sum_hessian_in_leaf': 3.320173274036466, 'bagging_fraction': 0.612737209590734, 'bagging_freq': 53, 'feature_fraction': 0.527096926584918, 'lambda_l1': 0.001175790894077933, 'lambda_l2': 1.7270812116459777e-08, 'min_gain_to_split': 3.366233040767838, 'max_depth': 44, 'learning_rate': 0.012644998826989065, 'path_smooth': 9.656945754419741}. Best is trial 6 with value: 0.2274600334798052.\n",
      "[I 2025-06-12 22:45:06,127] Trial 12 finished with value: 0.22762088909061395 and parameters: {'max_bin': 93, 'num_leaves': 3, 'min_data_in_leaf': 4, 'min_sum_hessian_in_leaf': 5.149704145059727, 'bagging_fraction': 0.7456221518336669, 'bagging_freq': 59, 'feature_fraction': 0.6317270186694047, 'lambda_l1': 0.0001666770480621197, 'lambda_l2': 1.712101823711029e-06, 'min_gain_to_split': 4.467853397637732, 'max_depth': 44, 'learning_rate': 0.03019630280630805, 'path_smooth': 9.908491051285749}. Best is trial 6 with value: 0.2274600334798052.\n",
      "[I 2025-06-12 22:45:11,823] Trial 13 finished with value: 0.22929584020168636 and parameters: {'max_bin': 145, 'num_leaves': 38, 'min_data_in_leaf': 15, 'min_sum_hessian_in_leaf': 5.587985834845158, 'bagging_fraction': 0.7513246583878899, 'bagging_freq': 71, 'feature_fraction': 0.702413770758729, 'lambda_l1': 0.00012564589910259895, 'lambda_l2': 3.901069568054151e-06, 'min_gain_to_split': 4.631091933382127, 'max_depth': 58, 'learning_rate': 0.04448554268999945, 'path_smooth': 3.082810027069372}. Best is trial 6 with value: 0.2274600334798052.\n",
      "[I 2025-06-12 22:45:26,964] Trial 14 finished with value: 0.2367450352748508 and parameters: {'max_bin': 174, 'num_leaves': 6, 'min_data_in_leaf': 1, 'min_sum_hessian_in_leaf': 6.3946846663140935, 'bagging_fraction': 0.47519463160835657, 'bagging_freq': 68, 'feature_fraction': 0.6945393212456125, 'lambda_l1': 0.05740835784199981, 'lambda_l2': 0.008209330474269519, 'min_gain_to_split': 5.596158930967834, 'max_depth': 49, 'learning_rate': 0.0010821264374632708, 'path_smooth': 2.223463569011278}. Best is trial 6 with value: 0.2274600334798052.\n",
      "[I 2025-06-12 22:45:32,203] Trial 15 finished with value: 0.2300175913917658 and parameters: {'max_bin': 93, 'num_leaves': 62, 'min_data_in_leaf': 47, 'min_sum_hessian_in_leaf': 4.459489204045597, 'bagging_fraction': 0.790465110702661, 'bagging_freq': 4, 'feature_fraction': 0.8989827097072367, 'lambda_l1': 6.872583021155958e-05, 'lambda_l2': 2.535557264019931e-06, 'min_gain_to_split': 4.478375522582174, 'max_depth': 29, 'learning_rate': 0.06725356288086858, 'path_smooth': 5.915176709957256}. Best is trial 6 with value: 0.2274600334798052.\n",
      "[I 2025-06-12 22:45:40,009] Trial 16 finished with value: 0.23021214195120776 and parameters: {'max_bin': 13, 'num_leaves': 27, 'min_data_in_leaf': 16, 'min_sum_hessian_in_leaf': 2.387070488293436, 'bagging_fraction': 0.20980473423481383, 'bagging_freq': 40, 'feature_fraction': 0.5994015542950208, 'lambda_l1': 2.4338992935764324e-05, 'lambda_l2': 0.1634470483541032, 'min_gain_to_split': 1.1329681698594323, 'max_depth': 99, 'learning_rate': 0.008768485055511036, 'path_smooth': 3.7327470600340225}. Best is trial 6 with value: 0.2274600334798052.\n",
      "[I 2025-06-12 22:45:46,173] Trial 17 finished with value: 0.22834706556747797 and parameters: {'max_bin': 91, 'num_leaves': 3, 'min_data_in_leaf': 38, 'min_sum_hessian_in_leaf': 9.885429536326004, 'bagging_fraction': 0.48913079975764495, 'bagging_freq': 59, 'feature_fraction': 0.4262445096202381, 'lambda_l1': 3.396277935281175e-07, 'lambda_l2': 1.984913567882974e-06, 'min_gain_to_split': 6.419120756292455, 'max_depth': 15, 'learning_rate': 0.018960544048741035, 'path_smooth': 9.86425067118279}. Best is trial 6 with value: 0.2274600334798052.\n",
      "[I 2025-06-12 22:46:38,713] Trial 18 finished with value: 0.23781074991440943 and parameters: {'max_bin': 185, 'num_leaves': 35, 'min_data_in_leaf': 43, 'min_sum_hessian_in_leaf': 5.3683116624685026, 'bagging_fraction': 0.7878224234575376, 'bagging_freq': 97, 'feature_fraction': 0.8585789272918976, 'lambda_l1': 0.000427589801258078, 'lambda_l2': 0.0006106742529979144, 'min_gain_to_split': 3.7168038218258226, 'max_depth': 76, 'learning_rate': 0.0007208018219238399, 'path_smooth': 1.3216827715702548}. Best is trial 6 with value: 0.2274600334798052.\n",
      "[I 2025-06-12 22:46:42,859] Trial 19 finished with value: 0.23694366517205015 and parameters: {'max_bin': 37, 'num_leaves': 57, 'min_data_in_leaf': 34, 'min_sum_hessian_in_leaf': 7.005167765994104, 'bagging_fraction': 0.53717397297383, 'bagging_freq': 36, 'feature_fraction': 0.7918810033258803, 'lambda_l1': 0.0654384336317935, 'lambda_l2': 0.01605453691815576, 'min_gain_to_split': 1.7660476540036818, 'max_depth': 55, 'learning_rate': 0.20655557967181695, 'path_smooth': 3.944497642389667}. Best is trial 6 with value: 0.2274600334798052.\n",
      "[I 2025-06-12 22:46:55,759] Trial 20 finished with value: 0.22856672810127024 and parameters: {'max_bin': 126, 'num_leaves': 67, 'min_data_in_leaf': 20, 'min_sum_hessian_in_leaf': 1.6448804558849575, 'bagging_fraction': 0.688817718839486, 'bagging_freq': 81, 'feature_fraction': 0.5584724123848135, 'lambda_l1': 0.012891779028574536, 'lambda_l2': 1.4504660965540652e-05, 'min_gain_to_split': 9.25126467740942, 'max_depth': 88, 'learning_rate': 0.004070054810448134, 'path_smooth': 1.7467332761565313}. Best is trial 6 with value: 0.2274600334798052.\n",
      "[I 2025-06-12 22:47:02,416] Trial 21 finished with value: 0.22911004987246947 and parameters: {'max_bin': 79, 'num_leaves': 2, 'min_data_in_leaf': 1, 'min_sum_hessian_in_leaf': 3.520168074341285, 'bagging_fraction': 0.4002701318146772, 'bagging_freq': 58, 'feature_fraction': 0.48753154381003405, 'lambda_l1': 0.0006114690342697083, 'lambda_l2': 1.6373907029568506e-08, 'min_gain_to_split': 3.6350040863186535, 'max_depth': 44, 'learning_rate': 0.015431103833668677, 'path_smooth': 9.769868484635198}. Best is trial 6 with value: 0.2274600334798052.\n",
      "[I 2025-06-12 22:47:11,017] Trial 22 finished with value: 0.22761752678214187 and parameters: {'max_bin': 75, 'num_leaves': 12, 'min_data_in_leaf': 6, 'min_sum_hessian_in_leaf': 4.544401090705776, 'bagging_fraction': 0.5821218334923128, 'bagging_freq': 48, 'feature_fraction': 0.5970449253684351, 'lambda_l1': 0.0004902079026958862, 'lambda_l2': 1.3662381901664269e-08, 'min_gain_to_split': 5.990395744291634, 'max_depth': 42, 'learning_rate': 0.008427441235293688, 'path_smooth': 9.18082818444452}. Best is trial 6 with value: 0.2274600334798052.\n",
      "[I 2025-06-12 22:47:22,059] Trial 23 finished with value: 0.22798900326038007 and parameters: {'max_bin': 108, 'num_leaves': 13, 'min_data_in_leaf': 11, 'min_sum_hessian_in_leaf': 4.614351659765955, 'bagging_fraction': 0.5558021160176819, 'bagging_freq': 46, 'feature_fraction': 0.6053667364042808, 'lambda_l1': 1.829586838368097e-06, 'lambda_l2': 1.6590395104971258e-07, 'min_gain_to_split': 6.11272201472493, 'max_depth': 27, 'learning_rate': 0.005328697595223938, 'path_smooth': 8.696770340755355}. Best is trial 6 with value: 0.2274600334798052.\n",
      "[I 2025-06-12 22:47:26,239] Trial 24 finished with value: 0.22895688518670063 and parameters: {'max_bin': 40, 'num_leaves': 28, 'min_data_in_leaf': 7, 'min_sum_hessian_in_leaf': 6.505669417976479, 'bagging_fraction': 0.7074672235807566, 'bagging_freq': 63, 'feature_fraction': 0.3952277611622841, 'lambda_l1': 7.450015619785555e-05, 'lambda_l2': 2.8646169700310104e-07, 'min_gain_to_split': 4.452007570289138, 'max_depth': 42, 'learning_rate': 0.06862997662619924, 'path_smooth': 6.677994223936209}. Best is trial 6 with value: 0.2274600334798052.\n",
      "[I 2025-06-12 22:47:31,830] Trial 25 finished with value: 0.227615456386723 and parameters: {'max_bin': 158, 'num_leaves': 19, 'min_data_in_leaf': 6, 'min_sum_hessian_in_leaf': 4.989780121101991, 'bagging_fraction': 0.851949084779611, 'bagging_freq': 32, 'feature_fraction': 0.30567185083037196, 'lambda_l1': 2.31891144173242e-05, 'lambda_l2': 8.381380206027586e-07, 'min_gain_to_split': 6.90920600853258, 'max_depth': 51, 'learning_rate': 0.02532757993023043, 'path_smooth': 9.021477917183205}. Best is trial 6 with value: 0.2274600334798052.\n",
      "[I 2025-06-12 22:47:52,477] Trial 26 finished with value: 0.23731228071365804 and parameters: {'max_bin': 165, 'num_leaves': 46, 'min_data_in_leaf': 10, 'min_sum_hessian_in_leaf': 4.216410006637252, 'bagging_fraction': 0.8465699457256253, 'bagging_freq': 27, 'feature_fraction': 0.27885449950498653, 'lambda_l1': 1.4139430904181794e-05, 'lambda_l2': 1.3261136554707667e-08, 'min_gain_to_split': 7.1140280665425575, 'max_depth': 59, 'learning_rate': 0.0007719118461083504, 'path_smooth': 8.815289044639925}. Best is trial 6 with value: 0.2274600334798052.\n",
      "[I 2025-06-12 22:48:05,821] Trial 27 finished with value: 0.22899198352139294 and parameters: {'max_bin': 214, 'num_leaves': 21, 'min_data_in_leaf': 14, 'min_sum_hessian_in_leaf': 2.7315657902844634, 'bagging_fraction': 0.4060782544718689, 'bagging_freq': 11, 'feature_fraction': 0.2854415060642724, 'lambda_l1': 1.2061848797337657e-06, 'lambda_l2': 0.6999484822550373, 'min_gain_to_split': 6.31624865714993, 'max_depth': 72, 'learning_rate': 0.002532884546350301, 'path_smooth': 9.028988390631897}. Best is trial 6 with value: 0.2274600334798052.\n",
      "[I 2025-06-12 22:48:12,542] Trial 28 finished with value: 0.22761200166567627 and parameters: {'max_bin': 157, 'num_leaves': 32, 'min_data_in_leaf': 20, 'min_sum_hessian_in_leaf': 8.349510161549858, 'bagging_fraction': 0.6533185659085393, 'bagging_freq': 24, 'feature_fraction': 0.23542045650564514, 'lambda_l1': 1.9288564498797735e-07, 'lambda_l2': 8.668646909495357e-05, 'min_gain_to_split': 8.889337305441618, 'max_depth': 51, 'learning_rate': 0.011249218908319873, 'path_smooth': 7.121398907325441}. Best is trial 6 with value: 0.2274600334798052.\n",
      "[I 2025-06-12 22:48:18,321] Trial 29 finished with value: 0.22779392511877672 and parameters: {'max_bin': 155, 'num_leaves': 32, 'min_data_in_leaf': 21, 'min_sum_hessian_in_leaf': 8.699883236290997, 'bagging_fraction': 0.8435474892445795, 'bagging_freq': 12, 'feature_fraction': 0.23829140860403092, 'lambda_l1': 6.685674112099306e-08, 'lambda_l2': 0.0016766828555157837, 'min_gain_to_split': 9.064384096134031, 'max_depth': 52, 'learning_rate': 0.019994960322120173, 'path_smooth': 7.244261848163062}. Best is trial 6 with value: 0.2274600334798052.\n",
      "[I 2025-06-12 22:48:22,191] Trial 30 finished with value: 0.23113867958018194 and parameters: {'max_bin': 206, 'num_leaves': 21, 'min_data_in_leaf': 23, 'min_sum_hessian_in_leaf': 5.99307388453918, 'bagging_fraction': 0.3347695021036651, 'bagging_freq': 23, 'feature_fraction': 0.1019016733959931, 'lambda_l1': 1.1448086409745335e-07, 'lambda_l2': 9.246151158064168e-05, 'min_gain_to_split': 7.49825580499175, 'max_depth': 6, 'learning_rate': 0.10897558851555633, 'path_smooth': 5.855569971295171}. Best is trial 6 with value: 0.2274600334798052.\n",
      "[I 2025-06-12 22:48:30,840] Trial 31 finished with value: 0.22748577096838773 and parameters: {'max_bin': 134, 'num_leaves': 11, 'min_data_in_leaf': 34, 'min_sum_hessian_in_leaf': 6.760501584339592, 'bagging_fraction': 0.6386597044141682, 'bagging_freq': 2, 'feature_fraction': 0.3226299342031866, 'lambda_l1': 2.5141397104996982e-06, 'lambda_l2': 6.276894183464544e-08, 'min_gain_to_split': 8.662630492191273, 'max_depth': 65, 'learning_rate': 0.009048389339036607, 'path_smooth': 9.243707129096945}. Best is trial 6 with value: 0.2274600334798052.\n",
      "[I 2025-06-12 22:48:38,709] Trial 32 finished with value: 0.22732663328772973 and parameters: {'max_bin': 128, 'num_leaves': 20, 'min_data_in_leaf': 35, 'min_sum_hessian_in_leaf': 7.0275766859089845, 'bagging_fraction': 0.654501445259574, 'bagging_freq': 5, 'feature_fraction': 0.34340865621403743, 'lambda_l1': 3.760634133189167e-06, 'lambda_l2': 5.251431270940808e-07, 'min_gain_to_split': 8.759177196484512, 'max_depth': 68, 'learning_rate': 0.00924904046700135, 'path_smooth': 8.412090246840751}. Best is trial 32 with value: 0.22732663328772973.\n",
      "[I 2025-06-12 22:48:49,114] Trial 33 finished with value: 0.227545468814502 and parameters: {'max_bin': 133, 'num_leaves': 42, 'min_data_in_leaf': 33, 'min_sum_hessian_in_leaf': 7.108388230648817, 'bagging_fraction': 0.6489620955180748, 'bagging_freq': 5, 'feature_fraction': 0.3455788246910522, 'lambda_l1': 3.767537264489991e-06, 'lambda_l2': 9.472456999086623e-06, 'min_gain_to_split': 9.11990400170718, 'max_depth': 81, 'learning_rate': 0.005431518705415574, 'path_smooth': 7.448667320864491}. Best is trial 32 with value: 0.22732663328772973.\n",
      "[I 2025-06-12 22:48:59,960] Trial 34 finished with value: 0.22792494008895722 and parameters: {'max_bin': 133, 'num_leaves': 45, 'min_data_in_leaf': 34, 'min_sum_hessian_in_leaf': 6.82510918689617, 'bagging_fraction': 0.6454511970340773, 'bagging_freq': 2, 'feature_fraction': 0.3475725977900624, 'lambda_l1': 3.3973718125722695e-06, 'lambda_l2': 1.3625282147850144e-05, 'min_gain_to_split': 9.876998569362431, 'max_depth': 81, 'learning_rate': 0.004060386035100526, 'path_smooth': 8.210644935606581}. Best is trial 32 with value: 0.22732663328772973.\n",
      "[I 2025-06-12 22:49:12,217] Trial 35 finished with value: 0.231679861015167 and parameters: {'max_bin': 118, 'num_leaves': 9, 'min_data_in_leaf': 34, 'min_sum_hessian_in_leaf': 7.296234637944273, 'bagging_fraction': 0.5226106116805505, 'bagging_freq': 15, 'feature_fraction': 0.44563190473749986, 'lambda_l1': 1.0153149764395478e-06, 'lambda_l2': 8.346129544714097e-08, 'min_gain_to_split': 8.268372181586006, 'max_depth': 79, 'learning_rate': 0.0017215130662237583, 'path_smooth': 6.083615241836842}. Best is trial 32 with value: 0.22732663328772973.\n",
      "[I 2025-06-12 22:49:21,969] Trial 36 finished with value: 0.22938873782986444 and parameters: {'max_bin': 111, 'num_leaves': 18, 'min_data_in_leaf': 43, 'min_sum_hessian_in_leaf': 5.795098434082603, 'bagging_fraction': 0.7080356420317392, 'bagging_freq': 1, 'feature_fraction': 0.35005559974577877, 'lambda_l1': 9.699942738610241, 'lambda_l2': 4.102936790392243e-07, 'min_gain_to_split': 8.718225500508876, 'max_depth': 93, 'learning_rate': 0.0059991591982741935, 'path_smooth': 7.37871056821234}. Best is trial 32 with value: 0.22732663328772973.\n",
      "[I 2025-06-12 22:49:35,622] Trial 37 finished with value: 0.22813401360746113 and parameters: {'max_bin': 135, 'num_leaves': 24, 'min_data_in_leaf': 38, 'min_sum_hessian_in_leaf': 6.253392691517402, 'bagging_fraction': 0.643495389905125, 'bagging_freq': 7, 'feature_fraction': 0.4075274929427702, 'lambda_l1': 6.181344847140763e-06, 'lambda_l2': 6.431961412781052e-08, 'min_gain_to_split': 7.4605311553608695, 'max_depth': 69, 'learning_rate': 0.0029268062505181866, 'path_smooth': 6.461365289890689}. Best is trial 32 with value: 0.22732663328772973.\n",
      "[I 2025-06-12 22:49:47,021] Trial 38 finished with value: 0.24543976759851557 and parameters: {'max_bin': 126, 'num_leaves': 73, 'min_data_in_leaf': 32, 'min_sum_hessian_in_leaf': 8.987318760324687, 'bagging_fraction': 0.5771234677338323, 'bagging_freq': 17, 'feature_fraction': 0.18129276698475041, 'lambda_l1': 5.640984069183721e-08, 'lambda_l2': 6.460128601554937e-06, 'min_gain_to_split': 9.442699916991875, 'max_depth': 92, 'learning_rate': 0.00038296630090664855, 'path_smooth': 7.58085314258067}. Best is trial 32 with value: 0.22732663328772973.\n",
      "[I 2025-06-12 22:50:00,602] Trial 39 finished with value: 0.23158746911403078 and parameters: {'max_bin': 103, 'num_leaves': 53, 'min_data_in_leaf': 41, 'min_sum_hessian_in_leaf': 7.948005746370196, 'bagging_fraction': 0.516316614809975, 'bagging_freq': 9, 'feature_fraction': 0.4701452356471937, 'lambda_l1': 3.679195802296723e-06, 'lambda_l2': 5.691313211496558e-07, 'min_gain_to_split': 8.490893706746894, 'max_depth': 66, 'learning_rate': 0.0014537849848021826, 'path_smooth': 8.394759971882499}. Best is trial 32 with value: 0.22732663328772973.\n",
      "[I 2025-06-12 22:50:08,858] Trial 40 finished with value: 0.22782555794387907 and parameters: {'max_bin': 146, 'num_leaves': 15, 'min_data_in_leaf': 46, 'min_sum_hessian_in_leaf': 7.2773916560473975, 'bagging_fraction': 0.4381824324478656, 'bagging_freq': 19, 'feature_fraction': 0.3221077068258071, 'lambda_l1': 5.941535633401605e-07, 'lambda_l2': 4.685064991785575e-08, 'min_gain_to_split': 7.658603880489728, 'max_depth': 84, 'learning_rate': 0.006340769167682135, 'path_smooth': 7.9336909069594785}. Best is trial 32 with value: 0.22732663328772973.\n",
      "[I 2025-06-12 22:50:15,564] Trial 41 finished with value: 0.22749207911377403 and parameters: {'max_bin': 183, 'num_leaves': 30, 'min_data_in_leaf': 27, 'min_sum_hessian_in_leaf': 8.409107254275785, 'bagging_fraction': 0.6491443231586571, 'bagging_freq': 5, 'feature_fraction': 0.23448458801923167, 'lambda_l1': 1.523019744330768e-07, 'lambda_l2': 4.9660163768340064e-05, 'min_gain_to_split': 8.853363311569332, 'max_depth': 63, 'learning_rate': 0.013111298228278783, 'path_smooth': 7.082853570332705}. Best is trial 32 with value: 0.22732663328772973.\n",
      "[I 2025-06-12 22:50:23,625] Trial 42 finished with value: 0.22731785208283115 and parameters: {'max_bin': 196, 'num_leaves': 9, 'min_data_in_leaf': 27, 'min_sum_hessian_in_leaf': 8.394674401657376, 'bagging_fraction': 0.6349823456337426, 'bagging_freq': 6, 'feature_fraction': 0.38306038360363626, 'lambda_l1': 2.1245154500296905e-08, 'lambda_l2': 0.0002252510506585925, 'min_gain_to_split': 9.517626303561698, 'max_depth': 62, 'learning_rate': 0.011882776729413238, 'path_smooth': 5.380419527202838}. Best is trial 42 with value: 0.22731785208283115.\n",
      "[I 2025-06-12 22:50:30,193] Trial 43 finished with value: 0.22791062564133124 and parameters: {'max_bin': 190, 'num_leaves': 9, 'min_data_in_leaf': 27, 'min_sum_hessian_in_leaf': 9.64762706574175, 'bagging_fraction': 0.6256736392175613, 'bagging_freq': 13, 'feature_fraction': 0.2321080716145338, 'lambda_l1': 4.5592124038172415e-08, 'lambda_l2': 0.00033072327906225616, 'min_gain_to_split': 9.534078141759961, 'max_depth': 62, 'learning_rate': 0.011377688719929797, 'path_smooth': 4.473025373902697}. Best is trial 42 with value: 0.22731785208283115.\n",
      "[I 2025-06-12 22:50:35,354] Trial 44 finished with value: 0.22745454472777998 and parameters: {'max_bin': 225, 'num_leaves': 9, 'min_data_in_leaf': 29, 'min_sum_hessian_in_leaf': 8.383639198841916, 'bagging_fraction': 0.7406106429992477, 'bagging_freq': 1, 'feature_fraction': 0.3977327023740648, 'lambda_l1': 1.825341095447043e-08, 'lambda_l2': 0.0013985179302975516, 'min_gain_to_split': 7.910549051869553, 'max_depth': 70, 'learning_rate': 0.044928795786569886, 'path_smooth': 5.19684600732136}. Best is trial 42 with value: 0.22731785208283115.\n",
      "[I 2025-06-12 22:50:40,703] Trial 45 finished with value: 0.22761080309402407 and parameters: {'max_bin': 255, 'num_leaves': 9, 'min_data_in_leaf': 30, 'min_sum_hessian_in_leaf': 9.379889043233437, 'bagging_fraction': 0.7523053465648659, 'bagging_freq': 1, 'feature_fraction': 0.39402673719248665, 'lambda_l1': 1.4484691333039034e-08, 'lambda_l2': 0.006416033432163046, 'min_gain_to_split': 7.927829053210557, 'max_depth': 72, 'learning_rate': 0.04651204064955138, 'path_smooth': 5.485084306833085}. Best is trial 42 with value: 0.22731785208283115.\n",
      "[I 2025-06-12 22:50:45,876] Trial 46 finished with value: 0.22828128861198052 and parameters: {'max_bin': 228, 'num_leaves': 14, 'min_data_in_leaf': 36, 'min_sum_hessian_in_leaf': 7.720410986595226, 'bagging_fraction': 0.7260256916006659, 'bagging_freq': 10, 'feature_fraction': 0.5143397065315418, 'lambda_l1': 3.079159484469116e-08, 'lambda_l2': 0.034648961579209096, 'min_gain_to_split': 8.268594892680444, 'max_depth': 68, 'learning_rate': 0.045428505796601425, 'path_smooth': 4.6756940061363155}. Best is trial 42 with value: 0.22731785208283115.\n",
      "[I 2025-06-12 22:50:49,801] Trial 47 finished with value: 0.23548188496142697 and parameters: {'max_bin': 206, 'num_leaves': 7, 'min_data_in_leaf': 29, 'min_sum_hessian_in_leaf': 6.692864736539402, 'bagging_fraction': 0.8057758021100351, 'bagging_freq': 19, 'feature_fraction': 0.393171365589064, 'lambda_l1': 1.196063424497584e-08, 'lambda_l2': 0.0014786319716332296, 'min_gain_to_split': 9.943153166278993, 'max_depth': 60, 'learning_rate': 0.666167774220212, 'path_smooth': 3.3082034217606626}. Best is trial 42 with value: 0.22731785208283115.\n",
      "[I 2025-06-12 22:50:55,768] Trial 48 finished with value: 0.22727238240638223 and parameters: {'max_bin': 222, 'num_leaves': 24, 'min_data_in_leaf': 24, 'min_sum_hessian_in_leaf': 8.296960158195557, 'bagging_fraction': 0.5939461319901801, 'bagging_freq': 7, 'feature_fraction': 0.4620363715212478, 'lambda_l1': 4.215535095828188e-07, 'lambda_l2': 0.29038965922707044, 'min_gain_to_split': 6.726683113695211, 'max_depth': 77, 'learning_rate': 0.025917986404466496, 'path_smooth': 0.3630378887337633}. Best is trial 48 with value: 0.22727238240638223.\n",
      "[I 2025-06-12 22:51:00,010] Trial 49 finished with value: 0.2299395461603281 and parameters: {'max_bin': 225, 'num_leaves': 24, 'min_data_in_leaf': 25, 'min_sum_hessian_in_leaf': 8.619631501846179, 'bagging_fraction': 0.597332354168639, 'bagging_freq': 29, 'feature_fraction': 0.4653543439796601, 'lambda_l1': 6.165718819769591e-07, 'lambda_l2': 3.8269981806581206, 'min_gain_to_split': 6.735136343330567, 'max_depth': 76, 'learning_rate': 0.10627567864343851, 'path_smooth': 0.23252463083650088}. Best is trial 48 with value: 0.22727238240638223.\n"
     ]
    },
    {
     "name": "stdout",
     "output_type": "stream",
     "text": [
      "Best params :  {'max_bin': 222, 'num_leaves': 24, 'min_data_in_leaf': 24, 'min_sum_hessian_in_leaf': 8.296960158195557, 'bagging_fraction': 0.5939461319901801, 'bagging_freq': 7, 'feature_fraction': 0.4620363715212478, 'lambda_l1': 4.215535095828188e-07, 'lambda_l2': 0.29038965922707044, 'min_gain_to_split': 6.726683113695211, 'max_depth': 77, 'learning_rate': 0.025917986404466496, 'path_smooth': 0.3630378887337633}\n"
     ]
    },
    {
     "data": {
      "application/vnd.plotly.v1+json": {
       "config": {
        "plotlyServerURL": "https://plot.ly"
       },
       "data": [
        {
         "cliponaxis": false,
         "hovertemplate": [
          "bagging_freq (IntDistribution): 0.003940554811091191<extra></extra>",
          "min_gain_to_split (FloatDistribution): 0.005645331719754622<extra></extra>",
          "min_data_in_leaf (IntDistribution): 0.01139477541008271<extra></extra>",
          "path_smooth (FloatDistribution): 0.013650178870361811<extra></extra>",
          "lambda_l2 (FloatDistribution): 0.01607324942582972<extra></extra>",
          "lambda_l1 (FloatDistribution): 0.017921472424735817<extra></extra>",
          "max_bin (IntDistribution): 0.018311756693821516<extra></extra>",
          "min_sum_hessian_in_leaf (FloatDistribution): 0.043618041150471444<extra></extra>",
          "max_depth (IntDistribution): 0.05065519822131543<extra></extra>",
          "num_leaves (IntDistribution): 0.05359344687605668<extra></extra>",
          "bagging_fraction (FloatDistribution): 0.055700742151127206<extra></extra>",
          "feature_fraction (FloatDistribution): 0.16639437062094753<extra></extra>",
          "learning_rate (FloatDistribution): 0.5431008816244041<extra></extra>"
         ],
         "name": "Objective Value",
         "orientation": "h",
         "text": [
          "<0.01",
          "<0.01",
          "0.01",
          "0.01",
          "0.02",
          "0.02",
          "0.02",
          "0.04",
          "0.05",
          "0.05",
          "0.06",
          "0.17",
          "0.54"
         ],
         "textposition": "outside",
         "type": "bar",
         "x": [
          0.003940554811091191,
          0.005645331719754622,
          0.01139477541008271,
          0.013650178870361811,
          0.01607324942582972,
          0.017921472424735817,
          0.018311756693821516,
          0.043618041150471444,
          0.05065519822131543,
          0.05359344687605668,
          0.055700742151127206,
          0.16639437062094753,
          0.5431008816244041
         ],
         "y": [
          "bagging_freq",
          "min_gain_to_split",
          "min_data_in_leaf",
          "path_smooth",
          "lambda_l2",
          "lambda_l1",
          "max_bin",
          "min_sum_hessian_in_leaf",
          "max_depth",
          "num_leaves",
          "bagging_fraction",
          "feature_fraction",
          "learning_rate"
         ]
        }
       ],
       "layout": {
        "template": {
         "data": {
          "bar": [
           {
            "error_x": {
             "color": "#2a3f5f"
            },
            "error_y": {
             "color": "#2a3f5f"
            },
            "marker": {
             "line": {
              "color": "#E5ECF6",
              "width": 0.5
             },
             "pattern": {
              "fillmode": "overlay",
              "size": 10,
              "solidity": 0.2
             }
            },
            "type": "bar"
           }
          ],
          "barpolar": [
           {
            "marker": {
             "line": {
              "color": "#E5ECF6",
              "width": 0.5
             },
             "pattern": {
              "fillmode": "overlay",
              "size": 10,
              "solidity": 0.2
             }
            },
            "type": "barpolar"
           }
          ],
          "carpet": [
           {
            "aaxis": {
             "endlinecolor": "#2a3f5f",
             "gridcolor": "white",
             "linecolor": "white",
             "minorgridcolor": "white",
             "startlinecolor": "#2a3f5f"
            },
            "baxis": {
             "endlinecolor": "#2a3f5f",
             "gridcolor": "white",
             "linecolor": "white",
             "minorgridcolor": "white",
             "startlinecolor": "#2a3f5f"
            },
            "type": "carpet"
           }
          ],
          "choropleth": [
           {
            "colorbar": {
             "outlinewidth": 0,
             "ticks": ""
            },
            "type": "choropleth"
           }
          ],
          "contour": [
           {
            "colorbar": {
             "outlinewidth": 0,
             "ticks": ""
            },
            "colorscale": [
             [
              0,
              "#0d0887"
             ],
             [
              0.1111111111111111,
              "#46039f"
             ],
             [
              0.2222222222222222,
              "#7201a8"
             ],
             [
              0.3333333333333333,
              "#9c179e"
             ],
             [
              0.4444444444444444,
              "#bd3786"
             ],
             [
              0.5555555555555556,
              "#d8576b"
             ],
             [
              0.6666666666666666,
              "#ed7953"
             ],
             [
              0.7777777777777778,
              "#fb9f3a"
             ],
             [
              0.8888888888888888,
              "#fdca26"
             ],
             [
              1,
              "#f0f921"
             ]
            ],
            "type": "contour"
           }
          ],
          "contourcarpet": [
           {
            "colorbar": {
             "outlinewidth": 0,
             "ticks": ""
            },
            "type": "contourcarpet"
           }
          ],
          "heatmap": [
           {
            "colorbar": {
             "outlinewidth": 0,
             "ticks": ""
            },
            "colorscale": [
             [
              0,
              "#0d0887"
             ],
             [
              0.1111111111111111,
              "#46039f"
             ],
             [
              0.2222222222222222,
              "#7201a8"
             ],
             [
              0.3333333333333333,
              "#9c179e"
             ],
             [
              0.4444444444444444,
              "#bd3786"
             ],
             [
              0.5555555555555556,
              "#d8576b"
             ],
             [
              0.6666666666666666,
              "#ed7953"
             ],
             [
              0.7777777777777778,
              "#fb9f3a"
             ],
             [
              0.8888888888888888,
              "#fdca26"
             ],
             [
              1,
              "#f0f921"
             ]
            ],
            "type": "heatmap"
           }
          ],
          "histogram": [
           {
            "marker": {
             "pattern": {
              "fillmode": "overlay",
              "size": 10,
              "solidity": 0.2
             }
            },
            "type": "histogram"
           }
          ],
          "histogram2d": [
           {
            "colorbar": {
             "outlinewidth": 0,
             "ticks": ""
            },
            "colorscale": [
             [
              0,
              "#0d0887"
             ],
             [
              0.1111111111111111,
              "#46039f"
             ],
             [
              0.2222222222222222,
              "#7201a8"
             ],
             [
              0.3333333333333333,
              "#9c179e"
             ],
             [
              0.4444444444444444,
              "#bd3786"
             ],
             [
              0.5555555555555556,
              "#d8576b"
             ],
             [
              0.6666666666666666,
              "#ed7953"
             ],
             [
              0.7777777777777778,
              "#fb9f3a"
             ],
             [
              0.8888888888888888,
              "#fdca26"
             ],
             [
              1,
              "#f0f921"
             ]
            ],
            "type": "histogram2d"
           }
          ],
          "histogram2dcontour": [
           {
            "colorbar": {
             "outlinewidth": 0,
             "ticks": ""
            },
            "colorscale": [
             [
              0,
              "#0d0887"
             ],
             [
              0.1111111111111111,
              "#46039f"
             ],
             [
              0.2222222222222222,
              "#7201a8"
             ],
             [
              0.3333333333333333,
              "#9c179e"
             ],
             [
              0.4444444444444444,
              "#bd3786"
             ],
             [
              0.5555555555555556,
              "#d8576b"
             ],
             [
              0.6666666666666666,
              "#ed7953"
             ],
             [
              0.7777777777777778,
              "#fb9f3a"
             ],
             [
              0.8888888888888888,
              "#fdca26"
             ],
             [
              1,
              "#f0f921"
             ]
            ],
            "type": "histogram2dcontour"
           }
          ],
          "mesh3d": [
           {
            "colorbar": {
             "outlinewidth": 0,
             "ticks": ""
            },
            "type": "mesh3d"
           }
          ],
          "parcoords": [
           {
            "line": {
             "colorbar": {
              "outlinewidth": 0,
              "ticks": ""
             }
            },
            "type": "parcoords"
           }
          ],
          "pie": [
           {
            "automargin": true,
            "type": "pie"
           }
          ],
          "scatter": [
           {
            "fillpattern": {
             "fillmode": "overlay",
             "size": 10,
             "solidity": 0.2
            },
            "type": "scatter"
           }
          ],
          "scatter3d": [
           {
            "line": {
             "colorbar": {
              "outlinewidth": 0,
              "ticks": ""
             }
            },
            "marker": {
             "colorbar": {
              "outlinewidth": 0,
              "ticks": ""
             }
            },
            "type": "scatter3d"
           }
          ],
          "scattercarpet": [
           {
            "marker": {
             "colorbar": {
              "outlinewidth": 0,
              "ticks": ""
             }
            },
            "type": "scattercarpet"
           }
          ],
          "scattergeo": [
           {
            "marker": {
             "colorbar": {
              "outlinewidth": 0,
              "ticks": ""
             }
            },
            "type": "scattergeo"
           }
          ],
          "scattergl": [
           {
            "marker": {
             "colorbar": {
              "outlinewidth": 0,
              "ticks": ""
             }
            },
            "type": "scattergl"
           }
          ],
          "scattermap": [
           {
            "marker": {
             "colorbar": {
              "outlinewidth": 0,
              "ticks": ""
             }
            },
            "type": "scattermap"
           }
          ],
          "scattermapbox": [
           {
            "marker": {
             "colorbar": {
              "outlinewidth": 0,
              "ticks": ""
             }
            },
            "type": "scattermapbox"
           }
          ],
          "scatterpolar": [
           {
            "marker": {
             "colorbar": {
              "outlinewidth": 0,
              "ticks": ""
             }
            },
            "type": "scatterpolar"
           }
          ],
          "scatterpolargl": [
           {
            "marker": {
             "colorbar": {
              "outlinewidth": 0,
              "ticks": ""
             }
            },
            "type": "scatterpolargl"
           }
          ],
          "scatterternary": [
           {
            "marker": {
             "colorbar": {
              "outlinewidth": 0,
              "ticks": ""
             }
            },
            "type": "scatterternary"
           }
          ],
          "surface": [
           {
            "colorbar": {
             "outlinewidth": 0,
             "ticks": ""
            },
            "colorscale": [
             [
              0,
              "#0d0887"
             ],
             [
              0.1111111111111111,
              "#46039f"
             ],
             [
              0.2222222222222222,
              "#7201a8"
             ],
             [
              0.3333333333333333,
              "#9c179e"
             ],
             [
              0.4444444444444444,
              "#bd3786"
             ],
             [
              0.5555555555555556,
              "#d8576b"
             ],
             [
              0.6666666666666666,
              "#ed7953"
             ],
             [
              0.7777777777777778,
              "#fb9f3a"
             ],
             [
              0.8888888888888888,
              "#fdca26"
             ],
             [
              1,
              "#f0f921"
             ]
            ],
            "type": "surface"
           }
          ],
          "table": [
           {
            "cells": {
             "fill": {
              "color": "#EBF0F8"
             },
             "line": {
              "color": "white"
             }
            },
            "header": {
             "fill": {
              "color": "#C8D4E3"
             },
             "line": {
              "color": "white"
             }
            },
            "type": "table"
           }
          ]
         },
         "layout": {
          "annotationdefaults": {
           "arrowcolor": "#2a3f5f",
           "arrowhead": 0,
           "arrowwidth": 1
          },
          "autotypenumbers": "strict",
          "coloraxis": {
           "colorbar": {
            "outlinewidth": 0,
            "ticks": ""
           }
          },
          "colorscale": {
           "diverging": [
            [
             0,
             "#8e0152"
            ],
            [
             0.1,
             "#c51b7d"
            ],
            [
             0.2,
             "#de77ae"
            ],
            [
             0.3,
             "#f1b6da"
            ],
            [
             0.4,
             "#fde0ef"
            ],
            [
             0.5,
             "#f7f7f7"
            ],
            [
             0.6,
             "#e6f5d0"
            ],
            [
             0.7,
             "#b8e186"
            ],
            [
             0.8,
             "#7fbc41"
            ],
            [
             0.9,
             "#4d9221"
            ],
            [
             1,
             "#276419"
            ]
           ],
           "sequential": [
            [
             0,
             "#0d0887"
            ],
            [
             0.1111111111111111,
             "#46039f"
            ],
            [
             0.2222222222222222,
             "#7201a8"
            ],
            [
             0.3333333333333333,
             "#9c179e"
            ],
            [
             0.4444444444444444,
             "#bd3786"
            ],
            [
             0.5555555555555556,
             "#d8576b"
            ],
            [
             0.6666666666666666,
             "#ed7953"
            ],
            [
             0.7777777777777778,
             "#fb9f3a"
            ],
            [
             0.8888888888888888,
             "#fdca26"
            ],
            [
             1,
             "#f0f921"
            ]
           ],
           "sequentialminus": [
            [
             0,
             "#0d0887"
            ],
            [
             0.1111111111111111,
             "#46039f"
            ],
            [
             0.2222222222222222,
             "#7201a8"
            ],
            [
             0.3333333333333333,
             "#9c179e"
            ],
            [
             0.4444444444444444,
             "#bd3786"
            ],
            [
             0.5555555555555556,
             "#d8576b"
            ],
            [
             0.6666666666666666,
             "#ed7953"
            ],
            [
             0.7777777777777778,
             "#fb9f3a"
            ],
            [
             0.8888888888888888,
             "#fdca26"
            ],
            [
             1,
             "#f0f921"
            ]
           ]
          },
          "colorway": [
           "#636efa",
           "#EF553B",
           "#00cc96",
           "#ab63fa",
           "#FFA15A",
           "#19d3f3",
           "#FF6692",
           "#B6E880",
           "#FF97FF",
           "#FECB52"
          ],
          "font": {
           "color": "#2a3f5f"
          },
          "geo": {
           "bgcolor": "white",
           "lakecolor": "white",
           "landcolor": "#E5ECF6",
           "showlakes": true,
           "showland": true,
           "subunitcolor": "white"
          },
          "hoverlabel": {
           "align": "left"
          },
          "hovermode": "closest",
          "mapbox": {
           "style": "light"
          },
          "paper_bgcolor": "white",
          "plot_bgcolor": "#E5ECF6",
          "polar": {
           "angularaxis": {
            "gridcolor": "white",
            "linecolor": "white",
            "ticks": ""
           },
           "bgcolor": "#E5ECF6",
           "radialaxis": {
            "gridcolor": "white",
            "linecolor": "white",
            "ticks": ""
           }
          },
          "scene": {
           "xaxis": {
            "backgroundcolor": "#E5ECF6",
            "gridcolor": "white",
            "gridwidth": 2,
            "linecolor": "white",
            "showbackground": true,
            "ticks": "",
            "zerolinecolor": "white"
           },
           "yaxis": {
            "backgroundcolor": "#E5ECF6",
            "gridcolor": "white",
            "gridwidth": 2,
            "linecolor": "white",
            "showbackground": true,
            "ticks": "",
            "zerolinecolor": "white"
           },
           "zaxis": {
            "backgroundcolor": "#E5ECF6",
            "gridcolor": "white",
            "gridwidth": 2,
            "linecolor": "white",
            "showbackground": true,
            "ticks": "",
            "zerolinecolor": "white"
           }
          },
          "shapedefaults": {
           "line": {
            "color": "#2a3f5f"
           }
          },
          "ternary": {
           "aaxis": {
            "gridcolor": "white",
            "linecolor": "white",
            "ticks": ""
           },
           "baxis": {
            "gridcolor": "white",
            "linecolor": "white",
            "ticks": ""
           },
           "bgcolor": "#E5ECF6",
           "caxis": {
            "gridcolor": "white",
            "linecolor": "white",
            "ticks": ""
           }
          },
          "title": {
           "x": 0.05
          },
          "xaxis": {
           "automargin": true,
           "gridcolor": "white",
           "linecolor": "white",
           "ticks": "",
           "title": {
            "standoff": 15
           },
           "zerolinecolor": "white",
           "zerolinewidth": 2
          },
          "yaxis": {
           "automargin": true,
           "gridcolor": "white",
           "linecolor": "white",
           "ticks": "",
           "title": {
            "standoff": 15
           },
           "zerolinecolor": "white",
           "zerolinewidth": 2
          }
         }
        },
        "title": {
         "text": "Hyperparameter Importances"
        },
        "xaxis": {
         "title": {
          "text": "Hyperparameter Importance"
         }
        },
        "yaxis": {
         "title": {
          "text": "Hyperparameter"
         }
        }
       }
      }
     },
     "metadata": {},
     "output_type": "display_data"
    },
    {
     "data": {
      "application/vnd.plotly.v1+json": {
       "config": {
        "plotlyServerURL": "https://plot.ly"
       },
       "data": [
        {
         "marker": {
          "color": [
           0,
           1,
           2,
           3,
           4,
           5,
           6,
           7,
           8,
           9,
           10,
           11,
           12,
           13,
           14,
           15,
           16,
           17,
           18,
           19,
           20,
           21,
           22,
           23,
           24,
           25,
           26,
           27,
           28,
           29,
           30,
           31,
           32,
           33,
           34,
           35,
           36,
           37,
           38,
           39,
           40,
           41,
           42,
           43,
           44,
           45,
           46,
           47,
           48,
           49
          ],
          "colorbar": {
           "title": {
            "text": "Trial"
           },
           "x": 1,
           "xpad": 40
          },
          "colorscale": [
           [
            0,
            "rgb(247,251,255)"
           ],
           [
            0.125,
            "rgb(222,235,247)"
           ],
           [
            0.25,
            "rgb(198,219,239)"
           ],
           [
            0.375,
            "rgb(158,202,225)"
           ],
           [
            0.5,
            "rgb(107,174,214)"
           ],
           [
            0.625,
            "rgb(66,146,198)"
           ],
           [
            0.75,
            "rgb(33,113,181)"
           ],
           [
            0.875,
            "rgb(8,81,156)"
           ],
           [
            1,
            "rgb(8,48,107)"
           ]
          ],
          "line": {
           "color": "Grey",
           "width": 0.5
          },
          "showscale": true
         },
         "mode": "markers",
         "name": "Feasible Trial",
         "showlegend": false,
         "type": "scatter",
         "x": [
          0.3248149123539492,
          0.6198051453057902,
          0.6860358815211507,
          0.9274563216630256,
          0.2707940016415356,
          0.9895095492804138,
          0.46471841988211937,
          0.5950364770915126,
          0.383038532393298,
          0.9168730399387945,
          0.46529401155806127,
          0.612737209590734,
          0.7456221518336669,
          0.7513246583878899,
          0.47519463160835657,
          0.790465110702661,
          0.20980473423481383,
          0.48913079975764495,
          0.7878224234575376,
          0.53717397297383,
          0.688817718839486,
          0.4002701318146772,
          0.5821218334923128,
          0.5558021160176819,
          0.7074672235807566,
          0.851949084779611,
          0.8465699457256253,
          0.4060782544718689,
          0.6533185659085393,
          0.8435474892445795,
          0.3347695021036651,
          0.6386597044141682,
          0.654501445259574,
          0.6489620955180748,
          0.6454511970340773,
          0.5226106116805505,
          0.7080356420317392,
          0.643495389905125,
          0.5771234677338323,
          0.516316614809975,
          0.4381824324478656,
          0.6491443231586571,
          0.6349823456337426,
          0.6256736392175613,
          0.7406106429992477,
          0.7523053465648659,
          0.7260256916006659,
          0.8057758021100351,
          0.5939461319901801,
          0.597332354168639
         ],
         "xaxis": "x",
         "y": [
          0.23962575078000017,
          0.22815152529676272,
          0.25107041411806963,
          0.24194482276077434,
          0.22972019577486624,
          0.2293152471751466,
          0.2274600334798052,
          0.23018752466914977,
          0.2321604069944158,
          0.25400562708375746,
          0.23144731034599125,
          0.22774738205244988,
          0.22762088909061395,
          0.22929584020168636,
          0.2367450352748508,
          0.2300175913917658,
          0.23021214195120776,
          0.22834706556747797,
          0.23781074991440943,
          0.23694366517205015,
          0.22856672810127024,
          0.22911004987246947,
          0.22761752678214187,
          0.22798900326038007,
          0.22895688518670063,
          0.227615456386723,
          0.23731228071365804,
          0.22899198352139294,
          0.22761200166567627,
          0.22779392511877672,
          0.23113867958018194,
          0.22748577096838773,
          0.22732663328772973,
          0.227545468814502,
          0.22792494008895722,
          0.231679861015167,
          0.22938873782986444,
          0.22813401360746113,
          0.24543976759851557,
          0.23158746911403078,
          0.22782555794387907,
          0.22749207911377403,
          0.22731785208283115,
          0.22791062564133124,
          0.22745454472777998,
          0.22761080309402407,
          0.22828128861198052,
          0.23548188496142697,
          0.22727238240638223,
          0.2299395461603281
         ],
         "yaxis": "y"
        },
        {
         "marker": {
          "color": [
           0,
           1,
           2,
           3,
           4,
           5,
           6,
           7,
           8,
           9,
           10,
           11,
           12,
           13,
           14,
           15,
           16,
           17,
           18,
           19,
           20,
           21,
           22,
           23,
           24,
           25,
           26,
           27,
           28,
           29,
           30,
           31,
           32,
           33,
           34,
           35,
           36,
           37,
           38,
           39,
           40,
           41,
           42,
           43,
           44,
           45,
           46,
           47,
           48,
           49
          ],
          "colorbar": {
           "title": {
            "text": "Trial"
           },
           "x": 1,
           "xpad": 40
          },
          "colorscale": [
           [
            0,
            "rgb(247,251,255)"
           ],
           [
            0.125,
            "rgb(222,235,247)"
           ],
           [
            0.25,
            "rgb(198,219,239)"
           ],
           [
            0.375,
            "rgb(158,202,225)"
           ],
           [
            0.5,
            "rgb(107,174,214)"
           ],
           [
            0.625,
            "rgb(66,146,198)"
           ],
           [
            0.75,
            "rgb(33,113,181)"
           ],
           [
            0.875,
            "rgb(8,81,156)"
           ],
           [
            1,
            "rgb(8,48,107)"
           ]
          ],
          "line": {
           "color": "Grey",
           "width": 0.5
          },
          "showscale": false
         },
         "mode": "markers",
         "name": "Feasible Trial",
         "showlegend": false,
         "type": "scatter",
         "x": [
          16,
          44,
          18,
          26,
          20,
          78,
          7,
          53,
          8,
          32,
          91,
          53,
          59,
          71,
          68,
          4,
          40,
          59,
          97,
          36,
          81,
          58,
          48,
          46,
          63,
          32,
          27,
          11,
          24,
          12,
          23,
          2,
          5,
          5,
          2,
          15,
          1,
          7,
          17,
          9,
          19,
          5,
          6,
          13,
          1,
          1,
          10,
          19,
          7,
          29
         ],
         "xaxis": "x2",
         "y": [
          0.23962575078000017,
          0.22815152529676272,
          0.25107041411806963,
          0.24194482276077434,
          0.22972019577486624,
          0.2293152471751466,
          0.2274600334798052,
          0.23018752466914977,
          0.2321604069944158,
          0.25400562708375746,
          0.23144731034599125,
          0.22774738205244988,
          0.22762088909061395,
          0.22929584020168636,
          0.2367450352748508,
          0.2300175913917658,
          0.23021214195120776,
          0.22834706556747797,
          0.23781074991440943,
          0.23694366517205015,
          0.22856672810127024,
          0.22911004987246947,
          0.22761752678214187,
          0.22798900326038007,
          0.22895688518670063,
          0.227615456386723,
          0.23731228071365804,
          0.22899198352139294,
          0.22761200166567627,
          0.22779392511877672,
          0.23113867958018194,
          0.22748577096838773,
          0.22732663328772973,
          0.227545468814502,
          0.22792494008895722,
          0.231679861015167,
          0.22938873782986444,
          0.22813401360746113,
          0.24543976759851557,
          0.23158746911403078,
          0.22782555794387907,
          0.22749207911377403,
          0.22731785208283115,
          0.22791062564133124,
          0.22745454472777998,
          0.22761080309402407,
          0.22828128861198052,
          0.23548188496142697,
          0.22727238240638223,
          0.2299395461603281
         ],
         "yaxis": "y2"
        },
        {
         "marker": {
          "color": [
           0,
           1,
           2,
           3,
           4,
           5,
           6,
           7,
           8,
           9,
           10,
           11,
           12,
           13,
           14,
           15,
           16,
           17,
           18,
           19,
           20,
           21,
           22,
           23,
           24,
           25,
           26,
           27,
           28,
           29,
           30,
           31,
           32,
           33,
           34,
           35,
           36,
           37,
           38,
           39,
           40,
           41,
           42,
           43,
           44,
           45,
           46,
           47,
           48,
           49
          ],
          "colorbar": {
           "title": {
            "text": "Trial"
           },
           "x": 1,
           "xpad": 40
          },
          "colorscale": [
           [
            0,
            "rgb(247,251,255)"
           ],
           [
            0.125,
            "rgb(222,235,247)"
           ],
           [
            0.25,
            "rgb(198,219,239)"
           ],
           [
            0.375,
            "rgb(158,202,225)"
           ],
           [
            0.5,
            "rgb(107,174,214)"
           ],
           [
            0.625,
            "rgb(66,146,198)"
           ],
           [
            0.75,
            "rgb(33,113,181)"
           ],
           [
            0.875,
            "rgb(8,81,156)"
           ],
           [
            1,
            "rgb(8,48,107)"
           ]
          ],
          "line": {
           "color": "Grey",
           "width": 0.5
          },
          "showscale": false
         },
         "mode": "markers",
         "name": "Feasible Trial",
         "showlegend": false,
         "type": "scatter",
         "x": [
          0.15227525095137953,
          0.36210622617823773,
          0.1585464336867516,
          0.6962700559185838,
          0.14070456001948428,
          0.2788441133807552,
          0.379884089544096,
          0.4847869165226947,
          0.3607763076223912,
          0.19904673207490908,
          0.9637936713508777,
          0.527096926584918,
          0.6317270186694047,
          0.702413770758729,
          0.6945393212456125,
          0.8989827097072367,
          0.5994015542950208,
          0.4262445096202381,
          0.8585789272918976,
          0.7918810033258803,
          0.5584724123848135,
          0.48753154381003405,
          0.5970449253684351,
          0.6053667364042808,
          0.3952277611622841,
          0.30567185083037196,
          0.27885449950498653,
          0.2854415060642724,
          0.23542045650564514,
          0.23829140860403092,
          0.1019016733959931,
          0.3226299342031866,
          0.34340865621403743,
          0.3455788246910522,
          0.3475725977900624,
          0.44563190473749986,
          0.35005559974577877,
          0.4075274929427702,
          0.18129276698475041,
          0.4701452356471937,
          0.3221077068258071,
          0.23448458801923167,
          0.38306038360363626,
          0.2321080716145338,
          0.3977327023740648,
          0.39402673719248665,
          0.5143397065315418,
          0.393171365589064,
          0.4620363715212478,
          0.4653543439796601
         ],
         "xaxis": "x3",
         "y": [
          0.23962575078000017,
          0.22815152529676272,
          0.25107041411806963,
          0.24194482276077434,
          0.22972019577486624,
          0.2293152471751466,
          0.2274600334798052,
          0.23018752466914977,
          0.2321604069944158,
          0.25400562708375746,
          0.23144731034599125,
          0.22774738205244988,
          0.22762088909061395,
          0.22929584020168636,
          0.2367450352748508,
          0.2300175913917658,
          0.23021214195120776,
          0.22834706556747797,
          0.23781074991440943,
          0.23694366517205015,
          0.22856672810127024,
          0.22911004987246947,
          0.22761752678214187,
          0.22798900326038007,
          0.22895688518670063,
          0.227615456386723,
          0.23731228071365804,
          0.22899198352139294,
          0.22761200166567627,
          0.22779392511877672,
          0.23113867958018194,
          0.22748577096838773,
          0.22732663328772973,
          0.227545468814502,
          0.22792494008895722,
          0.231679861015167,
          0.22938873782986444,
          0.22813401360746113,
          0.24543976759851557,
          0.23158746911403078,
          0.22782555794387907,
          0.22749207911377403,
          0.22731785208283115,
          0.22791062564133124,
          0.22745454472777998,
          0.22761080309402407,
          0.22828128861198052,
          0.23548188496142697,
          0.22727238240638223,
          0.2299395461603281
         ],
         "yaxis": "y3"
        },
        {
         "marker": {
          "color": [
           0,
           1,
           2,
           3,
           4,
           5,
           6,
           7,
           8,
           9,
           10,
           11,
           12,
           13,
           14,
           15,
           16,
           17,
           18,
           19,
           20,
           21,
           22,
           23,
           24,
           25,
           26,
           27,
           28,
           29,
           30,
           31,
           32,
           33,
           34,
           35,
           36,
           37,
           38,
           39,
           40,
           41,
           42,
           43,
           44,
           45,
           46,
           47,
           48,
           49
          ],
          "colorbar": {
           "title": {
            "text": "Trial"
           },
           "x": 1,
           "xpad": 40
          },
          "colorscale": [
           [
            0,
            "rgb(247,251,255)"
           ],
           [
            0.125,
            "rgb(222,235,247)"
           ],
           [
            0.25,
            "rgb(198,219,239)"
           ],
           [
            0.375,
            "rgb(158,202,225)"
           ],
           [
            0.5,
            "rgb(107,174,214)"
           ],
           [
            0.625,
            "rgb(66,146,198)"
           ],
           [
            0.75,
            "rgb(33,113,181)"
           ],
           [
            0.875,
            "rgb(8,81,156)"
           ],
           [
            1,
            "rgb(8,48,107)"
           ]
          ],
          "line": {
           "color": "Grey",
           "width": 0.5
          },
          "showscale": false
         },
         "mode": "markers",
         "name": "Feasible Trial",
         "showlegend": false,
         "type": "scatter",
         "x": [
          0.6245760287469893,
          0.0032112643094417484,
          3.4671276804481113,
          0.000006388511557344611,
          0.000008471746987003668,
          1.1212412169964432e-8,
          0.000008445977074223802,
          1.6934490731313353e-8,
          2.824825241715838e-7,
          0.0000011256839212661599,
          0.00413763088103686,
          0.001175790894077933,
          0.0001666770480621197,
          0.00012564589910259895,
          0.05740835784199981,
          0.00006872583021155958,
          0.000024338992935764324,
          3.396277935281175e-7,
          0.000427589801258078,
          0.0654384336317935,
          0.012891779028574536,
          0.0006114690342697083,
          0.0004902079026958862,
          0.000001829586838368097,
          0.00007450015619785555,
          0.0000231891144173242,
          0.000014139430904181794,
          0.0000012061848797337657,
          1.9288564498797735e-7,
          6.685674112099306e-8,
          1.1448086409745335e-7,
          0.0000025141397104996982,
          0.000003760634133189167,
          0.000003767537264489991,
          0.0000033973718125722695,
          0.0000010153149764395478,
          9.699942738610241,
          0.000006181344847140763,
          5.640984069183721e-8,
          0.000003679195802296723,
          5.941535633401605e-7,
          1.523019744330768e-7,
          2.1245154500296905e-8,
          4.5592124038172415e-8,
          1.825341095447043e-8,
          1.4484691333039034e-8,
          3.079159484469116e-8,
          1.196063424497584e-8,
          4.215535095828188e-7,
          6.165718819769591e-7
         ],
         "xaxis": "x4",
         "y": [
          0.23962575078000017,
          0.22815152529676272,
          0.25107041411806963,
          0.24194482276077434,
          0.22972019577486624,
          0.2293152471751466,
          0.2274600334798052,
          0.23018752466914977,
          0.2321604069944158,
          0.25400562708375746,
          0.23144731034599125,
          0.22774738205244988,
          0.22762088909061395,
          0.22929584020168636,
          0.2367450352748508,
          0.2300175913917658,
          0.23021214195120776,
          0.22834706556747797,
          0.23781074991440943,
          0.23694366517205015,
          0.22856672810127024,
          0.22911004987246947,
          0.22761752678214187,
          0.22798900326038007,
          0.22895688518670063,
          0.227615456386723,
          0.23731228071365804,
          0.22899198352139294,
          0.22761200166567627,
          0.22779392511877672,
          0.23113867958018194,
          0.22748577096838773,
          0.22732663328772973,
          0.227545468814502,
          0.22792494008895722,
          0.231679861015167,
          0.22938873782986444,
          0.22813401360746113,
          0.24543976759851557,
          0.23158746911403078,
          0.22782555794387907,
          0.22749207911377403,
          0.22731785208283115,
          0.22791062564133124,
          0.22745454472777998,
          0.22761080309402407,
          0.22828128861198052,
          0.23548188496142697,
          0.22727238240638223,
          0.2299395461603281
         ],
         "yaxis": "y4"
        },
        {
         "marker": {
          "color": [
           0,
           1,
           2,
           3,
           4,
           5,
           6,
           7,
           8,
           9,
           10,
           11,
           12,
           13,
           14,
           15,
           16,
           17,
           18,
           19,
           20,
           21,
           22,
           23,
           24,
           25,
           26,
           27,
           28,
           29,
           30,
           31,
           32,
           33,
           34,
           35,
           36,
           37,
           38,
           39,
           40,
           41,
           42,
           43,
           44,
           45,
           46,
           47,
           48,
           49
          ],
          "colorbar": {
           "title": {
            "text": "Trial"
           },
           "x": 1,
           "xpad": 40
          },
          "colorscale": [
           [
            0,
            "rgb(247,251,255)"
           ],
           [
            0.125,
            "rgb(222,235,247)"
           ],
           [
            0.25,
            "rgb(198,219,239)"
           ],
           [
            0.375,
            "rgb(158,202,225)"
           ],
           [
            0.5,
            "rgb(107,174,214)"
           ],
           [
            0.625,
            "rgb(66,146,198)"
           ],
           [
            0.75,
            "rgb(33,113,181)"
           ],
           [
            0.875,
            "rgb(8,81,156)"
           ],
           [
            1,
            "rgb(8,48,107)"
           ]
          ],
          "line": {
           "color": "Grey",
           "width": 0.5
          },
          "showscale": false
         },
         "mode": "markers",
         "name": "Feasible Trial",
         "showlegend": false,
         "type": "scatter",
         "x": [
          0.002570603566117598,
          1.8007140198129195e-7,
          4.905556676028774,
          0.0004793052550782129,
          0.00003148441347423712,
          0.2183498289760726,
          0.036851536911881845,
          9.354548757337708e-8,
          2.3295866619309256,
          0.0000698184330520185,
          0.05034404362321341,
          1.7270812116459777e-8,
          0.000001712101823711029,
          0.000003901069568054151,
          0.008209330474269519,
          0.000002535557264019931,
          0.1634470483541032,
          0.000001984913567882974,
          0.0006106742529979144,
          0.01605453691815576,
          0.000014504660965540652,
          1.6373907029568506e-8,
          1.3662381901664269e-8,
          1.6590395104971258e-7,
          2.8646169700310104e-7,
          8.381380206027586e-7,
          1.3261136554707667e-8,
          0.6999484822550373,
          0.00008668646909495357,
          0.0016766828555157837,
          0.00009246151158064168,
          6.276894183464544e-8,
          5.251431270940808e-7,
          0.000009472456999086623,
          0.000013625282147850144,
          8.346129544714097e-8,
          4.102936790392243e-7,
          6.431961412781052e-8,
          0.000006460128601554937,
          5.691313211496558e-7,
          4.685064991785575e-8,
          0.000049660163768340064,
          0.0002252510506585925,
          0.00033072327906225616,
          0.0013985179302975516,
          0.006416033432163046,
          0.034648961579209096,
          0.0014786319716332296,
          0.29038965922707044,
          3.8269981806581206
         ],
         "xaxis": "x5",
         "y": [
          0.23962575078000017,
          0.22815152529676272,
          0.25107041411806963,
          0.24194482276077434,
          0.22972019577486624,
          0.2293152471751466,
          0.2274600334798052,
          0.23018752466914977,
          0.2321604069944158,
          0.25400562708375746,
          0.23144731034599125,
          0.22774738205244988,
          0.22762088909061395,
          0.22929584020168636,
          0.2367450352748508,
          0.2300175913917658,
          0.23021214195120776,
          0.22834706556747797,
          0.23781074991440943,
          0.23694366517205015,
          0.22856672810127024,
          0.22911004987246947,
          0.22761752678214187,
          0.22798900326038007,
          0.22895688518670063,
          0.227615456386723,
          0.23731228071365804,
          0.22899198352139294,
          0.22761200166567627,
          0.22779392511877672,
          0.23113867958018194,
          0.22748577096838773,
          0.22732663328772973,
          0.227545468814502,
          0.22792494008895722,
          0.231679861015167,
          0.22938873782986444,
          0.22813401360746113,
          0.24543976759851557,
          0.23158746911403078,
          0.22782555794387907,
          0.22749207911377403,
          0.22731785208283115,
          0.22791062564133124,
          0.22745454472777998,
          0.22761080309402407,
          0.22828128861198052,
          0.23548188496142697,
          0.22727238240638223,
          0.2299395461603281
         ],
         "yaxis": "y5"
        },
        {
         "marker": {
          "color": [
           0,
           1,
           2,
           3,
           4,
           5,
           6,
           7,
           8,
           9,
           10,
           11,
           12,
           13,
           14,
           15,
           16,
           17,
           18,
           19,
           20,
           21,
           22,
           23,
           24,
           25,
           26,
           27,
           28,
           29,
           30,
           31,
           32,
           33,
           34,
           35,
           36,
           37,
           38,
           39,
           40,
           41,
           42,
           43,
           44,
           45,
           46,
           47,
           48,
           49
          ],
          "colorbar": {
           "title": {
            "text": "Trial"
           },
           "x": 1,
           "xpad": 40
          },
          "colorscale": [
           [
            0,
            "rgb(247,251,255)"
           ],
           [
            0.125,
            "rgb(222,235,247)"
           ],
           [
            0.25,
            "rgb(198,219,239)"
           ],
           [
            0.375,
            "rgb(158,202,225)"
           ],
           [
            0.5,
            "rgb(107,174,214)"
           ],
           [
            0.625,
            "rgb(66,146,198)"
           ],
           [
            0.75,
            "rgb(33,113,181)"
           ],
           [
            0.875,
            "rgb(8,81,156)"
           ],
           [
            1,
            "rgb(8,48,107)"
           ]
          ],
          "line": {
           "color": "Grey",
           "width": 0.5
          },
          "showscale": false
         },
         "mode": "markers",
         "name": "Feasible Trial",
         "showlegend": false,
         "type": "scatter",
         "x": [
          0.7579479953348001,
          0.006672367170464205,
          0.00024586032763280086,
          0.755681014127442,
          0.0026730883107816713,
          0.12164139351417062,
          0.007742116473996248,
          0.0018089390092767149,
          0.3060852210672247,
          0.00010661259689433907,
          0.029499719873019907,
          0.012644998826989065,
          0.03019630280630805,
          0.04448554268999945,
          0.0010821264374632708,
          0.06725356288086858,
          0.008768485055511036,
          0.018960544048741035,
          0.0007208018219238399,
          0.20655557967181695,
          0.004070054810448134,
          0.015431103833668677,
          0.008427441235293688,
          0.005328697595223938,
          0.06862997662619924,
          0.02532757993023043,
          0.0007719118461083504,
          0.002532884546350301,
          0.011249218908319873,
          0.019994960322120173,
          0.10897558851555633,
          0.009048389339036607,
          0.00924904046700135,
          0.005431518705415574,
          0.004060386035100526,
          0.0017215130662237583,
          0.0059991591982741935,
          0.0029268062505181866,
          0.00038296630090664855,
          0.0014537849848021826,
          0.006340769167682135,
          0.013111298228278783,
          0.011882776729413238,
          0.011377688719929797,
          0.044928795786569886,
          0.04651204064955138,
          0.045428505796601425,
          0.666167774220212,
          0.025917986404466496,
          0.10627567864343851
         ],
         "xaxis": "x6",
         "y": [
          0.23962575078000017,
          0.22815152529676272,
          0.25107041411806963,
          0.24194482276077434,
          0.22972019577486624,
          0.2293152471751466,
          0.2274600334798052,
          0.23018752466914977,
          0.2321604069944158,
          0.25400562708375746,
          0.23144731034599125,
          0.22774738205244988,
          0.22762088909061395,
          0.22929584020168636,
          0.2367450352748508,
          0.2300175913917658,
          0.23021214195120776,
          0.22834706556747797,
          0.23781074991440943,
          0.23694366517205015,
          0.22856672810127024,
          0.22911004987246947,
          0.22761752678214187,
          0.22798900326038007,
          0.22895688518670063,
          0.227615456386723,
          0.23731228071365804,
          0.22899198352139294,
          0.22761200166567627,
          0.22779392511877672,
          0.23113867958018194,
          0.22748577096838773,
          0.22732663328772973,
          0.227545468814502,
          0.22792494008895722,
          0.231679861015167,
          0.22938873782986444,
          0.22813401360746113,
          0.24543976759851557,
          0.23158746911403078,
          0.22782555794387907,
          0.22749207911377403,
          0.22731785208283115,
          0.22791062564133124,
          0.22745454472777998,
          0.22761080309402407,
          0.22828128861198052,
          0.23548188496142697,
          0.22727238240638223,
          0.2299395461603281
         ],
         "yaxis": "y6"
        },
        {
         "marker": {
          "color": [
           0,
           1,
           2,
           3,
           4,
           5,
           6,
           7,
           8,
           9,
           10,
           11,
           12,
           13,
           14,
           15,
           16,
           17,
           18,
           19,
           20,
           21,
           22,
           23,
           24,
           25,
           26,
           27,
           28,
           29,
           30,
           31,
           32,
           33,
           34,
           35,
           36,
           37,
           38,
           39,
           40,
           41,
           42,
           43,
           44,
           45,
           46,
           47,
           48,
           49
          ],
          "colorbar": {
           "title": {
            "text": "Trial"
           },
           "x": 1,
           "xpad": 40
          },
          "colorscale": [
           [
            0,
            "rgb(247,251,255)"
           ],
           [
            0.125,
            "rgb(222,235,247)"
           ],
           [
            0.25,
            "rgb(198,219,239)"
           ],
           [
            0.375,
            "rgb(158,202,225)"
           ],
           [
            0.5,
            "rgb(107,174,214)"
           ],
           [
            0.625,
            "rgb(66,146,198)"
           ],
           [
            0.75,
            "rgb(33,113,181)"
           ],
           [
            0.875,
            "rgb(8,81,156)"
           ],
           [
            1,
            "rgb(8,48,107)"
           ]
          ],
          "line": {
           "color": "Grey",
           "width": 0.5
          },
          "showscale": false
         },
         "mode": "markers",
         "name": "Feasible Trial",
         "showlegend": false,
         "type": "scatter",
         "x": [
          102,
          62,
          59,
          118,
          241,
          143,
          98,
          185,
          233,
          55,
          19,
          72,
          93,
          145,
          174,
          93,
          13,
          91,
          185,
          37,
          126,
          79,
          75,
          108,
          40,
          158,
          165,
          214,
          157,
          155,
          206,
          134,
          128,
          133,
          133,
          118,
          111,
          135,
          126,
          103,
          146,
          183,
          196,
          190,
          225,
          255,
          228,
          206,
          222,
          225
         ],
         "xaxis": "x7",
         "y": [
          0.23962575078000017,
          0.22815152529676272,
          0.25107041411806963,
          0.24194482276077434,
          0.22972019577486624,
          0.2293152471751466,
          0.2274600334798052,
          0.23018752466914977,
          0.2321604069944158,
          0.25400562708375746,
          0.23144731034599125,
          0.22774738205244988,
          0.22762088909061395,
          0.22929584020168636,
          0.2367450352748508,
          0.2300175913917658,
          0.23021214195120776,
          0.22834706556747797,
          0.23781074991440943,
          0.23694366517205015,
          0.22856672810127024,
          0.22911004987246947,
          0.22761752678214187,
          0.22798900326038007,
          0.22895688518670063,
          0.227615456386723,
          0.23731228071365804,
          0.22899198352139294,
          0.22761200166567627,
          0.22779392511877672,
          0.23113867958018194,
          0.22748577096838773,
          0.22732663328772973,
          0.227545468814502,
          0.22792494008895722,
          0.231679861015167,
          0.22938873782986444,
          0.22813401360746113,
          0.24543976759851557,
          0.23158746911403078,
          0.22782555794387907,
          0.22749207911377403,
          0.22731785208283115,
          0.22791062564133124,
          0.22745454472777998,
          0.22761080309402407,
          0.22828128861198052,
          0.23548188496142697,
          0.22727238240638223,
          0.2299395461603281
         ],
         "yaxis": "y7"
        },
        {
         "marker": {
          "color": [
           0,
           1,
           2,
           3,
           4,
           5,
           6,
           7,
           8,
           9,
           10,
           11,
           12,
           13,
           14,
           15,
           16,
           17,
           18,
           19,
           20,
           21,
           22,
           23,
           24,
           25,
           26,
           27,
           28,
           29,
           30,
           31,
           32,
           33,
           34,
           35,
           36,
           37,
           38,
           39,
           40,
           41,
           42,
           43,
           44,
           45,
           46,
           47,
           48,
           49
          ],
          "colorbar": {
           "title": {
            "text": "Trial"
           },
           "x": 1,
           "xpad": 40
          },
          "colorscale": [
           [
            0,
            "rgb(247,251,255)"
           ],
           [
            0.125,
            "rgb(222,235,247)"
           ],
           [
            0.25,
            "rgb(198,219,239)"
           ],
           [
            0.375,
            "rgb(158,202,225)"
           ],
           [
            0.5,
            "rgb(107,174,214)"
           ],
           [
            0.625,
            "rgb(66,146,198)"
           ],
           [
            0.75,
            "rgb(33,113,181)"
           ],
           [
            0.875,
            "rgb(8,81,156)"
           ],
           [
            1,
            "rgb(8,48,107)"
           ]
          ],
          "line": {
           "color": "Grey",
           "width": 0.5
          },
          "showscale": false
         },
         "mode": "markers",
         "name": "Feasible Trial",
         "showlegend": false,
         "type": "scatter",
         "x": [
          4,
          38,
          32,
          20,
          84,
          74,
          89,
          65,
          64,
          87,
          100,
          44,
          44,
          58,
          49,
          29,
          99,
          15,
          76,
          55,
          88,
          44,
          42,
          27,
          42,
          51,
          59,
          72,
          51,
          52,
          6,
          65,
          68,
          81,
          81,
          79,
          93,
          69,
          92,
          66,
          84,
          63,
          62,
          62,
          70,
          72,
          68,
          60,
          77,
          76
         ],
         "xaxis": "x8",
         "y": [
          0.23962575078000017,
          0.22815152529676272,
          0.25107041411806963,
          0.24194482276077434,
          0.22972019577486624,
          0.2293152471751466,
          0.2274600334798052,
          0.23018752466914977,
          0.2321604069944158,
          0.25400562708375746,
          0.23144731034599125,
          0.22774738205244988,
          0.22762088909061395,
          0.22929584020168636,
          0.2367450352748508,
          0.2300175913917658,
          0.23021214195120776,
          0.22834706556747797,
          0.23781074991440943,
          0.23694366517205015,
          0.22856672810127024,
          0.22911004987246947,
          0.22761752678214187,
          0.22798900326038007,
          0.22895688518670063,
          0.227615456386723,
          0.23731228071365804,
          0.22899198352139294,
          0.22761200166567627,
          0.22779392511877672,
          0.23113867958018194,
          0.22748577096838773,
          0.22732663328772973,
          0.227545468814502,
          0.22792494008895722,
          0.231679861015167,
          0.22938873782986444,
          0.22813401360746113,
          0.24543976759851557,
          0.23158746911403078,
          0.22782555794387907,
          0.22749207911377403,
          0.22731785208283115,
          0.22791062564133124,
          0.22745454472777998,
          0.22761080309402407,
          0.22828128861198052,
          0.23548188496142697,
          0.22727238240638223,
          0.2299395461603281
         ],
         "yaxis": "y8"
        },
        {
         "marker": {
          "color": [
           0,
           1,
           2,
           3,
           4,
           5,
           6,
           7,
           8,
           9,
           10,
           11,
           12,
           13,
           14,
           15,
           16,
           17,
           18,
           19,
           20,
           21,
           22,
           23,
           24,
           25,
           26,
           27,
           28,
           29,
           30,
           31,
           32,
           33,
           34,
           35,
           36,
           37,
           38,
           39,
           40,
           41,
           42,
           43,
           44,
           45,
           46,
           47,
           48,
           49
          ],
          "colorbar": {
           "title": {
            "text": "Trial"
           },
           "x": 1,
           "xpad": 40
          },
          "colorscale": [
           [
            0,
            "rgb(247,251,255)"
           ],
           [
            0.125,
            "rgb(222,235,247)"
           ],
           [
            0.25,
            "rgb(198,219,239)"
           ],
           [
            0.375,
            "rgb(158,202,225)"
           ],
           [
            0.5,
            "rgb(107,174,214)"
           ],
           [
            0.625,
            "rgb(66,146,198)"
           ],
           [
            0.75,
            "rgb(33,113,181)"
           ],
           [
            0.875,
            "rgb(8,81,156)"
           ],
           [
            1,
            "rgb(8,48,107)"
           ]
          ],
          "line": {
           "color": "Grey",
           "width": 0.5
          },
          "showscale": false
         },
         "mode": "markers",
         "name": "Feasible Trial",
         "showlegend": false,
         "type": "scatter",
         "x": [
          37,
          10,
          30,
          25,
          30,
          41,
          44,
          29,
          21,
          27,
          49,
          5,
          4,
          15,
          1,
          47,
          16,
          38,
          43,
          34,
          20,
          1,
          6,
          11,
          7,
          6,
          10,
          14,
          20,
          21,
          23,
          34,
          35,
          33,
          34,
          34,
          43,
          38,
          32,
          41,
          46,
          27,
          27,
          27,
          29,
          30,
          36,
          29,
          24,
          25
         ],
         "xaxis": "x9",
         "y": [
          0.23962575078000017,
          0.22815152529676272,
          0.25107041411806963,
          0.24194482276077434,
          0.22972019577486624,
          0.2293152471751466,
          0.2274600334798052,
          0.23018752466914977,
          0.2321604069944158,
          0.25400562708375746,
          0.23144731034599125,
          0.22774738205244988,
          0.22762088909061395,
          0.22929584020168636,
          0.2367450352748508,
          0.2300175913917658,
          0.23021214195120776,
          0.22834706556747797,
          0.23781074991440943,
          0.23694366517205015,
          0.22856672810127024,
          0.22911004987246947,
          0.22761752678214187,
          0.22798900326038007,
          0.22895688518670063,
          0.227615456386723,
          0.23731228071365804,
          0.22899198352139294,
          0.22761200166567627,
          0.22779392511877672,
          0.23113867958018194,
          0.22748577096838773,
          0.22732663328772973,
          0.227545468814502,
          0.22792494008895722,
          0.231679861015167,
          0.22938873782986444,
          0.22813401360746113,
          0.24543976759851557,
          0.23158746911403078,
          0.22782555794387907,
          0.22749207911377403,
          0.22731785208283115,
          0.22791062564133124,
          0.22745454472777998,
          0.22761080309402407,
          0.22828128861198052,
          0.23548188496142697,
          0.22727238240638223,
          0.2299395461603281
         ],
         "yaxis": "y9"
        },
        {
         "marker": {
          "color": [
           0,
           1,
           2,
           3,
           4,
           5,
           6,
           7,
           8,
           9,
           10,
           11,
           12,
           13,
           14,
           15,
           16,
           17,
           18,
           19,
           20,
           21,
           22,
           23,
           24,
           25,
           26,
           27,
           28,
           29,
           30,
           31,
           32,
           33,
           34,
           35,
           36,
           37,
           38,
           39,
           40,
           41,
           42,
           43,
           44,
           45,
           46,
           47,
           48,
           49
          ],
          "colorbar": {
           "title": {
            "text": "Trial"
           },
           "x": 1,
           "xpad": 40
          },
          "colorscale": [
           [
            0,
            "rgb(247,251,255)"
           ],
           [
            0.125,
            "rgb(222,235,247)"
           ],
           [
            0.25,
            "rgb(198,219,239)"
           ],
           [
            0.375,
            "rgb(158,202,225)"
           ],
           [
            0.5,
            "rgb(107,174,214)"
           ],
           [
            0.625,
            "rgb(66,146,198)"
           ],
           [
            0.75,
            "rgb(33,113,181)"
           ],
           [
            0.875,
            "rgb(8,81,156)"
           ],
           [
            1,
            "rgb(8,48,107)"
           ]
          ],
          "line": {
           "color": "Grey",
           "width": 0.5
          },
          "showscale": false
         },
         "mode": "markers",
         "name": "Feasible Trial",
         "showlegend": false,
         "type": "scatter",
         "x": [
          7.080725777960454,
          2.9214464853521815,
          8.08397348116461,
          5.4671027934327965,
          2.713490317738959,
          7.068573438476172,
          6.3755747135521315,
          0.3142918568673425,
          8.08120379564417,
          8.18014765922493,
          9.923626654603375,
          3.366233040767838,
          4.467853397637732,
          4.631091933382127,
          5.596158930967834,
          4.478375522582174,
          1.1329681698594323,
          6.419120756292455,
          3.7168038218258226,
          1.7660476540036818,
          9.25126467740942,
          3.6350040863186535,
          5.990395744291634,
          6.11272201472493,
          4.452007570289138,
          6.90920600853258,
          7.1140280665425575,
          6.31624865714993,
          8.889337305441618,
          9.064384096134031,
          7.49825580499175,
          8.662630492191273,
          8.759177196484512,
          9.11990400170718,
          9.876998569362431,
          8.268372181586006,
          8.718225500508876,
          7.4605311553608695,
          9.442699916991875,
          8.490893706746894,
          7.658603880489728,
          8.853363311569332,
          9.517626303561698,
          9.534078141759961,
          7.910549051869553,
          7.927829053210557,
          8.268594892680444,
          9.943153166278993,
          6.726683113695211,
          6.735136343330567
         ],
         "xaxis": "x10",
         "y": [
          0.23962575078000017,
          0.22815152529676272,
          0.25107041411806963,
          0.24194482276077434,
          0.22972019577486624,
          0.2293152471751466,
          0.2274600334798052,
          0.23018752466914977,
          0.2321604069944158,
          0.25400562708375746,
          0.23144731034599125,
          0.22774738205244988,
          0.22762088909061395,
          0.22929584020168636,
          0.2367450352748508,
          0.2300175913917658,
          0.23021214195120776,
          0.22834706556747797,
          0.23781074991440943,
          0.23694366517205015,
          0.22856672810127024,
          0.22911004987246947,
          0.22761752678214187,
          0.22798900326038007,
          0.22895688518670063,
          0.227615456386723,
          0.23731228071365804,
          0.22899198352139294,
          0.22761200166567627,
          0.22779392511877672,
          0.23113867958018194,
          0.22748577096838773,
          0.22732663328772973,
          0.227545468814502,
          0.22792494008895722,
          0.231679861015167,
          0.22938873782986444,
          0.22813401360746113,
          0.24543976759851557,
          0.23158746911403078,
          0.22782555794387907,
          0.22749207911377403,
          0.22731785208283115,
          0.22791062564133124,
          0.22745454472777998,
          0.22761080309402407,
          0.22828128861198052,
          0.23548188496142697,
          0.22727238240638223,
          0.2299395461603281
         ],
         "yaxis": "y10"
        },
        {
         "marker": {
          "color": [
           0,
           1,
           2,
           3,
           4,
           5,
           6,
           7,
           8,
           9,
           10,
           11,
           12,
           13,
           14,
           15,
           16,
           17,
           18,
           19,
           20,
           21,
           22,
           23,
           24,
           25,
           26,
           27,
           28,
           29,
           30,
           31,
           32,
           33,
           34,
           35,
           36,
           37,
           38,
           39,
           40,
           41,
           42,
           43,
           44,
           45,
           46,
           47,
           48,
           49
          ],
          "colorbar": {
           "title": {
            "text": "Trial"
           },
           "x": 1,
           "xpad": 40
          },
          "colorscale": [
           [
            0,
            "rgb(247,251,255)"
           ],
           [
            0.125,
            "rgb(222,235,247)"
           ],
           [
            0.25,
            "rgb(198,219,239)"
           ],
           [
            0.375,
            "rgb(158,202,225)"
           ],
           [
            0.5,
            "rgb(107,174,214)"
           ],
           [
            0.625,
            "rgb(66,146,198)"
           ],
           [
            0.75,
            "rgb(33,113,181)"
           ],
           [
            0.875,
            "rgb(8,81,156)"
           ],
           [
            1,
            "rgb(8,48,107)"
           ]
          ],
          "line": {
           "color": "Grey",
           "width": 0.5
          },
          "showscale": false
         },
         "mode": "markers",
         "name": "Feasible Trial",
         "showlegend": false,
         "type": "scatter",
         "x": [
          5.9865848459837805,
          3.0424224365529544,
          0.4645041367354731,
          0.3438852208082987,
          9.218742351012425,
          0.7455064460522017,
          6.232981272042597,
          7.709671801835937,
          7.555511387874975,
          8.074401553566224,
          3.9576415542055066,
          3.320173274036466,
          5.149704145059727,
          5.587985834845158,
          6.3946846663140935,
          4.459489204045597,
          2.387070488293436,
          9.885429536326004,
          5.3683116624685026,
          7.005167765994104,
          1.6448804558849575,
          3.520168074341285,
          4.544401090705776,
          4.614351659765955,
          6.505669417976479,
          4.989780121101991,
          4.216410006637252,
          2.7315657902844634,
          8.349510161549858,
          8.699883236290997,
          5.99307388453918,
          6.760501584339592,
          7.0275766859089845,
          7.108388230648817,
          6.82510918689617,
          7.296234637944273,
          5.795098434082603,
          6.253392691517402,
          8.987318760324687,
          7.948005746370196,
          7.2773916560473975,
          8.409107254275785,
          8.394674401657376,
          9.64762706574175,
          8.383639198841916,
          9.379889043233437,
          7.720410986595226,
          6.692864736539402,
          8.296960158195557,
          8.619631501846179
         ],
         "xaxis": "x11",
         "y": [
          0.23962575078000017,
          0.22815152529676272,
          0.25107041411806963,
          0.24194482276077434,
          0.22972019577486624,
          0.2293152471751466,
          0.2274600334798052,
          0.23018752466914977,
          0.2321604069944158,
          0.25400562708375746,
          0.23144731034599125,
          0.22774738205244988,
          0.22762088909061395,
          0.22929584020168636,
          0.2367450352748508,
          0.2300175913917658,
          0.23021214195120776,
          0.22834706556747797,
          0.23781074991440943,
          0.23694366517205015,
          0.22856672810127024,
          0.22911004987246947,
          0.22761752678214187,
          0.22798900326038007,
          0.22895688518670063,
          0.227615456386723,
          0.23731228071365804,
          0.22899198352139294,
          0.22761200166567627,
          0.22779392511877672,
          0.23113867958018194,
          0.22748577096838773,
          0.22732663328772973,
          0.227545468814502,
          0.22792494008895722,
          0.231679861015167,
          0.22938873782986444,
          0.22813401360746113,
          0.24543976759851557,
          0.23158746911403078,
          0.22782555794387907,
          0.22749207911377403,
          0.22731785208283115,
          0.22791062564133124,
          0.22745454472777998,
          0.22761080309402407,
          0.22828128861198052,
          0.23548188496142697,
          0.22727238240638223,
          0.2299395461603281
         ],
         "yaxis": "y11"
        },
        {
         "marker": {
          "color": [
           0,
           1,
           2,
           3,
           4,
           5,
           6,
           7,
           8,
           9,
           10,
           11,
           12,
           13,
           14,
           15,
           16,
           17,
           18,
           19,
           20,
           21,
           22,
           23,
           24,
           25,
           26,
           27,
           28,
           29,
           30,
           31,
           32,
           33,
           34,
           35,
           36,
           37,
           38,
           39,
           40,
           41,
           42,
           43,
           44,
           45,
           46,
           47,
           48,
           49
          ],
          "colorbar": {
           "title": {
            "text": "Trial"
           },
           "x": 1,
           "xpad": 40
          },
          "colorscale": [
           [
            0,
            "rgb(247,251,255)"
           ],
           [
            0.125,
            "rgb(222,235,247)"
           ],
           [
            0.25,
            "rgb(198,219,239)"
           ],
           [
            0.375,
            "rgb(158,202,225)"
           ],
           [
            0.5,
            "rgb(107,174,214)"
           ],
           [
            0.625,
            "rgb(66,146,198)"
           ],
           [
            0.75,
            "rgb(33,113,181)"
           ],
           [
            0.875,
            "rgb(8,81,156)"
           ],
           [
            1,
            "rgb(8,48,107)"
           ]
          ],
          "line": {
           "color": "Grey",
           "width": 0.5
          },
          "showscale": false
         },
         "mode": "markers",
         "name": "Feasible Trial",
         "showlegend": false,
         "type": "scatter",
         "x": [
          96,
          20,
          52,
          14,
          90,
          15,
          13,
          77,
          26,
          90,
          41,
          4,
          3,
          38,
          6,
          62,
          27,
          3,
          35,
          57,
          67,
          2,
          12,
          13,
          28,
          19,
          46,
          21,
          32,
          32,
          21,
          11,
          20,
          42,
          45,
          9,
          18,
          24,
          73,
          53,
          15,
          30,
          9,
          9,
          9,
          9,
          14,
          7,
          24,
          24
         ],
         "xaxis": "x12",
         "y": [
          0.23962575078000017,
          0.22815152529676272,
          0.25107041411806963,
          0.24194482276077434,
          0.22972019577486624,
          0.2293152471751466,
          0.2274600334798052,
          0.23018752466914977,
          0.2321604069944158,
          0.25400562708375746,
          0.23144731034599125,
          0.22774738205244988,
          0.22762088909061395,
          0.22929584020168636,
          0.2367450352748508,
          0.2300175913917658,
          0.23021214195120776,
          0.22834706556747797,
          0.23781074991440943,
          0.23694366517205015,
          0.22856672810127024,
          0.22911004987246947,
          0.22761752678214187,
          0.22798900326038007,
          0.22895688518670063,
          0.227615456386723,
          0.23731228071365804,
          0.22899198352139294,
          0.22761200166567627,
          0.22779392511877672,
          0.23113867958018194,
          0.22748577096838773,
          0.22732663328772973,
          0.227545468814502,
          0.22792494008895722,
          0.231679861015167,
          0.22938873782986444,
          0.22813401360746113,
          0.24543976759851557,
          0.23158746911403078,
          0.22782555794387907,
          0.22749207911377403,
          0.22731785208283115,
          0.22791062564133124,
          0.22745454472777998,
          0.22761080309402407,
          0.22828128861198052,
          0.23548188496142697,
          0.22727238240638223,
          0.2299395461603281
         ],
         "yaxis": "y12"
        },
        {
         "marker": {
          "color": [
           0,
           1,
           2,
           3,
           4,
           5,
           6,
           7,
           8,
           9,
           10,
           11,
           12,
           13,
           14,
           15,
           16,
           17,
           18,
           19,
           20,
           21,
           22,
           23,
           24,
           25,
           26,
           27,
           28,
           29,
           30,
           31,
           32,
           33,
           34,
           35,
           36,
           37,
           38,
           39,
           40,
           41,
           42,
           43,
           44,
           45,
           46,
           47,
           48,
           49
          ],
          "colorbar": {
           "title": {
            "text": "Trial"
           },
           "x": 1,
           "xpad": 40
          },
          "colorscale": [
           [
            0,
            "rgb(247,251,255)"
           ],
           [
            0.125,
            "rgb(222,235,247)"
           ],
           [
            0.25,
            "rgb(198,219,239)"
           ],
           [
            0.375,
            "rgb(158,202,225)"
           ],
           [
            0.5,
            "rgb(107,174,214)"
           ],
           [
            0.625,
            "rgb(66,146,198)"
           ],
           [
            0.75,
            "rgb(33,113,181)"
           ],
           [
            0.875,
            "rgb(8,81,156)"
           ],
           [
            1,
            "rgb(8,48,107)"
           ]
          ],
          "line": {
           "color": "Grey",
           "width": 0.5
          },
          "showscale": false
         },
         "mode": "markers",
         "name": "Feasible Trial",
         "showlegend": false,
         "type": "scatter",
         "x": [
          8.324426408004218,
          7.851759613930136,
          6.842330265121569,
          7.7513282336111455,
          2.8093450968738076,
          0.7404465173409036,
          1.195942459383017,
          5.085706911647028,
          8.036720768991145,
          5.107473025775658,
          0.2392315348138746,
          9.656945754419741,
          9.908491051285749,
          3.082810027069372,
          2.223463569011278,
          5.915176709957256,
          3.7327470600340225,
          9.86425067118279,
          1.3216827715702548,
          3.944497642389667,
          1.7467332761565313,
          9.769868484635198,
          9.18082818444452,
          8.696770340755355,
          6.677994223936209,
          9.021477917183205,
          8.815289044639925,
          9.028988390631897,
          7.121398907325441,
          7.244261848163062,
          5.855569971295171,
          9.243707129096945,
          8.412090246840751,
          7.448667320864491,
          8.210644935606581,
          6.083615241836842,
          7.37871056821234,
          6.461365289890689,
          7.58085314258067,
          8.394759971882499,
          7.9336909069594785,
          7.082853570332705,
          5.380419527202838,
          4.473025373902697,
          5.19684600732136,
          5.485084306833085,
          4.6756940061363155,
          3.3082034217606626,
          0.3630378887337633,
          0.23252463083650088
         ],
         "xaxis": "x13",
         "y": [
          0.23962575078000017,
          0.22815152529676272,
          0.25107041411806963,
          0.24194482276077434,
          0.22972019577486624,
          0.2293152471751466,
          0.2274600334798052,
          0.23018752466914977,
          0.2321604069944158,
          0.25400562708375746,
          0.23144731034599125,
          0.22774738205244988,
          0.22762088909061395,
          0.22929584020168636,
          0.2367450352748508,
          0.2300175913917658,
          0.23021214195120776,
          0.22834706556747797,
          0.23781074991440943,
          0.23694366517205015,
          0.22856672810127024,
          0.22911004987246947,
          0.22761752678214187,
          0.22798900326038007,
          0.22895688518670063,
          0.227615456386723,
          0.23731228071365804,
          0.22899198352139294,
          0.22761200166567627,
          0.22779392511877672,
          0.23113867958018194,
          0.22748577096838773,
          0.22732663328772973,
          0.227545468814502,
          0.22792494008895722,
          0.231679861015167,
          0.22938873782986444,
          0.22813401360746113,
          0.24543976759851557,
          0.23158746911403078,
          0.22782555794387907,
          0.22749207911377403,
          0.22731785208283115,
          0.22791062564133124,
          0.22745454472777998,
          0.22761080309402407,
          0.22828128861198052,
          0.23548188496142697,
          0.22727238240638223,
          0.2299395461603281
         ],
         "yaxis": "y13"
        }
       ],
       "layout": {
        "template": {
         "data": {
          "bar": [
           {
            "error_x": {
             "color": "#2a3f5f"
            },
            "error_y": {
             "color": "#2a3f5f"
            },
            "marker": {
             "line": {
              "color": "#E5ECF6",
              "width": 0.5
             },
             "pattern": {
              "fillmode": "overlay",
              "size": 10,
              "solidity": 0.2
             }
            },
            "type": "bar"
           }
          ],
          "barpolar": [
           {
            "marker": {
             "line": {
              "color": "#E5ECF6",
              "width": 0.5
             },
             "pattern": {
              "fillmode": "overlay",
              "size": 10,
              "solidity": 0.2
             }
            },
            "type": "barpolar"
           }
          ],
          "carpet": [
           {
            "aaxis": {
             "endlinecolor": "#2a3f5f",
             "gridcolor": "white",
             "linecolor": "white",
             "minorgridcolor": "white",
             "startlinecolor": "#2a3f5f"
            },
            "baxis": {
             "endlinecolor": "#2a3f5f",
             "gridcolor": "white",
             "linecolor": "white",
             "minorgridcolor": "white",
             "startlinecolor": "#2a3f5f"
            },
            "type": "carpet"
           }
          ],
          "choropleth": [
           {
            "colorbar": {
             "outlinewidth": 0,
             "ticks": ""
            },
            "type": "choropleth"
           }
          ],
          "contour": [
           {
            "colorbar": {
             "outlinewidth": 0,
             "ticks": ""
            },
            "colorscale": [
             [
              0,
              "#0d0887"
             ],
             [
              0.1111111111111111,
              "#46039f"
             ],
             [
              0.2222222222222222,
              "#7201a8"
             ],
             [
              0.3333333333333333,
              "#9c179e"
             ],
             [
              0.4444444444444444,
              "#bd3786"
             ],
             [
              0.5555555555555556,
              "#d8576b"
             ],
             [
              0.6666666666666666,
              "#ed7953"
             ],
             [
              0.7777777777777778,
              "#fb9f3a"
             ],
             [
              0.8888888888888888,
              "#fdca26"
             ],
             [
              1,
              "#f0f921"
             ]
            ],
            "type": "contour"
           }
          ],
          "contourcarpet": [
           {
            "colorbar": {
             "outlinewidth": 0,
             "ticks": ""
            },
            "type": "contourcarpet"
           }
          ],
          "heatmap": [
           {
            "colorbar": {
             "outlinewidth": 0,
             "ticks": ""
            },
            "colorscale": [
             [
              0,
              "#0d0887"
             ],
             [
              0.1111111111111111,
              "#46039f"
             ],
             [
              0.2222222222222222,
              "#7201a8"
             ],
             [
              0.3333333333333333,
              "#9c179e"
             ],
             [
              0.4444444444444444,
              "#bd3786"
             ],
             [
              0.5555555555555556,
              "#d8576b"
             ],
             [
              0.6666666666666666,
              "#ed7953"
             ],
             [
              0.7777777777777778,
              "#fb9f3a"
             ],
             [
              0.8888888888888888,
              "#fdca26"
             ],
             [
              1,
              "#f0f921"
             ]
            ],
            "type": "heatmap"
           }
          ],
          "histogram": [
           {
            "marker": {
             "pattern": {
              "fillmode": "overlay",
              "size": 10,
              "solidity": 0.2
             }
            },
            "type": "histogram"
           }
          ],
          "histogram2d": [
           {
            "colorbar": {
             "outlinewidth": 0,
             "ticks": ""
            },
            "colorscale": [
             [
              0,
              "#0d0887"
             ],
             [
              0.1111111111111111,
              "#46039f"
             ],
             [
              0.2222222222222222,
              "#7201a8"
             ],
             [
              0.3333333333333333,
              "#9c179e"
             ],
             [
              0.4444444444444444,
              "#bd3786"
             ],
             [
              0.5555555555555556,
              "#d8576b"
             ],
             [
              0.6666666666666666,
              "#ed7953"
             ],
             [
              0.7777777777777778,
              "#fb9f3a"
             ],
             [
              0.8888888888888888,
              "#fdca26"
             ],
             [
              1,
              "#f0f921"
             ]
            ],
            "type": "histogram2d"
           }
          ],
          "histogram2dcontour": [
           {
            "colorbar": {
             "outlinewidth": 0,
             "ticks": ""
            },
            "colorscale": [
             [
              0,
              "#0d0887"
             ],
             [
              0.1111111111111111,
              "#46039f"
             ],
             [
              0.2222222222222222,
              "#7201a8"
             ],
             [
              0.3333333333333333,
              "#9c179e"
             ],
             [
              0.4444444444444444,
              "#bd3786"
             ],
             [
              0.5555555555555556,
              "#d8576b"
             ],
             [
              0.6666666666666666,
              "#ed7953"
             ],
             [
              0.7777777777777778,
              "#fb9f3a"
             ],
             [
              0.8888888888888888,
              "#fdca26"
             ],
             [
              1,
              "#f0f921"
             ]
            ],
            "type": "histogram2dcontour"
           }
          ],
          "mesh3d": [
           {
            "colorbar": {
             "outlinewidth": 0,
             "ticks": ""
            },
            "type": "mesh3d"
           }
          ],
          "parcoords": [
           {
            "line": {
             "colorbar": {
              "outlinewidth": 0,
              "ticks": ""
             }
            },
            "type": "parcoords"
           }
          ],
          "pie": [
           {
            "automargin": true,
            "type": "pie"
           }
          ],
          "scatter": [
           {
            "fillpattern": {
             "fillmode": "overlay",
             "size": 10,
             "solidity": 0.2
            },
            "type": "scatter"
           }
          ],
          "scatter3d": [
           {
            "line": {
             "colorbar": {
              "outlinewidth": 0,
              "ticks": ""
             }
            },
            "marker": {
             "colorbar": {
              "outlinewidth": 0,
              "ticks": ""
             }
            },
            "type": "scatter3d"
           }
          ],
          "scattercarpet": [
           {
            "marker": {
             "colorbar": {
              "outlinewidth": 0,
              "ticks": ""
             }
            },
            "type": "scattercarpet"
           }
          ],
          "scattergeo": [
           {
            "marker": {
             "colorbar": {
              "outlinewidth": 0,
              "ticks": ""
             }
            },
            "type": "scattergeo"
           }
          ],
          "scattergl": [
           {
            "marker": {
             "colorbar": {
              "outlinewidth": 0,
              "ticks": ""
             }
            },
            "type": "scattergl"
           }
          ],
          "scattermap": [
           {
            "marker": {
             "colorbar": {
              "outlinewidth": 0,
              "ticks": ""
             }
            },
            "type": "scattermap"
           }
          ],
          "scattermapbox": [
           {
            "marker": {
             "colorbar": {
              "outlinewidth": 0,
              "ticks": ""
             }
            },
            "type": "scattermapbox"
           }
          ],
          "scatterpolar": [
           {
            "marker": {
             "colorbar": {
              "outlinewidth": 0,
              "ticks": ""
             }
            },
            "type": "scatterpolar"
           }
          ],
          "scatterpolargl": [
           {
            "marker": {
             "colorbar": {
              "outlinewidth": 0,
              "ticks": ""
             }
            },
            "type": "scatterpolargl"
           }
          ],
          "scatterternary": [
           {
            "marker": {
             "colorbar": {
              "outlinewidth": 0,
              "ticks": ""
             }
            },
            "type": "scatterternary"
           }
          ],
          "surface": [
           {
            "colorbar": {
             "outlinewidth": 0,
             "ticks": ""
            },
            "colorscale": [
             [
              0,
              "#0d0887"
             ],
             [
              0.1111111111111111,
              "#46039f"
             ],
             [
              0.2222222222222222,
              "#7201a8"
             ],
             [
              0.3333333333333333,
              "#9c179e"
             ],
             [
              0.4444444444444444,
              "#bd3786"
             ],
             [
              0.5555555555555556,
              "#d8576b"
             ],
             [
              0.6666666666666666,
              "#ed7953"
             ],
             [
              0.7777777777777778,
              "#fb9f3a"
             ],
             [
              0.8888888888888888,
              "#fdca26"
             ],
             [
              1,
              "#f0f921"
             ]
            ],
            "type": "surface"
           }
          ],
          "table": [
           {
            "cells": {
             "fill": {
              "color": "#EBF0F8"
             },
             "line": {
              "color": "white"
             }
            },
            "header": {
             "fill": {
              "color": "#C8D4E3"
             },
             "line": {
              "color": "white"
             }
            },
            "type": "table"
           }
          ]
         },
         "layout": {
          "annotationdefaults": {
           "arrowcolor": "#2a3f5f",
           "arrowhead": 0,
           "arrowwidth": 1
          },
          "autotypenumbers": "strict",
          "coloraxis": {
           "colorbar": {
            "outlinewidth": 0,
            "ticks": ""
           }
          },
          "colorscale": {
           "diverging": [
            [
             0,
             "#8e0152"
            ],
            [
             0.1,
             "#c51b7d"
            ],
            [
             0.2,
             "#de77ae"
            ],
            [
             0.3,
             "#f1b6da"
            ],
            [
             0.4,
             "#fde0ef"
            ],
            [
             0.5,
             "#f7f7f7"
            ],
            [
             0.6,
             "#e6f5d0"
            ],
            [
             0.7,
             "#b8e186"
            ],
            [
             0.8,
             "#7fbc41"
            ],
            [
             0.9,
             "#4d9221"
            ],
            [
             1,
             "#276419"
            ]
           ],
           "sequential": [
            [
             0,
             "#0d0887"
            ],
            [
             0.1111111111111111,
             "#46039f"
            ],
            [
             0.2222222222222222,
             "#7201a8"
            ],
            [
             0.3333333333333333,
             "#9c179e"
            ],
            [
             0.4444444444444444,
             "#bd3786"
            ],
            [
             0.5555555555555556,
             "#d8576b"
            ],
            [
             0.6666666666666666,
             "#ed7953"
            ],
            [
             0.7777777777777778,
             "#fb9f3a"
            ],
            [
             0.8888888888888888,
             "#fdca26"
            ],
            [
             1,
             "#f0f921"
            ]
           ],
           "sequentialminus": [
            [
             0,
             "#0d0887"
            ],
            [
             0.1111111111111111,
             "#46039f"
            ],
            [
             0.2222222222222222,
             "#7201a8"
            ],
            [
             0.3333333333333333,
             "#9c179e"
            ],
            [
             0.4444444444444444,
             "#bd3786"
            ],
            [
             0.5555555555555556,
             "#d8576b"
            ],
            [
             0.6666666666666666,
             "#ed7953"
            ],
            [
             0.7777777777777778,
             "#fb9f3a"
            ],
            [
             0.8888888888888888,
             "#fdca26"
            ],
            [
             1,
             "#f0f921"
            ]
           ]
          },
          "colorway": [
           "#636efa",
           "#EF553B",
           "#00cc96",
           "#ab63fa",
           "#FFA15A",
           "#19d3f3",
           "#FF6692",
           "#B6E880",
           "#FF97FF",
           "#FECB52"
          ],
          "font": {
           "color": "#2a3f5f"
          },
          "geo": {
           "bgcolor": "white",
           "lakecolor": "white",
           "landcolor": "#E5ECF6",
           "showlakes": true,
           "showland": true,
           "subunitcolor": "white"
          },
          "hoverlabel": {
           "align": "left"
          },
          "hovermode": "closest",
          "mapbox": {
           "style": "light"
          },
          "paper_bgcolor": "white",
          "plot_bgcolor": "#E5ECF6",
          "polar": {
           "angularaxis": {
            "gridcolor": "white",
            "linecolor": "white",
            "ticks": ""
           },
           "bgcolor": "#E5ECF6",
           "radialaxis": {
            "gridcolor": "white",
            "linecolor": "white",
            "ticks": ""
           }
          },
          "scene": {
           "xaxis": {
            "backgroundcolor": "#E5ECF6",
            "gridcolor": "white",
            "gridwidth": 2,
            "linecolor": "white",
            "showbackground": true,
            "ticks": "",
            "zerolinecolor": "white"
           },
           "yaxis": {
            "backgroundcolor": "#E5ECF6",
            "gridcolor": "white",
            "gridwidth": 2,
            "linecolor": "white",
            "showbackground": true,
            "ticks": "",
            "zerolinecolor": "white"
           },
           "zaxis": {
            "backgroundcolor": "#E5ECF6",
            "gridcolor": "white",
            "gridwidth": 2,
            "linecolor": "white",
            "showbackground": true,
            "ticks": "",
            "zerolinecolor": "white"
           }
          },
          "shapedefaults": {
           "line": {
            "color": "#2a3f5f"
           }
          },
          "ternary": {
           "aaxis": {
            "gridcolor": "white",
            "linecolor": "white",
            "ticks": ""
           },
           "baxis": {
            "gridcolor": "white",
            "linecolor": "white",
            "ticks": ""
           },
           "bgcolor": "#E5ECF6",
           "caxis": {
            "gridcolor": "white",
            "linecolor": "white",
            "ticks": ""
           }
          },
          "title": {
           "x": 0.05
          },
          "xaxis": {
           "automargin": true,
           "gridcolor": "white",
           "linecolor": "white",
           "ticks": "",
           "title": {
            "standoff": 15
           },
           "zerolinecolor": "white",
           "zerolinewidth": 2
          },
          "yaxis": {
           "automargin": true,
           "gridcolor": "white",
           "linecolor": "white",
           "ticks": "",
           "title": {
            "standoff": 15
           },
           "zerolinecolor": "white",
           "zerolinewidth": 2
          }
         }
        },
        "title": {
         "text": "Slice Plot"
        },
        "width": 3900,
        "xaxis": {
         "anchor": "y",
         "domain": [
          0,
          0.06272189349112425
         ],
         "title": {
          "text": "bagging_fraction"
         }
        },
        "xaxis10": {
         "anchor": "y10",
         "domain": [
          0.7029585798816567,
          0.7656804733727809
         ],
         "title": {
          "text": "min_gain_to_split"
         }
        },
        "xaxis11": {
         "anchor": "y11",
         "domain": [
          0.7810650887573963,
          0.8437869822485206
         ],
         "title": {
          "text": "min_sum_hessian_in_leaf"
         }
        },
        "xaxis12": {
         "anchor": "y12",
         "domain": [
          0.859171597633136,
          0.9218934911242602
         ],
         "title": {
          "text": "num_leaves"
         }
        },
        "xaxis13": {
         "anchor": "y13",
         "domain": [
          0.9372781065088757,
          0.9999999999999999
         ],
         "title": {
          "text": "path_smooth"
         }
        },
        "xaxis2": {
         "anchor": "y2",
         "domain": [
          0.07810650887573964,
          0.1408284023668639
         ],
         "title": {
          "text": "bagging_freq"
         }
        },
        "xaxis3": {
         "anchor": "y3",
         "domain": [
          0.15621301775147928,
          0.21893491124260353
         ],
         "title": {
          "text": "feature_fraction"
         }
        },
        "xaxis4": {
         "anchor": "y4",
         "domain": [
          0.23431952662721892,
          0.29704142011834317
         ],
         "title": {
          "text": "lambda_l1"
         },
         "type": "log"
        },
        "xaxis5": {
         "anchor": "y5",
         "domain": [
          0.31242603550295855,
          0.3751479289940828
         ],
         "title": {
          "text": "lambda_l2"
         },
         "type": "log"
        },
        "xaxis6": {
         "anchor": "y6",
         "domain": [
          0.39053254437869817,
          0.45325443786982245
         ],
         "title": {
          "text": "learning_rate"
         },
         "type": "log"
        },
        "xaxis7": {
         "anchor": "y7",
         "domain": [
          0.46863905325443783,
          0.5313609467455621
         ],
         "title": {
          "text": "max_bin"
         }
        },
        "xaxis8": {
         "anchor": "y8",
         "domain": [
          0.5467455621301776,
          0.6094674556213018
         ],
         "title": {
          "text": "max_depth"
         }
        },
        "xaxis9": {
         "anchor": "y9",
         "domain": [
          0.6248520710059171,
          0.6875739644970413
         ],
         "title": {
          "text": "min_data_in_leaf"
         }
        },
        "yaxis": {
         "anchor": "x",
         "domain": [
          0,
          1
         ],
         "title": {
          "text": "Objective Value"
         }
        },
        "yaxis10": {
         "anchor": "x10",
         "domain": [
          0,
          1
         ],
         "matches": "y",
         "showticklabels": false
        },
        "yaxis11": {
         "anchor": "x11",
         "domain": [
          0,
          1
         ],
         "matches": "y",
         "showticklabels": false
        },
        "yaxis12": {
         "anchor": "x12",
         "domain": [
          0,
          1
         ],
         "matches": "y",
         "showticklabels": false
        },
        "yaxis13": {
         "anchor": "x13",
         "domain": [
          0,
          1
         ],
         "matches": "y",
         "showticklabels": false
        },
        "yaxis2": {
         "anchor": "x2",
         "domain": [
          0,
          1
         ],
         "matches": "y",
         "showticklabels": false
        },
        "yaxis3": {
         "anchor": "x3",
         "domain": [
          0,
          1
         ],
         "matches": "y",
         "showticklabels": false
        },
        "yaxis4": {
         "anchor": "x4",
         "domain": [
          0,
          1
         ],
         "matches": "y",
         "showticklabels": false
        },
        "yaxis5": {
         "anchor": "x5",
         "domain": [
          0,
          1
         ],
         "matches": "y",
         "showticklabels": false
        },
        "yaxis6": {
         "anchor": "x6",
         "domain": [
          0,
          1
         ],
         "matches": "y",
         "showticklabels": false
        },
        "yaxis7": {
         "anchor": "x7",
         "domain": [
          0,
          1
         ],
         "matches": "y",
         "showticklabels": false
        },
        "yaxis8": {
         "anchor": "x8",
         "domain": [
          0,
          1
         ],
         "matches": "y",
         "showticklabels": false
        },
        "yaxis9": {
         "anchor": "x9",
         "domain": [
          0,
          1
         ],
         "matches": "y",
         "showticklabels": false
        }
       }
      }
     },
     "metadata": {},
     "output_type": "display_data"
    },
    {
     "name": "stdout",
     "output_type": "stream",
     "text": [
      "Sum of predict      is : 48\n",
      "Sum of predict rate is : 0.0023282887\n"
     ]
    },
    {
     "data": {
      "image/png": "[encoded data removed]",
      "text/plain": [
       "<Figure size 2400x800 with 1 Axes>"
      ]
     },
     "metadata": {},
     "output_type": "display_data"
    },
    {
     "data": {
      "text/html": [
       "<div>\n",
       "<style scoped>\n",
       "    .dataframe tbody tr th:only-of-type {\n",
       "        vertical-align: middle;\n",
       "    }\n",
       "\n",
       "    .dataframe tbody tr th {\n",
       "        vertical-align: top;\n",
       "    }\n",
       "\n",
       "    .dataframe thead th {\n",
       "        text-align: right;\n",
       "    }\n",
       "</style>\n",
       "<table border=\"1\" class=\"dataframe\">\n",
       "  <thead>\n",
       "    <tr style=\"text-align: right;\">\n",
       "      <th></th>\n",
       "      <th>date</th>\n",
       "      <th>memo</th>\n",
       "      <th>horse_5</th>\n",
       "      <th>horse_6</th>\n",
       "      <th>horse7</th>\n",
       "      <th>horse_8</th>\n",
       "      <th>horse_9</th>\n",
       "      <th>horse_10</th>\n",
       "      <th>horse_11</th>\n",
       "      <th>horse_12</th>\n",
       "      <th>horse_13</th>\n",
       "      <th>horse_14</th>\n",
       "      <th>horse_15</th>\n",
       "      <th>horse_16</th>\n",
       "      <th>horse_17</th>\n",
       "      <th>horse_18</th>\n",
       "      <th>sum_of_logloss</th>\n",
       "      <th>roc_auc_score</th>\n",
       "    </tr>\n",
       "  </thead>\n",
       "  <tbody>\n",
       "    <tr>\n",
       "      <th>0</th>\n",
       "      <td>2025/06/12 22:51</td>\n",
       "      <td>add lifetimeprize/race and trainer_id, in JV d...</td>\n",
       "      <td>0.262895</td>\n",
       "      <td>0.351931</td>\n",
       "      <td>0.328656</td>\n",
       "      <td>0.370208</td>\n",
       "      <td>0.301947</td>\n",
       "      <td>0.291383</td>\n",
       "      <td>0.261806</td>\n",
       "      <td>0.237445</td>\n",
       "      <td>0.238678</td>\n",
       "      <td>0.236072</td>\n",
       "      <td>0.217780</td>\n",
       "      <td>0.201274</td>\n",
       "      <td>0.179347</td>\n",
       "      <td>0.192842</td>\n",
       "      <td>3.672263</td>\n",
       "      <td>0.772801</td>\n",
       "    </tr>\n",
       "    <tr>\n",
       "      <th>1</th>\n",
       "      <td>2025/06/12 20:53</td>\n",
       "      <td>add last race results, bloods infomation with ...</td>\n",
       "      <td>0.208531</td>\n",
       "      <td>0.312799</td>\n",
       "      <td>0.357150</td>\n",
       "      <td>0.357760</td>\n",
       "      <td>0.300641</td>\n",
       "      <td>0.297344</td>\n",
       "      <td>0.266711</td>\n",
       "      <td>0.233023</td>\n",
       "      <td>0.241540</td>\n",
       "      <td>0.235284</td>\n",
       "      <td>0.218897</td>\n",
       "      <td>0.201750</td>\n",
       "      <td>0.179552</td>\n",
       "      <td>0.191190</td>\n",
       "      <td>3.602171</td>\n",
       "      <td>0.770300</td>\n",
       "    </tr>\n",
       "    <tr>\n",
       "      <th>2</th>\n",
       "      <td>2025/06/06 15:29</td>\n",
       "      <td>No feature engineering with yeo-johnson-transf...</td>\n",
       "      <td>0.461397</td>\n",
       "      <td>0.470164</td>\n",
       "      <td>0.397626</td>\n",
       "      <td>0.369435</td>\n",
       "      <td>0.344003</td>\n",
       "      <td>0.312507</td>\n",
       "      <td>0.297227</td>\n",
       "      <td>0.279669</td>\n",
       "      <td>0.266719</td>\n",
       "      <td>0.250942</td>\n",
       "      <td>0.239750</td>\n",
       "      <td>0.229268</td>\n",
       "      <td>0.213745</td>\n",
       "      <td>0.211244</td>\n",
       "      <td>4.343695</td>\n",
       "      <td>0.621086</td>\n",
       "    </tr>\n",
       "    <tr>\n",
       "      <th>3</th>\n",
       "      <td>2025/06/06 15:16</td>\n",
       "      <td>No feature engineering. n_rials=100.</td>\n",
       "      <td>0.461984</td>\n",
       "      <td>0.489677</td>\n",
       "      <td>0.392669</td>\n",
       "      <td>0.372894</td>\n",
       "      <td>0.345458</td>\n",
       "      <td>0.312119</td>\n",
       "      <td>0.298260</td>\n",
       "      <td>0.278618</td>\n",
       "      <td>0.268310</td>\n",
       "      <td>0.252885</td>\n",
       "      <td>0.242601</td>\n",
       "      <td>0.230501</td>\n",
       "      <td>0.214274</td>\n",
       "      <td>0.213532</td>\n",
       "      <td>4.373781</td>\n",
       "      <td>0.613889</td>\n",
       "    </tr>\n",
       "  </tbody>\n",
       "</table>\n",
       "</div>"
      ],
      "text/plain": [
       "               date                                               memo  \\\n",
       "0  2025/06/12 22:51  add lifetimeprize/race and trainer_id, in JV d...   \n",
       "1  2025/06/12 20:53  add last race results, bloods infomation with ...   \n",
       "2  2025/06/06 15:29  No feature engineering with yeo-johnson-transf...   \n",
       "3  2025/06/06 15:16               No feature engineering. n_rials=100.   \n",
       "\n",
       "    horse_5   horse_6    horse7   horse_8   horse_9  horse_10  horse_11  \\\n",
       "0  0.262895  0.351931  0.328656  0.370208  0.301947  0.291383  0.261806   \n",
       "1  0.208531  0.312799  0.357150  0.357760  0.300641  0.297344  0.266711   \n",
       "2  0.461397  0.470164  0.397626  0.369435  0.344003  0.312507  0.297227   \n",
       "3  0.461984  0.489677  0.392669  0.372894  0.345458  0.312119  0.298260   \n",
       "\n",
       "   horse_12  horse_13  horse_14  horse_15  horse_16  horse_17  horse_18  \\\n",
       "0  0.237445  0.238678  0.236072  0.217780  0.201274  0.179347  0.192842   \n",
       "1  0.233023  0.241540  0.235284  0.218897  0.201750  0.179552  0.191190   \n",
       "2  0.279669  0.266719  0.250942  0.239750  0.229268  0.213745  0.211244   \n",
       "3  0.278618  0.268310  0.252885  0.242601  0.230501  0.214274  0.213532   \n",
       "\n",
       "   sum_of_logloss  roc_auc_score  \n",
       "0        3.672263       0.772801  \n",
       "1        3.602171       0.770300  \n",
       "2        4.343695       0.621086  \n",
       "3        4.373781       0.613889  "
      ]
     },
     "metadata": {},
     "output_type": "display_data"
    },
    {
     "name": "stderr",
     "output_type": "stream",
     "text": [
      "C:\\Users\\ken05\\Documents\\others\\HORSE_RACING\\Modules\\model_tuner.py:124: PerformanceWarning:\n",
      "\n",
      "DataFrame is highly fragmented.  This is usually the result of calling `frame.insert` many times, which has poor performance.  Consider joining all columns at once using pd.concat(axis=1) instead. To get a de-fragmented frame, use `newframe = frame.copy()`\n",
      "\n",
      "C:\\Users\\ken05\\Documents\\others\\HORSE_RACING\\Modules\\model_tuner.py:124: SettingWithCopyWarning:\n",
      "\n",
      "\n",
      "A value is trying to be set on a copy of a slice from a DataFrame.\n",
      "Try using .loc[row_indexer,col_indexer] = value instead\n",
      "\n",
      "See the caveats in the documentation: https://pandas.pydata.org/pandas-docs/stable/user_guide/indexing.html#returning-a-view-versus-a-copy\n",
      "\n",
      "C:\\Users\\ken05\\Documents\\others\\HORSE_RACING\\Modules\\model_tuner.py:125: PerformanceWarning:\n",
      "\n",
      "DataFrame is highly fragmented.  This is usually the result of calling `frame.insert` many times, which has poor performance.  Consider joining all columns at once using pd.concat(axis=1) instead. To get a de-fragmented frame, use `newframe = frame.copy()`\n",
      "\n",
      "C:\\Users\\ken05\\Documents\\others\\HORSE_RACING\\Modules\\model_tuner.py:125: SettingWithCopyWarning:\n",
      "\n",
      "\n",
      "A value is trying to be set on a copy of a slice from a DataFrame.\n",
      "Try using .loc[row_indexer,col_indexer] = value instead\n",
      "\n",
      "See the caveats in the documentation: https://pandas.pydata.org/pandas-docs/stable/user_guide/indexing.html#returning-a-view-versus-a-copy\n",
      "\n",
      "C:\\Users\\ken05\\Documents\\others\\HORSE_RACING\\Modules\\model_tuner.py:126: PerformanceWarning:\n",
      "\n",
      "DataFrame is highly fragmented.  This is usually the result of calling `frame.insert` many times, which has poor performance.  Consider joining all columns at once using pd.concat(axis=1) instead. To get a de-fragmented frame, use `newframe = frame.copy()`\n",
      "\n",
      "C:\\Users\\ken05\\Documents\\others\\HORSE_RACING\\Modules\\model_tuner.py:126: SettingWithCopyWarning:\n",
      "\n",
      "\n",
      "A value is trying to be set on a copy of a slice from a DataFrame.\n",
      "Try using .loc[row_indexer,col_indexer] = value instead\n",
      "\n",
      "See the caveats in the documentation: https://pandas.pydata.org/pandas-docs/stable/user_guide/indexing.html#returning-a-view-versus-a-copy\n",
      "\n"
     ]
    }
   ],
   "source": [
    "memo = \"add lifetimeprize/race and trainer_id, in JV dataset. n_rials=50.\"\n",
    "model, df_pred = model_tuner.simple_lightGBM(df4, feature_col2, memo=memo, n_trials=50, save_result=True, visualization=True)"
   ]
  },
  {
   "cell_type": "code",
   "execution_count": 10,
   "id": "1b9eeb5a",
   "metadata": {},
   "outputs": [
    {
     "data": {
      "text/html": [
       "<div>\n",
       "<style scoped>\n",
       "    .dataframe tbody tr th:only-of-type {\n",
       "        vertical-align: middle;\n",
       "    }\n",
       "\n",
       "    .dataframe tbody tr th {\n",
       "        vertical-align: top;\n",
       "    }\n",
       "\n",
       "    .dataframe thead th {\n",
       "        text-align: right;\n",
       "    }\n",
       "</style>\n",
       "<table border=\"1\" class=\"dataframe\">\n",
       "  <thead>\n",
       "    <tr style=\"text-align: right;\">\n",
       "      <th></th>\n",
       "      <th>id_for_fold</th>\n",
       "      <th>horse</th>\n",
       "      <th>pred</th>\n",
       "    </tr>\n",
       "  </thead>\n",
       "  <tbody>\n",
       "    <tr>\n",
       "      <th>16274</th>\n",
       "      <td>2025020805010303</td>\n",
       "      <td>アドマイヤデイトナ</td>\n",
       "      <td>0.750377</td>\n",
       "    </tr>\n",
       "    <tr>\n",
       "      <th>19527</th>\n",
       "      <td>2025011206010410</td>\n",
       "      <td>アッシュルバニパル</td>\n",
       "      <td>0.725544</td>\n",
       "    </tr>\n",
       "    <tr>\n",
       "      <th>48</th>\n",
       "      <td>2025060805030209</td>\n",
       "      <td>ウィクトルウェルス</td>\n",
       "      <td>0.704738</td>\n",
       "    </tr>\n",
       "    <tr>\n",
       "      <th>4665</th>\n",
       "      <td>2025050408020404</td>\n",
       "      <td>ダノンジョーカー</td>\n",
       "      <td>0.703672</td>\n",
       "    </tr>\n",
       "    <tr>\n",
       "      <th>10994</th>\n",
       "      <td>2025031607020211</td>\n",
       "      <td>クイーンズウォーク</td>\n",
       "      <td>0.684725</td>\n",
       "    </tr>\n",
       "    <tr>\n",
       "      <th>810</th>\n",
       "      <td>2025060105021203</td>\n",
       "      <td>セブンメデュラス</td>\n",
       "      <td>0.680149</td>\n",
       "    </tr>\n",
       "    <tr>\n",
       "      <th>2559</th>\n",
       "      <td>2025051805020808</td>\n",
       "      <td>フォルラニーニ</td>\n",
       "      <td>0.657340</td>\n",
       "    </tr>\n",
       "    <tr>\n",
       "      <th>6948</th>\n",
       "      <td>2025041906030705</td>\n",
       "      <td>リバーバレイト</td>\n",
       "      <td>0.647141</td>\n",
       "    </tr>\n",
       "    <tr>\n",
       "      <th>4496</th>\n",
       "      <td>2025050405020405</td>\n",
       "      <td>アローグレイシャー</td>\n",
       "      <td>0.612796</td>\n",
       "    </tr>\n",
       "    <tr>\n",
       "      <th>2146</th>\n",
       "      <td>2025052405020903</td>\n",
       "      <td>ディベルティスマン</td>\n",
       "      <td>0.609826</td>\n",
       "    </tr>\n",
       "  </tbody>\n",
       "</table>\n",
       "</div>"
      ],
      "text/plain": [
       "            id_for_fold      horse      pred\n",
       "16274  2025020805010303  アドマイヤデイトナ  0.750377\n",
       "19527  2025011206010410  アッシュルバニパル  0.725544\n",
       "48     2025060805030209  ウィクトルウェルス  0.704738\n",
       "4665   2025050408020404   ダノンジョーカー  0.703672\n",
       "10994  2025031607020211  クイーンズウォーク  0.684725\n",
       "810    2025060105021203   セブンメデュラス  0.680149\n",
       "2559   2025051805020808    フォルラニーニ  0.657340\n",
       "6948   2025041906030705    リバーバレイト  0.647141\n",
       "4496   2025050405020405  アローグレイシャー  0.612796\n",
       "2146   2025052405020903  ディベルティスマン  0.609826"
      ]
     },
     "execution_count": 10,
     "metadata": {},
     "output_type": "execute_result"
    }
   ],
   "source": [
    "tmp =  df_pred[df_pred[\"class_pred\"] == 1][[\"id_for_fold\", \"horse\", \"pred\"]].sort_values(\"pred\", ascending=False)\n",
    "tmp.head(10)"
   ]
  },
  {
   "cell_type": "code",
   "execution_count": 11,
   "id": "575a6e23",
   "metadata": {},
   "outputs": [
    {
     "data": {
      "text/html": [
       "<div>\n",
       "<style scoped>\n",
       "    .dataframe tbody tr th:only-of-type {\n",
       "        vertical-align: middle;\n",
       "    }\n",
       "\n",
       "    .dataframe tbody tr th {\n",
       "        vertical-align: top;\n",
       "    }\n",
       "\n",
       "    .dataframe thead th {\n",
       "        text-align: right;\n",
       "    }\n",
       "</style>\n",
       "<table border=\"1\" class=\"dataframe\">\n",
       "  <thead>\n",
       "    <tr style=\"text-align: right;\">\n",
       "      <th></th>\n",
       "      <th>id_for_fold</th>\n",
       "      <th>horse</th>\n",
       "      <th>pred</th>\n",
       "    </tr>\n",
       "  </thead>\n",
       "  <tbody>\n",
       "    <tr>\n",
       "      <th>1118</th>\n",
       "      <td>2025053105021103</td>\n",
       "      <td>ダンケルド</td>\n",
       "      <td>0.535257</td>\n",
       "    </tr>\n",
       "    <tr>\n",
       "      <th>1296</th>\n",
       "      <td>2025053108021103</td>\n",
       "      <td>カンピドリオ</td>\n",
       "      <td>0.503333</td>\n",
       "    </tr>\n",
       "    <tr>\n",
       "      <th>810</th>\n",
       "      <td>2025060105021203</td>\n",
       "      <td>セブンメデュラス</td>\n",
       "      <td>0.680149</td>\n",
       "    </tr>\n",
       "    <tr>\n",
       "      <th>467</th>\n",
       "      <td>2025060705030104</td>\n",
       "      <td>エポナ</td>\n",
       "      <td>0.501113</td>\n",
       "    </tr>\n",
       "    <tr>\n",
       "      <th>572</th>\n",
       "      <td>2025060709030107</td>\n",
       "      <td>ヴァリディシームス</td>\n",
       "      <td>0.502276</td>\n",
       "    </tr>\n",
       "    <tr>\n",
       "      <th>349</th>\n",
       "      <td>2025060705030112</td>\n",
       "      <td>ロッシニアーナ</td>\n",
       "      <td>0.518586</td>\n",
       "    </tr>\n",
       "    <tr>\n",
       "      <th>122</th>\n",
       "      <td>2025060805030204</td>\n",
       "      <td>マックスキュー</td>\n",
       "      <td>0.565558</td>\n",
       "    </tr>\n",
       "    <tr>\n",
       "      <th>48</th>\n",
       "      <td>2025060805030209</td>\n",
       "      <td>ウィクトルウェルス</td>\n",
       "      <td>0.704738</td>\n",
       "    </tr>\n",
       "    <tr>\n",
       "      <th>14</th>\n",
       "      <td>2025060805030211</td>\n",
       "      <td>ジャンタルマンタル</td>\n",
       "      <td>0.531910</td>\n",
       "    </tr>\n",
       "    <tr>\n",
       "      <th>1</th>\n",
       "      <td>2025060805030212</td>\n",
       "      <td>サノノワンダー</td>\n",
       "      <td>0.503865</td>\n",
       "    </tr>\n",
       "  </tbody>\n",
       "</table>\n",
       "</div>"
      ],
      "text/plain": [
       "           id_for_fold      horse      pred\n",
       "1118  2025053105021103      ダンケルド  0.535257\n",
       "1296  2025053108021103     カンピドリオ  0.503333\n",
       "810   2025060105021203   セブンメデュラス  0.680149\n",
       "467   2025060705030104        エポナ  0.501113\n",
       "572   2025060709030107  ヴァリディシームス  0.502276\n",
       "349   2025060705030112    ロッシニアーナ  0.518586\n",
       "122   2025060805030204    マックスキュー  0.565558\n",
       "48    2025060805030209  ウィクトルウェルス  0.704738\n",
       "14    2025060805030211  ジャンタルマンタル  0.531910\n",
       "1     2025060805030212    サノノワンダー  0.503865"
      ]
     },
     "execution_count": 11,
     "metadata": {},
     "output_type": "execute_result"
    }
   ],
   "source": [
    "df_pred[df_pred[\"class_pred\"] == 1][[\"id_for_fold\", \"horse\", \"pred\"]].tail(10)"
   ]
  },
  {
   "cell_type": "markdown",
   "id": "144f26e4",
   "metadata": {},
   "source": [
    "正規化前の勝率が一番高いメモリアカフェのレース↓"
   ]
  },
  {
   "cell_type": "code",
   "execution_count": 12,
   "id": "d4b0638d",
   "metadata": {},
   "outputs": [
    {
     "data": {
      "text/html": [
       "<div>\n",
       "<style scoped>\n",
       "    .dataframe tbody tr th:only-of-type {\n",
       "        vertical-align: middle;\n",
       "    }\n",
       "\n",
       "    .dataframe tbody tr th {\n",
       "        vertical-align: top;\n",
       "    }\n",
       "\n",
       "    .dataframe thead th {\n",
       "        text-align: right;\n",
       "    }\n",
       "</style>\n",
       "<table border=\"1\" class=\"dataframe\">\n",
       "  <thead>\n",
       "    <tr style=\"text-align: right;\">\n",
       "      <th></th>\n",
       "      <th>horse</th>\n",
       "      <th>horse_num</th>\n",
       "      <th>win_odds</th>\n",
       "      <th>pred</th>\n",
       "    </tr>\n",
       "  </thead>\n",
       "  <tbody>\n",
       "    <tr>\n",
       "      <th>9894</th>\n",
       "      <td>メモリアカフェ</td>\n",
       "      <td>1.553797</td>\n",
       "      <td>1.6</td>\n",
       "      <td>0.470571</td>\n",
       "    </tr>\n",
       "    <tr>\n",
       "      <th>9898</th>\n",
       "      <td>デアマトローナ</td>\n",
       "      <td>0.836660</td>\n",
       "      <td>15.5</td>\n",
       "      <td>0.154882</td>\n",
       "    </tr>\n",
       "    <tr>\n",
       "      <th>9896</th>\n",
       "      <td>オンクラウドナイン</td>\n",
       "      <td>-1.314751</td>\n",
       "      <td>4.8</td>\n",
       "      <td>0.067935</td>\n",
       "    </tr>\n",
       "    <tr>\n",
       "      <th>9899</th>\n",
       "      <td>ノイシュタット</td>\n",
       "      <td>-0.836660</td>\n",
       "      <td>5.8</td>\n",
       "      <td>0.056291</td>\n",
       "    </tr>\n",
       "    <tr>\n",
       "      <th>9900</th>\n",
       "      <td>リアライズハロック</td>\n",
       "      <td>0.119523</td>\n",
       "      <td>14.6</td>\n",
       "      <td>0.047890</td>\n",
       "    </tr>\n",
       "    <tr>\n",
       "      <th>9897</th>\n",
       "      <td>カズナリ</td>\n",
       "      <td>-1.075706</td>\n",
       "      <td>69.8</td>\n",
       "      <td>0.031610</td>\n",
       "    </tr>\n",
       "    <tr>\n",
       "      <th>9895</th>\n",
       "      <td>ゲンパチルーナ</td>\n",
       "      <td>0.597614</td>\n",
       "      <td>15.7</td>\n",
       "      <td>0.029986</td>\n",
       "    </tr>\n",
       "    <tr>\n",
       "      <th>9901</th>\n",
       "      <td>ハルノート</td>\n",
       "      <td>1.314751</td>\n",
       "      <td>83.4</td>\n",
       "      <td>0.027959</td>\n",
       "    </tr>\n",
       "    <tr>\n",
       "      <th>9905</th>\n",
       "      <td>ロジジェンス</td>\n",
       "      <td>-0.358569</td>\n",
       "      <td>260.7</td>\n",
       "      <td>0.026641</td>\n",
       "    </tr>\n",
       "    <tr>\n",
       "      <th>9903</th>\n",
       "      <td>トラストギャロップ</td>\n",
       "      <td>1.075706</td>\n",
       "      <td>181.3</td>\n",
       "      <td>0.023864</td>\n",
       "    </tr>\n",
       "    <tr>\n",
       "      <th>9907</th>\n",
       "      <td>カゼニナッテル</td>\n",
       "      <td>-0.597614</td>\n",
       "      <td>160.9</td>\n",
       "      <td>0.023109</td>\n",
       "    </tr>\n",
       "    <tr>\n",
       "      <th>9902</th>\n",
       "      <td>サンマルストロング</td>\n",
       "      <td>0.358569</td>\n",
       "      <td>111.4</td>\n",
       "      <td>0.019086</td>\n",
       "    </tr>\n",
       "    <tr>\n",
       "      <th>9904</th>\n",
       "      <td>ライジンシチー</td>\n",
       "      <td>-0.119523</td>\n",
       "      <td>280.6</td>\n",
       "      <td>0.014592</td>\n",
       "    </tr>\n",
       "    <tr>\n",
       "      <th>9906</th>\n",
       "      <td>ヒロノビックバン</td>\n",
       "      <td>-1.553797</td>\n",
       "      <td>392.5</td>\n",
       "      <td>0.005584</td>\n",
       "    </tr>\n",
       "  </tbody>\n",
       "</table>\n",
       "</div>"
      ],
      "text/plain": [
       "          horse  horse_num  win_odds      pred\n",
       "9894    メモリアカフェ   1.553797       1.6  0.470571\n",
       "9898    デアマトローナ   0.836660      15.5  0.154882\n",
       "9896  オンクラウドナイン  -1.314751       4.8  0.067935\n",
       "9899    ノイシュタット  -0.836660       5.8  0.056291\n",
       "9900  リアライズハロック   0.119523      14.6  0.047890\n",
       "9897       カズナリ  -1.075706      69.8  0.031610\n",
       "9895    ゲンパチルーナ   0.597614      15.7  0.029986\n",
       "9901      ハルノート   1.314751      83.4  0.027959\n",
       "9905     ロジジェンス  -0.358569     260.7  0.026641\n",
       "9903  トラストギャロップ   1.075706     181.3  0.023864\n",
       "9907    カゼニナッテル  -0.597614     160.9  0.023109\n",
       "9902  サンマルストロング   0.358569     111.4  0.019086\n",
       "9904    ライジンシチー  -0.119523     280.6  0.014592\n",
       "9906   ヒロノビックバン  -1.553797     392.5  0.005584"
      ]
     },
     "metadata": {},
     "output_type": "display_data"
    }
   ],
   "source": [
    "tmp = df_pred[df_pred[\"id_for_fold\"] == 2025032306020803][[\"horse\", \"horse_num\", \"win_odds\", \"pred\"]]\n",
    "tmp[\"pred\"] = tmp[\"pred\"] / tmp[\"pred\"].sum()\n",
    "display(tmp.sort_values(\"pred\", ascending=False))"
   ]
  },
  {
   "cell_type": "markdown",
   "id": "add68d59",
   "metadata": {},
   "source": [
    "#### 安田記念↓"
   ]
  },
  {
   "cell_type": "code",
   "execution_count": 13,
   "id": "204b8ff2",
   "metadata": {},
   "outputs": [
    {
     "data": {
      "text/html": [
       "<div>\n",
       "<style scoped>\n",
       "    .dataframe tbody tr th:only-of-type {\n",
       "        vertical-align: middle;\n",
       "    }\n",
       "\n",
       "    .dataframe tbody tr th {\n",
       "        vertical-align: top;\n",
       "    }\n",
       "\n",
       "    .dataframe thead th {\n",
       "        text-align: right;\n",
       "    }\n",
       "</style>\n",
       "<table border=\"1\" class=\"dataframe\">\n",
       "  <thead>\n",
       "    <tr style=\"text-align: right;\">\n",
       "      <th></th>\n",
       "      <th>horse</th>\n",
       "      <th>horse_num</th>\n",
       "      <th>win_odds</th>\n",
       "      <th>pred</th>\n",
       "    </tr>\n",
       "  </thead>\n",
       "  <tbody>\n",
       "    <tr>\n",
       "      <th>14</th>\n",
       "      <td>ジャンタルマンタル</td>\n",
       "      <td>0.093659</td>\n",
       "      <td>4.3</td>\n",
       "      <td>0.318524</td>\n",
       "    </tr>\n",
       "    <tr>\n",
       "      <th>25</th>\n",
       "      <td>シックスペンス</td>\n",
       "      <td>-1.592196</td>\n",
       "      <td>4.4</td>\n",
       "      <td>0.151006</td>\n",
       "    </tr>\n",
       "    <tr>\n",
       "      <th>20</th>\n",
       "      <td>エコロヴァルツ</td>\n",
       "      <td>-0.280976</td>\n",
       "      <td>18.8</td>\n",
       "      <td>0.108082</td>\n",
       "    </tr>\n",
       "    <tr>\n",
       "      <th>16</th>\n",
       "      <td>ソウルラッシュ</td>\n",
       "      <td>0.655610</td>\n",
       "      <td>3.3</td>\n",
       "      <td>0.064830</td>\n",
       "    </tr>\n",
       "    <tr>\n",
       "      <th>17</th>\n",
       "      <td>ブレイディヴェーグ</td>\n",
       "      <td>1.592196</td>\n",
       "      <td>9.4</td>\n",
       "      <td>0.054903</td>\n",
       "    </tr>\n",
       "    <tr>\n",
       "      <th>30</th>\n",
       "      <td>トロヴァトーレ</td>\n",
       "      <td>1.217562</td>\n",
       "      <td>29.6</td>\n",
       "      <td>0.051102</td>\n",
       "    </tr>\n",
       "    <tr>\n",
       "      <th>23</th>\n",
       "      <td>マッドクール</td>\n",
       "      <td>-1.217562</td>\n",
       "      <td>35.4</td>\n",
       "      <td>0.045668</td>\n",
       "    </tr>\n",
       "    <tr>\n",
       "      <th>24</th>\n",
       "      <td>ジュンブロッサム</td>\n",
       "      <td>1.404879</td>\n",
       "      <td>13.7</td>\n",
       "      <td>0.034741</td>\n",
       "    </tr>\n",
       "    <tr>\n",
       "      <th>18</th>\n",
       "      <td>ウインマーベル</td>\n",
       "      <td>-1.030244</td>\n",
       "      <td>38.3</td>\n",
       "      <td>0.032675</td>\n",
       "    </tr>\n",
       "    <tr>\n",
       "      <th>22</th>\n",
       "      <td>ウォーターリヒト</td>\n",
       "      <td>0.842927</td>\n",
       "      <td>13.0</td>\n",
       "      <td>0.032197</td>\n",
       "    </tr>\n",
       "    <tr>\n",
       "      <th>15</th>\n",
       "      <td>ガイアフォース</td>\n",
       "      <td>-0.468293</td>\n",
       "      <td>32.2</td>\n",
       "      <td>0.023945</td>\n",
       "    </tr>\n",
       "    <tr>\n",
       "      <th>21</th>\n",
       "      <td>サクラトゥジュール</td>\n",
       "      <td>0.280976</td>\n",
       "      <td>72.1</td>\n",
       "      <td>0.022403</td>\n",
       "    </tr>\n",
       "    <tr>\n",
       "      <th>27</th>\n",
       "      <td>ダディーズビビッド</td>\n",
       "      <td>-1.404879</td>\n",
       "      <td>235.2</td>\n",
       "      <td>0.013742</td>\n",
       "    </tr>\n",
       "    <tr>\n",
       "      <th>26</th>\n",
       "      <td>ロングラン</td>\n",
       "      <td>0.468293</td>\n",
       "      <td>87.6</td>\n",
       "      <td>0.012132</td>\n",
       "    </tr>\n",
       "    <tr>\n",
       "      <th>28</th>\n",
       "      <td>レッドモンレーヴ</td>\n",
       "      <td>-0.842927</td>\n",
       "      <td>59.0</td>\n",
       "      <td>0.012104</td>\n",
       "    </tr>\n",
       "    <tr>\n",
       "      <th>29</th>\n",
       "      <td>グラティアス</td>\n",
       "      <td>-0.655610</td>\n",
       "      <td>418.2</td>\n",
       "      <td>0.008982</td>\n",
       "    </tr>\n",
       "    <tr>\n",
       "      <th>19</th>\n",
       "      <td>シャンパンカラー</td>\n",
       "      <td>-0.093659</td>\n",
       "      <td>73.9</td>\n",
       "      <td>0.008430</td>\n",
       "    </tr>\n",
       "    <tr>\n",
       "      <th>31</th>\n",
       "      <td>ホウオウリアリティ</td>\n",
       "      <td>1.030244</td>\n",
       "      <td>430.1</td>\n",
       "      <td>0.004533</td>\n",
       "    </tr>\n",
       "  </tbody>\n",
       "</table>\n",
       "</div>"
      ],
      "text/plain": [
       "        horse  horse_num  win_odds      pred\n",
       "14  ジャンタルマンタル   0.093659       4.3  0.318524\n",
       "25    シックスペンス  -1.592196       4.4  0.151006\n",
       "20    エコロヴァルツ  -0.280976      18.8  0.108082\n",
       "16    ソウルラッシュ   0.655610       3.3  0.064830\n",
       "17  ブレイディヴェーグ   1.592196       9.4  0.054903\n",
       "30    トロヴァトーレ   1.217562      29.6  0.051102\n",
       "23     マッドクール  -1.217562      35.4  0.045668\n",
       "24   ジュンブロッサム   1.404879      13.7  0.034741\n",
       "18    ウインマーベル  -1.030244      38.3  0.032675\n",
       "22   ウォーターリヒト   0.842927      13.0  0.032197\n",
       "15    ガイアフォース  -0.468293      32.2  0.023945\n",
       "21  サクラトゥジュール   0.280976      72.1  0.022403\n",
       "27  ダディーズビビッド  -1.404879     235.2  0.013742\n",
       "26      ロングラン   0.468293      87.6  0.012132\n",
       "28   レッドモンレーヴ  -0.842927      59.0  0.012104\n",
       "29     グラティアス  -0.655610     418.2  0.008982\n",
       "19   シャンパンカラー  -0.093659      73.9  0.008430\n",
       "31  ホウオウリアリティ   1.030244     430.1  0.004533"
      ]
     },
     "metadata": {},
     "output_type": "display_data"
    }
   ],
   "source": [
    "tmp = df_pred[df_pred[\"id_for_fold\"] == 2025060805030211][[\"horse\", \"horse_num\", \"win_odds\", \"pred\"]]\n",
    "tmp[\"pred\"] = tmp[\"pred\"] / tmp[\"pred\"].sum()\n",
    "display(tmp.sort_values(\"pred\", ascending=False))"
   ]
  },
  {
   "cell_type": "code",
   "execution_count": 14,
   "id": "2efc134d",
   "metadata": {},
   "outputs": [
    {
     "name": "stdout",
     "output_type": "stream",
     "text": [
      "購入点数: 1435点\n",
      "払い戻し合計: 107650.0円\n",
      "投資額: 143500円\n",
      "収支: -35850.0円\n",
      "ROI（回収率）: 75.02%\n"
     ]
    },
    {
     "name": "stderr",
     "output_type": "stream",
     "text": [
      "C:\\Users\\ken05\\AppData\\Local\\Temp\\ipykernel_16400\\2020026333.py:3: PerformanceWarning:\n",
      "\n",
      "DataFrame is highly fragmented.  This is usually the result of calling `frame.insert` many times, which has poor performance.  Consider joining all columns at once using pd.concat(axis=1) instead. To get a de-fragmented frame, use `newframe = frame.copy()`\n",
      "\n",
      "C:\\Users\\ken05\\AppData\\Local\\Temp\\ipykernel_16400\\2020026333.py:4: PerformanceWarning:\n",
      "\n",
      "DataFrame is highly fragmented.  This is usually the result of calling `frame.insert` many times, which has poor performance.  Consider joining all columns at once using pd.concat(axis=1) instead. To get a de-fragmented frame, use `newframe = frame.copy()`\n",
      "\n",
      "C:\\Users\\ken05\\AppData\\Local\\Temp\\ipykernel_16400\\2020026333.py:5: PerformanceWarning:\n",
      "\n",
      "DataFrame is highly fragmented.  This is usually the result of calling `frame.insert` many times, which has poor performance.  Consider joining all columns at once using pd.concat(axis=1) instead. To get a de-fragmented frame, use `newframe = frame.copy()`\n",
      "\n",
      "C:\\Users\\ken05\\AppData\\Local\\Temp\\ipykernel_16400\\2020026333.py:6: PerformanceWarning:\n",
      "\n",
      "DataFrame is highly fragmented.  This is usually the result of calling `frame.insert` many times, which has poor performance.  Consider joining all columns at once using pd.concat(axis=1) instead. To get a de-fragmented frame, use `newframe = frame.copy()`\n",
      "\n"
     ]
    }
   ],
   "source": [
    "# 各レースで、一番確率が高い単勝のみ購入した場合の勝ち額\n",
    "def calc_max_pred_strategy(pred_df):\n",
    "    pred_df[\"max_pred\"] = pred_df.groupby(\"id_for_fold\", observed=True)[\"pred\"].transform(\"max\")\n",
    "    pred_df[\"max_pred_flg\"] = pred_df[\"max_pred\"] == pred_df[\"pred\"]\n",
    "    pred_df[\"bought_ticket_flg\"] = pred_df[\"max_pred_flg\"].astype(int)\n",
    "    pred_df[\"bought_and_winning_odds\"] = pred_df[\"bought_ticket_flg\"] * pred_df[\"target\"] * pred_df[\"win_odds\"]\n",
    "\n",
    "\n",
    "    # とりあえず100円賭ける\n",
    "    total_win = pred_df[\"bought_and_winning_odds\"].sum() * 100  # 払戻額（円単位）\n",
    "    bought_ticket_sum = pred_df[\"bought_ticket_flg\"].sum()\n",
    "    total_bet = bought_ticket_sum * 100  # 賭け金（1点100円）\n",
    "    net_profit = total_win - total_bet\n",
    "\n",
    "    print(f\"購入点数: {bought_ticket_sum}点\")\n",
    "    print(f\"払い戻し合計: {total_win:.1f}円\")\n",
    "    print(f\"投資額: {total_bet}円\")\n",
    "    print(f\"収支: {net_profit:.1f}円\")\n",
    "    print(f\"ROI（回収率）: {total_win / total_bet * 100:.2f}%\")\n",
    "\n",
    "calc_max_pred_strategy(df_pred)"
   ]
  },
  {
   "cell_type": "code",
   "execution_count": 15,
   "id": "f00980cd",
   "metadata": {},
   "outputs": [],
   "source": [
    "# ケリー基準？"
   ]
  }
 ],
 "metadata": {
  "kernelspec": {
   "display_name": ".env",
   "language": "python",
   "name": "python3"
  },
  "language_info": {
   "codemirror_mode": {
    "name": "ipython",
    "version": 3
   },
   "file_extension": ".py",
   "mimetype": "text/x-python",
   "name": "python",
   "nbconvert_exporter": "python",
   "pygments_lexer": "ipython3",
   "version": "3.12.5"
  }
 },
 "nbformat": 4,
 "nbformat_minor": 5
}
