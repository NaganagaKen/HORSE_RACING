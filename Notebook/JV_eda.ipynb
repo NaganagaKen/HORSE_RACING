{
 "cells": [
  {
   "cell_type": "code",
   "execution_count": 1,
   "id": "77a408e7",
   "metadata": {},
   "outputs": [
    {
     "name": "stderr",
     "output_type": "stream",
     "text": [
      "c:\\Users\\ken20\\Documents\\workspaces\\HORSE_RACING\\.env\\Lib\\site-packages\\tqdm\\auto.py:21: TqdmWarning: IProgress not found. Please update jupyter and ipywidgets. See https://ipywidgets.readthedocs.io/en/stable/user_install.html\n",
      "  from .autonotebook import tqdm as notebook_tqdm\n"
     ]
    }
   ],
   "source": [
    "import pandas as pd\n",
    "import numpy as np\n",
    "import matplotlib.pyplot as plt\n",
    "import seaborn as sns\n",
    "from pathlib import Path\n",
    "import sys\n",
    "\n",
    "module_path = (Path().resolve().parent/ \"Modules\")\n",
    "sys.path.append(str(module_path))\n",
    "\n",
    "import my_modules, model_tuner"
   ]
  },
  {
   "cell_type": "code",
   "execution_count": 2,
   "id": "12a1a79c",
   "metadata": {},
   "outputs": [
    {
     "data": {
      "text/html": [
       "<div>\n",
       "<style scoped>\n",
       "    .dataframe tbody tr th:only-of-type {\n",
       "        vertical-align: middle;\n",
       "    }\n",
       "\n",
       "    .dataframe tbody tr th {\n",
       "        vertical-align: top;\n",
       "    }\n",
       "\n",
       "    .dataframe thead th {\n",
       "        text-align: right;\n",
       "    }\n",
       "</style>\n",
       "<table border=\"1\" class=\"dataframe\">\n",
       "  <thead>\n",
       "    <tr style=\"text-align: right;\">\n",
       "      <th></th>\n",
       "      <th>レースID(新)</th>\n",
       "      <th>日付</th>\n",
       "      <th>開催</th>\n",
       "      <th>場所</th>\n",
       "      <th>Ｒ</th>\n",
       "      <th>馬名S</th>\n",
       "      <th>騎手コード</th>\n",
       "      <th>調教師コード</th>\n",
       "      <th>頭数</th>\n",
       "      <th>枠番</th>\n",
       "      <th>...</th>\n",
       "      <th>脚質</th>\n",
       "      <th>人気</th>\n",
       "      <th>賞金</th>\n",
       "      <th>異常コード</th>\n",
       "      <th>種牡馬</th>\n",
       "      <th>母馬</th>\n",
       "      <th>母父馬</th>\n",
       "      <th>母父タイプ名</th>\n",
       "      <th>毛色</th>\n",
       "      <th>血統登録番号</th>\n",
       "    </tr>\n",
       "  </thead>\n",
       "  <tbody>\n",
       "    <tr>\n",
       "      <th>0</th>\n",
       "      <td>202506080503021211</td>\n",
       "      <td>250608</td>\n",
       "      <td>3東2</td>\n",
       "      <td>東京</td>\n",
       "      <td>12</td>\n",
       "      <td>ゴールデンオスカー</td>\n",
       "      <td>1150</td>\n",
       "      <td>1189</td>\n",
       "      <td>14</td>\n",
       "      <td>7</td>\n",
       "      <td>...</td>\n",
       "      <td>中団</td>\n",
       "      <td>7.0</td>\n",
       "      <td>1550</td>\n",
       "      <td>0</td>\n",
       "      <td>スクリーンヒーロー</td>\n",
       "      <td>バラベルサイユ</td>\n",
       "      <td>アグネスデジタル</td>\n",
       "      <td>ネイティヴダンサー系</td>\n",
       "      <td>栗毛</td>\n",
       "      <td>2021101235</td>\n",
       "    </tr>\n",
       "    <tr>\n",
       "      <th>1</th>\n",
       "      <td>202506080503021212</td>\n",
       "      <td>250608</td>\n",
       "      <td>3東2</td>\n",
       "      <td>東京</td>\n",
       "      <td>12</td>\n",
       "      <td>サノノワンダー</td>\n",
       "      <td>1140</td>\n",
       "      <td>1127</td>\n",
       "      <td>14</td>\n",
       "      <td>7</td>\n",
       "      <td>...</td>\n",
       "      <td>後方</td>\n",
       "      <td>1.0</td>\n",
       "      <td>620</td>\n",
       "      <td>0</td>\n",
       "      <td>ヘニーヒューズ</td>\n",
       "      <td>プレトリアン</td>\n",
       "      <td>キングヘイロー</td>\n",
       "      <td>ニアークティック系</td>\n",
       "      <td>鹿毛</td>\n",
       "      <td>2022102039</td>\n",
       "    </tr>\n",
       "    <tr>\n",
       "      <th>2</th>\n",
       "      <td>202506080503021209</td>\n",
       "      <td>250608</td>\n",
       "      <td>3東2</td>\n",
       "      <td>東京</td>\n",
       "      <td>12</td>\n",
       "      <td>トーホウキザン</td>\n",
       "      <td>1215</td>\n",
       "      <td>1135</td>\n",
       "      <td>14</td>\n",
       "      <td>6</td>\n",
       "      <td>...</td>\n",
       "      <td>後方</td>\n",
       "      <td>13.0</td>\n",
       "      <td>390</td>\n",
       "      <td>0</td>\n",
       "      <td>トーホウジャッカル</td>\n",
       "      <td>トーホウドルチェ</td>\n",
       "      <td>サウスヴィグラス</td>\n",
       "      <td>ネイティヴダンサー系</td>\n",
       "      <td>栗毛</td>\n",
       "      <td>2020101764</td>\n",
       "    </tr>\n",
       "    <tr>\n",
       "      <th>3</th>\n",
       "      <td>202506080503021202</td>\n",
       "      <td>250608</td>\n",
       "      <td>3東2</td>\n",
       "      <td>東京</td>\n",
       "      <td>12</td>\n",
       "      <td>マンダリンボレロ</td>\n",
       "      <td>1085</td>\n",
       "      <td>1031</td>\n",
       "      <td>14</td>\n",
       "      <td>2</td>\n",
       "      <td>...</td>\n",
       "      <td>先行</td>\n",
       "      <td>3.0</td>\n",
       "      <td>230</td>\n",
       "      <td>0</td>\n",
       "      <td>スピルバーグ</td>\n",
       "      <td>ジャーメイン</td>\n",
       "      <td>アドマイヤムーン</td>\n",
       "      <td>ネイティヴダンサー系</td>\n",
       "      <td>栗毛</td>\n",
       "      <td>2020101655</td>\n",
       "    </tr>\n",
       "    <tr>\n",
       "      <th>4</th>\n",
       "      <td>202506080503021204</td>\n",
       "      <td>250608</td>\n",
       "      <td>3東2</td>\n",
       "      <td>東京</td>\n",
       "      <td>12</td>\n",
       "      <td>グラヴィス</td>\n",
       "      <td>1163</td>\n",
       "      <td>1075</td>\n",
       "      <td>14</td>\n",
       "      <td>3</td>\n",
       "      <td>...</td>\n",
       "      <td>先行</td>\n",
       "      <td>8.0</td>\n",
       "      <td>155</td>\n",
       "      <td>0</td>\n",
       "      <td>ハーツクライ</td>\n",
       "      <td>ラヴズオンリーミー</td>\n",
       "      <td>Storm Cat</td>\n",
       "      <td>ニアークティック系</td>\n",
       "      <td>鹿毛</td>\n",
       "      <td>2021105831</td>\n",
       "    </tr>\n",
       "  </tbody>\n",
       "</table>\n",
       "<p>5 rows × 63 columns</p>\n",
       "</div>"
      ],
      "text/plain": [
       "             レースID(新)      日付   開催  場所   Ｒ        馬名S  騎手コード  調教師コード  頭数  枠番  \\\n",
       "0  202506080503021211  250608  3東2  東京  12  ゴールデンオスカー   1150    1189  14   7   \n",
       "1  202506080503021212  250608  3東2  東京  12    サノノワンダー   1140    1127  14   7   \n",
       "2  202506080503021209  250608  3東2  東京  12    トーホウキザン   1215    1135  14   6   \n",
       "3  202506080503021202  250608  3東2  東京  12   マンダリンボレロ   1085    1031  14   2   \n",
       "4  202506080503021204  250608  3東2  東京  12      グラヴィス   1163    1075  14   3   \n",
       "\n",
       "   ...  脚質    人気    賞金  異常コード        種牡馬         母馬        母父馬      母父タイプ名  \\\n",
       "0  ...  中団   7.0  1550      0  スクリーンヒーロー    バラベルサイユ   アグネスデジタル  ネイティヴダンサー系   \n",
       "1  ...  後方   1.0   620      0    ヘニーヒューズ     プレトリアン    キングヘイロー   ニアークティック系   \n",
       "2  ...  後方  13.0   390      0  トーホウジャッカル   トーホウドルチェ   サウスヴィグラス  ネイティヴダンサー系   \n",
       "3  ...  先行   3.0   230      0     スピルバーグ     ジャーメイン   アドマイヤムーン  ネイティヴダンサー系   \n",
       "4  ...  先行   8.0   155      0     ハーツクライ  ラヴズオンリーミー  Storm Cat   ニアークティック系   \n",
       "\n",
       "   毛色      血統登録番号  \n",
       "0  栗毛  2021101235  \n",
       "1  鹿毛  2022102039  \n",
       "2  栗毛  2020101764  \n",
       "3  栗毛  2020101655  \n",
       "4  鹿毛  2021105831  \n",
       "\n",
       "[5 rows x 63 columns]"
      ]
     },
     "execution_count": 2,
     "metadata": {},
     "output_type": "execute_result"
    }
   ],
   "source": [
    "df = pd.read_csv(\"../Data/train_data_JV.csv\", encoding=\"shift-jis\")\n",
    "df.head()"
   ]
  },
  {
   "cell_type": "code",
   "execution_count": 3,
   "id": "f73f0dc0",
   "metadata": {},
   "outputs": [
    {
     "name": "stdout",
     "output_type": "stream",
     "text": [
      "<class 'pandas.core.frame.DataFrame'>\n",
      "RangeIndex: 66749 entries, 0 to 66748\n",
      "Data columns (total 63 columns):\n",
      " #   Column       Non-Null Count  Dtype  \n",
      "---  ------       --------------  -----  \n",
      " 0   レースID(新)     66749 non-null  int64  \n",
      " 1   日付           66749 non-null  int64  \n",
      " 2   開催           66749 non-null  object \n",
      " 3   場所           66749 non-null  object \n",
      " 4   Ｒ            66749 non-null  int64  \n",
      " 5   馬名S          66749 non-null  object \n",
      " 6   騎手コード        66749 non-null  int64  \n",
      " 7   調教師コード       66749 non-null  int64  \n",
      " 8   頭数           66749 non-null  int64  \n",
      " 9   枠番           66749 non-null  int64  \n",
      " 10  馬番           66749 non-null  int64  \n",
      " 11  クラスコード       66749 non-null  int64  \n",
      " 12  トラックコード(JV)  66749 non-null  int64  \n",
      " 13  ｺｰﾅｰ         66749 non-null  int64  \n",
      " 14  距離           66749 non-null  object \n",
      " 15  馬場状態         66749 non-null  object \n",
      " 16  天気           66749 non-null  object \n",
      " 17  競走種別         66749 non-null  int64  \n",
      " 18  性別           66749 non-null  object \n",
      " 19  年齢           66749 non-null  int64  \n",
      " 20  斤量           66749 non-null  object \n",
      " 21  ブリンカー        7963 non-null   object \n",
      " 22  馬体重          66640 non-null  float64\n",
      " 23  馬体重増減        60202 non-null  float64\n",
      " 24  重量コード        66749 non-null  int64  \n",
      " 25  単勝オッズ        66491 non-null  float64\n",
      " 26  指時系1・単勝      66749 non-null  float64\n",
      " 27  指時系1・人気      66749 non-null  int64  \n",
      " 28  指時系2・単勝      66749 non-null  float64\n",
      " 29  指時系2・人気      66749 non-null  int64  \n",
      " 30  複勝オッズ下限      66491 non-null  float64\n",
      " 31  複勝オッズ上限      66491 non-null  float64\n",
      " 32  指時系1・複下      66749 non-null  float64\n",
      " 33  複上1          66749 non-null  float64\n",
      " 34  複人気1         66749 non-null  int64  \n",
      " 35  指時系2・複下      66749 non-null  float64\n",
      " 36  複上2          66749 non-null  float64\n",
      " 37  複人気2         66749 non-null  int64  \n",
      " 38  確定着順         66749 non-null  int64  \n",
      " 39  着差           66749 non-null  object \n",
      " 40  走破タイム        66749 non-null  object \n",
      " 41  1角           28306 non-null  float64\n",
      " 42  2角           32529 non-null  float64\n",
      " 43  3角           65886 non-null  float64\n",
      " 44  4角           66368 non-null  float64\n",
      " 45  上り3F         66244 non-null  float64\n",
      " 46  上り3F順        66749 non-null  int64  \n",
      " 47  Ave-3F       66244 non-null  float64\n",
      " 48  PCI          66241 non-null  float64\n",
      " 49  好走           37773 non-null  object \n",
      " 50  PCI3         66749 non-null  float64\n",
      " 51  RPCI         66749 non-null  float64\n",
      " 52  上3F地点差       66244 non-null  float64\n",
      " 53  脚質           66244 non-null  object \n",
      " 54  人気           66491 non-null  float64\n",
      " 55  賞金           66749 non-null  int64  \n",
      " 56  異常コード        66749 non-null  int64  \n",
      " 57  種牡馬          66749 non-null  object \n",
      " 58  母馬           66749 non-null  object \n",
      " 59  母父馬          66749 non-null  object \n",
      " 60  母父タイプ名       62431 non-null  object \n",
      " 61  毛色           66749 non-null  object \n",
      " 62  血統登録番号       66749 non-null  int64  \n",
      "dtypes: float64(22), int64(23), object(18)\n",
      "memory usage: 32.1+ MB\n"
     ]
    }
   ],
   "source": [
    "df.info()"
   ]
  },
  {
   "cell_type": "code",
   "execution_count": 4,
   "id": "921c19aa",
   "metadata": {},
   "outputs": [],
   "source": [
    "def preprocessing(df_to_copy):\n",
    "    df = df_to_copy.copy()\n",
    "    original_col = df.columns.tolist()\n",
    "    df[\"race_id\"] = df[\"レースID(新)\"]\n",
    "    df[\"year\"] = df[\"日付\"] // 10000\n",
    "    df[\"month\"] = df[\"日付\"] // 100 % 100\n",
    "    df[\"day\"] = df[\"日付\"] % 100\n",
    "    df[\"times\"] = df[\"開催\"].str[0].astype(int)\n",
    "    df[\"place\"] = df[\"場所\"]\n",
    "    df[\"daily\"] = df[\"開催\"].str[2]\n",
    "    df[\"race_num\"] = df[\"Ｒ\"]\n",
    "    df[\"horse\"] = df[\"馬名S\"]\n",
    "    df[\"jockey_id\"] = df[\"騎手コード\"]\n",
    "    df[\"trainer_id\"] = df[\"調教師コード\"]\n",
    "    df[\"horse_N\"] = df[\"頭数\"]\n",
    "    df[\"waku_num\"] = df[\"枠番\"]\n",
    "    df[\"horse_num\"] = df[\"馬番\"]\n",
    "    df[\"class_code\"] = df[\"クラスコード\"]\n",
    "    df[\"track_code\"] = df[\"トラックコード(JV)\"]\n",
    "    df[\"corner_num\"] = df[\"ｺｰﾅｰ\"]\n",
    "    df[\"dist\"] = df[\"距離\"].str[1:].astype(int)\n",
    "    df[\"state\"] = df[\"馬場状態\"]\n",
    "    df[\"weather\"] = df[\"天気\"]\n",
    "    df[\"age_code\"] = df[\"競走種別\"]\n",
    "    df[\"sex\"] = df[\"性別\"]\n",
    "    df[\"age\"] = df[\"年齢\"]\n",
    "    df[\"basis_weight\"] = df[\"斤量\"].str.replace(r'[^0-9.]', '', regex=True).astype(float)\n",
    "    df[\"blinker\"] = df[\"ブリンカー\"]\n",
    "    df[\"weight\"] = df[\"馬体重\"]\n",
    "    df[\"inc_dec\"] = df[\"馬体重増減\"]\n",
    "    df[\"weight_code\"] = df[\"重量コード\"]\n",
    "    df[\"win_odds\"] = df[\"単勝オッズ\"]\n",
    "    df[\"win_odds_1\"] = df[\"指時系1・単勝\"]\n",
    "    df[\"win_odds_1_pop\"] = df[\"指時系1・人気\"]\n",
    "    df[\"win_odds_2\"] = df[\"指時系2・単勝\"]\n",
    "    df[\"win_odds_2_pop\"] = df[\"指時系2・人気\"]\n",
    "    df[\"win_mul_odds_Hi\"] = df[\"複勝オッズ上限\"]\n",
    "    df[\"win_mul_odds_Lo\"] = df[\"複勝オッズ下限\"]\n",
    "    df[\"win_mul_odds_1_Hi\"] = df[\"複上1\"]\n",
    "    df[\"win_mul_odds_1_Lo\"] = df[\"指時系1・複下\"]\n",
    "    df[\"win_mul_odds_1_pop\"] = df[\"複人気1\"]\n",
    "    df[\"win_mul_odds_2_Hi\"] = df[\"複上2\"]\n",
    "    df[\"win_mul_odds_2_Lo\"] = df[\"指時系2・複下\"]\n",
    "    df[\"win_mul_odds_2_pop\"] = df[\"複人気2\"]\n",
    "    df[\"rank\"] = df[\"確定着順\"] \n",
    "    df[\"time_diff\"] = df[\"着差\"]\n",
    "    df[\"time\"] = df[\"走破タイム\"]\n",
    "    df[\"corner1_rank\"] = df[\"1角\"]\n",
    "    df[\"corner2_rank\"] = df[\"2角\"]\n",
    "    df[\"corner3_rank\"] = df[\"3角\"]\n",
    "    df[\"corner4_rank\"] = df[\"4角\"]\n",
    "    df[\"last_3F_time\"] = df[\"上り3F\"]\n",
    "    df[\"last_3F_rank\"] = df[\"上り3F順\"]\n",
    "    df[\"Ave_3F\"]= df[\"Ave-3F\"]\n",
    "    original_col.remove(\"PCI\")\n",
    "    original_col.remove(\"PCI3\")\n",
    "    original_col.remove(\"RPCI\")\n",
    "    df[\"last_3F_time_diff\"] = df[\"上3F地点差\"]\n",
    "    df[\"leg\"] = df[\"脚質\"]\n",
    "    df[\"pop\"] = df[\"人気\"]\n",
    "    df[\"prize\"] = df[\"賞金\"]\n",
    "    df[\"error_code\"] = df[\"異常コード\"]\n",
    "    df[\"father\"] = df[\"種牡馬\"]\n",
    "    df[\"mother\"] = df[\"母馬\"]\n",
    "    df[\"broodmare_sire\"] = df[\"母父馬\"]\n",
    "    df[\"broodmare_sire_type\"] = df[\"母父タイプ名\"]\n",
    "    df[\"horse_color\"] = df[\"毛色\"]\n",
    "    df[\"id\"] = df[\"血統登録番号\"]\n",
    "\n",
    "    df = df.drop(original_col, axis=1)\n",
    "\n",
    "    df.info()\n",
    "\n",
    "\n",
    "    return df"
   ]
  },
  {
   "cell_type": "code",
   "execution_count": 5,
   "id": "9b6a339a",
   "metadata": {},
   "outputs": [
    {
     "name": "stdout",
     "output_type": "stream",
     "text": [
      "<class 'pandas.core.frame.DataFrame'>\n",
      "RangeIndex: 66749 entries, 0 to 66748\n",
      "Data columns (total 65 columns):\n",
      " #   Column               Non-Null Count  Dtype  \n",
      "---  ------               --------------  -----  \n",
      " 0   PCI                  66241 non-null  float64\n",
      " 1   PCI3                 66749 non-null  float64\n",
      " 2   RPCI                 66749 non-null  float64\n",
      " 3   race_id              66749 non-null  int64  \n",
      " 4   year                 66749 non-null  int64  \n",
      " 5   month                66749 non-null  int64  \n",
      " 6   day                  66749 non-null  int64  \n",
      " 7   times                66749 non-null  int64  \n",
      " 8   place                66749 non-null  object \n",
      " 9   daily                66749 non-null  object \n",
      " 10  race_num             66749 non-null  int64  \n",
      " 11  horse                66749 non-null  object \n",
      " 12  jockey_id            66749 non-null  int64  \n",
      " 13  trainer_id           66749 non-null  int64  \n",
      " 14  horse_N              66749 non-null  int64  \n",
      " 15  waku_num             66749 non-null  int64  \n",
      " 16  horse_num            66749 non-null  int64  \n",
      " 17  class_code           66749 non-null  int64  \n",
      " 18  track_code           66749 non-null  int64  \n",
      " 19  corner_num           66749 non-null  int64  \n",
      " 20  dist                 66749 non-null  int64  \n",
      " 21  state                66749 non-null  object \n",
      " 22  weather              66749 non-null  object \n",
      " 23  age_code             66749 non-null  int64  \n",
      " 24  sex                  66749 non-null  object \n",
      " 25  age                  66749 non-null  int64  \n",
      " 26  basis_weight         66749 non-null  float64\n",
      " 27  blinker              7963 non-null   object \n",
      " 28  weight               66640 non-null  float64\n",
      " 29  inc_dec              60202 non-null  float64\n",
      " 30  weight_code          66749 non-null  int64  \n",
      " 31  win_odds             66491 non-null  float64\n",
      " 32  win_odds_1           66749 non-null  float64\n",
      " 33  win_odds_1_pop       66749 non-null  int64  \n",
      " 34  win_odds_2           66749 non-null  float64\n",
      " 35  win_odds_2_pop       66749 non-null  int64  \n",
      " 36  win_mul_odds_Hi      66491 non-null  float64\n",
      " 37  win_mul_odds_Lo      66491 non-null  float64\n",
      " 38  win_mul_odds_1_Hi    66749 non-null  float64\n",
      " 39  win_mul_odds_1_Lo    66749 non-null  float64\n",
      " 40  win_mul_odds_1_pop   66749 non-null  int64  \n",
      " 41  win_mul_odds_2_Hi    66749 non-null  float64\n",
      " 42  win_mul_odds_2_Lo    66749 non-null  float64\n",
      " 43  win_mul_odds_2_pop   66749 non-null  int64  \n",
      " 44  rank                 66749 non-null  int64  \n",
      " 45  time_diff            66749 non-null  object \n",
      " 46  time                 66749 non-null  object \n",
      " 47  corner1_rank         28306 non-null  float64\n",
      " 48  corner2_rank         32529 non-null  float64\n",
      " 49  corner3_rank         65886 non-null  float64\n",
      " 50  corner4_rank         66368 non-null  float64\n",
      " 51  last_3F_time         66244 non-null  float64\n",
      " 52  last_3F_rank         66749 non-null  int64  \n",
      " 53  Ave_3F               66244 non-null  float64\n",
      " 54  last_3F_time_diff    66244 non-null  float64\n",
      " 55  leg                  66244 non-null  object \n",
      " 56  pop                  66491 non-null  float64\n",
      " 57  prize                66749 non-null  int64  \n",
      " 58  error_code           66749 non-null  int64  \n",
      " 59  father               66749 non-null  object \n",
      " 60  mother               66749 non-null  object \n",
      " 61  broodmare_sire       66749 non-null  object \n",
      " 62  broodmare_sire_type  62431 non-null  object \n",
      " 63  horse_color          66749 non-null  object \n",
      " 64  id                   66749 non-null  int64  \n",
      "dtypes: float64(23), int64(27), object(15)\n",
      "memory usage: 33.1+ MB\n"
     ]
    }
   ],
   "source": [
    "df2 = preprocessing(df)"
   ]
  },
  {
   "cell_type": "code",
   "execution_count": 6,
   "id": "812a567d",
   "metadata": {},
   "outputs": [
    {
     "name": "stderr",
     "output_type": "stream",
     "text": [
      "C:\\Users\\ken20\\Documents\\workspaces\\HORSE_RACING\\Modules\\my_modules.py:71: FutureWarning: Downcasting behavior in `replace` is deprecated and will be removed in a future version. To retain the old behavior, explicitly call `result.infer_objects(copy=False)`. To opt-in to the future behavior, set `pd.set_option('future.no_silent_downcasting', True)`\n",
      "  df[\"place_num\"] = df[\"place\"].replace(place_dict).astype(int)\n"
     ]
    },
    {
     "data": {
      "text/html": [
       "<div>\n",
       "<style scoped>\n",
       "    .dataframe tbody tr th:only-of-type {\n",
       "        vertical-align: middle;\n",
       "    }\n",
       "\n",
       "    .dataframe tbody tr th {\n",
       "        vertical-align: top;\n",
       "    }\n",
       "\n",
       "    .dataframe thead th {\n",
       "        text-align: right;\n",
       "    }\n",
       "</style>\n",
       "<table border=\"1\" class=\"dataframe\">\n",
       "  <thead>\n",
       "    <tr style=\"text-align: right;\">\n",
       "      <th></th>\n",
       "      <th>PCI</th>\n",
       "      <th>PCI3</th>\n",
       "      <th>RPCI</th>\n",
       "      <th>year</th>\n",
       "      <th>month</th>\n",
       "      <th>day</th>\n",
       "      <th>times</th>\n",
       "      <th>place</th>\n",
       "      <th>daily</th>\n",
       "      <th>race_num</th>\n",
       "      <th>...</th>\n",
       "      <th>id</th>\n",
       "      <th>id_for_fold</th>\n",
       "      <th>field_type</th>\n",
       "      <th>flat_or_jump</th>\n",
       "      <th>turn_type</th>\n",
       "      <th>race_type</th>\n",
       "      <th>waku</th>\n",
       "      <th>datetime</th>\n",
       "      <th>target</th>\n",
       "      <th>target3</th>\n",
       "    </tr>\n",
       "  </thead>\n",
       "  <tbody>\n",
       "    <tr>\n",
       "      <th>66569</th>\n",
       "      <td>43.9</td>\n",
       "      <td>39.77</td>\n",
       "      <td>37.6</td>\n",
       "      <td>2024</td>\n",
       "      <td>1</td>\n",
       "      <td>6</td>\n",
       "      <td>1</td>\n",
       "      <td>中山</td>\n",
       "      <td>1</td>\n",
       "      <td>1</td>\n",
       "      <td>...</td>\n",
       "      <td>2021103189</td>\n",
       "      <td>2024010606010101</td>\n",
       "      <td>ダート</td>\n",
       "      <td>平地</td>\n",
       "      <td>R</td>\n",
       "      <td>中山ダート1200</td>\n",
       "      <td>inner</td>\n",
       "      <td>2024-01-06 01:02:00</td>\n",
       "      <td>0</td>\n",
       "      <td>0</td>\n",
       "    </tr>\n",
       "    <tr>\n",
       "      <th>66555</th>\n",
       "      <td>41.1</td>\n",
       "      <td>39.77</td>\n",
       "      <td>37.6</td>\n",
       "      <td>2024</td>\n",
       "      <td>1</td>\n",
       "      <td>6</td>\n",
       "      <td>1</td>\n",
       "      <td>中山</td>\n",
       "      <td>1</td>\n",
       "      <td>1</td>\n",
       "      <td>...</td>\n",
       "      <td>2021106805</td>\n",
       "      <td>2024010606010101</td>\n",
       "      <td>ダート</td>\n",
       "      <td>平地</td>\n",
       "      <td>R</td>\n",
       "      <td>中山ダート1200</td>\n",
       "      <td>inner</td>\n",
       "      <td>2024-01-06 01:02:00</td>\n",
       "      <td>0</td>\n",
       "      <td>1</td>\n",
       "    </tr>\n",
       "    <tr>\n",
       "      <th>66554</th>\n",
       "      <td>38.6</td>\n",
       "      <td>39.77</td>\n",
       "      <td>37.6</td>\n",
       "      <td>2024</td>\n",
       "      <td>1</td>\n",
       "      <td>6</td>\n",
       "      <td>1</td>\n",
       "      <td>中山</td>\n",
       "      <td>1</td>\n",
       "      <td>1</td>\n",
       "      <td>...</td>\n",
       "      <td>2021105821</td>\n",
       "      <td>2024010606010101</td>\n",
       "      <td>ダート</td>\n",
       "      <td>平地</td>\n",
       "      <td>R</td>\n",
       "      <td>中山ダート1200</td>\n",
       "      <td>outer</td>\n",
       "      <td>2024-01-06 01:02:00</td>\n",
       "      <td>1</td>\n",
       "      <td>1</td>\n",
       "    </tr>\n",
       "    <tr>\n",
       "      <th>66558</th>\n",
       "      <td>42.4</td>\n",
       "      <td>39.77</td>\n",
       "      <td>37.6</td>\n",
       "      <td>2024</td>\n",
       "      <td>1</td>\n",
       "      <td>6</td>\n",
       "      <td>1</td>\n",
       "      <td>中山</td>\n",
       "      <td>1</td>\n",
       "      <td>1</td>\n",
       "      <td>...</td>\n",
       "      <td>2021102752</td>\n",
       "      <td>2024010606010101</td>\n",
       "      <td>ダート</td>\n",
       "      <td>平地</td>\n",
       "      <td>R</td>\n",
       "      <td>中山ダート1200</td>\n",
       "      <td>outer</td>\n",
       "      <td>2024-01-06 01:02:00</td>\n",
       "      <td>0</td>\n",
       "      <td>0</td>\n",
       "    </tr>\n",
       "    <tr>\n",
       "      <th>66559</th>\n",
       "      <td>41.4</td>\n",
       "      <td>39.77</td>\n",
       "      <td>37.6</td>\n",
       "      <td>2024</td>\n",
       "      <td>1</td>\n",
       "      <td>6</td>\n",
       "      <td>1</td>\n",
       "      <td>中山</td>\n",
       "      <td>1</td>\n",
       "      <td>1</td>\n",
       "      <td>...</td>\n",
       "      <td>2021100402</td>\n",
       "      <td>2024010606010101</td>\n",
       "      <td>ダート</td>\n",
       "      <td>平地</td>\n",
       "      <td>R</td>\n",
       "      <td>中山ダート1200</td>\n",
       "      <td>outer</td>\n",
       "      <td>2024-01-06 01:02:00</td>\n",
       "      <td>0</td>\n",
       "      <td>0</td>\n",
       "    </tr>\n",
       "  </tbody>\n",
       "</table>\n",
       "<p>5 rows × 73 columns</p>\n",
       "</div>"
      ],
      "text/plain": [
       "        PCI   PCI3  RPCI  year  month  day  times place daily  race_num  ...  \\\n",
       "66569  43.9  39.77  37.6  2024      1    6      1    中山     1         1  ...   \n",
       "66555  41.1  39.77  37.6  2024      1    6      1    中山     1         1  ...   \n",
       "66554  38.6  39.77  37.6  2024      1    6      1    中山     1         1  ...   \n",
       "66558  42.4  39.77  37.6  2024      1    6      1    中山     1         1  ...   \n",
       "66559  41.4  39.77  37.6  2024      1    6      1    中山     1         1  ...   \n",
       "\n",
       "               id       id_for_fold  field_type flat_or_jump  turn_type  \\\n",
       "66569  2021103189  2024010606010101         ダート           平地          R   \n",
       "66555  2021106805  2024010606010101         ダート           平地          R   \n",
       "66554  2021105821  2024010606010101         ダート           平地          R   \n",
       "66558  2021102752  2024010606010101         ダート           平地          R   \n",
       "66559  2021100402  2024010606010101         ダート           平地          R   \n",
       "\n",
       "       race_type   waku            datetime  target  target3  \n",
       "66569  中山ダート1200  inner 2024-01-06 01:02:00       0        0  \n",
       "66555  中山ダート1200  inner 2024-01-06 01:02:00       0        1  \n",
       "66554  中山ダート1200  outer 2024-01-06 01:02:00       1        1  \n",
       "66558  中山ダート1200  outer 2024-01-06 01:02:00       0        0  \n",
       "66559  中山ダート1200  outer 2024-01-06 01:02:00       0        0  \n",
       "\n",
       "[5 rows x 73 columns]"
      ]
     },
     "execution_count": 6,
     "metadata": {},
     "output_type": "execute_result"
    }
   ],
   "source": [
    "df3 = my_modules.common_process(df2)\n",
    "df3.head()"
   ]
  },
  {
   "cell_type": "code",
   "execution_count": 7,
   "id": "4857cf0e",
   "metadata": {},
   "outputs": [],
   "source": [
    "def feature_engineering(df_to_copy, feature_col_to_copy=None):\n",
    "    if feature_col_to_copy == None :\n",
    "        feature_col_to_copy = [\"waku_num\", \"horse_num\", \"sex\", \"age\", \"basis_weight\", \"blinker\", \"weight\", \"inc_dec\"]\n",
    "    feature_col = feature_col_to_copy.copy()\n",
    "    df = df_to_copy.copy()\n",
    "\n",
    "    # 直近3レースの結果とその平均, 過去全てのレースの記録の平均を追加\n",
    "    last_race_col = [\"weight\", \"inc_dec\", \"last_3F_time\", \"Ave_3F\", \"PCI\"]\n",
    "    for col in last_race_col:\n",
    "        grouped = df.groupby(\"horse\", observed=True)[col]\n",
    "        for i in range(1, 4):\n",
    "            # 過去1-3レースの結果を追加\n",
    "            colname = f\"{col}_last_{i}\"\n",
    "            df[colname] = grouped.shift(1)\n",
    "            feature_col.append(colname)\n",
    "        \n",
    "        # 過去3レース分の結果の平均を追加\n",
    "        df[f\"{col}_mean_last_1_to_3\"] = df[[f\"{col}_last_{i}\" for i in range(1, 4)]].mean(axis=1, skipna=True)\n",
    "        feature_col.append(f\"{col}_mean_last_1_to_3\")\n",
    "\n",
    "        # 過去全レース文の特徴量を追加\n",
    "        cumsum = grouped.cumsum()\n",
    "        count = grouped.cumcount()\n",
    "        df[f\"{col}_mean_all\"] = (cumsum - df[col]) / count.replace(0, np.nan)\n",
    "        feature_col.append(f\"{col}_mean_all\")\n",
    "\n",
    "\n",
    "    # 過去その馬の全てのレースの1着率\n",
    "    df, feature_col = grouped_winning_rate(df, feature_col, cols=[\"horse\"])\n",
    "\n",
    "    df, feature_col = grouped_horse_winning_rate(df, feature_col, cols=[\"dist\"])\n",
    "    df, feature_col = grouped_horse_winning_rate(df, feature_col, cols=[\"track_code\"])\n",
    "    df, feature_col = grouped_horse_winning_rate(df, feature_col, cols=[\"field_type\"])\n",
    "    df, feature_col = grouped_horse_winning_rate(df, feature_col, cols=[\"turn_type\"])\n",
    "    df, feature_col = grouped_horse_winning_rate(df, feature_col, cols=[\"weather\"])\n",
    "    df, feature_col = grouped_horse_winning_rate(df, feature_col, cols=[\"state\"])\n",
    "    df, feature_col = grouped_horse_winning_rate(df, feature_col, cols=[\"place\"])\n",
    "    df, feature_col = grouped_horse_winning_rate(df, feature_col, cols=[\"corner_num\"])\n",
    "    df, feature_col = grouped_horse_winning_rate(df, feature_col, cols=[\"class_code\"])\n",
    "    df, feature_col = grouped_horse_winning_rate(df, feature_col, cols=[\"basis_weight\"])\n",
    "    df, feature_col = grouped_horse_winning_rate(df, feature_col, cols=[\"age_code\"])\n",
    "    df, feature_col = grouped_horse_winning_rate(df, feature_col, cols=[\"weight_code\"])\n",
    "    df, feature_col = grouped_horse_winning_rate(df, feature_col, cols=[\"jockey_id\"])\n",
    "    df, feature_col = grouped_horse_winning_rate(df, feature_col, cols=[\"jockey_id\", \"class_code\"])\n",
    "    df, feature_col = grouped_horse_winning_rate(df, feature_col, cols=[\"jockey_id\", \"place\"])\n",
    "    df, feature_col = grouped_horse_winning_rate(df, feature_col, cols=[\"jockey_id\", \"dist\"])\n",
    "    df, feature_col = grouped_horse_winning_rate(df, feature_col, cols=[\"jockey_id\", \"field_type\"])\n",
    "    df, feature_col = grouped_horse_winning_rate(df, feature_col, cols=[\"jockey_id\", \"place\", \"dist\"])\n",
    "    df, feature_col = grouped_horse_winning_rate(df, feature_col, cols=[\"jockey_id\", \"place\", \"field_type\", \"dist\"])\n",
    "    df, feature_col = grouped_horse_winning_rate(df, feature_col, cols=[\"weather\", \"state\"])\n",
    "    df, feature_col = grouped_horse_winning_rate(df, feature_col, cols=[\"dist\", \"corner_num\"])\n",
    "    df, feature_col = grouped_horse_winning_rate(df, feature_col, cols=[\"dist\", \"track_code\"])\n",
    "    df, feature_col = grouped_horse_winning_rate(df, feature_col, cols=[\"dist\", \"class_code\"])\n",
    "    df, feature_col = grouped_horse_winning_rate(df, feature_col, cols=[\"place\", \"field_type\", \"dist\"])\n",
    "    df, feature_col = grouped_horse_winning_rate(df, feature_col, cols=[\"place\", \"field_type\", \"dist\", \"class_code\"])\n",
    "\n",
    "    # 過去他の馬も含む全レースで同条件でのレースの1着の確率\n",
    "    # dist, field_type, place, race_type系\n",
    "    df, feature_col = grouped_winning_rate(df, feature_col, cols=[\"dist\", \"waku\"])\n",
    "    df, feature_col = grouped_winning_rate(df, feature_col, cols=[\"dist\", \"waku_num\"])\n",
    "    df, feature_col = grouped_winning_rate(df, feature_col, cols=[\"dist\", \"horse_num\"])\n",
    "    df, feature_col = grouped_winning_rate(df, feature_col, cols=[\"field_type\", \"waku\"])\n",
    "    df, feature_col = grouped_winning_rate(df, feature_col, cols=[\"field_type\", \"waku_num\"])\n",
    "    df, feature_col = grouped_winning_rate(df, feature_col, cols=[\"field_type\", \"horse_num\"])\n",
    "    df, feature_col = grouped_winning_rate(df, feature_col, cols=[\"place\", \"waku\"])\n",
    "    df, feature_col = grouped_winning_rate(df, feature_col, cols=[\"place\", \"waku_num\"])\n",
    "    df, feature_col = grouped_winning_rate(df, feature_col, cols=[\"place\", \"horse_num\"])\n",
    "\n",
    "    df, feature_col = grouped_winning_rate(df, feature_col, cols=[\"field_type\", \"dist\", \"waku\"])\n",
    "    df, feature_col = grouped_winning_rate(df, feature_col, cols=[\"field_type\", \"dist\", \"waku_num\"])\n",
    "    df, feature_col = grouped_winning_rate(df, feature_col, cols=[\"field_type\", \"dist\", \"horse_num\"])\n",
    "    df, feature_col = grouped_winning_rate(df, feature_col, cols=[\"dist\", \"place\", \"waku\"])\n",
    "    df, feature_col = grouped_winning_rate(df, feature_col, cols=[\"dist\", \"place\", \"waku_num\"])\n",
    "    df, feature_col = grouped_winning_rate(df, feature_col, cols=[\"dist\", \"place\", \"horse_num\"])\n",
    "    df, feature_col = grouped_winning_rate(df, feature_col, cols=[\"field_type\", \"place\", \"waku\"])\n",
    "    df, feature_col = grouped_winning_rate(df, feature_col, cols=[\"field_type\", \"place\", \"waku_num\"])\n",
    "    df, feature_col = grouped_winning_rate(df, feature_col, cols=[\"field_type\", \"place\", \"horse_num\"])\n",
    "\n",
    "    df, feature_col = grouped_winning_rate(df, feature_col, cols=[\"race_type\", \"waku\"])\n",
    "    df, feature_col = grouped_winning_rate(df, feature_col, cols=[\"race_type\", \"waku_num\"])\n",
    "    df, feature_col = grouped_winning_rate(df, feature_col, cols=[\"race_type\", \"horse_num\"])\n",
    "\n",
    "\n",
    "    # leg系(リーク情報なので一旦停止)\n",
    "    '''\n",
    "    df, feature_col = grouped_leg_winning_rate(df, feature_col, cols=[\"leg\"])\n",
    "    df, feature_col = grouped_leg_winning_rate(df, feature_col, cols=[\"leg\", \"dist\"])\n",
    "    df, feature_col = grouped_leg_winning_rate(df, feature_col, cols=[\"leg\", \"place\"])\n",
    "    df, feature_col = grouped_leg_winning_rate(df, feature_col, cols=[\"leg\", \"field_type\"])\n",
    "    df, feature_col = grouped_leg_winning_rate(df, feature_col, cols=[\"leg\", \"place\", \"field_type\"])\n",
    "    df, feature_col = grouped_leg_winning_rate(df, feature_col, cols=[\"leg\", \"place\", \"dist\"])\n",
    "    df, feature_col = grouped_leg_winning_rate(df, feature_col, cols=[\"leg\", \"dist\", \"field_type\"])\n",
    "    df, feature_col = grouped_leg_winning_rate(df, feature_col, cols=[\"leg\",\"race_type\"])\n",
    "    df, feature_col = grouped_leg_winning_rate(df, feature_col, cols=[\"leg\", \"race_type\", \"waku\"])\n",
    "    df, feature_col = grouped_leg_winning_rate(df, feature_col, cols=[\"leg\", \"race_type\", \"waku_num\"])\n",
    "    df, feature_col = grouped_leg_winning_rate(df, feature_col, cols=[\"leg\",\"race_type\", \"horse_num\"])\n",
    "    '''\n",
    "\n",
    "    # jockey_id系\n",
    "    df, feature_col = grouped_winning_rate(df, feature_col, cols=[\"jockey_id\"])\n",
    "    df, feature_col = grouped_winning_rate(df, feature_col, cols=[\"jockey_id\", \"place\"])\n",
    "    df, feature_col = grouped_winning_rate(df, feature_col, cols=[\"jockey_id\", \"place\", \"dist\"])\n",
    "    df, feature_col = grouped_winning_rate(df, feature_col, cols=[\"jockey_id\", \"field_type\"])\n",
    "    df, feature_col = grouped_winning_rate(df, feature_col, cols=[\"jockey_id\", \"field_type\", \"dist\"])\n",
    "    df, feature_col = grouped_winning_rate(df, feature_col, cols=[\"jockey_id\", \"field_type\", \"place\"])\n",
    "    df, feature_col = grouped_winning_rate(df, feature_col, cols=[\"jockey_id\", \"dist\"])\n",
    "    df, feature_col = grouped_winning_rate(df, feature_col, cols=[\"jockey_id\", \"race_type\"])\n",
    "    df, feature_col = grouped_winning_rate(df, feature_col, cols=[\"jockey_id\", \"race_type\", \"waku\"])\n",
    "    df, feature_col = grouped_winning_rate(df, feature_col, cols=[\"jockey_id\", \"race_type\", \"waku_num\"])\n",
    "    df, feature_col = grouped_winning_rate(df, feature_col, cols=[\"jockey_id\", \"race_type\", \"horse_num\"])\n",
    "    df, feature_col = grouped_winning_rate(df, feature_col, cols=[\"jockey_id\", \"class_code\"])\n",
    "    df, feature_col = grouped_winning_rate(df, feature_col, cols=[\"jockey_id\", \"class_code\", \"place\"])\n",
    "    df, feature_col = grouped_winning_rate(df, feature_col, cols=[\"jockey_id\", \"class_code\", \"dist\"])\n",
    "    df, feature_col = grouped_winning_rate(df, feature_col, cols=[\"jockey_id\", \"class_code\", \"field_type\"])\n",
    "    df, feature_col = grouped_winning_rate(df, feature_col, cols=[\"jockey_id\", \"class_code\", \"race_type\"])\n",
    "    df, feature_col = grouped_winning_rate(df, feature_col, cols=[\"jockey_id\", \"class_code\", \"race_type\", \"waku\"])\n",
    "    df, feature_col = grouped_winning_rate(df, feature_col, cols=[\"jockey_id\", \"class_code\", \"race_type\", \"waku_num\"])\n",
    "    df, feature_col = grouped_winning_rate(df, feature_col, cols=[\"jockey_id\", \"class_code\", \"race_type\", \"horse_num\"])\n",
    "    df, feature_col = grouped_winning_rate(df, feature_col, cols=[\"jockey_id\", \"turn_type\"])\n",
    "    df, feature_col = grouped_winning_rate(df, feature_col, cols=[\"jockey_id\", \"turn_type\", \"dist\"])\n",
    "\n",
    "\n",
    "    # mother系\n",
    "    df, feature_col = grouped_winning_rate(df, feature_col, cols=[\"mother\"])\n",
    "    df, feature_col = grouped_winning_rate(df, feature_col, cols=[\"mother\", \"place\"])\n",
    "    df, feature_col = grouped_winning_rate(df, feature_col, cols=[\"mother\", \"dist\"])\n",
    "    df, feature_col = grouped_winning_rate(df, feature_col, cols=[\"mother\", \"field_type\"])\n",
    "    df, feature_col = grouped_winning_rate(df, feature_col, cols=[\"mother\", \"turn_type\"])\n",
    "    df, feature_col = grouped_winning_rate(df, feature_col, cols=[\"mother\", \"race_type\"])\n",
    "    df, feature_col = grouped_winning_rate(df, feature_col, cols=[\"mother\", \"track_code\"])\n",
    "    df, feature_col = grouped_winning_rate(df, feature_col, cols=[\"mother\", \"class_code\"])\n",
    "    df, feature_col = grouped_winning_rate(df, feature_col, cols=[\"mother\", \"corner_num\"])\n",
    "    df, feature_col = grouped_winning_rate(df, feature_col, cols=[\"mother\", \"waku\"])\n",
    "    df, feature_col = grouped_winning_rate(df, feature_col, cols=[\"mother\", \"waku_num\"])\n",
    "    df, feature_col = grouped_winning_rate(df, feature_col, cols=[\"mother\", \"horse_num\"])\n",
    "\n",
    "    df, feature_col = grouped_winning_rate(df, feature_col, cols=[\"mother\", \"place\", \"dist\"])\n",
    "    df, feature_col = grouped_winning_rate(df, feature_col, cols=[\"mother\", \"place\", \"field_type\"])\n",
    "    df, feature_col = grouped_winning_rate(df, feature_col, cols=[\"mother\", \"dist\", \"field_type\"])\n",
    "\n",
    "    df, feature_col = grouped_winning_rate(df, feature_col, cols=[\"mother\", \"place\", \"dist\", \"waku\"])\n",
    "    df, feature_col = grouped_winning_rate(df, feature_col, cols=[\"mother\", \"place\", \"dist\", \"waku_num\"])\n",
    "    df, feature_col = grouped_winning_rate(df, feature_col, cols=[\"mother\", \"place\", \"dist\", \"horse_num\"])\n",
    "    df, feature_col = grouped_winning_rate(df, feature_col, cols=[\"mother\", \"dist\", \"field_type\", \"waku\"])\n",
    "    df, feature_col = grouped_winning_rate(df, feature_col, cols=[\"mother\", \"dist\", \"field_type\", \"waku_num\"])\n",
    "    df, feature_col = grouped_winning_rate(df, feature_col, cols=[\"mother\", \"dist\", \"field_type\", \"horse_num\"])\n",
    "    df, feature_col = grouped_winning_rate(df, feature_col, cols=[\"mother\", \"field_type\", \"place\", \"waku\"])\n",
    "    df, feature_col = grouped_winning_rate(df, feature_col, cols=[\"mother\", \"field_type\", \"place\", \"waku_num\"])\n",
    "    df, feature_col = grouped_winning_rate(df, feature_col, cols=[\"mother\", \"field_type\", \"place\", \"horse_num\"])\n",
    "\n",
    "    df, feature_col = grouped_winning_rate(df, feature_col, cols=[\"mother\", \"race_type\", \"waku\"])\n",
    "    df, feature_col = grouped_winning_rate(df, feature_col, cols=[\"mother\", \"race_type\", \"waku_num\"])\n",
    "    df, feature_col = grouped_winning_rate(df, feature_col, cols=[\"mother\", \"race_type\", \"horse_num\"])\n",
    "    \n",
    "    # father系\n",
    "    df, feature_col = grouped_winning_rate(df, feature_col, cols=[\"father\"])\n",
    "    df, feature_col = grouped_winning_rate(df, feature_col, cols=[\"father\", \"place\"])\n",
    "    df, feature_col = grouped_winning_rate(df, feature_col, cols=[\"father\", \"dist\"])\n",
    "    df, feature_col = grouped_winning_rate(df, feature_col, cols=[\"father\", \"field_type\"])\n",
    "    df, feature_col = grouped_winning_rate(df, feature_col, cols=[\"father\", \"turn_type\"])\n",
    "    df, feature_col = grouped_winning_rate(df, feature_col, cols=[\"father\", \"race_type\"])\n",
    "    df, feature_col = grouped_winning_rate(df, feature_col, cols=[\"father\", \"track_code\"])\n",
    "    df, feature_col = grouped_winning_rate(df, feature_col, cols=[\"father\", \"class_code\"])\n",
    "    df, feature_col = grouped_winning_rate(df, feature_col, cols=[\"father\", \"corner_num\"])\n",
    "    df, feature_col = grouped_winning_rate(df, feature_col, cols=[\"father\", \"waku\"])\n",
    "    df, feature_col = grouped_winning_rate(df, feature_col, cols=[\"father\", \"waku_num\"])\n",
    "    df, feature_col = grouped_winning_rate(df, feature_col, cols=[\"father\", \"horse_num\"])\n",
    "\n",
    "    df, feature_col = grouped_winning_rate(df, feature_col, cols=[\"father\", \"place\", \"dist\"])\n",
    "    df, feature_col = grouped_winning_rate(df, feature_col, cols=[\"father\", \"place\", \"field_type\"])\n",
    "    df, feature_col = grouped_winning_rate(df, feature_col, cols=[\"father\", \"dist\", \"field_type\"])\n",
    "\n",
    "    df, feature_col = grouped_winning_rate(df, feature_col, cols=[\"father\", \"place\", \"dist\", \"waku\"])\n",
    "    df, feature_col = grouped_winning_rate(df, feature_col, cols=[\"father\", \"place\", \"dist\", \"waku_num\"])\n",
    "    df, feature_col = grouped_winning_rate(df, feature_col, cols=[\"father\", \"place\", \"dist\", \"horse_num\"])\n",
    "    df, feature_col = grouped_winning_rate(df, feature_col, cols=[\"father\", \"dist\", \"field_type\", \"waku\"])\n",
    "    df, feature_col = grouped_winning_rate(df, feature_col, cols=[\"father\", \"dist\", \"field_type\", \"waku_num\"])\n",
    "    df, feature_col = grouped_winning_rate(df, feature_col, cols=[\"father\", \"dist\", \"field_type\", \"horse_num\"])\n",
    "    df, feature_col = grouped_winning_rate(df, feature_col, cols=[\"father\", \"field_type\", \"place\", \"waku\"])\n",
    "    df, feature_col = grouped_winning_rate(df, feature_col, cols=[\"father\", \"field_type\", \"place\", \"waku_num\"])\n",
    "    df, feature_col = grouped_winning_rate(df, feature_col, cols=[\"father\", \"field_type\", \"place\", \"horse_num\"])\n",
    "\n",
    "    df, feature_col = grouped_winning_rate(df, feature_col, cols=[\"father\", \"race_type\", \"waku\"])\n",
    "    df, feature_col = grouped_winning_rate(df, feature_col, cols=[\"father\", \"race_type\", \"waku_num\"])\n",
    "    df, feature_col = grouped_winning_rate(df, feature_col, cols=[\"father\", \"race_type\", \"horse_num\"])\n",
    "    \n",
    "\n",
    "\n",
    "    # その他特徴量を追加\n",
    "    # weightに関する特徴量\n",
    "    # weightは300kg以下の馬がいないことからこのようにした。\n",
    "    df[\"basis_weight_per_weight\"] = df[\"basis_weight\"] / df[\"weight\"].clip(lower=300) * 100 # 斤量/馬体重（％）\n",
    "    feature_col.append(\"basis_weight_per_weight\")\n",
    "    df[\"basis_weight_plus_weight\"] = df[\"basis_weight\"] + df[\"weight\"] # 斤量＋馬体重\n",
    "    feature_col.append(\"basis_weight_plus_weight\")\n",
    "    df[\"inc_dec_rate\"] = df[\"inc_dec\"] / df[\"weight\"].clip(lower=300) * 100 # 増減/馬体重（％）\n",
    "    feature_col.append(\"inc_dec_rate\")\n",
    "\n",
    "    # 生涯獲得賞金\n",
    "    df[\"lifetime_prize\"] = df.groupby(\"horse\", observed=True)[\"prize\"].cumsum() - df[\"prize\"]\n",
    "    feature_col.append(\"lifetime_prize\")\n",
    "    \n",
    "    # 前回と同じfield_typeかどうか\n",
    "    df[\"last_field_type\"] = df.groupby([\"horse\"], observed=True)[\"field_type\"].shift(1)\n",
    "    feature_name = \"is_same_field_type_as_last\"\n",
    "    df[feature_name] =  df[\"field_type\"] == df[\"last_field_type\"]\n",
    "    df[feature_name] = df[feature_name].astype(\"category\")\n",
    "    df = df.drop([\"last_field_type\"], axis=1)\n",
    "    feature_col.append(feature_name)\n",
    "\n",
    "    # 前回と同じクラスか\n",
    "    df[\"last_class_code\"] = df.groupby([\"horse\"], observed=True)[\"class_code\"].shift(1)\n",
    "    feature_name = \"is_same_class_code_as_last\"\n",
    "    df[feature_name] = df[\"class_code\"] == df[\"last_class_code\"]\n",
    "    df[feature_name] = df[feature_name].astype(\"category\")\n",
    "    df = df.drop([\"last_class_code\"], axis=1)\n",
    "    feature_col.append(feature_name)\n",
    "\n",
    "    # 前回と同じジョッキーか\n",
    "    df[\"last_jockey\"] = df.groupby([\"horse\"], observed=True)[\"jockey_id\"].shift(1)\n",
    "    feature_name = \"is_same_jockey_as_last\"\n",
    "    df[feature_name] = df[\"jockey_id\"] == df[\"last_jockey\"]\n",
    "    df[feature_name] = df[feature_name].astype(\"category\")\n",
    "    df = df.drop([\"last_jockey\"], axis=1)\n",
    "    feature_col.append(feature_name)\n",
    "\n",
    "    # 中何日か\n",
    "    df[\"last_race_date\"] = df.groupby(\"horse\", observed=True)[\"datetime\"].shift(1)\n",
    "    df[\"interval\"] = df[\"datetime\"] - df[\"last_race_date\"]\n",
    "    df[\"interval_day\"] = df[\"interval\"].dt.days\n",
    "    df[\"interval_week\"] = df[\"interval_day\"] // 7\n",
    "    df = df.drop([\"last_race_date\", \"interval\"], axis=1)\n",
    "    feature_col.append(\"interval_day\")\n",
    "    feature_col.append(\"interval_week\")\n",
    "\n",
    "\n",
    "    # 最後に全体を正規化（std=1とする)\n",
    "    num_col = df[feature_col].select_dtypes(include=[\"number\"]).columns.tolist()\n",
    "    grouped_mean = df.groupby(\"id_for_fold\", observed=True)[num_col].transform(\"mean\")\n",
    "    grouped_std = df.groupby(\"id_for_fold\", observed=True)[num_col].transform(\"std\")\n",
    "    df[num_col] = (df[num_col] - grouped_mean) / grouped_std\n",
    "\n",
    "    # 後でランキング化とかも付ける予定\n",
    "\n",
    "    # dfを表示\n",
    "    print(feature_col)\n",
    "    display(df.tail())\n",
    "\n",
    "    return df, feature_col\n",
    "\n",
    "\n",
    "# 馬でグループ化したtarget-encodingをする関数\n",
    "def grouped_horse_winning_rate(df_to_copy, feature_col_to_copy, cols=None):\n",
    "    df = df_to_copy.copy()\n",
    "    feature_col = feature_col_to_copy.copy()\n",
    "\n",
    "    if cols == None :\n",
    "        print(\"Error: please select cols\")\n",
    "        return\n",
    "    \n",
    "    # 1着の確率で計算\n",
    "    grouped = df.groupby([\"horse\", *cols], observed=True)[\"target\"]\n",
    "    cumsum = grouped.cumsum()\n",
    "    count = grouped.cumcount()\n",
    "    feature_name = \"horse_win_rate_\" + \"_\".join(cols)\n",
    "    df[feature_name] = (cumsum-df[\"target\"]) / count.replace(0, np.nan)\n",
    "\n",
    "    feature_col.append(feature_name)\n",
    "\n",
    "    # 1-3着の確率で計算\n",
    "    grouped = df.groupby([\"horse\", *cols], observed=True)[\"target3\"]\n",
    "    cumsum = grouped.cumsum()\n",
    "    count = grouped.cumcount()\n",
    "    feature_name = \"horse_win_rate3_\" + \"_\".join(cols)\n",
    "    df[feature_name] = (cumsum-df[\"target3\"]) / count.replace(0, np.nan)\n",
    "\n",
    "    feature_col.append(feature_name)\n",
    "\n",
    "    return df, feature_col\n",
    "\n",
    "\n",
    "# 過去全てのレースでグループ化したtarget-encodingをする関数\n",
    "def grouped_winning_rate(df_to_copy, feature_col_to_copy, cols):\n",
    "    df = df_to_copy.copy()\n",
    "    feature_col = feature_col_to_copy.copy()\n",
    "    grouped1 = df.groupby(cols, observed=True)\n",
    "    grouped2 = df.groupby([\"id_for_fold\", *cols], observed=True)\n",
    "\n",
    "    # 同じ条件で1着になるの確率を計算\n",
    "    bunsi1 = grouped1[\"target\"].cumsum() - grouped2[\"target\"].cumsum()\n",
    "    bunbo1 = grouped1[\"target\"].cumcount() - grouped2[\"target\"].cumcount()\n",
    "\n",
    "    feature_name = \"all_win_rate_\" + \"_\".join(cols)\n",
    "    feature_col.append(feature_name)\n",
    "    df[feature_name] = bunsi1 / bunbo1.replace(0, np.nan)\n",
    "\n",
    "    # 同じ条件で1-3着になるの確率を計算\n",
    "    bunsi3 = grouped1[\"target3\"].cumsum() - grouped2[\"target3\"].cumsum()\n",
    "    bunbo3 = grouped1[\"target3\"].cumcount() - grouped2[\"target3\"].cumcount()\n",
    "\n",
    "    feature_name3 = \"all_win_rate3_\" + \"_\".join(cols)\n",
    "    feature_col.append(feature_name3)\n",
    "    df[feature_name3] = bunsi3 / bunbo3.replace(0, np.nan)\n",
    "\n",
    "\n",
    "    return df, feature_col"
   ]
  },
  {
   "cell_type": "code",
   "execution_count": 8,
   "id": "631ca4ea",
   "metadata": {},
   "outputs": [
    {
     "name": "stdout",
     "output_type": "stream",
     "text": [
      "['waku_num', 'horse_num', 'sex', 'age', 'basis_weight', 'blinker', 'weight', 'inc_dec', 'weight_last_1', 'weight_last_2', 'weight_last_3', 'weight_mean_last_1_to_3', 'weight_mean_all', 'inc_dec_last_1', 'inc_dec_last_2', 'inc_dec_last_3', 'inc_dec_mean_last_1_to_3', 'inc_dec_mean_all', 'last_3F_time_last_1', 'last_3F_time_last_2', 'last_3F_time_last_3', 'last_3F_time_mean_last_1_to_3', 'last_3F_time_mean_all', 'Ave_3F_last_1', 'Ave_3F_last_2', 'Ave_3F_last_3', 'Ave_3F_mean_last_1_to_3', 'Ave_3F_mean_all', 'PCI_last_1', 'PCI_last_2', 'PCI_last_3', 'PCI_mean_last_1_to_3', 'PCI_mean_all', 'all_win_rate_horse', 'all_win_rate3_horse', 'horse_win_rate_dist', 'horse_win_rate3_dist', 'horse_win_rate_track_code', 'horse_win_rate3_track_code', 'horse_win_rate_field_type', 'horse_win_rate3_field_type', 'horse_win_rate_turn_type', 'horse_win_rate3_turn_type', 'horse_win_rate_weather', 'horse_win_rate3_weather', 'horse_win_rate_state', 'horse_win_rate3_state', 'horse_win_rate_place', 'horse_win_rate3_place', 'horse_win_rate_corner_num', 'horse_win_rate3_corner_num', 'horse_win_rate_class_code', 'horse_win_rate3_class_code', 'horse_win_rate_basis_weight', 'horse_win_rate3_basis_weight', 'horse_win_rate_age_code', 'horse_win_rate3_age_code', 'horse_win_rate_weight_code', 'horse_win_rate3_weight_code', 'horse_win_rate_jockey_id', 'horse_win_rate3_jockey_id', 'horse_win_rate_jockey_id_class_code', 'horse_win_rate3_jockey_id_class_code', 'horse_win_rate_jockey_id_place', 'horse_win_rate3_jockey_id_place', 'horse_win_rate_jockey_id_dist', 'horse_win_rate3_jockey_id_dist', 'horse_win_rate_jockey_id_field_type', 'horse_win_rate3_jockey_id_field_type', 'horse_win_rate_jockey_id_place_dist', 'horse_win_rate3_jockey_id_place_dist', 'horse_win_rate_jockey_id_place_field_type_dist', 'horse_win_rate3_jockey_id_place_field_type_dist', 'horse_win_rate_weather_state', 'horse_win_rate3_weather_state', 'horse_win_rate_dist_corner_num', 'horse_win_rate3_dist_corner_num', 'horse_win_rate_dist_track_code', 'horse_win_rate3_dist_track_code', 'horse_win_rate_dist_class_code', 'horse_win_rate3_dist_class_code', 'horse_win_rate_place_field_type_dist', 'horse_win_rate3_place_field_type_dist', 'horse_win_rate_place_field_type_dist_class_code', 'horse_win_rate3_place_field_type_dist_class_code', 'all_win_rate_dist_waku', 'all_win_rate3_dist_waku', 'all_win_rate_dist_waku_num', 'all_win_rate3_dist_waku_num', 'all_win_rate_dist_horse_num', 'all_win_rate3_dist_horse_num', 'all_win_rate_field_type_waku', 'all_win_rate3_field_type_waku', 'all_win_rate_field_type_waku_num', 'all_win_rate3_field_type_waku_num', 'all_win_rate_field_type_horse_num', 'all_win_rate3_field_type_horse_num', 'all_win_rate_place_waku', 'all_win_rate3_place_waku', 'all_win_rate_place_waku_num', 'all_win_rate3_place_waku_num', 'all_win_rate_place_horse_num', 'all_win_rate3_place_horse_num', 'all_win_rate_field_type_dist_waku', 'all_win_rate3_field_type_dist_waku', 'all_win_rate_field_type_dist_waku_num', 'all_win_rate3_field_type_dist_waku_num', 'all_win_rate_field_type_dist_horse_num', 'all_win_rate3_field_type_dist_horse_num', 'all_win_rate_dist_place_waku', 'all_win_rate3_dist_place_waku', 'all_win_rate_dist_place_waku_num', 'all_win_rate3_dist_place_waku_num', 'all_win_rate_dist_place_horse_num', 'all_win_rate3_dist_place_horse_num', 'all_win_rate_field_type_place_waku', 'all_win_rate3_field_type_place_waku', 'all_win_rate_field_type_place_waku_num', 'all_win_rate3_field_type_place_waku_num', 'all_win_rate_field_type_place_horse_num', 'all_win_rate3_field_type_place_horse_num', 'all_win_rate_race_type_waku', 'all_win_rate3_race_type_waku', 'all_win_rate_race_type_waku_num', 'all_win_rate3_race_type_waku_num', 'all_win_rate_race_type_horse_num', 'all_win_rate3_race_type_horse_num', 'all_win_rate_jockey_id', 'all_win_rate3_jockey_id', 'all_win_rate_jockey_id_place', 'all_win_rate3_jockey_id_place', 'all_win_rate_jockey_id_place_dist', 'all_win_rate3_jockey_id_place_dist', 'all_win_rate_jockey_id_field_type', 'all_win_rate3_jockey_id_field_type', 'all_win_rate_jockey_id_field_type_dist', 'all_win_rate3_jockey_id_field_type_dist', 'all_win_rate_jockey_id_field_type_place', 'all_win_rate3_jockey_id_field_type_place', 'all_win_rate_jockey_id_dist', 'all_win_rate3_jockey_id_dist', 'all_win_rate_jockey_id_race_type', 'all_win_rate3_jockey_id_race_type', 'all_win_rate_jockey_id_race_type_waku', 'all_win_rate3_jockey_id_race_type_waku', 'all_win_rate_jockey_id_race_type_waku_num', 'all_win_rate3_jockey_id_race_type_waku_num', 'all_win_rate_jockey_id_race_type_horse_num', 'all_win_rate3_jockey_id_race_type_horse_num', 'all_win_rate_jockey_id_class_code', 'all_win_rate3_jockey_id_class_code', 'all_win_rate_jockey_id_class_code_place', 'all_win_rate3_jockey_id_class_code_place', 'all_win_rate_jockey_id_class_code_dist', 'all_win_rate3_jockey_id_class_code_dist', 'all_win_rate_jockey_id_class_code_field_type', 'all_win_rate3_jockey_id_class_code_field_type', 'all_win_rate_jockey_id_class_code_race_type', 'all_win_rate3_jockey_id_class_code_race_type', 'all_win_rate_jockey_id_class_code_race_type_waku', 'all_win_rate3_jockey_id_class_code_race_type_waku', 'all_win_rate_jockey_id_class_code_race_type_waku_num', 'all_win_rate3_jockey_id_class_code_race_type_waku_num', 'all_win_rate_jockey_id_class_code_race_type_horse_num', 'all_win_rate3_jockey_id_class_code_race_type_horse_num', 'all_win_rate_jockey_id_turn_type', 'all_win_rate3_jockey_id_turn_type', 'all_win_rate_jockey_id_turn_type_dist', 'all_win_rate3_jockey_id_turn_type_dist', 'all_win_rate_mother', 'all_win_rate3_mother', 'all_win_rate_mother_place', 'all_win_rate3_mother_place', 'all_win_rate_mother_dist', 'all_win_rate3_mother_dist', 'all_win_rate_mother_field_type', 'all_win_rate3_mother_field_type', 'all_win_rate_mother_turn_type', 'all_win_rate3_mother_turn_type', 'all_win_rate_mother_race_type', 'all_win_rate3_mother_race_type', 'all_win_rate_mother_track_code', 'all_win_rate3_mother_track_code', 'all_win_rate_mother_class_code', 'all_win_rate3_mother_class_code', 'all_win_rate_mother_corner_num', 'all_win_rate3_mother_corner_num', 'all_win_rate_mother_waku', 'all_win_rate3_mother_waku', 'all_win_rate_mother_waku_num', 'all_win_rate3_mother_waku_num', 'all_win_rate_mother_horse_num', 'all_win_rate3_mother_horse_num', 'all_win_rate_mother_place_dist', 'all_win_rate3_mother_place_dist', 'all_win_rate_mother_place_field_type', 'all_win_rate3_mother_place_field_type', 'all_win_rate_mother_dist_field_type', 'all_win_rate3_mother_dist_field_type', 'all_win_rate_mother_place_dist_waku', 'all_win_rate3_mother_place_dist_waku', 'all_win_rate_mother_place_dist_waku_num', 'all_win_rate3_mother_place_dist_waku_num', 'all_win_rate_mother_place_dist_horse_num', 'all_win_rate3_mother_place_dist_horse_num', 'all_win_rate_mother_dist_field_type_waku', 'all_win_rate3_mother_dist_field_type_waku', 'all_win_rate_mother_dist_field_type_waku_num', 'all_win_rate3_mother_dist_field_type_waku_num', 'all_win_rate_mother_dist_field_type_horse_num', 'all_win_rate3_mother_dist_field_type_horse_num', 'all_win_rate_mother_field_type_place_waku', 'all_win_rate3_mother_field_type_place_waku', 'all_win_rate_mother_field_type_place_waku_num', 'all_win_rate3_mother_field_type_place_waku_num', 'all_win_rate_mother_field_type_place_horse_num', 'all_win_rate3_mother_field_type_place_horse_num', 'all_win_rate_mother_race_type_waku', 'all_win_rate3_mother_race_type_waku', 'all_win_rate_mother_race_type_waku_num', 'all_win_rate3_mother_race_type_waku_num', 'all_win_rate_mother_race_type_horse_num', 'all_win_rate3_mother_race_type_horse_num', 'all_win_rate_father', 'all_win_rate3_father', 'all_win_rate_father_place', 'all_win_rate3_father_place', 'all_win_rate_father_dist', 'all_win_rate3_father_dist', 'all_win_rate_father_field_type', 'all_win_rate3_father_field_type', 'all_win_rate_father_turn_type', 'all_win_rate3_father_turn_type', 'all_win_rate_father_race_type', 'all_win_rate3_father_race_type', 'all_win_rate_father_track_code', 'all_win_rate3_father_track_code', 'all_win_rate_father_class_code', 'all_win_rate3_father_class_code', 'all_win_rate_father_corner_num', 'all_win_rate3_father_corner_num', 'all_win_rate_father_waku', 'all_win_rate3_father_waku', 'all_win_rate_father_waku_num', 'all_win_rate3_father_waku_num', 'all_win_rate_father_horse_num', 'all_win_rate3_father_horse_num', 'all_win_rate_father_place_dist', 'all_win_rate3_father_place_dist', 'all_win_rate_father_place_field_type', 'all_win_rate3_father_place_field_type', 'all_win_rate_father_dist_field_type', 'all_win_rate3_father_dist_field_type', 'all_win_rate_father_place_dist_waku', 'all_win_rate3_father_place_dist_waku', 'all_win_rate_father_place_dist_waku_num', 'all_win_rate3_father_place_dist_waku_num', 'all_win_rate_father_place_dist_horse_num', 'all_win_rate3_father_place_dist_horse_num', 'all_win_rate_father_dist_field_type_waku', 'all_win_rate3_father_dist_field_type_waku', 'all_win_rate_father_dist_field_type_waku_num', 'all_win_rate3_father_dist_field_type_waku_num', 'all_win_rate_father_dist_field_type_horse_num', 'all_win_rate3_father_dist_field_type_horse_num', 'all_win_rate_father_field_type_place_waku', 'all_win_rate3_father_field_type_place_waku', 'all_win_rate_father_field_type_place_waku_num', 'all_win_rate3_father_field_type_place_waku_num', 'all_win_rate_father_field_type_place_horse_num', 'all_win_rate3_father_field_type_place_horse_num', 'all_win_rate_father_race_type_waku', 'all_win_rate3_father_race_type_waku', 'all_win_rate_father_race_type_waku_num', 'all_win_rate3_father_race_type_waku_num', 'all_win_rate_father_race_type_horse_num', 'all_win_rate3_father_race_type_horse_num', 'basis_weight_per_weight', 'basis_weight_plus_weight', 'inc_dec_rate', 'lifetime_prize', 'is_same_field_type_as_last', 'is_same_class_code_as_last', 'is_same_jockey_as_last', 'interval_day', 'interval_week']\n"
     ]
    },
    {
     "data": {
      "text/html": [
       "<div>\n",
       "<style scoped>\n",
       "    .dataframe tbody tr th:only-of-type {\n",
       "        vertical-align: middle;\n",
       "    }\n",
       "\n",
       "    .dataframe tbody tr th {\n",
       "        vertical-align: top;\n",
       "    }\n",
       "\n",
       "    .dataframe thead th {\n",
       "        text-align: right;\n",
       "    }\n",
       "</style>\n",
       "<table border=\"1\" class=\"dataframe\">\n",
       "  <thead>\n",
       "    <tr style=\"text-align: right;\">\n",
       "      <th></th>\n",
       "      <th>PCI</th>\n",
       "      <th>PCI3</th>\n",
       "      <th>RPCI</th>\n",
       "      <th>year</th>\n",
       "      <th>month</th>\n",
       "      <th>day</th>\n",
       "      <th>times</th>\n",
       "      <th>place</th>\n",
       "      <th>daily</th>\n",
       "      <th>race_num</th>\n",
       "      <th>...</th>\n",
       "      <th>all_win_rate3_father_race_type_horse_num</th>\n",
       "      <th>basis_weight_per_weight</th>\n",
       "      <th>basis_weight_plus_weight</th>\n",
       "      <th>inc_dec_rate</th>\n",
       "      <th>lifetime_prize</th>\n",
       "      <th>is_same_field_type_as_last</th>\n",
       "      <th>is_same_class_code_as_last</th>\n",
       "      <th>is_same_jockey_as_last</th>\n",
       "      <th>interval_day</th>\n",
       "      <th>interval_week</th>\n",
       "    </tr>\n",
       "  </thead>\n",
       "  <tbody>\n",
       "    <tr>\n",
       "      <th>201</th>\n",
       "      <td>36.5</td>\n",
       "      <td>46.23</td>\n",
       "      <td>43.7</td>\n",
       "      <td>2025</td>\n",
       "      <td>6</td>\n",
       "      <td>8</td>\n",
       "      <td>3</td>\n",
       "      <td>阪神</td>\n",
       "      <td>2</td>\n",
       "      <td>12</td>\n",
       "      <td>...</td>\n",
       "      <td>-0.707107</td>\n",
       "      <td>0.365615</td>\n",
       "      <td>0.939438</td>\n",
       "      <td>-0.946829</td>\n",
       "      <td>0.512951</td>\n",
       "      <td>True</td>\n",
       "      <td>True</td>\n",
       "      <td>False</td>\n",
       "      <td>-0.890251</td>\n",
       "      <td>-0.895977</td>\n",
       "    </tr>\n",
       "    <tr>\n",
       "      <th>202</th>\n",
       "      <td>37.1</td>\n",
       "      <td>46.23</td>\n",
       "      <td>43.7</td>\n",
       "      <td>2025</td>\n",
       "      <td>6</td>\n",
       "      <td>8</td>\n",
       "      <td>3</td>\n",
       "      <td>阪神</td>\n",
       "      <td>2</td>\n",
       "      <td>12</td>\n",
       "      <td>...</td>\n",
       "      <td>NaN</td>\n",
       "      <td>-0.100380</td>\n",
       "      <td>-0.427017</td>\n",
       "      <td>0.146273</td>\n",
       "      <td>-1.006264</td>\n",
       "      <td>True</td>\n",
       "      <td>True</td>\n",
       "      <td>False</td>\n",
       "      <td>0.893848</td>\n",
       "      <td>0.921216</td>\n",
       "    </tr>\n",
       "    <tr>\n",
       "      <th>203</th>\n",
       "      <td>34.7</td>\n",
       "      <td>46.23</td>\n",
       "      <td>43.7</td>\n",
       "      <td>2025</td>\n",
       "      <td>6</td>\n",
       "      <td>8</td>\n",
       "      <td>3</td>\n",
       "      <td>阪神</td>\n",
       "      <td>2</td>\n",
       "      <td>12</td>\n",
       "      <td>...</td>\n",
       "      <td>NaN</td>\n",
       "      <td>0.121683</td>\n",
       "      <td>-0.661267</td>\n",
       "      <td>0.150041</td>\n",
       "      <td>-0.496015</td>\n",
       "      <td>True</td>\n",
       "      <td>False</td>\n",
       "      <td>True</td>\n",
       "      <td>2.102431</td>\n",
       "      <td>2.132678</td>\n",
       "    </tr>\n",
       "    <tr>\n",
       "      <th>189</th>\n",
       "      <td>42.7</td>\n",
       "      <td>46.23</td>\n",
       "      <td>43.7</td>\n",
       "      <td>2025</td>\n",
       "      <td>6</td>\n",
       "      <td>8</td>\n",
       "      <td>3</td>\n",
       "      <td>阪神</td>\n",
       "      <td>2</td>\n",
       "      <td>12</td>\n",
       "      <td>...</td>\n",
       "      <td>NaN</td>\n",
       "      <td>-0.596756</td>\n",
       "      <td>0.119565</td>\n",
       "      <td>-0.140099</td>\n",
       "      <td>0.714744</td>\n",
       "      <td>True</td>\n",
       "      <td>True</td>\n",
       "      <td>True</td>\n",
       "      <td>0.519763</td>\n",
       "      <td>0.517395</td>\n",
       "    </tr>\n",
       "    <tr>\n",
       "      <th>194</th>\n",
       "      <td>47.3</td>\n",
       "      <td>46.23</td>\n",
       "      <td>43.7</td>\n",
       "      <td>2025</td>\n",
       "      <td>6</td>\n",
       "      <td>8</td>\n",
       "      <td>3</td>\n",
       "      <td>阪神</td>\n",
       "      <td>2</td>\n",
       "      <td>12</td>\n",
       "      <td>...</td>\n",
       "      <td>NaN</td>\n",
       "      <td>0.311946</td>\n",
       "      <td>-0.114685</td>\n",
       "      <td>-0.140099</td>\n",
       "      <td>-0.190442</td>\n",
       "      <td>False</td>\n",
       "      <td>True</td>\n",
       "      <td>False</td>\n",
       "      <td>0.088126</td>\n",
       "      <td>0.113575</td>\n",
       "    </tr>\n",
       "  </tbody>\n",
       "</table>\n",
       "<p>5 rows × 351 columns</p>\n",
       "</div>"
      ],
      "text/plain": [
       "      PCI   PCI3  RPCI  year  month  day  times place daily  race_num  ...  \\\n",
       "201  36.5  46.23  43.7  2025      6    8      3    阪神     2        12  ...   \n",
       "202  37.1  46.23  43.7  2025      6    8      3    阪神     2        12  ...   \n",
       "203  34.7  46.23  43.7  2025      6    8      3    阪神     2        12  ...   \n",
       "189  42.7  46.23  43.7  2025      6    8      3    阪神     2        12  ...   \n",
       "194  47.3  46.23  43.7  2025      6    8      3    阪神     2        12  ...   \n",
       "\n",
       "    all_win_rate3_father_race_type_horse_num basis_weight_per_weight  \\\n",
       "201                                -0.707107                0.365615   \n",
       "202                                      NaN               -0.100380   \n",
       "203                                      NaN                0.121683   \n",
       "189                                      NaN               -0.596756   \n",
       "194                                      NaN                0.311946   \n",
       "\n",
       "     basis_weight_plus_weight inc_dec_rate  lifetime_prize  \\\n",
       "201                  0.939438    -0.946829        0.512951   \n",
       "202                 -0.427017     0.146273       -1.006264   \n",
       "203                 -0.661267     0.150041       -0.496015   \n",
       "189                  0.119565    -0.140099        0.714744   \n",
       "194                 -0.114685    -0.140099       -0.190442   \n",
       "\n",
       "     is_same_field_type_as_last is_same_class_code_as_last  \\\n",
       "201                        True                       True   \n",
       "202                        True                       True   \n",
       "203                        True                      False   \n",
       "189                        True                       True   \n",
       "194                       False                       True   \n",
       "\n",
       "    is_same_jockey_as_last  interval_day  interval_week  \n",
       "201                  False     -0.890251      -0.895977  \n",
       "202                  False      0.893848       0.921216  \n",
       "203                   True      2.102431       2.132678  \n",
       "189                   True      0.519763       0.517395  \n",
       "194                  False      0.088126       0.113575  \n",
       "\n",
       "[5 rows x 351 columns]"
      ]
     },
     "metadata": {},
     "output_type": "display_data"
    }
   ],
   "source": [
    "feature_col = [\"waku_num\", \"horse_num\", \"sex\", \"age\", \"basis_weight\", \"blinker\", \"weight\", \"inc_dec\"]\n",
    "df4, feature_col2 = feature_engineering(df3, feature_col)"
   ]
  },
  {
   "cell_type": "code",
   "execution_count": 9,
   "id": "eb7500aa",
   "metadata": {},
   "outputs": [
    {
     "name": "stderr",
     "output_type": "stream",
     "text": [
      "[I 2025-06-12 17:57:39,730] A new study created in memory with name: no-name-a90d005f-c7fc-4886-87d3-07618a37ac03\n",
      "[I 2025-06-12 17:57:44,412] Trial 0 finished with value: 0.2452728425822853 and parameters: {'max_bin': 102, 'num_leaves': 96, 'min_data_in_leaf': 37, 'min_sum_hessian_in_leaf': 5.9865848459837805, 'bagging_fraction': 0.3248149123539492, 'bagging_freq': 16, 'feature_fraction': 0.15227525095137953, 'lambda_l1': 0.6245760287469893, 'lambda_l2': 0.002570603566117598, 'min_gain_to_split': 7.080725777960454, 'max_depth': 4, 'learning_rate': 0.7579479953348001, 'path_smooth': 8.324426408004218}. Best is trial 0 with value: 0.2452728425822853.\n",
      "[I 2025-06-12 17:58:11,269] Trial 1 finished with value: 0.22922544604673095 and parameters: {'max_bin': 62, 'num_leaves': 20, 'min_data_in_leaf': 10, 'min_sum_hessian_in_leaf': 3.0424224365529544, 'bagging_fraction': 0.6198051453057902, 'bagging_freq': 44, 'feature_fraction': 0.36210622617823773, 'lambda_l1': 0.0032112643094417484, 'lambda_l2': 1.8007140198129195e-07, 'min_gain_to_split': 2.9214464853521815, 'max_depth': 38, 'learning_rate': 0.006672367170464205, 'path_smooth': 7.851759613930136}. Best is trial 1 with value: 0.22922544604673095.\n",
      "[I 2025-06-12 17:58:37,880] Trial 2 finished with value: 0.2516210526252627 and parameters: {'max_bin': 59, 'num_leaves': 52, 'min_data_in_leaf': 30, 'min_sum_hessian_in_leaf': 0.4645041367354731, 'bagging_fraction': 0.6860358815211507, 'bagging_freq': 18, 'feature_fraction': 0.1585464336867516, 'lambda_l1': 3.4671276804481113, 'lambda_l2': 4.905556676028774, 'min_gain_to_split': 8.08397348116461, 'max_depth': 32, 'learning_rate': 0.00024586032763280086, 'path_smooth': 6.842330265121569}. Best is trial 1 with value: 0.22922544604673095.\n",
      "[I 2025-06-12 17:58:42,184] Trial 3 finished with value: 0.2409988343924512 and parameters: {'max_bin': 118, 'num_leaves': 14, 'min_data_in_leaf': 25, 'min_sum_hessian_in_leaf': 0.3438852208082987, 'bagging_fraction': 0.9274563216630256, 'bagging_freq': 26, 'feature_fraction': 0.6962700559185838, 'lambda_l1': 6.388511557344611e-06, 'lambda_l2': 0.0004793052550782129, 'min_gain_to_split': 5.4671027934327965, 'max_depth': 20, 'learning_rate': 0.755681014127442, 'path_smooth': 7.7513282336111455}. Best is trial 1 with value: 0.22922544604673095.\n",
      "[I 2025-06-12 17:59:06,990] Trial 4 finished with value: 0.2307677505309436 and parameters: {'max_bin': 241, 'num_leaves': 90, 'min_data_in_leaf': 30, 'min_sum_hessian_in_leaf': 9.218742351012425, 'bagging_fraction': 0.2707940016415356, 'bagging_freq': 20, 'feature_fraction': 0.14070456001948428, 'lambda_l1': 8.471746987003668e-06, 'lambda_l2': 3.148441347423712e-05, 'min_gain_to_split': 2.713490317738959, 'max_depth': 84, 'learning_rate': 0.0026730883107816713, 'path_smooth': 2.8093450968738076}. Best is trial 1 with value: 0.22922544604673095.\n",
      "[I 2025-06-12 17:59:12,146] Trial 5 finished with value: 0.23003906645136785 and parameters: {'max_bin': 143, 'num_leaves': 15, 'min_data_in_leaf': 41, 'min_sum_hessian_in_leaf': 0.7455064460522017, 'bagging_fraction': 0.9895095492804138, 'bagging_freq': 78, 'feature_fraction': 0.2788441133807552, 'lambda_l1': 1.1212412169964432e-08, 'lambda_l2': 0.2183498289760726, 'min_gain_to_split': 7.068573438476172, 'max_depth': 74, 'learning_rate': 0.12164139351417062, 'path_smooth': 0.7404465173409036}. Best is trial 1 with value: 0.22922544604673095.\n",
      "[I 2025-06-12 17:59:26,880] Trial 6 finished with value: 0.22868153609226768 and parameters: {'max_bin': 98, 'num_leaves': 13, 'min_data_in_leaf': 44, 'min_sum_hessian_in_leaf': 6.232981272042597, 'bagging_fraction': 0.46471841988211937, 'bagging_freq': 7, 'feature_fraction': 0.379884089544096, 'lambda_l1': 8.445977074223802e-06, 'lambda_l2': 0.036851536911881845, 'min_gain_to_split': 6.3755747135521315, 'max_depth': 89, 'learning_rate': 0.007742116473996248, 'path_smooth': 1.195942459383017}. Best is trial 6 with value: 0.22868153609226768.\n",
      "[I 2025-06-12 18:01:30,996] Trial 7 finished with value: 0.2314729852159875 and parameters: {'max_bin': 185, 'num_leaves': 77, 'min_data_in_leaf': 29, 'min_sum_hessian_in_leaf': 7.709671801835937, 'bagging_fraction': 0.5950364770915126, 'bagging_freq': 53, 'feature_fraction': 0.4847869165226947, 'lambda_l1': 1.6934490731313353e-08, 'lambda_l2': 9.354548757337708e-08, 'min_gain_to_split': 0.3142918568673425, 'max_depth': 65, 'learning_rate': 0.0018089390092767149, 'path_smooth': 5.085706911647028}. Best is trial 6 with value: 0.22868153609226768.\n",
      "[I 2025-06-12 18:01:35,209] Trial 8 finished with value: 0.23292936134415104 and parameters: {'max_bin': 233, 'num_leaves': 26, 'min_data_in_leaf': 21, 'min_sum_hessian_in_leaf': 7.555511387874975, 'bagging_fraction': 0.383038532393298, 'bagging_freq': 8, 'feature_fraction': 0.3607763076223912, 'lambda_l1': 2.824825241715838e-07, 'lambda_l2': 2.3295866619309256, 'min_gain_to_split': 8.08120379564417, 'max_depth': 64, 'learning_rate': 0.3060852210672247, 'path_smooth': 8.036720768991145}. Best is trial 6 with value: 0.22868153609226768.\n",
      "[I 2025-06-12 18:02:09,074] Trial 9 finished with value: 0.2543308307969691 and parameters: {'max_bin': 55, 'num_leaves': 90, 'min_data_in_leaf': 27, 'min_sum_hessian_in_leaf': 8.074401553566224, 'bagging_fraction': 0.9168730399387945, 'bagging_freq': 32, 'feature_fraction': 0.19904673207490908, 'lambda_l1': 1.1256839212661599e-06, 'lambda_l2': 6.98184330520185e-05, 'min_gain_to_split': 8.18014765922493, 'max_depth': 87, 'learning_rate': 0.00010661259689433907, 'path_smooth': 5.107473025775658}. Best is trial 6 with value: 0.22868153609226768.\n"
     ]
    },
    {
     "name": "stdout",
     "output_type": "stream",
     "text": [
      "Best params :  {'max_bin': 98, 'num_leaves': 13, 'min_data_in_leaf': 44, 'min_sum_hessian_in_leaf': 6.232981272042597, 'bagging_fraction': 0.46471841988211937, 'bagging_freq': 7, 'feature_fraction': 0.379884089544096, 'lambda_l1': 8.445977074223802e-06, 'lambda_l2': 0.036851536911881845, 'min_gain_to_split': 6.3755747135521315, 'max_depth': 89, 'learning_rate': 0.007742116473996248, 'path_smooth': 1.195942459383017}\n"
     ]
    },
    {
     "data": {
      "application/vnd.plotly.v1+json": {
       "config": {
        "plotlyServerURL": "https://plot.ly"
       },
       "data": [
        {
         "cliponaxis": false,
         "hovertemplate": [
          "min_data_in_leaf (IntDistribution): 0.011613014316308127<extra></extra>",
          "bagging_freq (IntDistribution): 0.015987163865774496<extra></extra>",
          "lambda_l2 (FloatDistribution): 0.018554729929473265<extra></extra>",
          "lambda_l1 (FloatDistribution): 0.021957853045060215<extra></extra>",
          "path_smooth (FloatDistribution): 0.03460521842942384<extra></extra>",
          "num_leaves (IntDistribution): 0.03705678921886561<extra></extra>",
          "min_sum_hessian_in_leaf (FloatDistribution): 0.06858545487602749<extra></extra>",
          "learning_rate (FloatDistribution): 0.0754566249795283<extra></extra>",
          "bagging_fraction (FloatDistribution): 0.07675056893063573<extra></extra>",
          "min_gain_to_split (FloatDistribution): 0.12144323690312324<extra></extra>",
          "feature_fraction (FloatDistribution): 0.13062533166248552<extra></extra>",
          "max_bin (IntDistribution): 0.14590610426366746<extra></extra>",
          "max_depth (IntDistribution): 0.24145790957962662<extra></extra>"
         ],
         "name": "Objective Value",
         "orientation": "h",
         "text": [
          "0.01",
          "0.02",
          "0.02",
          "0.02",
          "0.03",
          "0.04",
          "0.07",
          "0.08",
          "0.08",
          "0.12",
          "0.13",
          "0.15",
          "0.24"
         ],
         "textposition": "outside",
         "type": "bar",
         "x": [
          0.011613014316308127,
          0.015987163865774496,
          0.018554729929473265,
          0.021957853045060215,
          0.03460521842942384,
          0.03705678921886561,
          0.06858545487602749,
          0.0754566249795283,
          0.07675056893063573,
          0.12144323690312324,
          0.13062533166248552,
          0.14590610426366746,
          0.24145790957962662
         ],
         "y": [
          "min_data_in_leaf",
          "bagging_freq",
          "lambda_l2",
          "lambda_l1",
          "path_smooth",
          "num_leaves",
          "min_sum_hessian_in_leaf",
          "learning_rate",
          "bagging_fraction",
          "min_gain_to_split",
          "feature_fraction",
          "max_bin",
          "max_depth"
         ]
        }
       ],
       "layout": {
        "template": {
         "data": {
          "bar": [
           {
            "error_x": {
             "color": "#2a3f5f"
            },
            "error_y": {
             "color": "#2a3f5f"
            },
            "marker": {
             "line": {
              "color": "#E5ECF6",
              "width": 0.5
             },
             "pattern": {
              "fillmode": "overlay",
              "size": 10,
              "solidity": 0.2
             }
            },
            "type": "bar"
           }
          ],
          "barpolar": [
           {
            "marker": {
             "line": {
              "color": "#E5ECF6",
              "width": 0.5
             },
             "pattern": {
              "fillmode": "overlay",
              "size": 10,
              "solidity": 0.2
             }
            },
            "type": "barpolar"
           }
          ],
          "carpet": [
           {
            "aaxis": {
             "endlinecolor": "#2a3f5f",
             "gridcolor": "white",
             "linecolor": "white",
             "minorgridcolor": "white",
             "startlinecolor": "#2a3f5f"
            },
            "baxis": {
             "endlinecolor": "#2a3f5f",
             "gridcolor": "white",
             "linecolor": "white",
             "minorgridcolor": "white",
             "startlinecolor": "#2a3f5f"
            },
            "type": "carpet"
           }
          ],
          "choropleth": [
           {
            "colorbar": {
             "outlinewidth": 0,
             "ticks": ""
            },
            "type": "choropleth"
           }
          ],
          "contour": [
           {
            "colorbar": {
             "outlinewidth": 0,
             "ticks": ""
            },
            "colorscale": [
             [
              0,
              "#0d0887"
             ],
             [
              0.1111111111111111,
              "#46039f"
             ],
             [
              0.2222222222222222,
              "#7201a8"
             ],
             [
              0.3333333333333333,
              "#9c179e"
             ],
             [
              0.4444444444444444,
              "#bd3786"
             ],
             [
              0.5555555555555556,
              "#d8576b"
             ],
             [
              0.6666666666666666,
              "#ed7953"
             ],
             [
              0.7777777777777778,
              "#fb9f3a"
             ],
             [
              0.8888888888888888,
              "#fdca26"
             ],
             [
              1,
              "#f0f921"
             ]
            ],
            "type": "contour"
           }
          ],
          "contourcarpet": [
           {
            "colorbar": {
             "outlinewidth": 0,
             "ticks": ""
            },
            "type": "contourcarpet"
           }
          ],
          "heatmap": [
           {
            "colorbar": {
             "outlinewidth": 0,
             "ticks": ""
            },
            "colorscale": [
             [
              0,
              "#0d0887"
             ],
             [
              0.1111111111111111,
              "#46039f"
             ],
             [
              0.2222222222222222,
              "#7201a8"
             ],
             [
              0.3333333333333333,
              "#9c179e"
             ],
             [
              0.4444444444444444,
              "#bd3786"
             ],
             [
              0.5555555555555556,
              "#d8576b"
             ],
             [
              0.6666666666666666,
              "#ed7953"
             ],
             [
              0.7777777777777778,
              "#fb9f3a"
             ],
             [
              0.8888888888888888,
              "#fdca26"
             ],
             [
              1,
              "#f0f921"
             ]
            ],
            "type": "heatmap"
           }
          ],
          "histogram": [
           {
            "marker": {
             "pattern": {
              "fillmode": "overlay",
              "size": 10,
              "solidity": 0.2
             }
            },
            "type": "histogram"
           }
          ],
          "histogram2d": [
           {
            "colorbar": {
             "outlinewidth": 0,
             "ticks": ""
            },
            "colorscale": [
             [
              0,
              "#0d0887"
             ],
             [
              0.1111111111111111,
              "#46039f"
             ],
             [
              0.2222222222222222,
              "#7201a8"
             ],
             [
              0.3333333333333333,
              "#9c179e"
             ],
             [
              0.4444444444444444,
              "#bd3786"
             ],
             [
              0.5555555555555556,
              "#d8576b"
             ],
             [
              0.6666666666666666,
              "#ed7953"
             ],
             [
              0.7777777777777778,
              "#fb9f3a"
             ],
             [
              0.8888888888888888,
              "#fdca26"
             ],
             [
              1,
              "#f0f921"
             ]
            ],
            "type": "histogram2d"
           }
          ],
          "histogram2dcontour": [
           {
            "colorbar": {
             "outlinewidth": 0,
             "ticks": ""
            },
            "colorscale": [
             [
              0,
              "#0d0887"
             ],
             [
              0.1111111111111111,
              "#46039f"
             ],
             [
              0.2222222222222222,
              "#7201a8"
             ],
             [
              0.3333333333333333,
              "#9c179e"
             ],
             [
              0.4444444444444444,
              "#bd3786"
             ],
             [
              0.5555555555555556,
              "#d8576b"
             ],
             [
              0.6666666666666666,
              "#ed7953"
             ],
             [
              0.7777777777777778,
              "#fb9f3a"
             ],
             [
              0.8888888888888888,
              "#fdca26"
             ],
             [
              1,
              "#f0f921"
             ]
            ],
            "type": "histogram2dcontour"
           }
          ],
          "mesh3d": [
           {
            "colorbar": {
             "outlinewidth": 0,
             "ticks": ""
            },
            "type": "mesh3d"
           }
          ],
          "parcoords": [
           {
            "line": {
             "colorbar": {
              "outlinewidth": 0,
              "ticks": ""
             }
            },
            "type": "parcoords"
           }
          ],
          "pie": [
           {
            "automargin": true,
            "type": "pie"
           }
          ],
          "scatter": [
           {
            "fillpattern": {
             "fillmode": "overlay",
             "size": 10,
             "solidity": 0.2
            },
            "type": "scatter"
           }
          ],
          "scatter3d": [
           {
            "line": {
             "colorbar": {
              "outlinewidth": 0,
              "ticks": ""
             }
            },
            "marker": {
             "colorbar": {
              "outlinewidth": 0,
              "ticks": ""
             }
            },
            "type": "scatter3d"
           }
          ],
          "scattercarpet": [
           {
            "marker": {
             "colorbar": {
              "outlinewidth": 0,
              "ticks": ""
             }
            },
            "type": "scattercarpet"
           }
          ],
          "scattergeo": [
           {
            "marker": {
             "colorbar": {
              "outlinewidth": 0,
              "ticks": ""
             }
            },
            "type": "scattergeo"
           }
          ],
          "scattergl": [
           {
            "marker": {
             "colorbar": {
              "outlinewidth": 0,
              "ticks": ""
             }
            },
            "type": "scattergl"
           }
          ],
          "scattermap": [
           {
            "marker": {
             "colorbar": {
              "outlinewidth": 0,
              "ticks": ""
             }
            },
            "type": "scattermap"
           }
          ],
          "scattermapbox": [
           {
            "marker": {
             "colorbar": {
              "outlinewidth": 0,
              "ticks": ""
             }
            },
            "type": "scattermapbox"
           }
          ],
          "scatterpolar": [
           {
            "marker": {
             "colorbar": {
              "outlinewidth": 0,
              "ticks": ""
             }
            },
            "type": "scatterpolar"
           }
          ],
          "scatterpolargl": [
           {
            "marker": {
             "colorbar": {
              "outlinewidth": 0,
              "ticks": ""
             }
            },
            "type": "scatterpolargl"
           }
          ],
          "scatterternary": [
           {
            "marker": {
             "colorbar": {
              "outlinewidth": 0,
              "ticks": ""
             }
            },
            "type": "scatterternary"
           }
          ],
          "surface": [
           {
            "colorbar": {
             "outlinewidth": 0,
             "ticks": ""
            },
            "colorscale": [
             [
              0,
              "#0d0887"
             ],
             [
              0.1111111111111111,
              "#46039f"
             ],
             [
              0.2222222222222222,
              "#7201a8"
             ],
             [
              0.3333333333333333,
              "#9c179e"
             ],
             [
              0.4444444444444444,
              "#bd3786"
             ],
             [
              0.5555555555555556,
              "#d8576b"
             ],
             [
              0.6666666666666666,
              "#ed7953"
             ],
             [
              0.7777777777777778,
              "#fb9f3a"
             ],
             [
              0.8888888888888888,
              "#fdca26"
             ],
             [
              1,
              "#f0f921"
             ]
            ],
            "type": "surface"
           }
          ],
          "table": [
           {
            "cells": {
             "fill": {
              "color": "#EBF0F8"
             },
             "line": {
              "color": "white"
             }
            },
            "header": {
             "fill": {
              "color": "#C8D4E3"
             },
             "line": {
              "color": "white"
             }
            },
            "type": "table"
           }
          ]
         },
         "layout": {
          "annotationdefaults": {
           "arrowcolor": "#2a3f5f",
           "arrowhead": 0,
           "arrowwidth": 1
          },
          "autotypenumbers": "strict",
          "coloraxis": {
           "colorbar": {
            "outlinewidth": 0,
            "ticks": ""
           }
          },
          "colorscale": {
           "diverging": [
            [
             0,
             "#8e0152"
            ],
            [
             0.1,
             "#c51b7d"
            ],
            [
             0.2,
             "#de77ae"
            ],
            [
             0.3,
             "#f1b6da"
            ],
            [
             0.4,
             "#fde0ef"
            ],
            [
             0.5,
             "#f7f7f7"
            ],
            [
             0.6,
             "#e6f5d0"
            ],
            [
             0.7,
             "#b8e186"
            ],
            [
             0.8,
             "#7fbc41"
            ],
            [
             0.9,
             "#4d9221"
            ],
            [
             1,
             "#276419"
            ]
           ],
           "sequential": [
            [
             0,
             "#0d0887"
            ],
            [
             0.1111111111111111,
             "#46039f"
            ],
            [
             0.2222222222222222,
             "#7201a8"
            ],
            [
             0.3333333333333333,
             "#9c179e"
            ],
            [
             0.4444444444444444,
             "#bd3786"
            ],
            [
             0.5555555555555556,
             "#d8576b"
            ],
            [
             0.6666666666666666,
             "#ed7953"
            ],
            [
             0.7777777777777778,
             "#fb9f3a"
            ],
            [
             0.8888888888888888,
             "#fdca26"
            ],
            [
             1,
             "#f0f921"
            ]
           ],
           "sequentialminus": [
            [
             0,
             "#0d0887"
            ],
            [
             0.1111111111111111,
             "#46039f"
            ],
            [
             0.2222222222222222,
             "#7201a8"
            ],
            [
             0.3333333333333333,
             "#9c179e"
            ],
            [
             0.4444444444444444,
             "#bd3786"
            ],
            [
             0.5555555555555556,
             "#d8576b"
            ],
            [
             0.6666666666666666,
             "#ed7953"
            ],
            [
             0.7777777777777778,
             "#fb9f3a"
            ],
            [
             0.8888888888888888,
             "#fdca26"
            ],
            [
             1,
             "#f0f921"
            ]
           ]
          },
          "colorway": [
           "#636efa",
           "#EF553B",
           "#00cc96",
           "#ab63fa",
           "#FFA15A",
           "#19d3f3",
           "#FF6692",
           "#B6E880",
           "#FF97FF",
           "#FECB52"
          ],
          "font": {
           "color": "#2a3f5f"
          },
          "geo": {
           "bgcolor": "white",
           "lakecolor": "white",
           "landcolor": "#E5ECF6",
           "showlakes": true,
           "showland": true,
           "subunitcolor": "white"
          },
          "hoverlabel": {
           "align": "left"
          },
          "hovermode": "closest",
          "mapbox": {
           "style": "light"
          },
          "paper_bgcolor": "white",
          "plot_bgcolor": "#E5ECF6",
          "polar": {
           "angularaxis": {
            "gridcolor": "white",
            "linecolor": "white",
            "ticks": ""
           },
           "bgcolor": "#E5ECF6",
           "radialaxis": {
            "gridcolor": "white",
            "linecolor": "white",
            "ticks": ""
           }
          },
          "scene": {
           "xaxis": {
            "backgroundcolor": "#E5ECF6",
            "gridcolor": "white",
            "gridwidth": 2,
            "linecolor": "white",
            "showbackground": true,
            "ticks": "",
            "zerolinecolor": "white"
           },
           "yaxis": {
            "backgroundcolor": "#E5ECF6",
            "gridcolor": "white",
            "gridwidth": 2,
            "linecolor": "white",
            "showbackground": true,
            "ticks": "",
            "zerolinecolor": "white"
           },
           "zaxis": {
            "backgroundcolor": "#E5ECF6",
            "gridcolor": "white",
            "gridwidth": 2,
            "linecolor": "white",
            "showbackground": true,
            "ticks": "",
            "zerolinecolor": "white"
           }
          },
          "shapedefaults": {
           "line": {
            "color": "#2a3f5f"
           }
          },
          "ternary": {
           "aaxis": {
            "gridcolor": "white",
            "linecolor": "white",
            "ticks": ""
           },
           "baxis": {
            "gridcolor": "white",
            "linecolor": "white",
            "ticks": ""
           },
           "bgcolor": "#E5ECF6",
           "caxis": {
            "gridcolor": "white",
            "linecolor": "white",
            "ticks": ""
           }
          },
          "title": {
           "x": 0.05
          },
          "xaxis": {
           "automargin": true,
           "gridcolor": "white",
           "linecolor": "white",
           "ticks": "",
           "title": {
            "standoff": 15
           },
           "zerolinecolor": "white",
           "zerolinewidth": 2
          },
          "yaxis": {
           "automargin": true,
           "gridcolor": "white",
           "linecolor": "white",
           "ticks": "",
           "title": {
            "standoff": 15
           },
           "zerolinecolor": "white",
           "zerolinewidth": 2
          }
         }
        },
        "title": {
         "text": "Hyperparameter Importances"
        },
        "xaxis": {
         "title": {
          "text": "Hyperparameter Importance"
         }
        },
        "yaxis": {
         "title": {
          "text": "Hyperparameter"
         }
        }
       }
      }
     },
     "metadata": {},
     "output_type": "display_data"
    },
    {
     "data": {
      "application/vnd.plotly.v1+json": {
       "config": {
        "plotlyServerURL": "https://plot.ly"
       },
       "data": [
        {
         "marker": {
          "color": [
           0,
           1,
           2,
           3,
           4,
           5,
           6,
           7,
           8,
           9
          ],
          "colorbar": {
           "title": {
            "text": "Trial"
           },
           "x": 1,
           "xpad": 40
          },
          "colorscale": [
           [
            0,
            "rgb(247,251,255)"
           ],
           [
            0.125,
            "rgb(222,235,247)"
           ],
           [
            0.25,
            "rgb(198,219,239)"
           ],
           [
            0.375,
            "rgb(158,202,225)"
           ],
           [
            0.5,
            "rgb(107,174,214)"
           ],
           [
            0.625,
            "rgb(66,146,198)"
           ],
           [
            0.75,
            "rgb(33,113,181)"
           ],
           [
            0.875,
            "rgb(8,81,156)"
           ],
           [
            1,
            "rgb(8,48,107)"
           ]
          ],
          "line": {
           "color": "Grey",
           "width": 0.5
          },
          "showscale": true
         },
         "mode": "markers",
         "name": "Feasible Trial",
         "showlegend": false,
         "type": "scatter",
         "x": [
          0.3248149123539492,
          0.6198051453057902,
          0.6860358815211507,
          0.9274563216630256,
          0.2707940016415356,
          0.9895095492804138,
          0.46471841988211937,
          0.5950364770915126,
          0.383038532393298,
          0.9168730399387945
         ],
         "xaxis": "x",
         "y": [
          0.2452728425822853,
          0.22922544604673095,
          0.2516210526252627,
          0.2409988343924512,
          0.2307677505309436,
          0.23003906645136785,
          0.22868153609226768,
          0.2314729852159875,
          0.23292936134415104,
          0.2543308307969691
         ],
         "yaxis": "y"
        },
        {
         "marker": {
          "color": [
           0,
           1,
           2,
           3,
           4,
           5,
           6,
           7,
           8,
           9
          ],
          "colorbar": {
           "title": {
            "text": "Trial"
           },
           "x": 1,
           "xpad": 40
          },
          "colorscale": [
           [
            0,
            "rgb(247,251,255)"
           ],
           [
            0.125,
            "rgb(222,235,247)"
           ],
           [
            0.25,
            "rgb(198,219,239)"
           ],
           [
            0.375,
            "rgb(158,202,225)"
           ],
           [
            0.5,
            "rgb(107,174,214)"
           ],
           [
            0.625,
            "rgb(66,146,198)"
           ],
           [
            0.75,
            "rgb(33,113,181)"
           ],
           [
            0.875,
            "rgb(8,81,156)"
           ],
           [
            1,
            "rgb(8,48,107)"
           ]
          ],
          "line": {
           "color": "Grey",
           "width": 0.5
          },
          "showscale": false
         },
         "mode": "markers",
         "name": "Feasible Trial",
         "showlegend": false,
         "type": "scatter",
         "x": [
          16,
          44,
          18,
          26,
          20,
          78,
          7,
          53,
          8,
          32
         ],
         "xaxis": "x2",
         "y": [
          0.2452728425822853,
          0.22922544604673095,
          0.2516210526252627,
          0.2409988343924512,
          0.2307677505309436,
          0.23003906645136785,
          0.22868153609226768,
          0.2314729852159875,
          0.23292936134415104,
          0.2543308307969691
         ],
         "yaxis": "y2"
        },
        {
         "marker": {
          "color": [
           0,
           1,
           2,
           3,
           4,
           5,
           6,
           7,
           8,
           9
          ],
          "colorbar": {
           "title": {
            "text": "Trial"
           },
           "x": 1,
           "xpad": 40
          },
          "colorscale": [
           [
            0,
            "rgb(247,251,255)"
           ],
           [
            0.125,
            "rgb(222,235,247)"
           ],
           [
            0.25,
            "rgb(198,219,239)"
           ],
           [
            0.375,
            "rgb(158,202,225)"
           ],
           [
            0.5,
            "rgb(107,174,214)"
           ],
           [
            0.625,
            "rgb(66,146,198)"
           ],
           [
            0.75,
            "rgb(33,113,181)"
           ],
           [
            0.875,
            "rgb(8,81,156)"
           ],
           [
            1,
            "rgb(8,48,107)"
           ]
          ],
          "line": {
           "color": "Grey",
           "width": 0.5
          },
          "showscale": false
         },
         "mode": "markers",
         "name": "Feasible Trial",
         "showlegend": false,
         "type": "scatter",
         "x": [
          0.15227525095137953,
          0.36210622617823773,
          0.1585464336867516,
          0.6962700559185838,
          0.14070456001948428,
          0.2788441133807552,
          0.379884089544096,
          0.4847869165226947,
          0.3607763076223912,
          0.19904673207490908
         ],
         "xaxis": "x3",
         "y": [
          0.2452728425822853,
          0.22922544604673095,
          0.2516210526252627,
          0.2409988343924512,
          0.2307677505309436,
          0.23003906645136785,
          0.22868153609226768,
          0.2314729852159875,
          0.23292936134415104,
          0.2543308307969691
         ],
         "yaxis": "y3"
        },
        {
         "marker": {
          "color": [
           0,
           1,
           2,
           3,
           4,
           5,
           6,
           7,
           8,
           9
          ],
          "colorbar": {
           "title": {
            "text": "Trial"
           },
           "x": 1,
           "xpad": 40
          },
          "colorscale": [
           [
            0,
            "rgb(247,251,255)"
           ],
           [
            0.125,
            "rgb(222,235,247)"
           ],
           [
            0.25,
            "rgb(198,219,239)"
           ],
           [
            0.375,
            "rgb(158,202,225)"
           ],
           [
            0.5,
            "rgb(107,174,214)"
           ],
           [
            0.625,
            "rgb(66,146,198)"
           ],
           [
            0.75,
            "rgb(33,113,181)"
           ],
           [
            0.875,
            "rgb(8,81,156)"
           ],
           [
            1,
            "rgb(8,48,107)"
           ]
          ],
          "line": {
           "color": "Grey",
           "width": 0.5
          },
          "showscale": false
         },
         "mode": "markers",
         "name": "Feasible Trial",
         "showlegend": false,
         "type": "scatter",
         "x": [
          0.6245760287469893,
          0.0032112643094417484,
          3.4671276804481113,
          0.000006388511557344611,
          0.000008471746987003668,
          1.1212412169964432e-8,
          0.000008445977074223802,
          1.6934490731313353e-8,
          2.824825241715838e-7,
          0.0000011256839212661599
         ],
         "xaxis": "x4",
         "y": [
          0.2452728425822853,
          0.22922544604673095,
          0.2516210526252627,
          0.2409988343924512,
          0.2307677505309436,
          0.23003906645136785,
          0.22868153609226768,
          0.2314729852159875,
          0.23292936134415104,
          0.2543308307969691
         ],
         "yaxis": "y4"
        },
        {
         "marker": {
          "color": [
           0,
           1,
           2,
           3,
           4,
           5,
           6,
           7,
           8,
           9
          ],
          "colorbar": {
           "title": {
            "text": "Trial"
           },
           "x": 1,
           "xpad": 40
          },
          "colorscale": [
           [
            0,
            "rgb(247,251,255)"
           ],
           [
            0.125,
            "rgb(222,235,247)"
           ],
           [
            0.25,
            "rgb(198,219,239)"
           ],
           [
            0.375,
            "rgb(158,202,225)"
           ],
           [
            0.5,
            "rgb(107,174,214)"
           ],
           [
            0.625,
            "rgb(66,146,198)"
           ],
           [
            0.75,
            "rgb(33,113,181)"
           ],
           [
            0.875,
            "rgb(8,81,156)"
           ],
           [
            1,
            "rgb(8,48,107)"
           ]
          ],
          "line": {
           "color": "Grey",
           "width": 0.5
          },
          "showscale": false
         },
         "mode": "markers",
         "name": "Feasible Trial",
         "showlegend": false,
         "type": "scatter",
         "x": [
          0.002570603566117598,
          1.8007140198129195e-7,
          4.905556676028774,
          0.0004793052550782129,
          0.00003148441347423712,
          0.2183498289760726,
          0.036851536911881845,
          9.354548757337708e-8,
          2.3295866619309256,
          0.0000698184330520185
         ],
         "xaxis": "x5",
         "y": [
          0.2452728425822853,
          0.22922544604673095,
          0.2516210526252627,
          0.2409988343924512,
          0.2307677505309436,
          0.23003906645136785,
          0.22868153609226768,
          0.2314729852159875,
          0.23292936134415104,
          0.2543308307969691
         ],
         "yaxis": "y5"
        },
        {
         "marker": {
          "color": [
           0,
           1,
           2,
           3,
           4,
           5,
           6,
           7,
           8,
           9
          ],
          "colorbar": {
           "title": {
            "text": "Trial"
           },
           "x": 1,
           "xpad": 40
          },
          "colorscale": [
           [
            0,
            "rgb(247,251,255)"
           ],
           [
            0.125,
            "rgb(222,235,247)"
           ],
           [
            0.25,
            "rgb(198,219,239)"
           ],
           [
            0.375,
            "rgb(158,202,225)"
           ],
           [
            0.5,
            "rgb(107,174,214)"
           ],
           [
            0.625,
            "rgb(66,146,198)"
           ],
           [
            0.75,
            "rgb(33,113,181)"
           ],
           [
            0.875,
            "rgb(8,81,156)"
           ],
           [
            1,
            "rgb(8,48,107)"
           ]
          ],
          "line": {
           "color": "Grey",
           "width": 0.5
          },
          "showscale": false
         },
         "mode": "markers",
         "name": "Feasible Trial",
         "showlegend": false,
         "type": "scatter",
         "x": [
          0.7579479953348001,
          0.006672367170464205,
          0.00024586032763280086,
          0.755681014127442,
          0.0026730883107816713,
          0.12164139351417062,
          0.007742116473996248,
          0.0018089390092767149,
          0.3060852210672247,
          0.00010661259689433907
         ],
         "xaxis": "x6",
         "y": [
          0.2452728425822853,
          0.22922544604673095,
          0.2516210526252627,
          0.2409988343924512,
          0.2307677505309436,
          0.23003906645136785,
          0.22868153609226768,
          0.2314729852159875,
          0.23292936134415104,
          0.2543308307969691
         ],
         "yaxis": "y6"
        },
        {
         "marker": {
          "color": [
           0,
           1,
           2,
           3,
           4,
           5,
           6,
           7,
           8,
           9
          ],
          "colorbar": {
           "title": {
            "text": "Trial"
           },
           "x": 1,
           "xpad": 40
          },
          "colorscale": [
           [
            0,
            "rgb(247,251,255)"
           ],
           [
            0.125,
            "rgb(222,235,247)"
           ],
           [
            0.25,
            "rgb(198,219,239)"
           ],
           [
            0.375,
            "rgb(158,202,225)"
           ],
           [
            0.5,
            "rgb(107,174,214)"
           ],
           [
            0.625,
            "rgb(66,146,198)"
           ],
           [
            0.75,
            "rgb(33,113,181)"
           ],
           [
            0.875,
            "rgb(8,81,156)"
           ],
           [
            1,
            "rgb(8,48,107)"
           ]
          ],
          "line": {
           "color": "Grey",
           "width": 0.5
          },
          "showscale": false
         },
         "mode": "markers",
         "name": "Feasible Trial",
         "showlegend": false,
         "type": "scatter",
         "x": [
          102,
          62,
          59,
          118,
          241,
          143,
          98,
          185,
          233,
          55
         ],
         "xaxis": "x7",
         "y": [
          0.2452728425822853,
          0.22922544604673095,
          0.2516210526252627,
          0.2409988343924512,
          0.2307677505309436,
          0.23003906645136785,
          0.22868153609226768,
          0.2314729852159875,
          0.23292936134415104,
          0.2543308307969691
         ],
         "yaxis": "y7"
        },
        {
         "marker": {
          "color": [
           0,
           1,
           2,
           3,
           4,
           5,
           6,
           7,
           8,
           9
          ],
          "colorbar": {
           "title": {
            "text": "Trial"
           },
           "x": 1,
           "xpad": 40
          },
          "colorscale": [
           [
            0,
            "rgb(247,251,255)"
           ],
           [
            0.125,
            "rgb(222,235,247)"
           ],
           [
            0.25,
            "rgb(198,219,239)"
           ],
           [
            0.375,
            "rgb(158,202,225)"
           ],
           [
            0.5,
            "rgb(107,174,214)"
           ],
           [
            0.625,
            "rgb(66,146,198)"
           ],
           [
            0.75,
            "rgb(33,113,181)"
           ],
           [
            0.875,
            "rgb(8,81,156)"
           ],
           [
            1,
            "rgb(8,48,107)"
           ]
          ],
          "line": {
           "color": "Grey",
           "width": 0.5
          },
          "showscale": false
         },
         "mode": "markers",
         "name": "Feasible Trial",
         "showlegend": false,
         "type": "scatter",
         "x": [
          4,
          38,
          32,
          20,
          84,
          74,
          89,
          65,
          64,
          87
         ],
         "xaxis": "x8",
         "y": [
          0.2452728425822853,
          0.22922544604673095,
          0.2516210526252627,
          0.2409988343924512,
          0.2307677505309436,
          0.23003906645136785,
          0.22868153609226768,
          0.2314729852159875,
          0.23292936134415104,
          0.2543308307969691
         ],
         "yaxis": "y8"
        },
        {
         "marker": {
          "color": [
           0,
           1,
           2,
           3,
           4,
           5,
           6,
           7,
           8,
           9
          ],
          "colorbar": {
           "title": {
            "text": "Trial"
           },
           "x": 1,
           "xpad": 40
          },
          "colorscale": [
           [
            0,
            "rgb(247,251,255)"
           ],
           [
            0.125,
            "rgb(222,235,247)"
           ],
           [
            0.25,
            "rgb(198,219,239)"
           ],
           [
            0.375,
            "rgb(158,202,225)"
           ],
           [
            0.5,
            "rgb(107,174,214)"
           ],
           [
            0.625,
            "rgb(66,146,198)"
           ],
           [
            0.75,
            "rgb(33,113,181)"
           ],
           [
            0.875,
            "rgb(8,81,156)"
           ],
           [
            1,
            "rgb(8,48,107)"
           ]
          ],
          "line": {
           "color": "Grey",
           "width": 0.5
          },
          "showscale": false
         },
         "mode": "markers",
         "name": "Feasible Trial",
         "showlegend": false,
         "type": "scatter",
         "x": [
          37,
          10,
          30,
          25,
          30,
          41,
          44,
          29,
          21,
          27
         ],
         "xaxis": "x9",
         "y": [
          0.2452728425822853,
          0.22922544604673095,
          0.2516210526252627,
          0.2409988343924512,
          0.2307677505309436,
          0.23003906645136785,
          0.22868153609226768,
          0.2314729852159875,
          0.23292936134415104,
          0.2543308307969691
         ],
         "yaxis": "y9"
        },
        {
         "marker": {
          "color": [
           0,
           1,
           2,
           3,
           4,
           5,
           6,
           7,
           8,
           9
          ],
          "colorbar": {
           "title": {
            "text": "Trial"
           },
           "x": 1,
           "xpad": 40
          },
          "colorscale": [
           [
            0,
            "rgb(247,251,255)"
           ],
           [
            0.125,
            "rgb(222,235,247)"
           ],
           [
            0.25,
            "rgb(198,219,239)"
           ],
           [
            0.375,
            "rgb(158,202,225)"
           ],
           [
            0.5,
            "rgb(107,174,214)"
           ],
           [
            0.625,
            "rgb(66,146,198)"
           ],
           [
            0.75,
            "rgb(33,113,181)"
           ],
           [
            0.875,
            "rgb(8,81,156)"
           ],
           [
            1,
            "rgb(8,48,107)"
           ]
          ],
          "line": {
           "color": "Grey",
           "width": 0.5
          },
          "showscale": false
         },
         "mode": "markers",
         "name": "Feasible Trial",
         "showlegend": false,
         "type": "scatter",
         "x": [
          7.080725777960454,
          2.9214464853521815,
          8.08397348116461,
          5.4671027934327965,
          2.713490317738959,
          7.068573438476172,
          6.3755747135521315,
          0.3142918568673425,
          8.08120379564417,
          8.18014765922493
         ],
         "xaxis": "x10",
         "y": [
          0.2452728425822853,
          0.22922544604673095,
          0.2516210526252627,
          0.2409988343924512,
          0.2307677505309436,
          0.23003906645136785,
          0.22868153609226768,
          0.2314729852159875,
          0.23292936134415104,
          0.2543308307969691
         ],
         "yaxis": "y10"
        },
        {
         "marker": {
          "color": [
           0,
           1,
           2,
           3,
           4,
           5,
           6,
           7,
           8,
           9
          ],
          "colorbar": {
           "title": {
            "text": "Trial"
           },
           "x": 1,
           "xpad": 40
          },
          "colorscale": [
           [
            0,
            "rgb(247,251,255)"
           ],
           [
            0.125,
            "rgb(222,235,247)"
           ],
           [
            0.25,
            "rgb(198,219,239)"
           ],
           [
            0.375,
            "rgb(158,202,225)"
           ],
           [
            0.5,
            "rgb(107,174,214)"
           ],
           [
            0.625,
            "rgb(66,146,198)"
           ],
           [
            0.75,
            "rgb(33,113,181)"
           ],
           [
            0.875,
            "rgb(8,81,156)"
           ],
           [
            1,
            "rgb(8,48,107)"
           ]
          ],
          "line": {
           "color": "Grey",
           "width": 0.5
          },
          "showscale": false
         },
         "mode": "markers",
         "name": "Feasible Trial",
         "showlegend": false,
         "type": "scatter",
         "x": [
          5.9865848459837805,
          3.0424224365529544,
          0.4645041367354731,
          0.3438852208082987,
          9.218742351012425,
          0.7455064460522017,
          6.232981272042597,
          7.709671801835937,
          7.555511387874975,
          8.074401553566224
         ],
         "xaxis": "x11",
         "y": [
          0.2452728425822853,
          0.22922544604673095,
          0.2516210526252627,
          0.2409988343924512,
          0.2307677505309436,
          0.23003906645136785,
          0.22868153609226768,
          0.2314729852159875,
          0.23292936134415104,
          0.2543308307969691
         ],
         "yaxis": "y11"
        },
        {
         "marker": {
          "color": [
           0,
           1,
           2,
           3,
           4,
           5,
           6,
           7,
           8,
           9
          ],
          "colorbar": {
           "title": {
            "text": "Trial"
           },
           "x": 1,
           "xpad": 40
          },
          "colorscale": [
           [
            0,
            "rgb(247,251,255)"
           ],
           [
            0.125,
            "rgb(222,235,247)"
           ],
           [
            0.25,
            "rgb(198,219,239)"
           ],
           [
            0.375,
            "rgb(158,202,225)"
           ],
           [
            0.5,
            "rgb(107,174,214)"
           ],
           [
            0.625,
            "rgb(66,146,198)"
           ],
           [
            0.75,
            "rgb(33,113,181)"
           ],
           [
            0.875,
            "rgb(8,81,156)"
           ],
           [
            1,
            "rgb(8,48,107)"
           ]
          ],
          "line": {
           "color": "Grey",
           "width": 0.5
          },
          "showscale": false
         },
         "mode": "markers",
         "name": "Feasible Trial",
         "showlegend": false,
         "type": "scatter",
         "x": [
          96,
          20,
          52,
          14,
          90,
          15,
          13,
          77,
          26,
          90
         ],
         "xaxis": "x12",
         "y": [
          0.2452728425822853,
          0.22922544604673095,
          0.2516210526252627,
          0.2409988343924512,
          0.2307677505309436,
          0.23003906645136785,
          0.22868153609226768,
          0.2314729852159875,
          0.23292936134415104,
          0.2543308307969691
         ],
         "yaxis": "y12"
        },
        {
         "marker": {
          "color": [
           0,
           1,
           2,
           3,
           4,
           5,
           6,
           7,
           8,
           9
          ],
          "colorbar": {
           "title": {
            "text": "Trial"
           },
           "x": 1,
           "xpad": 40
          },
          "colorscale": [
           [
            0,
            "rgb(247,251,255)"
           ],
           [
            0.125,
            "rgb(222,235,247)"
           ],
           [
            0.25,
            "rgb(198,219,239)"
           ],
           [
            0.375,
            "rgb(158,202,225)"
           ],
           [
            0.5,
            "rgb(107,174,214)"
           ],
           [
            0.625,
            "rgb(66,146,198)"
           ],
           [
            0.75,
            "rgb(33,113,181)"
           ],
           [
            0.875,
            "rgb(8,81,156)"
           ],
           [
            1,
            "rgb(8,48,107)"
           ]
          ],
          "line": {
           "color": "Grey",
           "width": 0.5
          },
          "showscale": false
         },
         "mode": "markers",
         "name": "Feasible Trial",
         "showlegend": false,
         "type": "scatter",
         "x": [
          8.324426408004218,
          7.851759613930136,
          6.842330265121569,
          7.7513282336111455,
          2.8093450968738076,
          0.7404465173409036,
          1.195942459383017,
          5.085706911647028,
          8.036720768991145,
          5.107473025775658
         ],
         "xaxis": "x13",
         "y": [
          0.2452728425822853,
          0.22922544604673095,
          0.2516210526252627,
          0.2409988343924512,
          0.2307677505309436,
          0.23003906645136785,
          0.22868153609226768,
          0.2314729852159875,
          0.23292936134415104,
          0.2543308307969691
         ],
         "yaxis": "y13"
        }
       ],
       "layout": {
        "template": {
         "data": {
          "bar": [
           {
            "error_x": {
             "color": "#2a3f5f"
            },
            "error_y": {
             "color": "#2a3f5f"
            },
            "marker": {
             "line": {
              "color": "#E5ECF6",
              "width": 0.5
             },
             "pattern": {
              "fillmode": "overlay",
              "size": 10,
              "solidity": 0.2
             }
            },
            "type": "bar"
           }
          ],
          "barpolar": [
           {
            "marker": {
             "line": {
              "color": "#E5ECF6",
              "width": 0.5
             },
             "pattern": {
              "fillmode": "overlay",
              "size": 10,
              "solidity": 0.2
             }
            },
            "type": "barpolar"
           }
          ],
          "carpet": [
           {
            "aaxis": {
             "endlinecolor": "#2a3f5f",
             "gridcolor": "white",
             "linecolor": "white",
             "minorgridcolor": "white",
             "startlinecolor": "#2a3f5f"
            },
            "baxis": {
             "endlinecolor": "#2a3f5f",
             "gridcolor": "white",
             "linecolor": "white",
             "minorgridcolor": "white",
             "startlinecolor": "#2a3f5f"
            },
            "type": "carpet"
           }
          ],
          "choropleth": [
           {
            "colorbar": {
             "outlinewidth": 0,
             "ticks": ""
            },
            "type": "choropleth"
           }
          ],
          "contour": [
           {
            "colorbar": {
             "outlinewidth": 0,
             "ticks": ""
            },
            "colorscale": [
             [
              0,
              "#0d0887"
             ],
             [
              0.1111111111111111,
              "#46039f"
             ],
             [
              0.2222222222222222,
              "#7201a8"
             ],
             [
              0.3333333333333333,
              "#9c179e"
             ],
             [
              0.4444444444444444,
              "#bd3786"
             ],
             [
              0.5555555555555556,
              "#d8576b"
             ],
             [
              0.6666666666666666,
              "#ed7953"
             ],
             [
              0.7777777777777778,
              "#fb9f3a"
             ],
             [
              0.8888888888888888,
              "#fdca26"
             ],
             [
              1,
              "#f0f921"
             ]
            ],
            "type": "contour"
           }
          ],
          "contourcarpet": [
           {
            "colorbar": {
             "outlinewidth": 0,
             "ticks": ""
            },
            "type": "contourcarpet"
           }
          ],
          "heatmap": [
           {
            "colorbar": {
             "outlinewidth": 0,
             "ticks": ""
            },
            "colorscale": [
             [
              0,
              "#0d0887"
             ],
             [
              0.1111111111111111,
              "#46039f"
             ],
             [
              0.2222222222222222,
              "#7201a8"
             ],
             [
              0.3333333333333333,
              "#9c179e"
             ],
             [
              0.4444444444444444,
              "#bd3786"
             ],
             [
              0.5555555555555556,
              "#d8576b"
             ],
             [
              0.6666666666666666,
              "#ed7953"
             ],
             [
              0.7777777777777778,
              "#fb9f3a"
             ],
             [
              0.8888888888888888,
              "#fdca26"
             ],
             [
              1,
              "#f0f921"
             ]
            ],
            "type": "heatmap"
           }
          ],
          "histogram": [
           {
            "marker": {
             "pattern": {
              "fillmode": "overlay",
              "size": 10,
              "solidity": 0.2
             }
            },
            "type": "histogram"
           }
          ],
          "histogram2d": [
           {
            "colorbar": {
             "outlinewidth": 0,
             "ticks": ""
            },
            "colorscale": [
             [
              0,
              "#0d0887"
             ],
             [
              0.1111111111111111,
              "#46039f"
             ],
             [
              0.2222222222222222,
              "#7201a8"
             ],
             [
              0.3333333333333333,
              "#9c179e"
             ],
             [
              0.4444444444444444,
              "#bd3786"
             ],
             [
              0.5555555555555556,
              "#d8576b"
             ],
             [
              0.6666666666666666,
              "#ed7953"
             ],
             [
              0.7777777777777778,
              "#fb9f3a"
             ],
             [
              0.8888888888888888,
              "#fdca26"
             ],
             [
              1,
              "#f0f921"
             ]
            ],
            "type": "histogram2d"
           }
          ],
          "histogram2dcontour": [
           {
            "colorbar": {
             "outlinewidth": 0,
             "ticks": ""
            },
            "colorscale": [
             [
              0,
              "#0d0887"
             ],
             [
              0.1111111111111111,
              "#46039f"
             ],
             [
              0.2222222222222222,
              "#7201a8"
             ],
             [
              0.3333333333333333,
              "#9c179e"
             ],
             [
              0.4444444444444444,
              "#bd3786"
             ],
             [
              0.5555555555555556,
              "#d8576b"
             ],
             [
              0.6666666666666666,
              "#ed7953"
             ],
             [
              0.7777777777777778,
              "#fb9f3a"
             ],
             [
              0.8888888888888888,
              "#fdca26"
             ],
             [
              1,
              "#f0f921"
             ]
            ],
            "type": "histogram2dcontour"
           }
          ],
          "mesh3d": [
           {
            "colorbar": {
             "outlinewidth": 0,
             "ticks": ""
            },
            "type": "mesh3d"
           }
          ],
          "parcoords": [
           {
            "line": {
             "colorbar": {
              "outlinewidth": 0,
              "ticks": ""
             }
            },
            "type": "parcoords"
           }
          ],
          "pie": [
           {
            "automargin": true,
            "type": "pie"
           }
          ],
          "scatter": [
           {
            "fillpattern": {
             "fillmode": "overlay",
             "size": 10,
             "solidity": 0.2
            },
            "type": "scatter"
           }
          ],
          "scatter3d": [
           {
            "line": {
             "colorbar": {
              "outlinewidth": 0,
              "ticks": ""
             }
            },
            "marker": {
             "colorbar": {
              "outlinewidth": 0,
              "ticks": ""
             }
            },
            "type": "scatter3d"
           }
          ],
          "scattercarpet": [
           {
            "marker": {
             "colorbar": {
              "outlinewidth": 0,
              "ticks": ""
             }
            },
            "type": "scattercarpet"
           }
          ],
          "scattergeo": [
           {
            "marker": {
             "colorbar": {
              "outlinewidth": 0,
              "ticks": ""
             }
            },
            "type": "scattergeo"
           }
          ],
          "scattergl": [
           {
            "marker": {
             "colorbar": {
              "outlinewidth": 0,
              "ticks": ""
             }
            },
            "type": "scattergl"
           }
          ],
          "scattermap": [
           {
            "marker": {
             "colorbar": {
              "outlinewidth": 0,
              "ticks": ""
             }
            },
            "type": "scattermap"
           }
          ],
          "scattermapbox": [
           {
            "marker": {
             "colorbar": {
              "outlinewidth": 0,
              "ticks": ""
             }
            },
            "type": "scattermapbox"
           }
          ],
          "scatterpolar": [
           {
            "marker": {
             "colorbar": {
              "outlinewidth": 0,
              "ticks": ""
             }
            },
            "type": "scatterpolar"
           }
          ],
          "scatterpolargl": [
           {
            "marker": {
             "colorbar": {
              "outlinewidth": 0,
              "ticks": ""
             }
            },
            "type": "scatterpolargl"
           }
          ],
          "scatterternary": [
           {
            "marker": {
             "colorbar": {
              "outlinewidth": 0,
              "ticks": ""
             }
            },
            "type": "scatterternary"
           }
          ],
          "surface": [
           {
            "colorbar": {
             "outlinewidth": 0,
             "ticks": ""
            },
            "colorscale": [
             [
              0,
              "#0d0887"
             ],
             [
              0.1111111111111111,
              "#46039f"
             ],
             [
              0.2222222222222222,
              "#7201a8"
             ],
             [
              0.3333333333333333,
              "#9c179e"
             ],
             [
              0.4444444444444444,
              "#bd3786"
             ],
             [
              0.5555555555555556,
              "#d8576b"
             ],
             [
              0.6666666666666666,
              "#ed7953"
             ],
             [
              0.7777777777777778,
              "#fb9f3a"
             ],
             [
              0.8888888888888888,
              "#fdca26"
             ],
             [
              1,
              "#f0f921"
             ]
            ],
            "type": "surface"
           }
          ],
          "table": [
           {
            "cells": {
             "fill": {
              "color": "#EBF0F8"
             },
             "line": {
              "color": "white"
             }
            },
            "header": {
             "fill": {
              "color": "#C8D4E3"
             },
             "line": {
              "color": "white"
             }
            },
            "type": "table"
           }
          ]
         },
         "layout": {
          "annotationdefaults": {
           "arrowcolor": "#2a3f5f",
           "arrowhead": 0,
           "arrowwidth": 1
          },
          "autotypenumbers": "strict",
          "coloraxis": {
           "colorbar": {
            "outlinewidth": 0,
            "ticks": ""
           }
          },
          "colorscale": {
           "diverging": [
            [
             0,
             "#8e0152"
            ],
            [
             0.1,
             "#c51b7d"
            ],
            [
             0.2,
             "#de77ae"
            ],
            [
             0.3,
             "#f1b6da"
            ],
            [
             0.4,
             "#fde0ef"
            ],
            [
             0.5,
             "#f7f7f7"
            ],
            [
             0.6,
             "#e6f5d0"
            ],
            [
             0.7,
             "#b8e186"
            ],
            [
             0.8,
             "#7fbc41"
            ],
            [
             0.9,
             "#4d9221"
            ],
            [
             1,
             "#276419"
            ]
           ],
           "sequential": [
            [
             0,
             "#0d0887"
            ],
            [
             0.1111111111111111,
             "#46039f"
            ],
            [
             0.2222222222222222,
             "#7201a8"
            ],
            [
             0.3333333333333333,
             "#9c179e"
            ],
            [
             0.4444444444444444,
             "#bd3786"
            ],
            [
             0.5555555555555556,
             "#d8576b"
            ],
            [
             0.6666666666666666,
             "#ed7953"
            ],
            [
             0.7777777777777778,
             "#fb9f3a"
            ],
            [
             0.8888888888888888,
             "#fdca26"
            ],
            [
             1,
             "#f0f921"
            ]
           ],
           "sequentialminus": [
            [
             0,
             "#0d0887"
            ],
            [
             0.1111111111111111,
             "#46039f"
            ],
            [
             0.2222222222222222,
             "#7201a8"
            ],
            [
             0.3333333333333333,
             "#9c179e"
            ],
            [
             0.4444444444444444,
             "#bd3786"
            ],
            [
             0.5555555555555556,
             "#d8576b"
            ],
            [
             0.6666666666666666,
             "#ed7953"
            ],
            [
             0.7777777777777778,
             "#fb9f3a"
            ],
            [
             0.8888888888888888,
             "#fdca26"
            ],
            [
             1,
             "#f0f921"
            ]
           ]
          },
          "colorway": [
           "#636efa",
           "#EF553B",
           "#00cc96",
           "#ab63fa",
           "#FFA15A",
           "#19d3f3",
           "#FF6692",
           "#B6E880",
           "#FF97FF",
           "#FECB52"
          ],
          "font": {
           "color": "#2a3f5f"
          },
          "geo": {
           "bgcolor": "white",
           "lakecolor": "white",
           "landcolor": "#E5ECF6",
           "showlakes": true,
           "showland": true,
           "subunitcolor": "white"
          },
          "hoverlabel": {
           "align": "left"
          },
          "hovermode": "closest",
          "mapbox": {
           "style": "light"
          },
          "paper_bgcolor": "white",
          "plot_bgcolor": "#E5ECF6",
          "polar": {
           "angularaxis": {
            "gridcolor": "white",
            "linecolor": "white",
            "ticks": ""
           },
           "bgcolor": "#E5ECF6",
           "radialaxis": {
            "gridcolor": "white",
            "linecolor": "white",
            "ticks": ""
           }
          },
          "scene": {
           "xaxis": {
            "backgroundcolor": "#E5ECF6",
            "gridcolor": "white",
            "gridwidth": 2,
            "linecolor": "white",
            "showbackground": true,
            "ticks": "",
            "zerolinecolor": "white"
           },
           "yaxis": {
            "backgroundcolor": "#E5ECF6",
            "gridcolor": "white",
            "gridwidth": 2,
            "linecolor": "white",
            "showbackground": true,
            "ticks": "",
            "zerolinecolor": "white"
           },
           "zaxis": {
            "backgroundcolor": "#E5ECF6",
            "gridcolor": "white",
            "gridwidth": 2,
            "linecolor": "white",
            "showbackground": true,
            "ticks": "",
            "zerolinecolor": "white"
           }
          },
          "shapedefaults": {
           "line": {
            "color": "#2a3f5f"
           }
          },
          "ternary": {
           "aaxis": {
            "gridcolor": "white",
            "linecolor": "white",
            "ticks": ""
           },
           "baxis": {
            "gridcolor": "white",
            "linecolor": "white",
            "ticks": ""
           },
           "bgcolor": "#E5ECF6",
           "caxis": {
            "gridcolor": "white",
            "linecolor": "white",
            "ticks": ""
           }
          },
          "title": {
           "x": 0.05
          },
          "xaxis": {
           "automargin": true,
           "gridcolor": "white",
           "linecolor": "white",
           "ticks": "",
           "title": {
            "standoff": 15
           },
           "zerolinecolor": "white",
           "zerolinewidth": 2
          },
          "yaxis": {
           "automargin": true,
           "gridcolor": "white",
           "linecolor": "white",
           "ticks": "",
           "title": {
            "standoff": 15
           },
           "zerolinecolor": "white",
           "zerolinewidth": 2
          }
         }
        },
        "title": {
         "text": "Slice Plot"
        },
        "width": 3900,
        "xaxis": {
         "anchor": "y",
         "domain": [
          0,
          0.06272189349112425
         ],
         "title": {
          "text": "bagging_fraction"
         }
        },
        "xaxis10": {
         "anchor": "y10",
         "domain": [
          0.7029585798816567,
          0.7656804733727809
         ],
         "title": {
          "text": "min_gain_to_split"
         }
        },
        "xaxis11": {
         "anchor": "y11",
         "domain": [
          0.7810650887573962,
          0.8437869822485204
         ],
         "title": {
          "text": "min_sum_hessian_in_leaf"
         }
        },
        "xaxis12": {
         "anchor": "y12",
         "domain": [
          0.8591715976331358,
          0.92189349112426
         ],
         "title": {
          "text": "num_leaves"
         }
        },
        "xaxis13": {
         "anchor": "y13",
         "domain": [
          0.9372781065088754,
          0.9999999999999997
         ],
         "title": {
          "text": "path_smooth"
         }
        },
        "xaxis2": {
         "anchor": "y2",
         "domain": [
          0.07810650887573964,
          0.1408284023668639
         ],
         "title": {
          "text": "bagging_freq"
         }
        },
        "xaxis3": {
         "anchor": "y3",
         "domain": [
          0.15621301775147928,
          0.21893491124260353
         ],
         "title": {
          "text": "feature_fraction"
         }
        },
        "xaxis4": {
         "anchor": "y4",
         "domain": [
          0.23431952662721892,
          0.29704142011834317
         ],
         "title": {
          "text": "lambda_l1"
         },
         "type": "log"
        },
        "xaxis5": {
         "anchor": "y5",
         "domain": [
          0.31242603550295855,
          0.3751479289940828
         ],
         "title": {
          "text": "lambda_l2"
         },
         "type": "log"
        },
        "xaxis6": {
         "anchor": "y6",
         "domain": [
          0.39053254437869817,
          0.45325443786982245
         ],
         "title": {
          "text": "learning_rate"
         },
         "type": "log"
        },
        "xaxis7": {
         "anchor": "y7",
         "domain": [
          0.4686390532544378,
          0.531360946745562
         ],
         "title": {
          "text": "max_bin"
         }
        },
        "xaxis8": {
         "anchor": "y8",
         "domain": [
          0.5467455621301773,
          0.6094674556213016
         ],
         "title": {
          "text": "max_depth"
         }
        },
        "xaxis9": {
         "anchor": "y9",
         "domain": [
          0.624852071005917,
          0.6875739644970412
         ],
         "title": {
          "text": "min_data_in_leaf"
         }
        },
        "yaxis": {
         "anchor": "x",
         "domain": [
          0,
          1
         ],
         "title": {
          "text": "Objective Value"
         }
        },
        "yaxis10": {
         "anchor": "x10",
         "domain": [
          0,
          1
         ],
         "matches": "y",
         "showticklabels": false
        },
        "yaxis11": {
         "anchor": "x11",
         "domain": [
          0,
          1
         ],
         "matches": "y",
         "showticklabels": false
        },
        "yaxis12": {
         "anchor": "x12",
         "domain": [
          0,
          1
         ],
         "matches": "y",
         "showticklabels": false
        },
        "yaxis13": {
         "anchor": "x13",
         "domain": [
          0,
          1
         ],
         "matches": "y",
         "showticklabels": false
        },
        "yaxis2": {
         "anchor": "x2",
         "domain": [
          0,
          1
         ],
         "matches": "y",
         "showticklabels": false
        },
        "yaxis3": {
         "anchor": "x3",
         "domain": [
          0,
          1
         ],
         "matches": "y",
         "showticklabels": false
        },
        "yaxis4": {
         "anchor": "x4",
         "domain": [
          0,
          1
         ],
         "matches": "y",
         "showticklabels": false
        },
        "yaxis5": {
         "anchor": "x5",
         "domain": [
          0,
          1
         ],
         "matches": "y",
         "showticklabels": false
        },
        "yaxis6": {
         "anchor": "x6",
         "domain": [
          0,
          1
         ],
         "matches": "y",
         "showticklabels": false
        },
        "yaxis7": {
         "anchor": "x7",
         "domain": [
          0,
          1
         ],
         "matches": "y",
         "showticklabels": false
        },
        "yaxis8": {
         "anchor": "x8",
         "domain": [
          0,
          1
         ],
         "matches": "y",
         "showticklabels": false
        },
        "yaxis9": {
         "anchor": "x9",
         "domain": [
          0,
          1
         ],
         "matches": "y",
         "showticklabels": false
        }
       }
      }
     },
     "metadata": {},
     "output_type": "display_data"
    },
    {
     "name": "stdout",
     "output_type": "stream",
     "text": [
      "Sum of predict      is : 23\n",
      "Sum of predict rate is : 0.0011156383\n"
     ]
    },
    {
     "data": {
      "image/png": "[encoded data removed]",
      "text/plain": [
       "<Figure size 2400x800 with 1 Axes>"
      ]
     },
     "metadata": {},
     "output_type": "display_data"
    },
    {
     "name": "stderr",
     "output_type": "stream",
     "text": [
      "C:\\Users\\ken20\\Documents\\workspaces\\HORSE_RACING\\Modules\\model_tuner.py:124: PerformanceWarning:\n",
      "\n",
      "DataFrame is highly fragmented.  This is usually the result of calling `frame.insert` many times, which has poor performance.  Consider joining all columns at once using pd.concat(axis=1) instead. To get a de-fragmented frame, use `newframe = frame.copy()`\n",
      "\n",
      "C:\\Users\\ken20\\Documents\\workspaces\\HORSE_RACING\\Modules\\model_tuner.py:124: SettingWithCopyWarning:\n",
      "\n",
      "\n",
      "A value is trying to be set on a copy of a slice from a DataFrame.\n",
      "Try using .loc[row_indexer,col_indexer] = value instead\n",
      "\n",
      "See the caveats in the documentation: https://pandas.pydata.org/pandas-docs/stable/user_guide/indexing.html#returning-a-view-versus-a-copy\n",
      "\n",
      "C:\\Users\\ken20\\Documents\\workspaces\\HORSE_RACING\\Modules\\model_tuner.py:125: PerformanceWarning:\n",
      "\n",
      "DataFrame is highly fragmented.  This is usually the result of calling `frame.insert` many times, which has poor performance.  Consider joining all columns at once using pd.concat(axis=1) instead. To get a de-fragmented frame, use `newframe = frame.copy()`\n",
      "\n",
      "C:\\Users\\ken20\\Documents\\workspaces\\HORSE_RACING\\Modules\\model_tuner.py:125: SettingWithCopyWarning:\n",
      "\n",
      "\n",
      "A value is trying to be set on a copy of a slice from a DataFrame.\n",
      "Try using .loc[row_indexer,col_indexer] = value instead\n",
      "\n",
      "See the caveats in the documentation: https://pandas.pydata.org/pandas-docs/stable/user_guide/indexing.html#returning-a-view-versus-a-copy\n",
      "\n",
      "C:\\Users\\ken20\\Documents\\workspaces\\HORSE_RACING\\Modules\\model_tuner.py:126: PerformanceWarning:\n",
      "\n",
      "DataFrame is highly fragmented.  This is usually the result of calling `frame.insert` many times, which has poor performance.  Consider joining all columns at once using pd.concat(axis=1) instead. To get a de-fragmented frame, use `newframe = frame.copy()`\n",
      "\n",
      "C:\\Users\\ken20\\Documents\\workspaces\\HORSE_RACING\\Modules\\model_tuner.py:126: SettingWithCopyWarning:\n",
      "\n",
      "\n",
      "A value is trying to be set on a copy of a slice from a DataFrame.\n",
      "Try using .loc[row_indexer,col_indexer] = value instead\n",
      "\n",
      "See the caveats in the documentation: https://pandas.pydata.org/pandas-docs/stable/user_guide/indexing.html#returning-a-view-versus-a-copy\n",
      "\n"
     ]
    }
   ],
   "source": [
    "memo = \"add last race results, bloods infomation with standardize, in JV dataset. n_rials=50.\"\n",
    "model, df_pred = model_tuner.simple_lightGBM(df4, feature_col2, memo=memo, n_trials=10, save_result=False, visualization=True)"
   ]
  },
  {
   "cell_type": "code",
   "execution_count": 19,
   "id": "1b9eeb5a",
   "metadata": {},
   "outputs": [
    {
     "data": {
      "text/html": [
       "<div>\n",
       "<style scoped>\n",
       "    .dataframe tbody tr th:only-of-type {\n",
       "        vertical-align: middle;\n",
       "    }\n",
       "\n",
       "    .dataframe tbody tr th {\n",
       "        vertical-align: top;\n",
       "    }\n",
       "\n",
       "    .dataframe thead th {\n",
       "        text-align: right;\n",
       "    }\n",
       "</style>\n",
       "<table border=\"1\" class=\"dataframe\">\n",
       "  <thead>\n",
       "    <tr style=\"text-align: right;\">\n",
       "      <th></th>\n",
       "      <th>id_for_fold</th>\n",
       "      <th>horse</th>\n",
       "      <th>pred</th>\n",
       "    </tr>\n",
       "  </thead>\n",
       "  <tbody>\n",
       "    <tr>\n",
       "      <th>9894</th>\n",
       "      <td>2025032306020803</td>\n",
       "      <td>メモリアカフェ</td>\n",
       "      <td>0.678739</td>\n",
       "    </tr>\n",
       "    <tr>\n",
       "      <th>48</th>\n",
       "      <td>2025060805030209</td>\n",
       "      <td>ウィクトルウェルス</td>\n",
       "      <td>0.648299</td>\n",
       "    </tr>\n",
       "    <tr>\n",
       "      <th>4665</th>\n",
       "      <td>2025050408020404</td>\n",
       "      <td>ダノンジョーカー</td>\n",
       "      <td>0.623057</td>\n",
       "    </tr>\n",
       "    <tr>\n",
       "      <th>16274</th>\n",
       "      <td>2025020805010303</td>\n",
       "      <td>アドマイヤデイトナ</td>\n",
       "      <td>0.609458</td>\n",
       "    </tr>\n",
       "    <tr>\n",
       "      <th>11951</th>\n",
       "      <td>2025030906020403</td>\n",
       "      <td>エドワードバローズ</td>\n",
       "      <td>0.597154</td>\n",
       "    </tr>\n",
       "    <tr>\n",
       "      <th>810</th>\n",
       "      <td>2025060105021203</td>\n",
       "      <td>セブンメデュラス</td>\n",
       "      <td>0.554546</td>\n",
       "    </tr>\n",
       "    <tr>\n",
       "      <th>8402</th>\n",
       "      <td>2025040609020407</td>\n",
       "      <td>ペンナヴェローチェ</td>\n",
       "      <td>0.546778</td>\n",
       "    </tr>\n",
       "    <tr>\n",
       "      <th>13678</th>\n",
       "      <td>2025022305010801</td>\n",
       "      <td>バーンズベリー</td>\n",
       "      <td>0.544103</td>\n",
       "    </tr>\n",
       "    <tr>\n",
       "      <th>2399</th>\n",
       "      <td>2025051804010609</td>\n",
       "      <td>ブルボンクイーン</td>\n",
       "      <td>0.536156</td>\n",
       "    </tr>\n",
       "    <tr>\n",
       "      <th>9238</th>\n",
       "      <td>2025033009020206</td>\n",
       "      <td>テーオーエルビス</td>\n",
       "      <td>0.527755</td>\n",
       "    </tr>\n",
       "  </tbody>\n",
       "</table>\n",
       "</div>"
      ],
      "text/plain": [
       "            id_for_fold      horse      pred\n",
       "9894   2025032306020803    メモリアカフェ  0.678739\n",
       "48     2025060805030209  ウィクトルウェルス  0.648299\n",
       "4665   2025050408020404   ダノンジョーカー  0.623057\n",
       "16274  2025020805010303  アドマイヤデイトナ  0.609458\n",
       "11951  2025030906020403  エドワードバローズ  0.597154\n",
       "810    2025060105021203   セブンメデュラス  0.554546\n",
       "8402   2025040609020407  ペンナヴェローチェ  0.546778\n",
       "13678  2025022305010801    バーンズベリー  0.544103\n",
       "2399   2025051804010609   ブルボンクイーン  0.536156\n",
       "9238   2025033009020206   テーオーエルビス  0.527755"
      ]
     },
     "execution_count": 19,
     "metadata": {},
     "output_type": "execute_result"
    }
   ],
   "source": [
    "tmp =  df_pred[df_pred[\"class_pred\"] == 1][[\"id_for_fold\", \"horse\", \"pred\"]].sort_values(\"pred\", ascending=False)\n",
    "tmp.head(10)"
   ]
  },
  {
   "cell_type": "code",
   "execution_count": 11,
   "id": "575a6e23",
   "metadata": {},
   "outputs": [
    {
     "data": {
      "text/html": [
       "<div>\n",
       "<style scoped>\n",
       "    .dataframe tbody tr th:only-of-type {\n",
       "        vertical-align: middle;\n",
       "    }\n",
       "\n",
       "    .dataframe tbody tr th {\n",
       "        vertical-align: top;\n",
       "    }\n",
       "\n",
       "    .dataframe thead th {\n",
       "        text-align: right;\n",
       "    }\n",
       "</style>\n",
       "<table border=\"1\" class=\"dataframe\">\n",
       "  <thead>\n",
       "    <tr style=\"text-align: right;\">\n",
       "      <th></th>\n",
       "      <th>id_for_fold</th>\n",
       "      <th>horse</th>\n",
       "      <th>pred</th>\n",
       "    </tr>\n",
       "  </thead>\n",
       "  <tbody>\n",
       "    <tr>\n",
       "      <th>8594</th>\n",
       "      <td>2025040506030305</td>\n",
       "      <td>アローグレイシャー</td>\n",
       "      <td>0.507851</td>\n",
       "    </tr>\n",
       "    <tr>\n",
       "      <th>8402</th>\n",
       "      <td>2025040609020407</td>\n",
       "      <td>ペンナヴェローチェ</td>\n",
       "      <td>0.546778</td>\n",
       "    </tr>\n",
       "    <tr>\n",
       "      <th>6948</th>\n",
       "      <td>2025041906030705</td>\n",
       "      <td>リバーバレイト</td>\n",
       "      <td>0.521133</td>\n",
       "    </tr>\n",
       "    <tr>\n",
       "      <th>4665</th>\n",
       "      <td>2025050408020404</td>\n",
       "      <td>ダノンジョーカー</td>\n",
       "      <td>0.623057</td>\n",
       "    </tr>\n",
       "    <tr>\n",
       "      <th>4496</th>\n",
       "      <td>2025050405020405</td>\n",
       "      <td>アローグレイシャー</td>\n",
       "      <td>0.518479</td>\n",
       "    </tr>\n",
       "    <tr>\n",
       "      <th>2935</th>\n",
       "      <td>2025051704010504</td>\n",
       "      <td>ハミルトン</td>\n",
       "      <td>0.523929</td>\n",
       "    </tr>\n",
       "    <tr>\n",
       "      <th>2399</th>\n",
       "      <td>2025051804010609</td>\n",
       "      <td>ブルボンクイーン</td>\n",
       "      <td>0.536156</td>\n",
       "    </tr>\n",
       "    <tr>\n",
       "      <th>810</th>\n",
       "      <td>2025060105021203</td>\n",
       "      <td>セブンメデュラス</td>\n",
       "      <td>0.554546</td>\n",
       "    </tr>\n",
       "    <tr>\n",
       "      <th>48</th>\n",
       "      <td>2025060805030209</td>\n",
       "      <td>ウィクトルウェルス</td>\n",
       "      <td>0.648299</td>\n",
       "    </tr>\n",
       "    <tr>\n",
       "      <th>14</th>\n",
       "      <td>2025060805030211</td>\n",
       "      <td>ジャンタルマンタル</td>\n",
       "      <td>0.503491</td>\n",
       "    </tr>\n",
       "  </tbody>\n",
       "</table>\n",
       "</div>"
      ],
      "text/plain": [
       "           id_for_fold      horse      pred\n",
       "8594  2025040506030305  アローグレイシャー  0.507851\n",
       "8402  2025040609020407  ペンナヴェローチェ  0.546778\n",
       "6948  2025041906030705    リバーバレイト  0.521133\n",
       "4665  2025050408020404   ダノンジョーカー  0.623057\n",
       "4496  2025050405020405  アローグレイシャー  0.518479\n",
       "2935  2025051704010504      ハミルトン  0.523929\n",
       "2399  2025051804010609   ブルボンクイーン  0.536156\n",
       "810   2025060105021203   セブンメデュラス  0.554546\n",
       "48    2025060805030209  ウィクトルウェルス  0.648299\n",
       "14    2025060805030211  ジャンタルマンタル  0.503491"
      ]
     },
     "execution_count": 11,
     "metadata": {},
     "output_type": "execute_result"
    }
   ],
   "source": [
    "df_pred[df_pred[\"class_pred\"] == 1][[\"id_for_fold\", \"horse\", \"pred\"]].tail(10)"
   ]
  },
  {
   "cell_type": "markdown",
   "id": "144f26e4",
   "metadata": {},
   "source": [
    "正規化前の勝率が一番高いメモリアカフェのレース↓"
   ]
  },
  {
   "cell_type": "code",
   "execution_count": 25,
   "id": "d4b0638d",
   "metadata": {},
   "outputs": [
    {
     "data": {
      "text/html": [
       "<div>\n",
       "<style scoped>\n",
       "    .dataframe tbody tr th:only-of-type {\n",
       "        vertical-align: middle;\n",
       "    }\n",
       "\n",
       "    .dataframe tbody tr th {\n",
       "        vertical-align: top;\n",
       "    }\n",
       "\n",
       "    .dataframe thead th {\n",
       "        text-align: right;\n",
       "    }\n",
       "</style>\n",
       "<table border=\"1\" class=\"dataframe\">\n",
       "  <thead>\n",
       "    <tr style=\"text-align: right;\">\n",
       "      <th></th>\n",
       "      <th>horse</th>\n",
       "      <th>horse_num</th>\n",
       "      <th>win_odds</th>\n",
       "      <th>pred</th>\n",
       "    </tr>\n",
       "  </thead>\n",
       "  <tbody>\n",
       "    <tr>\n",
       "      <th>9894</th>\n",
       "      <td>メモリアカフェ</td>\n",
       "      <td>1.553797</td>\n",
       "      <td>1.6</td>\n",
       "      <td>0.556949</td>\n",
       "    </tr>\n",
       "    <tr>\n",
       "      <th>9898</th>\n",
       "      <td>デアマトローナ</td>\n",
       "      <td>0.836660</td>\n",
       "      <td>15.5</td>\n",
       "      <td>0.087432</td>\n",
       "    </tr>\n",
       "    <tr>\n",
       "      <th>9896</th>\n",
       "      <td>オンクラウドナイン</td>\n",
       "      <td>-1.314751</td>\n",
       "      <td>4.8</td>\n",
       "      <td>0.083254</td>\n",
       "    </tr>\n",
       "    <tr>\n",
       "      <th>9899</th>\n",
       "      <td>ノイシュタット</td>\n",
       "      <td>-0.836660</td>\n",
       "      <td>5.8</td>\n",
       "      <td>0.056958</td>\n",
       "    </tr>\n",
       "    <tr>\n",
       "      <th>9900</th>\n",
       "      <td>リアライズハロック</td>\n",
       "      <td>0.119523</td>\n",
       "      <td>14.6</td>\n",
       "      <td>0.042935</td>\n",
       "    </tr>\n",
       "    <tr>\n",
       "      <th>9903</th>\n",
       "      <td>トラストギャロップ</td>\n",
       "      <td>1.075706</td>\n",
       "      <td>181.3</td>\n",
       "      <td>0.030120</td>\n",
       "    </tr>\n",
       "    <tr>\n",
       "      <th>9895</th>\n",
       "      <td>ゲンパチルーナ</td>\n",
       "      <td>0.597614</td>\n",
       "      <td>15.7</td>\n",
       "      <td>0.023489</td>\n",
       "    </tr>\n",
       "    <tr>\n",
       "      <th>9897</th>\n",
       "      <td>カズナリ</td>\n",
       "      <td>-1.075706</td>\n",
       "      <td>69.8</td>\n",
       "      <td>0.022448</td>\n",
       "    </tr>\n",
       "    <tr>\n",
       "      <th>9901</th>\n",
       "      <td>ハルノート</td>\n",
       "      <td>1.314751</td>\n",
       "      <td>83.4</td>\n",
       "      <td>0.021670</td>\n",
       "    </tr>\n",
       "    <tr>\n",
       "      <th>9905</th>\n",
       "      <td>ロジジェンス</td>\n",
       "      <td>-0.358569</td>\n",
       "      <td>260.7</td>\n",
       "      <td>0.021375</td>\n",
       "    </tr>\n",
       "    <tr>\n",
       "      <th>9902</th>\n",
       "      <td>サンマルストロング</td>\n",
       "      <td>0.358569</td>\n",
       "      <td>111.4</td>\n",
       "      <td>0.018788</td>\n",
       "    </tr>\n",
       "    <tr>\n",
       "      <th>9907</th>\n",
       "      <td>カゼニナッテル</td>\n",
       "      <td>-0.597614</td>\n",
       "      <td>160.9</td>\n",
       "      <td>0.014061</td>\n",
       "    </tr>\n",
       "    <tr>\n",
       "      <th>9904</th>\n",
       "      <td>ライジンシチー</td>\n",
       "      <td>-0.119523</td>\n",
       "      <td>280.6</td>\n",
       "      <td>0.012564</td>\n",
       "    </tr>\n",
       "    <tr>\n",
       "      <th>9906</th>\n",
       "      <td>ヒロノビックバン</td>\n",
       "      <td>-1.553797</td>\n",
       "      <td>392.5</td>\n",
       "      <td>0.007956</td>\n",
       "    </tr>\n",
       "  </tbody>\n",
       "</table>\n",
       "</div>"
      ],
      "text/plain": [
       "          horse  horse_num  win_odds      pred\n",
       "9894    メモリアカフェ   1.553797       1.6  0.556949\n",
       "9898    デアマトローナ   0.836660      15.5  0.087432\n",
       "9896  オンクラウドナイン  -1.314751       4.8  0.083254\n",
       "9899    ノイシュタット  -0.836660       5.8  0.056958\n",
       "9900  リアライズハロック   0.119523      14.6  0.042935\n",
       "9903  トラストギャロップ   1.075706     181.3  0.030120\n",
       "9895    ゲンパチルーナ   0.597614      15.7  0.023489\n",
       "9897       カズナリ  -1.075706      69.8  0.022448\n",
       "9901      ハルノート   1.314751      83.4  0.021670\n",
       "9905     ロジジェンス  -0.358569     260.7  0.021375\n",
       "9902  サンマルストロング   0.358569     111.4  0.018788\n",
       "9907    カゼニナッテル  -0.597614     160.9  0.014061\n",
       "9904    ライジンシチー  -0.119523     280.6  0.012564\n",
       "9906   ヒロノビックバン  -1.553797     392.5  0.007956"
      ]
     },
     "metadata": {},
     "output_type": "display_data"
    }
   ],
   "source": [
    "tmp = df_pred[df_pred[\"id_for_fold\"] == 2025032306020803][[\"horse\", \"horse_num\", \"win_odds\", \"pred\"]]\n",
    "tmp[\"pred\"] = tmp[\"pred\"] / tmp[\"pred\"].sum()\n",
    "display(tmp.sort_values(\"pred\", ascending=False))"
   ]
  },
  {
   "cell_type": "markdown",
   "id": "add68d59",
   "metadata": {},
   "source": [
    "#### 安田記念↓"
   ]
  },
  {
   "cell_type": "code",
   "execution_count": 24,
   "id": "204b8ff2",
   "metadata": {},
   "outputs": [
    {
     "data": {
      "text/html": [
       "<div>\n",
       "<style scoped>\n",
       "    .dataframe tbody tr th:only-of-type {\n",
       "        vertical-align: middle;\n",
       "    }\n",
       "\n",
       "    .dataframe tbody tr th {\n",
       "        vertical-align: top;\n",
       "    }\n",
       "\n",
       "    .dataframe thead th {\n",
       "        text-align: right;\n",
       "    }\n",
       "</style>\n",
       "<table border=\"1\" class=\"dataframe\">\n",
       "  <thead>\n",
       "    <tr style=\"text-align: right;\">\n",
       "      <th></th>\n",
       "      <th>horse</th>\n",
       "      <th>horse_num</th>\n",
       "      <th>win_odds</th>\n",
       "      <th>pred</th>\n",
       "    </tr>\n",
       "  </thead>\n",
       "  <tbody>\n",
       "    <tr>\n",
       "      <th>14</th>\n",
       "      <td>ジャンタルマンタル</td>\n",
       "      <td>0.093659</td>\n",
       "      <td>4.3</td>\n",
       "      <td>0.309616</td>\n",
       "    </tr>\n",
       "    <tr>\n",
       "      <th>25</th>\n",
       "      <td>シックスペンス</td>\n",
       "      <td>-1.592196</td>\n",
       "      <td>4.4</td>\n",
       "      <td>0.161584</td>\n",
       "    </tr>\n",
       "    <tr>\n",
       "      <th>30</th>\n",
       "      <td>トロヴァトーレ</td>\n",
       "      <td>1.217562</td>\n",
       "      <td>29.6</td>\n",
       "      <td>0.074694</td>\n",
       "    </tr>\n",
       "    <tr>\n",
       "      <th>16</th>\n",
       "      <td>ソウルラッシュ</td>\n",
       "      <td>0.655610</td>\n",
       "      <td>3.3</td>\n",
       "      <td>0.068774</td>\n",
       "    </tr>\n",
       "    <tr>\n",
       "      <th>23</th>\n",
       "      <td>マッドクール</td>\n",
       "      <td>-1.217562</td>\n",
       "      <td>35.4</td>\n",
       "      <td>0.050762</td>\n",
       "    </tr>\n",
       "    <tr>\n",
       "      <th>22</th>\n",
       "      <td>ウォーターリヒト</td>\n",
       "      <td>0.842927</td>\n",
       "      <td>13.0</td>\n",
       "      <td>0.047526</td>\n",
       "    </tr>\n",
       "    <tr>\n",
       "      <th>20</th>\n",
       "      <td>エコロヴァルツ</td>\n",
       "      <td>-0.280976</td>\n",
       "      <td>18.8</td>\n",
       "      <td>0.046977</td>\n",
       "    </tr>\n",
       "    <tr>\n",
       "      <th>18</th>\n",
       "      <td>ウインマーベル</td>\n",
       "      <td>-1.030244</td>\n",
       "      <td>38.3</td>\n",
       "      <td>0.039075</td>\n",
       "    </tr>\n",
       "    <tr>\n",
       "      <th>17</th>\n",
       "      <td>ブレイディヴェーグ</td>\n",
       "      <td>1.592196</td>\n",
       "      <td>9.4</td>\n",
       "      <td>0.035604</td>\n",
       "    </tr>\n",
       "    <tr>\n",
       "      <th>21</th>\n",
       "      <td>サクラトゥジュール</td>\n",
       "      <td>0.280976</td>\n",
       "      <td>72.1</td>\n",
       "      <td>0.031356</td>\n",
       "    </tr>\n",
       "    <tr>\n",
       "      <th>24</th>\n",
       "      <td>ジュンブロッサム</td>\n",
       "      <td>1.404879</td>\n",
       "      <td>13.7</td>\n",
       "      <td>0.030985</td>\n",
       "    </tr>\n",
       "    <tr>\n",
       "      <th>26</th>\n",
       "      <td>ロングラン</td>\n",
       "      <td>0.468293</td>\n",
       "      <td>87.6</td>\n",
       "      <td>0.021912</td>\n",
       "    </tr>\n",
       "    <tr>\n",
       "      <th>28</th>\n",
       "      <td>レッドモンレーヴ</td>\n",
       "      <td>-0.842927</td>\n",
       "      <td>59.0</td>\n",
       "      <td>0.018325</td>\n",
       "    </tr>\n",
       "    <tr>\n",
       "      <th>27</th>\n",
       "      <td>ダディーズビビッド</td>\n",
       "      <td>-1.404879</td>\n",
       "      <td>235.2</td>\n",
       "      <td>0.015738</td>\n",
       "    </tr>\n",
       "    <tr>\n",
       "      <th>15</th>\n",
       "      <td>ガイアフォース</td>\n",
       "      <td>-0.468293</td>\n",
       "      <td>32.2</td>\n",
       "      <td>0.015248</td>\n",
       "    </tr>\n",
       "    <tr>\n",
       "      <th>29</th>\n",
       "      <td>グラティアス</td>\n",
       "      <td>-0.655610</td>\n",
       "      <td>418.2</td>\n",
       "      <td>0.011880</td>\n",
       "    </tr>\n",
       "    <tr>\n",
       "      <th>19</th>\n",
       "      <td>シャンパンカラー</td>\n",
       "      <td>-0.093659</td>\n",
       "      <td>73.9</td>\n",
       "      <td>0.011316</td>\n",
       "    </tr>\n",
       "    <tr>\n",
       "      <th>31</th>\n",
       "      <td>ホウオウリアリティ</td>\n",
       "      <td>1.030244</td>\n",
       "      <td>430.1</td>\n",
       "      <td>0.008626</td>\n",
       "    </tr>\n",
       "  </tbody>\n",
       "</table>\n",
       "</div>"
      ],
      "text/plain": [
       "        horse  horse_num  win_odds      pred\n",
       "14  ジャンタルマンタル   0.093659       4.3  0.309616\n",
       "25    シックスペンス  -1.592196       4.4  0.161584\n",
       "30    トロヴァトーレ   1.217562      29.6  0.074694\n",
       "16    ソウルラッシュ   0.655610       3.3  0.068774\n",
       "23     マッドクール  -1.217562      35.4  0.050762\n",
       "22   ウォーターリヒト   0.842927      13.0  0.047526\n",
       "20    エコロヴァルツ  -0.280976      18.8  0.046977\n",
       "18    ウインマーベル  -1.030244      38.3  0.039075\n",
       "17  ブレイディヴェーグ   1.592196       9.4  0.035604\n",
       "21  サクラトゥジュール   0.280976      72.1  0.031356\n",
       "24   ジュンブロッサム   1.404879      13.7  0.030985\n",
       "26      ロングラン   0.468293      87.6  0.021912\n",
       "28   レッドモンレーヴ  -0.842927      59.0  0.018325\n",
       "27  ダディーズビビッド  -1.404879     235.2  0.015738\n",
       "15    ガイアフォース  -0.468293      32.2  0.015248\n",
       "29     グラティアス  -0.655610     418.2  0.011880\n",
       "19   シャンパンカラー  -0.093659      73.9  0.011316\n",
       "31  ホウオウリアリティ   1.030244     430.1  0.008626"
      ]
     },
     "metadata": {},
     "output_type": "display_data"
    }
   ],
   "source": [
    "tmp = df_pred[df_pred[\"id_for_fold\"] == 2025060805030211][[\"horse\", \"horse_num\", \"win_odds\", \"pred\"]]\n",
    "tmp[\"pred\"] = tmp[\"pred\"] / tmp[\"pred\"].sum()\n",
    "display(tmp.sort_values(\"pred\", ascending=False))"
   ]
  },
  {
   "cell_type": "code",
   "execution_count": 22,
   "id": "2efc134d",
   "metadata": {},
   "outputs": [
    {
     "name": "stdout",
     "output_type": "stream",
     "text": [
      "購入点数: 1435点\n",
      "払い戻し合計: 112320.0円\n",
      "投資額: 143500円\n",
      "収支: -31180.0円\n",
      "ROI（回収率）: 78.27%\n"
     ]
    }
   ],
   "source": [
    "# 各レースで、一番確率が高い単勝のみ購入した場合の勝ち額\n",
    "def calc_max_pred_strategy(pred_df):\n",
    "    pred_df[\"max_pred\"] = pred_df.groupby(\"id_for_fold\", observed=True)[\"pred\"].transform(\"max\")\n",
    "    pred_df[\"max_pred_flg\"] = pred_df[\"max_pred\"] == pred_df[\"pred\"]\n",
    "    pred_df[\"bought_ticket_flg\"] = pred_df[\"max_pred_flg\"].astype(int)\n",
    "    pred_df[\"bought_and_winning_odds\"] = pred_df[\"bought_ticket_flg\"] * pred_df[\"target\"] * pred_df[\"win_odds\"]\n",
    "\n",
    "\n",
    "    # とりあえず100円賭ける\n",
    "    total_win = pred_df[\"bought_and_winning_odds\"].sum() * 100  # 払戻額（円単位）\n",
    "    bought_ticket_sum = pred_df[\"bought_ticket_flg\"].sum()\n",
    "    total_bet = bought_ticket_sum * 100  # 賭け金（1点100円）\n",
    "    net_profit = total_win - total_bet\n",
    "\n",
    "    print(f\"購入点数: {bought_ticket_sum}点\")\n",
    "    print(f\"払い戻し合計: {total_win:.1f}円\")\n",
    "    print(f\"投資額: {total_bet}円\")\n",
    "    print(f\"収支: {net_profit:.1f}円\")\n",
    "    print(f\"ROI（回収率）: {total_win / total_bet * 100:.2f}%\")\n",
    "\n",
    "calc_max_pred_strategy(df_pred)"
   ]
  },
  {
   "cell_type": "code",
   "execution_count": null,
   "id": "f00980cd",
   "metadata": {},
   "outputs": [],
   "source": [
    "# ケリー基準？"
   ]
  },
  {
   "cell_type": "code",
   "execution_count": null,
   "id": "7ad5d571",
   "metadata": {},
   "outputs": [],
   "source": []
  }
 ],
 "metadata": {
  "kernelspec": {
   "display_name": ".env",
   "language": "python",
   "name": "python3"
  },
  "language_info": {
   "codemirror_mode": {
    "name": "ipython",
    "version": 3
   },
   "file_extension": ".py",
   "mimetype": "text/x-python",
   "name": "python",
   "nbconvert_exporter": "python",
   "pygments_lexer": "ipython3",
   "version": "3.11.9"
  }
 },
 "nbformat": 4,
 "nbformat_minor": 5
}
