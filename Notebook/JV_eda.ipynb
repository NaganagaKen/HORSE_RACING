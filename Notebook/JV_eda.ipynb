{
 "cells": [
  {
   "cell_type": "code",
   "execution_count": 1,
   "id": "77a408e7",
   "metadata": {},
   "outputs": [],
   "source": [
    "import pandas as pd\n",
    "import numpy as np\n",
    "import matplotlib.pyplot as plt\n",
    "import seaborn as sns\n",
    "from pathlib import Path\n",
    "import sys\n",
    "\n",
    "module_path = (Path().resolve().parent/ \"Modules\")\n",
    "sys.path.append(str(module_path))\n",
    "\n",
    "import my_modules, model_tuner, features\n",
    "\n",
    "pd.set_option(\"display.max_columns\", None)\n",
    "pd.set_option(\"display.max_info_columns\", 100)"
   ]
  },
  {
   "cell_type": "code",
   "execution_count": 2,
   "id": "12a1a79c",
   "metadata": {},
   "outputs": [],
   "source": [
    "df = pd.read_csv(\"../Data/train_data_tmp.csv\", encoding=\"shift-jis\")\n",
    "odds_df = pd.read_csv(\"../Data/Time_Series_Odds_win_odds.csv\", encoding=\"shift-jis\")"
   ]
  },
  {
   "cell_type": "code",
   "execution_count": 3,
   "id": "9b6a339a",
   "metadata": {},
   "outputs": [],
   "source": [
    "df2 = my_modules.preprocessing(df)"
   ]
  },
  {
   "cell_type": "code",
   "execution_count": 4,
   "id": "812a567d",
   "metadata": {},
   "outputs": [
    {
     "name": "stderr",
     "output_type": "stream",
     "text": [
      "C:\\Users\\ken05\\Documents\\others\\HORSE_RACING\\Modules\\my_modules.py:76: FutureWarning: Downcasting behavior in `replace` is deprecated and will be removed in a future version. To retain the old behavior, explicitly call `result.infer_objects(copy=False)`. To opt-in to the future behavior, set `pd.set_option('future.no_silent_downcasting', True)`\n",
      "  df[\"place_num\"] = df[\"place\"].replace(place_dict).astype(int)\n"
     ]
    }
   ],
   "source": [
    "df3 = my_modules.common_process(df2)"
   ]
  },
  {
   "cell_type": "code",
   "execution_count": 5,
   "id": "1a787d3e",
   "metadata": {},
   "outputs": [
    {
     "name": "stdout",
     "output_type": "stream",
     "text": [
      "<class 'pandas.core.frame.DataFrame'>\n",
      "Index: 252411 entries, 252634 to 0\n",
      "Data columns (total 74 columns):\n",
      " #   Column               Non-Null Count   Dtype         \n",
      "---  ------               --------------   -----         \n",
      " 0   PCI                  251103 non-null  float64       \n",
      " 1   PCI3                 252411 non-null  float64       \n",
      " 2   RPCI                 252411 non-null  float64       \n",
      " 3   race_id              252411 non-null  int64         \n",
      " 4   year                 252411 non-null  int64         \n",
      " 5   month                252411 non-null  int64         \n",
      " 6   day                  252411 non-null  int64         \n",
      " 7   times                252411 non-null  int64         \n",
      " 8   place                252411 non-null  object        \n",
      " 9   daily                252411 non-null  object        \n",
      " 10  race_num             252411 non-null  int64         \n",
      " 11  horse                252411 non-null  object        \n",
      " 12  jockey_id            252411 non-null  object        \n",
      " 13  trainer_id           252411 non-null  int64         \n",
      " 14  horse_N              252411 non-null  object        \n",
      " 15  waku_num             252411 non-null  int64         \n",
      " 16  horse_num            252411 non-null  int64         \n",
      " 17  class_code           252411 non-null  object        \n",
      " 18  track_code           252411 non-null  object        \n",
      " 19  corner_num           252411 non-null  int64         \n",
      " 20  dist                 252411 non-null  int64         \n",
      " 21  state                252411 non-null  object        \n",
      " 22  weather              252411 non-null  object        \n",
      " 23  age_code             252411 non-null  object        \n",
      " 24  sex                  252411 non-null  object        \n",
      " 25  age                  252411 non-null  int64         \n",
      " 26  basis_weight         252411 non-null  float64       \n",
      " 27  blinker              29274 non-null   object        \n",
      " 28  weight               252406 non-null  float64       \n",
      " 29  inc_dec              227059 non-null  float64       \n",
      " 30  weight_code          252411 non-null  object        \n",
      " 31  win_odds             251912 non-null  float64       \n",
      " 32  win_odds_1           252411 non-null  float64       \n",
      " 33  win_odds_1_pop       252411 non-null  int64         \n",
      " 34  win_odds_2           252411 non-null  float64       \n",
      " 35  win_odds_2_pop       252411 non-null  int64         \n",
      " 36  win_mul_odds_Hi      251912 non-null  float64       \n",
      " 37  win_mul_odds_Lo      251912 non-null  float64       \n",
      " 38  win_mul_odds_1_Hi    252411 non-null  float64       \n",
      " 39  win_mul_odds_1_Lo    252411 non-null  float64       \n",
      " 40  win_mul_odds_1_pop   252411 non-null  int64         \n",
      " 41  win_mul_odds_2_Hi    252411 non-null  float64       \n",
      " 42  win_mul_odds_2_Lo    252411 non-null  float64       \n",
      " 43  win_mul_odds_2_pop   252411 non-null  int64         \n",
      " 44  rank                 252411 non-null  int64         \n",
      " 45  time_diff            252411 non-null  object        \n",
      " 46  time                 252411 non-null  object        \n",
      " 47  corner1_rank         105329 non-null  float64       \n",
      " 48  corner2_rank         121495 non-null  float64       \n",
      " 49  corner3_rank         249628 non-null  float64       \n",
      " 50  corner4_rank         251512 non-null  float64       \n",
      " 51  last_3F_time         251108 non-null  float64       \n",
      " 52  last_3F_rank         252411 non-null  int64         \n",
      " 53  Ave_3F               251108 non-null  float64       \n",
      " 54  last_3F_time_diff    251108 non-null  float64       \n",
      " 55  leg                  251108 non-null  object        \n",
      " 56  pop                  251912 non-null  float64       \n",
      " 57  prize                252411 non-null  int64         \n",
      " 58  error_code           252411 non-null  int64         \n",
      " 59  father               252411 non-null  object        \n",
      " 60  mother               252411 non-null  object        \n",
      " 61  broodmare_sire       252411 non-null  object        \n",
      " 62  broodmare_sire_type  244771 non-null  object        \n",
      " 63  horse_color          252411 non-null  object        \n",
      " 64  id                   252411 non-null  int64         \n",
      " 65  id_for_fold          252411 non-null  category      \n",
      " 66  field_type           252411 non-null  object        \n",
      " 67  flat_or_jump         252411 non-null  object        \n",
      " 68  turn_type            252411 non-null  object        \n",
      " 69  race_type            252411 non-null  object        \n",
      " 70  waku                 252411 non-null  object        \n",
      " 71  datetime             252411 non-null  datetime64[ns]\n",
      " 72  target               252411 non-null  int64         \n",
      " 73  target3              252411 non-null  int64         \n",
      "dtypes: category(1), datetime64[ns](1), float64(23), int64(23), object(26)\n",
      "memory usage: 143.6+ MB\n"
     ]
    }
   ],
   "source": [
    "df3.info()"
   ]
  },
  {
   "cell_type": "code",
   "execution_count": 6,
   "id": "631ca4ea",
   "metadata": {},
   "outputs": [
    {
     "name": "stdout",
     "output_type": "stream",
     "text": [
      "calculating trueskill of horse is processing\n",
      "calculating trueskill of jockey is processing\n",
      "['waku_num', 'horse_num', 'sex', 'age', 'basis_weight', 'weight', 'inc_dec', 'weight_last_1', 'weight_last_2', 'weight_last_3', 'weight_mean_last_1_to_3', 'weight_mean_all', 'inc_dec_last_1', 'inc_dec_last_2', 'inc_dec_last_3', 'inc_dec_mean_last_1_to_3', 'inc_dec_mean_all', 'last_3F_time_last_1', 'last_3F_time_last_2', 'last_3F_time_last_3', 'last_3F_time_mean_last_1_to_3', 'last_3F_time_mean_all', 'Ave_3F_last_1', 'Ave_3F_last_2', 'Ave_3F_last_3', 'Ave_3F_mean_last_1_to_3', 'Ave_3F_mean_all', 'all_win_rate_horse', 'all_win_rate3_horse', 'horse_win_rate_dist', 'horse_win_rate3_dist', 'horse_win_rate_track_code', 'horse_win_rate3_track_code', 'horse_win_rate_field_type', 'horse_win_rate3_field_type', 'horse_win_rate_turn_type', 'horse_win_rate3_turn_type', 'horse_win_rate_weather', 'horse_win_rate3_weather', 'horse_win_rate_state', 'horse_win_rate3_state', 'horse_win_rate_place', 'horse_win_rate3_place', 'horse_win_rate_corner_num', 'horse_win_rate3_corner_num', 'horse_win_rate_class_code', 'horse_win_rate3_class_code', 'horse_win_rate_basis_weight', 'horse_win_rate3_basis_weight', 'horse_win_rate_age_code', 'horse_win_rate3_age_code', 'horse_win_rate_weight_code', 'horse_win_rate3_weight_code', 'horse_win_rate_jockey_id', 'horse_win_rate3_jockey_id', 'horse_win_rate_jockey_id_class_code', 'horse_win_rate3_jockey_id_class_code', 'horse_win_rate_jockey_id_place', 'horse_win_rate3_jockey_id_place', 'horse_win_rate_jockey_id_dist', 'horse_win_rate3_jockey_id_dist', 'horse_win_rate_jockey_id_field_type', 'horse_win_rate3_jockey_id_field_type', 'horse_win_rate_jockey_id_place_dist', 'horse_win_rate3_jockey_id_place_dist', 'horse_win_rate_jockey_id_place_field_type_dist', 'horse_win_rate3_jockey_id_place_field_type_dist', 'horse_win_rate_weather_state', 'horse_win_rate3_weather_state', 'horse_win_rate_dist_corner_num', 'horse_win_rate3_dist_corner_num', 'horse_win_rate_dist_track_code', 'horse_win_rate3_dist_track_code', 'horse_win_rate_dist_class_code', 'horse_win_rate3_dist_class_code', 'horse_win_rate_place_field_type_dist', 'horse_win_rate3_place_field_type_dist', 'horse_win_rate_place_field_type_dist_class_code', 'horse_win_rate3_place_field_type_dist_class_code', 'all_win_rate_dist_waku', 'all_win_rate3_dist_waku', 'all_win_rate_field_type_waku', 'all_win_rate3_field_type_waku', 'all_win_rate_place_waku', 'all_win_rate3_place_waku', 'all_win_rate_field_type_dist_waku', 'all_win_rate3_field_type_dist_waku', 'all_win_rate_dist_place_waku', 'all_win_rate3_dist_place_waku', 'all_win_rate_field_type_place_waku', 'all_win_rate3_field_type_place_waku', 'all_win_rate_race_type_waku', 'all_win_rate3_race_type_waku', 'all_win_rate_corner_num_waku', 'all_win_rate3_corner_num_waku', 'all_win_rate_corner_num_dist_waku', 'all_win_rate3_corner_num_dist_waku', 'all_win_rate_corner_num_place_waku', 'all_win_rate3_corner_num_place_waku', 'all_win_rate_corner_num_field_type_waku', 'all_win_rate3_corner_num_field_type_waku', 'all_win_rate_jockey_id', 'all_win_rate3_jockey_id', 'all_win_rate_jockey_id_place', 'all_win_rate3_jockey_id_place', 'all_win_rate_jockey_id_place_dist', 'all_win_rate3_jockey_id_place_dist', 'all_win_rate_jockey_id_field_type', 'all_win_rate3_jockey_id_field_type', 'all_win_rate_jockey_id_field_type_dist', 'all_win_rate3_jockey_id_field_type_dist', 'all_win_rate_jockey_id_field_type_place', 'all_win_rate3_jockey_id_field_type_place', 'all_win_rate_jockey_id_dist', 'all_win_rate3_jockey_id_dist', 'all_win_rate_jockey_id_race_type', 'all_win_rate3_jockey_id_race_type', 'all_win_rate_jockey_id_race_type_waku', 'all_win_rate3_jockey_id_race_type_waku', 'all_win_rate_jockey_id_class_code', 'all_win_rate3_jockey_id_class_code', 'all_win_rate_jockey_id_class_code_place', 'all_win_rate3_jockey_id_class_code_place', 'all_win_rate_jockey_id_class_code_dist', 'all_win_rate3_jockey_id_class_code_dist', 'all_win_rate_jockey_id_class_code_field_type', 'all_win_rate3_jockey_id_class_code_field_type', 'all_win_rate_jockey_id_class_code_race_type', 'all_win_rate3_jockey_id_class_code_race_type', 'all_win_rate_jockey_id_class_code_race_type_waku', 'all_win_rate3_jockey_id_class_code_race_type_waku', 'all_win_rate_jockey_id_turn_type', 'all_win_rate3_jockey_id_turn_type', 'all_win_rate_jockey_id_turn_type_dist', 'all_win_rate3_jockey_id_turn_type_dist', 'all_win_rate_jockey_id_turn_type_place', 'all_win_rate3_jockey_id_turn_type_place', 'all_win_rate_jockey_id_turn_type_field_type', 'all_win_rate3_jockey_id_turn_type_field_type', 'all_win_rate_jockey_id_turn_type_dist_place', 'all_win_rate3_jockey_id_turn_type_dist_place', 'all_win_rate_jockey_id_turn_type_dist_field_type', 'all_win_rate3_jockey_id_turn_type_dist_field_type', 'all_win_rate_jockey_id_turn_type_place_field_type', 'all_win_rate3_jockey_id_turn_type_place_field_type', 'all_win_rate_jockey_id_turn_type_dist_waku', 'all_win_rate3_jockey_id_turn_type_dist_waku', 'all_win_rate_jockey_id_turn_type_place_waku', 'all_win_rate3_jockey_id_turn_type_place_waku', 'all_win_rate_jockey_id_turn_type_field_type_waku', 'all_win_rate3_jockey_id_turn_type_field_type_waku', 'all_win_rate_jockey_id_turn_type_dist_place_waku', 'all_win_rate3_jockey_id_turn_type_dist_place_waku', 'all_win_rate_jockey_id_turn_type_dist_field_type_waku', 'all_win_rate3_jockey_id_turn_type_dist_field_type_waku', 'all_win_rate_jockey_id_turn_type_place_field_type_waku', 'all_win_rate3_jockey_id_turn_type_place_field_type_waku', 'all_win_rate_trainer_id', 'all_win_rate3_trainer_id', 'all_win_rate_trainer_id_place', 'all_win_rate3_trainer_id_place', 'all_win_rate_trainer_id_place_dist', 'all_win_rate3_trainer_id_place_dist', 'all_win_rate_trainer_id_field_type', 'all_win_rate3_trainer_id_field_type', 'all_win_rate_trainer_id_field_type_dist', 'all_win_rate3_trainer_id_field_type_dist', 'all_win_rate_trainer_id_field_type_place', 'all_win_rate3_trainer_id_field_type_place', 'all_win_rate_trainer_id_dist', 'all_win_rate3_trainer_id_dist', 'all_win_rate_trainer_id_race_type', 'all_win_rate3_trainer_id_race_type', 'all_win_rate_trainer_id_race_type_waku', 'all_win_rate3_trainer_id_race_type_waku', 'all_win_rate_trainer_id_class_code', 'all_win_rate3_trainer_id_class_code', 'all_win_rate_trainer_id_class_code_place', 'all_win_rate3_trainer_id_class_code_place', 'all_win_rate_trainer_id_class_code_dist', 'all_win_rate3_trainer_id_class_code_dist', 'all_win_rate_trainer_id_class_code_field_type', 'all_win_rate3_trainer_id_class_code_field_type', 'all_win_rate_trainer_id_class_code_race_type', 'all_win_rate3_trainer_id_class_code_race_type', 'all_win_rate_trainer_id_class_code_race_type_waku', 'all_win_rate3_trainer_id_class_code_race_type_waku', 'all_win_rate_mother', 'all_win_rate3_mother', 'all_win_rate_mother_place', 'all_win_rate3_mother_place', 'all_win_rate_mother_dist', 'all_win_rate3_mother_dist', 'all_win_rate_mother_field_type', 'all_win_rate3_mother_field_type', 'all_win_rate_mother_state', 'all_win_rate3_mother_state', 'all_win_rate_mother_turn_type', 'all_win_rate3_mother_turn_type', 'all_win_rate_mother_race_type', 'all_win_rate3_mother_race_type', 'all_win_rate_mother_track_code', 'all_win_rate3_mother_track_code', 'all_win_rate_mother_class_code', 'all_win_rate3_mother_class_code', 'all_win_rate_mother_corner_num', 'all_win_rate3_mother_corner_num', 'all_win_rate_mother_place_dist', 'all_win_rate3_mother_place_dist', 'all_win_rate_mother_state_dist', 'all_win_rate3_mother_state_dist', 'all_win_rate_mother_place_field_type', 'all_win_rate3_mother_place_field_type', 'all_win_rate_mother_dist_field_type', 'all_win_rate3_mother_dist_field_type', 'all_win_rate_father', 'all_win_rate3_father', 'all_win_rate_father_place', 'all_win_rate3_father_place', 'all_win_rate_father_dist', 'all_win_rate3_father_dist', 'all_win_rate_father_field_type', 'all_win_rate3_father_field_type', 'all_win_rate_father_state', 'all_win_rate3_father_state', 'all_win_rate_father_turn_type', 'all_win_rate3_father_turn_type', 'all_win_rate_father_race_type', 'all_win_rate3_father_race_type', 'all_win_rate_father_track_code', 'all_win_rate3_father_track_code', 'all_win_rate_father_class_code', 'all_win_rate3_father_class_code', 'all_win_rate_father_corner_num', 'all_win_rate3_father_corner_num', 'all_win_rate_father_place_dist', 'all_win_rate3_father_place_dist', 'all_win_rate_father_state_dist', 'all_win_rate3_father_state_dist', 'all_win_rate_father_place_field_type', 'all_win_rate3_father_place_field_type', 'all_win_rate_father_dist_field_type', 'all_win_rate3_father_dist_field_type', 'basis_weight_per_weight', 'basis_weight_plus_weight', 'inc_dec_rate', 'lifetime_prize', 'lifetime_prize_per_race', 'is_same_field_type_as_last', 'is_same_class_code_as_last', 'is_same_jockey_as_last', 'interval_day', 'interval_week', 'horse_TrueSkill', 'jockey_TrueSkill', 'HorseTrueSkill_times_JockeyTrueSkill', 'HorseTrueSkill_plus_JockeyTrueSkill', 'pre_win_odds_mean', 'pre_win_odds_rate_16', 'pre_win_odds_rate_17', 'pre_win_odds_rate_18', 'pre_win_odds_rate_19', 'pre_win_odds_rate_20', 'pre_win_odds_15', 'pre_win_odds_16', 'pre_win_odds_17', 'pre_win_odds_18', 'pre_win_odds_19', 'pre_win_odds_20']\n"
     ]
    },
    {
     "data": {
      "text/html": [
       "<div>\n",
       "<style scoped>\n",
       "    .dataframe tbody tr th:only-of-type {\n",
       "        vertical-align: middle;\n",
       "    }\n",
       "\n",
       "    .dataframe tbody tr th {\n",
       "        vertical-align: top;\n",
       "    }\n",
       "\n",
       "    .dataframe thead th {\n",
       "        text-align: right;\n",
       "    }\n",
       "</style>\n",
       "<table border=\"1\" class=\"dataframe\">\n",
       "  <thead>\n",
       "    <tr style=\"text-align: right;\">\n",
       "      <th></th>\n",
       "      <th>PCI</th>\n",
       "      <th>PCI3</th>\n",
       "      <th>RPCI</th>\n",
       "      <th>race_id</th>\n",
       "      <th>year</th>\n",
       "      <th>month</th>\n",
       "      <th>day</th>\n",
       "      <th>times</th>\n",
       "      <th>place</th>\n",
       "      <th>daily</th>\n",
       "      <th>race_num</th>\n",
       "      <th>horse</th>\n",
       "      <th>jockey_id</th>\n",
       "      <th>trainer_id</th>\n",
       "      <th>horse_N</th>\n",
       "      <th>waku_num</th>\n",
       "      <th>horse_num</th>\n",
       "      <th>class_code</th>\n",
       "      <th>track_code</th>\n",
       "      <th>corner_num</th>\n",
       "      <th>dist</th>\n",
       "      <th>state</th>\n",
       "      <th>weather</th>\n",
       "      <th>age_code</th>\n",
       "      <th>sex</th>\n",
       "      <th>age</th>\n",
       "      <th>basis_weight</th>\n",
       "      <th>blinker</th>\n",
       "      <th>weight</th>\n",
       "      <th>inc_dec</th>\n",
       "      <th>weight_code</th>\n",
       "      <th>win_odds</th>\n",
       "      <th>win_odds_1</th>\n",
       "      <th>win_odds_1_pop</th>\n",
       "      <th>win_odds_2</th>\n",
       "      <th>win_odds_2_pop</th>\n",
       "      <th>win_mul_odds_Hi</th>\n",
       "      <th>win_mul_odds_Lo</th>\n",
       "      <th>win_mul_odds_1_Hi</th>\n",
       "      <th>win_mul_odds_1_Lo</th>\n",
       "      <th>win_mul_odds_1_pop</th>\n",
       "      <th>win_mul_odds_2_Hi</th>\n",
       "      <th>win_mul_odds_2_Lo</th>\n",
       "      <th>win_mul_odds_2_pop</th>\n",
       "      <th>rank</th>\n",
       "      <th>time_diff</th>\n",
       "      <th>time</th>\n",
       "      <th>corner1_rank</th>\n",
       "      <th>corner2_rank</th>\n",
       "      <th>corner3_rank</th>\n",
       "      <th>corner4_rank</th>\n",
       "      <th>last_3F_time</th>\n",
       "      <th>last_3F_rank</th>\n",
       "      <th>Ave_3F</th>\n",
       "      <th>last_3F_time_diff</th>\n",
       "      <th>leg</th>\n",
       "      <th>pop</th>\n",
       "      <th>prize</th>\n",
       "      <th>error_code</th>\n",
       "      <th>father</th>\n",
       "      <th>mother</th>\n",
       "      <th>broodmare_sire</th>\n",
       "      <th>broodmare_sire_type</th>\n",
       "      <th>horse_color</th>\n",
       "      <th>id</th>\n",
       "      <th>id_for_fold</th>\n",
       "      <th>field_type</th>\n",
       "      <th>flat_or_jump</th>\n",
       "      <th>turn_type</th>\n",
       "      <th>race_type</th>\n",
       "      <th>waku</th>\n",
       "      <th>datetime</th>\n",
       "      <th>target</th>\n",
       "      <th>target3</th>\n",
       "      <th>weight_last_1</th>\n",
       "      <th>weight_last_2</th>\n",
       "      <th>weight_last_3</th>\n",
       "      <th>weight_mean_last_1_to_3</th>\n",
       "      <th>weight_mean_all</th>\n",
       "      <th>inc_dec_last_1</th>\n",
       "      <th>inc_dec_last_2</th>\n",
       "      <th>inc_dec_last_3</th>\n",
       "      <th>inc_dec_mean_last_1_to_3</th>\n",
       "      <th>inc_dec_mean_all</th>\n",
       "      <th>last_3F_time_last_1</th>\n",
       "      <th>last_3F_time_last_2</th>\n",
       "      <th>last_3F_time_last_3</th>\n",
       "      <th>last_3F_time_mean_last_1_to_3</th>\n",
       "      <th>last_3F_time_mean_all</th>\n",
       "      <th>Ave_3F_last_1</th>\n",
       "      <th>Ave_3F_last_2</th>\n",
       "      <th>Ave_3F_last_3</th>\n",
       "      <th>Ave_3F_mean_last_1_to_3</th>\n",
       "      <th>Ave_3F_mean_all</th>\n",
       "      <th>horse_win_rate_dist</th>\n",
       "      <th>horse_win_rate3_dist</th>\n",
       "      <th>horse_win_rate_track_code</th>\n",
       "      <th>horse_win_rate3_track_code</th>\n",
       "      <th>horse_win_rate_field_type</th>\n",
       "      <th>horse_win_rate3_field_type</th>\n",
       "      <th>horse_win_rate_turn_type</th>\n",
       "      <th>horse_win_rate3_turn_type</th>\n",
       "      <th>horse_win_rate_weather</th>\n",
       "      <th>horse_win_rate3_weather</th>\n",
       "      <th>horse_win_rate_state</th>\n",
       "      <th>horse_win_rate3_state</th>\n",
       "      <th>horse_win_rate_place</th>\n",
       "      <th>horse_win_rate3_place</th>\n",
       "      <th>horse_win_rate_corner_num</th>\n",
       "      <th>horse_win_rate3_corner_num</th>\n",
       "      <th>horse_win_rate_class_code</th>\n",
       "      <th>horse_win_rate3_class_code</th>\n",
       "      <th>horse_win_rate_basis_weight</th>\n",
       "      <th>horse_win_rate3_basis_weight</th>\n",
       "      <th>horse_win_rate_age_code</th>\n",
       "      <th>horse_win_rate3_age_code</th>\n",
       "      <th>horse_win_rate_weight_code</th>\n",
       "      <th>horse_win_rate3_weight_code</th>\n",
       "      <th>horse_win_rate_jockey_id</th>\n",
       "      <th>horse_win_rate3_jockey_id</th>\n",
       "      <th>horse_win_rate_jockey_id_class_code</th>\n",
       "      <th>horse_win_rate3_jockey_id_class_code</th>\n",
       "      <th>horse_win_rate_jockey_id_place</th>\n",
       "      <th>horse_win_rate3_jockey_id_place</th>\n",
       "      <th>horse_win_rate_jockey_id_dist</th>\n",
       "      <th>horse_win_rate3_jockey_id_dist</th>\n",
       "      <th>horse_win_rate_jockey_id_field_type</th>\n",
       "      <th>horse_win_rate3_jockey_id_field_type</th>\n",
       "      <th>horse_win_rate_jockey_id_place_dist</th>\n",
       "      <th>horse_win_rate3_jockey_id_place_dist</th>\n",
       "      <th>horse_win_rate_jockey_id_place_field_type_dist</th>\n",
       "      <th>horse_win_rate3_jockey_id_place_field_type_dist</th>\n",
       "      <th>horse_win_rate_weather_state</th>\n",
       "      <th>horse_win_rate3_weather_state</th>\n",
       "      <th>horse_win_rate_dist_corner_num</th>\n",
       "      <th>horse_win_rate3_dist_corner_num</th>\n",
       "      <th>horse_win_rate_dist_track_code</th>\n",
       "      <th>horse_win_rate3_dist_track_code</th>\n",
       "      <th>horse_win_rate_dist_class_code</th>\n",
       "      <th>horse_win_rate3_dist_class_code</th>\n",
       "      <th>horse_win_rate_place_field_type_dist</th>\n",
       "      <th>horse_win_rate3_place_field_type_dist</th>\n",
       "      <th>horse_win_rate_place_field_type_dist_class_code</th>\n",
       "      <th>horse_win_rate3_place_field_type_dist_class_code</th>\n",
       "      <th>all_win_rate_horse</th>\n",
       "      <th>all_win_rate3_horse</th>\n",
       "      <th>all_win_rate_dist_waku</th>\n",
       "      <th>all_win_rate3_dist_waku</th>\n",
       "      <th>all_win_rate_field_type_waku</th>\n",
       "      <th>all_win_rate3_field_type_waku</th>\n",
       "      <th>all_win_rate_place_waku</th>\n",
       "      <th>all_win_rate3_place_waku</th>\n",
       "      <th>all_win_rate_field_type_dist_waku</th>\n",
       "      <th>all_win_rate3_field_type_dist_waku</th>\n",
       "      <th>all_win_rate_dist_place_waku</th>\n",
       "      <th>all_win_rate3_dist_place_waku</th>\n",
       "      <th>all_win_rate_field_type_place_waku</th>\n",
       "      <th>all_win_rate3_field_type_place_waku</th>\n",
       "      <th>all_win_rate_race_type_waku</th>\n",
       "      <th>all_win_rate3_race_type_waku</th>\n",
       "      <th>all_win_rate_corner_num_waku</th>\n",
       "      <th>all_win_rate3_corner_num_waku</th>\n",
       "      <th>all_win_rate_corner_num_dist_waku</th>\n",
       "      <th>all_win_rate3_corner_num_dist_waku</th>\n",
       "      <th>all_win_rate_corner_num_place_waku</th>\n",
       "      <th>all_win_rate3_corner_num_place_waku</th>\n",
       "      <th>all_win_rate_corner_num_field_type_waku</th>\n",
       "      <th>all_win_rate3_corner_num_field_type_waku</th>\n",
       "      <th>all_win_rate_jockey_id</th>\n",
       "      <th>all_win_rate3_jockey_id</th>\n",
       "      <th>all_win_rate_jockey_id_place</th>\n",
       "      <th>all_win_rate3_jockey_id_place</th>\n",
       "      <th>all_win_rate_jockey_id_place_dist</th>\n",
       "      <th>all_win_rate3_jockey_id_place_dist</th>\n",
       "      <th>all_win_rate_jockey_id_field_type</th>\n",
       "      <th>all_win_rate3_jockey_id_field_type</th>\n",
       "      <th>all_win_rate_jockey_id_field_type_dist</th>\n",
       "      <th>all_win_rate3_jockey_id_field_type_dist</th>\n",
       "      <th>all_win_rate_jockey_id_field_type_place</th>\n",
       "      <th>all_win_rate3_jockey_id_field_type_place</th>\n",
       "      <th>all_win_rate_jockey_id_dist</th>\n",
       "      <th>all_win_rate3_jockey_id_dist</th>\n",
       "      <th>all_win_rate_jockey_id_race_type</th>\n",
       "      <th>all_win_rate3_jockey_id_race_type</th>\n",
       "      <th>all_win_rate_jockey_id_race_type_waku</th>\n",
       "      <th>all_win_rate3_jockey_id_race_type_waku</th>\n",
       "      <th>all_win_rate_jockey_id_class_code</th>\n",
       "      <th>all_win_rate3_jockey_id_class_code</th>\n",
       "      <th>all_win_rate_jockey_id_class_code_place</th>\n",
       "      <th>all_win_rate3_jockey_id_class_code_place</th>\n",
       "      <th>all_win_rate_jockey_id_class_code_dist</th>\n",
       "      <th>all_win_rate3_jockey_id_class_code_dist</th>\n",
       "      <th>all_win_rate_jockey_id_class_code_field_type</th>\n",
       "      <th>all_win_rate3_jockey_id_class_code_field_type</th>\n",
       "      <th>all_win_rate_jockey_id_class_code_race_type</th>\n",
       "      <th>all_win_rate3_jockey_id_class_code_race_type</th>\n",
       "      <th>all_win_rate_jockey_id_class_code_race_type_waku</th>\n",
       "      <th>all_win_rate3_jockey_id_class_code_race_type_waku</th>\n",
       "      <th>all_win_rate_jockey_id_turn_type</th>\n",
       "      <th>all_win_rate3_jockey_id_turn_type</th>\n",
       "      <th>all_win_rate_jockey_id_turn_type_dist</th>\n",
       "      <th>all_win_rate3_jockey_id_turn_type_dist</th>\n",
       "      <th>all_win_rate_jockey_id_turn_type_place</th>\n",
       "      <th>all_win_rate3_jockey_id_turn_type_place</th>\n",
       "      <th>all_win_rate_jockey_id_turn_type_field_type</th>\n",
       "      <th>all_win_rate3_jockey_id_turn_type_field_type</th>\n",
       "      <th>all_win_rate_jockey_id_turn_type_dist_place</th>\n",
       "      <th>all_win_rate3_jockey_id_turn_type_dist_place</th>\n",
       "      <th>all_win_rate_jockey_id_turn_type_dist_field_type</th>\n",
       "      <th>all_win_rate3_jockey_id_turn_type_dist_field_type</th>\n",
       "      <th>all_win_rate_jockey_id_turn_type_place_field_type</th>\n",
       "      <th>all_win_rate3_jockey_id_turn_type_place_field_type</th>\n",
       "      <th>all_win_rate_jockey_id_turn_type_dist_waku</th>\n",
       "      <th>all_win_rate3_jockey_id_turn_type_dist_waku</th>\n",
       "      <th>all_win_rate_jockey_id_turn_type_place_waku</th>\n",
       "      <th>all_win_rate3_jockey_id_turn_type_place_waku</th>\n",
       "      <th>all_win_rate_jockey_id_turn_type_field_type_waku</th>\n",
       "      <th>all_win_rate3_jockey_id_turn_type_field_type_waku</th>\n",
       "      <th>all_win_rate_jockey_id_turn_type_dist_place_waku</th>\n",
       "      <th>all_win_rate3_jockey_id_turn_type_dist_place_waku</th>\n",
       "      <th>all_win_rate_jockey_id_turn_type_dist_field_type_waku</th>\n",
       "      <th>all_win_rate3_jockey_id_turn_type_dist_field_type_waku</th>\n",
       "      <th>all_win_rate_jockey_id_turn_type_place_field_type_waku</th>\n",
       "      <th>all_win_rate3_jockey_id_turn_type_place_field_type_waku</th>\n",
       "      <th>all_win_rate_trainer_id</th>\n",
       "      <th>all_win_rate3_trainer_id</th>\n",
       "      <th>all_win_rate_trainer_id_place</th>\n",
       "      <th>all_win_rate3_trainer_id_place</th>\n",
       "      <th>all_win_rate_trainer_id_place_dist</th>\n",
       "      <th>all_win_rate3_trainer_id_place_dist</th>\n",
       "      <th>all_win_rate_trainer_id_field_type</th>\n",
       "      <th>all_win_rate3_trainer_id_field_type</th>\n",
       "      <th>all_win_rate_trainer_id_field_type_dist</th>\n",
       "      <th>all_win_rate3_trainer_id_field_type_dist</th>\n",
       "      <th>all_win_rate_trainer_id_field_type_place</th>\n",
       "      <th>all_win_rate3_trainer_id_field_type_place</th>\n",
       "      <th>all_win_rate_trainer_id_dist</th>\n",
       "      <th>all_win_rate3_trainer_id_dist</th>\n",
       "      <th>all_win_rate_trainer_id_race_type</th>\n",
       "      <th>all_win_rate3_trainer_id_race_type</th>\n",
       "      <th>all_win_rate_trainer_id_race_type_waku</th>\n",
       "      <th>all_win_rate3_trainer_id_race_type_waku</th>\n",
       "      <th>all_win_rate_trainer_id_class_code</th>\n",
       "      <th>all_win_rate3_trainer_id_class_code</th>\n",
       "      <th>all_win_rate_trainer_id_class_code_place</th>\n",
       "      <th>all_win_rate3_trainer_id_class_code_place</th>\n",
       "      <th>all_win_rate_trainer_id_class_code_dist</th>\n",
       "      <th>all_win_rate3_trainer_id_class_code_dist</th>\n",
       "      <th>all_win_rate_trainer_id_class_code_field_type</th>\n",
       "      <th>all_win_rate3_trainer_id_class_code_field_type</th>\n",
       "      <th>all_win_rate_trainer_id_class_code_race_type</th>\n",
       "      <th>all_win_rate3_trainer_id_class_code_race_type</th>\n",
       "      <th>all_win_rate_trainer_id_class_code_race_type_waku</th>\n",
       "      <th>all_win_rate3_trainer_id_class_code_race_type_waku</th>\n",
       "      <th>all_win_rate_mother</th>\n",
       "      <th>all_win_rate3_mother</th>\n",
       "      <th>all_win_rate_mother_place</th>\n",
       "      <th>all_win_rate3_mother_place</th>\n",
       "      <th>all_win_rate_mother_dist</th>\n",
       "      <th>all_win_rate3_mother_dist</th>\n",
       "      <th>all_win_rate_mother_field_type</th>\n",
       "      <th>all_win_rate3_mother_field_type</th>\n",
       "      <th>all_win_rate_mother_state</th>\n",
       "      <th>all_win_rate3_mother_state</th>\n",
       "      <th>all_win_rate_mother_turn_type</th>\n",
       "      <th>all_win_rate3_mother_turn_type</th>\n",
       "      <th>all_win_rate_mother_race_type</th>\n",
       "      <th>all_win_rate3_mother_race_type</th>\n",
       "      <th>all_win_rate_mother_track_code</th>\n",
       "      <th>all_win_rate3_mother_track_code</th>\n",
       "      <th>all_win_rate_mother_class_code</th>\n",
       "      <th>all_win_rate3_mother_class_code</th>\n",
       "      <th>all_win_rate_mother_corner_num</th>\n",
       "      <th>all_win_rate3_mother_corner_num</th>\n",
       "      <th>all_win_rate_mother_place_dist</th>\n",
       "      <th>all_win_rate3_mother_place_dist</th>\n",
       "      <th>all_win_rate_mother_state_dist</th>\n",
       "      <th>all_win_rate3_mother_state_dist</th>\n",
       "      <th>all_win_rate_mother_place_field_type</th>\n",
       "      <th>all_win_rate3_mother_place_field_type</th>\n",
       "      <th>all_win_rate_mother_dist_field_type</th>\n",
       "      <th>all_win_rate3_mother_dist_field_type</th>\n",
       "      <th>all_win_rate_father</th>\n",
       "      <th>all_win_rate3_father</th>\n",
       "      <th>all_win_rate_father_place</th>\n",
       "      <th>all_win_rate3_father_place</th>\n",
       "      <th>all_win_rate_father_dist</th>\n",
       "      <th>all_win_rate3_father_dist</th>\n",
       "      <th>all_win_rate_father_field_type</th>\n",
       "      <th>all_win_rate3_father_field_type</th>\n",
       "      <th>all_win_rate_father_state</th>\n",
       "      <th>all_win_rate3_father_state</th>\n",
       "      <th>all_win_rate_father_turn_type</th>\n",
       "      <th>all_win_rate3_father_turn_type</th>\n",
       "      <th>all_win_rate_father_race_type</th>\n",
       "      <th>all_win_rate3_father_race_type</th>\n",
       "      <th>all_win_rate_father_track_code</th>\n",
       "      <th>all_win_rate3_father_track_code</th>\n",
       "      <th>all_win_rate_father_class_code</th>\n",
       "      <th>all_win_rate3_father_class_code</th>\n",
       "      <th>all_win_rate_father_corner_num</th>\n",
       "      <th>all_win_rate3_father_corner_num</th>\n",
       "      <th>all_win_rate_father_place_dist</th>\n",
       "      <th>all_win_rate3_father_place_dist</th>\n",
       "      <th>all_win_rate_father_state_dist</th>\n",
       "      <th>all_win_rate3_father_state_dist</th>\n",
       "      <th>all_win_rate_father_place_field_type</th>\n",
       "      <th>all_win_rate3_father_place_field_type</th>\n",
       "      <th>all_win_rate_father_dist_field_type</th>\n",
       "      <th>all_win_rate3_father_dist_field_type</th>\n",
       "      <th>basis_weight_per_weight</th>\n",
       "      <th>basis_weight_plus_weight</th>\n",
       "      <th>inc_dec_rate</th>\n",
       "      <th>lifetime_prize</th>\n",
       "      <th>lifetime_prize_per_race</th>\n",
       "      <th>is_same_field_type_as_last</th>\n",
       "      <th>is_same_class_code_as_last</th>\n",
       "      <th>is_same_jockey_as_last</th>\n",
       "      <th>interval_day</th>\n",
       "      <th>interval_week</th>\n",
       "      <th>horse_TrueSkill</th>\n",
       "      <th>jockey_TrueSkill</th>\n",
       "      <th>HorseTrueSkill_times_JockeyTrueSkill</th>\n",
       "      <th>HorseTrueSkill_plus_JockeyTrueSkill</th>\n",
       "      <th>pre_win_odds_mean</th>\n",
       "      <th>pre_win_odds_rate_16</th>\n",
       "      <th>pre_win_odds_rate_17</th>\n",
       "      <th>pre_win_odds_rate_18</th>\n",
       "      <th>pre_win_odds_rate_19</th>\n",
       "      <th>pre_win_odds_rate_20</th>\n",
       "      <th>pre_win_odds_15</th>\n",
       "      <th>pre_win_odds_16</th>\n",
       "      <th>pre_win_odds_17</th>\n",
       "      <th>pre_win_odds_18</th>\n",
       "      <th>pre_win_odds_19</th>\n",
       "      <th>pre_win_odds_20</th>\n",
       "    </tr>\n",
       "  </thead>\n",
       "  <tbody>\n",
       "    <tr>\n",
       "      <th>252406</th>\n",
       "      <td>45.7</td>\n",
       "      <td>48.27</td>\n",
       "      <td>48.4</td>\n",
       "      <td>202506150201021202</td>\n",
       "      <td>2025</td>\n",
       "      <td>6</td>\n",
       "      <td>15</td>\n",
       "      <td>1</td>\n",
       "      <td>函館</td>\n",
       "      <td>2</td>\n",
       "      <td>12</td>\n",
       "      <td>デルマムーン</td>\n",
       "      <td>1115</td>\n",
       "      <td>1097</td>\n",
       "      <td>11</td>\n",
       "      <td>-1.325339</td>\n",
       "      <td>-1.206045</td>\n",
       "      <td>23</td>\n",
       "      <td>24</td>\n",
       "      <td>4</td>\n",
       "      <td>1700</td>\n",
       "      <td>良</td>\n",
       "      <td>曇</td>\n",
       "      <td>13</td>\n",
       "      <td>牡</td>\n",
       "      <td>-0.924995</td>\n",
       "      <td>-0.230977</td>\n",
       "      <td>NaN</td>\n",
       "      <td>1.082030</td>\n",
       "      <td>-0.041107</td>\n",
       "      <td>4</td>\n",
       "      <td>8.3</td>\n",
       "      <td>7.7</td>\n",
       "      <td>5</td>\n",
       "      <td>11.1</td>\n",
       "      <td>8</td>\n",
       "      <td>3.0</td>\n",
       "      <td>2.0</td>\n",
       "      <td>3.1</td>\n",
       "      <td>2.1</td>\n",
       "      <td>5</td>\n",
       "      <td>3.4</td>\n",
       "      <td>2.5</td>\n",
       "      <td>6</td>\n",
       "      <td>8</td>\n",
       "      <td>2.0</td>\n",
       "      <td>1474</td>\n",
       "      <td>3.0</td>\n",
       "      <td>4.0</td>\n",
       "      <td>8.0</td>\n",
       "      <td>8.0</td>\n",
       "      <td>39.0</td>\n",
       "      <td>8</td>\n",
       "      <td>37.31</td>\n",
       "      <td>0.6</td>\n",
       "      <td>中団</td>\n",
       "      <td>5.0</td>\n",
       "      <td>0</td>\n",
       "      <td>0</td>\n",
       "      <td>マインドユアビスケッツ</td>\n",
       "      <td>デルマアラレチャン</td>\n",
       "      <td>スクリーンヒーロー</td>\n",
       "      <td>ロイヤルチャージャー系</td>\n",
       "      <td>鹿毛</td>\n",
       "      <td>2022101964</td>\n",
       "      <td>2025061502010212</td>\n",
       "      <td>ダート</td>\n",
       "      <td>平地</td>\n",
       "      <td>R</td>\n",
       "      <td>函館ダート1700</td>\n",
       "      <td>inner</td>\n",
       "      <td>2025-06-15 12:10:00</td>\n",
       "      <td>0</td>\n",
       "      <td>0</td>\n",
       "      <td>1.210008</td>\n",
       "      <td>1.210008</td>\n",
       "      <td>1.210008</td>\n",
       "      <td>1.210008</td>\n",
       "      <td>1.574136</td>\n",
       "      <td>-0.607152</td>\n",
       "      <td>-0.607152</td>\n",
       "      <td>-0.607152</td>\n",
       "      <td>-0.607152</td>\n",
       "      <td>-1.036204</td>\n",
       "      <td>-1.509204</td>\n",
       "      <td>-1.509204</td>\n",
       "      <td>-1.509204</td>\n",
       "      <td>-1.509204</td>\n",
       "      <td>0.382330</td>\n",
       "      <td>-1.040782</td>\n",
       "      <td>-1.040782</td>\n",
       "      <td>-1.040782</td>\n",
       "      <td>-1.040782</td>\n",
       "      <td>-1.050628</td>\n",
       "      <td>-0.659159</td>\n",
       "      <td>1.190190</td>\n",
       "      <td>-0.675532</td>\n",
       "      <td>1.187937</td>\n",
       "      <td>1.297967</td>\n",
       "      <td>0.679736</td>\n",
       "      <td>-0.657063</td>\n",
       "      <td>1.261635</td>\n",
       "      <td>1.551064</td>\n",
       "      <td>0.502546</td>\n",
       "      <td>-0.749326</td>\n",
       "      <td>1.568333</td>\n",
       "      <td>NaN</td>\n",
       "      <td>NaN</td>\n",
       "      <td>-0.915699</td>\n",
       "      <td>1.253186</td>\n",
       "      <td>NaN</td>\n",
       "      <td>NaN</td>\n",
       "      <td>NaN</td>\n",
       "      <td>NaN</td>\n",
       "      <td>NaN</td>\n",
       "      <td>NaN</td>\n",
       "      <td>NaN</td>\n",
       "      <td>NaN</td>\n",
       "      <td>NaN</td>\n",
       "      <td>NaN</td>\n",
       "      <td>NaN</td>\n",
       "      <td>NaN</td>\n",
       "      <td>NaN</td>\n",
       "      <td>NaN</td>\n",
       "      <td>NaN</td>\n",
       "      <td>NaN</td>\n",
       "      <td>NaN</td>\n",
       "      <td>NaN</td>\n",
       "      <td>NaN</td>\n",
       "      <td>NaN</td>\n",
       "      <td>NaN</td>\n",
       "      <td>NaN</td>\n",
       "      <td>NaN</td>\n",
       "      <td>NaN</td>\n",
       "      <td>-0.659159</td>\n",
       "      <td>1.190190</td>\n",
       "      <td>-0.659159</td>\n",
       "      <td>1.190190</td>\n",
       "      <td>NaN</td>\n",
       "      <td>NaN</td>\n",
       "      <td>NaN</td>\n",
       "      <td>NaN</td>\n",
       "      <td>NaN</td>\n",
       "      <td>NaN</td>\n",
       "      <td>1.483313</td>\n",
       "      <td>0.763828</td>\n",
       "      <td>-1.261312</td>\n",
       "      <td>-1.261312</td>\n",
       "      <td>-1.261312</td>\n",
       "      <td>-1.261312</td>\n",
       "      <td>-1.261312</td>\n",
       "      <td>1.261312</td>\n",
       "      <td>-1.261312</td>\n",
       "      <td>-1.261312</td>\n",
       "      <td>-1.261312</td>\n",
       "      <td>1.261312</td>\n",
       "      <td>-1.261312</td>\n",
       "      <td>-1.261312</td>\n",
       "      <td>-1.261312</td>\n",
       "      <td>1.261312</td>\n",
       "      <td>-1.261312</td>\n",
       "      <td>-1.261312</td>\n",
       "      <td>-1.261312</td>\n",
       "      <td>-1.261312</td>\n",
       "      <td>-1.261312</td>\n",
       "      <td>1.261312</td>\n",
       "      <td>-1.261312</td>\n",
       "      <td>-1.261312</td>\n",
       "      <td>1.301450</td>\n",
       "      <td>1.270576</td>\n",
       "      <td>1.269137</td>\n",
       "      <td>0.833587</td>\n",
       "      <td>1.413516</td>\n",
       "      <td>0.307815</td>\n",
       "      <td>1.356888</td>\n",
       "      <td>1.101551</td>\n",
       "      <td>1.912594</td>\n",
       "      <td>1.219514</td>\n",
       "      <td>1.370451</td>\n",
       "      <td>0.974028</td>\n",
       "      <td>1.912594</td>\n",
       "      <td>1.219514</td>\n",
       "      <td>1.413516</td>\n",
       "      <td>0.307815</td>\n",
       "      <td>1.171500</td>\n",
       "      <td>-0.040362</td>\n",
       "      <td>0.362421</td>\n",
       "      <td>0.564977</td>\n",
       "      <td>-0.644486</td>\n",
       "      <td>0.446503</td>\n",
       "      <td>-0.096254</td>\n",
       "      <td>0.554406</td>\n",
       "      <td>0.415393</td>\n",
       "      <td>0.130065</td>\n",
       "      <td>-0.857841</td>\n",
       "      <td>-0.581543</td>\n",
       "      <td>-0.604373</td>\n",
       "      <td>-0.862970</td>\n",
       "      <td>1.316279</td>\n",
       "      <td>1.191933</td>\n",
       "      <td>1.912594</td>\n",
       "      <td>1.219514</td>\n",
       "      <td>1.269137</td>\n",
       "      <td>0.833587</td>\n",
       "      <td>1.446622</td>\n",
       "      <td>1.151411</td>\n",
       "      <td>1.413516</td>\n",
       "      <td>0.307815</td>\n",
       "      <td>1.912594</td>\n",
       "      <td>1.219514</td>\n",
       "      <td>1.370451</td>\n",
       "      <td>0.974028</td>\n",
       "      <td>1.494577</td>\n",
       "      <td>0.804739</td>\n",
       "      <td>1.827166</td>\n",
       "      <td>1.120694</td>\n",
       "      <td>1.361773</td>\n",
       "      <td>0.865137</td>\n",
       "      <td>1.171500</td>\n",
       "      <td>-0.040362</td>\n",
       "      <td>1.494577</td>\n",
       "      <td>0.804739</td>\n",
       "      <td>1.385209</td>\n",
       "      <td>0.788864</td>\n",
       "      <td>1.619361</td>\n",
       "      <td>1.733007</td>\n",
       "      <td>1.591188</td>\n",
       "      <td>0.699289</td>\n",
       "      <td>-0.616314</td>\n",
       "      <td>0.003062</td>\n",
       "      <td>0.259117</td>\n",
       "      <td>1.090920</td>\n",
       "      <td>-0.074129</td>\n",
       "      <td>0.641399</td>\n",
       "      <td>-0.780523</td>\n",
       "      <td>-0.431736</td>\n",
       "      <td>-0.074129</td>\n",
       "      <td>0.641399</td>\n",
       "      <td>-0.616314</td>\n",
       "      <td>0.003062</td>\n",
       "      <td>-0.543386</td>\n",
       "      <td>1.244993</td>\n",
       "      <td>0.847871</td>\n",
       "      <td>1.664712</td>\n",
       "      <td>-0.547887</td>\n",
       "      <td>-0.401682</td>\n",
       "      <td>-0.671507</td>\n",
       "      <td>0.044480</td>\n",
       "      <td>-0.530899</td>\n",
       "      <td>0.814201</td>\n",
       "      <td>-0.433224</td>\n",
       "      <td>1.275834</td>\n",
       "      <td>-0.414039</td>\n",
       "      <td>1.612452</td>\n",
       "      <td>-0.186343</td>\n",
       "      <td>-0.495937</td>\n",
       "      <td>NaN</td>\n",
       "      <td>NaN</td>\n",
       "      <td>-0.547178</td>\n",
       "      <td>0.601478</td>\n",
       "      <td>-0.261786</td>\n",
       "      <td>-0.539214</td>\n",
       "      <td>-0.763132</td>\n",
       "      <td>-0.570181</td>\n",
       "      <td>-0.543309</td>\n",
       "      <td>-0.658737</td>\n",
       "      <td>NaN</td>\n",
       "      <td>NaN</td>\n",
       "      <td>-0.598056</td>\n",
       "      <td>-0.729553</td>\n",
       "      <td>NaN</td>\n",
       "      <td>NaN</td>\n",
       "      <td>-0.815317</td>\n",
       "      <td>-0.176786</td>\n",
       "      <td>NaN</td>\n",
       "      <td>NaN</td>\n",
       "      <td>-0.556349</td>\n",
       "      <td>0.596285</td>\n",
       "      <td>NaN</td>\n",
       "      <td>NaN</td>\n",
       "      <td>-0.547178</td>\n",
       "      <td>0.601478</td>\n",
       "      <td>-0.384182</td>\n",
       "      <td>-0.730711</td>\n",
       "      <td>0.760519</td>\n",
       "      <td>0.486328</td>\n",
       "      <td>0.125495</td>\n",
       "      <td>0.054370</td>\n",
       "      <td>-0.797425</td>\n",
       "      <td>-0.734205</td>\n",
       "      <td>-0.296012</td>\n",
       "      <td>-0.643609</td>\n",
       "      <td>-0.539390</td>\n",
       "      <td>-0.936983</td>\n",
       "      <td>0.682794</td>\n",
       "      <td>0.894543</td>\n",
       "      <td>-1.281262</td>\n",
       "      <td>-1.300358</td>\n",
       "      <td>-0.658209</td>\n",
       "      <td>-0.596610</td>\n",
       "      <td>-0.184194</td>\n",
       "      <td>-0.382258</td>\n",
       "      <td>0.682794</td>\n",
       "      <td>0.894543</td>\n",
       "      <td>0.568961</td>\n",
       "      <td>0.024838</td>\n",
       "      <td>0.124155</td>\n",
       "      <td>0.518471</td>\n",
       "      <td>0.125495</td>\n",
       "      <td>0.054370</td>\n",
       "      <td>-1.182332</td>\n",
       "      <td>1.050554</td>\n",
       "      <td>-0.093136</td>\n",
       "      <td>-0.255132</td>\n",
       "      <td>0.932840</td>\n",
       "      <td>True</td>\n",
       "      <td>False</td>\n",
       "      <td>False</td>\n",
       "      <td>-1.157818</td>\n",
       "      <td>-1.142700</td>\n",
       "      <td>0.426754</td>\n",
       "      <td>1.192684</td>\n",
       "      <td>0.815713</td>\n",
       "      <td>0.760222</td>\n",
       "      <td>-0.628050</td>\n",
       "      <td>-1.268541</td>\n",
       "      <td>-1.334017</td>\n",
       "      <td>0.428297</td>\n",
       "      <td>-0.520169</td>\n",
       "      <td>-0.386875</td>\n",
       "      <td>-0.419556</td>\n",
       "      <td>-0.535832</td>\n",
       "      <td>-0.660417</td>\n",
       "      <td>-0.660723</td>\n",
       "      <td>-0.663199</td>\n",
       "      <td>-0.659010</td>\n",
       "    </tr>\n",
       "    <tr>\n",
       "      <th>252407</th>\n",
       "      <td>41.3</td>\n",
       "      <td>48.27</td>\n",
       "      <td>48.4</td>\n",
       "      <td>202506150201021204</td>\n",
       "      <td>2025</td>\n",
       "      <td>6</td>\n",
       "      <td>15</td>\n",
       "      <td>1</td>\n",
       "      <td>函館</td>\n",
       "      <td>2</td>\n",
       "      <td>12</td>\n",
       "      <td>ボエーム</td>\n",
       "      <td>1217</td>\n",
       "      <td>1043</td>\n",
       "      <td>11</td>\n",
       "      <td>-0.492269</td>\n",
       "      <td>-0.603023</td>\n",
       "      <td>23</td>\n",
       "      <td>24</td>\n",
       "      <td>4</td>\n",
       "      <td>1700</td>\n",
       "      <td>良</td>\n",
       "      <td>曇</td>\n",
       "      <td>13</td>\n",
       "      <td>牡</td>\n",
       "      <td>0.346873</td>\n",
       "      <td>-0.230977</td>\n",
       "      <td>NaN</td>\n",
       "      <td>-1.209029</td>\n",
       "      <td>-0.041107</td>\n",
       "      <td>4</td>\n",
       "      <td>104.5</td>\n",
       "      <td>69.8</td>\n",
       "      <td>10</td>\n",
       "      <td>33.1</td>\n",
       "      <td>10</td>\n",
       "      <td>22.0</td>\n",
       "      <td>13.4</td>\n",
       "      <td>15.4</td>\n",
       "      <td>9.9</td>\n",
       "      <td>10</td>\n",
       "      <td>9.2</td>\n",
       "      <td>6.6</td>\n",
       "      <td>11</td>\n",
       "      <td>10</td>\n",
       "      <td>3.4</td>\n",
       "      <td>1488</td>\n",
       "      <td>1.0</td>\n",
       "      <td>1.0</td>\n",
       "      <td>5.0</td>\n",
       "      <td>8.0</td>\n",
       "      <td>40.7</td>\n",
       "      <td>10</td>\n",
       "      <td>37.15</td>\n",
       "      <td>0.3</td>\n",
       "      <td>逃げ</td>\n",
       "      <td>10.0</td>\n",
       "      <td>0</td>\n",
       "      <td>0</td>\n",
       "      <td>アニマルキングダム</td>\n",
       "      <td>ラストマイア</td>\n",
       "      <td>ローエングリン</td>\n",
       "      <td>ニアークティック系</td>\n",
       "      <td>栗毛</td>\n",
       "      <td>2021100475</td>\n",
       "      <td>2025061502010212</td>\n",
       "      <td>ダート</td>\n",
       "      <td>平地</td>\n",
       "      <td>R</td>\n",
       "      <td>函館ダート1700</td>\n",
       "      <td>inner</td>\n",
       "      <td>2025-06-15 12:10:00</td>\n",
       "      <td>0</td>\n",
       "      <td>0</td>\n",
       "      <td>-1.259285</td>\n",
       "      <td>-1.259285</td>\n",
       "      <td>-1.259285</td>\n",
       "      <td>-1.259285</td>\n",
       "      <td>-1.470235</td>\n",
       "      <td>0.544343</td>\n",
       "      <td>0.544343</td>\n",
       "      <td>0.544343</td>\n",
       "      <td>0.544343</td>\n",
       "      <td>-0.309440</td>\n",
       "      <td>-0.522991</td>\n",
       "      <td>-0.522991</td>\n",
       "      <td>-0.522991</td>\n",
       "      <td>-0.522991</td>\n",
       "      <td>0.411880</td>\n",
       "      <td>-1.465769</td>\n",
       "      <td>-1.465769</td>\n",
       "      <td>-1.465769</td>\n",
       "      <td>-1.465769</td>\n",
       "      <td>-1.188720</td>\n",
       "      <td>-0.659159</td>\n",
       "      <td>-0.917032</td>\n",
       "      <td>-0.675532</td>\n",
       "      <td>-1.234427</td>\n",
       "      <td>-1.177923</td>\n",
       "      <td>-1.167630</td>\n",
       "      <td>-0.657063</td>\n",
       "      <td>-1.172452</td>\n",
       "      <td>-0.835188</td>\n",
       "      <td>-0.947107</td>\n",
       "      <td>-0.749326</td>\n",
       "      <td>-1.090639</td>\n",
       "      <td>NaN</td>\n",
       "      <td>NaN</td>\n",
       "      <td>-0.915699</td>\n",
       "      <td>-1.094925</td>\n",
       "      <td>NaN</td>\n",
       "      <td>-0.614537</td>\n",
       "      <td>NaN</td>\n",
       "      <td>-0.635838</td>\n",
       "      <td>NaN</td>\n",
       "      <td>-0.707107</td>\n",
       "      <td>NaN</td>\n",
       "      <td>-0.821173</td>\n",
       "      <td>NaN</td>\n",
       "      <td>NaN</td>\n",
       "      <td>NaN</td>\n",
       "      <td>NaN</td>\n",
       "      <td>NaN</td>\n",
       "      <td>NaN</td>\n",
       "      <td>NaN</td>\n",
       "      <td>NaN</td>\n",
       "      <td>NaN</td>\n",
       "      <td>NaN</td>\n",
       "      <td>NaN</td>\n",
       "      <td>NaN</td>\n",
       "      <td>NaN</td>\n",
       "      <td>NaN</td>\n",
       "      <td>-0.579751</td>\n",
       "      <td>-0.808452</td>\n",
       "      <td>-0.659159</td>\n",
       "      <td>-0.917032</td>\n",
       "      <td>-0.659159</td>\n",
       "      <td>-0.917032</td>\n",
       "      <td>NaN</td>\n",
       "      <td>NaN</td>\n",
       "      <td>NaN</td>\n",
       "      <td>NaN</td>\n",
       "      <td>NaN</td>\n",
       "      <td>NaN</td>\n",
       "      <td>-1.147407</td>\n",
       "      <td>-1.098670</td>\n",
       "      <td>-1.261312</td>\n",
       "      <td>-1.261312</td>\n",
       "      <td>-1.261312</td>\n",
       "      <td>-1.261312</td>\n",
       "      <td>-1.261312</td>\n",
       "      <td>1.261312</td>\n",
       "      <td>-1.261312</td>\n",
       "      <td>-1.261312</td>\n",
       "      <td>-1.261312</td>\n",
       "      <td>1.261312</td>\n",
       "      <td>-1.261312</td>\n",
       "      <td>-1.261312</td>\n",
       "      <td>-1.261312</td>\n",
       "      <td>1.261312</td>\n",
       "      <td>-1.261312</td>\n",
       "      <td>-1.261312</td>\n",
       "      <td>-1.261312</td>\n",
       "      <td>-1.261312</td>\n",
       "      <td>-1.261312</td>\n",
       "      <td>1.261312</td>\n",
       "      <td>-1.261312</td>\n",
       "      <td>-1.261312</td>\n",
       "      <td>-0.360831</td>\n",
       "      <td>-0.692478</td>\n",
       "      <td>-1.071952</td>\n",
       "      <td>-0.111262</td>\n",
       "      <td>-1.014438</td>\n",
       "      <td>-1.330136</td>\n",
       "      <td>-1.058024</td>\n",
       "      <td>-0.974087</td>\n",
       "      <td>-1.040288</td>\n",
       "      <td>0.092143</td>\n",
       "      <td>-1.039539</td>\n",
       "      <td>-1.182462</td>\n",
       "      <td>-1.040288</td>\n",
       "      <td>0.092143</td>\n",
       "      <td>-1.014438</td>\n",
       "      <td>-1.330136</td>\n",
       "      <td>-0.941997</td>\n",
       "      <td>-1.252228</td>\n",
       "      <td>1.498131</td>\n",
       "      <td>0.846457</td>\n",
       "      <td>-1.153433</td>\n",
       "      <td>-1.286911</td>\n",
       "      <td>NaN</td>\n",
       "      <td>NaN</td>\n",
       "      <td>1.473257</td>\n",
       "      <td>1.282011</td>\n",
       "      <td>NaN</td>\n",
       "      <td>NaN</td>\n",
       "      <td>NaN</td>\n",
       "      <td>NaN</td>\n",
       "      <td>-0.229130</td>\n",
       "      <td>-0.471415</td>\n",
       "      <td>-1.040288</td>\n",
       "      <td>0.092143</td>\n",
       "      <td>-1.071952</td>\n",
       "      <td>-0.111262</td>\n",
       "      <td>-0.950395</td>\n",
       "      <td>-0.642045</td>\n",
       "      <td>-1.014438</td>\n",
       "      <td>-1.330136</td>\n",
       "      <td>-1.040288</td>\n",
       "      <td>0.092143</td>\n",
       "      <td>-1.039539</td>\n",
       "      <td>-1.182462</td>\n",
       "      <td>-1.087245</td>\n",
       "      <td>0.386905</td>\n",
       "      <td>-1.014166</td>\n",
       "      <td>-1.161709</td>\n",
       "      <td>-0.493990</td>\n",
       "      <td>0.170614</td>\n",
       "      <td>-0.941997</td>\n",
       "      <td>-1.252228</td>\n",
       "      <td>-1.087245</td>\n",
       "      <td>0.386905</td>\n",
       "      <td>-0.894253</td>\n",
       "      <td>-1.143120</td>\n",
       "      <td>-0.979517</td>\n",
       "      <td>-1.100924</td>\n",
       "      <td>1.638943</td>\n",
       "      <td>0.745896</td>\n",
       "      <td>-0.616314</td>\n",
       "      <td>-0.999976</td>\n",
       "      <td>-0.830225</td>\n",
       "      <td>-1.006635</td>\n",
       "      <td>-1.294296</td>\n",
       "      <td>-1.832809</td>\n",
       "      <td>2.037353</td>\n",
       "      <td>1.490201</td>\n",
       "      <td>-1.294296</td>\n",
       "      <td>-1.832809</td>\n",
       "      <td>-0.616314</td>\n",
       "      <td>-0.999976</td>\n",
       "      <td>-0.543386</td>\n",
       "      <td>-0.764966</td>\n",
       "      <td>-0.573977</td>\n",
       "      <td>-0.698370</td>\n",
       "      <td>2.709844</td>\n",
       "      <td>1.882906</td>\n",
       "      <td>-0.150547</td>\n",
       "      <td>-0.718056</td>\n",
       "      <td>-0.422612</td>\n",
       "      <td>-0.371413</td>\n",
       "      <td>-0.433224</td>\n",
       "      <td>-0.951812</td>\n",
       "      <td>-0.414039</td>\n",
       "      <td>-0.713200</td>\n",
       "      <td>-0.842945</td>\n",
       "      <td>-0.932473</td>\n",
       "      <td>NaN</td>\n",
       "      <td>NaN</td>\n",
       "      <td>-0.547178</td>\n",
       "      <td>-0.734497</td>\n",
       "      <td>-0.944851</td>\n",
       "      <td>-1.037727</td>\n",
       "      <td>-0.763132</td>\n",
       "      <td>-0.925021</td>\n",
       "      <td>-0.543309</td>\n",
       "      <td>-0.956533</td>\n",
       "      <td>NaN</td>\n",
       "      <td>NaN</td>\n",
       "      <td>-0.598056</td>\n",
       "      <td>-1.061337</td>\n",
       "      <td>-0.333333</td>\n",
       "      <td>-0.635122</td>\n",
       "      <td>-0.815317</td>\n",
       "      <td>-1.175035</td>\n",
       "      <td>NaN</td>\n",
       "      <td>NaN</td>\n",
       "      <td>-0.556349</td>\n",
       "      <td>-0.745356</td>\n",
       "      <td>NaN</td>\n",
       "      <td>NaN</td>\n",
       "      <td>-0.547178</td>\n",
       "      <td>-0.734497</td>\n",
       "      <td>-1.699737</td>\n",
       "      <td>-1.682152</td>\n",
       "      <td>-1.620436</td>\n",
       "      <td>-1.860078</td>\n",
       "      <td>-0.127108</td>\n",
       "      <td>-1.194240</td>\n",
       "      <td>-2.446580</td>\n",
       "      <td>-1.603371</td>\n",
       "      <td>-1.490971</td>\n",
       "      <td>-1.352633</td>\n",
       "      <td>-1.159534</td>\n",
       "      <td>-1.254679</td>\n",
       "      <td>-0.985236</td>\n",
       "      <td>-1.372002</td>\n",
       "      <td>-1.706307</td>\n",
       "      <td>-0.858579</td>\n",
       "      <td>0.613583</td>\n",
       "      <td>-0.152131</td>\n",
       "      <td>-1.002719</td>\n",
       "      <td>-0.600808</td>\n",
       "      <td>-0.985236</td>\n",
       "      <td>-1.372002</td>\n",
       "      <td>-0.686531</td>\n",
       "      <td>-0.890523</td>\n",
       "      <td>-1.088244</td>\n",
       "      <td>-1.597624</td>\n",
       "      <td>-0.127108</td>\n",
       "      <td>-1.194240</td>\n",
       "      <td>1.165677</td>\n",
       "      <td>-1.200276</td>\n",
       "      <td>0.070268</td>\n",
       "      <td>-1.277181</td>\n",
       "      <td>-1.333108</td>\n",
       "      <td>True</td>\n",
       "      <td>True</td>\n",
       "      <td>False</td>\n",
       "      <td>-1.379038</td>\n",
       "      <td>-1.363221</td>\n",
       "      <td>-1.267055</td>\n",
       "      <td>-0.687280</td>\n",
       "      <td>-1.283237</td>\n",
       "      <td>-1.314208</td>\n",
       "      <td>1.550232</td>\n",
       "      <td>0.865710</td>\n",
       "      <td>0.493444</td>\n",
       "      <td>-1.249184</td>\n",
       "      <td>0.427708</td>\n",
       "      <td>0.783188</td>\n",
       "      <td>1.801589</td>\n",
       "      <td>1.835623</td>\n",
       "      <td>1.618237</td>\n",
       "      <td>1.618772</td>\n",
       "      <td>1.453722</td>\n",
       "      <td>1.320667</td>\n",
       "    </tr>\n",
       "    <tr>\n",
       "      <th>252408</th>\n",
       "      <td>NaN</td>\n",
       "      <td>48.27</td>\n",
       "      <td>48.4</td>\n",
       "      <td>202506150201021201</td>\n",
       "      <td>2025</td>\n",
       "      <td>6</td>\n",
       "      <td>15</td>\n",
       "      <td>1</td>\n",
       "      <td>函館</td>\n",
       "      <td>2</td>\n",
       "      <td>12</td>\n",
       "      <td>モーメントキャッチ</td>\n",
       "      <td>1143</td>\n",
       "      <td>1100</td>\n",
       "      <td>11</td>\n",
       "      <td>-1.741874</td>\n",
       "      <td>-1.507557</td>\n",
       "      <td>23</td>\n",
       "      <td>24</td>\n",
       "      <td>4</td>\n",
       "      <td>1700</td>\n",
       "      <td>良</td>\n",
       "      <td>曇</td>\n",
       "      <td>13</td>\n",
       "      <td>牡</td>\n",
       "      <td>1.618741</td>\n",
       "      <td>1.293472</td>\n",
       "      <td>NaN</td>\n",
       "      <td>1.137909</td>\n",
       "      <td>-0.945454</td>\n",
       "      <td>4</td>\n",
       "      <td>5.8</td>\n",
       "      <td>6.2</td>\n",
       "      <td>3</td>\n",
       "      <td>4.9</td>\n",
       "      <td>1</td>\n",
       "      <td>2.3</td>\n",
       "      <td>1.6</td>\n",
       "      <td>1.9</td>\n",
       "      <td>1.4</td>\n",
       "      <td>2</td>\n",
       "      <td>2.3</td>\n",
       "      <td>1.8</td>\n",
       "      <td>3</td>\n",
       "      <td>0</td>\n",
       "      <td>----</td>\n",
       "      <td>----</td>\n",
       "      <td>NaN</td>\n",
       "      <td>NaN</td>\n",
       "      <td>NaN</td>\n",
       "      <td>NaN</td>\n",
       "      <td>NaN</td>\n",
       "      <td>0</td>\n",
       "      <td>NaN</td>\n",
       "      <td>NaN</td>\n",
       "      <td>NaN</td>\n",
       "      <td>4.0</td>\n",
       "      <td>0</td>\n",
       "      <td>4</td>\n",
       "      <td>モーリス</td>\n",
       "      <td>シュシュブリーズ</td>\n",
       "      <td>フジキセキ</td>\n",
       "      <td>ロイヤルチャージャー系</td>\n",
       "      <td>鹿毛</td>\n",
       "      <td>2020104725</td>\n",
       "      <td>2025061502010212</td>\n",
       "      <td>ダート</td>\n",
       "      <td>平地</td>\n",
       "      <td>R</td>\n",
       "      <td>函館ダート1700</td>\n",
       "      <td>inner</td>\n",
       "      <td>2025-06-15 12:10:00</td>\n",
       "      <td>0</td>\n",
       "      <td>0</td>\n",
       "      <td>1.390688</td>\n",
       "      <td>1.390688</td>\n",
       "      <td>1.390688</td>\n",
       "      <td>1.390688</td>\n",
       "      <td>1.016316</td>\n",
       "      <td>-1.067750</td>\n",
       "      <td>-1.067750</td>\n",
       "      <td>-1.067750</td>\n",
       "      <td>-1.067750</td>\n",
       "      <td>0.832619</td>\n",
       "      <td>-0.029885</td>\n",
       "      <td>-0.029885</td>\n",
       "      <td>-0.029885</td>\n",
       "      <td>-0.029885</td>\n",
       "      <td>NaN</td>\n",
       "      <td>-0.234176</td>\n",
       "      <td>-0.234176</td>\n",
       "      <td>-0.234176</td>\n",
       "      <td>-0.234176</td>\n",
       "      <td>NaN</td>\n",
       "      <td>NaN</td>\n",
       "      <td>NaN</td>\n",
       "      <td>-0.675532</td>\n",
       "      <td>0.380482</td>\n",
       "      <td>-1.177923</td>\n",
       "      <td>1.177103</td>\n",
       "      <td>-0.657063</td>\n",
       "      <td>0.044591</td>\n",
       "      <td>-0.835188</td>\n",
       "      <td>0.792477</td>\n",
       "      <td>-0.749326</td>\n",
       "      <td>0.770642</td>\n",
       "      <td>NaN</td>\n",
       "      <td>NaN</td>\n",
       "      <td>-0.915699</td>\n",
       "      <td>0.750019</td>\n",
       "      <td>NaN</td>\n",
       "      <td>1.314822</td>\n",
       "      <td>NaN</td>\n",
       "      <td>0.999175</td>\n",
       "      <td>NaN</td>\n",
       "      <td>1.414214</td>\n",
       "      <td>NaN</td>\n",
       "      <td>0.897561</td>\n",
       "      <td>-0.550482</td>\n",
       "      <td>0.912871</td>\n",
       "      <td>NaN</td>\n",
       "      <td>1.5</td>\n",
       "      <td>NaN</td>\n",
       "      <td>NaN</td>\n",
       "      <td>NaN</td>\n",
       "      <td>NaN</td>\n",
       "      <td>-0.550482</td>\n",
       "      <td>0.912871</td>\n",
       "      <td>NaN</td>\n",
       "      <td>NaN</td>\n",
       "      <td>NaN</td>\n",
       "      <td>NaN</td>\n",
       "      <td>-0.579751</td>\n",
       "      <td>0.161690</td>\n",
       "      <td>NaN</td>\n",
       "      <td>NaN</td>\n",
       "      <td>NaN</td>\n",
       "      <td>NaN</td>\n",
       "      <td>NaN</td>\n",
       "      <td>NaN</td>\n",
       "      <td>NaN</td>\n",
       "      <td>NaN</td>\n",
       "      <td>NaN</td>\n",
       "      <td>NaN</td>\n",
       "      <td>-1.147407</td>\n",
       "      <td>1.096416</td>\n",
       "      <td>-1.261312</td>\n",
       "      <td>-1.261312</td>\n",
       "      <td>-1.261312</td>\n",
       "      <td>-1.261312</td>\n",
       "      <td>-1.261312</td>\n",
       "      <td>1.261312</td>\n",
       "      <td>-1.261312</td>\n",
       "      <td>-1.261312</td>\n",
       "      <td>-1.261312</td>\n",
       "      <td>1.261312</td>\n",
       "      <td>-1.261312</td>\n",
       "      <td>-1.261312</td>\n",
       "      <td>-1.261312</td>\n",
       "      <td>1.261312</td>\n",
       "      <td>-1.261312</td>\n",
       "      <td>-1.261312</td>\n",
       "      <td>-1.261312</td>\n",
       "      <td>-1.261312</td>\n",
       "      <td>-1.261312</td>\n",
       "      <td>1.261312</td>\n",
       "      <td>-1.261312</td>\n",
       "      <td>-1.261312</td>\n",
       "      <td>-1.758260</td>\n",
       "      <td>-1.733329</td>\n",
       "      <td>-1.071952</td>\n",
       "      <td>-1.384753</td>\n",
       "      <td>-1.014438</td>\n",
       "      <td>-1.330136</td>\n",
       "      <td>-1.618272</td>\n",
       "      <td>-1.834958</td>\n",
       "      <td>-1.040288</td>\n",
       "      <td>-1.370781</td>\n",
       "      <td>-1.039539</td>\n",
       "      <td>-1.182462</td>\n",
       "      <td>-1.040288</td>\n",
       "      <td>-1.370781</td>\n",
       "      <td>-1.014438</td>\n",
       "      <td>-1.330136</td>\n",
       "      <td>-0.941997</td>\n",
       "      <td>-1.252228</td>\n",
       "      <td>-1.495097</td>\n",
       "      <td>-1.342983</td>\n",
       "      <td>-1.153433</td>\n",
       "      <td>-1.286911</td>\n",
       "      <td>-0.949816</td>\n",
       "      <td>-1.019911</td>\n",
       "      <td>-1.579010</td>\n",
       "      <td>-1.497546</td>\n",
       "      <td>-0.857841</td>\n",
       "      <td>-1.143472</td>\n",
       "      <td>NaN</td>\n",
       "      <td>NaN</td>\n",
       "      <td>-1.562830</td>\n",
       "      <td>-1.415687</td>\n",
       "      <td>-1.040288</td>\n",
       "      <td>-1.370781</td>\n",
       "      <td>-1.071952</td>\n",
       "      <td>-1.384753</td>\n",
       "      <td>-1.170560</td>\n",
       "      <td>-1.435195</td>\n",
       "      <td>-1.014438</td>\n",
       "      <td>-1.330136</td>\n",
       "      <td>-1.040288</td>\n",
       "      <td>-1.370781</td>\n",
       "      <td>-1.039539</td>\n",
       "      <td>-1.182462</td>\n",
       "      <td>-1.087245</td>\n",
       "      <td>-1.469521</td>\n",
       "      <td>-1.014166</td>\n",
       "      <td>-1.161709</td>\n",
       "      <td>-0.903552</td>\n",
       "      <td>-1.349544</td>\n",
       "      <td>-0.941997</td>\n",
       "      <td>-1.252228</td>\n",
       "      <td>-1.087245</td>\n",
       "      <td>-1.469521</td>\n",
       "      <td>-0.894253</td>\n",
       "      <td>-1.143120</td>\n",
       "      <td>-1.078582</td>\n",
       "      <td>-1.001661</td>\n",
       "      <td>-1.083063</td>\n",
       "      <td>-1.246562</td>\n",
       "      <td>-0.616314</td>\n",
       "      <td>0.604885</td>\n",
       "      <td>-1.148935</td>\n",
       "      <td>-1.037237</td>\n",
       "      <td>-0.801536</td>\n",
       "      <td>-0.083167</td>\n",
       "      <td>-0.780523</td>\n",
       "      <td>-0.381598</td>\n",
       "      <td>-0.801536</td>\n",
       "      <td>-0.083167</td>\n",
       "      <td>-0.616314</td>\n",
       "      <td>0.604885</td>\n",
       "      <td>-0.543386</td>\n",
       "      <td>0.441010</td>\n",
       "      <td>-0.765613</td>\n",
       "      <td>-0.644883</td>\n",
       "      <td>-0.547887</td>\n",
       "      <td>-0.809644</td>\n",
       "      <td>-0.643051</td>\n",
       "      <td>-0.480861</td>\n",
       "      <td>-0.622625</td>\n",
       "      <td>-0.439805</td>\n",
       "      <td>-0.433224</td>\n",
       "      <td>0.533285</td>\n",
       "      <td>-0.414039</td>\n",
       "      <td>0.217061</td>\n",
       "      <td>-0.842945</td>\n",
       "      <td>1.468477</td>\n",
       "      <td>NaN</td>\n",
       "      <td>NaN</td>\n",
       "      <td>NaN</td>\n",
       "      <td>NaN</td>\n",
       "      <td>-0.944851</td>\n",
       "      <td>1.493184</td>\n",
       "      <td>-0.763132</td>\n",
       "      <td>1.310470</td>\n",
       "      <td>-0.543309</td>\n",
       "      <td>0.383551</td>\n",
       "      <td>NaN</td>\n",
       "      <td>NaN</td>\n",
       "      <td>-0.598056</td>\n",
       "      <td>0.708181</td>\n",
       "      <td>-0.333333</td>\n",
       "      <td>1.621233</td>\n",
       "      <td>-0.815317</td>\n",
       "      <td>1.177981</td>\n",
       "      <td>NaN</td>\n",
       "      <td>NaN</td>\n",
       "      <td>NaN</td>\n",
       "      <td>NaN</td>\n",
       "      <td>NaN</td>\n",
       "      <td>NaN</td>\n",
       "      <td>NaN</td>\n",
       "      <td>NaN</td>\n",
       "      <td>0.958168</td>\n",
       "      <td>0.676041</td>\n",
       "      <td>0.425898</td>\n",
       "      <td>0.380634</td>\n",
       "      <td>-0.497592</td>\n",
       "      <td>-0.388685</td>\n",
       "      <td>0.025788</td>\n",
       "      <td>-0.135792</td>\n",
       "      <td>1.162754</td>\n",
       "      <td>0.578138</td>\n",
       "      <td>0.585464</td>\n",
       "      <td>0.606798</td>\n",
       "      <td>0.165130</td>\n",
       "      <td>0.712177</td>\n",
       "      <td>-0.232441</td>\n",
       "      <td>-0.308603</td>\n",
       "      <td>0.468103</td>\n",
       "      <td>0.802908</td>\n",
       "      <td>0.220736</td>\n",
       "      <td>0.184578</td>\n",
       "      <td>0.165130</td>\n",
       "      <td>0.712177</td>\n",
       "      <td>-0.270375</td>\n",
       "      <td>-0.596167</td>\n",
       "      <td>-0.444157</td>\n",
       "      <td>-0.234987</td>\n",
       "      <td>-0.497592</td>\n",
       "      <td>-0.388685</td>\n",
       "      <td>-0.542734</td>\n",
       "      <td>1.187799</td>\n",
       "      <td>-0.973928</td>\n",
       "      <td>2.473873</td>\n",
       "      <td>0.285293</td>\n",
       "      <td>True</td>\n",
       "      <td>True</td>\n",
       "      <td>True</td>\n",
       "      <td>-1.126215</td>\n",
       "      <td>-1.142700</td>\n",
       "      <td>0.453093</td>\n",
       "      <td>-1.757445</td>\n",
       "      <td>-0.332621</td>\n",
       "      <td>-0.191919</td>\n",
       "      <td>-0.721330</td>\n",
       "      <td>-0.489805</td>\n",
       "      <td>-0.526854</td>\n",
       "      <td>0.428297</td>\n",
       "      <td>-1.245400</td>\n",
       "      <td>-0.534828</td>\n",
       "      <td>-0.720403</td>\n",
       "      <td>-0.721516</td>\n",
       "      <td>-0.715368</td>\n",
       "      <td>-0.715784</td>\n",
       "      <td>-0.727526</td>\n",
       "      <td>-0.710998</td>\n",
       "    </tr>\n",
       "    <tr>\n",
       "      <th>252409</th>\n",
       "      <td>45.5</td>\n",
       "      <td>48.27</td>\n",
       "      <td>48.4</td>\n",
       "      <td>202506150201021207</td>\n",
       "      <td>2025</td>\n",
       "      <td>6</td>\n",
       "      <td>15</td>\n",
       "      <td>1</td>\n",
       "      <td>函館</td>\n",
       "      <td>2</td>\n",
       "      <td>12</td>\n",
       "      <td>トモジャザーン</td>\n",
       "      <td>1015</td>\n",
       "      <td>1032</td>\n",
       "      <td>11</td>\n",
       "      <td>0.340802</td>\n",
       "      <td>0.301511</td>\n",
       "      <td>23</td>\n",
       "      <td>24</td>\n",
       "      <td>4</td>\n",
       "      <td>1700</td>\n",
       "      <td>良</td>\n",
       "      <td>曇</td>\n",
       "      <td>13</td>\n",
       "      <td>牡</td>\n",
       "      <td>0.346873</td>\n",
       "      <td>1.293472</td>\n",
       "      <td>NaN</td>\n",
       "      <td>0.523235</td>\n",
       "      <td>-0.945454</td>\n",
       "      <td>4</td>\n",
       "      <td>3.7</td>\n",
       "      <td>4.6</td>\n",
       "      <td>2</td>\n",
       "      <td>7.7</td>\n",
       "      <td>5</td>\n",
       "      <td>1.9</td>\n",
       "      <td>1.4</td>\n",
       "      <td>1.9</td>\n",
       "      <td>1.4</td>\n",
       "      <td>2</td>\n",
       "      <td>1.8</td>\n",
       "      <td>1.5</td>\n",
       "      <td>1</td>\n",
       "      <td>6</td>\n",
       "      <td>1.6</td>\n",
       "      <td>1470</td>\n",
       "      <td>6.0</td>\n",
       "      <td>6.0</td>\n",
       "      <td>5.0</td>\n",
       "      <td>7.0</td>\n",
       "      <td>38.9</td>\n",
       "      <td>6</td>\n",
       "      <td>37.15</td>\n",
       "      <td>0.3</td>\n",
       "      <td>中団</td>\n",
       "      <td>2.0</td>\n",
       "      <td>0</td>\n",
       "      <td>0</td>\n",
       "      <td>マジェスティックウォリアー</td>\n",
       "      <td>トモジャオール</td>\n",
       "      <td>エンパイアメーカー</td>\n",
       "      <td>ネイティヴダンサー系</td>\n",
       "      <td>鹿毛</td>\n",
       "      <td>2021104295</td>\n",
       "      <td>2025061502010212</td>\n",
       "      <td>ダート</td>\n",
       "      <td>平地</td>\n",
       "      <td>R</td>\n",
       "      <td>函館ダート1700</td>\n",
       "      <td>outer</td>\n",
       "      <td>2025-06-15 12:10:00</td>\n",
       "      <td>0</td>\n",
       "      <td>0</td>\n",
       "      <td>0.728195</td>\n",
       "      <td>0.728195</td>\n",
       "      <td>0.728195</td>\n",
       "      <td>0.728195</td>\n",
       "      <td>0.568170</td>\n",
       "      <td>-0.146554</td>\n",
       "      <td>-0.146554</td>\n",
       "      <td>-0.146554</td>\n",
       "      <td>-0.146554</td>\n",
       "      <td>1.677050</td>\n",
       "      <td>0.381037</td>\n",
       "      <td>0.381037</td>\n",
       "      <td>0.381037</td>\n",
       "      <td>0.381037</td>\n",
       "      <td>0.287769</td>\n",
       "      <td>0.763240</td>\n",
       "      <td>0.763240</td>\n",
       "      <td>0.763240</td>\n",
       "      <td>0.763240</td>\n",
       "      <td>0.276124</td>\n",
       "      <td>NaN</td>\n",
       "      <td>NaN</td>\n",
       "      <td>0.012156</td>\n",
       "      <td>0.703464</td>\n",
       "      <td>0.307611</td>\n",
       "      <td>1.049209</td>\n",
       "      <td>0.028814</td>\n",
       "      <td>0.774818</td>\n",
       "      <td>NaN</td>\n",
       "      <td>NaN</td>\n",
       "      <td>-0.749326</td>\n",
       "      <td>0.682009</td>\n",
       "      <td>NaN</td>\n",
       "      <td>NaN</td>\n",
       "      <td>0.733482</td>\n",
       "      <td>1.253186</td>\n",
       "      <td>NaN</td>\n",
       "      <td>1.957942</td>\n",
       "      <td>NaN</td>\n",
       "      <td>1.544179</td>\n",
       "      <td>NaN</td>\n",
       "      <td>NaN</td>\n",
       "      <td>NaN</td>\n",
       "      <td>1.470473</td>\n",
       "      <td>NaN</td>\n",
       "      <td>NaN</td>\n",
       "      <td>NaN</td>\n",
       "      <td>NaN</td>\n",
       "      <td>NaN</td>\n",
       "      <td>NaN</td>\n",
       "      <td>NaN</td>\n",
       "      <td>NaN</td>\n",
       "      <td>NaN</td>\n",
       "      <td>NaN</td>\n",
       "      <td>NaN</td>\n",
       "      <td>NaN</td>\n",
       "      <td>NaN</td>\n",
       "      <td>NaN</td>\n",
       "      <td>NaN</td>\n",
       "      <td>NaN</td>\n",
       "      <td>NaN</td>\n",
       "      <td>NaN</td>\n",
       "      <td>NaN</td>\n",
       "      <td>NaN</td>\n",
       "      <td>NaN</td>\n",
       "      <td>NaN</td>\n",
       "      <td>NaN</td>\n",
       "      <td>NaN</td>\n",
       "      <td>NaN</td>\n",
       "      <td>NaN</td>\n",
       "      <td>0.431025</td>\n",
       "      <td>1.136327</td>\n",
       "      <td>0.720750</td>\n",
       "      <td>0.720750</td>\n",
       "      <td>0.720750</td>\n",
       "      <td>0.720750</td>\n",
       "      <td>0.720750</td>\n",
       "      <td>-0.720750</td>\n",
       "      <td>0.720750</td>\n",
       "      <td>0.720750</td>\n",
       "      <td>0.720750</td>\n",
       "      <td>-0.720750</td>\n",
       "      <td>0.720750</td>\n",
       "      <td>0.720750</td>\n",
       "      <td>0.720750</td>\n",
       "      <td>-0.720750</td>\n",
       "      <td>0.720750</td>\n",
       "      <td>0.720750</td>\n",
       "      <td>0.720750</td>\n",
       "      <td>0.720750</td>\n",
       "      <td>0.720750</td>\n",
       "      <td>-0.720750</td>\n",
       "      <td>0.720750</td>\n",
       "      <td>0.720750</td>\n",
       "      <td>-0.773631</td>\n",
       "      <td>-0.458583</td>\n",
       "      <td>-0.229377</td>\n",
       "      <td>-0.176809</td>\n",
       "      <td>-0.159798</td>\n",
       "      <td>-0.249088</td>\n",
       "      <td>-0.901591</td>\n",
       "      <td>-0.891286</td>\n",
       "      <td>-0.249475</td>\n",
       "      <td>-0.319568</td>\n",
       "      <td>0.049661</td>\n",
       "      <td>-0.108380</td>\n",
       "      <td>-0.249475</td>\n",
       "      <td>-0.319568</td>\n",
       "      <td>-0.159798</td>\n",
       "      <td>-0.249088</td>\n",
       "      <td>-0.485025</td>\n",
       "      <td>-0.204128</td>\n",
       "      <td>-1.243593</td>\n",
       "      <td>-1.465366</td>\n",
       "      <td>-0.092529</td>\n",
       "      <td>-0.654581</td>\n",
       "      <td>-0.450981</td>\n",
       "      <td>-0.871515</td>\n",
       "      <td>-1.555238</td>\n",
       "      <td>-1.885038</td>\n",
       "      <td>-0.189655</td>\n",
       "      <td>-0.875886</td>\n",
       "      <td>-0.604373</td>\n",
       "      <td>-0.862970</td>\n",
       "      <td>-0.715730</td>\n",
       "      <td>-0.306623</td>\n",
       "      <td>-0.249475</td>\n",
       "      <td>-0.319568</td>\n",
       "      <td>-0.229377</td>\n",
       "      <td>-0.176809</td>\n",
       "      <td>-0.632166</td>\n",
       "      <td>-0.493582</td>\n",
       "      <td>-0.159798</td>\n",
       "      <td>-0.249088</td>\n",
       "      <td>-0.249475</td>\n",
       "      <td>-0.319568</td>\n",
       "      <td>0.049661</td>\n",
       "      <td>-0.108380</td>\n",
       "      <td>-0.370072</td>\n",
       "      <td>-0.352340</td>\n",
       "      <td>-0.289531</td>\n",
       "      <td>-0.323500</td>\n",
       "      <td>-0.461762</td>\n",
       "      <td>-0.530551</td>\n",
       "      <td>-0.485025</td>\n",
       "      <td>-0.204128</td>\n",
       "      <td>-0.370072</td>\n",
       "      <td>-0.352340</td>\n",
       "      <td>-0.082919</td>\n",
       "      <td>-0.226246</td>\n",
       "      <td>-0.403814</td>\n",
       "      <td>-0.295846</td>\n",
       "      <td>-0.254627</td>\n",
       "      <td>0.110620</td>\n",
       "      <td>0.436368</td>\n",
       "      <td>0.689351</td>\n",
       "      <td>-0.009574</td>\n",
       "      <td>0.267079</td>\n",
       "      <td>0.285321</td>\n",
       "      <td>0.712221</td>\n",
       "      <td>0.385495</td>\n",
       "      <td>0.641898</td>\n",
       "      <td>0.285321</td>\n",
       "      <td>0.712221</td>\n",
       "      <td>0.436368</td>\n",
       "      <td>0.689351</td>\n",
       "      <td>-0.543386</td>\n",
       "      <td>-0.764966</td>\n",
       "      <td>-0.615893</td>\n",
       "      <td>-0.214534</td>\n",
       "      <td>-0.547887</td>\n",
       "      <td>0.686217</td>\n",
       "      <td>0.188158</td>\n",
       "      <td>1.087951</td>\n",
       "      <td>-0.213865</td>\n",
       "      <td>0.387048</td>\n",
       "      <td>-0.433224</td>\n",
       "      <td>0.533285</td>\n",
       "      <td>NaN</td>\n",
       "      <td>NaN</td>\n",
       "      <td>0.141958</td>\n",
       "      <td>0.377136</td>\n",
       "      <td>NaN</td>\n",
       "      <td>NaN</td>\n",
       "      <td>-0.547178</td>\n",
       "      <td>-0.734497</td>\n",
       "      <td>0.000931</td>\n",
       "      <td>0.342770</td>\n",
       "      <td>0.499596</td>\n",
       "      <td>0.033046</td>\n",
       "      <td>-0.153396</td>\n",
       "      <td>0.280467</td>\n",
       "      <td>NaN</td>\n",
       "      <td>NaN</td>\n",
       "      <td>-0.189048</td>\n",
       "      <td>0.212716</td>\n",
       "      <td>2.666667</td>\n",
       "      <td>1.621233</td>\n",
       "      <td>0.447850</td>\n",
       "      <td>0.821464</td>\n",
       "      <td>NaN</td>\n",
       "      <td>NaN</td>\n",
       "      <td>-0.556349</td>\n",
       "      <td>-0.745356</td>\n",
       "      <td>NaN</td>\n",
       "      <td>NaN</td>\n",
       "      <td>-0.547178</td>\n",
       "      <td>-0.734497</td>\n",
       "      <td>-0.226452</td>\n",
       "      <td>-0.188376</td>\n",
       "      <td>-0.469761</td>\n",
       "      <td>0.521274</td>\n",
       "      <td>-0.384529</td>\n",
       "      <td>0.455062</td>\n",
       "      <td>-0.102254</td>\n",
       "      <td>0.150170</td>\n",
       "      <td>-0.503879</td>\n",
       "      <td>-0.291807</td>\n",
       "      <td>-0.180360</td>\n",
       "      <td>0.307433</td>\n",
       "      <td>0.531155</td>\n",
       "      <td>0.825859</td>\n",
       "      <td>-0.248677</td>\n",
       "      <td>0.640381</td>\n",
       "      <td>0.121656</td>\n",
       "      <td>0.329332</td>\n",
       "      <td>-0.001444</td>\n",
       "      <td>0.127895</td>\n",
       "      <td>0.531155</td>\n",
       "      <td>0.825859</td>\n",
       "      <td>0.066249</td>\n",
       "      <td>1.167353</td>\n",
       "      <td>-0.241226</td>\n",
       "      <td>0.463131</td>\n",
       "      <td>-0.384529</td>\n",
       "      <td>0.455062</td>\n",
       "      <td>0.037644</td>\n",
       "      <td>0.583918</td>\n",
       "      <td>-0.973928</td>\n",
       "      <td>0.540638</td>\n",
       "      <td>0.970032</td>\n",
       "      <td>True</td>\n",
       "      <td>True</td>\n",
       "      <td>False</td>\n",
       "      <td>0.833169</td>\n",
       "      <td>0.841989</td>\n",
       "      <td>0.993164</td>\n",
       "      <td>0.022872</td>\n",
       "      <td>0.825114</td>\n",
       "      <td>0.859687</td>\n",
       "      <td>-0.760049</td>\n",
       "      <td>-1.764101</td>\n",
       "      <td>-1.146573</td>\n",
       "      <td>0.428297</td>\n",
       "      <td>-0.939091</td>\n",
       "      <td>-1.445698</td>\n",
       "      <td>-0.688398</td>\n",
       "      <td>-0.758653</td>\n",
       "      <td>-0.773983</td>\n",
       "      <td>-0.774515</td>\n",
       "      <td>-0.762613</td>\n",
       "      <td>-0.752588</td>\n",
       "    </tr>\n",
       "    <tr>\n",
       "      <th>252410</th>\n",
       "      <td>49.2</td>\n",
       "      <td>48.27</td>\n",
       "      <td>48.4</td>\n",
       "      <td>202506150201021209</td>\n",
       "      <td>2025</td>\n",
       "      <td>6</td>\n",
       "      <td>15</td>\n",
       "      <td>1</td>\n",
       "      <td>函館</td>\n",
       "      <td>2</td>\n",
       "      <td>12</td>\n",
       "      <td>グレイテストソング</td>\n",
       "      <td>1197</td>\n",
       "      <td>1076</td>\n",
       "      <td>11</td>\n",
       "      <td>0.757337</td>\n",
       "      <td>0.904534</td>\n",
       "      <td>23</td>\n",
       "      <td>24</td>\n",
       "      <td>4</td>\n",
       "      <td>1700</td>\n",
       "      <td>良</td>\n",
       "      <td>曇</td>\n",
       "      <td>13</td>\n",
       "      <td>牡</td>\n",
       "      <td>-0.924995</td>\n",
       "      <td>-0.230977</td>\n",
       "      <td>NaN</td>\n",
       "      <td>-1.544306</td>\n",
       "      <td>-0.493280</td>\n",
       "      <td>4</td>\n",
       "      <td>3.0</td>\n",
       "      <td>2.7</td>\n",
       "      <td>1</td>\n",
       "      <td>5.9</td>\n",
       "      <td>3</td>\n",
       "      <td>1.6</td>\n",
       "      <td>1.3</td>\n",
       "      <td>1.7</td>\n",
       "      <td>1.3</td>\n",
       "      <td>1</td>\n",
       "      <td>2.0</td>\n",
       "      <td>1.6</td>\n",
       "      <td>2</td>\n",
       "      <td>1</td>\n",
       "      <td>-0.2</td>\n",
       "      <td>1454</td>\n",
       "      <td>5.0</td>\n",
       "      <td>4.0</td>\n",
       "      <td>5.0</td>\n",
       "      <td>4.0</td>\n",
       "      <td>37.4</td>\n",
       "      <td>1</td>\n",
       "      <td>37.09</td>\n",
       "      <td>0.2</td>\n",
       "      <td>先行</td>\n",
       "      <td>1.0</td>\n",
       "      <td>800</td>\n",
       "      <td>0</td>\n",
       "      <td>モズアスコット</td>\n",
       "      <td>シネマソングス</td>\n",
       "      <td>ハーツクライ</td>\n",
       "      <td>ロイヤルチャージャー系</td>\n",
       "      <td>黒鹿</td>\n",
       "      <td>2022106541</td>\n",
       "      <td>2025061502010212</td>\n",
       "      <td>ダート</td>\n",
       "      <td>平地</td>\n",
       "      <td>R</td>\n",
       "      <td>函館ダート1700</td>\n",
       "      <td>outer</td>\n",
       "      <td>2025-06-15 12:10:00</td>\n",
       "      <td>1</td>\n",
       "      <td>1</td>\n",
       "      <td>-1.560418</td>\n",
       "      <td>-1.560418</td>\n",
       "      <td>-1.560418</td>\n",
       "      <td>-1.560418</td>\n",
       "      <td>-1.470235</td>\n",
       "      <td>-0.146554</td>\n",
       "      <td>-0.146554</td>\n",
       "      <td>-0.146554</td>\n",
       "      <td>-0.146554</td>\n",
       "      <td>-1.359211</td>\n",
       "      <td>-0.687360</td>\n",
       "      <td>-0.687360</td>\n",
       "      <td>-0.687360</td>\n",
       "      <td>-0.687360</td>\n",
       "      <td>0.027726</td>\n",
       "      <td>1.370364</td>\n",
       "      <td>1.370364</td>\n",
       "      <td>1.370364</td>\n",
       "      <td>1.370364</td>\n",
       "      <td>1.505219</td>\n",
       "      <td>NaN</td>\n",
       "      <td>NaN</td>\n",
       "      <td>0.470615</td>\n",
       "      <td>1.187937</td>\n",
       "      <td>1.297967</td>\n",
       "      <td>1.603418</td>\n",
       "      <td>0.486066</td>\n",
       "      <td>1.261635</td>\n",
       "      <td>0.755647</td>\n",
       "      <td>1.952200</td>\n",
       "      <td>-0.749326</td>\n",
       "      <td>1.568333</td>\n",
       "      <td>NaN</td>\n",
       "      <td>NaN</td>\n",
       "      <td>1.283209</td>\n",
       "      <td>1.253186</td>\n",
       "      <td>NaN</td>\n",
       "      <td>NaN</td>\n",
       "      <td>NaN</td>\n",
       "      <td>NaN</td>\n",
       "      <td>NaN</td>\n",
       "      <td>NaN</td>\n",
       "      <td>NaN</td>\n",
       "      <td>NaN</td>\n",
       "      <td>0.275241</td>\n",
       "      <td>0.912871</td>\n",
       "      <td>NaN</td>\n",
       "      <td>NaN</td>\n",
       "      <td>NaN</td>\n",
       "      <td>NaN</td>\n",
       "      <td>NaN</td>\n",
       "      <td>NaN</td>\n",
       "      <td>0.275241</td>\n",
       "      <td>0.912871</td>\n",
       "      <td>NaN</td>\n",
       "      <td>NaN</td>\n",
       "      <td>NaN</td>\n",
       "      <td>NaN</td>\n",
       "      <td>-0.579751</td>\n",
       "      <td>2.101975</td>\n",
       "      <td>NaN</td>\n",
       "      <td>NaN</td>\n",
       "      <td>NaN</td>\n",
       "      <td>NaN</td>\n",
       "      <td>NaN</td>\n",
       "      <td>NaN</td>\n",
       "      <td>NaN</td>\n",
       "      <td>NaN</td>\n",
       "      <td>NaN</td>\n",
       "      <td>NaN</td>\n",
       "      <td>1.483313</td>\n",
       "      <td>1.695077</td>\n",
       "      <td>0.720750</td>\n",
       "      <td>0.720750</td>\n",
       "      <td>0.720750</td>\n",
       "      <td>0.720750</td>\n",
       "      <td>0.720750</td>\n",
       "      <td>-0.720750</td>\n",
       "      <td>0.720750</td>\n",
       "      <td>0.720750</td>\n",
       "      <td>0.720750</td>\n",
       "      <td>-0.720750</td>\n",
       "      <td>0.720750</td>\n",
       "      <td>0.720750</td>\n",
       "      <td>0.720750</td>\n",
       "      <td>-0.720750</td>\n",
       "      <td>0.720750</td>\n",
       "      <td>0.720750</td>\n",
       "      <td>0.720750</td>\n",
       "      <td>0.720750</td>\n",
       "      <td>0.720750</td>\n",
       "      <td>-0.720750</td>\n",
       "      <td>0.720750</td>\n",
       "      <td>0.720750</td>\n",
       "      <td>0.836141</td>\n",
       "      <td>0.721292</td>\n",
       "      <td>1.353237</td>\n",
       "      <td>1.253193</td>\n",
       "      <td>0.218215</td>\n",
       "      <td>0.852749</td>\n",
       "      <td>0.534323</td>\n",
       "      <td>0.583281</td>\n",
       "      <td>0.465594</td>\n",
       "      <td>0.717062</td>\n",
       "      <td>1.140371</td>\n",
       "      <td>0.939632</td>\n",
       "      <td>0.465594</td>\n",
       "      <td>0.717062</td>\n",
       "      <td>0.218215</td>\n",
       "      <td>0.852749</td>\n",
       "      <td>0.358616</td>\n",
       "      <td>0.570750</td>\n",
       "      <td>0.856695</td>\n",
       "      <td>0.626781</td>\n",
       "      <td>1.233602</td>\n",
       "      <td>1.061743</td>\n",
       "      <td>1.522134</td>\n",
       "      <td>0.993867</td>\n",
       "      <td>0.297623</td>\n",
       "      <td>0.365023</td>\n",
       "      <td>0.478532</td>\n",
       "      <td>0.997210</td>\n",
       "      <td>0.328694</td>\n",
       "      <td>0.592194</td>\n",
       "      <td>0.836300</td>\n",
       "      <td>0.825573</td>\n",
       "      <td>0.465594</td>\n",
       "      <td>0.717062</td>\n",
       "      <td>1.353237</td>\n",
       "      <td>1.253193</td>\n",
       "      <td>0.362283</td>\n",
       "      <td>0.654266</td>\n",
       "      <td>0.218215</td>\n",
       "      <td>0.852749</td>\n",
       "      <td>0.465594</td>\n",
       "      <td>0.717062</td>\n",
       "      <td>1.140371</td>\n",
       "      <td>0.939632</td>\n",
       "      <td>0.626661</td>\n",
       "      <td>0.702379</td>\n",
       "      <td>0.705111</td>\n",
       "      <td>0.959618</td>\n",
       "      <td>0.551170</td>\n",
       "      <td>0.707085</td>\n",
       "      <td>0.358616</td>\n",
       "      <td>0.570750</td>\n",
       "      <td>0.626661</td>\n",
       "      <td>0.702379</td>\n",
       "      <td>1.164616</td>\n",
       "      <td>0.710962</td>\n",
       "      <td>-0.041828</td>\n",
       "      <td>-0.208666</td>\n",
       "      <td>0.649122</td>\n",
       "      <td>1.470426</td>\n",
       "      <td>2.460756</td>\n",
       "      <td>2.086295</td>\n",
       "      <td>0.446130</td>\n",
       "      <td>0.100625</td>\n",
       "      <td>1.817131</td>\n",
       "      <td>0.987416</td>\n",
       "      <td>1.525012</td>\n",
       "      <td>1.769755</td>\n",
       "      <td>1.817131</td>\n",
       "      <td>0.987416</td>\n",
       "      <td>2.460756</td>\n",
       "      <td>2.086295</td>\n",
       "      <td>2.261577</td>\n",
       "      <td>2.249973</td>\n",
       "      <td>0.430692</td>\n",
       "      <td>-0.070328</td>\n",
       "      <td>0.439304</td>\n",
       "      <td>0.251058</td>\n",
       "      <td>1.917970</td>\n",
       "      <td>0.204367</td>\n",
       "      <td>0.519488</td>\n",
       "      <td>0.079885</td>\n",
       "      <td>2.545193</td>\n",
       "      <td>0.533285</td>\n",
       "      <td>2.691256</td>\n",
       "      <td>1.612452</td>\n",
       "      <td>2.221195</td>\n",
       "      <td>2.123281</td>\n",
       "      <td>NaN</td>\n",
       "      <td>NaN</td>\n",
       "      <td>NaN</td>\n",
       "      <td>NaN</td>\n",
       "      <td>1.787406</td>\n",
       "      <td>1.953350</td>\n",
       "      <td>-0.763132</td>\n",
       "      <td>2.268537</td>\n",
       "      <td>0.583106</td>\n",
       "      <td>1.723634</td>\n",
       "      <td>NaN</td>\n",
       "      <td>NaN</td>\n",
       "      <td>0.538077</td>\n",
       "      <td>1.592940</td>\n",
       "      <td>NaN</td>\n",
       "      <td>NaN</td>\n",
       "      <td>1.711017</td>\n",
       "      <td>1.819713</td>\n",
       "      <td>NaN</td>\n",
       "      <td>NaN</td>\n",
       "      <td>NaN</td>\n",
       "      <td>NaN</td>\n",
       "      <td>NaN</td>\n",
       "      <td>NaN</td>\n",
       "      <td>NaN</td>\n",
       "      <td>NaN</td>\n",
       "      <td>0.019803</td>\n",
       "      <td>0.637927</td>\n",
       "      <td>1.384102</td>\n",
       "      <td>0.903467</td>\n",
       "      <td>-1.844807</td>\n",
       "      <td>-1.878961</td>\n",
       "      <td>-0.148236</td>\n",
       "      <td>1.585089</td>\n",
       "      <td>-0.416639</td>\n",
       "      <td>0.259818</td>\n",
       "      <td>0.153015</td>\n",
       "      <td>0.456425</td>\n",
       "      <td>-0.985236</td>\n",
       "      <td>-1.372002</td>\n",
       "      <td>-0.656550</td>\n",
       "      <td>1.309912</td>\n",
       "      <td>-1.206943</td>\n",
       "      <td>-1.311069</td>\n",
       "      <td>0.891581</td>\n",
       "      <td>0.929042</td>\n",
       "      <td>-0.985236</td>\n",
       "      <td>-1.372002</td>\n",
       "      <td>-2.212438</td>\n",
       "      <td>-1.969828</td>\n",
       "      <td>2.346887</td>\n",
       "      <td>1.672705</td>\n",
       "      <td>-1.844807</td>\n",
       "      <td>-1.878961</td>\n",
       "      <td>1.584403</td>\n",
       "      <td>-1.529666</td>\n",
       "      <td>-0.437260</td>\n",
       "      <td>0.160976</td>\n",
       "      <td>1.782066</td>\n",
       "      <td>True</td>\n",
       "      <td>False</td>\n",
       "      <td>True</td>\n",
       "      <td>0.390727</td>\n",
       "      <td>0.400947</td>\n",
       "      <td>1.410934</td>\n",
       "      <td>0.552203</td>\n",
       "      <td>1.408582</td>\n",
       "      <td>1.393025</td>\n",
       "      <td>-0.830449</td>\n",
       "      <td>-0.957047</td>\n",
       "      <td>-0.723109</td>\n",
       "      <td>0.428297</td>\n",
       "      <td>0.193551</td>\n",
       "      <td>-0.723133</td>\n",
       "      <td>-0.918834</td>\n",
       "      <td>-0.896590</td>\n",
       "      <td>-0.843588</td>\n",
       "      <td>-0.844258</td>\n",
       "      <td>-0.800624</td>\n",
       "      <td>-0.767144</td>\n",
       "    </tr>\n",
       "  </tbody>\n",
       "</table>\n",
       "</div>"
      ],
      "text/plain": [
       "         PCI   PCI3  RPCI             race_id  year  month  day  times place  \\\n",
       "252406  45.7  48.27  48.4  202506150201021202  2025      6   15      1    函館   \n",
       "252407  41.3  48.27  48.4  202506150201021204  2025      6   15      1    函館   \n",
       "252408   NaN  48.27  48.4  202506150201021201  2025      6   15      1    函館   \n",
       "252409  45.5  48.27  48.4  202506150201021207  2025      6   15      1    函館   \n",
       "252410  49.2  48.27  48.4  202506150201021209  2025      6   15      1    函館   \n",
       "\n",
       "       daily  race_num      horse jockey_id  trainer_id horse_N  waku_num  \\\n",
       "252406     2        12     デルマムーン      1115        1097      11 -1.325339   \n",
       "252407     2        12       ボエーム      1217        1043      11 -0.492269   \n",
       "252408     2        12  モーメントキャッチ      1143        1100      11 -1.741874   \n",
       "252409     2        12    トモジャザーン      1015        1032      11  0.340802   \n",
       "252410     2        12  グレイテストソング      1197        1076      11  0.757337   \n",
       "\n",
       "        horse_num class_code track_code  corner_num  dist state weather  \\\n",
       "252406  -1.206045         23         24           4  1700     良      曇    \n",
       "252407  -0.603023         23         24           4  1700     良      曇    \n",
       "252408  -1.507557         23         24           4  1700     良      曇    \n",
       "252409   0.301511         23         24           4  1700     良      曇    \n",
       "252410   0.904534         23         24           4  1700     良      曇    \n",
       "\n",
       "       age_code sex       age  basis_weight blinker    weight   inc_dec  \\\n",
       "252406       13   牡 -0.924995     -0.230977     NaN  1.082030 -0.041107   \n",
       "252407       13   牡  0.346873     -0.230977     NaN -1.209029 -0.041107   \n",
       "252408       13   牡  1.618741      1.293472     NaN  1.137909 -0.945454   \n",
       "252409       13   牡  0.346873      1.293472     NaN  0.523235 -0.945454   \n",
       "252410       13   牡 -0.924995     -0.230977     NaN -1.544306 -0.493280   \n",
       "\n",
       "       weight_code  win_odds  win_odds_1  win_odds_1_pop  win_odds_2  \\\n",
       "252406           4       8.3         7.7               5        11.1   \n",
       "252407           4     104.5        69.8              10        33.1   \n",
       "252408           4       5.8         6.2               3         4.9   \n",
       "252409           4       3.7         4.6               2         7.7   \n",
       "252410           4       3.0         2.7               1         5.9   \n",
       "\n",
       "        win_odds_2_pop  win_mul_odds_Hi  win_mul_odds_Lo  win_mul_odds_1_Hi  \\\n",
       "252406               8              3.0              2.0                3.1   \n",
       "252407              10             22.0             13.4               15.4   \n",
       "252408               1              2.3              1.6                1.9   \n",
       "252409               5              1.9              1.4                1.9   \n",
       "252410               3              1.6              1.3                1.7   \n",
       "\n",
       "        win_mul_odds_1_Lo  win_mul_odds_1_pop  win_mul_odds_2_Hi  \\\n",
       "252406                2.1                   5                3.4   \n",
       "252407                9.9                  10                9.2   \n",
       "252408                1.4                   2                2.3   \n",
       "252409                1.4                   2                1.8   \n",
       "252410                1.3                   1                2.0   \n",
       "\n",
       "        win_mul_odds_2_Lo  win_mul_odds_2_pop  rank time_diff  time  \\\n",
       "252406                2.5                   6     8       2.0  1474   \n",
       "252407                6.6                  11    10       3.4  1488   \n",
       "252408                1.8                   3     0      ----  ----   \n",
       "252409                1.5                   1     6       1.6  1470   \n",
       "252410                1.6                   2     1      -0.2  1454   \n",
       "\n",
       "        corner1_rank  corner2_rank  corner3_rank  corner4_rank  last_3F_time  \\\n",
       "252406           3.0           4.0           8.0           8.0          39.0   \n",
       "252407           1.0           1.0           5.0           8.0          40.7   \n",
       "252408           NaN           NaN           NaN           NaN           NaN   \n",
       "252409           6.0           6.0           5.0           7.0          38.9   \n",
       "252410           5.0           4.0           5.0           4.0          37.4   \n",
       "\n",
       "        last_3F_rank  Ave_3F  last_3F_time_diff  leg   pop  prize  error_code  \\\n",
       "252406             8   37.31                0.6   中団   5.0      0           0   \n",
       "252407            10   37.15                0.3   逃げ  10.0      0           0   \n",
       "252408             0     NaN                NaN  NaN   4.0      0           4   \n",
       "252409             6   37.15                0.3   中団   2.0      0           0   \n",
       "252410             1   37.09                0.2   先行   1.0    800           0   \n",
       "\n",
       "               father     mother broodmare_sire broodmare_sire_type  \\\n",
       "252406    マインドユアビスケッツ  デルマアラレチャン      スクリーンヒーロー         ロイヤルチャージャー系   \n",
       "252407      アニマルキングダム     ラストマイア        ローエングリン           ニアークティック系   \n",
       "252408           モーリス   シュシュブリーズ          フジキセキ         ロイヤルチャージャー系   \n",
       "252409  マジェスティックウォリアー    トモジャオール      エンパイアメーカー          ネイティヴダンサー系   \n",
       "252410        モズアスコット    シネマソングス         ハーツクライ         ロイヤルチャージャー系   \n",
       "\n",
       "       horse_color          id       id_for_fold field_type flat_or_jump  \\\n",
       "252406          鹿毛  2022101964  2025061502010212        ダート           平地   \n",
       "252407          栗毛  2021100475  2025061502010212        ダート           平地   \n",
       "252408          鹿毛  2020104725  2025061502010212        ダート           平地   \n",
       "252409          鹿毛  2021104295  2025061502010212        ダート           平地   \n",
       "252410          黒鹿  2022106541  2025061502010212        ダート           平地   \n",
       "\n",
       "       turn_type  race_type   waku            datetime  target  target3  \\\n",
       "252406         R  函館ダート1700  inner 2025-06-15 12:10:00       0        0   \n",
       "252407         R  函館ダート1700  inner 2025-06-15 12:10:00       0        0   \n",
       "252408         R  函館ダート1700  inner 2025-06-15 12:10:00       0        0   \n",
       "252409         R  函館ダート1700  outer 2025-06-15 12:10:00       0        0   \n",
       "252410         R  函館ダート1700  outer 2025-06-15 12:10:00       1        1   \n",
       "\n",
       "        weight_last_1  weight_last_2  weight_last_3  weight_mean_last_1_to_3  \\\n",
       "252406       1.210008       1.210008       1.210008                 1.210008   \n",
       "252407      -1.259285      -1.259285      -1.259285                -1.259285   \n",
       "252408       1.390688       1.390688       1.390688                 1.390688   \n",
       "252409       0.728195       0.728195       0.728195                 0.728195   \n",
       "252410      -1.560418      -1.560418      -1.560418                -1.560418   \n",
       "\n",
       "        weight_mean_all  inc_dec_last_1  inc_dec_last_2  inc_dec_last_3  \\\n",
       "252406         1.574136       -0.607152       -0.607152       -0.607152   \n",
       "252407        -1.470235        0.544343        0.544343        0.544343   \n",
       "252408         1.016316       -1.067750       -1.067750       -1.067750   \n",
       "252409         0.568170       -0.146554       -0.146554       -0.146554   \n",
       "252410        -1.470235       -0.146554       -0.146554       -0.146554   \n",
       "\n",
       "        inc_dec_mean_last_1_to_3  inc_dec_mean_all  last_3F_time_last_1  \\\n",
       "252406                 -0.607152         -1.036204            -1.509204   \n",
       "252407                  0.544343         -0.309440            -0.522991   \n",
       "252408                 -1.067750          0.832619            -0.029885   \n",
       "252409                 -0.146554          1.677050             0.381037   \n",
       "252410                 -0.146554         -1.359211            -0.687360   \n",
       "\n",
       "        last_3F_time_last_2  last_3F_time_last_3  \\\n",
       "252406            -1.509204            -1.509204   \n",
       "252407            -0.522991            -0.522991   \n",
       "252408            -0.029885            -0.029885   \n",
       "252409             0.381037             0.381037   \n",
       "252410            -0.687360            -0.687360   \n",
       "\n",
       "        last_3F_time_mean_last_1_to_3  last_3F_time_mean_all  Ave_3F_last_1  \\\n",
       "252406                      -1.509204               0.382330      -1.040782   \n",
       "252407                      -0.522991               0.411880      -1.465769   \n",
       "252408                      -0.029885                    NaN      -0.234176   \n",
       "252409                       0.381037               0.287769       0.763240   \n",
       "252410                      -0.687360               0.027726       1.370364   \n",
       "\n",
       "        Ave_3F_last_2  Ave_3F_last_3  Ave_3F_mean_last_1_to_3  \\\n",
       "252406      -1.040782      -1.040782                -1.040782   \n",
       "252407      -1.465769      -1.465769                -1.465769   \n",
       "252408      -0.234176      -0.234176                -0.234176   \n",
       "252409       0.763240       0.763240                 0.763240   \n",
       "252410       1.370364       1.370364                 1.370364   \n",
       "\n",
       "        Ave_3F_mean_all  horse_win_rate_dist  horse_win_rate3_dist  \\\n",
       "252406        -1.050628            -0.659159              1.190190   \n",
       "252407        -1.188720            -0.659159             -0.917032   \n",
       "252408              NaN                  NaN                   NaN   \n",
       "252409         0.276124                  NaN                   NaN   \n",
       "252410         1.505219                  NaN                   NaN   \n",
       "\n",
       "        horse_win_rate_track_code  horse_win_rate3_track_code  \\\n",
       "252406                  -0.675532                    1.187937   \n",
       "252407                  -0.675532                   -1.234427   \n",
       "252408                  -0.675532                    0.380482   \n",
       "252409                   0.012156                    0.703464   \n",
       "252410                   0.470615                    1.187937   \n",
       "\n",
       "        horse_win_rate_field_type  horse_win_rate3_field_type  \\\n",
       "252406                   1.297967                    0.679736   \n",
       "252407                  -1.177923                   -1.167630   \n",
       "252408                  -1.177923                    1.177103   \n",
       "252409                   0.307611                    1.049209   \n",
       "252410                   1.297967                    1.603418   \n",
       "\n",
       "        horse_win_rate_turn_type  horse_win_rate3_turn_type  \\\n",
       "252406                 -0.657063                   1.261635   \n",
       "252407                 -0.657063                  -1.172452   \n",
       "252408                 -0.657063                   0.044591   \n",
       "252409                  0.028814                   0.774818   \n",
       "252410                  0.486066                   1.261635   \n",
       "\n",
       "        horse_win_rate_weather  horse_win_rate3_weather  horse_win_rate_state  \\\n",
       "252406                1.551064                 0.502546             -0.749326   \n",
       "252407               -0.835188                -0.947107             -0.749326   \n",
       "252408               -0.835188                 0.792477             -0.749326   \n",
       "252409                     NaN                      NaN             -0.749326   \n",
       "252410                0.755647                 1.952200             -0.749326   \n",
       "\n",
       "        horse_win_rate3_state  horse_win_rate_place  horse_win_rate3_place  \\\n",
       "252406               1.568333                   NaN                    NaN   \n",
       "252407              -1.090639                   NaN                    NaN   \n",
       "252408               0.770642                   NaN                    NaN   \n",
       "252409               0.682009                   NaN                    NaN   \n",
       "252410               1.568333                   NaN                    NaN   \n",
       "\n",
       "        horse_win_rate_corner_num  horse_win_rate3_corner_num  \\\n",
       "252406                  -0.915699                    1.253186   \n",
       "252407                  -0.915699                   -1.094925   \n",
       "252408                  -0.915699                    0.750019   \n",
       "252409                   0.733482                    1.253186   \n",
       "252410                   1.283209                    1.253186   \n",
       "\n",
       "        horse_win_rate_class_code  horse_win_rate3_class_code  \\\n",
       "252406                        NaN                         NaN   \n",
       "252407                        NaN                   -0.614537   \n",
       "252408                        NaN                    1.314822   \n",
       "252409                        NaN                    1.957942   \n",
       "252410                        NaN                         NaN   \n",
       "\n",
       "        horse_win_rate_basis_weight  horse_win_rate3_basis_weight  \\\n",
       "252406                          NaN                           NaN   \n",
       "252407                          NaN                     -0.635838   \n",
       "252408                          NaN                      0.999175   \n",
       "252409                          NaN                      1.544179   \n",
       "252410                          NaN                           NaN   \n",
       "\n",
       "        horse_win_rate_age_code  horse_win_rate3_age_code  \\\n",
       "252406                      NaN                       NaN   \n",
       "252407                      NaN                 -0.707107   \n",
       "252408                      NaN                  1.414214   \n",
       "252409                      NaN                       NaN   \n",
       "252410                      NaN                       NaN   \n",
       "\n",
       "        horse_win_rate_weight_code  horse_win_rate3_weight_code  \\\n",
       "252406                         NaN                          NaN   \n",
       "252407                         NaN                    -0.821173   \n",
       "252408                         NaN                     0.897561   \n",
       "252409                         NaN                     1.470473   \n",
       "252410                         NaN                          NaN   \n",
       "\n",
       "        horse_win_rate_jockey_id  horse_win_rate3_jockey_id  \\\n",
       "252406                       NaN                        NaN   \n",
       "252407                       NaN                        NaN   \n",
       "252408                 -0.550482                   0.912871   \n",
       "252409                       NaN                        NaN   \n",
       "252410                  0.275241                   0.912871   \n",
       "\n",
       "        horse_win_rate_jockey_id_class_code  \\\n",
       "252406                                  NaN   \n",
       "252407                                  NaN   \n",
       "252408                                  NaN   \n",
       "252409                                  NaN   \n",
       "252410                                  NaN   \n",
       "\n",
       "        horse_win_rate3_jockey_id_class_code  horse_win_rate_jockey_id_place  \\\n",
       "252406                                   NaN                             NaN   \n",
       "252407                                   NaN                             NaN   \n",
       "252408                                   1.5                             NaN   \n",
       "252409                                   NaN                             NaN   \n",
       "252410                                   NaN                             NaN   \n",
       "\n",
       "        horse_win_rate3_jockey_id_place  horse_win_rate_jockey_id_dist  \\\n",
       "252406                              NaN                            NaN   \n",
       "252407                              NaN                            NaN   \n",
       "252408                              NaN                            NaN   \n",
       "252409                              NaN                            NaN   \n",
       "252410                              NaN                            NaN   \n",
       "\n",
       "        horse_win_rate3_jockey_id_dist  horse_win_rate_jockey_id_field_type  \\\n",
       "252406                             NaN                                  NaN   \n",
       "252407                             NaN                                  NaN   \n",
       "252408                             NaN                            -0.550482   \n",
       "252409                             NaN                                  NaN   \n",
       "252410                             NaN                             0.275241   \n",
       "\n",
       "        horse_win_rate3_jockey_id_field_type  \\\n",
       "252406                                   NaN   \n",
       "252407                                   NaN   \n",
       "252408                              0.912871   \n",
       "252409                                   NaN   \n",
       "252410                              0.912871   \n",
       "\n",
       "        horse_win_rate_jockey_id_place_dist  \\\n",
       "252406                                  NaN   \n",
       "252407                                  NaN   \n",
       "252408                                  NaN   \n",
       "252409                                  NaN   \n",
       "252410                                  NaN   \n",
       "\n",
       "        horse_win_rate3_jockey_id_place_dist  \\\n",
       "252406                                   NaN   \n",
       "252407                                   NaN   \n",
       "252408                                   NaN   \n",
       "252409                                   NaN   \n",
       "252410                                   NaN   \n",
       "\n",
       "        horse_win_rate_jockey_id_place_field_type_dist  \\\n",
       "252406                                             NaN   \n",
       "252407                                             NaN   \n",
       "252408                                             NaN   \n",
       "252409                                             NaN   \n",
       "252410                                             NaN   \n",
       "\n",
       "        horse_win_rate3_jockey_id_place_field_type_dist  \\\n",
       "252406                                              NaN   \n",
       "252407                                              NaN   \n",
       "252408                                              NaN   \n",
       "252409                                              NaN   \n",
       "252410                                              NaN   \n",
       "\n",
       "        horse_win_rate_weather_state  horse_win_rate3_weather_state  \\\n",
       "252406                           NaN                            NaN   \n",
       "252407                     -0.579751                      -0.808452   \n",
       "252408                     -0.579751                       0.161690   \n",
       "252409                           NaN                            NaN   \n",
       "252410                     -0.579751                       2.101975   \n",
       "\n",
       "        horse_win_rate_dist_corner_num  horse_win_rate3_dist_corner_num  \\\n",
       "252406                       -0.659159                         1.190190   \n",
       "252407                       -0.659159                        -0.917032   \n",
       "252408                             NaN                              NaN   \n",
       "252409                             NaN                              NaN   \n",
       "252410                             NaN                              NaN   \n",
       "\n",
       "        horse_win_rate_dist_track_code  horse_win_rate3_dist_track_code  \\\n",
       "252406                       -0.659159                         1.190190   \n",
       "252407                       -0.659159                        -0.917032   \n",
       "252408                             NaN                              NaN   \n",
       "252409                             NaN                              NaN   \n",
       "252410                             NaN                              NaN   \n",
       "\n",
       "        horse_win_rate_dist_class_code  horse_win_rate3_dist_class_code  \\\n",
       "252406                             NaN                              NaN   \n",
       "252407                             NaN                              NaN   \n",
       "252408                             NaN                              NaN   \n",
       "252409                             NaN                              NaN   \n",
       "252410                             NaN                              NaN   \n",
       "\n",
       "        horse_win_rate_place_field_type_dist  \\\n",
       "252406                                   NaN   \n",
       "252407                                   NaN   \n",
       "252408                                   NaN   \n",
       "252409                                   NaN   \n",
       "252410                                   NaN   \n",
       "\n",
       "        horse_win_rate3_place_field_type_dist  \\\n",
       "252406                                    NaN   \n",
       "252407                                    NaN   \n",
       "252408                                    NaN   \n",
       "252409                                    NaN   \n",
       "252410                                    NaN   \n",
       "\n",
       "        horse_win_rate_place_field_type_dist_class_code  \\\n",
       "252406                                              NaN   \n",
       "252407                                              NaN   \n",
       "252408                                              NaN   \n",
       "252409                                              NaN   \n",
       "252410                                              NaN   \n",
       "\n",
       "        horse_win_rate3_place_field_type_dist_class_code  all_win_rate_horse  \\\n",
       "252406                                               NaN            1.483313   \n",
       "252407                                               NaN           -1.147407   \n",
       "252408                                               NaN           -1.147407   \n",
       "252409                                               NaN            0.431025   \n",
       "252410                                               NaN            1.483313   \n",
       "\n",
       "        all_win_rate3_horse  all_win_rate_dist_waku  all_win_rate3_dist_waku  \\\n",
       "252406             0.763828               -1.261312                -1.261312   \n",
       "252407            -1.098670               -1.261312                -1.261312   \n",
       "252408             1.096416               -1.261312                -1.261312   \n",
       "252409             1.136327                0.720750                 0.720750   \n",
       "252410             1.695077                0.720750                 0.720750   \n",
       "\n",
       "        all_win_rate_field_type_waku  all_win_rate3_field_type_waku  \\\n",
       "252406                     -1.261312                      -1.261312   \n",
       "252407                     -1.261312                      -1.261312   \n",
       "252408                     -1.261312                      -1.261312   \n",
       "252409                      0.720750                       0.720750   \n",
       "252410                      0.720750                       0.720750   \n",
       "\n",
       "        all_win_rate_place_waku  all_win_rate3_place_waku  \\\n",
       "252406                -1.261312                  1.261312   \n",
       "252407                -1.261312                  1.261312   \n",
       "252408                -1.261312                  1.261312   \n",
       "252409                 0.720750                 -0.720750   \n",
       "252410                 0.720750                 -0.720750   \n",
       "\n",
       "        all_win_rate_field_type_dist_waku  all_win_rate3_field_type_dist_waku  \\\n",
       "252406                          -1.261312                           -1.261312   \n",
       "252407                          -1.261312                           -1.261312   \n",
       "252408                          -1.261312                           -1.261312   \n",
       "252409                           0.720750                            0.720750   \n",
       "252410                           0.720750                            0.720750   \n",
       "\n",
       "        all_win_rate_dist_place_waku  all_win_rate3_dist_place_waku  \\\n",
       "252406                     -1.261312                       1.261312   \n",
       "252407                     -1.261312                       1.261312   \n",
       "252408                     -1.261312                       1.261312   \n",
       "252409                      0.720750                      -0.720750   \n",
       "252410                      0.720750                      -0.720750   \n",
       "\n",
       "        all_win_rate_field_type_place_waku  \\\n",
       "252406                           -1.261312   \n",
       "252407                           -1.261312   \n",
       "252408                           -1.261312   \n",
       "252409                            0.720750   \n",
       "252410                            0.720750   \n",
       "\n",
       "        all_win_rate3_field_type_place_waku  all_win_rate_race_type_waku  \\\n",
       "252406                            -1.261312                    -1.261312   \n",
       "252407                            -1.261312                    -1.261312   \n",
       "252408                            -1.261312                    -1.261312   \n",
       "252409                             0.720750                     0.720750   \n",
       "252410                             0.720750                     0.720750   \n",
       "\n",
       "        all_win_rate3_race_type_waku  all_win_rate_corner_num_waku  \\\n",
       "252406                      1.261312                     -1.261312   \n",
       "252407                      1.261312                     -1.261312   \n",
       "252408                      1.261312                     -1.261312   \n",
       "252409                     -0.720750                      0.720750   \n",
       "252410                     -0.720750                      0.720750   \n",
       "\n",
       "        all_win_rate3_corner_num_waku  all_win_rate_corner_num_dist_waku  \\\n",
       "252406                      -1.261312                          -1.261312   \n",
       "252407                      -1.261312                          -1.261312   \n",
       "252408                      -1.261312                          -1.261312   \n",
       "252409                       0.720750                           0.720750   \n",
       "252410                       0.720750                           0.720750   \n",
       "\n",
       "        all_win_rate3_corner_num_dist_waku  \\\n",
       "252406                           -1.261312   \n",
       "252407                           -1.261312   \n",
       "252408                           -1.261312   \n",
       "252409                            0.720750   \n",
       "252410                            0.720750   \n",
       "\n",
       "        all_win_rate_corner_num_place_waku  \\\n",
       "252406                           -1.261312   \n",
       "252407                           -1.261312   \n",
       "252408                           -1.261312   \n",
       "252409                            0.720750   \n",
       "252410                            0.720750   \n",
       "\n",
       "        all_win_rate3_corner_num_place_waku  \\\n",
       "252406                             1.261312   \n",
       "252407                             1.261312   \n",
       "252408                             1.261312   \n",
       "252409                            -0.720750   \n",
       "252410                            -0.720750   \n",
       "\n",
       "        all_win_rate_corner_num_field_type_waku  \\\n",
       "252406                                -1.261312   \n",
       "252407                                -1.261312   \n",
       "252408                                -1.261312   \n",
       "252409                                 0.720750   \n",
       "252410                                 0.720750   \n",
       "\n",
       "        all_win_rate3_corner_num_field_type_waku  all_win_rate_jockey_id  \\\n",
       "252406                                 -1.261312                1.301450   \n",
       "252407                                 -1.261312               -0.360831   \n",
       "252408                                 -1.261312               -1.758260   \n",
       "252409                                  0.720750               -0.773631   \n",
       "252410                                  0.720750                0.836141   \n",
       "\n",
       "        all_win_rate3_jockey_id  all_win_rate_jockey_id_place  \\\n",
       "252406                 1.270576                      1.269137   \n",
       "252407                -0.692478                     -1.071952   \n",
       "252408                -1.733329                     -1.071952   \n",
       "252409                -0.458583                     -0.229377   \n",
       "252410                 0.721292                      1.353237   \n",
       "\n",
       "        all_win_rate3_jockey_id_place  all_win_rate_jockey_id_place_dist  \\\n",
       "252406                       0.833587                           1.413516   \n",
       "252407                      -0.111262                          -1.014438   \n",
       "252408                      -1.384753                          -1.014438   \n",
       "252409                      -0.176809                          -0.159798   \n",
       "252410                       1.253193                           0.218215   \n",
       "\n",
       "        all_win_rate3_jockey_id_place_dist  all_win_rate_jockey_id_field_type  \\\n",
       "252406                            0.307815                           1.356888   \n",
       "252407                           -1.330136                          -1.058024   \n",
       "252408                           -1.330136                          -1.618272   \n",
       "252409                           -0.249088                          -0.901591   \n",
       "252410                            0.852749                           0.534323   \n",
       "\n",
       "        all_win_rate3_jockey_id_field_type  \\\n",
       "252406                            1.101551   \n",
       "252407                           -0.974087   \n",
       "252408                           -1.834958   \n",
       "252409                           -0.891286   \n",
       "252410                            0.583281   \n",
       "\n",
       "        all_win_rate_jockey_id_field_type_dist  \\\n",
       "252406                                1.912594   \n",
       "252407                               -1.040288   \n",
       "252408                               -1.040288   \n",
       "252409                               -0.249475   \n",
       "252410                                0.465594   \n",
       "\n",
       "        all_win_rate3_jockey_id_field_type_dist  \\\n",
       "252406                                 1.219514   \n",
       "252407                                 0.092143   \n",
       "252408                                -1.370781   \n",
       "252409                                -0.319568   \n",
       "252410                                 0.717062   \n",
       "\n",
       "        all_win_rate_jockey_id_field_type_place  \\\n",
       "252406                                 1.370451   \n",
       "252407                                -1.039539   \n",
       "252408                                -1.039539   \n",
       "252409                                 0.049661   \n",
       "252410                                 1.140371   \n",
       "\n",
       "        all_win_rate3_jockey_id_field_type_place  all_win_rate_jockey_id_dist  \\\n",
       "252406                                  0.974028                     1.912594   \n",
       "252407                                 -1.182462                    -1.040288   \n",
       "252408                                 -1.182462                    -1.040288   \n",
       "252409                                 -0.108380                    -0.249475   \n",
       "252410                                  0.939632                     0.465594   \n",
       "\n",
       "        all_win_rate3_jockey_id_dist  all_win_rate_jockey_id_race_type  \\\n",
       "252406                      1.219514                          1.413516   \n",
       "252407                      0.092143                         -1.014438   \n",
       "252408                     -1.370781                         -1.014438   \n",
       "252409                     -0.319568                         -0.159798   \n",
       "252410                      0.717062                          0.218215   \n",
       "\n",
       "        all_win_rate3_jockey_id_race_type  \\\n",
       "252406                           0.307815   \n",
       "252407                          -1.330136   \n",
       "252408                          -1.330136   \n",
       "252409                          -0.249088   \n",
       "252410                           0.852749   \n",
       "\n",
       "        all_win_rate_jockey_id_race_type_waku  \\\n",
       "252406                               1.171500   \n",
       "252407                              -0.941997   \n",
       "252408                              -0.941997   \n",
       "252409                              -0.485025   \n",
       "252410                               0.358616   \n",
       "\n",
       "        all_win_rate3_jockey_id_race_type_waku  \\\n",
       "252406                               -0.040362   \n",
       "252407                               -1.252228   \n",
       "252408                               -1.252228   \n",
       "252409                               -0.204128   \n",
       "252410                                0.570750   \n",
       "\n",
       "        all_win_rate_jockey_id_class_code  all_win_rate3_jockey_id_class_code  \\\n",
       "252406                           0.362421                            0.564977   \n",
       "252407                           1.498131                            0.846457   \n",
       "252408                          -1.495097                           -1.342983   \n",
       "252409                          -1.243593                           -1.465366   \n",
       "252410                           0.856695                            0.626781   \n",
       "\n",
       "        all_win_rate_jockey_id_class_code_place  \\\n",
       "252406                                -0.644486   \n",
       "252407                                -1.153433   \n",
       "252408                                -1.153433   \n",
       "252409                                -0.092529   \n",
       "252410                                 1.233602   \n",
       "\n",
       "        all_win_rate3_jockey_id_class_code_place  \\\n",
       "252406                                  0.446503   \n",
       "252407                                 -1.286911   \n",
       "252408                                 -1.286911   \n",
       "252409                                 -0.654581   \n",
       "252410                                  1.061743   \n",
       "\n",
       "        all_win_rate_jockey_id_class_code_dist  \\\n",
       "252406                               -0.096254   \n",
       "252407                                     NaN   \n",
       "252408                               -0.949816   \n",
       "252409                               -0.450981   \n",
       "252410                                1.522134   \n",
       "\n",
       "        all_win_rate3_jockey_id_class_code_dist  \\\n",
       "252406                                 0.554406   \n",
       "252407                                      NaN   \n",
       "252408                                -1.019911   \n",
       "252409                                -0.871515   \n",
       "252410                                 0.993867   \n",
       "\n",
       "        all_win_rate_jockey_id_class_code_field_type  \\\n",
       "252406                                      0.415393   \n",
       "252407                                      1.473257   \n",
       "252408                                     -1.579010   \n",
       "252409                                     -1.555238   \n",
       "252410                                      0.297623   \n",
       "\n",
       "        all_win_rate3_jockey_id_class_code_field_type  \\\n",
       "252406                                       0.130065   \n",
       "252407                                       1.282011   \n",
       "252408                                      -1.497546   \n",
       "252409                                      -1.885038   \n",
       "252410                                       0.365023   \n",
       "\n",
       "        all_win_rate_jockey_id_class_code_race_type  \\\n",
       "252406                                    -0.857841   \n",
       "252407                                          NaN   \n",
       "252408                                    -0.857841   \n",
       "252409                                    -0.189655   \n",
       "252410                                     0.478532   \n",
       "\n",
       "        all_win_rate3_jockey_id_class_code_race_type  \\\n",
       "252406                                     -0.581543   \n",
       "252407                                           NaN   \n",
       "252408                                     -1.143472   \n",
       "252409                                     -0.875886   \n",
       "252410                                      0.997210   \n",
       "\n",
       "        all_win_rate_jockey_id_class_code_race_type_waku  \\\n",
       "252406                                         -0.604373   \n",
       "252407                                               NaN   \n",
       "252408                                               NaN   \n",
       "252409                                         -0.604373   \n",
       "252410                                          0.328694   \n",
       "\n",
       "        all_win_rate3_jockey_id_class_code_race_type_waku  \\\n",
       "252406                                          -0.862970   \n",
       "252407                                                NaN   \n",
       "252408                                                NaN   \n",
       "252409                                          -0.862970   \n",
       "252410                                           0.592194   \n",
       "\n",
       "        all_win_rate_jockey_id_turn_type  all_win_rate3_jockey_id_turn_type  \\\n",
       "252406                          1.316279                           1.191933   \n",
       "252407                         -0.229130                          -0.471415   \n",
       "252408                         -1.562830                          -1.415687   \n",
       "252409                         -0.715730                          -0.306623   \n",
       "252410                          0.836300                           0.825573   \n",
       "\n",
       "        all_win_rate_jockey_id_turn_type_dist  \\\n",
       "252406                               1.912594   \n",
       "252407                              -1.040288   \n",
       "252408                              -1.040288   \n",
       "252409                              -0.249475   \n",
       "252410                               0.465594   \n",
       "\n",
       "        all_win_rate3_jockey_id_turn_type_dist  \\\n",
       "252406                                1.219514   \n",
       "252407                                0.092143   \n",
       "252408                               -1.370781   \n",
       "252409                               -0.319568   \n",
       "252410                                0.717062   \n",
       "\n",
       "        all_win_rate_jockey_id_turn_type_place  \\\n",
       "252406                                1.269137   \n",
       "252407                               -1.071952   \n",
       "252408                               -1.071952   \n",
       "252409                               -0.229377   \n",
       "252410                                1.353237   \n",
       "\n",
       "        all_win_rate3_jockey_id_turn_type_place  \\\n",
       "252406                                 0.833587   \n",
       "252407                                -0.111262   \n",
       "252408                                -1.384753   \n",
       "252409                                -0.176809   \n",
       "252410                                 1.253193   \n",
       "\n",
       "        all_win_rate_jockey_id_turn_type_field_type  \\\n",
       "252406                                     1.446622   \n",
       "252407                                    -0.950395   \n",
       "252408                                    -1.170560   \n",
       "252409                                    -0.632166   \n",
       "252410                                     0.362283   \n",
       "\n",
       "        all_win_rate3_jockey_id_turn_type_field_type  \\\n",
       "252406                                      1.151411   \n",
       "252407                                     -0.642045   \n",
       "252408                                     -1.435195   \n",
       "252409                                     -0.493582   \n",
       "252410                                      0.654266   \n",
       "\n",
       "        all_win_rate_jockey_id_turn_type_dist_place  \\\n",
       "252406                                     1.413516   \n",
       "252407                                    -1.014438   \n",
       "252408                                    -1.014438   \n",
       "252409                                    -0.159798   \n",
       "252410                                     0.218215   \n",
       "\n",
       "        all_win_rate3_jockey_id_turn_type_dist_place  \\\n",
       "252406                                      0.307815   \n",
       "252407                                     -1.330136   \n",
       "252408                                     -1.330136   \n",
       "252409                                     -0.249088   \n",
       "252410                                      0.852749   \n",
       "\n",
       "        all_win_rate_jockey_id_turn_type_dist_field_type  \\\n",
       "252406                                          1.912594   \n",
       "252407                                         -1.040288   \n",
       "252408                                         -1.040288   \n",
       "252409                                         -0.249475   \n",
       "252410                                          0.465594   \n",
       "\n",
       "        all_win_rate3_jockey_id_turn_type_dist_field_type  \\\n",
       "252406                                           1.219514   \n",
       "252407                                           0.092143   \n",
       "252408                                          -1.370781   \n",
       "252409                                          -0.319568   \n",
       "252410                                           0.717062   \n",
       "\n",
       "        all_win_rate_jockey_id_turn_type_place_field_type  \\\n",
       "252406                                           1.370451   \n",
       "252407                                          -1.039539   \n",
       "252408                                          -1.039539   \n",
       "252409                                           0.049661   \n",
       "252410                                           1.140371   \n",
       "\n",
       "        all_win_rate3_jockey_id_turn_type_place_field_type  \\\n",
       "252406                                           0.974028    \n",
       "252407                                          -1.182462    \n",
       "252408                                          -1.182462    \n",
       "252409                                          -0.108380    \n",
       "252410                                           0.939632    \n",
       "\n",
       "        all_win_rate_jockey_id_turn_type_dist_waku  \\\n",
       "252406                                    1.494577   \n",
       "252407                                   -1.087245   \n",
       "252408                                   -1.087245   \n",
       "252409                                   -0.370072   \n",
       "252410                                    0.626661   \n",
       "\n",
       "        all_win_rate3_jockey_id_turn_type_dist_waku  \\\n",
       "252406                                     0.804739   \n",
       "252407                                     0.386905   \n",
       "252408                                    -1.469521   \n",
       "252409                                    -0.352340   \n",
       "252410                                     0.702379   \n",
       "\n",
       "        all_win_rate_jockey_id_turn_type_place_waku  \\\n",
       "252406                                     1.827166   \n",
       "252407                                    -1.014166   \n",
       "252408                                    -1.014166   \n",
       "252409                                    -0.289531   \n",
       "252410                                     0.705111   \n",
       "\n",
       "        all_win_rate3_jockey_id_turn_type_place_waku  \\\n",
       "252406                                      1.120694   \n",
       "252407                                     -1.161709   \n",
       "252408                                     -1.161709   \n",
       "252409                                     -0.323500   \n",
       "252410                                      0.959618   \n",
       "\n",
       "        all_win_rate_jockey_id_turn_type_field_type_waku  \\\n",
       "252406                                          1.361773   \n",
       "252407                                         -0.493990   \n",
       "252408                                         -0.903552   \n",
       "252409                                         -0.461762   \n",
       "252410                                          0.551170   \n",
       "\n",
       "        all_win_rate3_jockey_id_turn_type_field_type_waku  \\\n",
       "252406                                           0.865137   \n",
       "252407                                           0.170614   \n",
       "252408                                          -1.349544   \n",
       "252409                                          -0.530551   \n",
       "252410                                           0.707085   \n",
       "\n",
       "        all_win_rate_jockey_id_turn_type_dist_place_waku  \\\n",
       "252406                                          1.171500   \n",
       "252407                                         -0.941997   \n",
       "252408                                         -0.941997   \n",
       "252409                                         -0.485025   \n",
       "252410                                          0.358616   \n",
       "\n",
       "        all_win_rate3_jockey_id_turn_type_dist_place_waku  \\\n",
       "252406                                          -0.040362   \n",
       "252407                                          -1.252228   \n",
       "252408                                          -1.252228   \n",
       "252409                                          -0.204128   \n",
       "252410                                           0.570750   \n",
       "\n",
       "        all_win_rate_jockey_id_turn_type_dist_field_type_waku  \\\n",
       "252406                                           1.494577       \n",
       "252407                                          -1.087245       \n",
       "252408                                          -1.087245       \n",
       "252409                                          -0.370072       \n",
       "252410                                           0.626661       \n",
       "\n",
       "        all_win_rate3_jockey_id_turn_type_dist_field_type_waku  \\\n",
       "252406                                           0.804739        \n",
       "252407                                           0.386905        \n",
       "252408                                          -1.469521        \n",
       "252409                                          -0.352340        \n",
       "252410                                           0.702379        \n",
       "\n",
       "        all_win_rate_jockey_id_turn_type_place_field_type_waku  \\\n",
       "252406                                           1.385209        \n",
       "252407                                          -0.894253        \n",
       "252408                                          -0.894253        \n",
       "252409                                          -0.082919        \n",
       "252410                                           1.164616        \n",
       "\n",
       "        all_win_rate3_jockey_id_turn_type_place_field_type_waku  \\\n",
       "252406                                           0.788864         \n",
       "252407                                          -1.143120         \n",
       "252408                                          -1.143120         \n",
       "252409                                          -0.226246         \n",
       "252410                                           0.710962         \n",
       "\n",
       "        all_win_rate_trainer_id  all_win_rate3_trainer_id  \\\n",
       "252406                 1.619361                  1.733007   \n",
       "252407                -0.979517                 -1.100924   \n",
       "252408                -1.078582                 -1.001661   \n",
       "252409                -0.403814                 -0.295846   \n",
       "252410                -0.041828                 -0.208666   \n",
       "\n",
       "        all_win_rate_trainer_id_place  all_win_rate3_trainer_id_place  \\\n",
       "252406                       1.591188                        0.699289   \n",
       "252407                       1.638943                        0.745896   \n",
       "252408                      -1.083063                       -1.246562   \n",
       "252409                      -0.254627                        0.110620   \n",
       "252410                       0.649122                        1.470426   \n",
       "\n",
       "        all_win_rate_trainer_id_place_dist  \\\n",
       "252406                           -0.616314   \n",
       "252407                           -0.616314   \n",
       "252408                           -0.616314   \n",
       "252409                            0.436368   \n",
       "252410                            2.460756   \n",
       "\n",
       "        all_win_rate3_trainer_id_place_dist  \\\n",
       "252406                             0.003062   \n",
       "252407                            -0.999976   \n",
       "252408                             0.604885   \n",
       "252409                             0.689351   \n",
       "252410                             2.086295   \n",
       "\n",
       "        all_win_rate_trainer_id_field_type  \\\n",
       "252406                            0.259117   \n",
       "252407                           -0.830225   \n",
       "252408                           -1.148935   \n",
       "252409                           -0.009574   \n",
       "252410                            0.446130   \n",
       "\n",
       "        all_win_rate3_trainer_id_field_type  \\\n",
       "252406                             1.090920   \n",
       "252407                            -1.006635   \n",
       "252408                            -1.037237   \n",
       "252409                             0.267079   \n",
       "252410                             0.100625   \n",
       "\n",
       "        all_win_rate_trainer_id_field_type_dist  \\\n",
       "252406                                -0.074129   \n",
       "252407                                -1.294296   \n",
       "252408                                -0.801536   \n",
       "252409                                 0.285321   \n",
       "252410                                 1.817131   \n",
       "\n",
       "        all_win_rate3_trainer_id_field_type_dist  \\\n",
       "252406                                  0.641399   \n",
       "252407                                 -1.832809   \n",
       "252408                                 -0.083167   \n",
       "252409                                  0.712221   \n",
       "252410                                  0.987416   \n",
       "\n",
       "        all_win_rate_trainer_id_field_type_place  \\\n",
       "252406                                 -0.780523   \n",
       "252407                                  2.037353   \n",
       "252408                                 -0.780523   \n",
       "252409                                  0.385495   \n",
       "252410                                  1.525012   \n",
       "\n",
       "        all_win_rate3_trainer_id_field_type_place  \\\n",
       "252406                                  -0.431736   \n",
       "252407                                   1.490201   \n",
       "252408                                  -0.381598   \n",
       "252409                                   0.641898   \n",
       "252410                                   1.769755   \n",
       "\n",
       "        all_win_rate_trainer_id_dist  all_win_rate3_trainer_id_dist  \\\n",
       "252406                     -0.074129                       0.641399   \n",
       "252407                     -1.294296                      -1.832809   \n",
       "252408                     -0.801536                      -0.083167   \n",
       "252409                      0.285321                       0.712221   \n",
       "252410                      1.817131                       0.987416   \n",
       "\n",
       "        all_win_rate_trainer_id_race_type  all_win_rate3_trainer_id_race_type  \\\n",
       "252406                          -0.616314                            0.003062   \n",
       "252407                          -0.616314                           -0.999976   \n",
       "252408                          -0.616314                            0.604885   \n",
       "252409                           0.436368                            0.689351   \n",
       "252410                           2.460756                            2.086295   \n",
       "\n",
       "        all_win_rate_trainer_id_race_type_waku  \\\n",
       "252406                               -0.543386   \n",
       "252407                               -0.543386   \n",
       "252408                               -0.543386   \n",
       "252409                               -0.543386   \n",
       "252410                                2.261577   \n",
       "\n",
       "        all_win_rate3_trainer_id_race_type_waku  \\\n",
       "252406                                 1.244993   \n",
       "252407                                -0.764966   \n",
       "252408                                 0.441010   \n",
       "252409                                -0.764966   \n",
       "252410                                 2.249973   \n",
       "\n",
       "        all_win_rate_trainer_id_class_code  \\\n",
       "252406                            0.847871   \n",
       "252407                           -0.573977   \n",
       "252408                           -0.765613   \n",
       "252409                           -0.615893   \n",
       "252410                            0.430692   \n",
       "\n",
       "        all_win_rate3_trainer_id_class_code  \\\n",
       "252406                             1.664712   \n",
       "252407                            -0.698370   \n",
       "252408                            -0.644883   \n",
       "252409                            -0.214534   \n",
       "252410                            -0.070328   \n",
       "\n",
       "        all_win_rate_trainer_id_class_code_place  \\\n",
       "252406                                 -0.547887   \n",
       "252407                                  2.709844   \n",
       "252408                                 -0.547887   \n",
       "252409                                 -0.547887   \n",
       "252410                                  0.439304   \n",
       "\n",
       "        all_win_rate3_trainer_id_class_code_place  \\\n",
       "252406                                  -0.401682   \n",
       "252407                                   1.882906   \n",
       "252408                                  -0.809644   \n",
       "252409                                   0.686217   \n",
       "252410                                   0.251058   \n",
       "\n",
       "        all_win_rate_trainer_id_class_code_dist  \\\n",
       "252406                                -0.671507   \n",
       "252407                                -0.150547   \n",
       "252408                                -0.643051   \n",
       "252409                                 0.188158   \n",
       "252410                                 1.917970   \n",
       "\n",
       "        all_win_rate3_trainer_id_class_code_dist  \\\n",
       "252406                                  0.044480   \n",
       "252407                                 -0.718056   \n",
       "252408                                 -0.480861   \n",
       "252409                                  1.087951   \n",
       "252410                                  0.204367   \n",
       "\n",
       "        all_win_rate_trainer_id_class_code_field_type  \\\n",
       "252406                                      -0.530899   \n",
       "252407                                      -0.422612   \n",
       "252408                                      -0.622625   \n",
       "252409                                      -0.213865   \n",
       "252410                                       0.519488   \n",
       "\n",
       "        all_win_rate3_trainer_id_class_code_field_type  \\\n",
       "252406                                        0.814201   \n",
       "252407                                       -0.371413   \n",
       "252408                                       -0.439805   \n",
       "252409                                        0.387048   \n",
       "252410                                        0.079885   \n",
       "\n",
       "        all_win_rate_trainer_id_class_code_race_type  \\\n",
       "252406                                     -0.433224   \n",
       "252407                                     -0.433224   \n",
       "252408                                     -0.433224   \n",
       "252409                                     -0.433224   \n",
       "252410                                      2.545193   \n",
       "\n",
       "        all_win_rate3_trainer_id_class_code_race_type  \\\n",
       "252406                                       1.275834   \n",
       "252407                                      -0.951812   \n",
       "252408                                       0.533285   \n",
       "252409                                       0.533285   \n",
       "252410                                       0.533285   \n",
       "\n",
       "        all_win_rate_trainer_id_class_code_race_type_waku  \\\n",
       "252406                                          -0.414039   \n",
       "252407                                          -0.414039   \n",
       "252408                                          -0.414039   \n",
       "252409                                                NaN   \n",
       "252410                                           2.691256   \n",
       "\n",
       "        all_win_rate3_trainer_id_class_code_race_type_waku  \\\n",
       "252406                                           1.612452    \n",
       "252407                                          -0.713200    \n",
       "252408                                           0.217061    \n",
       "252409                                                NaN    \n",
       "252410                                           1.612452    \n",
       "\n",
       "        all_win_rate_mother  all_win_rate3_mother  all_win_rate_mother_place  \\\n",
       "252406            -0.186343             -0.495937                        NaN   \n",
       "252407            -0.842945             -0.932473                        NaN   \n",
       "252408            -0.842945              1.468477                        NaN   \n",
       "252409             0.141958              0.377136                        NaN   \n",
       "252410             2.221195              2.123281                        NaN   \n",
       "\n",
       "        all_win_rate3_mother_place  all_win_rate_mother_dist  \\\n",
       "252406                         NaN                 -0.547178   \n",
       "252407                         NaN                 -0.547178   \n",
       "252408                         NaN                       NaN   \n",
       "252409                         NaN                 -0.547178   \n",
       "252410                         NaN                       NaN   \n",
       "\n",
       "        all_win_rate3_mother_dist  all_win_rate_mother_field_type  \\\n",
       "252406                   0.601478                       -0.261786   \n",
       "252407                  -0.734497                       -0.944851   \n",
       "252408                        NaN                       -0.944851   \n",
       "252409                  -0.734497                        0.000931   \n",
       "252410                        NaN                        1.787406   \n",
       "\n",
       "        all_win_rate3_mother_field_type  all_win_rate_mother_state  \\\n",
       "252406                        -0.539214                  -0.763132   \n",
       "252407                        -1.037727                  -0.763132   \n",
       "252408                         1.493184                  -0.763132   \n",
       "252409                         0.342770                   0.499596   \n",
       "252410                         1.953350                  -0.763132   \n",
       "\n",
       "        all_win_rate3_mother_state  all_win_rate_mother_turn_type  \\\n",
       "252406                   -0.570181                      -0.543309   \n",
       "252407                   -0.925021                      -0.543309   \n",
       "252408                    1.310470                      -0.543309   \n",
       "252409                    0.033046                      -0.153396   \n",
       "252410                    2.268537                       0.583106   \n",
       "\n",
       "        all_win_rate3_mother_turn_type  all_win_rate_mother_race_type  \\\n",
       "252406                       -0.658737                            NaN   \n",
       "252407                       -0.956533                            NaN   \n",
       "252408                        0.383551                            NaN   \n",
       "252409                        0.280467                            NaN   \n",
       "252410                        1.723634                            NaN   \n",
       "\n",
       "        all_win_rate3_mother_race_type  all_win_rate_mother_track_code  \\\n",
       "252406                             NaN                       -0.598056   \n",
       "252407                             NaN                       -0.598056   \n",
       "252408                             NaN                       -0.598056   \n",
       "252409                             NaN                       -0.189048   \n",
       "252410                             NaN                        0.538077   \n",
       "\n",
       "        all_win_rate3_mother_track_code  all_win_rate_mother_class_code  \\\n",
       "252406                        -0.729553                             NaN   \n",
       "252407                        -1.061337                       -0.333333   \n",
       "252408                         0.708181                       -0.333333   \n",
       "252409                         0.212716                        2.666667   \n",
       "252410                         1.592940                             NaN   \n",
       "\n",
       "        all_win_rate3_mother_class_code  all_win_rate_mother_corner_num  \\\n",
       "252406                              NaN                       -0.815317   \n",
       "252407                        -0.635122                       -0.815317   \n",
       "252408                         1.621233                       -0.815317   \n",
       "252409                         1.621233                        0.447850   \n",
       "252410                              NaN                        1.711017   \n",
       "\n",
       "        all_win_rate3_mother_corner_num  all_win_rate_mother_place_dist  \\\n",
       "252406                        -0.176786                             NaN   \n",
       "252407                        -1.175035                             NaN   \n",
       "252408                         1.177981                             NaN   \n",
       "252409                         0.821464                             NaN   \n",
       "252410                         1.819713                             NaN   \n",
       "\n",
       "        all_win_rate3_mother_place_dist  all_win_rate_mother_state_dist  \\\n",
       "252406                              NaN                       -0.556349   \n",
       "252407                              NaN                       -0.556349   \n",
       "252408                              NaN                             NaN   \n",
       "252409                              NaN                       -0.556349   \n",
       "252410                              NaN                             NaN   \n",
       "\n",
       "        all_win_rate3_mother_state_dist  all_win_rate_mother_place_field_type  \\\n",
       "252406                         0.596285                                   NaN   \n",
       "252407                        -0.745356                                   NaN   \n",
       "252408                              NaN                                   NaN   \n",
       "252409                        -0.745356                                   NaN   \n",
       "252410                              NaN                                   NaN   \n",
       "\n",
       "        all_win_rate3_mother_place_field_type  \\\n",
       "252406                                    NaN   \n",
       "252407                                    NaN   \n",
       "252408                                    NaN   \n",
       "252409                                    NaN   \n",
       "252410                                    NaN   \n",
       "\n",
       "        all_win_rate_mother_dist_field_type  \\\n",
       "252406                            -0.547178   \n",
       "252407                            -0.547178   \n",
       "252408                                  NaN   \n",
       "252409                            -0.547178   \n",
       "252410                                  NaN   \n",
       "\n",
       "        all_win_rate3_mother_dist_field_type  all_win_rate_father  \\\n",
       "252406                              0.601478            -0.384182   \n",
       "252407                             -0.734497            -1.699737   \n",
       "252408                                   NaN             0.958168   \n",
       "252409                             -0.734497            -0.226452   \n",
       "252410                                   NaN             0.019803   \n",
       "\n",
       "        all_win_rate3_father  all_win_rate_father_place  \\\n",
       "252406             -0.730711                   0.760519   \n",
       "252407             -1.682152                  -1.620436   \n",
       "252408              0.676041                   0.425898   \n",
       "252409             -0.188376                  -0.469761   \n",
       "252410              0.637927                   1.384102   \n",
       "\n",
       "        all_win_rate3_father_place  all_win_rate_father_dist  \\\n",
       "252406                    0.486328                  0.125495   \n",
       "252407                   -1.860078                 -0.127108   \n",
       "252408                    0.380634                 -0.497592   \n",
       "252409                    0.521274                 -0.384529   \n",
       "252410                    0.903467                 -1.844807   \n",
       "\n",
       "        all_win_rate3_father_dist  all_win_rate_father_field_type  \\\n",
       "252406                   0.054370                       -0.797425   \n",
       "252407                  -1.194240                       -2.446580   \n",
       "252408                  -0.388685                        0.025788   \n",
       "252409                   0.455062                       -0.102254   \n",
       "252410                  -1.878961                       -0.148236   \n",
       "\n",
       "        all_win_rate3_father_field_type  all_win_rate_father_state  \\\n",
       "252406                        -0.734205                  -0.296012   \n",
       "252407                        -1.603371                  -1.490971   \n",
       "252408                        -0.135792                   1.162754   \n",
       "252409                         0.150170                  -0.503879   \n",
       "252410                         1.585089                  -0.416639   \n",
       "\n",
       "        all_win_rate3_father_state  all_win_rate_father_turn_type  \\\n",
       "252406                   -0.643609                      -0.539390   \n",
       "252407                   -1.352633                      -1.159534   \n",
       "252408                    0.578138                       0.585464   \n",
       "252409                   -0.291807                      -0.180360   \n",
       "252410                    0.259818                       0.153015   \n",
       "\n",
       "        all_win_rate3_father_turn_type  all_win_rate_father_race_type  \\\n",
       "252406                       -0.936983                       0.682794   \n",
       "252407                       -1.254679                      -0.985236   \n",
       "252408                        0.606798                       0.165130   \n",
       "252409                        0.307433                       0.531155   \n",
       "252410                        0.456425                      -0.985236   \n",
       "\n",
       "        all_win_rate3_father_race_type  all_win_rate_father_track_code  \\\n",
       "252406                        0.894543                       -1.281262   \n",
       "252407                       -1.372002                       -1.706307   \n",
       "252408                        0.712177                       -0.232441   \n",
       "252409                        0.825859                       -0.248677   \n",
       "252410                       -1.372002                       -0.656550   \n",
       "\n",
       "        all_win_rate3_father_track_code  all_win_rate_father_class_code  \\\n",
       "252406                        -1.300358                       -0.658209   \n",
       "252407                        -0.858579                        0.613583   \n",
       "252408                        -0.308603                        0.468103   \n",
       "252409                         0.640381                        0.121656   \n",
       "252410                         1.309912                       -1.206943   \n",
       "\n",
       "        all_win_rate3_father_class_code  all_win_rate_father_corner_num  \\\n",
       "252406                        -0.596610                       -0.184194   \n",
       "252407                        -0.152131                       -1.002719   \n",
       "252408                         0.802908                        0.220736   \n",
       "252409                         0.329332                       -0.001444   \n",
       "252410                        -1.311069                        0.891581   \n",
       "\n",
       "        all_win_rate3_father_corner_num  all_win_rate_father_place_dist  \\\n",
       "252406                        -0.382258                        0.682794   \n",
       "252407                        -0.600808                       -0.985236   \n",
       "252408                         0.184578                        0.165130   \n",
       "252409                         0.127895                        0.531155   \n",
       "252410                         0.929042                       -0.985236   \n",
       "\n",
       "        all_win_rate3_father_place_dist  all_win_rate_father_state_dist  \\\n",
       "252406                         0.894543                        0.568961   \n",
       "252407                        -1.372002                       -0.686531   \n",
       "252408                         0.712177                       -0.270375   \n",
       "252409                         0.825859                        0.066249   \n",
       "252410                        -1.372002                       -2.212438   \n",
       "\n",
       "        all_win_rate3_father_state_dist  all_win_rate_father_place_field_type  \\\n",
       "252406                         0.024838                              0.124155   \n",
       "252407                        -0.890523                             -1.088244   \n",
       "252408                        -0.596167                             -0.444157   \n",
       "252409                         1.167353                             -0.241226   \n",
       "252410                        -1.969828                              2.346887   \n",
       "\n",
       "        all_win_rate3_father_place_field_type  \\\n",
       "252406                               0.518471   \n",
       "252407                              -1.597624   \n",
       "252408                              -0.234987   \n",
       "252409                               0.463131   \n",
       "252410                               1.672705   \n",
       "\n",
       "        all_win_rate_father_dist_field_type  \\\n",
       "252406                             0.125495   \n",
       "252407                            -0.127108   \n",
       "252408                            -0.497592   \n",
       "252409                            -0.384529   \n",
       "252410                            -1.844807   \n",
       "\n",
       "        all_win_rate3_father_dist_field_type  basis_weight_per_weight  \\\n",
       "252406                              0.054370                -1.182332   \n",
       "252407                             -1.194240                 1.165677   \n",
       "252408                             -0.388685                -0.542734   \n",
       "252409                              0.455062                 0.037644   \n",
       "252410                             -1.878961                 1.584403   \n",
       "\n",
       "        basis_weight_plus_weight  inc_dec_rate  lifetime_prize  \\\n",
       "252406                  1.050554     -0.093136       -0.255132   \n",
       "252407                 -1.200276      0.070268       -1.277181   \n",
       "252408                  1.187799     -0.973928        2.473873   \n",
       "252409                  0.583918     -0.973928        0.540638   \n",
       "252410                 -1.529666     -0.437260        0.160976   \n",
       "\n",
       "        lifetime_prize_per_race is_same_field_type_as_last  \\\n",
       "252406                 0.932840                       True   \n",
       "252407                -1.333108                       True   \n",
       "252408                 0.285293                       True   \n",
       "252409                 0.970032                       True   \n",
       "252410                 1.782066                       True   \n",
       "\n",
       "       is_same_class_code_as_last is_same_jockey_as_last  interval_day  \\\n",
       "252406                      False                  False     -1.157818   \n",
       "252407                       True                  False     -1.379038   \n",
       "252408                       True                   True     -1.126215   \n",
       "252409                       True                  False      0.833169   \n",
       "252410                      False                   True      0.390727   \n",
       "\n",
       "        interval_week  horse_TrueSkill  jockey_TrueSkill  \\\n",
       "252406      -1.142700         0.426754          1.192684   \n",
       "252407      -1.363221        -1.267055         -0.687280   \n",
       "252408      -1.142700         0.453093         -1.757445   \n",
       "252409       0.841989         0.993164          0.022872   \n",
       "252410       0.400947         1.410934          0.552203   \n",
       "\n",
       "        HorseTrueSkill_times_JockeyTrueSkill  \\\n",
       "252406                              0.815713   \n",
       "252407                             -1.283237   \n",
       "252408                             -0.332621   \n",
       "252409                              0.825114   \n",
       "252410                              1.408582   \n",
       "\n",
       "        HorseTrueSkill_plus_JockeyTrueSkill  pre_win_odds_mean  \\\n",
       "252406                             0.760222          -0.628050   \n",
       "252407                            -1.314208           1.550232   \n",
       "252408                            -0.191919          -0.721330   \n",
       "252409                             0.859687          -0.760049   \n",
       "252410                             1.393025          -0.830449   \n",
       "\n",
       "        pre_win_odds_rate_16  pre_win_odds_rate_17  pre_win_odds_rate_18  \\\n",
       "252406             -1.268541             -1.334017              0.428297   \n",
       "252407              0.865710              0.493444             -1.249184   \n",
       "252408             -0.489805             -0.526854              0.428297   \n",
       "252409             -1.764101             -1.146573              0.428297   \n",
       "252410             -0.957047             -0.723109              0.428297   \n",
       "\n",
       "        pre_win_odds_rate_19  pre_win_odds_rate_20  pre_win_odds_15  \\\n",
       "252406             -0.520169             -0.386875        -0.419556   \n",
       "252407              0.427708              0.783188         1.801589   \n",
       "252408             -1.245400             -0.534828        -0.720403   \n",
       "252409             -0.939091             -1.445698        -0.688398   \n",
       "252410              0.193551             -0.723133        -0.918834   \n",
       "\n",
       "        pre_win_odds_16  pre_win_odds_17  pre_win_odds_18  pre_win_odds_19  \\\n",
       "252406        -0.535832        -0.660417        -0.660723        -0.663199   \n",
       "252407         1.835623         1.618237         1.618772         1.453722   \n",
       "252408        -0.721516        -0.715368        -0.715784        -0.727526   \n",
       "252409        -0.758653        -0.773983        -0.774515        -0.762613   \n",
       "252410        -0.896590        -0.843588        -0.844258        -0.800624   \n",
       "\n",
       "        pre_win_odds_20  \n",
       "252406        -0.659010  \n",
       "252407         1.320667  \n",
       "252408        -0.710998  \n",
       "252409        -0.752588  \n",
       "252410        -0.767144  "
      ]
     },
     "metadata": {},
     "output_type": "display_data"
    }
   ],
   "source": [
    "feature_col = [\"waku_num\", \"horse_num\", \"sex\", \"age\", \"basis_weight\", \"weight\", \"inc_dec\"]\n",
    "df4, feature_col2 = features.feature_engineering(df3, feature_col)"
   ]
  },
  {
   "cell_type": "code",
   "execution_count": 7,
   "id": "eb7500aa",
   "metadata": {},
   "outputs": [
    {
     "name": "stderr",
     "output_type": "stream",
     "text": [
      "[I 2025-06-24 00:05:14,970] A new study created in memory with name: no-name-38d47af1-9a3b-4769-b676-441c30a9e298\n",
      "[I 2025-06-24 00:05:22,164] Trial 0 finished with value: 0.21771457326548366 and parameters: {'max_bin': 102, 'num_leaves': 96, 'min_data_in_leaf': 37, 'min_sum_hessian_in_leaf': 5.9865848459837805, 'bagging_fraction': 0.3248149123539492, 'bagging_freq': 16, 'feature_fraction': 0.15227525095137953, 'lambda_l1': 0.6245760287469893, 'lambda_l2': 0.002570603566117598, 'min_gain_to_split': 7.080725777960454, 'max_depth': 4, 'learning_rate': 0.7579479953348001, 'path_smooth': 8.324426408004218}. Best is trial 0 with value: 0.21771457326548366.\n",
      "[I 2025-06-24 00:05:48,247] Trial 1 finished with value: 0.21218641323388593 and parameters: {'max_bin': 62, 'num_leaves': 20, 'min_data_in_leaf': 10, 'min_sum_hessian_in_leaf': 3.0424224365529544, 'bagging_fraction': 0.6198051453057902, 'bagging_freq': 44, 'feature_fraction': 0.36210622617823773, 'lambda_l1': 0.0032112643094417484, 'lambda_l2': 1.8007140198129195e-07, 'min_gain_to_split': 2.9214464853521815, 'max_depth': 38, 'learning_rate': 0.006672367170464205, 'path_smooth': 7.851759613930136}. Best is trial 1 with value: 0.21218641323388593.\n",
      "[I 2025-06-24 00:06:10,390] Trial 2 finished with value: 0.2427092350493628 and parameters: {'max_bin': 59, 'num_leaves': 52, 'min_data_in_leaf': 30, 'min_sum_hessian_in_leaf': 0.4645041367354731, 'bagging_fraction': 0.6860358815211507, 'bagging_freq': 18, 'feature_fraction': 0.1585464336867516, 'lambda_l1': 3.4671276804481113, 'lambda_l2': 4.905556676028774, 'min_gain_to_split': 8.08397348116461, 'max_depth': 32, 'learning_rate': 0.00024586032763280086, 'path_smooth': 6.842330265121569}. Best is trial 1 with value: 0.21218641323388593.\n"
     ]
    },
    {
     "name": "stdout",
     "output_type": "stream",
     "text": [
      "Best params :  {'max_bin': 62, 'num_leaves': 20, 'min_data_in_leaf': 10, 'min_sum_hessian_in_leaf': 3.0424224365529544, 'bagging_fraction': 0.6198051453057902, 'bagging_freq': 44, 'feature_fraction': 0.36210622617823773, 'lambda_l1': 0.0032112643094417484, 'lambda_l2': 1.8007140198129195e-07, 'min_gain_to_split': 2.9214464853521815, 'max_depth': 38, 'learning_rate': 0.006672367170464205, 'path_smooth': 7.851759613930136}\n"
     ]
    },
    {
     "data": {
      "application/vnd.plotly.v1+json": {
       "config": {
        "plotlyServerURL": "https://plot.ly"
       },
       "data": [
        {
         "cliponaxis": false,
         "hovertemplate": [
          "max_bin (IntDistribution): 0.036715958099141494<extra></extra>",
          "learning_rate (FloatDistribution): 0.036715958099141514<extra></extra>",
          "min_sum_hessian_in_leaf (FloatDistribution): 0.05507393714871216<extra></extra>",
          "num_leaves (IntDistribution): 0.05509596785570201<extra></extra>",
          "max_depth (IntDistribution): 0.06425292667349762<extra></extra>",
          "path_smooth (FloatDistribution): 0.06439783540463351<extra></extra>",
          "min_data_in_leaf (IntDistribution): 0.07343191619828299<extra></extra>",
          "feature_fraction (FloatDistribution): 0.07350657546236436<extra></extra>",
          "bagging_freq (IntDistribution): 0.08270010389025878<extra></extra>",
          "lambda_l2 (FloatDistribution): 0.0916454206512722<extra></extra>",
          "min_gain_to_split (FloatDistribution): 0.10108499154223691<extra></extra>",
          "lambda_l1 (FloatDistribution): 0.11924106038378048<extra></extra>",
          "bagging_fraction (FloatDistribution): 0.14613734859097613<extra></extra>"
         ],
         "name": "Objective Value",
         "orientation": "h",
         "text": [
          "0.04",
          "0.04",
          "0.06",
          "0.06",
          "0.06",
          "0.06",
          "0.07",
          "0.07",
          "0.08",
          "0.09",
          "0.10",
          "0.12",
          "0.15"
         ],
         "textposition": "outside",
         "type": "bar",
         "x": [
          0.036715958099141494,
          0.036715958099141514,
          0.05507393714871216,
          0.05509596785570201,
          0.06425292667349762,
          0.06439783540463351,
          0.07343191619828299,
          0.07350657546236436,
          0.08270010389025878,
          0.0916454206512722,
          0.10108499154223691,
          0.11924106038378048,
          0.14613734859097613
         ],
         "y": [
          "max_bin",
          "learning_rate",
          "min_sum_hessian_in_leaf",
          "num_leaves",
          "max_depth",
          "path_smooth",
          "min_data_in_leaf",
          "feature_fraction",
          "bagging_freq",
          "lambda_l2",
          "min_gain_to_split",
          "lambda_l1",
          "bagging_fraction"
         ]
        }
       ],
       "layout": {
        "template": {
         "data": {
          "bar": [
           {
            "error_x": {
             "color": "#2a3f5f"
            },
            "error_y": {
             "color": "#2a3f5f"
            },
            "marker": {
             "line": {
              "color": "#E5ECF6",
              "width": 0.5
             },
             "pattern": {
              "fillmode": "overlay",
              "size": 10,
              "solidity": 0.2
             }
            },
            "type": "bar"
           }
          ],
          "barpolar": [
           {
            "marker": {
             "line": {
              "color": "#E5ECF6",
              "width": 0.5
             },
             "pattern": {
              "fillmode": "overlay",
              "size": 10,
              "solidity": 0.2
             }
            },
            "type": "barpolar"
           }
          ],
          "carpet": [
           {
            "aaxis": {
             "endlinecolor": "#2a3f5f",
             "gridcolor": "white",
             "linecolor": "white",
             "minorgridcolor": "white",
             "startlinecolor": "#2a3f5f"
            },
            "baxis": {
             "endlinecolor": "#2a3f5f",
             "gridcolor": "white",
             "linecolor": "white",
             "minorgridcolor": "white",
             "startlinecolor": "#2a3f5f"
            },
            "type": "carpet"
           }
          ],
          "choropleth": [
           {
            "colorbar": {
             "outlinewidth": 0,
             "ticks": ""
            },
            "type": "choropleth"
           }
          ],
          "contour": [
           {
            "colorbar": {
             "outlinewidth": 0,
             "ticks": ""
            },
            "colorscale": [
             [
              0,
              "#0d0887"
             ],
             [
              0.1111111111111111,
              "#46039f"
             ],
             [
              0.2222222222222222,
              "#7201a8"
             ],
             [
              0.3333333333333333,
              "#9c179e"
             ],
             [
              0.4444444444444444,
              "#bd3786"
             ],
             [
              0.5555555555555556,
              "#d8576b"
             ],
             [
              0.6666666666666666,
              "#ed7953"
             ],
             [
              0.7777777777777778,
              "#fb9f3a"
             ],
             [
              0.8888888888888888,
              "#fdca26"
             ],
             [
              1,
              "#f0f921"
             ]
            ],
            "type": "contour"
           }
          ],
          "contourcarpet": [
           {
            "colorbar": {
             "outlinewidth": 0,
             "ticks": ""
            },
            "type": "contourcarpet"
           }
          ],
          "heatmap": [
           {
            "colorbar": {
             "outlinewidth": 0,
             "ticks": ""
            },
            "colorscale": [
             [
              0,
              "#0d0887"
             ],
             [
              0.1111111111111111,
              "#46039f"
             ],
             [
              0.2222222222222222,
              "#7201a8"
             ],
             [
              0.3333333333333333,
              "#9c179e"
             ],
             [
              0.4444444444444444,
              "#bd3786"
             ],
             [
              0.5555555555555556,
              "#d8576b"
             ],
             [
              0.6666666666666666,
              "#ed7953"
             ],
             [
              0.7777777777777778,
              "#fb9f3a"
             ],
             [
              0.8888888888888888,
              "#fdca26"
             ],
             [
              1,
              "#f0f921"
             ]
            ],
            "type": "heatmap"
           }
          ],
          "histogram": [
           {
            "marker": {
             "pattern": {
              "fillmode": "overlay",
              "size": 10,
              "solidity": 0.2
             }
            },
            "type": "histogram"
           }
          ],
          "histogram2d": [
           {
            "colorbar": {
             "outlinewidth": 0,
             "ticks": ""
            },
            "colorscale": [
             [
              0,
              "#0d0887"
             ],
             [
              0.1111111111111111,
              "#46039f"
             ],
             [
              0.2222222222222222,
              "#7201a8"
             ],
             [
              0.3333333333333333,
              "#9c179e"
             ],
             [
              0.4444444444444444,
              "#bd3786"
             ],
             [
              0.5555555555555556,
              "#d8576b"
             ],
             [
              0.6666666666666666,
              "#ed7953"
             ],
             [
              0.7777777777777778,
              "#fb9f3a"
             ],
             [
              0.8888888888888888,
              "#fdca26"
             ],
             [
              1,
              "#f0f921"
             ]
            ],
            "type": "histogram2d"
           }
          ],
          "histogram2dcontour": [
           {
            "colorbar": {
             "outlinewidth": 0,
             "ticks": ""
            },
            "colorscale": [
             [
              0,
              "#0d0887"
             ],
             [
              0.1111111111111111,
              "#46039f"
             ],
             [
              0.2222222222222222,
              "#7201a8"
             ],
             [
              0.3333333333333333,
              "#9c179e"
             ],
             [
              0.4444444444444444,
              "#bd3786"
             ],
             [
              0.5555555555555556,
              "#d8576b"
             ],
             [
              0.6666666666666666,
              "#ed7953"
             ],
             [
              0.7777777777777778,
              "#fb9f3a"
             ],
             [
              0.8888888888888888,
              "#fdca26"
             ],
             [
              1,
              "#f0f921"
             ]
            ],
            "type": "histogram2dcontour"
           }
          ],
          "mesh3d": [
           {
            "colorbar": {
             "outlinewidth": 0,
             "ticks": ""
            },
            "type": "mesh3d"
           }
          ],
          "parcoords": [
           {
            "line": {
             "colorbar": {
              "outlinewidth": 0,
              "ticks": ""
             }
            },
            "type": "parcoords"
           }
          ],
          "pie": [
           {
            "automargin": true,
            "type": "pie"
           }
          ],
          "scatter": [
           {
            "fillpattern": {
             "fillmode": "overlay",
             "size": 10,
             "solidity": 0.2
            },
            "type": "scatter"
           }
          ],
          "scatter3d": [
           {
            "line": {
             "colorbar": {
              "outlinewidth": 0,
              "ticks": ""
             }
            },
            "marker": {
             "colorbar": {
              "outlinewidth": 0,
              "ticks": ""
             }
            },
            "type": "scatter3d"
           }
          ],
          "scattercarpet": [
           {
            "marker": {
             "colorbar": {
              "outlinewidth": 0,
              "ticks": ""
             }
            },
            "type": "scattercarpet"
           }
          ],
          "scattergeo": [
           {
            "marker": {
             "colorbar": {
              "outlinewidth": 0,
              "ticks": ""
             }
            },
            "type": "scattergeo"
           }
          ],
          "scattergl": [
           {
            "marker": {
             "colorbar": {
              "outlinewidth": 0,
              "ticks": ""
             }
            },
            "type": "scattergl"
           }
          ],
          "scattermap": [
           {
            "marker": {
             "colorbar": {
              "outlinewidth": 0,
              "ticks": ""
             }
            },
            "type": "scattermap"
           }
          ],
          "scattermapbox": [
           {
            "marker": {
             "colorbar": {
              "outlinewidth": 0,
              "ticks": ""
             }
            },
            "type": "scattermapbox"
           }
          ],
          "scatterpolar": [
           {
            "marker": {
             "colorbar": {
              "outlinewidth": 0,
              "ticks": ""
             }
            },
            "type": "scatterpolar"
           }
          ],
          "scatterpolargl": [
           {
            "marker": {
             "colorbar": {
              "outlinewidth": 0,
              "ticks": ""
             }
            },
            "type": "scatterpolargl"
           }
          ],
          "scatterternary": [
           {
            "marker": {
             "colorbar": {
              "outlinewidth": 0,
              "ticks": ""
             }
            },
            "type": "scatterternary"
           }
          ],
          "surface": [
           {
            "colorbar": {
             "outlinewidth": 0,
             "ticks": ""
            },
            "colorscale": [
             [
              0,
              "#0d0887"
             ],
             [
              0.1111111111111111,
              "#46039f"
             ],
             [
              0.2222222222222222,
              "#7201a8"
             ],
             [
              0.3333333333333333,
              "#9c179e"
             ],
             [
              0.4444444444444444,
              "#bd3786"
             ],
             [
              0.5555555555555556,
              "#d8576b"
             ],
             [
              0.6666666666666666,
              "#ed7953"
             ],
             [
              0.7777777777777778,
              "#fb9f3a"
             ],
             [
              0.8888888888888888,
              "#fdca26"
             ],
             [
              1,
              "#f0f921"
             ]
            ],
            "type": "surface"
           }
          ],
          "table": [
           {
            "cells": {
             "fill": {
              "color": "#EBF0F8"
             },
             "line": {
              "color": "white"
             }
            },
            "header": {
             "fill": {
              "color": "#C8D4E3"
             },
             "line": {
              "color": "white"
             }
            },
            "type": "table"
           }
          ]
         },
         "layout": {
          "annotationdefaults": {
           "arrowcolor": "#2a3f5f",
           "arrowhead": 0,
           "arrowwidth": 1
          },
          "autotypenumbers": "strict",
          "coloraxis": {
           "colorbar": {
            "outlinewidth": 0,
            "ticks": ""
           }
          },
          "colorscale": {
           "diverging": [
            [
             0,
             "#8e0152"
            ],
            [
             0.1,
             "#c51b7d"
            ],
            [
             0.2,
             "#de77ae"
            ],
            [
             0.3,
             "#f1b6da"
            ],
            [
             0.4,
             "#fde0ef"
            ],
            [
             0.5,
             "#f7f7f7"
            ],
            [
             0.6,
             "#e6f5d0"
            ],
            [
             0.7,
             "#b8e186"
            ],
            [
             0.8,
             "#7fbc41"
            ],
            [
             0.9,
             "#4d9221"
            ],
            [
             1,
             "#276419"
            ]
           ],
           "sequential": [
            [
             0,
             "#0d0887"
            ],
            [
             0.1111111111111111,
             "#46039f"
            ],
            [
             0.2222222222222222,
             "#7201a8"
            ],
            [
             0.3333333333333333,
             "#9c179e"
            ],
            [
             0.4444444444444444,
             "#bd3786"
            ],
            [
             0.5555555555555556,
             "#d8576b"
            ],
            [
             0.6666666666666666,
             "#ed7953"
            ],
            [
             0.7777777777777778,
             "#fb9f3a"
            ],
            [
             0.8888888888888888,
             "#fdca26"
            ],
            [
             1,
             "#f0f921"
            ]
           ],
           "sequentialminus": [
            [
             0,
             "#0d0887"
            ],
            [
             0.1111111111111111,
             "#46039f"
            ],
            [
             0.2222222222222222,
             "#7201a8"
            ],
            [
             0.3333333333333333,
             "#9c179e"
            ],
            [
             0.4444444444444444,
             "#bd3786"
            ],
            [
             0.5555555555555556,
             "#d8576b"
            ],
            [
             0.6666666666666666,
             "#ed7953"
            ],
            [
             0.7777777777777778,
             "#fb9f3a"
            ],
            [
             0.8888888888888888,
             "#fdca26"
            ],
            [
             1,
             "#f0f921"
            ]
           ]
          },
          "colorway": [
           "#636efa",
           "#EF553B",
           "#00cc96",
           "#ab63fa",
           "#FFA15A",
           "#19d3f3",
           "#FF6692",
           "#B6E880",
           "#FF97FF",
           "#FECB52"
          ],
          "font": {
           "color": "#2a3f5f"
          },
          "geo": {
           "bgcolor": "white",
           "lakecolor": "white",
           "landcolor": "#E5ECF6",
           "showlakes": true,
           "showland": true,
           "subunitcolor": "white"
          },
          "hoverlabel": {
           "align": "left"
          },
          "hovermode": "closest",
          "mapbox": {
           "style": "light"
          },
          "paper_bgcolor": "white",
          "plot_bgcolor": "#E5ECF6",
          "polar": {
           "angularaxis": {
            "gridcolor": "white",
            "linecolor": "white",
            "ticks": ""
           },
           "bgcolor": "#E5ECF6",
           "radialaxis": {
            "gridcolor": "white",
            "linecolor": "white",
            "ticks": ""
           }
          },
          "scene": {
           "xaxis": {
            "backgroundcolor": "#E5ECF6",
            "gridcolor": "white",
            "gridwidth": 2,
            "linecolor": "white",
            "showbackground": true,
            "ticks": "",
            "zerolinecolor": "white"
           },
           "yaxis": {
            "backgroundcolor": "#E5ECF6",
            "gridcolor": "white",
            "gridwidth": 2,
            "linecolor": "white",
            "showbackground": true,
            "ticks": "",
            "zerolinecolor": "white"
           },
           "zaxis": {
            "backgroundcolor": "#E5ECF6",
            "gridcolor": "white",
            "gridwidth": 2,
            "linecolor": "white",
            "showbackground": true,
            "ticks": "",
            "zerolinecolor": "white"
           }
          },
          "shapedefaults": {
           "line": {
            "color": "#2a3f5f"
           }
          },
          "ternary": {
           "aaxis": {
            "gridcolor": "white",
            "linecolor": "white",
            "ticks": ""
           },
           "baxis": {
            "gridcolor": "white",
            "linecolor": "white",
            "ticks": ""
           },
           "bgcolor": "#E5ECF6",
           "caxis": {
            "gridcolor": "white",
            "linecolor": "white",
            "ticks": ""
           }
          },
          "title": {
           "x": 0.05
          },
          "xaxis": {
           "automargin": true,
           "gridcolor": "white",
           "linecolor": "white",
           "ticks": "",
           "title": {
            "standoff": 15
           },
           "zerolinecolor": "white",
           "zerolinewidth": 2
          },
          "yaxis": {
           "automargin": true,
           "gridcolor": "white",
           "linecolor": "white",
           "ticks": "",
           "title": {
            "standoff": 15
           },
           "zerolinecolor": "white",
           "zerolinewidth": 2
          }
         }
        },
        "title": {
         "text": "Hyperparameter Importances"
        },
        "xaxis": {
         "title": {
          "text": "Hyperparameter Importance"
         }
        },
        "yaxis": {
         "title": {
          "text": "Hyperparameter"
         }
        }
       }
      }
     },
     "metadata": {},
     "output_type": "display_data"
    },
    {
     "data": {
      "application/vnd.plotly.v1+json": {
       "config": {
        "plotlyServerURL": "https://plot.ly"
       },
       "data": [
        {
         "marker": {
          "color": [
           0,
           1,
           2
          ],
          "colorbar": {
           "title": {
            "text": "Trial"
           },
           "x": 1,
           "xpad": 40
          },
          "colorscale": [
           [
            0,
            "rgb(247,251,255)"
           ],
           [
            0.125,
            "rgb(222,235,247)"
           ],
           [
            0.25,
            "rgb(198,219,239)"
           ],
           [
            0.375,
            "rgb(158,202,225)"
           ],
           [
            0.5,
            "rgb(107,174,214)"
           ],
           [
            0.625,
            "rgb(66,146,198)"
           ],
           [
            0.75,
            "rgb(33,113,181)"
           ],
           [
            0.875,
            "rgb(8,81,156)"
           ],
           [
            1,
            "rgb(8,48,107)"
           ]
          ],
          "line": {
           "color": "Grey",
           "width": 0.5
          },
          "showscale": true
         },
         "mode": "markers",
         "name": "Feasible Trial",
         "showlegend": false,
         "type": "scatter",
         "x": [
          0.3248149123539492,
          0.6198051453057902,
          0.6860358815211507
         ],
         "xaxis": "x",
         "y": [
          0.21771457326548366,
          0.21218641323388593,
          0.2427092350493628
         ],
         "yaxis": "y"
        },
        {
         "marker": {
          "color": [
           0,
           1,
           2
          ],
          "colorbar": {
           "title": {
            "text": "Trial"
           },
           "x": 1,
           "xpad": 40
          },
          "colorscale": [
           [
            0,
            "rgb(247,251,255)"
           ],
           [
            0.125,
            "rgb(222,235,247)"
           ],
           [
            0.25,
            "rgb(198,219,239)"
           ],
           [
            0.375,
            "rgb(158,202,225)"
           ],
           [
            0.5,
            "rgb(107,174,214)"
           ],
           [
            0.625,
            "rgb(66,146,198)"
           ],
           [
            0.75,
            "rgb(33,113,181)"
           ],
           [
            0.875,
            "rgb(8,81,156)"
           ],
           [
            1,
            "rgb(8,48,107)"
           ]
          ],
          "line": {
           "color": "Grey",
           "width": 0.5
          },
          "showscale": false
         },
         "mode": "markers",
         "name": "Feasible Trial",
         "showlegend": false,
         "type": "scatter",
         "x": [
          16,
          44,
          18
         ],
         "xaxis": "x2",
         "y": [
          0.21771457326548366,
          0.21218641323388593,
          0.2427092350493628
         ],
         "yaxis": "y2"
        },
        {
         "marker": {
          "color": [
           0,
           1,
           2
          ],
          "colorbar": {
           "title": {
            "text": "Trial"
           },
           "x": 1,
           "xpad": 40
          },
          "colorscale": [
           [
            0,
            "rgb(247,251,255)"
           ],
           [
            0.125,
            "rgb(222,235,247)"
           ],
           [
            0.25,
            "rgb(198,219,239)"
           ],
           [
            0.375,
            "rgb(158,202,225)"
           ],
           [
            0.5,
            "rgb(107,174,214)"
           ],
           [
            0.625,
            "rgb(66,146,198)"
           ],
           [
            0.75,
            "rgb(33,113,181)"
           ],
           [
            0.875,
            "rgb(8,81,156)"
           ],
           [
            1,
            "rgb(8,48,107)"
           ]
          ],
          "line": {
           "color": "Grey",
           "width": 0.5
          },
          "showscale": false
         },
         "mode": "markers",
         "name": "Feasible Trial",
         "showlegend": false,
         "type": "scatter",
         "x": [
          0.15227525095137953,
          0.36210622617823773,
          0.1585464336867516
         ],
         "xaxis": "x3",
         "y": [
          0.21771457326548366,
          0.21218641323388593,
          0.2427092350493628
         ],
         "yaxis": "y3"
        },
        {
         "marker": {
          "color": [
           0,
           1,
           2
          ],
          "colorbar": {
           "title": {
            "text": "Trial"
           },
           "x": 1,
           "xpad": 40
          },
          "colorscale": [
           [
            0,
            "rgb(247,251,255)"
           ],
           [
            0.125,
            "rgb(222,235,247)"
           ],
           [
            0.25,
            "rgb(198,219,239)"
           ],
           [
            0.375,
            "rgb(158,202,225)"
           ],
           [
            0.5,
            "rgb(107,174,214)"
           ],
           [
            0.625,
            "rgb(66,146,198)"
           ],
           [
            0.75,
            "rgb(33,113,181)"
           ],
           [
            0.875,
            "rgb(8,81,156)"
           ],
           [
            1,
            "rgb(8,48,107)"
           ]
          ],
          "line": {
           "color": "Grey",
           "width": 0.5
          },
          "showscale": false
         },
         "mode": "markers",
         "name": "Feasible Trial",
         "showlegend": false,
         "type": "scatter",
         "x": [
          0.6245760287469893,
          0.0032112643094417484,
          3.4671276804481113
         ],
         "xaxis": "x4",
         "y": [
          0.21771457326548366,
          0.21218641323388593,
          0.2427092350493628
         ],
         "yaxis": "y4"
        },
        {
         "marker": {
          "color": [
           0,
           1,
           2
          ],
          "colorbar": {
           "title": {
            "text": "Trial"
           },
           "x": 1,
           "xpad": 40
          },
          "colorscale": [
           [
            0,
            "rgb(247,251,255)"
           ],
           [
            0.125,
            "rgb(222,235,247)"
           ],
           [
            0.25,
            "rgb(198,219,239)"
           ],
           [
            0.375,
            "rgb(158,202,225)"
           ],
           [
            0.5,
            "rgb(107,174,214)"
           ],
           [
            0.625,
            "rgb(66,146,198)"
           ],
           [
            0.75,
            "rgb(33,113,181)"
           ],
           [
            0.875,
            "rgb(8,81,156)"
           ],
           [
            1,
            "rgb(8,48,107)"
           ]
          ],
          "line": {
           "color": "Grey",
           "width": 0.5
          },
          "showscale": false
         },
         "mode": "markers",
         "name": "Feasible Trial",
         "showlegend": false,
         "type": "scatter",
         "x": [
          0.002570603566117598,
          1.8007140198129195e-7,
          4.905556676028774
         ],
         "xaxis": "x5",
         "y": [
          0.21771457326548366,
          0.21218641323388593,
          0.2427092350493628
         ],
         "yaxis": "y5"
        },
        {
         "marker": {
          "color": [
           0,
           1,
           2
          ],
          "colorbar": {
           "title": {
            "text": "Trial"
           },
           "x": 1,
           "xpad": 40
          },
          "colorscale": [
           [
            0,
            "rgb(247,251,255)"
           ],
           [
            0.125,
            "rgb(222,235,247)"
           ],
           [
            0.25,
            "rgb(198,219,239)"
           ],
           [
            0.375,
            "rgb(158,202,225)"
           ],
           [
            0.5,
            "rgb(107,174,214)"
           ],
           [
            0.625,
            "rgb(66,146,198)"
           ],
           [
            0.75,
            "rgb(33,113,181)"
           ],
           [
            0.875,
            "rgb(8,81,156)"
           ],
           [
            1,
            "rgb(8,48,107)"
           ]
          ],
          "line": {
           "color": "Grey",
           "width": 0.5
          },
          "showscale": false
         },
         "mode": "markers",
         "name": "Feasible Trial",
         "showlegend": false,
         "type": "scatter",
         "x": [
          0.7579479953348001,
          0.006672367170464205,
          0.00024586032763280086
         ],
         "xaxis": "x6",
         "y": [
          0.21771457326548366,
          0.21218641323388593,
          0.2427092350493628
         ],
         "yaxis": "y6"
        },
        {
         "marker": {
          "color": [
           0,
           1,
           2
          ],
          "colorbar": {
           "title": {
            "text": "Trial"
           },
           "x": 1,
           "xpad": 40
          },
          "colorscale": [
           [
            0,
            "rgb(247,251,255)"
           ],
           [
            0.125,
            "rgb(222,235,247)"
           ],
           [
            0.25,
            "rgb(198,219,239)"
           ],
           [
            0.375,
            "rgb(158,202,225)"
           ],
           [
            0.5,
            "rgb(107,174,214)"
           ],
           [
            0.625,
            "rgb(66,146,198)"
           ],
           [
            0.75,
            "rgb(33,113,181)"
           ],
           [
            0.875,
            "rgb(8,81,156)"
           ],
           [
            1,
            "rgb(8,48,107)"
           ]
          ],
          "line": {
           "color": "Grey",
           "width": 0.5
          },
          "showscale": false
         },
         "mode": "markers",
         "name": "Feasible Trial",
         "showlegend": false,
         "type": "scatter",
         "x": [
          102,
          62,
          59
         ],
         "xaxis": "x7",
         "y": [
          0.21771457326548366,
          0.21218641323388593,
          0.2427092350493628
         ],
         "yaxis": "y7"
        },
        {
         "marker": {
          "color": [
           0,
           1,
           2
          ],
          "colorbar": {
           "title": {
            "text": "Trial"
           },
           "x": 1,
           "xpad": 40
          },
          "colorscale": [
           [
            0,
            "rgb(247,251,255)"
           ],
           [
            0.125,
            "rgb(222,235,247)"
           ],
           [
            0.25,
            "rgb(198,219,239)"
           ],
           [
            0.375,
            "rgb(158,202,225)"
           ],
           [
            0.5,
            "rgb(107,174,214)"
           ],
           [
            0.625,
            "rgb(66,146,198)"
           ],
           [
            0.75,
            "rgb(33,113,181)"
           ],
           [
            0.875,
            "rgb(8,81,156)"
           ],
           [
            1,
            "rgb(8,48,107)"
           ]
          ],
          "line": {
           "color": "Grey",
           "width": 0.5
          },
          "showscale": false
         },
         "mode": "markers",
         "name": "Feasible Trial",
         "showlegend": false,
         "type": "scatter",
         "x": [
          4,
          38,
          32
         ],
         "xaxis": "x8",
         "y": [
          0.21771457326548366,
          0.21218641323388593,
          0.2427092350493628
         ],
         "yaxis": "y8"
        },
        {
         "marker": {
          "color": [
           0,
           1,
           2
          ],
          "colorbar": {
           "title": {
            "text": "Trial"
           },
           "x": 1,
           "xpad": 40
          },
          "colorscale": [
           [
            0,
            "rgb(247,251,255)"
           ],
           [
            0.125,
            "rgb(222,235,247)"
           ],
           [
            0.25,
            "rgb(198,219,239)"
           ],
           [
            0.375,
            "rgb(158,202,225)"
           ],
           [
            0.5,
            "rgb(107,174,214)"
           ],
           [
            0.625,
            "rgb(66,146,198)"
           ],
           [
            0.75,
            "rgb(33,113,181)"
           ],
           [
            0.875,
            "rgb(8,81,156)"
           ],
           [
            1,
            "rgb(8,48,107)"
           ]
          ],
          "line": {
           "color": "Grey",
           "width": 0.5
          },
          "showscale": false
         },
         "mode": "markers",
         "name": "Feasible Trial",
         "showlegend": false,
         "type": "scatter",
         "x": [
          37,
          10,
          30
         ],
         "xaxis": "x9",
         "y": [
          0.21771457326548366,
          0.21218641323388593,
          0.2427092350493628
         ],
         "yaxis": "y9"
        },
        {
         "marker": {
          "color": [
           0,
           1,
           2
          ],
          "colorbar": {
           "title": {
            "text": "Trial"
           },
           "x": 1,
           "xpad": 40
          },
          "colorscale": [
           [
            0,
            "rgb(247,251,255)"
           ],
           [
            0.125,
            "rgb(222,235,247)"
           ],
           [
            0.25,
            "rgb(198,219,239)"
           ],
           [
            0.375,
            "rgb(158,202,225)"
           ],
           [
            0.5,
            "rgb(107,174,214)"
           ],
           [
            0.625,
            "rgb(66,146,198)"
           ],
           [
            0.75,
            "rgb(33,113,181)"
           ],
           [
            0.875,
            "rgb(8,81,156)"
           ],
           [
            1,
            "rgb(8,48,107)"
           ]
          ],
          "line": {
           "color": "Grey",
           "width": 0.5
          },
          "showscale": false
         },
         "mode": "markers",
         "name": "Feasible Trial",
         "showlegend": false,
         "type": "scatter",
         "x": [
          7.080725777960454,
          2.9214464853521815,
          8.08397348116461
         ],
         "xaxis": "x10",
         "y": [
          0.21771457326548366,
          0.21218641323388593,
          0.2427092350493628
         ],
         "yaxis": "y10"
        },
        {
         "marker": {
          "color": [
           0,
           1,
           2
          ],
          "colorbar": {
           "title": {
            "text": "Trial"
           },
           "x": 1,
           "xpad": 40
          },
          "colorscale": [
           [
            0,
            "rgb(247,251,255)"
           ],
           [
            0.125,
            "rgb(222,235,247)"
           ],
           [
            0.25,
            "rgb(198,219,239)"
           ],
           [
            0.375,
            "rgb(158,202,225)"
           ],
           [
            0.5,
            "rgb(107,174,214)"
           ],
           [
            0.625,
            "rgb(66,146,198)"
           ],
           [
            0.75,
            "rgb(33,113,181)"
           ],
           [
            0.875,
            "rgb(8,81,156)"
           ],
           [
            1,
            "rgb(8,48,107)"
           ]
          ],
          "line": {
           "color": "Grey",
           "width": 0.5
          },
          "showscale": false
         },
         "mode": "markers",
         "name": "Feasible Trial",
         "showlegend": false,
         "type": "scatter",
         "x": [
          5.9865848459837805,
          3.0424224365529544,
          0.4645041367354731
         ],
         "xaxis": "x11",
         "y": [
          0.21771457326548366,
          0.21218641323388593,
          0.2427092350493628
         ],
         "yaxis": "y11"
        },
        {
         "marker": {
          "color": [
           0,
           1,
           2
          ],
          "colorbar": {
           "title": {
            "text": "Trial"
           },
           "x": 1,
           "xpad": 40
          },
          "colorscale": [
           [
            0,
            "rgb(247,251,255)"
           ],
           [
            0.125,
            "rgb(222,235,247)"
           ],
           [
            0.25,
            "rgb(198,219,239)"
           ],
           [
            0.375,
            "rgb(158,202,225)"
           ],
           [
            0.5,
            "rgb(107,174,214)"
           ],
           [
            0.625,
            "rgb(66,146,198)"
           ],
           [
            0.75,
            "rgb(33,113,181)"
           ],
           [
            0.875,
            "rgb(8,81,156)"
           ],
           [
            1,
            "rgb(8,48,107)"
           ]
          ],
          "line": {
           "color": "Grey",
           "width": 0.5
          },
          "showscale": false
         },
         "mode": "markers",
         "name": "Feasible Trial",
         "showlegend": false,
         "type": "scatter",
         "x": [
          96,
          20,
          52
         ],
         "xaxis": "x12",
         "y": [
          0.21771457326548366,
          0.21218641323388593,
          0.2427092350493628
         ],
         "yaxis": "y12"
        },
        {
         "marker": {
          "color": [
           0,
           1,
           2
          ],
          "colorbar": {
           "title": {
            "text": "Trial"
           },
           "x": 1,
           "xpad": 40
          },
          "colorscale": [
           [
            0,
            "rgb(247,251,255)"
           ],
           [
            0.125,
            "rgb(222,235,247)"
           ],
           [
            0.25,
            "rgb(198,219,239)"
           ],
           [
            0.375,
            "rgb(158,202,225)"
           ],
           [
            0.5,
            "rgb(107,174,214)"
           ],
           [
            0.625,
            "rgb(66,146,198)"
           ],
           [
            0.75,
            "rgb(33,113,181)"
           ],
           [
            0.875,
            "rgb(8,81,156)"
           ],
           [
            1,
            "rgb(8,48,107)"
           ]
          ],
          "line": {
           "color": "Grey",
           "width": 0.5
          },
          "showscale": false
         },
         "mode": "markers",
         "name": "Feasible Trial",
         "showlegend": false,
         "type": "scatter",
         "x": [
          8.324426408004218,
          7.851759613930136,
          6.842330265121569
         ],
         "xaxis": "x13",
         "y": [
          0.21771457326548366,
          0.21218641323388593,
          0.2427092350493628
         ],
         "yaxis": "y13"
        }
       ],
       "layout": {
        "template": {
         "data": {
          "bar": [
           {
            "error_x": {
             "color": "#2a3f5f"
            },
            "error_y": {
             "color": "#2a3f5f"
            },
            "marker": {
             "line": {
              "color": "#E5ECF6",
              "width": 0.5
             },
             "pattern": {
              "fillmode": "overlay",
              "size": 10,
              "solidity": 0.2
             }
            },
            "type": "bar"
           }
          ],
          "barpolar": [
           {
            "marker": {
             "line": {
              "color": "#E5ECF6",
              "width": 0.5
             },
             "pattern": {
              "fillmode": "overlay",
              "size": 10,
              "solidity": 0.2
             }
            },
            "type": "barpolar"
           }
          ],
          "carpet": [
           {
            "aaxis": {
             "endlinecolor": "#2a3f5f",
             "gridcolor": "white",
             "linecolor": "white",
             "minorgridcolor": "white",
             "startlinecolor": "#2a3f5f"
            },
            "baxis": {
             "endlinecolor": "#2a3f5f",
             "gridcolor": "white",
             "linecolor": "white",
             "minorgridcolor": "white",
             "startlinecolor": "#2a3f5f"
            },
            "type": "carpet"
           }
          ],
          "choropleth": [
           {
            "colorbar": {
             "outlinewidth": 0,
             "ticks": ""
            },
            "type": "choropleth"
           }
          ],
          "contour": [
           {
            "colorbar": {
             "outlinewidth": 0,
             "ticks": ""
            },
            "colorscale": [
             [
              0,
              "#0d0887"
             ],
             [
              0.1111111111111111,
              "#46039f"
             ],
             [
              0.2222222222222222,
              "#7201a8"
             ],
             [
              0.3333333333333333,
              "#9c179e"
             ],
             [
              0.4444444444444444,
              "#bd3786"
             ],
             [
              0.5555555555555556,
              "#d8576b"
             ],
             [
              0.6666666666666666,
              "#ed7953"
             ],
             [
              0.7777777777777778,
              "#fb9f3a"
             ],
             [
              0.8888888888888888,
              "#fdca26"
             ],
             [
              1,
              "#f0f921"
             ]
            ],
            "type": "contour"
           }
          ],
          "contourcarpet": [
           {
            "colorbar": {
             "outlinewidth": 0,
             "ticks": ""
            },
            "type": "contourcarpet"
           }
          ],
          "heatmap": [
           {
            "colorbar": {
             "outlinewidth": 0,
             "ticks": ""
            },
            "colorscale": [
             [
              0,
              "#0d0887"
             ],
             [
              0.1111111111111111,
              "#46039f"
             ],
             [
              0.2222222222222222,
              "#7201a8"
             ],
             [
              0.3333333333333333,
              "#9c179e"
             ],
             [
              0.4444444444444444,
              "#bd3786"
             ],
             [
              0.5555555555555556,
              "#d8576b"
             ],
             [
              0.6666666666666666,
              "#ed7953"
             ],
             [
              0.7777777777777778,
              "#fb9f3a"
             ],
             [
              0.8888888888888888,
              "#fdca26"
             ],
             [
              1,
              "#f0f921"
             ]
            ],
            "type": "heatmap"
           }
          ],
          "histogram": [
           {
            "marker": {
             "pattern": {
              "fillmode": "overlay",
              "size": 10,
              "solidity": 0.2
             }
            },
            "type": "histogram"
           }
          ],
          "histogram2d": [
           {
            "colorbar": {
             "outlinewidth": 0,
             "ticks": ""
            },
            "colorscale": [
             [
              0,
              "#0d0887"
             ],
             [
              0.1111111111111111,
              "#46039f"
             ],
             [
              0.2222222222222222,
              "#7201a8"
             ],
             [
              0.3333333333333333,
              "#9c179e"
             ],
             [
              0.4444444444444444,
              "#bd3786"
             ],
             [
              0.5555555555555556,
              "#d8576b"
             ],
             [
              0.6666666666666666,
              "#ed7953"
             ],
             [
              0.7777777777777778,
              "#fb9f3a"
             ],
             [
              0.8888888888888888,
              "#fdca26"
             ],
             [
              1,
              "#f0f921"
             ]
            ],
            "type": "histogram2d"
           }
          ],
          "histogram2dcontour": [
           {
            "colorbar": {
             "outlinewidth": 0,
             "ticks": ""
            },
            "colorscale": [
             [
              0,
              "#0d0887"
             ],
             [
              0.1111111111111111,
              "#46039f"
             ],
             [
              0.2222222222222222,
              "#7201a8"
             ],
             [
              0.3333333333333333,
              "#9c179e"
             ],
             [
              0.4444444444444444,
              "#bd3786"
             ],
             [
              0.5555555555555556,
              "#d8576b"
             ],
             [
              0.6666666666666666,
              "#ed7953"
             ],
             [
              0.7777777777777778,
              "#fb9f3a"
             ],
             [
              0.8888888888888888,
              "#fdca26"
             ],
             [
              1,
              "#f0f921"
             ]
            ],
            "type": "histogram2dcontour"
           }
          ],
          "mesh3d": [
           {
            "colorbar": {
             "outlinewidth": 0,
             "ticks": ""
            },
            "type": "mesh3d"
           }
          ],
          "parcoords": [
           {
            "line": {
             "colorbar": {
              "outlinewidth": 0,
              "ticks": ""
             }
            },
            "type": "parcoords"
           }
          ],
          "pie": [
           {
            "automargin": true,
            "type": "pie"
           }
          ],
          "scatter": [
           {
            "fillpattern": {
             "fillmode": "overlay",
             "size": 10,
             "solidity": 0.2
            },
            "type": "scatter"
           }
          ],
          "scatter3d": [
           {
            "line": {
             "colorbar": {
              "outlinewidth": 0,
              "ticks": ""
             }
            },
            "marker": {
             "colorbar": {
              "outlinewidth": 0,
              "ticks": ""
             }
            },
            "type": "scatter3d"
           }
          ],
          "scattercarpet": [
           {
            "marker": {
             "colorbar": {
              "outlinewidth": 0,
              "ticks": ""
             }
            },
            "type": "scattercarpet"
           }
          ],
          "scattergeo": [
           {
            "marker": {
             "colorbar": {
              "outlinewidth": 0,
              "ticks": ""
             }
            },
            "type": "scattergeo"
           }
          ],
          "scattergl": [
           {
            "marker": {
             "colorbar": {
              "outlinewidth": 0,
              "ticks": ""
             }
            },
            "type": "scattergl"
           }
          ],
          "scattermap": [
           {
            "marker": {
             "colorbar": {
              "outlinewidth": 0,
              "ticks": ""
             }
            },
            "type": "scattermap"
           }
          ],
          "scattermapbox": [
           {
            "marker": {
             "colorbar": {
              "outlinewidth": 0,
              "ticks": ""
             }
            },
            "type": "scattermapbox"
           }
          ],
          "scatterpolar": [
           {
            "marker": {
             "colorbar": {
              "outlinewidth": 0,
              "ticks": ""
             }
            },
            "type": "scatterpolar"
           }
          ],
          "scatterpolargl": [
           {
            "marker": {
             "colorbar": {
              "outlinewidth": 0,
              "ticks": ""
             }
            },
            "type": "scatterpolargl"
           }
          ],
          "scatterternary": [
           {
            "marker": {
             "colorbar": {
              "outlinewidth": 0,
              "ticks": ""
             }
            },
            "type": "scatterternary"
           }
          ],
          "surface": [
           {
            "colorbar": {
             "outlinewidth": 0,
             "ticks": ""
            },
            "colorscale": [
             [
              0,
              "#0d0887"
             ],
             [
              0.1111111111111111,
              "#46039f"
             ],
             [
              0.2222222222222222,
              "#7201a8"
             ],
             [
              0.3333333333333333,
              "#9c179e"
             ],
             [
              0.4444444444444444,
              "#bd3786"
             ],
             [
              0.5555555555555556,
              "#d8576b"
             ],
             [
              0.6666666666666666,
              "#ed7953"
             ],
             [
              0.7777777777777778,
              "#fb9f3a"
             ],
             [
              0.8888888888888888,
              "#fdca26"
             ],
             [
              1,
              "#f0f921"
             ]
            ],
            "type": "surface"
           }
          ],
          "table": [
           {
            "cells": {
             "fill": {
              "color": "#EBF0F8"
             },
             "line": {
              "color": "white"
             }
            },
            "header": {
             "fill": {
              "color": "#C8D4E3"
             },
             "line": {
              "color": "white"
             }
            },
            "type": "table"
           }
          ]
         },
         "layout": {
          "annotationdefaults": {
           "arrowcolor": "#2a3f5f",
           "arrowhead": 0,
           "arrowwidth": 1
          },
          "autotypenumbers": "strict",
          "coloraxis": {
           "colorbar": {
            "outlinewidth": 0,
            "ticks": ""
           }
          },
          "colorscale": {
           "diverging": [
            [
             0,
             "#8e0152"
            ],
            [
             0.1,
             "#c51b7d"
            ],
            [
             0.2,
             "#de77ae"
            ],
            [
             0.3,
             "#f1b6da"
            ],
            [
             0.4,
             "#fde0ef"
            ],
            [
             0.5,
             "#f7f7f7"
            ],
            [
             0.6,
             "#e6f5d0"
            ],
            [
             0.7,
             "#b8e186"
            ],
            [
             0.8,
             "#7fbc41"
            ],
            [
             0.9,
             "#4d9221"
            ],
            [
             1,
             "#276419"
            ]
           ],
           "sequential": [
            [
             0,
             "#0d0887"
            ],
            [
             0.1111111111111111,
             "#46039f"
            ],
            [
             0.2222222222222222,
             "#7201a8"
            ],
            [
             0.3333333333333333,
             "#9c179e"
            ],
            [
             0.4444444444444444,
             "#bd3786"
            ],
            [
             0.5555555555555556,
             "#d8576b"
            ],
            [
             0.6666666666666666,
             "#ed7953"
            ],
            [
             0.7777777777777778,
             "#fb9f3a"
            ],
            [
             0.8888888888888888,
             "#fdca26"
            ],
            [
             1,
             "#f0f921"
            ]
           ],
           "sequentialminus": [
            [
             0,
             "#0d0887"
            ],
            [
             0.1111111111111111,
             "#46039f"
            ],
            [
             0.2222222222222222,
             "#7201a8"
            ],
            [
             0.3333333333333333,
             "#9c179e"
            ],
            [
             0.4444444444444444,
             "#bd3786"
            ],
            [
             0.5555555555555556,
             "#d8576b"
            ],
            [
             0.6666666666666666,
             "#ed7953"
            ],
            [
             0.7777777777777778,
             "#fb9f3a"
            ],
            [
             0.8888888888888888,
             "#fdca26"
            ],
            [
             1,
             "#f0f921"
            ]
           ]
          },
          "colorway": [
           "#636efa",
           "#EF553B",
           "#00cc96",
           "#ab63fa",
           "#FFA15A",
           "#19d3f3",
           "#FF6692",
           "#B6E880",
           "#FF97FF",
           "#FECB52"
          ],
          "font": {
           "color": "#2a3f5f"
          },
          "geo": {
           "bgcolor": "white",
           "lakecolor": "white",
           "landcolor": "#E5ECF6",
           "showlakes": true,
           "showland": true,
           "subunitcolor": "white"
          },
          "hoverlabel": {
           "align": "left"
          },
          "hovermode": "closest",
          "mapbox": {
           "style": "light"
          },
          "paper_bgcolor": "white",
          "plot_bgcolor": "#E5ECF6",
          "polar": {
           "angularaxis": {
            "gridcolor": "white",
            "linecolor": "white",
            "ticks": ""
           },
           "bgcolor": "#E5ECF6",
           "radialaxis": {
            "gridcolor": "white",
            "linecolor": "white",
            "ticks": ""
           }
          },
          "scene": {
           "xaxis": {
            "backgroundcolor": "#E5ECF6",
            "gridcolor": "white",
            "gridwidth": 2,
            "linecolor": "white",
            "showbackground": true,
            "ticks": "",
            "zerolinecolor": "white"
           },
           "yaxis": {
            "backgroundcolor": "#E5ECF6",
            "gridcolor": "white",
            "gridwidth": 2,
            "linecolor": "white",
            "showbackground": true,
            "ticks": "",
            "zerolinecolor": "white"
           },
           "zaxis": {
            "backgroundcolor": "#E5ECF6",
            "gridcolor": "white",
            "gridwidth": 2,
            "linecolor": "white",
            "showbackground": true,
            "ticks": "",
            "zerolinecolor": "white"
           }
          },
          "shapedefaults": {
           "line": {
            "color": "#2a3f5f"
           }
          },
          "ternary": {
           "aaxis": {
            "gridcolor": "white",
            "linecolor": "white",
            "ticks": ""
           },
           "baxis": {
            "gridcolor": "white",
            "linecolor": "white",
            "ticks": ""
           },
           "bgcolor": "#E5ECF6",
           "caxis": {
            "gridcolor": "white",
            "linecolor": "white",
            "ticks": ""
           }
          },
          "title": {
           "x": 0.05
          },
          "xaxis": {
           "automargin": true,
           "gridcolor": "white",
           "linecolor": "white",
           "ticks": "",
           "title": {
            "standoff": 15
           },
           "zerolinecolor": "white",
           "zerolinewidth": 2
          },
          "yaxis": {
           "automargin": true,
           "gridcolor": "white",
           "linecolor": "white",
           "ticks": "",
           "title": {
            "standoff": 15
           },
           "zerolinecolor": "white",
           "zerolinewidth": 2
          }
         }
        },
        "title": {
         "text": "Slice Plot"
        },
        "width": 3900,
        "xaxis": {
         "anchor": "y",
         "domain": [
          0,
          0.06272189349112425
         ],
         "title": {
          "text": "bagging_fraction"
         }
        },
        "xaxis10": {
         "anchor": "y10",
         "domain": [
          0.7029585798816567,
          0.7656804733727809
         ],
         "title": {
          "text": "min_gain_to_split"
         }
        },
        "xaxis11": {
         "anchor": "y11",
         "domain": [
          0.7810650887573963,
          0.8437869822485206
         ],
         "title": {
          "text": "min_sum_hessian_in_leaf"
         }
        },
        "xaxis12": {
         "anchor": "y12",
         "domain": [
          0.859171597633136,
          0.9218934911242602
         ],
         "title": {
          "text": "num_leaves"
         }
        },
        "xaxis13": {
         "anchor": "y13",
         "domain": [
          0.9372781065088757,
          0.9999999999999999
         ],
         "title": {
          "text": "path_smooth"
         }
        },
        "xaxis2": {
         "anchor": "y2",
         "domain": [
          0.07810650887573964,
          0.1408284023668639
         ],
         "title": {
          "text": "bagging_freq"
         }
        },
        "xaxis3": {
         "anchor": "y3",
         "domain": [
          0.15621301775147928,
          0.21893491124260353
         ],
         "title": {
          "text": "feature_fraction"
         }
        },
        "xaxis4": {
         "anchor": "y4",
         "domain": [
          0.23431952662721892,
          0.29704142011834317
         ],
         "title": {
          "text": "lambda_l1"
         },
         "type": "log"
        },
        "xaxis5": {
         "anchor": "y5",
         "domain": [
          0.31242603550295855,
          0.3751479289940828
         ],
         "title": {
          "text": "lambda_l2"
         },
         "type": "log"
        },
        "xaxis6": {
         "anchor": "y6",
         "domain": [
          0.39053254437869817,
          0.45325443786982245
         ],
         "title": {
          "text": "learning_rate"
         },
         "type": "log"
        },
        "xaxis7": {
         "anchor": "y7",
         "domain": [
          0.46863905325443783,
          0.5313609467455621
         ],
         "title": {
          "text": "max_bin"
         }
        },
        "xaxis8": {
         "anchor": "y8",
         "domain": [
          0.5467455621301776,
          0.6094674556213018
         ],
         "title": {
          "text": "max_depth"
         }
        },
        "xaxis9": {
         "anchor": "y9",
         "domain": [
          0.6248520710059171,
          0.6875739644970413
         ],
         "title": {
          "text": "min_data_in_leaf"
         }
        },
        "yaxis": {
         "anchor": "x",
         "domain": [
          0,
          1
         ],
         "title": {
          "text": "Objective Value"
         }
        },
        "yaxis10": {
         "anchor": "x10",
         "domain": [
          0,
          1
         ],
         "matches": "y",
         "showticklabels": false
        },
        "yaxis11": {
         "anchor": "x11",
         "domain": [
          0,
          1
         ],
         "matches": "y",
         "showticklabels": false
        },
        "yaxis12": {
         "anchor": "x12",
         "domain": [
          0,
          1
         ],
         "matches": "y",
         "showticklabels": false
        },
        "yaxis13": {
         "anchor": "x13",
         "domain": [
          0,
          1
         ],
         "matches": "y",
         "showticklabels": false
        },
        "yaxis2": {
         "anchor": "x2",
         "domain": [
          0,
          1
         ],
         "matches": "y",
         "showticklabels": false
        },
        "yaxis3": {
         "anchor": "x3",
         "domain": [
          0,
          1
         ],
         "matches": "y",
         "showticklabels": false
        },
        "yaxis4": {
         "anchor": "x4",
         "domain": [
          0,
          1
         ],
         "matches": "y",
         "showticklabels": false
        },
        "yaxis5": {
         "anchor": "x5",
         "domain": [
          0,
          1
         ],
         "matches": "y",
         "showticklabels": false
        },
        "yaxis6": {
         "anchor": "x6",
         "domain": [
          0,
          1
         ],
         "matches": "y",
         "showticklabels": false
        },
        "yaxis7": {
         "anchor": "x7",
         "domain": [
          0,
          1
         ],
         "matches": "y",
         "showticklabels": false
        },
        "yaxis8": {
         "anchor": "x8",
         "domain": [
          0,
          1
         ],
         "matches": "y",
         "showticklabels": false
        },
        "yaxis9": {
         "anchor": "x9",
         "domain": [
          0,
          1
         ],
         "matches": "y",
         "showticklabels": false
        }
       }
      }
     },
     "metadata": {},
     "output_type": "display_data"
    },
    {
     "data": {
      "image/png": "[encoded data removed]",
      "text/plain": [
       "<Figure size 3200x600 with 1 Axes>"
      ]
     },
     "metadata": {},
     "output_type": "display_data"
    },
    {
     "data": {
      "text/plain": [
       "array([0.00394974, 0.120218  , 0.0162824 , ..., 0.0950837 , 0.16345486,\n",
       "       0.20409227], shape=(75991,))"
      ]
     },
     "metadata": {},
     "output_type": "display_data"
    },
    {
     "data": {
      "text/plain": [
       "176420    0\n",
       "176421    0\n",
       "176422    0\n",
       "176423    0\n",
       "176424    0\n",
       "         ..\n",
       "252406    0\n",
       "252407    0\n",
       "252408    0\n",
       "252409    0\n",
       "252410    1\n",
       "Name: target, Length: 75991, dtype: int64"
      ]
     },
     "metadata": {},
     "output_type": "display_data"
    }
   ],
   "source": [
    "memo = \"add pre_win_odds, reduce features more. n_rials=50.\"\n",
    "model, df_pred = model_tuner.simple_lightGBM(df4, feature_col2, memo=memo, n_trials=3, save_result=False, visualization=True)"
   ]
  },
  {
   "cell_type": "code",
   "execution_count": 11,
   "id": "1b9eeb5a",
   "metadata": {},
   "outputs": [
    {
     "data": {
      "text/html": [
       "<div>\n",
       "<style scoped>\n",
       "    .dataframe tbody tr th:only-of-type {\n",
       "        vertical-align: middle;\n",
       "    }\n",
       "\n",
       "    .dataframe tbody tr th {\n",
       "        vertical-align: top;\n",
       "    }\n",
       "\n",
       "    .dataframe thead th {\n",
       "        text-align: right;\n",
       "    }\n",
       "</style>\n",
       "<table border=\"1\" class=\"dataframe\">\n",
       "  <thead>\n",
       "    <tr style=\"text-align: right;\">\n",
       "      <th></th>\n",
       "      <th>id_for_fold</th>\n",
       "      <th>horse</th>\n",
       "      <th>pred</th>\n",
       "    </tr>\n",
       "  </thead>\n",
       "  <tbody>\n",
       "    <tr>\n",
       "      <th>207687</th>\n",
       "      <td>2024062302010605</td>\n",
       "      <td>ヤンキーバローズ</td>\n",
       "      <td>0.712840</td>\n",
       "    </tr>\n",
       "    <tr>\n",
       "      <th>233205</th>\n",
       "      <td>2025012506010806</td>\n",
       "      <td>クレーキング</td>\n",
       "      <td>0.660306</td>\n",
       "    </tr>\n",
       "    <tr>\n",
       "      <th>211595</th>\n",
       "      <td>2024072704020101</td>\n",
       "      <td>エンブロイダリー</td>\n",
       "      <td>0.645149</td>\n",
       "    </tr>\n",
       "    <tr>\n",
       "      <th>223296</th>\n",
       "      <td>2024110205050112</td>\n",
       "      <td>ウインオーディン</td>\n",
       "      <td>0.635264</td>\n",
       "    </tr>\n",
       "    <tr>\n",
       "      <th>210666</th>\n",
       "      <td>2024072001010101</td>\n",
       "      <td>ポッドベイダー</td>\n",
       "      <td>0.631876</td>\n",
       "    </tr>\n",
       "  </tbody>\n",
       "</table>\n",
       "</div>"
      ],
      "text/plain": [
       "             id_for_fold     horse      pred\n",
       "207687  2024062302010605  ヤンキーバローズ  0.712840\n",
       "233205  2025012506010806    クレーキング  0.660306\n",
       "211595  2024072704020101  エンブロイダリー  0.645149\n",
       "223296  2024110205050112  ウインオーディン  0.635264\n",
       "210666  2024072001010101   ポッドベイダー  0.631876"
      ]
     },
     "execution_count": 11,
     "metadata": {},
     "output_type": "execute_result"
    }
   ],
   "source": [
    "tmp =  df_pred[[\"id_for_fold\", \"horse\", \"pred\"]].sort_values(\"pred\", ascending=False)\n",
    "tmp.head(5)"
   ]
  },
  {
   "cell_type": "code",
   "execution_count": 12,
   "id": "575a6e23",
   "metadata": {},
   "outputs": [
    {
     "data": {
      "text/html": [
       "<div>\n",
       "<style scoped>\n",
       "    .dataframe tbody tr th:only-of-type {\n",
       "        vertical-align: middle;\n",
       "    }\n",
       "\n",
       "    .dataframe tbody tr th {\n",
       "        vertical-align: top;\n",
       "    }\n",
       "\n",
       "    .dataframe thead th {\n",
       "        text-align: right;\n",
       "    }\n",
       "</style>\n",
       "<table border=\"1\" class=\"dataframe\">\n",
       "  <thead>\n",
       "    <tr style=\"text-align: right;\">\n",
       "      <th></th>\n",
       "      <th>id_for_fold</th>\n",
       "      <th>horse</th>\n",
       "      <th>pred</th>\n",
       "    </tr>\n",
       "  </thead>\n",
       "  <tbody>\n",
       "    <tr>\n",
       "      <th>202871</th>\n",
       "      <td>2024051805020904</td>\n",
       "      <td>ヒナノマーチス</td>\n",
       "      <td>0.001943</td>\n",
       "    </tr>\n",
       "    <tr>\n",
       "      <th>233658</th>\n",
       "      <td>2025012606010905</td>\n",
       "      <td>ギリギリバイター</td>\n",
       "      <td>0.001943</td>\n",
       "    </tr>\n",
       "    <tr>\n",
       "      <th>179183</th>\n",
       "      <td>2023111805050502</td>\n",
       "      <td>ミユキアテスウェイ</td>\n",
       "      <td>0.001934</td>\n",
       "    </tr>\n",
       "    <tr>\n",
       "      <th>209287</th>\n",
       "      <td>2024070710030401</td>\n",
       "      <td>イチザマジック</td>\n",
       "      <td>0.001831</td>\n",
       "    </tr>\n",
       "    <tr>\n",
       "      <th>192681</th>\n",
       "      <td>2024030206020305</td>\n",
       "      <td>ソーリャ</td>\n",
       "      <td>0.001770</td>\n",
       "    </tr>\n",
       "  </tbody>\n",
       "</table>\n",
       "</div>"
      ],
      "text/plain": [
       "             id_for_fold      horse      pred\n",
       "202871  2024051805020904    ヒナノマーチス  0.001943\n",
       "233658  2025012606010905   ギリギリバイター  0.001943\n",
       "179183  2023111805050502  ミユキアテスウェイ  0.001934\n",
       "209287  2024070710030401    イチザマジック  0.001831\n",
       "192681  2024030206020305       ソーリャ  0.001770"
      ]
     },
     "execution_count": 12,
     "metadata": {},
     "output_type": "execute_result"
    }
   ],
   "source": [
    "df_pred[[\"id_for_fold\", \"horse\", \"pred\"]].sort_values(\"pred\", ascending=False).tail()"
   ]
  },
  {
   "cell_type": "code",
   "execution_count": 14,
   "id": "40793033",
   "metadata": {},
   "outputs": [
    {
     "data": {
      "text/html": [
       "<div>\n",
       "<style scoped>\n",
       "    .dataframe tbody tr th:only-of-type {\n",
       "        vertical-align: middle;\n",
       "    }\n",
       "\n",
       "    .dataframe tbody tr th {\n",
       "        vertical-align: top;\n",
       "    }\n",
       "\n",
       "    .dataframe thead th {\n",
       "        text-align: right;\n",
       "    }\n",
       "</style>\n",
       "<table border=\"1\" class=\"dataframe\">\n",
       "  <thead>\n",
       "    <tr style=\"text-align: right;\">\n",
       "      <th></th>\n",
       "      <th>race_id</th>\n",
       "      <th>id_for_fold</th>\n",
       "      <th>horse</th>\n",
       "      <th>pred</th>\n",
       "      <th>win_odds</th>\n",
       "      <th>target</th>\n",
       "    </tr>\n",
       "  </thead>\n",
       "  <tbody>\n",
       "    <tr>\n",
       "      <th>176420</th>\n",
       "      <td>202310280802080208</td>\n",
       "      <td>2023102808020802</td>\n",
       "      <td>サウンドルミネ</td>\n",
       "      <td>0.005423</td>\n",
       "      <td>467.0</td>\n",
       "      <td>0</td>\n",
       "    </tr>\n",
       "    <tr>\n",
       "      <th>176421</th>\n",
       "      <td>202310280802080212</td>\n",
       "      <td>2023102808020802</td>\n",
       "      <td>アルピニスト</td>\n",
       "      <td>0.165064</td>\n",
       "      <td>5.1</td>\n",
       "      <td>0</td>\n",
       "    </tr>\n",
       "    <tr>\n",
       "      <th>176422</th>\n",
       "      <td>202310280802080203</td>\n",
       "      <td>2023102808020802</td>\n",
       "      <td>レグノ</td>\n",
       "      <td>0.022356</td>\n",
       "      <td>65.4</td>\n",
       "      <td>0</td>\n",
       "    </tr>\n",
       "    <tr>\n",
       "      <th>176423</th>\n",
       "      <td>202310280802080201</td>\n",
       "      <td>2023102808020802</td>\n",
       "      <td>テイエムデンセツ</td>\n",
       "      <td>0.097506</td>\n",
       "      <td>13.8</td>\n",
       "      <td>0</td>\n",
       "    </tr>\n",
       "    <tr>\n",
       "      <th>176424</th>\n",
       "      <td>202310280802080210</td>\n",
       "      <td>2023102808020802</td>\n",
       "      <td>キモンキャリントン</td>\n",
       "      <td>0.027814</td>\n",
       "      <td>53.5</td>\n",
       "      <td>0</td>\n",
       "    </tr>\n",
       "    <tr>\n",
       "      <th>...</th>\n",
       "      <td>...</td>\n",
       "      <td>...</td>\n",
       "      <td>...</td>\n",
       "      <td>...</td>\n",
       "      <td>...</td>\n",
       "      <td>...</td>\n",
       "    </tr>\n",
       "    <tr>\n",
       "      <th>252406</th>\n",
       "      <td>202506150201021202</td>\n",
       "      <td>2025061502010212</td>\n",
       "      <td>デルマムーン</td>\n",
       "      <td>0.131645</td>\n",
       "      <td>8.3</td>\n",
       "      <td>0</td>\n",
       "    </tr>\n",
       "    <tr>\n",
       "      <th>252407</th>\n",
       "      <td>202506150201021204</td>\n",
       "      <td>2025061502010212</td>\n",
       "      <td>ボエーム</td>\n",
       "      <td>0.004618</td>\n",
       "      <td>104.5</td>\n",
       "      <td>0</td>\n",
       "    </tr>\n",
       "    <tr>\n",
       "      <th>252408</th>\n",
       "      <td>202506150201021201</td>\n",
       "      <td>2025061502010212</td>\n",
       "      <td>モーメントキャッチ</td>\n",
       "      <td>0.106163</td>\n",
       "      <td>5.8</td>\n",
       "      <td>0</td>\n",
       "    </tr>\n",
       "    <tr>\n",
       "      <th>252409</th>\n",
       "      <td>202506150201021207</td>\n",
       "      <td>2025061502010212</td>\n",
       "      <td>トモジャザーン</td>\n",
       "      <td>0.182501</td>\n",
       "      <td>3.7</td>\n",
       "      <td>0</td>\n",
       "    </tr>\n",
       "    <tr>\n",
       "      <th>252410</th>\n",
       "      <td>202506150201021209</td>\n",
       "      <td>2025061502010212</td>\n",
       "      <td>グレイテストソング</td>\n",
       "      <td>0.227873</td>\n",
       "      <td>3.0</td>\n",
       "      <td>1</td>\n",
       "    </tr>\n",
       "  </tbody>\n",
       "</table>\n",
       "<p>75991 rows × 6 columns</p>\n",
       "</div>"
      ],
      "text/plain": [
       "                   race_id       id_for_fold      horse      pred  win_odds  \\\n",
       "176420  202310280802080208  2023102808020802    サウンドルミネ  0.005423     467.0   \n",
       "176421  202310280802080212  2023102808020802     アルピニスト  0.165064       5.1   \n",
       "176422  202310280802080203  2023102808020802        レグノ  0.022356      65.4   \n",
       "176423  202310280802080201  2023102808020802   テイエムデンセツ  0.097506      13.8   \n",
       "176424  202310280802080210  2023102808020802  キモンキャリントン  0.027814      53.5   \n",
       "...                    ...               ...        ...       ...       ...   \n",
       "252406  202506150201021202  2025061502010212     デルマムーン  0.131645       8.3   \n",
       "252407  202506150201021204  2025061502010212       ボエーム  0.004618     104.5   \n",
       "252408  202506150201021201  2025061502010212  モーメントキャッチ  0.106163       5.8   \n",
       "252409  202506150201021207  2025061502010212    トモジャザーン  0.182501       3.7   \n",
       "252410  202506150201021209  2025061502010212  グレイテストソング  0.227873       3.0   \n",
       "\n",
       "        target  \n",
       "176420       0  \n",
       "176421       0  \n",
       "176422       0  \n",
       "176423       0  \n",
       "176424       0  \n",
       "...        ...  \n",
       "252406       0  \n",
       "252407       0  \n",
       "252408       0  \n",
       "252409       0  \n",
       "252410       1  \n",
       "\n",
       "[75991 rows x 6 columns]"
      ]
     },
     "execution_count": 14,
     "metadata": {},
     "output_type": "execute_result"
    }
   ],
   "source": [
    "df_pred[[\"race_id\", \"id_for_fold\", \"horse\", \"pred\", \"win_odds\", \"target\"]]"
   ]
  },
  {
   "cell_type": "code",
   "execution_count": 16,
   "id": "2efc134d",
   "metadata": {},
   "outputs": [
    {
     "name": "stdout",
     "output_type": "stream",
     "text": [
      "購入点数: 5452点\n",
      "払い戻し合計: 440430.0円\n",
      "投資額: 545200円\n",
      "収支: -104770.0円\n",
      "ROI（回収率）: 80.78%\n"
     ]
    }
   ],
   "source": [
    "# 各レースで、一番確率が高い単勝のみ購入した場合の勝ち額\n",
    "def calc_max_pred_strategy(pred_df):\n",
    "    pred_df[\"max_pred\"] = pred_df.groupby(\"id_for_fold\", observed=True)[\"pred\"].transform(\"max\")\n",
    "    pred_df[\"max_pred_flg\"] = pred_df[\"max_pred\"] == pred_df[\"pred\"]\n",
    "    pred_df[\"bought_ticket_flg\"] = pred_df[\"max_pred_flg\"].astype(int)\n",
    "    pred_df[\"bought_and_winning_odds\"] = pred_df[\"bought_ticket_flg\"] * pred_df[\"target\"] * pred_df[\"win_odds\"]\n",
    "\n",
    "\n",
    "    # とりあえず100円賭ける\n",
    "    total_win = pred_df[\"bought_and_winning_odds\"].sum() * 100  # 払戻額（円単位）\n",
    "    bought_ticket_sum = pred_df[\"bought_ticket_flg\"].sum()\n",
    "    total_bet = bought_ticket_sum * 100  # 賭け金（1点100円）\n",
    "    net_profit = total_win - total_bet\n",
    "\n",
    "    print(f\"購入点数: {bought_ticket_sum}点\")\n",
    "    print(f\"払い戻し合計: {total_win:.1f}円\")\n",
    "    print(f\"投資額: {total_bet}円\")\n",
    "    print(f\"収支: {net_profit:.1f}円\")\n",
    "    print(f\"ROI（回収率）: {total_win / total_bet * 100:.2f}%\")\n",
    "\n",
    "calc_max_pred_strategy(df_pred)"
   ]
  },
  {
   "cell_type": "code",
   "execution_count": 17,
   "id": "f00980cd",
   "metadata": {},
   "outputs": [
    {
     "data": {
      "text/html": [
       "<div>\n",
       "<style scoped>\n",
       "    .dataframe tbody tr th:only-of-type {\n",
       "        vertical-align: middle;\n",
       "    }\n",
       "\n",
       "    .dataframe tbody tr th {\n",
       "        vertical-align: top;\n",
       "    }\n",
       "\n",
       "    .dataframe thead th {\n",
       "        text-align: right;\n",
       "    }\n",
       "</style>\n",
       "<table border=\"1\" class=\"dataframe\">\n",
       "  <thead>\n",
       "    <tr style=\"text-align: right;\">\n",
       "      <th></th>\n",
       "      <th>race_id</th>\n",
       "      <th>id_for_fold</th>\n",
       "      <th>horse</th>\n",
       "      <th>pred</th>\n",
       "      <th>target</th>\n",
       "      <th>win_odds</th>\n",
       "      <th>pre_win_odds_20</th>\n",
       "      <th>exp_value</th>\n",
       "    </tr>\n",
       "  </thead>\n",
       "  <tbody>\n",
       "    <tr>\n",
       "      <th>0</th>\n",
       "      <td>202310280802080208</td>\n",
       "      <td>2023102808020802</td>\n",
       "      <td>サウンドルミネ</td>\n",
       "      <td>0.005423</td>\n",
       "      <td>0</td>\n",
       "      <td>467.0</td>\n",
       "      <td>453.1</td>\n",
       "      <td>2.457230</td>\n",
       "    </tr>\n",
       "    <tr>\n",
       "      <th>1</th>\n",
       "      <td>202310280802080212</td>\n",
       "      <td>2023102808020802</td>\n",
       "      <td>アルピニスト</td>\n",
       "      <td>0.165064</td>\n",
       "      <td>0</td>\n",
       "      <td>5.1</td>\n",
       "      <td>5.5</td>\n",
       "      <td>0.907852</td>\n",
       "    </tr>\n",
       "    <tr>\n",
       "      <th>2</th>\n",
       "      <td>202310280802080203</td>\n",
       "      <td>2023102808020802</td>\n",
       "      <td>レグノ</td>\n",
       "      <td>0.022356</td>\n",
       "      <td>0</td>\n",
       "      <td>65.4</td>\n",
       "      <td>64.0</td>\n",
       "      <td>1.430807</td>\n",
       "    </tr>\n",
       "    <tr>\n",
       "      <th>3</th>\n",
       "      <td>202310280802080201</td>\n",
       "      <td>2023102808020802</td>\n",
       "      <td>テイエムデンセツ</td>\n",
       "      <td>0.097506</td>\n",
       "      <td>0</td>\n",
       "      <td>13.8</td>\n",
       "      <td>13.8</td>\n",
       "      <td>1.345581</td>\n",
       "    </tr>\n",
       "    <tr>\n",
       "      <th>4</th>\n",
       "      <td>202310280802080210</td>\n",
       "      <td>2023102808020802</td>\n",
       "      <td>キモンキャリントン</td>\n",
       "      <td>0.027814</td>\n",
       "      <td>0</td>\n",
       "      <td>53.5</td>\n",
       "      <td>54.8</td>\n",
       "      <td>1.524184</td>\n",
       "    </tr>\n",
       "  </tbody>\n",
       "</table>\n",
       "</div>"
      ],
      "text/plain": [
       "              race_id       id_for_fold      horse      pred  target  \\\n",
       "0  202310280802080208  2023102808020802    サウンドルミネ  0.005423       0   \n",
       "1  202310280802080212  2023102808020802     アルピニスト  0.165064       0   \n",
       "2  202310280802080203  2023102808020802        レグノ  0.022356       0   \n",
       "3  202310280802080201  2023102808020802   テイエムデンセツ  0.097506       0   \n",
       "4  202310280802080210  2023102808020802  キモンキャリントン  0.027814       0   \n",
       "\n",
       "   win_odds  pre_win_odds_20  exp_value  \n",
       "0     467.0            453.1   2.457230  \n",
       "1       5.1              5.5   0.907852  \n",
       "2      65.4             64.0   1.430807  \n",
       "3      13.8             13.8   1.345581  \n",
       "4      53.5             54.8   1.524184  "
      ]
     },
     "execution_count": 17,
     "metadata": {},
     "output_type": "execute_result"
    }
   ],
   "source": [
    "tmp = df_pred[[\"race_id\", \"id_for_fold\", \"horse\", \"pred\", \"target\", \"win_odds\"]]\n",
    "pre_win_odds = odds_df[[\"race_id\", \"pre_win_odds_20\"]]\n",
    "tmp = pd.merge(left=tmp, right=pre_win_odds, how=\"left\", on=\"race_id\")\n",
    "tmp[\"exp_value\"] = tmp[\"pred\"] * tmp[\"pre_win_odds_20\"]\n",
    "tmp.head()"
   ]
  },
  {
   "cell_type": "code",
   "execution_count": 20,
   "id": "d8aa7b62",
   "metadata": {},
   "outputs": [
    {
     "data": {
      "text/html": [
       "<div>\n",
       "<style scoped>\n",
       "    .dataframe tbody tr th:only-of-type {\n",
       "        vertical-align: middle;\n",
       "    }\n",
       "\n",
       "    .dataframe tbody tr th {\n",
       "        vertical-align: top;\n",
       "    }\n",
       "\n",
       "    .dataframe thead th {\n",
       "        text-align: right;\n",
       "    }\n",
       "</style>\n",
       "<table border=\"1\" class=\"dataframe\">\n",
       "  <thead>\n",
       "    <tr style=\"text-align: right;\">\n",
       "      <th></th>\n",
       "      <th>race_id</th>\n",
       "      <th>id_for_fold</th>\n",
       "      <th>horse</th>\n",
       "      <th>pred</th>\n",
       "      <th>target</th>\n",
       "      <th>win_odds</th>\n",
       "      <th>pre_win_odds_20</th>\n",
       "      <th>exp_value</th>\n",
       "      <th>max_exp</th>\n",
       "      <th>max_exp_flg</th>\n",
       "      <th>bought_ticket_flg</th>\n",
       "      <th>bought_and_winning_odds</th>\n",
       "    </tr>\n",
       "  </thead>\n",
       "  <tbody>\n",
       "    <tr>\n",
       "      <th>39</th>\n",
       "      <td>202310280802080306</td>\n",
       "      <td>2023102808020803</td>\n",
       "      <td>ダノンデサイル</td>\n",
       "      <td>0.108898</td>\n",
       "      <td>1</td>\n",
       "      <td>11.3</td>\n",
       "      <td>11.1</td>\n",
       "      <td>1.208765</td>\n",
       "      <td>1.208765</td>\n",
       "      <td>True</td>\n",
       "      <td>1</td>\n",
       "      <td>11.3</td>\n",
       "    </tr>\n",
       "    <tr>\n",
       "      <th>50</th>\n",
       "      <td>202310280404050310</td>\n",
       "      <td>2023102804040503</td>\n",
       "      <td>ツヴァイシュテルネ</td>\n",
       "      <td>0.157168</td>\n",
       "      <td>0</td>\n",
       "      <td>9.4</td>\n",
       "      <td>10.0</td>\n",
       "      <td>1.571679</td>\n",
       "      <td>1.571679</td>\n",
       "      <td>True</td>\n",
       "      <td>1</td>\n",
       "      <td>0.0</td>\n",
       "    </tr>\n",
       "    <tr>\n",
       "      <th>99</th>\n",
       "      <td>202310280802080508</td>\n",
       "      <td>2023102808020805</td>\n",
       "      <td>マテンロウガーデン</td>\n",
       "      <td>0.116741</td>\n",
       "      <td>0</td>\n",
       "      <td>15.3</td>\n",
       "      <td>15.3</td>\n",
       "      <td>1.786143</td>\n",
       "      <td>1.786143</td>\n",
       "      <td>True</td>\n",
       "      <td>1</td>\n",
       "      <td>0.0</td>\n",
       "    </tr>\n",
       "    <tr>\n",
       "      <th>138</th>\n",
       "      <td>202310280802080610</td>\n",
       "      <td>2023102808020806</td>\n",
       "      <td>コンプラセンシア</td>\n",
       "      <td>0.105894</td>\n",
       "      <td>0</td>\n",
       "      <td>11.2</td>\n",
       "      <td>12.5</td>\n",
       "      <td>1.323672</td>\n",
       "      <td>1.323672</td>\n",
       "      <td>True</td>\n",
       "      <td>1</td>\n",
       "      <td>0.0</td>\n",
       "    </tr>\n",
       "    <tr>\n",
       "      <th>288</th>\n",
       "      <td>202310280504081008</td>\n",
       "      <td>2023102805040810</td>\n",
       "      <td>バルサムノート</td>\n",
       "      <td>0.165527</td>\n",
       "      <td>0</td>\n",
       "      <td>6.7</td>\n",
       "      <td>6.7</td>\n",
       "      <td>1.109034</td>\n",
       "      <td>1.109034</td>\n",
       "      <td>True</td>\n",
       "      <td>1</td>\n",
       "      <td>0.0</td>\n",
       "    </tr>\n",
       "    <tr>\n",
       "      <th>300</th>\n",
       "      <td>202310280802081011</td>\n",
       "      <td>2023102808020810</td>\n",
       "      <td>ミッキーヌチバナ</td>\n",
       "      <td>0.117856</td>\n",
       "      <td>1</td>\n",
       "      <td>10.8</td>\n",
       "      <td>10.8</td>\n",
       "      <td>1.272841</td>\n",
       "      <td>1.272841</td>\n",
       "      <td>True</td>\n",
       "      <td>1</td>\n",
       "      <td>10.8</td>\n",
       "    </tr>\n",
       "    <tr>\n",
       "      <th>351</th>\n",
       "      <td>202310280404051105</td>\n",
       "      <td>2023102804040511</td>\n",
       "      <td>セレシオン</td>\n",
       "      <td>0.206124</td>\n",
       "      <td>0</td>\n",
       "      <td>6.6</td>\n",
       "      <td>6.4</td>\n",
       "      <td>1.319193</td>\n",
       "      <td>1.319193</td>\n",
       "      <td>True</td>\n",
       "      <td>1</td>\n",
       "      <td>0.0</td>\n",
       "    </tr>\n",
       "    <tr>\n",
       "      <th>367</th>\n",
       "      <td>202310280504081205</td>\n",
       "      <td>2023102805040812</td>\n",
       "      <td>バルミュゼット</td>\n",
       "      <td>0.221173</td>\n",
       "      <td>0</td>\n",
       "      <td>3.9</td>\n",
       "      <td>4.8</td>\n",
       "      <td>1.061631</td>\n",
       "      <td>1.061631</td>\n",
       "      <td>True</td>\n",
       "      <td>1</td>\n",
       "      <td>0.0</td>\n",
       "    </tr>\n",
       "    <tr>\n",
       "      <th>388</th>\n",
       "      <td>202310280404051205</td>\n",
       "      <td>2023102804040512</td>\n",
       "      <td>アロットドリーム</td>\n",
       "      <td>0.228759</td>\n",
       "      <td>0</td>\n",
       "      <td>3.6</td>\n",
       "      <td>4.8</td>\n",
       "      <td>1.098042</td>\n",
       "      <td>1.098042</td>\n",
       "      <td>True</td>\n",
       "      <td>1</td>\n",
       "      <td>0.0</td>\n",
       "    </tr>\n",
       "    <tr>\n",
       "      <th>417</th>\n",
       "      <td>202310290802090102</td>\n",
       "      <td>2023102908020901</td>\n",
       "      <td>クリノオリーブ</td>\n",
       "      <td>0.172437</td>\n",
       "      <td>0</td>\n",
       "      <td>7.4</td>\n",
       "      <td>7.4</td>\n",
       "      <td>1.276032</td>\n",
       "      <td>1.276032</td>\n",
       "      <td>True</td>\n",
       "      <td>1</td>\n",
       "      <td>0.0</td>\n",
       "    </tr>\n",
       "    <tr>\n",
       "      <th>439</th>\n",
       "      <td>202310290504090209</td>\n",
       "      <td>2023102905040902</td>\n",
       "      <td>メティエダール</td>\n",
       "      <td>0.186547</td>\n",
       "      <td>0</td>\n",
       "      <td>8.7</td>\n",
       "      <td>8.7</td>\n",
       "      <td>1.622961</td>\n",
       "      <td>1.622961</td>\n",
       "      <td>True</td>\n",
       "      <td>1</td>\n",
       "      <td>0.0</td>\n",
       "    </tr>\n",
       "    <tr>\n",
       "      <th>487</th>\n",
       "      <td>202310290504090301</td>\n",
       "      <td>2023102905040903</td>\n",
       "      <td>ニューステソーロ</td>\n",
       "      <td>0.194079</td>\n",
       "      <td>1</td>\n",
       "      <td>8.5</td>\n",
       "      <td>8.5</td>\n",
       "      <td>1.649669</td>\n",
       "      <td>1.649669</td>\n",
       "      <td>True</td>\n",
       "      <td>1</td>\n",
       "      <td>8.5</td>\n",
       "    </tr>\n",
       "    <tr>\n",
       "      <th>529</th>\n",
       "      <td>202310290504090410</td>\n",
       "      <td>2023102905040904</td>\n",
       "      <td>ヴェルヴ</td>\n",
       "      <td>0.172229</td>\n",
       "      <td>0</td>\n",
       "      <td>8.0</td>\n",
       "      <td>8.0</td>\n",
       "      <td>1.377828</td>\n",
       "      <td>1.377828</td>\n",
       "      <td>True</td>\n",
       "      <td>1</td>\n",
       "      <td>0.0</td>\n",
       "    </tr>\n",
       "    <tr>\n",
       "      <th>539</th>\n",
       "      <td>202310290802090406</td>\n",
       "      <td>2023102908020904</td>\n",
       "      <td>パシアンジャン</td>\n",
       "      <td>0.141824</td>\n",
       "      <td>1</td>\n",
       "      <td>9.6</td>\n",
       "      <td>9.6</td>\n",
       "      <td>1.361514</td>\n",
       "      <td>1.361514</td>\n",
       "      <td>True</td>\n",
       "      <td>1</td>\n",
       "      <td>9.6</td>\n",
       "    </tr>\n",
       "    <tr>\n",
       "      <th>547</th>\n",
       "      <td>202310290504090501</td>\n",
       "      <td>2023102905040905</td>\n",
       "      <td>ブラックライズ</td>\n",
       "      <td>0.147956</td>\n",
       "      <td>0</td>\n",
       "      <td>9.2</td>\n",
       "      <td>9.2</td>\n",
       "      <td>1.361198</td>\n",
       "      <td>1.361198</td>\n",
       "      <td>True</td>\n",
       "      <td>1</td>\n",
       "      <td>0.0</td>\n",
       "    </tr>\n",
       "    <tr>\n",
       "      <th>555</th>\n",
       "      <td>202310290802090503</td>\n",
       "      <td>2023102908020905</td>\n",
       "      <td>モルツシャン</td>\n",
       "      <td>0.118653</td>\n",
       "      <td>0</td>\n",
       "      <td>9.3</td>\n",
       "      <td>9.3</td>\n",
       "      <td>1.103476</td>\n",
       "      <td>1.103476</td>\n",
       "      <td>True</td>\n",
       "      <td>1</td>\n",
       "      <td>0.0</td>\n",
       "    </tr>\n",
       "    <tr>\n",
       "      <th>564</th>\n",
       "      <td>202310290404060515</td>\n",
       "      <td>2023102904040605</td>\n",
       "      <td>ユッカラン</td>\n",
       "      <td>0.154332</td>\n",
       "      <td>0</td>\n",
       "      <td>10.3</td>\n",
       "      <td>10.3</td>\n",
       "      <td>1.589616</td>\n",
       "      <td>1.589616</td>\n",
       "      <td>True</td>\n",
       "      <td>1</td>\n",
       "      <td>0.0</td>\n",
       "    </tr>\n",
       "    <tr>\n",
       "      <th>640</th>\n",
       "      <td>202310290404060703</td>\n",
       "      <td>2023102904040607</td>\n",
       "      <td>リュクススティール</td>\n",
       "      <td>0.151313</td>\n",
       "      <td>0</td>\n",
       "      <td>9.6</td>\n",
       "      <td>9.6</td>\n",
       "      <td>1.452607</td>\n",
       "      <td>1.452607</td>\n",
       "      <td>True</td>\n",
       "      <td>1</td>\n",
       "      <td>0.0</td>\n",
       "    </tr>\n",
       "    <tr>\n",
       "      <th>664</th>\n",
       "      <td>202310290802090814</td>\n",
       "      <td>2023102908020908</td>\n",
       "      <td>カマチョクイン</td>\n",
       "      <td>0.139585</td>\n",
       "      <td>1</td>\n",
       "      <td>12.1</td>\n",
       "      <td>11.8</td>\n",
       "      <td>1.647105</td>\n",
       "      <td>1.647105</td>\n",
       "      <td>True</td>\n",
       "      <td>1</td>\n",
       "      <td>12.1</td>\n",
       "    </tr>\n",
       "    <tr>\n",
       "      <th>688</th>\n",
       "      <td>202310290504090906</td>\n",
       "      <td>2023102905040909</td>\n",
       "      <td>エッセレンチ</td>\n",
       "      <td>0.191131</td>\n",
       "      <td>0</td>\n",
       "      <td>5.2</td>\n",
       "      <td>5.6</td>\n",
       "      <td>1.070336</td>\n",
       "      <td>1.070336</td>\n",
       "      <td>True</td>\n",
       "      <td>1</td>\n",
       "      <td>0.0</td>\n",
       "    </tr>\n",
       "  </tbody>\n",
       "</table>\n",
       "</div>"
      ],
      "text/plain": [
       "                race_id       id_for_fold      horse      pred  target  \\\n",
       "39   202310280802080306  2023102808020803    ダノンデサイル  0.108898       1   \n",
       "50   202310280404050310  2023102804040503  ツヴァイシュテルネ  0.157168       0   \n",
       "99   202310280802080508  2023102808020805  マテンロウガーデン  0.116741       0   \n",
       "138  202310280802080610  2023102808020806   コンプラセンシア  0.105894       0   \n",
       "288  202310280504081008  2023102805040810    バルサムノート  0.165527       0   \n",
       "300  202310280802081011  2023102808020810   ミッキーヌチバナ  0.117856       1   \n",
       "351  202310280404051105  2023102804040511      セレシオン  0.206124       0   \n",
       "367  202310280504081205  2023102805040812    バルミュゼット  0.221173       0   \n",
       "388  202310280404051205  2023102804040512   アロットドリーム  0.228759       0   \n",
       "417  202310290802090102  2023102908020901    クリノオリーブ  0.172437       0   \n",
       "439  202310290504090209  2023102905040902    メティエダール  0.186547       0   \n",
       "487  202310290504090301  2023102905040903   ニューステソーロ  0.194079       1   \n",
       "529  202310290504090410  2023102905040904       ヴェルヴ  0.172229       0   \n",
       "539  202310290802090406  2023102908020904    パシアンジャン  0.141824       1   \n",
       "547  202310290504090501  2023102905040905    ブラックライズ  0.147956       0   \n",
       "555  202310290802090503  2023102908020905     モルツシャン  0.118653       0   \n",
       "564  202310290404060515  2023102904040605      ユッカラン  0.154332       0   \n",
       "640  202310290404060703  2023102904040607  リュクススティール  0.151313       0   \n",
       "664  202310290802090814  2023102908020908    カマチョクイン  0.139585       1   \n",
       "688  202310290504090906  2023102905040909     エッセレンチ  0.191131       0   \n",
       "\n",
       "     win_odds  pre_win_odds_20  exp_value   max_exp  max_exp_flg  \\\n",
       "39       11.3             11.1   1.208765  1.208765         True   \n",
       "50        9.4             10.0   1.571679  1.571679         True   \n",
       "99       15.3             15.3   1.786143  1.786143         True   \n",
       "138      11.2             12.5   1.323672  1.323672         True   \n",
       "288       6.7              6.7   1.109034  1.109034         True   \n",
       "300      10.8             10.8   1.272841  1.272841         True   \n",
       "351       6.6              6.4   1.319193  1.319193         True   \n",
       "367       3.9              4.8   1.061631  1.061631         True   \n",
       "388       3.6              4.8   1.098042  1.098042         True   \n",
       "417       7.4              7.4   1.276032  1.276032         True   \n",
       "439       8.7              8.7   1.622961  1.622961         True   \n",
       "487       8.5              8.5   1.649669  1.649669         True   \n",
       "529       8.0              8.0   1.377828  1.377828         True   \n",
       "539       9.6              9.6   1.361514  1.361514         True   \n",
       "547       9.2              9.2   1.361198  1.361198         True   \n",
       "555       9.3              9.3   1.103476  1.103476         True   \n",
       "564      10.3             10.3   1.589616  1.589616         True   \n",
       "640       9.6              9.6   1.452607  1.452607         True   \n",
       "664      12.1             11.8   1.647105  1.647105         True   \n",
       "688       5.2              5.6   1.070336  1.070336         True   \n",
       "\n",
       "     bought_ticket_flg  bought_and_winning_odds  \n",
       "39                   1                     11.3  \n",
       "50                   1                      0.0  \n",
       "99                   1                      0.0  \n",
       "138                  1                      0.0  \n",
       "288                  1                      0.0  \n",
       "300                  1                     10.8  \n",
       "351                  1                      0.0  \n",
       "367                  1                      0.0  \n",
       "388                  1                      0.0  \n",
       "417                  1                      0.0  \n",
       "439                  1                      0.0  \n",
       "487                  1                      8.5  \n",
       "529                  1                      0.0  \n",
       "539                  1                      9.6  \n",
       "547                  1                      0.0  \n",
       "555                  1                      0.0  \n",
       "564                  1                      0.0  \n",
       "640                  1                      0.0  \n",
       "664                  1                     12.1  \n",
       "688                  1                      0.0  "
      ]
     },
     "metadata": {},
     "output_type": "display_data"
    },
    {
     "name": "stdout",
     "output_type": "stream",
     "text": [
      "購入点数: 1586点\n",
      "払い戻し合計: 143890.0円\n",
      "投資額: 158600円\n",
      "収支: -14710.0円\n",
      "ROI（回収率）: 90.73%\n"
     ]
    }
   ],
   "source": [
    "def calc_max_exp_value_strategy(df):\n",
    "    df[\"max_exp\"] = df.groupby(\"id_for_fold\", observed=True)[\"exp_value\"].transform(\"max\")\n",
    "    df[\"max_exp_flg\"] = (df[\"max_exp\"] == df[\"exp_value\"]) & (df[\"exp_value\"] > 1) & (df[\"pred\"] > 0.10) & (df[\"win_odds\"] < 50)\n",
    "    df[\"bought_ticket_flg\"] = df[\"max_exp_flg\"].astype(int)\n",
    "    df[\"bought_and_winning_odds\"] = df[\"bought_ticket_flg\"] * df[\"target\"] * df[\"win_odds\"]\n",
    "\n",
    "    # とりあえず100円賭ける\n",
    "    total_win = df[\"bought_and_winning_odds\"].sum() * 100  # 払戻額（円単位）\n",
    "    bought_ticket_sum = df[\"bought_ticket_flg\"].sum()\n",
    "    total_bet = bought_ticket_sum * 100  # 賭け金（1点100円）\n",
    "    net_profit = total_win - total_bet\n",
    "\n",
    "    display(df[df[\"bought_ticket_flg\"] == 1].head(20))\n",
    "\n",
    "    print(f\"購入点数: {bought_ticket_sum}点\")\n",
    "    print(f\"払い戻し合計: {total_win:.1f}円\")\n",
    "    print(f\"投資額: {total_bet}円\")\n",
    "    print(f\"収支: {net_profit:.1f}円\")\n",
    "    print(f\"ROI（回収率）: {total_win / total_bet * 100:.2f}%\")\n",
    "\n",
    "    return df\n",
    "\n",
    "calc_df = calc_max_exp_value_strategy(tmp)"
   ]
  },
  {
   "cell_type": "code",
   "execution_count": 68,
   "id": "c7831848",
   "metadata": {},
   "outputs": [
    {
     "data": {
      "text/plain": [
       "id_for_fold\n",
       "2023102804040502    0.999963\n",
       "2023102804040503    0.798928\n",
       "2023102804040505    1.222730\n",
       "2023102804040506    0.882155\n",
       "2023102804040507    0.858929\n",
       "                      ...   \n",
       "2025061509030408    1.150208\n",
       "2025061509030409    1.096029\n",
       "2025061509030410    1.027582\n",
       "2025061509030411    1.254479\n",
       "2025061509030412    1.160764\n",
       "Name: pred, Length: 5452, dtype: float64"
      ]
     },
     "execution_count": 68,
     "metadata": {},
     "output_type": "execute_result"
    }
   ],
   "source": [
    "df_pred.groupby(\"id_for_fold\", observed=True)[\"pred\"].sum()"
   ]
  },
  {
   "cell_type": "code",
   "execution_count": null,
   "id": "5ecfab82",
   "metadata": {},
   "outputs": [],
   "source": [
    "# 正規化 + キャリブレーション + ケリー基準"
   ]
  }
 ],
 "metadata": {
  "kernelspec": {
   "display_name": ".env",
   "language": "python",
   "name": "python3"
  },
  "language_info": {
   "codemirror_mode": {
    "name": "ipython",
    "version": 3
   },
   "file_extension": ".py",
   "mimetype": "text/x-python",
   "name": "python",
   "nbconvert_exporter": "python",
   "pygments_lexer": "ipython3",
   "version": "3.12.5"
  }
 },
 "nbformat": 4,
 "nbformat_minor": 5
}
