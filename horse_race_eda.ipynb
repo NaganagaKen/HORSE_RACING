{
 "cells": [
  {
   "cell_type": "code",
   "execution_count": 1,
   "id": "13e3f07e",
   "metadata": {},
   "outputs": [],
   "source": [
    "import pandas as pd\n",
    "import numpy as np"
   ]
  },
  {
   "cell_type": "code",
   "execution_count": 2,
   "id": "dfa17c28",
   "metadata": {},
   "outputs": [],
   "source": [
    "names = [\n",
    "    \"race_id\",\n",
    "    \"year\",\n",
    "    \"month\",\n",
    "    \"day\",\n",
    "    \"times\",\n",
    "    \"place\",\n",
    "    \"daily\",\n",
    "    \"race_num\",\n",
    "    \"horse\",\n",
    "    \"jockey_id\",\n",
    "    \"horse_N\",\n",
    "    \"waku_num\",\n",
    "    \"horse_num\",\n",
    "    \"class_code\",\n",
    "    \"track_code\",\n",
    "    \"corner_num\",\n",
    "    \"dist\",\n",
    "    \"state\",\n",
    "    \"weather\",\n",
    "    \"age_code\",\n",
    "    \"sex\",\n",
    "    \"age\",\n",
    "    \"basis_weight\",\n",
    "    \"blinker\",\n",
    "    \"weight\",\n",
    "    \"inc_dec\",\n",
    "    \"weight_code\",\n",
    "    \"win_odds\",\n",
    "    \"rank\",\n",
    "    \"time_diff\",\n",
    "    \"time\",\n",
    "    \"corner1_rank\",\n",
    "    \"corner2_rank\",\n",
    "    \"corner3_rank\",\n",
    "    \"corner4_rank\",\n",
    "    \"last_3F_time\",\n",
    "    \"last_3F_rank\",\n",
    "    \"Ave_3F\",\n",
    "    \"PCI\",\n",
    "    \"last_3F_time_diff\",\n",
    "    \"leg\",\n",
    "    \"pop\",\n",
    "    \"prize\",\n",
    "    \"error_code\",\n",
    "    \"father\",\n",
    "    \"mother\",\n",
    "    \"id\"\n",
    "]\n"
   ]
  },
  {
   "cell_type": "code",
   "execution_count": 3,
   "id": "9dcf14ba",
   "metadata": {},
   "outputs": [
    {
     "data": {
      "text/html": [
       "<div>\n",
       "<style scoped>\n",
       "    .dataframe tbody tr th:only-of-type {\n",
       "        vertical-align: middle;\n",
       "    }\n",
       "\n",
       "    .dataframe tbody tr th {\n",
       "        vertical-align: top;\n",
       "    }\n",
       "\n",
       "    .dataframe thead th {\n",
       "        text-align: right;\n",
       "    }\n",
       "</style>\n",
       "<table border=\"1\" class=\"dataframe\">\n",
       "  <thead>\n",
       "    <tr style=\"text-align: right;\">\n",
       "      <th></th>\n",
       "      <th>race_id</th>\n",
       "      <th>year</th>\n",
       "      <th>month</th>\n",
       "      <th>day</th>\n",
       "      <th>times</th>\n",
       "      <th>place</th>\n",
       "      <th>daily</th>\n",
       "      <th>race_num</th>\n",
       "      <th>horse</th>\n",
       "      <th>jockey_id</th>\n",
       "      <th>...</th>\n",
       "      <th>Ave_3F</th>\n",
       "      <th>PCI</th>\n",
       "      <th>last_3F_time_diff</th>\n",
       "      <th>leg</th>\n",
       "      <th>pop</th>\n",
       "      <th>prize</th>\n",
       "      <th>error_code</th>\n",
       "      <th>father</th>\n",
       "      <th>mother</th>\n",
       "      <th>id</th>\n",
       "    </tr>\n",
       "  </thead>\n",
       "  <tbody>\n",
       "    <tr>\n",
       "      <th>0</th>\n",
       "      <td>202307220101010101</td>\n",
       "      <td>23</td>\n",
       "      <td>7</td>\n",
       "      <td>22</td>\n",
       "      <td>1</td>\n",
       "      <td>札幌</td>\n",
       "      <td>1</td>\n",
       "      <td>1</td>\n",
       "      <td>ウィスピースノー</td>\n",
       "      <td>1095</td>\n",
       "      <td>...</td>\n",
       "      <td>35.8</td>\n",
       "      <td>53.8</td>\n",
       "      <td>0.8</td>\n",
       "      <td>後方</td>\n",
       "      <td>5.0</td>\n",
       "      <td>55</td>\n",
       "      <td>0</td>\n",
       "      <td>ワールドエース</td>\n",
       "      <td>ハイリマイリ</td>\n",
       "      <td>2021100648</td>\n",
       "    </tr>\n",
       "    <tr>\n",
       "      <th>1</th>\n",
       "      <td>202307220101010102</td>\n",
       "      <td>23</td>\n",
       "      <td>7</td>\n",
       "      <td>22</td>\n",
       "      <td>1</td>\n",
       "      <td>札幌</td>\n",
       "      <td>1</td>\n",
       "      <td>1</td>\n",
       "      <td>ロードスタウト</td>\n",
       "      <td>1157</td>\n",
       "      <td>...</td>\n",
       "      <td>35.6</td>\n",
       "      <td>51.4</td>\n",
       "      <td>0.6</td>\n",
       "      <td>中団</td>\n",
       "      <td>7.0</td>\n",
       "      <td>0</td>\n",
       "      <td>0</td>\n",
       "      <td>ロードカナロア</td>\n",
       "      <td>フィラデルフィア</td>\n",
       "      <td>2021100159</td>\n",
       "    </tr>\n",
       "    <tr>\n",
       "      <th>2</th>\n",
       "      <td>202307220101010103</td>\n",
       "      <td>23</td>\n",
       "      <td>7</td>\n",
       "      <td>22</td>\n",
       "      <td>1</td>\n",
       "      <td>札幌</td>\n",
       "      <td>1</td>\n",
       "      <td>1</td>\n",
       "      <td>コミックガール</td>\n",
       "      <td>1197</td>\n",
       "      <td>...</td>\n",
       "      <td>35.6</td>\n",
       "      <td>50.8</td>\n",
       "      <td>0.6</td>\n",
       "      <td>中団</td>\n",
       "      <td>4.0</td>\n",
       "      <td>0</td>\n",
       "      <td>0</td>\n",
       "      <td>シルバーステート</td>\n",
       "      <td>コイクレナイ</td>\n",
       "      <td>2021100265</td>\n",
       "    </tr>\n",
       "    <tr>\n",
       "      <th>3</th>\n",
       "      <td>202307220101010104</td>\n",
       "      <td>23</td>\n",
       "      <td>7</td>\n",
       "      <td>22</td>\n",
       "      <td>1</td>\n",
       "      <td>札幌</td>\n",
       "      <td>1</td>\n",
       "      <td>1</td>\n",
       "      <td>デビルシズカチャン</td>\n",
       "      <td>5339</td>\n",
       "      <td>...</td>\n",
       "      <td>35.3</td>\n",
       "      <td>51.1</td>\n",
       "      <td>0.3</td>\n",
       "      <td>先行</td>\n",
       "      <td>3.0</td>\n",
       "      <td>83</td>\n",
       "      <td>0</td>\n",
       "      <td>ベストウォーリア</td>\n",
       "      <td>シシリアンブリーズ</td>\n",
       "      <td>2021105553</td>\n",
       "    </tr>\n",
       "    <tr>\n",
       "      <th>4</th>\n",
       "      <td>202307220101010105</td>\n",
       "      <td>23</td>\n",
       "      <td>7</td>\n",
       "      <td>22</td>\n",
       "      <td>1</td>\n",
       "      <td>札幌</td>\n",
       "      <td>1</td>\n",
       "      <td>1</td>\n",
       "      <td>サトミノキラリ</td>\n",
       "      <td>1170</td>\n",
       "      <td>...</td>\n",
       "      <td>35.2</td>\n",
       "      <td>52.6</td>\n",
       "      <td>0.2</td>\n",
       "      <td>先行</td>\n",
       "      <td>1.0</td>\n",
       "      <td>550</td>\n",
       "      <td>0</td>\n",
       "      <td>ビッグアーサー</td>\n",
       "      <td>パレード</td>\n",
       "      <td>2021101429</td>\n",
       "    </tr>\n",
       "  </tbody>\n",
       "</table>\n",
       "<p>5 rows × 47 columns</p>\n",
       "</div>"
      ],
      "text/plain": [
       "              race_id  year  month  day  times place daily  race_num  \\\n",
       "0  202307220101010101    23      7   22      1    札幌     1         1   \n",
       "1  202307220101010102    23      7   22      1    札幌     1         1   \n",
       "2  202307220101010103    23      7   22      1    札幌     1         1   \n",
       "3  202307220101010104    23      7   22      1    札幌     1         1   \n",
       "4  202307220101010105    23      7   22      1    札幌     1         1   \n",
       "\n",
       "       horse  jockey_id  ...  Ave_3F   PCI  last_3F_time_diff  leg  pop  \\\n",
       "0   ウィスピースノー       1095  ...    35.8  53.8                0.8   後方  5.0   \n",
       "1    ロードスタウト       1157  ...    35.6  51.4                0.6   中団  7.0   \n",
       "2    コミックガール       1197  ...    35.6  50.8                0.6   中団  4.0   \n",
       "3  デビルシズカチャン       5339  ...    35.3  51.1                0.3   先行  3.0   \n",
       "4    サトミノキラリ       1170  ...    35.2  52.6                0.2   先行  1.0   \n",
       "\n",
       "   prize  error_code    father     mother          id  \n",
       "0     55           0   ワールドエース     ハイリマイリ  2021100648  \n",
       "1      0           0   ロードカナロア   フィラデルフィア  2021100159  \n",
       "2      0           0  シルバーステート     コイクレナイ  2021100265  \n",
       "3     83           0  ベストウォーリア  シシリアンブリーズ  2021105553  \n",
       "4    550           0   ビッグアーサー       パレード  2021101429  \n",
       "\n",
       "[5 rows x 47 columns]"
      ]
     },
     "execution_count": 3,
     "metadata": {},
     "output_type": "execute_result"
    }
   ],
   "source": [
    "df = pd.read_csv(\"record_data_2023.csv\", encoding=\"shift_jis\", header=None, names=names)\n",
    "df.head()"
   ]
  },
  {
   "cell_type": "code",
   "execution_count": 4,
   "id": "cdab04df",
   "metadata": {},
   "outputs": [
    {
     "data": {
      "text/plain": [
       "Index(['race_id', 'year', 'month', 'day', 'times', 'place', 'daily',\n",
       "       'race_num', 'horse', 'jockey_id', 'horse_N', 'waku_num', 'horse_num',\n",
       "       'class_code', 'track_code', 'corner_num', 'dist', 'state', 'weather',\n",
       "       'age_code', 'sex', 'age', 'basis_weight', 'blinker', 'weight',\n",
       "       'inc_dec', 'weight_code', 'win_odds', 'rank', 'time_diff', 'time',\n",
       "       'corner1_rank', 'corner2_rank', 'corner3_rank', 'corner4_rank',\n",
       "       'last_3F_time', 'last_3F_rank', 'Ave_3F', 'PCI', 'last_3F_time_diff',\n",
       "       'leg', 'pop', 'prize', 'error_code', 'father', 'mother', 'id'],\n",
       "      dtype='object')"
      ]
     },
     "execution_count": 4,
     "metadata": {},
     "output_type": "execute_result"
    }
   ],
   "source": [
    "df.columns"
   ]
  },
  {
   "cell_type": "code",
   "execution_count": 5,
   "id": "ba85ed96",
   "metadata": {},
   "outputs": [
    {
     "name": "stdout",
     "output_type": "stream",
     "text": [
      "<class 'pandas.core.frame.DataFrame'>\n",
      "RangeIndex: 47672 entries, 0 to 47671\n",
      "Data columns (total 47 columns):\n",
      " #   Column             Non-Null Count  Dtype  \n",
      "---  ------             --------------  -----  \n",
      " 0   race_id            47672 non-null  int64  \n",
      " 1   year               47672 non-null  int64  \n",
      " 2   month              47672 non-null  int64  \n",
      " 3   day                47672 non-null  int64  \n",
      " 4   times              47672 non-null  int64  \n",
      " 5   place              47672 non-null  object \n",
      " 6   daily              47672 non-null  object \n",
      " 7   race_num           47672 non-null  int64  \n",
      " 8   horse              47672 non-null  object \n",
      " 9   jockey_id          47672 non-null  int64  \n",
      " 10  horse_N            47672 non-null  int64  \n",
      " 11  waku_num           47672 non-null  int64  \n",
      " 12  horse_num          47672 non-null  int64  \n",
      " 13  class_code         47672 non-null  int64  \n",
      " 14  track_code         47672 non-null  int64  \n",
      " 15  corner_num         46212 non-null  float64\n",
      " 16  dist               47672 non-null  int64  \n",
      " 17  state              47672 non-null  object \n",
      " 18  weather            47672 non-null  object \n",
      " 19  age_code           47672 non-null  int64  \n",
      " 20  sex                47672 non-null  object \n",
      " 21  age                47672 non-null  int64  \n",
      " 22  basis_weight       47672 non-null  float64\n",
      " 23  blinker            5806 non-null   object \n",
      " 24  weight             47593 non-null  float64\n",
      " 25  inc_dec            42834 non-null  float64\n",
      " 26  weight_code        47672 non-null  int64  \n",
      " 27  win_odds           47493 non-null  float64\n",
      " 28  rank               47672 non-null  int64  \n",
      " 29  time_diff          47672 non-null  object \n",
      " 30  time               47672 non-null  float64\n",
      " 31  corner1_rank       47672 non-null  int64  \n",
      " 32  corner2_rank       47672 non-null  int64  \n",
      " 33  corner3_rank       47672 non-null  int64  \n",
      " 34  corner4_rank       47672 non-null  int64  \n",
      " 35  last_3F_time       47274 non-null  float64\n",
      " 36  last_3F_rank       46212 non-null  float64\n",
      " 37  Ave_3F             45903 non-null  float64\n",
      " 38  PCI                45902 non-null  float64\n",
      " 39  last_3F_time_diff  45903 non-null  float64\n",
      " 40  leg                47274 non-null  object \n",
      " 41  pop                47493 non-null  float64\n",
      " 42  prize              47672 non-null  int64  \n",
      " 43  error_code         47672 non-null  int64  \n",
      " 44  father             47672 non-null  object \n",
      " 45  mother             47672 non-null  object \n",
      " 46  id                 47672 non-null  int64  \n",
      "dtypes: float64(12), int64(24), object(11)\n",
      "memory usage: 17.1+ MB\n"
     ]
    }
   ],
   "source": [
    "df.info()"
   ]
  },
  {
   "cell_type": "code",
   "execution_count": 6,
   "id": "de04d5e5",
   "metadata": {},
   "outputs": [
    {
     "name": "stdout",
     "output_type": "stream",
     "text": [
      "race_id: 0\n",
      "year: 0\n",
      "month: 0\n",
      "day: 0\n",
      "times: 0\n",
      "place: 0\n",
      "daily: 0\n",
      "race_num: 0\n",
      "horse: 0\n",
      "jockey_id: 0\n",
      "horse_N: 0\n",
      "waku_num: 0\n",
      "horse_num: 0\n",
      "class_code: 0\n",
      "track_code: 0\n",
      "corner_num: 1460\n",
      "dist: 0\n",
      "state: 0\n",
      "weather: 0\n",
      "age_code: 0\n",
      "sex: 0\n",
      "age: 0\n",
      "basis_weight: 0\n",
      "blinker: 41866\n",
      "weight: 79\n",
      "inc_dec: 4838\n",
      "weight_code: 0\n",
      "win_odds: 179\n",
      "rank: 0\n",
      "time_diff: 0\n",
      "time: 0\n",
      "corner1_rank: 0\n",
      "corner2_rank: 0\n",
      "corner3_rank: 0\n",
      "corner4_rank: 0\n",
      "last_3F_time: 398\n",
      "last_3F_rank: 1460\n",
      "Ave_3F: 1769\n",
      "PCI: 1770\n",
      "last_3F_time_diff: 1769\n",
      "leg: 398\n",
      "pop: 179\n",
      "prize: 0\n",
      "error_code: 0\n",
      "father: 0\n",
      "mother: 0\n",
      "id: 0\n"
     ]
    }
   ],
   "source": [
    "for col in names:\n",
    "    num_of_null = df[col].isna().sum()\n",
    "    print(f\"{col}: {num_of_null}\")"
   ]
  },
  {
   "cell_type": "markdown",
   "id": "8262030f",
   "metadata": {},
   "source": [
    "#### ブリンカーだけ欠損値が多い。"
   ]
  },
  {
   "cell_type": "code",
   "execution_count": 9,
   "id": "14f9f602",
   "metadata": {},
   "outputs": [
    {
     "data": {
      "text/plain": [
       "0        NaN\n",
       "1        NaN\n",
       "2          B\n",
       "3        NaN\n",
       "4        NaN\n",
       "        ... \n",
       "47667    NaN\n",
       "47668    NaN\n",
       "47669    NaN\n",
       "47670    NaN\n",
       "47671    NaN\n",
       "Name: blinker, Length: 47672, dtype: object"
      ]
     },
     "execution_count": 9,
     "metadata": {},
     "output_type": "execute_result"
    }
   ],
   "source": [
    "df.blinker"
   ]
  },
  {
   "cell_type": "code",
   "execution_count": 11,
   "id": "9fc09f62",
   "metadata": {},
   "outputs": [
    {
     "data": {
      "text/html": [
       "<div>\n",
       "<style scoped>\n",
       "    .dataframe tbody tr th:only-of-type {\n",
       "        vertical-align: middle;\n",
       "    }\n",
       "\n",
       "    .dataframe tbody tr th {\n",
       "        vertical-align: top;\n",
       "    }\n",
       "\n",
       "    .dataframe thead th {\n",
       "        text-align: right;\n",
       "    }\n",
       "</style>\n",
       "<table border=\"1\" class=\"dataframe\">\n",
       "  <thead>\n",
       "    <tr style=\"text-align: right;\">\n",
       "      <th></th>\n",
       "      <th>horse</th>\n",
       "      <th>blinker</th>\n",
       "    </tr>\n",
       "  </thead>\n",
       "  <tbody>\n",
       "    <tr>\n",
       "      <th>2</th>\n",
       "      <td>コミックガール</td>\n",
       "      <td>B</td>\n",
       "    </tr>\n",
       "    <tr>\n",
       "      <th>18</th>\n",
       "      <td>エイユーマックス</td>\n",
       "      <td>B</td>\n",
       "    </tr>\n",
       "    <tr>\n",
       "      <th>21</th>\n",
       "      <td>カンパナーダス</td>\n",
       "      <td>B</td>\n",
       "    </tr>\n",
       "    <tr>\n",
       "      <th>24</th>\n",
       "      <td>ロードイモータル</td>\n",
       "      <td>B</td>\n",
       "    </tr>\n",
       "    <tr>\n",
       "      <th>31</th>\n",
       "      <td>レイジングスラスト</td>\n",
       "      <td>B</td>\n",
       "    </tr>\n",
       "    <tr>\n",
       "      <th>39</th>\n",
       "      <td>ルカン</td>\n",
       "      <td>B</td>\n",
       "    </tr>\n",
       "    <tr>\n",
       "      <th>41</th>\n",
       "      <td>スマートヴィーヴル</td>\n",
       "      <td>B</td>\n",
       "    </tr>\n",
       "    <tr>\n",
       "      <th>44</th>\n",
       "      <td>リスノワール</td>\n",
       "      <td>B</td>\n",
       "    </tr>\n",
       "    <tr>\n",
       "      <th>60</th>\n",
       "      <td>ヒルノグラスゴー</td>\n",
       "      <td>B</td>\n",
       "    </tr>\n",
       "    <tr>\n",
       "      <th>72</th>\n",
       "      <td>ハナサキポプラ</td>\n",
       "      <td>B</td>\n",
       "    </tr>\n",
       "  </tbody>\n",
       "</table>\n",
       "</div>"
      ],
      "text/plain": [
       "        horse blinker\n",
       "2     コミックガール       B\n",
       "18   エイユーマックス       B\n",
       "21    カンパナーダス       B\n",
       "24   ロードイモータル       B\n",
       "31  レイジングスラスト       B\n",
       "39        ルカン       B\n",
       "41  スマートヴィーヴル       B\n",
       "44     リスノワール       B\n",
       "60   ヒルノグラスゴー       B\n",
       "72    ハナサキポプラ       B"
      ]
     },
     "execution_count": 11,
     "metadata": {},
     "output_type": "execute_result"
    }
   ],
   "source": [
    "df_blinker = df[df.blinker.isna() == False]\n",
    "df_blinker[[\"horse\", \"blinker\"]].head(10)"
   ]
  },
  {
   "cell_type": "markdown",
   "id": "5258c174",
   "metadata": {},
   "source": [
    "#### ↑の馬を調べてみると、全ての馬がブリンカー付けてた。欠損している馬はブリンカーなし？"
   ]
  },
  {
   "cell_type": "code",
   "execution_count": 12,
   "id": "cd9903dc",
   "metadata": {},
   "outputs": [
    {
     "data": {
      "text/plain": [
       "array(['札幌', '函館', '福島', '新潟', '東京', '中山', '中京', '京都', '阪神', '小倉'],\n",
       "      dtype=object)"
      ]
     },
     "execution_count": 12,
     "metadata": {},
     "output_type": "execute_result"
    }
   ],
   "source": [
    "df.place.unique()"
   ]
  },
  {
   "cell_type": "code",
   "execution_count": 14,
   "id": "da785b0a",
   "metadata": {},
   "outputs": [
    {
     "data": {
      "text/plain": [
       "array([  7,  15,  23,  43,  67, 131, 163, 115, 179, 195])"
      ]
     },
     "execution_count": 14,
     "metadata": {},
     "output_type": "execute_result"
    }
   ],
   "source": [
    "df.class_code.unique()"
   ]
  },
  {
   "cell_type": "code",
   "execution_count": 15,
   "id": "6a3bf225",
   "metadata": {},
   "outputs": [
    {
     "data": {
      "text/plain": [
       "array([17, 24, 54, 56, 23, 11, 10, 12, 52, 18, 55, 21, 57])"
      ]
     },
     "execution_count": 15,
     "metadata": {},
     "output_type": "execute_result"
    }
   ],
   "source": [
    "df.track_code.unique()"
   ]
  },
  {
   "cell_type": "code",
   "execution_count": null,
   "id": "a855d22d",
   "metadata": {},
   "outputs": [
    {
     "data": {
      "text/plain": [
       "array([11, 12, 13, 19, 14, 18])"
      ]
     },
     "execution_count": 16,
     "metadata": {},
     "output_type": "execute_result"
    }
   ],
   "source": [
    "df.age_code.unique() # この競争種別コードは詳細不明らしい。あとで調べる。"
   ]
  },
  {
   "cell_type": "code",
   "execution_count": null,
   "id": "ed8b5500",
   "metadata": {},
   "outputs": [],
   "source": []
  }
 ],
 "metadata": {
  "kernelspec": {
   "display_name": ".env",
   "language": "python",
   "name": "python3"
  },
  "language_info": {
   "codemirror_mode": {
    "name": "ipython",
    "version": 3
   },
   "file_extension": ".py",
   "mimetype": "text/x-python",
   "name": "python",
   "nbconvert_exporter": "python",
   "pygments_lexer": "ipython3",
   "version": "3.11.9"
  }
 },
 "nbformat": 4,
 "nbformat_minor": 5
}
